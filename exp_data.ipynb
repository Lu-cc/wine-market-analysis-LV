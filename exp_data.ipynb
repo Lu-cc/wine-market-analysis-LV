{
 "cells": [
  {
   "cell_type": "code",
   "execution_count": 2,
   "metadata": {},
   "outputs": [],
   "source": [
    "import sqlite3\n",
    "import pandas as pd\n",
    "\n",
    "conn = sqlite3.connect(r'./db/vivino.db')\n",
    "\n",
    "cur = conn.cursor()"
   ]
  },
  {
   "cell_type": "markdown",
   "metadata": {},
   "source": [
    "Exploration"
   ]
  },
  {
   "cell_type": "code",
   "execution_count": 3,
   "metadata": {},
   "outputs": [
    {
     "data": {
      "text/plain": [
       "[('table',\n",
       "  'countries',\n",
       "  'countries',\n",
       "  2,\n",
       "  'CREATE TABLE countries (\\n\\tcode VARCHAR NOT NULL, \\n\\tname VARCHAR, \\n\\tregions_count INTEGER, \\n\\tusers_count INTEGER, \\n\\twines_count INTEGER, \\n\\twineries_count INTEGER, \\n\\tPRIMARY KEY (code)\\n)'),\n",
       " ('table',\n",
       "  'grapes',\n",
       "  'grapes',\n",
       "  4,\n",
       "  'CREATE TABLE grapes (\\n\\tid INTEGER NOT NULL, \\n\\tname VARCHAR, \\n\\tPRIMARY KEY (id)\\n)'),\n",
       " ('table',\n",
       "  'wineries',\n",
       "  'wineries',\n",
       "  5,\n",
       "  'CREATE TABLE wineries (\\n\\tid INTEGER NOT NULL, \\n\\tname VARCHAR, \\n\\tPRIMARY KEY (id)\\n)'),\n",
       " ('table',\n",
       "  'flavor_groups',\n",
       "  'flavor_groups',\n",
       "  6,\n",
       "  'CREATE TABLE flavor_groups (\\n\\tname VARCHAR NOT NULL, \\n\\tPRIMARY KEY (name)\\n)'),\n",
       " ('table',\n",
       "  'keywords',\n",
       "  'keywords',\n",
       "  8,\n",
       "  'CREATE TABLE keywords (\\n\\tid INTEGER NOT NULL, \\n\\tname VARCHAR, \\n\\tPRIMARY KEY (id)\\n)'),\n",
       " ('table',\n",
       "  'regions',\n",
       "  'regions',\n",
       "  9,\n",
       "  'CREATE TABLE regions (\\n\\tid INTEGER NOT NULL, \\n\\tname VARCHAR, \\n\\tcountry_code VARCHAR, \\n\\tPRIMARY KEY (id), \\n\\tFOREIGN KEY(country_code) REFERENCES countries (code)\\n)'),\n",
       " ('table',\n",
       "  'most_used_grapes_per_country',\n",
       "  'most_used_grapes_per_country',\n",
       "  10,\n",
       "  'CREATE TABLE most_used_grapes_per_country (\\n\\tid INTEGER NOT NULL, \\n\\tcountry_code VARCHAR, \\n\\tgrape_id INTEGER, \\n\\twines_count INTEGER, \\n\\tPRIMARY KEY (id), \\n\\tFOREIGN KEY(country_code) REFERENCES countries (code), \\n\\tFOREIGN KEY(grape_id) REFERENCES grapes (id)\\n)'),\n",
       " ('table',\n",
       "  'toplists',\n",
       "  'toplists',\n",
       "  11,\n",
       "  'CREATE TABLE toplists (\\n\\tid INTEGER NOT NULL, \\n\\tname VARCHAR(255) NOT NULL, \\n\\tcountry_code VARCHAR, \\n\\tPRIMARY KEY (id), \\n\\tFOREIGN KEY(country_code) REFERENCES countries (code)\\n)'),\n",
       " ('table',\n",
       "  'wines',\n",
       "  'wines',\n",
       "  12,\n",
       "  'CREATE TABLE wines (\\n\\tid INTEGER NOT NULL, \\n\\tname VARCHAR, \\n\\tis_natural BOOLEAN, \\n\\tregion_id INTEGER, \\n\\twinery_id INTEGER, \\n\\tratings_average FLOAT, \\n\\tratings_count INTEGER, \\n\\turl VARCHAR, \\n\\tacidity FLOAT, \\n\\tfizziness FLOAT, \\n\\tintensity FLOAT, \\n\\tsweetness FLOAT, \\n\\ttannin FLOAT, \\n\\tuser_structure_count INTEGER, \\n\\tPRIMARY KEY (id), \\n\\tFOREIGN KEY(region_id) REFERENCES regions (id), \\n\\tFOREIGN KEY(winery_id) REFERENCES wineries (id)\\n)'),\n",
       " ('table',\n",
       "  'vintages',\n",
       "  'vintages',\n",
       "  13,\n",
       "  'CREATE TABLE vintages (\\n\\tid INTEGER NOT NULL, \\n\\tname VARCHAR, \\n\\twine_id INTEGER, \\n\\tratings_average FLOAT, \\n\\tratings_count INTEGER, \\n\\tyear INTEGER, \\n\\tprice_euros FLOAT, \\n\\tprice_discounted_from FLOAT, \\n\\tprice_discount_percentage FLOAT, \\n\\tbottle_volume_ml INTEGER, \\n\\tPRIMARY KEY (id), \\n\\tFOREIGN KEY(wine_id) REFERENCES wines (id)\\n)'),\n",
       " ('table',\n",
       "  'keywords_wine',\n",
       "  'keywords_wine',\n",
       "  14,\n",
       "  'CREATE TABLE keywords_wine (\\n\\tkeyword_id INTEGER NOT NULL, \\n\\twine_id INTEGER NOT NULL, \\n\\tgroup_name VARCHAR NOT NULL, \\n\\tkeyword_type VARCHAR, \\n\\tcount INTEGER, \\n\\tPRIMARY KEY (keyword_id, wine_id, group_name), \\n\\tFOREIGN KEY(keyword_id) REFERENCES keywords (id), \\n\\tFOREIGN KEY(wine_id) REFERENCES wines (id)\\n)'),\n",
       " ('table',\n",
       "  'vintage_toplists_rankings',\n",
       "  'vintage_toplists_rankings',\n",
       "  16,\n",
       "  'CREATE TABLE vintage_toplists_rankings (\\n\\tid INTEGER NOT NULL, \\n\\ttop_list_id INTEGER, \\n\\tvintage_id INTEGER, \\n\\trank INTEGER, \\n\\tprevious_rank INTEGER, \\n\\tPRIMARY KEY (id), \\n\\tFOREIGN KEY(top_list_id) REFERENCES toplists (id), \\n\\tFOREIGN KEY(vintage_id) REFERENCES vintages (id)\\n)')]"
      ]
     },
     "execution_count": 3,
     "metadata": {},
     "output_type": "execute_result"
    }
   ],
   "source": [
    "cur.execute(\"\"\"\n",
    "            SELECT * FROM sqlite_master WHERE type='table';\n",
    "            \"\"\" )\n",
    "\n",
    "cur.fetchall()"
   ]
  },
  {
   "cell_type": "code",
   "execution_count": 4,
   "metadata": {},
   "outputs": [
    {
     "data": {
      "text/plain": [
       "[('Italie',),\n",
       " ('France',),\n",
       " ('États-Unis',),\n",
       " ('Espagne',),\n",
       " ('Portugal',),\n",
       " ('Australie',),\n",
       " ('Hongrie',),\n",
       " ('Afrique du Sud',),\n",
       " ('Allemagne',),\n",
       " ('Chili',),\n",
       " ('Moldavie',),\n",
       " ('Argentine',),\n",
       " ('Grèce',),\n",
       " ('Israël',),\n",
       " ('Roumanie',),\n",
       " ('Croatie',),\n",
       " ('Suisse',)]"
      ]
     },
     "execution_count": 4,
     "metadata": {},
     "output_type": "execute_result"
    }
   ],
   "source": [
    "cur.execute(\n",
    "    \"\"\"SELECT DISTINCT name \n",
    "    FROM countries\"\"\"\n",
    ")\n",
    "\n",
    "cur.fetchall()"
   ]
  },
  {
   "cell_type": "markdown",
   "metadata": {},
   "source": [
    "WINES WITH THE HIGHEST RANKING"
   ]
  },
  {
   "cell_type": "code",
   "execution_count": 5,
   "metadata": {},
   "outputs": [
    {
     "data": {
      "text/html": [
       "<div>\n",
       "<style scoped>\n",
       "    .dataframe tbody tr th:only-of-type {\n",
       "        vertical-align: middle;\n",
       "    }\n",
       "\n",
       "    .dataframe tbody tr th {\n",
       "        vertical-align: top;\n",
       "    }\n",
       "\n",
       "    .dataframe thead th {\n",
       "        text-align: right;\n",
       "    }\n",
       "</style>\n",
       "<table border=\"1\" class=\"dataframe\">\n",
       "  <thead>\n",
       "    <tr style=\"text-align: right;\">\n",
       "      <th></th>\n",
       "      <th>id</th>\n",
       "      <th>name</th>\n",
       "      <th>is_natural</th>\n",
       "      <th>region_id</th>\n",
       "      <th>winery_id</th>\n",
       "      <th>ratings_average</th>\n",
       "      <th>ratings_count</th>\n",
       "      <th>url</th>\n",
       "      <th>acidity</th>\n",
       "      <th>fizziness</th>\n",
       "      <th>intensity</th>\n",
       "      <th>sweetness</th>\n",
       "      <th>tannin</th>\n",
       "      <th>user_structure_count</th>\n",
       "    </tr>\n",
       "  </thead>\n",
       "  <tbody>\n",
       "    <tr>\n",
       "      <th>0</th>\n",
       "      <td>1213</td>\n",
       "      <td>Vin Santo di Montepulciano</td>\n",
       "      <td>0</td>\n",
       "      <td>2693</td>\n",
       "      <td>1574</td>\n",
       "      <td>4.6</td>\n",
       "      <td>773</td>\n",
       "      <td>https://www.seulementproduitsitaliens.be/spec_...</td>\n",
       "      <td>4.492628</td>\n",
       "      <td>NaN</td>\n",
       "      <td>3.992133</td>\n",
       "      <td>4.952543</td>\n",
       "      <td>NaN</td>\n",
       "      <td>0.0</td>\n",
       "    </tr>\n",
       "    <tr>\n",
       "      <th>1</th>\n",
       "      <td>1268</td>\n",
       "      <td>St. Henri Shiraz</td>\n",
       "      <td>0</td>\n",
       "      <td>7</td>\n",
       "      <td>1305</td>\n",
       "      <td>4.4</td>\n",
       "      <td>17326</td>\n",
       "      <td>https://www.wijnig.nl/penfolds-st-henri-shiraz...</td>\n",
       "      <td>3.015245</td>\n",
       "      <td>NaN</td>\n",
       "      <td>4.612774</td>\n",
       "      <td>2.092192</td>\n",
       "      <td>3.103089</td>\n",
       "      <td>1309.0</td>\n",
       "    </tr>\n",
       "    <tr>\n",
       "      <th>2</th>\n",
       "      <td>1471</td>\n",
       "      <td>Siepi</td>\n",
       "      <td>0</td>\n",
       "      <td>394</td>\n",
       "      <td>1620</td>\n",
       "      <td>4.4</td>\n",
       "      <td>8129</td>\n",
       "      <td>https://www.topwijnen.be/nl/product/wijnen/ita...</td>\n",
       "      <td>3.156144</td>\n",
       "      <td>NaN</td>\n",
       "      <td>3.491866</td>\n",
       "      <td>1.807986</td>\n",
       "      <td>2.985634</td>\n",
       "      <td>755.0</td>\n",
       "    </tr>\n",
       "    <tr>\n",
       "      <th>3</th>\n",
       "      <td>1647</td>\n",
       "      <td>Solare Toscana</td>\n",
       "      <td>0</td>\n",
       "      <td>394</td>\n",
       "      <td>4772</td>\n",
       "      <td>4.2</td>\n",
       "      <td>4961</td>\n",
       "      <td>https://www.seulementproduitsitaliens.be/spec_...</td>\n",
       "      <td>3.158376</td>\n",
       "      <td>NaN</td>\n",
       "      <td>3.321616</td>\n",
       "      <td>1.701897</td>\n",
       "      <td>3.038064</td>\n",
       "      <td>485.0</td>\n",
       "    </tr>\n",
       "    <tr>\n",
       "      <th>4</th>\n",
       "      <td>1651</td>\n",
       "      <td>Tenuta Tignanello 'Solaia'</td>\n",
       "      <td>0</td>\n",
       "      <td>394</td>\n",
       "      <td>1252</td>\n",
       "      <td>4.6</td>\n",
       "      <td>33143</td>\n",
       "      <td>http://www.vivino.com/wines/159347388</td>\n",
       "      <td>3.064164</td>\n",
       "      <td>NaN</td>\n",
       "      <td>3.450713</td>\n",
       "      <td>1.888549</td>\n",
       "      <td>2.970583</td>\n",
       "      <td>2131.0</td>\n",
       "    </tr>\n",
       "    <tr>\n",
       "      <th>...</th>\n",
       "      <td>...</td>\n",
       "      <td>...</td>\n",
       "      <td>...</td>\n",
       "      <td>...</td>\n",
       "      <td>...</td>\n",
       "      <td>...</td>\n",
       "      <td>...</td>\n",
       "      <td>...</td>\n",
       "      <td>...</td>\n",
       "      <td>...</td>\n",
       "      <td>...</td>\n",
       "      <td>...</td>\n",
       "      <td>...</td>\n",
       "      <td>...</td>\n",
       "    </tr>\n",
       "    <tr>\n",
       "      <th>1015</th>\n",
       "      <td>10203724</td>\n",
       "      <td>Elevage Branco</td>\n",
       "      <td>0</td>\n",
       "      <td>1395</td>\n",
       "      <td>32935</td>\n",
       "      <td>4.5</td>\n",
       "      <td>53</td>\n",
       "      <td>https://www.grandcruwijnen.nl/2021-herdade-do-...</td>\n",
       "      <td>2.396842</td>\n",
       "      <td>NaN</td>\n",
       "      <td>2.889368</td>\n",
       "      <td>1.307053</td>\n",
       "      <td>NaN</td>\n",
       "      <td>10.0</td>\n",
       "    </tr>\n",
       "    <tr>\n",
       "      <th>1016</th>\n",
       "      <td>10266383</td>\n",
       "      <td>Moss Blanc Verdicchio dei Castelli di Jesi Cla...</td>\n",
       "      <td>0</td>\n",
       "      <td>2660</td>\n",
       "      <td>8194</td>\n",
       "      <td>4.6</td>\n",
       "      <td>94</td>\n",
       "      <td>https://www.vinio.nl/products/azienda-santa-ba...</td>\n",
       "      <td>3.785753</td>\n",
       "      <td>NaN</td>\n",
       "      <td>3.740137</td>\n",
       "      <td>2.024110</td>\n",
       "      <td>NaN</td>\n",
       "      <td>5.0</td>\n",
       "    </tr>\n",
       "    <tr>\n",
       "      <th>1017</th>\n",
       "      <td>10746470</td>\n",
       "      <td>Academia Purcari Rară Neagră</td>\n",
       "      <td>0</td>\n",
       "      <td>1124</td>\n",
       "      <td>9534</td>\n",
       "      <td>4.5</td>\n",
       "      <td>73</td>\n",
       "      <td>https://tezauro.myshopify.com/products/academi...</td>\n",
       "      <td>NaN</td>\n",
       "      <td>NaN</td>\n",
       "      <td>NaN</td>\n",
       "      <td>NaN</td>\n",
       "      <td>NaN</td>\n",
       "      <td>NaN</td>\n",
       "    </tr>\n",
       "    <tr>\n",
       "      <th>1018</th>\n",
       "      <td>10773117</td>\n",
       "      <td>Paralupi Appassimento</td>\n",
       "      <td>0</td>\n",
       "      <td>548</td>\n",
       "      <td>12590</td>\n",
       "      <td>4.4</td>\n",
       "      <td>575</td>\n",
       "      <td>https://www.seulementproduitsitaliens.be/vino/...</td>\n",
       "      <td>2.140114</td>\n",
       "      <td>NaN</td>\n",
       "      <td>4.730000</td>\n",
       "      <td>2.884680</td>\n",
       "      <td>2.606918</td>\n",
       "      <td>47.0</td>\n",
       "    </tr>\n",
       "    <tr>\n",
       "      <th>1019</th>\n",
       "      <td>11339017</td>\n",
       "      <td>Collection Fût de Chêne Brut Champagne Grand C...</td>\n",
       "      <td>0</td>\n",
       "      <td>4621</td>\n",
       "      <td>4333</td>\n",
       "      <td>4.5</td>\n",
       "      <td>58</td>\n",
       "      <td>https://hermanwines.com/products/ay-gc-fut-de-...</td>\n",
       "      <td>4.537529</td>\n",
       "      <td>4.382784</td>\n",
       "      <td>4.083764</td>\n",
       "      <td>NaN</td>\n",
       "      <td>NaN</td>\n",
       "      <td>10.0</td>\n",
       "    </tr>\n",
       "  </tbody>\n",
       "</table>\n",
       "<p>1020 rows × 14 columns</p>\n",
       "</div>"
      ],
      "text/plain": [
       "            id                                               name  is_natural  \\\n",
       "0         1213                         Vin Santo di Montepulciano           0   \n",
       "1         1268                                   St. Henri Shiraz           0   \n",
       "2         1471                                              Siepi           0   \n",
       "3         1647                                     Solare Toscana           0   \n",
       "4         1651                         Tenuta Tignanello 'Solaia'           0   \n",
       "...        ...                                                ...         ...   \n",
       "1015  10203724                                     Elevage Branco           0   \n",
       "1016  10266383  Moss Blanc Verdicchio dei Castelli di Jesi Cla...           0   \n",
       "1017  10746470                       Academia Purcari Rară Neagră           0   \n",
       "1018  10773117                              Paralupi Appassimento           0   \n",
       "1019  11339017  Collection Fût de Chêne Brut Champagne Grand C...           0   \n",
       "\n",
       "      region_id  winery_id  ratings_average  ratings_count  \\\n",
       "0          2693       1574              4.6            773   \n",
       "1             7       1305              4.4          17326   \n",
       "2           394       1620              4.4           8129   \n",
       "3           394       4772              4.2           4961   \n",
       "4           394       1252              4.6          33143   \n",
       "...         ...        ...              ...            ...   \n",
       "1015       1395      32935              4.5             53   \n",
       "1016       2660       8194              4.6             94   \n",
       "1017       1124       9534              4.5             73   \n",
       "1018        548      12590              4.4            575   \n",
       "1019       4621       4333              4.5             58   \n",
       "\n",
       "                                                    url   acidity  fizziness  \\\n",
       "0     https://www.seulementproduitsitaliens.be/spec_...  4.492628        NaN   \n",
       "1     https://www.wijnig.nl/penfolds-st-henri-shiraz...  3.015245        NaN   \n",
       "2     https://www.topwijnen.be/nl/product/wijnen/ita...  3.156144        NaN   \n",
       "3     https://www.seulementproduitsitaliens.be/spec_...  3.158376        NaN   \n",
       "4                 http://www.vivino.com/wines/159347388  3.064164        NaN   \n",
       "...                                                 ...       ...        ...   \n",
       "1015  https://www.grandcruwijnen.nl/2021-herdade-do-...  2.396842        NaN   \n",
       "1016  https://www.vinio.nl/products/azienda-santa-ba...  3.785753        NaN   \n",
       "1017  https://tezauro.myshopify.com/products/academi...       NaN        NaN   \n",
       "1018  https://www.seulementproduitsitaliens.be/vino/...  2.140114        NaN   \n",
       "1019  https://hermanwines.com/products/ay-gc-fut-de-...  4.537529   4.382784   \n",
       "\n",
       "      intensity  sweetness    tannin  user_structure_count  \n",
       "0      3.992133   4.952543       NaN                   0.0  \n",
       "1      4.612774   2.092192  3.103089                1309.0  \n",
       "2      3.491866   1.807986  2.985634                 755.0  \n",
       "3      3.321616   1.701897  3.038064                 485.0  \n",
       "4      3.450713   1.888549  2.970583                2131.0  \n",
       "...         ...        ...       ...                   ...  \n",
       "1015   2.889368   1.307053       NaN                  10.0  \n",
       "1016   3.740137   2.024110       NaN                   5.0  \n",
       "1017        NaN        NaN       NaN                   NaN  \n",
       "1018   4.730000   2.884680  2.606918                  47.0  \n",
       "1019   4.083764        NaN       NaN                  10.0  \n",
       "\n",
       "[1020 rows x 14 columns]"
      ]
     },
     "execution_count": 5,
     "metadata": {},
     "output_type": "execute_result"
    }
   ],
   "source": [
    "\n",
    "query_wines = \"\"\"\n",
    "    SELECT * FROM wines\n",
    "    \"\"\"\n",
    "\n",
    "wines_df = pd.read_sql_query(query_wines, conn)\n",
    "\n",
    "wines_df \n"
   ]
  },
  {
   "cell_type": "code",
   "execution_count": 6,
   "metadata": {},
   "outputs": [
    {
     "data": {
      "text/html": [
       "<div>\n",
       "<style scoped>\n",
       "    .dataframe tbody tr th:only-of-type {\n",
       "        vertical-align: middle;\n",
       "    }\n",
       "\n",
       "    .dataframe tbody tr th {\n",
       "        vertical-align: top;\n",
       "    }\n",
       "\n",
       "    .dataframe thead th {\n",
       "        text-align: right;\n",
       "    }\n",
       "</style>\n",
       "<table border=\"1\" class=\"dataframe\">\n",
       "  <thead>\n",
       "    <tr style=\"text-align: right;\">\n",
       "      <th></th>\n",
       "      <th>id</th>\n",
       "      <th>name</th>\n",
       "      <th>wine_id</th>\n",
       "      <th>ratings_average</th>\n",
       "      <th>ratings_count</th>\n",
       "      <th>year</th>\n",
       "      <th>price_euros</th>\n",
       "      <th>price_discounted_from</th>\n",
       "      <th>price_discount_percentage</th>\n",
       "      <th>bottle_volume_ml</th>\n",
       "    </tr>\n",
       "  </thead>\n",
       "  <tbody>\n",
       "    <tr>\n",
       "      <th>0</th>\n",
       "      <td>2036</td>\n",
       "      <td>Mazzei Siepi 2005</td>\n",
       "      <td>1471</td>\n",
       "      <td>4.4</td>\n",
       "      <td>580</td>\n",
       "      <td>2005</td>\n",
       "      <td>168.750000</td>\n",
       "      <td>NaN</td>\n",
       "      <td>NaN</td>\n",
       "      <td>750</td>\n",
       "    </tr>\n",
       "    <tr>\n",
       "      <th>1</th>\n",
       "      <td>2202</td>\n",
       "      <td>Antinori Tignanello 2005</td>\n",
       "      <td>1652</td>\n",
       "      <td>4.5</td>\n",
       "      <td>1933</td>\n",
       "      <td>2005</td>\n",
       "      <td>750.000000</td>\n",
       "      <td>NaN</td>\n",
       "      <td>NaN</td>\n",
       "      <td>1500</td>\n",
       "    </tr>\n",
       "    <tr>\n",
       "      <th>2</th>\n",
       "      <td>10343</td>\n",
       "      <td>Casanova di Neri Tenuta Nuova Brunello di Mont...</td>\n",
       "      <td>9712</td>\n",
       "      <td>4.5</td>\n",
       "      <td>611</td>\n",
       "      <td>2001</td>\n",
       "      <td>420.000000</td>\n",
       "      <td>NaN</td>\n",
       "      <td>NaN</td>\n",
       "      <td>750</td>\n",
       "    </tr>\n",
       "    <tr>\n",
       "      <th>3</th>\n",
       "      <td>10786</td>\n",
       "      <td>Poggio Antico Altero Brunello di Montalcino 2006</td>\n",
       "      <td>10152</td>\n",
       "      <td>4.5</td>\n",
       "      <td>236</td>\n",
       "      <td>2006</td>\n",
       "      <td>121.250000</td>\n",
       "      <td>NaN</td>\n",
       "      <td>NaN</td>\n",
       "      <td>750</td>\n",
       "    </tr>\n",
       "    <tr>\n",
       "      <th>4</th>\n",
       "      <td>10809</td>\n",
       "      <td>Château Angelus Saint-Émilion Grand Cru (Premi...</td>\n",
       "      <td>10175</td>\n",
       "      <td>4.5</td>\n",
       "      <td>876</td>\n",
       "      <td>2007</td>\n",
       "      <td>726.250000</td>\n",
       "      <td>NaN</td>\n",
       "      <td>NaN</td>\n",
       "      <td>750</td>\n",
       "    </tr>\n",
       "    <tr>\n",
       "      <th>...</th>\n",
       "      <td>...</td>\n",
       "      <td>...</td>\n",
       "      <td>...</td>\n",
       "      <td>...</td>\n",
       "      <td>...</td>\n",
       "      <td>...</td>\n",
       "      <td>...</td>\n",
       "      <td>...</td>\n",
       "      <td>...</td>\n",
       "      <td>...</td>\n",
       "    </tr>\n",
       "    <tr>\n",
       "      <th>2045</th>\n",
       "      <td>173167924</td>\n",
       "      <td>Capichera VT Vendemmia Tardiva 2021</td>\n",
       "      <td>2486585</td>\n",
       "      <td>0.0</td>\n",
       "      <td>1</td>\n",
       "      <td>2021</td>\n",
       "      <td>74.000000</td>\n",
       "      <td>NaN</td>\n",
       "      <td>NaN</td>\n",
       "      <td>750</td>\n",
       "    </tr>\n",
       "    <tr>\n",
       "      <th>2046</th>\n",
       "      <td>173338092</td>\n",
       "      <td>Martin Waßmer Castellberg Pinot Noir 2020</td>\n",
       "      <td>3094569</td>\n",
       "      <td>0.0</td>\n",
       "      <td>6</td>\n",
       "      <td>2020</td>\n",
       "      <td>73.000000</td>\n",
       "      <td>NaN</td>\n",
       "      <td>NaN</td>\n",
       "      <td>750</td>\n",
       "    </tr>\n",
       "    <tr>\n",
       "      <th>2047</th>\n",
       "      <td>173555750</td>\n",
       "      <td>Anselmet Semel Pater 2021</td>\n",
       "      <td>3596240</td>\n",
       "      <td>0.0</td>\n",
       "      <td>10</td>\n",
       "      <td>2021</td>\n",
       "      <td>68.000000</td>\n",
       "      <td>NaN</td>\n",
       "      <td>NaN</td>\n",
       "      <td>750</td>\n",
       "    </tr>\n",
       "    <tr>\n",
       "      <th>2048</th>\n",
       "      <td>173849199</td>\n",
       "      <td>Henri Giraud Collection Fût de Chêne Brut Cham...</td>\n",
       "      <td>11339017</td>\n",
       "      <td>0.0</td>\n",
       "      <td>4</td>\n",
       "      <td>1998</td>\n",
       "      <td>895.400000</td>\n",
       "      <td>NaN</td>\n",
       "      <td>NaN</td>\n",
       "      <td>750</td>\n",
       "    </tr>\n",
       "    <tr>\n",
       "      <th>2049</th>\n",
       "      <td>174831153</td>\n",
       "      <td>Nic Tartaglia Trebbiano d'Abruzzo 2022</td>\n",
       "      <td>5294192</td>\n",
       "      <td>0.0</td>\n",
       "      <td>6</td>\n",
       "      <td>2022</td>\n",
       "      <td>13.333333</td>\n",
       "      <td>NaN</td>\n",
       "      <td>NaN</td>\n",
       "      <td>750</td>\n",
       "    </tr>\n",
       "  </tbody>\n",
       "</table>\n",
       "<p>2050 rows × 10 columns</p>\n",
       "</div>"
      ],
      "text/plain": [
       "             id                                               name   wine_id  \\\n",
       "0          2036                                  Mazzei Siepi 2005      1471   \n",
       "1          2202                           Antinori Tignanello 2005      1652   \n",
       "2         10343  Casanova di Neri Tenuta Nuova Brunello di Mont...      9712   \n",
       "3         10786   Poggio Antico Altero Brunello di Montalcino 2006     10152   \n",
       "4         10809  Château Angelus Saint-Émilion Grand Cru (Premi...     10175   \n",
       "...         ...                                                ...       ...   \n",
       "2045  173167924                Capichera VT Vendemmia Tardiva 2021   2486585   \n",
       "2046  173338092          Martin Waßmer Castellberg Pinot Noir 2020   3094569   \n",
       "2047  173555750                          Anselmet Semel Pater 2021   3596240   \n",
       "2048  173849199  Henri Giraud Collection Fût de Chêne Brut Cham...  11339017   \n",
       "2049  174831153             Nic Tartaglia Trebbiano d'Abruzzo 2022   5294192   \n",
       "\n",
       "      ratings_average  ratings_count  year  price_euros  \\\n",
       "0                 4.4            580  2005   168.750000   \n",
       "1                 4.5           1933  2005   750.000000   \n",
       "2                 4.5            611  2001   420.000000   \n",
       "3                 4.5            236  2006   121.250000   \n",
       "4                 4.5            876  2007   726.250000   \n",
       "...               ...            ...   ...          ...   \n",
       "2045              0.0              1  2021    74.000000   \n",
       "2046              0.0              6  2020    73.000000   \n",
       "2047              0.0             10  2021    68.000000   \n",
       "2048              0.0              4  1998   895.400000   \n",
       "2049              0.0              6  2022    13.333333   \n",
       "\n",
       "      price_discounted_from  price_discount_percentage  bottle_volume_ml  \n",
       "0                       NaN                        NaN               750  \n",
       "1                       NaN                        NaN              1500  \n",
       "2                       NaN                        NaN               750  \n",
       "3                       NaN                        NaN               750  \n",
       "4                       NaN                        NaN               750  \n",
       "...                     ...                        ...               ...  \n",
       "2045                    NaN                        NaN               750  \n",
       "2046                    NaN                        NaN               750  \n",
       "2047                    NaN                        NaN               750  \n",
       "2048                    NaN                        NaN               750  \n",
       "2049                    NaN                        NaN               750  \n",
       "\n",
       "[2050 rows x 10 columns]"
      ]
     },
     "execution_count": 6,
     "metadata": {},
     "output_type": "execute_result"
    }
   ],
   "source": [
    "query_vintages = \"SELECT * FROM vintages\"\n",
    "\n",
    "vintages_df = pd.read_sql_query(query_vintages, conn)\n",
    "vintages_df"
   ]
  },
  {
   "cell_type": "code",
   "execution_count": 7,
   "metadata": {},
   "outputs": [
    {
     "data": {
      "text/html": [
       "<div>\n",
       "<style scoped>\n",
       "    .dataframe tbody tr th:only-of-type {\n",
       "        vertical-align: middle;\n",
       "    }\n",
       "\n",
       "    .dataframe tbody tr th {\n",
       "        vertical-align: top;\n",
       "    }\n",
       "\n",
       "    .dataframe thead th {\n",
       "        text-align: right;\n",
       "    }\n",
       "</style>\n",
       "<table border=\"1\" class=\"dataframe\">\n",
       "  <thead>\n",
       "    <tr style=\"text-align: right;\">\n",
       "      <th></th>\n",
       "      <th>name</th>\n",
       "      <th>ratings_average</th>\n",
       "      <th>ratings_count</th>\n",
       "      <th>year</th>\n",
       "      <th>price_euros</th>\n",
       "      <th>bottle_volume_ml</th>\n",
       "    </tr>\n",
       "  </thead>\n",
       "  <tbody>\n",
       "    <tr>\n",
       "      <th>0</th>\n",
       "      <td>Louis Roederer Cristal Brut Champagne (Millési...</td>\n",
       "      <td>4.7</td>\n",
       "      <td>3475</td>\n",
       "      <td>2002</td>\n",
       "      <td>896.25</td>\n",
       "      <td>750</td>\n",
       "    </tr>\n",
       "    <tr>\n",
       "      <th>1</th>\n",
       "      <td>Tenuta San Guido Sassicaia 1997</td>\n",
       "      <td>4.7</td>\n",
       "      <td>1533</td>\n",
       "      <td>1997</td>\n",
       "      <td>747.50</td>\n",
       "      <td>750</td>\n",
       "    </tr>\n",
       "    <tr>\n",
       "      <th>2</th>\n",
       "      <td>Antinori Tenuta Tignanello 'Solaia' 2007</td>\n",
       "      <td>4.7</td>\n",
       "      <td>1564</td>\n",
       "      <td>2007</td>\n",
       "      <td>668.75</td>\n",
       "      <td>750</td>\n",
       "    </tr>\n",
       "    <tr>\n",
       "      <th>3</th>\n",
       "      <td>Dal Forno Romano Amarone della Valpolicella Mo...</td>\n",
       "      <td>4.7</td>\n",
       "      <td>1269</td>\n",
       "      <td>2006</td>\n",
       "      <td>616.25</td>\n",
       "      <td>750</td>\n",
       "    </tr>\n",
       "    <tr>\n",
       "      <th>4</th>\n",
       "      <td>Antinori Tenuta Tignanello 'Solaia' 2009</td>\n",
       "      <td>4.7</td>\n",
       "      <td>2186</td>\n",
       "      <td>2009</td>\n",
       "      <td>705.00</td>\n",
       "      <td>750</td>\n",
       "    </tr>\n",
       "    <tr>\n",
       "      <th>5</th>\n",
       "      <td>Château Pontet-Canet Pauillac (Grand Cru Class...</td>\n",
       "      <td>4.7</td>\n",
       "      <td>3275</td>\n",
       "      <td>2009</td>\n",
       "      <td>597.50</td>\n",
       "      <td>750</td>\n",
       "    </tr>\n",
       "    <tr>\n",
       "      <th>6</th>\n",
       "      <td>Château d'Yquem Sauternes 2005</td>\n",
       "      <td>4.7</td>\n",
       "      <td>1858</td>\n",
       "      <td>2005</td>\n",
       "      <td>928.30</td>\n",
       "      <td>750</td>\n",
       "    </tr>\n",
       "    <tr>\n",
       "      <th>7</th>\n",
       "      <td>Ornellaia Bolgheri Superiore 2005</td>\n",
       "      <td>4.7</td>\n",
       "      <td>1326</td>\n",
       "      <td>2005</td>\n",
       "      <td>425.00</td>\n",
       "      <td>750</td>\n",
       "    </tr>\n",
       "    <tr>\n",
       "      <th>8</th>\n",
       "      <td>Ornellaia Bolgheri Superiore 2007</td>\n",
       "      <td>4.7</td>\n",
       "      <td>2181</td>\n",
       "      <td>2007</td>\n",
       "      <td>533.75</td>\n",
       "      <td>750</td>\n",
       "    </tr>\n",
       "    <tr>\n",
       "      <th>9</th>\n",
       "      <td>Château d'Yquem Sauternes 2006</td>\n",
       "      <td>4.7</td>\n",
       "      <td>1002</td>\n",
       "      <td>2006</td>\n",
       "      <td>595.00</td>\n",
       "      <td>750</td>\n",
       "    </tr>\n",
       "  </tbody>\n",
       "</table>\n",
       "</div>"
      ],
      "text/plain": [
       "                                                name  ratings_average  \\\n",
       "0  Louis Roederer Cristal Brut Champagne (Millési...              4.7   \n",
       "1                    Tenuta San Guido Sassicaia 1997              4.7   \n",
       "2           Antinori Tenuta Tignanello 'Solaia' 2007              4.7   \n",
       "3  Dal Forno Romano Amarone della Valpolicella Mo...              4.7   \n",
       "4           Antinori Tenuta Tignanello 'Solaia' 2009              4.7   \n",
       "5  Château Pontet-Canet Pauillac (Grand Cru Class...              4.7   \n",
       "6                     Château d'Yquem Sauternes 2005              4.7   \n",
       "7                  Ornellaia Bolgheri Superiore 2005              4.7   \n",
       "8                  Ornellaia Bolgheri Superiore 2007              4.7   \n",
       "9                     Château d'Yquem Sauternes 2006              4.7   \n",
       "\n",
       "   ratings_count  year  price_euros  bottle_volume_ml  \n",
       "0           3475  2002       896.25               750  \n",
       "1           1533  1997       747.50               750  \n",
       "2           1564  2007       668.75               750  \n",
       "3           1269  2006       616.25               750  \n",
       "4           2186  2009       705.00               750  \n",
       "5           3275  2009       597.50               750  \n",
       "6           1858  2005       928.30               750  \n",
       "7           1326  2005       425.00               750  \n",
       "8           2181  2007       533.75               750  \n",
       "9           1002  2006       595.00               750  "
      ]
     },
     "execution_count": 7,
     "metadata": {},
     "output_type": "execute_result"
    }
   ],
   "source": [
    "query_top_vintages = \"\"\"SELECT name, ratings_average, ratings_count, year, price_euros, bottle_volume_ml FROM vintages\n",
    "WHERE ratings_count > 1000\n",
    "AND price_euros BETWEEN 0 AND 1000\n",
    "ORDER BY ratings_average DESC\n",
    "LIMIT 10\"\"\"\n",
    "\n",
    "top_vintages_df = pd.read_sql_query(query_top_vintages, conn)\n",
    "top_vintages_df"
   ]
  },
  {
   "cell_type": "code",
   "execution_count": 99,
   "metadata": {},
   "outputs": [
    {
     "ename": "DatabaseError",
     "evalue": "Execution failed on sql 'SELECT wines.name AS name_of_wine, vintages.name, wines.ratings_average, vintages.price_euros, vintages.year FROM wines\nJOIN vintages ON vintages.wine_id = wines.id\nWHERE wines.ratings_count > 1000\nWHERE wines.name = 'Cabernet Sauvignon'\nORDER BY vintages.ratings_average DESC\n;\n': near \"WHERE\": syntax error",
     "output_type": "error",
     "traceback": [
      "\u001b[1;31m---------------------------------------------------------------------------\u001b[0m",
      "\u001b[1;31mOperationalError\u001b[0m                          Traceback (most recent call last)",
      "File \u001b[1;32mc:\\Users\\lucav\\Documents\\BeCode\\wine-market-analysis-LV\\venv\\Lib\\site-packages\\pandas\\io\\sql.py:2672\u001b[0m, in \u001b[0;36mSQLiteDatabase.execute\u001b[1;34m(self, sql, params)\u001b[0m\n\u001b[0;32m   2671\u001b[0m \u001b[38;5;28;01mtry\u001b[39;00m:\n\u001b[1;32m-> 2672\u001b[0m     \u001b[43mcur\u001b[49m\u001b[38;5;241;43m.\u001b[39;49m\u001b[43mexecute\u001b[49m\u001b[43m(\u001b[49m\u001b[43msql\u001b[49m\u001b[43m,\u001b[49m\u001b[43m \u001b[49m\u001b[38;5;241;43m*\u001b[39;49m\u001b[43margs\u001b[49m\u001b[43m)\u001b[49m\n\u001b[0;32m   2673\u001b[0m     \u001b[38;5;28;01mreturn\u001b[39;00m cur\n",
      "\u001b[1;31mOperationalError\u001b[0m: near \"WHERE\": syntax error",
      "\nThe above exception was the direct cause of the following exception:\n",
      "\u001b[1;31mDatabaseError\u001b[0m                             Traceback (most recent call last)",
      "Cell \u001b[1;32mIn[99], line 9\u001b[0m\n\u001b[0;32m      1\u001b[0m query_wines \u001b[38;5;241m=\u001b[39m\u001b[38;5;124m\"\"\"\u001b[39m\u001b[38;5;124mSELECT wines.name AS name_of_wine, vintages.name, wines.ratings_average, vintages.price_euros, vintages.year FROM wines\u001b[39m\n\u001b[0;32m      2\u001b[0m \u001b[38;5;124mJOIN vintages ON vintages.wine_id = wines.id\u001b[39m\n\u001b[0;32m      3\u001b[0m \u001b[38;5;124mWHERE wines.ratings_count > 1000\u001b[39m\n\u001b[1;32m   (...)\u001b[0m\n\u001b[0;32m      6\u001b[0m \u001b[38;5;124m;\u001b[39m\n\u001b[0;32m      7\u001b[0m \u001b[38;5;124m\"\"\"\u001b[39m\n\u001b[1;32m----> 9\u001b[0m wines_df \u001b[38;5;241m=\u001b[39m \u001b[43mpd\u001b[49m\u001b[38;5;241;43m.\u001b[39;49m\u001b[43mread_sql_query\u001b[49m\u001b[43m(\u001b[49m\u001b[43mquery_wines\u001b[49m\u001b[43m,\u001b[49m\u001b[43m \u001b[49m\u001b[43mconn\u001b[49m\u001b[43m)\u001b[49m\n\u001b[0;32m     10\u001b[0m wines_df\n",
      "File \u001b[1;32mc:\\Users\\lucav\\Documents\\BeCode\\wine-market-analysis-LV\\venv\\Lib\\site-packages\\pandas\\io\\sql.py:526\u001b[0m, in \u001b[0;36mread_sql_query\u001b[1;34m(sql, con, index_col, coerce_float, params, parse_dates, chunksize, dtype, dtype_backend)\u001b[0m\n\u001b[0;32m    523\u001b[0m \u001b[38;5;28;01massert\u001b[39;00m dtype_backend \u001b[38;5;129;01mis\u001b[39;00m \u001b[38;5;129;01mnot\u001b[39;00m lib\u001b[38;5;241m.\u001b[39mno_default\n\u001b[0;32m    525\u001b[0m \u001b[38;5;28;01mwith\u001b[39;00m pandasSQL_builder(con) \u001b[38;5;28;01mas\u001b[39;00m pandas_sql:\n\u001b[1;32m--> 526\u001b[0m     \u001b[38;5;28;01mreturn\u001b[39;00m \u001b[43mpandas_sql\u001b[49m\u001b[38;5;241;43m.\u001b[39;49m\u001b[43mread_query\u001b[49m\u001b[43m(\u001b[49m\n\u001b[0;32m    527\u001b[0m \u001b[43m        \u001b[49m\u001b[43msql\u001b[49m\u001b[43m,\u001b[49m\n\u001b[0;32m    528\u001b[0m \u001b[43m        \u001b[49m\u001b[43mindex_col\u001b[49m\u001b[38;5;241;43m=\u001b[39;49m\u001b[43mindex_col\u001b[49m\u001b[43m,\u001b[49m\n\u001b[0;32m    529\u001b[0m \u001b[43m        \u001b[49m\u001b[43mparams\u001b[49m\u001b[38;5;241;43m=\u001b[39;49m\u001b[43mparams\u001b[49m\u001b[43m,\u001b[49m\n\u001b[0;32m    530\u001b[0m \u001b[43m        \u001b[49m\u001b[43mcoerce_float\u001b[49m\u001b[38;5;241;43m=\u001b[39;49m\u001b[43mcoerce_float\u001b[49m\u001b[43m,\u001b[49m\n\u001b[0;32m    531\u001b[0m \u001b[43m        \u001b[49m\u001b[43mparse_dates\u001b[49m\u001b[38;5;241;43m=\u001b[39;49m\u001b[43mparse_dates\u001b[49m\u001b[43m,\u001b[49m\n\u001b[0;32m    532\u001b[0m \u001b[43m        \u001b[49m\u001b[43mchunksize\u001b[49m\u001b[38;5;241;43m=\u001b[39;49m\u001b[43mchunksize\u001b[49m\u001b[43m,\u001b[49m\n\u001b[0;32m    533\u001b[0m \u001b[43m        \u001b[49m\u001b[43mdtype\u001b[49m\u001b[38;5;241;43m=\u001b[39;49m\u001b[43mdtype\u001b[49m\u001b[43m,\u001b[49m\n\u001b[0;32m    534\u001b[0m \u001b[43m        \u001b[49m\u001b[43mdtype_backend\u001b[49m\u001b[38;5;241;43m=\u001b[39;49m\u001b[43mdtype_backend\u001b[49m\u001b[43m,\u001b[49m\n\u001b[0;32m    535\u001b[0m \u001b[43m    \u001b[49m\u001b[43m)\u001b[49m\n",
      "File \u001b[1;32mc:\\Users\\lucav\\Documents\\BeCode\\wine-market-analysis-LV\\venv\\Lib\\site-packages\\pandas\\io\\sql.py:2736\u001b[0m, in \u001b[0;36mSQLiteDatabase.read_query\u001b[1;34m(self, sql, index_col, coerce_float, parse_dates, params, chunksize, dtype, dtype_backend)\u001b[0m\n\u001b[0;32m   2725\u001b[0m \u001b[38;5;28;01mdef\u001b[39;00m \u001b[38;5;21mread_query\u001b[39m(\n\u001b[0;32m   2726\u001b[0m     \u001b[38;5;28mself\u001b[39m,\n\u001b[0;32m   2727\u001b[0m     sql,\n\u001b[1;32m   (...)\u001b[0m\n\u001b[0;32m   2734\u001b[0m     dtype_backend: DtypeBackend \u001b[38;5;241m|\u001b[39m Literal[\u001b[38;5;124m\"\u001b[39m\u001b[38;5;124mnumpy\u001b[39m\u001b[38;5;124m\"\u001b[39m] \u001b[38;5;241m=\u001b[39m \u001b[38;5;124m\"\u001b[39m\u001b[38;5;124mnumpy\u001b[39m\u001b[38;5;124m\"\u001b[39m,\n\u001b[0;32m   2735\u001b[0m ) \u001b[38;5;241m-\u001b[39m\u001b[38;5;241m>\u001b[39m DataFrame \u001b[38;5;241m|\u001b[39m Iterator[DataFrame]:\n\u001b[1;32m-> 2736\u001b[0m     cursor \u001b[38;5;241m=\u001b[39m \u001b[38;5;28;43mself\u001b[39;49m\u001b[38;5;241;43m.\u001b[39;49m\u001b[43mexecute\u001b[49m\u001b[43m(\u001b[49m\u001b[43msql\u001b[49m\u001b[43m,\u001b[49m\u001b[43m \u001b[49m\u001b[43mparams\u001b[49m\u001b[43m)\u001b[49m\n\u001b[0;32m   2737\u001b[0m     columns \u001b[38;5;241m=\u001b[39m [col_desc[\u001b[38;5;241m0\u001b[39m] \u001b[38;5;28;01mfor\u001b[39;00m col_desc \u001b[38;5;129;01min\u001b[39;00m cursor\u001b[38;5;241m.\u001b[39mdescription]\n\u001b[0;32m   2739\u001b[0m     \u001b[38;5;28;01mif\u001b[39;00m chunksize \u001b[38;5;129;01mis\u001b[39;00m \u001b[38;5;129;01mnot\u001b[39;00m \u001b[38;5;28;01mNone\u001b[39;00m:\n",
      "File \u001b[1;32mc:\\Users\\lucav\\Documents\\BeCode\\wine-market-analysis-LV\\venv\\Lib\\site-packages\\pandas\\io\\sql.py:2684\u001b[0m, in \u001b[0;36mSQLiteDatabase.execute\u001b[1;34m(self, sql, params)\u001b[0m\n\u001b[0;32m   2681\u001b[0m     \u001b[38;5;28;01mraise\u001b[39;00m ex \u001b[38;5;28;01mfrom\u001b[39;00m \u001b[38;5;21;01minner_exc\u001b[39;00m\n\u001b[0;32m   2683\u001b[0m ex \u001b[38;5;241m=\u001b[39m DatabaseError(\u001b[38;5;124mf\u001b[39m\u001b[38;5;124m\"\u001b[39m\u001b[38;5;124mExecution failed on sql \u001b[39m\u001b[38;5;124m'\u001b[39m\u001b[38;5;132;01m{\u001b[39;00msql\u001b[38;5;132;01m}\u001b[39;00m\u001b[38;5;124m'\u001b[39m\u001b[38;5;124m: \u001b[39m\u001b[38;5;132;01m{\u001b[39;00mexc\u001b[38;5;132;01m}\u001b[39;00m\u001b[38;5;124m\"\u001b[39m)\n\u001b[1;32m-> 2684\u001b[0m \u001b[38;5;28;01mraise\u001b[39;00m ex \u001b[38;5;28;01mfrom\u001b[39;00m \u001b[38;5;21;01mexc\u001b[39;00m\n",
      "\u001b[1;31mDatabaseError\u001b[0m: Execution failed on sql 'SELECT wines.name AS name_of_wine, vintages.name, wines.ratings_average, vintages.price_euros, vintages.year FROM wines\nJOIN vintages ON vintages.wine_id = wines.id\nWHERE wines.ratings_count > 1000\nWHERE wines.name = 'Cabernet Sauvignon'\nORDER BY vintages.ratings_average DESC\n;\n': near \"WHERE\": syntax error"
     ]
    }
   ],
   "source": [
    "query_wines =\"\"\"SELECT wines.name AS name_of_wine, vintages.name, wines.ratings_average, vintages.price_euros, vintages.year FROM wines\n",
    "JOIN vintages ON vintages.wine_id = wines.id\n",
    "WHERE wines.ratings_count > 1000\n",
    "--WHERE wines.name = 'Cabernet Sauvignon'\n",
    "ORDER BY vintages.ratings_average DESC\n",
    ";\n",
    "\"\"\"\n",
    "\n",
    "wines_df = pd.read_sql_query(query_wines, conn)\n",
    "wines_df"
   ]
  },
  {
   "cell_type": "markdown",
   "metadata": {},
   "source": [
    "Let's plot the price distribution of Cabernet Sauvignon"
   ]
  },
  {
   "cell_type": "code",
   "execution_count": 9,
   "metadata": {},
   "outputs": [
    {
     "data": {
      "application/vnd.plotly.v1+json": {
       "config": {
        "plotlyServerURL": "https://plot.ly"
       },
       "data": [
        {
         "alignmentgroup": "True",
         "bingroup": "x",
         "histfunc": "sum",
         "hovertemplate": "year=%{x}<br>sum of price_euros=%{y}<extra></extra>",
         "legendgroup": "",
         "marker": {
          "color": "#636efa",
          "pattern": {
           "shape": ""
          }
         },
         "name": "",
         "offsetgroup": "",
         "orientation": "v",
         "showlegend": false,
         "type": "histogram",
         "x": [
          1955,
          2003,
          1998,
          1996,
          1995,
          1998,
          2000,
          2001,
          1990,
          1967,
          2011,
          2009,
          2003,
          2013,
          2013,
          2014,
          2006,
          2005,
          2001,
          2002,
          2015,
          2015,
          2015,
          2016,
          2016,
          2016,
          2016,
          2017,
          2017,
          2018,
          2018,
          2018,
          2000,
          2002,
          2002,
          2004,
          1998,
          1997,
          1999,
          1999,
          1997,
          1986,
          2004,
          2005,
          1990,
          1990,
          1998,
          2006,
          2003,
          2006,
          2001,
          2002,
          1997,
          2008,
          2009,
          2008,
          2007,
          2001,
          1998,
          1999,
          1997,
          2004,
          2008,
          2000,
          1997,
          1985,
          2006,
          2002,
          1999,
          1982,
          2009,
          2009,
          2009,
          2001,
          2005,
          2002,
          2010,
          2002,
          2005,
          2007,
          2012,
          1995,
          1987,
          2006,
          2009,
          1983,
          2010,
          2012,
          1996,
          1979,
          2003,
          1988,
          2001,
          1999,
          1989,
          2006,
          2005,
          2012,
          2007,
          2013,
          2007,
          2008,
          1998,
          2000,
          2000,
          2002,
          2006,
          1979,
          2009,
          2010,
          1959,
          2000,
          1962,
          2009,
          1999,
          2005,
          2010,
          2009,
          2005,
          2004,
          2012,
          2010,
          2013,
          2005,
          2010,
          2007,
          2013,
          2007,
          2010,
          1999,
          2008,
          1998,
          2003,
          1994,
          2004,
          1996,
          1997,
          2000,
          1989,
          1995,
          1992,
          1994,
          2007,
          2013,
          2015,
          2015,
          2015,
          2015,
          2015,
          2015,
          2015,
          2015,
          2015,
          2015,
          2015,
          2015,
          2003,
          2014,
          2015,
          2015,
          2012,
          1989,
          1955,
          1929,
          2016,
          2016,
          2016,
          2016,
          2016,
          2016,
          2016,
          2016,
          2016,
          2016,
          2016,
          2016,
          2016,
          2016,
          2016,
          2016,
          2016,
          2016,
          2016,
          2016,
          2016,
          2017,
          2017,
          2017,
          2017,
          2017,
          2017,
          2017,
          2017,
          2017,
          2017,
          2017,
          2016,
          2017,
          2018,
          2018,
          2018,
          2018,
          2018,
          2018,
          2018,
          2018,
          2018,
          2018,
          2018,
          2018,
          2018,
          2019,
          2019,
          2019,
          2019,
          2019,
          2004,
          2018,
          2020,
          2018,
          2005,
          2006,
          2004,
          2004,
          2004,
          2000,
          2003,
          2000,
          2005,
          1999,
          2003,
          1999,
          1997,
          2000,
          1997,
          2005,
          2002,
          2000,
          2004,
          2001,
          1993,
          1999,
          2004,
          2008,
          1995,
          2008,
          2009,
          2004,
          2009,
          2007,
          2010,
          2006,
          2007,
          1998,
          2001,
          2008,
          2011,
          2008,
          2008,
          1990,
          1998,
          1993,
          2008,
          2004,
          2002,
          2008,
          2011,
          2007,
          2007,
          2004,
          1998,
          1998,
          2004,
          1998,
          1978,
          2001,
          1999,
          2006,
          2009,
          2003,
          1997,
          2004,
          2011,
          1999,
          1976,
          2008,
          2000,
          2001,
          1999,
          2000,
          2006,
          1988,
          1989,
          1998,
          2012,
          2000,
          1996,
          1991,
          1990,
          1997,
          2000,
          "N.V.",
          1990,
          2004,
          2011,
          1990,
          2001,
          1982,
          2009,
          2009,
          2011,
          1995,
          2000,
          2011,
          2002,
          2004,
          2012,
          2009,
          2010,
          1996,
          1999,
          2009,
          2010,
          2003,
          1997,
          2012,
          1986,
          1995,
          2001,
          2013,
          1988,
          2007,
          2012,
          2010,
          2012,
          2000,
          2006,
          2005,
          1999,
          1995,
          2013,
          1965,
          2011,
          1985,
          1988,
          1997,
          1995,
          1989,
          2012,
          2010,
          2008,
          2010,
          2013,
          2010,
          2013,
          1992,
          1994,
          2008,
          2008,
          2007,
          1982,
          1968,
          2011,
          2008,
          2012,
          2006,
          2010,
          2009,
          2010,
          1985,
          1982,
          2012,
          2007,
          2013,
          2002,
          2005,
          2014,
          2014,
          2004,
          2014,
          2014,
          2008,
          2013,
          2014,
          2014,
          2014,
          2009,
          2013,
          2014,
          2009,
          1994,
          2012,
          2012,
          2006,
          2013,
          2011,
          2004,
          2014,
          2013,
          2014,
          2011,
          2013,
          2014,
          2010,
          2014,
          2012,
          2015,
          2015,
          2015,
          2015,
          2015,
          2015,
          2015,
          2015,
          2015,
          2015,
          2012,
          2015,
          2015,
          2015,
          2015,
          2015,
          2013,
          2015,
          2015,
          2015,
          2015,
          2014,
          2015,
          1988,
          2015,
          2016,
          2016,
          2016,
          2016,
          2016,
          2016,
          2016,
          2016,
          2016,
          2016,
          2016,
          2016,
          2016,
          2016,
          2016,
          2016,
          2016,
          2016,
          2016,
          2016,
          2016,
          2016,
          2016,
          2017,
          2017,
          2017,
          2017,
          2017,
          2017,
          2017,
          2017,
          2017,
          2017,
          2017,
          2017,
          2017,
          2017,
          2017,
          2017,
          2017,
          2017,
          2014,
          2017,
          2017,
          2015,
          2017,
          2017,
          2017,
          2018,
          2018,
          2018,
          2018,
          2018,
          2018,
          2018,
          2018,
          2018,
          2018,
          2018,
          2018,
          2018,
          2018,
          2018,
          2018,
          2018,
          2018,
          2018,
          2018,
          2018,
          2018,
          2018,
          2018,
          2018,
          2018,
          2018,
          2017,
          2019,
          2019,
          2019,
          2019,
          2019,
          2019,
          2019,
          2019,
          2019,
          2019,
          2019,
          2019,
          2019,
          2019,
          2019,
          2019,
          2019,
          2018,
          2018,
          2020,
          2020,
          2019,
          2019,
          "N.V.",
          2005,
          2001,
          2006,
          2007,
          2006,
          2004,
          2006,
          1992,
          2001,
          2005,
          1982,
          1988,
          1992,
          1977,
          2004,
          2004,
          2004,
          2003,
          1989,
          2006,
          2004,
          2006,
          2003,
          1995,
          2002,
          1999,
          1975,
          2005,
          2007,
          2008,
          2006,
          1999,
          1998,
          2005,
          2007,
          2011,
          2006,
          2008,
          2005,
          2008,
          2009,
          2007,
          2008,
          1998,
          2008,
          1989,
          2011,
          1997,
          2009,
          2004,
          2000,
          2011,
          2011,
          2006,
          1994,
          1995,
          1995,
          2009,
          2005,
          2004,
          2001,
          2002,
          1988,
          2009,
          1997,
          1997,
          1980,
          2005,
          2003,
          1998,
          2010,
          2009,
          2007,
          2007,
          2010,
          1993,
          2010,
          2009,
          2004,
          "N.V.",
          2010,
          1998,
          2010,
          2009,
          2010,
          2010,
          2009,
          2012,
          2011,
          2012,
          2011,
          2010,
          2004,
          1960,
          1999,
          2010,
          2009,
          2006,
          2013,
          1990,
          2001,
          2003,
          2010,
          1997,
          1988,
          2007,
          1999,
          2007,
          2013,
          2013,
          2012,
          2007,
          2009,
          2013,
          2013,
          2009,
          2012,
          1996,
          2005,
          2004,
          2011,
          2000,
          1998,
          2009,
          2010,
          2004,
          2010,
          2007,
          1988,
          2006,
          2013,
          2013,
          2013,
          1961,
          2010,
          2011,
          2010,
          2012,
          2007,
          2001,
          2008,
          1990,
          2004,
          2012,
          2011,
          2010,
          2013,
          2013,
          2013,
          2011,
          2011,
          2013,
          2000,
          2011,
          2010,
          2000,
          2006,
          2011,
          2013,
          2004,
          2013,
          2012,
          2009,
          2010,
          2011,
          2011,
          2013,
          2014,
          2014,
          2014,
          2011,
          2012,
          2013,
          2014,
          2013,
          2013,
          2014,
          2014,
          2004,
          2011,
          2012,
          2013,
          2012,
          2007,
          2014,
          1982,
          2013,
          2012,
          2014,
          2014,
          1990,
          2010,
          2012,
          2013,
          2014,
          2013,
          2014,
          2013,
          2014,
          2014,
          2015,
          2015,
          2015,
          2015,
          2015,
          2015,
          2015,
          2015,
          2015,
          2015,
          2015,
          2012,
          2015,
          2015,
          2015,
          2015,
          1987,
          2011,
          2015,
          2014,
          1982,
          2015,
          2015,
          2015,
          2015,
          2015,
          2015,
          2015,
          2015,
          2015,
          2015,
          2015,
          2013,
          2015,
          2015,
          2015,
          2015,
          2016,
          2016,
          2016,
          2016,
          2016,
          2016,
          2016,
          2016,
          2016,
          2016,
          2016,
          2016,
          2016,
          2016,
          2016,
          2016,
          2016,
          2015,
          2016,
          2016,
          2016,
          2016,
          2001,
          2016,
          2016,
          2016,
          2016,
          2016,
          2016,
          2016,
          2013,
          2016,
          2015,
          2016,
          2016,
          2016,
          2016,
          2016,
          2016,
          2016,
          2016,
          2016,
          2016,
          2017,
          2017,
          2017,
          2017,
          2017,
          2017,
          2017,
          2017,
          2017,
          2017,
          2017,
          2017,
          2017,
          2017,
          2017,
          2017,
          2017,
          2017,
          2017,
          2017,
          2017,
          2017,
          2017,
          2017,
          2017,
          2016,
          2017,
          2015,
          2016,
          2017,
          2017,
          2015,
          2017,
          2017,
          2017,
          2017,
          2017,
          2017,
          2017,
          2015,
          2016,
          2017,
          2017,
          2017,
          2017,
          2017,
          2017,
          2017,
          2017,
          2016,
          2017,
          2018,
          2018,
          2018,
          2018,
          2018,
          2018,
          2018,
          2018,
          2018,
          2018,
          2018,
          2018,
          2018,
          2018,
          2018,
          2018,
          2018,
          2018,
          2018,
          2018,
          2018,
          2018,
          2018,
          2018,
          2018,
          2018,
          2018,
          2018,
          2018,
          2018,
          2018,
          2017,
          2018,
          2018,
          2019,
          2019,
          2019,
          2019,
          2019,
          2019,
          2019,
          2019,
          2019,
          2019,
          2019,
          2019,
          2019,
          2019,
          2019,
          2019,
          2019,
          2019,
          2019,
          2019,
          2019,
          2019,
          2019,
          2019,
          2019,
          2019,
          2019,
          2019,
          2019,
          2019,
          2019,
          2020,
          2020,
          2020,
          2020,
          2020,
          2020,
          2020,
          2020,
          2020,
          2020,
          2020,
          "N.V.",
          "N.V.",
          2020,
          2019,
          2020,
          2021,
          2021,
          2021,
          2019,
          2005,
          2001,
          2005,
          2004,
          2006,
          2006,
          2001,
          2006,
          1994,
          2000,
          2005,
          2001,
          1995,
          2004,
          2004,
          1998,
          2003,
          2006,
          2005,
          2005,
          2006,
          2008,
          2006,
          2008,
          2005,
          2009,
          2007,
          2007,
          2009,
          2009,
          2000,
          2008,
          2008,
          2007,
          2006,
          2005,
          1999,
          2009,
          2007,
          2007,
          2007,
          2008,
          2009,
          2005,
          2005,
          2006,
          2004,
          2009,
          2007,
          2007,
          2009,
          2001,
          "N.V.",
          1991,
          2007,
          "N.V.",
          2006,
          "N.V.",
          1998,
          2010,
          1983,
          2010,
          2007,
          2005,
          2007,
          2009,
          2010,
          2007,
          "N.V.",
          2011,
          2009,
          2013,
          2011,
          2009,
          2010,
          2008,
          2001,
          2013,
          2012,
          2013,
          2011,
          2011,
          1988,
          2007,
          2011,
          2007,
          2000,
          2008,
          2010,
          1985,
          2009,
          2012,
          2013,
          2010,
          2011,
          2013,
          2013,
          2006,
          2003,
          2012,
          2013,
          2008,
          2009,
          2013,
          2011,
          2014,
          2013,
          2014,
          1974,
          2011,
          2012,
          2012,
          "N.V.",
          2013,
          2010,
          2014,
          2014,
          2014,
          2012,
          2014,
          "N.V.",
          2013,
          2012,
          2013,
          2011,
          2012,
          2013,
          1983,
          2012,
          2014,
          2014,
          2012,
          2012,
          2013,
          2007,
          2009,
          2014,
          2012,
          2014,
          2014,
          2014,
          2011,
          2012,
          2013,
          2012,
          2013,
          2014,
          2014,
          2014,
          2010,
          2013,
          2013,
          2015,
          2015,
          2015,
          2010,
          2015,
          2015,
          2015,
          2015,
          2015,
          2015,
          2015,
          2015,
          2014,
          2012,
          2015,
          2015,
          2015,
          2015,
          2015,
          2015,
          2015,
          2015,
          2015,
          2015,
          2015,
          2015,
          2015,
          2013,
          2016,
          2016,
          2016,
          2016,
          2016,
          2016,
          2016,
          2016,
          2016,
          2016,
          2016,
          2016,
          2016,
          2016,
          2016,
          2016,
          2015,
          2016,
          2016,
          2016,
          2016,
          2016,
          2016,
          2016,
          2016,
          2016,
          2016,
          2016,
          2012,
          2016,
          2016,
          2016,
          2009,
          2012,
          2016,
          2014,
          2016,
          2016,
          2017,
          2017,
          2017,
          2017,
          2017,
          2017,
          2017,
          2017,
          2017,
          2017,
          2017,
          2017,
          2017,
          2017,
          2017,
          2017,
          2017,
          2017,
          2017,
          2017,
          2017,
          2017,
          2017,
          2017,
          2017,
          2017,
          2017,
          2017,
          2017,
          2017,
          2017,
          2017,
          2017,
          2017,
          2017,
          2017,
          2017,
          2017,
          2017,
          2017,
          2018,
          2018,
          2018,
          2018,
          2018,
          2018,
          2018,
          2018,
          2018,
          2018,
          2018,
          2018,
          2018,
          2018,
          2018,
          2018,
          2018,
          2018,
          2018,
          2018,
          2018,
          2018,
          2018,
          2018,
          2018,
          2018,
          2018,
          2018,
          2018,
          2018,
          2018,
          2018,
          2018,
          2018,
          2018,
          2018,
          2018,
          2018,
          2018,
          2018,
          2018,
          2018,
          2016,
          2018,
          2018,
          2018,
          2018,
          2018,
          2018,
          2018,
          2018,
          2018,
          2012,
          2019,
          2019,
          2019,
          2019,
          2019,
          2019,
          2019,
          2019,
          2019,
          2019,
          2019,
          2019,
          2019,
          2019,
          2019,
          2019,
          2018,
          2019,
          2019,
          2019,
          2019,
          2019,
          2019,
          2019,
          2019,
          2019,
          2019,
          2019,
          2019,
          2019,
          2019,
          2019,
          2018,
          2018,
          2018,
          2019,
          2020,
          2020,
          2020,
          2020,
          2020,
          2020,
          2020,
          2020,
          2020,
          2019,
          2020,
          2020,
          2020,
          "N.V.",
          2020,
          2020,
          "N.V.",
          2020,
          2019,
          2020,
          2018,
          2019,
          2021,
          2021,
          2021,
          2021,
          2019,
          2001,
          2000,
          1995,
          2006,
          1993,
          1967,
          2001,
          2001,
          1981,
          1983,
          1988,
          1958,
          1970,
          2000,
          1976,
          1992,
          1984,
          2001,
          1934,
          1979,
          1960,
          1985,
          1986,
          1985,
          1974,
          1987,
          1976,
          1990,
          2002,
          1949,
          1961,
          1990,
          2005,
          1981,
          1989,
          1974,
          1960,
          2010,
          2014,
          1980,
          2001,
          1996,
          1985,
          1986,
          2000,
          1991,
          1992,
          1994,
          1958,
          1992,
          2002,
          2014,
          1989,
          1948,
          1997,
          2016,
          2014,
          2016,
          2016,
          2016,
          2016,
          2017,
          2017,
          2017,
          2017,
          2013,
          1964,
          2017,
          2018,
          2018,
          2018,
          2018,
          2018,
          2018,
          2018,
          2018,
          2018,
          2018,
          1970,
          2018,
          2018,
          2018,
          2018,
          2018,
          2018,
          2019,
          2019,
          2019,
          2019,
          2019,
          2019,
          2019,
          2019,
          2019,
          2019,
          2019,
          2019,
          2019,
          2018,
          2019,
          2019,
          2019,
          2019,
          2019,
          2019,
          2019,
          2019,
          2019,
          2019,
          2019,
          2019,
          2019,
          2019,
          2019,
          2019,
          2019,
          2019,
          2019,
          2020,
          2020,
          2020,
          2020,
          2020,
          2020,
          2020,
          2020,
          2020,
          2020,
          2020,
          2020,
          2020,
          2020,
          2020,
          2020,
          2020,
          2020,
          2020,
          2020,
          2020,
          2020,
          2020,
          2020,
          2020,
          2020,
          2020,
          2020,
          2019,
          2019,
          2020,
          2020,
          2020,
          2019,
          2019,
          2020,
          2021,
          2021,
          2021,
          2020,
          2020,
          2019,
          2021,
          2021,
          2019,
          2021
         ],
         "xaxis": "x",
         "y": [
          1970.05,
          1900,
          3522.5,
          2882.5,
          808.75,
          1921.25,
          3096.25,
          1152.5,
          6300,
          2455,
          913.05,
          555,
          1686.25,
          832.5,
          425,
          2028.75,
          4910,
          4697.5,
          5231.25,
          1686.25,
          1558.75,
          811.25,
          1601.25,
          745,
          705,
          379,
          1691.25,
          832.5,
          811.8,
          1625,
          437.5,
          1473.75,
          2753.75,
          896.25,
          3202.5,
          811.25,
          1686.25,
          747.5,
          1537.5,
          1900,
          1238.75,
          5977.5,
          1473.75,
          420,
          5017.5,
          2455,
          2747.5,
          3308.75,
          683.75,
          201.25,
          795,
          786.25,
          1473.75,
          2071.25,
          1067.5,
          697.5,
          668.75,
          1173.75,
          1173.75,
          1451.25,
          597.5,
          921.25,
          2967.5,
          731.25,
          2541.25,
          961.25,
          616.25,
          1046.25,
          728.75,
          9180,
          705,
          1601.25,
          597.5,
          1046.25,
          928.3,
          10960,
          1077.51,
          1800,
          425,
          533.75,
          1110,
          747.5,
          618.75,
          595,
          1164.36,
          811.25,
          747.5,
          410,
          1473.75,
          1173.75,
          597.5,
          1046.25,
          3395,
          10217.5,
          2241.25,
          8743.75,
          3181.25,
          961.25,
          3800,
          445,
          2967.5,
          683.75,
          566.25,
          2562.5,
          1975,
          3181.25,
          2113.75,
          4410,
          3096.25,
          1025,
          843.75,
          2028.75,
          1025,
          2753.75,
          1323.75,
          1200.79,
          3287.5,
          975,
          2327.5,
          3395,
          1433.8,
          1038.63,
          1900,
          1665,
          1046.25,
          683.75,
          487.5,
          2028.75,
          4697.5,
          1985,
          4163.75,
          2092.5,
          1815,
          640,
          4163.75,
          1921.25,
          2028.75,
          1900,
          2348.75,
          1900,
          2028.75,
          1900,
          397.5,
          414.75,
          1665,
          739,
          695,
          1477.42,
          6200,
          995,
          2028.75,
          702.5,
          1680,
          424.46,
          694,
          470,
          893.75,
          458,
          2028.75,
          470.75,
          491.25,
          512.5,
          198.4,
          239.6,
          1601.25,
          836.3,
          955.05,
          811.25,
          1750,
          265,
          645,
          202.2,
          1265,
          390,
          575,
          896.25,
          1042.1,
          597.5,
          811.25,
          961.25,
          189.95,
          940,
          697.5,
          605,
          1025,
          535,
          1095,
          950,
          905.55,
          535,
          592.5,
          443,
          683.75,
          726.25,
          299,
          1537.5,
          2050,
          70.5,
          527.6,
          592.5,
          795,
          1095,
          179.95,
          765.9,
          1570,
          453,
          412.5,
          357,
          453,
          225,
          250,
          490,
          309.48,
          455.2,
          260.19,
          425,
          465,
          1701.25,
          295,
          1061.8,
          661.25,
          1238.75,
          618.75,
          420,
          533.75,
          1408.75,
          208.75,
          353.75,
          491.25,
          1387.5,
          597.5,
          811.25,
          491.25,
          630,
          397.5,
          533.75,
          1387.5,
          491.25,
          618.75,
          795,
          8463.75,
          1387.5,
          533.75,
          1260,
          2028.75,
          618.75,
          423.5,
          1173.75,
          2028.75,
          597.5,
          576.25,
          2455,
          688.75,
          470,
          1025,
          178.75,
          753.4,
          470,
          1046.25,
          618.75,
          961.25,
          961.25,
          299.99,
          961.25,
          1046.25,
          1478.75,
          661.25,
          1110,
          1173.75,
          221.25,
          1046.25,
          425,
          1003.75,
          1046.25,
          376.25,
          7493.75,
          353.75,
          917.5,
          762,
          238.75,
          491.25,
          811.25,
          1025,
          340,
          1707.5,
          470,
          747.5,
          1238.75,
          1046.25,
          790,
          795,
          2668.75,
          832.5,
          695,
          493.8,
          1558.75,
          287.5,
          1339.7,
          411.4,
          895,
          638.83,
          349,
          1761.25,
          2967.5,
          235,
          619.75,
          533.75,
          470,
          1046.25,
          470,
          683.75,
          491.25,
          3266.25,
          491.25,
          360,
          460,
          455.17,
          482.5,
          832.5,
          360,
          825,
          644.95,
          533.75,
          201.25,
          390,
          533.75,
          1173.75,
          790,
          832.5,
          632.5,
          832.5,
          136.25,
          496.25,
          5800,
          842.98,
          597.5,
          295,
          212.5,
          1686.25,
          533.75,
          99.97,
          1040.6,
          249,
          1936.25,
          683.75,
          394,
          353.75,
          533.75,
          89,
          597.5,
          990,
          287,
          425,
          1590,
          768.75,
          448.75,
          752.5,
          683.75,
          715.15,
          353.75,
          1428.75,
          318.25,
          1601.25,
          4163.75,
          427.5,
          440,
          695,
          961.25,
          533.75,
          1110,
          961.25,
          397.5,
          331.25,
          1665,
          491.25,
          178.75,
          1750,
          220,
          533.75,
          462.5,
          1242.5,
          625,
          96.81,
          470,
          2668.75,
          293.7,
          865.65,
          521,
          1046.25,
          287.5,
          420,
          420,
          532.5,
          472.5,
          533.75,
          683.75,
          533.75,
          1815,
          346.75,
          1300,
          199,
          494.9,
          248.75,
          736.25,
          376.25,
          276.25,
          825,
          1237.5,
          353.75,
          533.75,
          485,
          495,
          491.25,
          896.25,
          289.83,
          290.5,
          373.8,
          737.5,
          470,
          349.91,
          462.5,
          99.95,
          494.9,
          99.95,
          448.75,
          289.83,
          2092.5,
          399,
          74.5,
          1387.5,
          149.5,
          349.91,
          420,
          995,
          618.75,
          453.58,
          92.95,
          425,
          409.5,
          212.75,
          480,
          512.5,
          700,
          375,
          225,
          224.53,
          431.25,
          142.95,
          138.67,
          1025,
          104.9,
          1025,
          811.25,
          215,
          448.8,
          310,
          225,
          1200,
          695,
          350,
          249.95,
          765,
          76.5,
          109.3,
          375,
          375,
          450,
          470,
          224.55,
          295,
          375,
          36.55,
          295,
          406.25,
          431.25,
          249,
          575,
          353.45,
          56.25,
          225,
          310,
          1900,
          199,
          832.5,
          227.25,
          1003.75,
          106.96,
          212.5,
          186.09,
          360,
          480,
          389.02,
          75,
          375,
          215,
          199.95,
          595,
          453,
          225.5,
          64.9,
          415,
          269.16,
          280,
          275,
          98.95,
          66.95,
          408.75,
          417.5,
          495,
          177.95,
          370,
          495,
          342,
          1188.05,
          1137.4,
          315,
          135,
          199.95,
          66.08,
          1473.75,
          726.25,
          375,
          597.5,
          91.95,
          109.8,
          735,
          295,
          229.95,
          105.95,
          1150,
          245,
          750,
          420,
          121.25,
          726.25,
          310,
          202.5,
          533.75,
          618.75,
          243.75,
          221.25,
          533.75,
          1025,
          1082.55,
          635.25,
          123.75,
          250,
          243.75,
          840,
          287.5,
          597.5,
          243.75,
          243.75,
          212.5,
          287.5,
          1686.25,
          243.75,
          147.82,
          747.5,
          310,
          470,
          917.5,
          630,
          820,
          260,
          65,
          1625,
          212.5,
          178.75,
          304.5,
          832.5,
          331.25,
          221.25,
          420,
          683.75,
          2676.75,
          1601.25,
          961.25,
          310,
          491.25,
          165,
          101,
          353.75,
          555,
          325,
          961.25,
          276.25,
          533.75,
          201.25,
          618.75,
          256.25,
          533.75,
          896.25,
          470,
          1430,
          150,
          2028.75,
          961.25,
          273.75,
          512.5,
          630,
          74,
          140.2,
          1495,
          62.95,
          310,
          448.75,
          420,
          239,
          212.5,
          183.7,
          397.5,
          470,
          832.5,
          618.75,
          1381.48,
          747.5,
          420,
          450,
          470,
          331.25,
          233.75,
          705,
          232.5,
          1173.75,
          420,
          230,
          297.5,
          397.5,
          122,
          618.75,
          491.6,
          211.25,
          618.75,
          832.5,
          790,
          243.75,
          1823.75,
          448.75,
          1025,
          346.75,
          600,
          221.25,
          545,
          1025,
          523.75,
          397.5,
          190,
          1323.75,
          331.25,
          353.75,
          310,
          331.25,
          353.75,
          597.5,
          397.5,
          121.25,
          1323.75,
          353.75,
          397.5,
          205,
          49.99,
          470,
          241.3,
          1137.5,
          178.75,
          265,
          243.8,
          212.5,
          201.25,
          335,
          470,
          1046.25,
          683.75,
          470,
          178.75,
          199,
          645,
          56,
          222.5,
          811.25,
          785.18,
          692.5,
          301.25,
          700,
          705,
          99.97,
          178.75,
          595,
          250,
          961.25,
          494.9,
          293.75,
          705,
          198.95,
          227.02,
          216.25,
          799,
          576.25,
          241.4,
          151.68,
          720,
          683.75,
          491.25,
          747.5,
          57.9,
          72.48,
          130,
          474,
          470,
          618.75,
          190,
          192.5,
          182.5,
          683.75,
          431.25,
          287.5,
          74.45,
          420,
          81.55,
          462,
          832.5,
          106.3,
          380.69,
          203.8,
          462,
          99.95,
          94.95,
          420,
          618.75,
          353.75,
          470,
          310,
          225,
          155.86,
          175,
          275,
          286,
          397.5,
          182.5,
          104.59,
          331.25,
          182.5,
          470,
          80.5,
          206.25,
          217.5,
          2562.5,
          190,
          585,
          448.75,
          619.75,
          114.5,
          155,
          353.75,
          265,
          310,
          811.25,
          52.95,
          80,
          190,
          57.95,
          249.5,
          270.64,
          2518.75,
          427.5,
          145,
          45.5,
          168.75,
          82.95,
          545,
          79.95,
          365,
          239.4,
          305,
          512.5,
          420,
          130.75,
          545,
          134.95,
          75,
          38.09,
          120,
          114.95,
          219.95,
          182.5,
          61.29,
          555,
          331.25,
          109.95,
          533.75,
          92.5,
          67.95,
          53.44,
          119.95,
          231.95,
          109.95,
          212.5,
          331.25,
          75,
          961.25,
          726.25,
          1260,
          397.5,
          683.75,
          121.9,
          832.5,
          353.75,
          77,
          249,
          195.95,
          63.95,
          875,
          88.75,
          259.88,
          62.9,
          137.5,
          470,
          361.86,
          961.25,
          389,
          199.95,
          325,
          533.75,
          163.8,
          198.8,
          138.28,
          265,
          321.25,
          78.17,
          825.8,
          135.95,
          135,
          249,
          259,
          159.5,
          1173.75,
          149.95,
          321.25,
          180.5,
          120.02,
          100.15,
          304.95,
          130.35,
          555,
          122.5,
          127.8,
          160,
          121,
          576.25,
          144.95,
          243.75,
          48,
          126.5,
          195,
          381.5,
          105,
          107.5,
          78,
          132.98,
          243.75,
          89.95,
          93.7,
          495,
          435.14,
          124.68,
          36.1,
          94.95,
          273.05,
          813.31,
          79.95,
          334.7,
          69.95,
          145.95,
          618.75,
          243.75,
          68.75,
          397.5,
          243.75,
          512.5,
          661,
          90,
          961.25,
          39.95,
          175.95,
          681.5,
          89.19,
          154,
          134.89,
          121.95,
          412.5,
          961.25,
          150.9,
          220.6,
          747.5,
          135.98,
          195,
          229.95,
          125.95,
          81.64,
          95.95,
          254.29,
          1363.05,
          125,
          293.63,
          84,
          226.28,
          182.5,
          84,
          242.25,
          130,
          60.2,
          216,
          58.95,
          23.95,
          78.94,
          134.95,
          64.7,
          97.5,
          250.45,
          195,
          99.95,
          470,
          76.15,
          105,
          94.95,
          1173.75,
          199,
          450.8,
          89.95,
          54.95,
          89.95,
          160,
          42.95,
          212.5,
          69.95,
          198.8,
          176.5,
          180,
          34.2,
          235,
          42.45,
          31.95,
          189.95,
          18.75,
          27.3,
          335,
          168.75,
          248.25,
          262.5,
          367.5,
          731.25,
          130,
          148.75,
          256.25,
          618.75,
          212.5,
          493.75,
          85,
          512.5,
          142.5,
          307.5,
          360,
          148.75,
          150.05,
          1878.75,
          205,
          168.75,
          265,
          208.75,
          271.25,
          291.25,
          310,
          406.25,
          420,
          686.4,
          896.25,
          243.75,
          212.5,
          201.25,
          168.75,
          150,
          232.5,
          555,
          155,
          148.75,
          305.1,
          413.75,
          353.75,
          140,
          211.3,
          216.25,
          168.75,
          201.25,
          420,
          112.5,
          202.5,
          92.95,
          397.5,
          72,
          618.75,
          353.75,
          49.61,
          618.75,
          92.95,
          533.75,
          202.5,
          385.5,
          331.25,
          265,
          246.25,
          206.25,
          483.75,
          729.3,
          298.75,
          121,
          118.5,
          200,
          190,
          201.25,
          310,
          220,
          331.25,
          420,
          247.5,
          156.95,
          136.3,
          181.25,
          170,
          470,
          49.9,
          318.75,
          221.25,
          287.5,
          196.25,
          75.71,
          420,
          221.25,
          221.25,
          135,
          420,
          155,
          82.5,
          123.75,
          243.75,
          205,
          103.75,
          169.75,
          100,
          246.25,
          96.3,
          520,
          69.94,
          94.95,
          119,
          618.75,
          250,
          555,
          123.75,
          149.95,
          141.06,
          353.75,
          265,
          166.11,
          470,
          242.5,
          103.54,
          329,
          97.55,
          111.25,
          474,
          100.15,
          555,
          683.75,
          420,
          118.3,
          113,
          48,
          90,
          58,
          142.5,
          260,
          550,
          238,
          162.5,
          149.95,
          152,
          73.71,
          640,
          470,
          150,
          168.75,
          618.75,
          961.25,
          49.99,
          139.8,
          83.95,
          342.5,
          257.5,
          108.8,
          40.98,
          178.17,
          353.75,
          121.85,
          215,
          57.95,
          244.59,
          148.8,
          470,
          179.95,
          82.5,
          233.75,
          325,
          51.95,
          185,
          114.6,
          265,
          74.95,
          106.25,
          76,
          101.25,
          61.3,
          420,
          43.72,
          55.95,
          87.5,
          115,
          201.25,
          276.25,
          129.5,
          265,
          271.25,
          107.28,
          146.25,
          331.25,
          104.69,
          79.95,
          158.43,
          132.5,
          69.95,
          150,
          69.5,
          92.5,
          99.8,
          201.25,
          120.07,
          90,
          178.75,
          180,
          44.69,
          661.25,
          265,
          142.5,
          65,
          217.5,
          162.15,
          101.2,
          59.75,
          102.12,
          82.5,
          555,
          52.5,
          212.5,
          38.95,
          26.9,
          57.99,
          51.9,
          73.01,
          99.95,
          124.59,
          209.95,
          179.95,
          39.3,
          118.8,
          169.95,
          49.95,
          152.5,
          66.19,
          54.75,
          90,
          166.25,
          98.5,
          84.8,
          56.1,
          168.75,
          106.25,
          59.95,
          78,
          123.95,
          68,
          155,
          64.9,
          212.5,
          139,
          106,
          46.77,
          91.3,
          72.85,
          51.15,
          54.49,
          95,
          39.75,
          168.75,
          135,
          108.75,
          59.95,
          104.95,
          119,
          24.75,
          134.95,
          114.95,
          121.95,
          80.5,
          149,
          39.95,
          67.16,
          46.25,
          29.95,
          55.5,
          124.22,
          49.8,
          68.95,
          93.53,
          68.8,
          49.95,
          201.25,
          39.55,
          99.95,
          68,
          1025,
          85.95,
          55.5,
          182.5,
          222.99,
          69.94,
          95,
          120,
          233.05,
          61.95,
          94.5,
          159,
          104.95,
          55,
          72.5,
          111.25,
          90,
          56,
          74.95,
          146.25,
          64.99,
          125.95,
          55.6,
          102.95,
          77.65,
          178.75,
          96.25,
          81.25,
          46.95,
          25.99,
          119.5,
          206.25,
          97.95,
          124.68,
          27.75,
          138.95,
          243.75,
          78.95,
          190,
          30,
          157.95,
          88.38,
          105.85,
          31.45,
          157.5,
          61.3,
          37.5,
          161.3,
          100.5,
          276.79,
          43.95,
          64.35,
          59.9,
          79.95,
          20.95,
          39.95,
          56.9,
          79.95,
          221.25,
          92.5,
          27.4,
          40.95,
          122.8,
          179.5,
          54.4,
          109.95,
          55.95,
          35.95,
          118.75,
          27.98,
          106.25,
          79.95,
          23.9,
          92.25,
          32.5,
          44.65,
          94,
          32.1,
          99.95,
          117.77,
          172.95,
          81.5,
          25.95,
          89.95,
          32.95,
          34.85,
          49.9,
          68.5,
          88,
          47.85,
          49.75,
          29.95,
          276.25,
          276.25,
          921.25,
          221.25,
          178.75,
          961.25,
          58.75,
          201.25,
          705,
          917.5,
          1110,
          747.5,
          1270,
          58.75,
          4910,
          543.4,
          331.25,
          291.25,
          479.85,
          1281.25,
          265,
          618.75,
          82.5,
          1025,
          1623.75,
          82.5,
          1495,
          597.5,
          178.75,
          2635.55,
          1046.25,
          420,
          353.28,
          705,
          1110,
          2028.75,
          599.2,
          497.15,
          74.98,
          265,
          331.25,
          178.75,
          310,
          747.5,
          310,
          470,
          212.5,
          293.75,
          1046.25,
          420,
          221.25,
          150,
          491.25,
          1056.25,
          713.75,
          117.9,
          1601.25,
          189.9,
          113.98,
          234,
          1601.25,
          224.53,
          92.5,
          259.88,
          2000,
          337.5,
          429.76,
          86.3,
          324.45,
          142.5,
          331.25,
          1387.5,
          683.75,
          409.5,
          112,
          101.25,
          223.1,
          298,
          298.58,
          55,
          452.6,
          1152.5,
          923.99,
          234.25,
          232.5,
          750.8,
          1323.75,
          6300,
          1687.5,
          895,
          295,
          94.95,
          379,
          618.75,
          2113.75,
          2967.5,
          232.82,
          902.42,
          1451.25,
          84.95,
          134.95,
          187.86,
          231.95,
          745,
          440,
          544.78,
          3181.25,
          245.5,
          260.44,
          1046.25,
          215,
          1558.75,
          420,
          2028.75,
          95,
          1387.5,
          1173.75,
          36.3,
          295,
          722.66,
          320,
          425,
          318.73,
          363.11,
          137.95,
          1628.5,
          225,
          435.4,
          295,
          89.3,
          134.62,
          525,
          280.1,
          3416.25,
          445,
          6834.1,
          60,
          186.17,
          220.9,
          107.41,
          221.53,
          1495,
          71.95,
          129.95,
          50.19,
          1387.5,
          84.5,
          397.5,
          533.75,
          104.95,
          29.29,
          184.95,
          618.75,
          159.95,
          39.95,
          265,
          27.95,
          450,
          925.77,
          2943.75,
          76,
          229,
          338,
          74
         ],
         "yaxis": "y"
        }
       ],
       "layout": {
        "barmode": "relative",
        "legend": {
         "tracegroupgap": 0
        },
        "margin": {
         "t": 60
        },
        "template": {
         "data": {
          "bar": [
           {
            "error_x": {
             "color": "#2a3f5f"
            },
            "error_y": {
             "color": "#2a3f5f"
            },
            "marker": {
             "line": {
              "color": "#E5ECF6",
              "width": 0.5
             },
             "pattern": {
              "fillmode": "overlay",
              "size": 10,
              "solidity": 0.2
             }
            },
            "type": "bar"
           }
          ],
          "barpolar": [
           {
            "marker": {
             "line": {
              "color": "#E5ECF6",
              "width": 0.5
             },
             "pattern": {
              "fillmode": "overlay",
              "size": 10,
              "solidity": 0.2
             }
            },
            "type": "barpolar"
           }
          ],
          "carpet": [
           {
            "aaxis": {
             "endlinecolor": "#2a3f5f",
             "gridcolor": "white",
             "linecolor": "white",
             "minorgridcolor": "white",
             "startlinecolor": "#2a3f5f"
            },
            "baxis": {
             "endlinecolor": "#2a3f5f",
             "gridcolor": "white",
             "linecolor": "white",
             "minorgridcolor": "white",
             "startlinecolor": "#2a3f5f"
            },
            "type": "carpet"
           }
          ],
          "choropleth": [
           {
            "colorbar": {
             "outlinewidth": 0,
             "ticks": ""
            },
            "type": "choropleth"
           }
          ],
          "contour": [
           {
            "colorbar": {
             "outlinewidth": 0,
             "ticks": ""
            },
            "colorscale": [
             [
              0,
              "#0d0887"
             ],
             [
              0.1111111111111111,
              "#46039f"
             ],
             [
              0.2222222222222222,
              "#7201a8"
             ],
             [
              0.3333333333333333,
              "#9c179e"
             ],
             [
              0.4444444444444444,
              "#bd3786"
             ],
             [
              0.5555555555555556,
              "#d8576b"
             ],
             [
              0.6666666666666666,
              "#ed7953"
             ],
             [
              0.7777777777777778,
              "#fb9f3a"
             ],
             [
              0.8888888888888888,
              "#fdca26"
             ],
             [
              1,
              "#f0f921"
             ]
            ],
            "type": "contour"
           }
          ],
          "contourcarpet": [
           {
            "colorbar": {
             "outlinewidth": 0,
             "ticks": ""
            },
            "type": "contourcarpet"
           }
          ],
          "heatmap": [
           {
            "colorbar": {
             "outlinewidth": 0,
             "ticks": ""
            },
            "colorscale": [
             [
              0,
              "#0d0887"
             ],
             [
              0.1111111111111111,
              "#46039f"
             ],
             [
              0.2222222222222222,
              "#7201a8"
             ],
             [
              0.3333333333333333,
              "#9c179e"
             ],
             [
              0.4444444444444444,
              "#bd3786"
             ],
             [
              0.5555555555555556,
              "#d8576b"
             ],
             [
              0.6666666666666666,
              "#ed7953"
             ],
             [
              0.7777777777777778,
              "#fb9f3a"
             ],
             [
              0.8888888888888888,
              "#fdca26"
             ],
             [
              1,
              "#f0f921"
             ]
            ],
            "type": "heatmap"
           }
          ],
          "heatmapgl": [
           {
            "colorbar": {
             "outlinewidth": 0,
             "ticks": ""
            },
            "colorscale": [
             [
              0,
              "#0d0887"
             ],
             [
              0.1111111111111111,
              "#46039f"
             ],
             [
              0.2222222222222222,
              "#7201a8"
             ],
             [
              0.3333333333333333,
              "#9c179e"
             ],
             [
              0.4444444444444444,
              "#bd3786"
             ],
             [
              0.5555555555555556,
              "#d8576b"
             ],
             [
              0.6666666666666666,
              "#ed7953"
             ],
             [
              0.7777777777777778,
              "#fb9f3a"
             ],
             [
              0.8888888888888888,
              "#fdca26"
             ],
             [
              1,
              "#f0f921"
             ]
            ],
            "type": "heatmapgl"
           }
          ],
          "histogram": [
           {
            "marker": {
             "pattern": {
              "fillmode": "overlay",
              "size": 10,
              "solidity": 0.2
             }
            },
            "type": "histogram"
           }
          ],
          "histogram2d": [
           {
            "colorbar": {
             "outlinewidth": 0,
             "ticks": ""
            },
            "colorscale": [
             [
              0,
              "#0d0887"
             ],
             [
              0.1111111111111111,
              "#46039f"
             ],
             [
              0.2222222222222222,
              "#7201a8"
             ],
             [
              0.3333333333333333,
              "#9c179e"
             ],
             [
              0.4444444444444444,
              "#bd3786"
             ],
             [
              0.5555555555555556,
              "#d8576b"
             ],
             [
              0.6666666666666666,
              "#ed7953"
             ],
             [
              0.7777777777777778,
              "#fb9f3a"
             ],
             [
              0.8888888888888888,
              "#fdca26"
             ],
             [
              1,
              "#f0f921"
             ]
            ],
            "type": "histogram2d"
           }
          ],
          "histogram2dcontour": [
           {
            "colorbar": {
             "outlinewidth": 0,
             "ticks": ""
            },
            "colorscale": [
             [
              0,
              "#0d0887"
             ],
             [
              0.1111111111111111,
              "#46039f"
             ],
             [
              0.2222222222222222,
              "#7201a8"
             ],
             [
              0.3333333333333333,
              "#9c179e"
             ],
             [
              0.4444444444444444,
              "#bd3786"
             ],
             [
              0.5555555555555556,
              "#d8576b"
             ],
             [
              0.6666666666666666,
              "#ed7953"
             ],
             [
              0.7777777777777778,
              "#fb9f3a"
             ],
             [
              0.8888888888888888,
              "#fdca26"
             ],
             [
              1,
              "#f0f921"
             ]
            ],
            "type": "histogram2dcontour"
           }
          ],
          "mesh3d": [
           {
            "colorbar": {
             "outlinewidth": 0,
             "ticks": ""
            },
            "type": "mesh3d"
           }
          ],
          "parcoords": [
           {
            "line": {
             "colorbar": {
              "outlinewidth": 0,
              "ticks": ""
             }
            },
            "type": "parcoords"
           }
          ],
          "pie": [
           {
            "automargin": true,
            "type": "pie"
           }
          ],
          "scatter": [
           {
            "fillpattern": {
             "fillmode": "overlay",
             "size": 10,
             "solidity": 0.2
            },
            "type": "scatter"
           }
          ],
          "scatter3d": [
           {
            "line": {
             "colorbar": {
              "outlinewidth": 0,
              "ticks": ""
             }
            },
            "marker": {
             "colorbar": {
              "outlinewidth": 0,
              "ticks": ""
             }
            },
            "type": "scatter3d"
           }
          ],
          "scattercarpet": [
           {
            "marker": {
             "colorbar": {
              "outlinewidth": 0,
              "ticks": ""
             }
            },
            "type": "scattercarpet"
           }
          ],
          "scattergeo": [
           {
            "marker": {
             "colorbar": {
              "outlinewidth": 0,
              "ticks": ""
             }
            },
            "type": "scattergeo"
           }
          ],
          "scattergl": [
           {
            "marker": {
             "colorbar": {
              "outlinewidth": 0,
              "ticks": ""
             }
            },
            "type": "scattergl"
           }
          ],
          "scattermapbox": [
           {
            "marker": {
             "colorbar": {
              "outlinewidth": 0,
              "ticks": ""
             }
            },
            "type": "scattermapbox"
           }
          ],
          "scatterpolar": [
           {
            "marker": {
             "colorbar": {
              "outlinewidth": 0,
              "ticks": ""
             }
            },
            "type": "scatterpolar"
           }
          ],
          "scatterpolargl": [
           {
            "marker": {
             "colorbar": {
              "outlinewidth": 0,
              "ticks": ""
             }
            },
            "type": "scatterpolargl"
           }
          ],
          "scatterternary": [
           {
            "marker": {
             "colorbar": {
              "outlinewidth": 0,
              "ticks": ""
             }
            },
            "type": "scatterternary"
           }
          ],
          "surface": [
           {
            "colorbar": {
             "outlinewidth": 0,
             "ticks": ""
            },
            "colorscale": [
             [
              0,
              "#0d0887"
             ],
             [
              0.1111111111111111,
              "#46039f"
             ],
             [
              0.2222222222222222,
              "#7201a8"
             ],
             [
              0.3333333333333333,
              "#9c179e"
             ],
             [
              0.4444444444444444,
              "#bd3786"
             ],
             [
              0.5555555555555556,
              "#d8576b"
             ],
             [
              0.6666666666666666,
              "#ed7953"
             ],
             [
              0.7777777777777778,
              "#fb9f3a"
             ],
             [
              0.8888888888888888,
              "#fdca26"
             ],
             [
              1,
              "#f0f921"
             ]
            ],
            "type": "surface"
           }
          ],
          "table": [
           {
            "cells": {
             "fill": {
              "color": "#EBF0F8"
             },
             "line": {
              "color": "white"
             }
            },
            "header": {
             "fill": {
              "color": "#C8D4E3"
             },
             "line": {
              "color": "white"
             }
            },
            "type": "table"
           }
          ]
         },
         "layout": {
          "annotationdefaults": {
           "arrowcolor": "#2a3f5f",
           "arrowhead": 0,
           "arrowwidth": 1
          },
          "autotypenumbers": "strict",
          "coloraxis": {
           "colorbar": {
            "outlinewidth": 0,
            "ticks": ""
           }
          },
          "colorscale": {
           "diverging": [
            [
             0,
             "#8e0152"
            ],
            [
             0.1,
             "#c51b7d"
            ],
            [
             0.2,
             "#de77ae"
            ],
            [
             0.3,
             "#f1b6da"
            ],
            [
             0.4,
             "#fde0ef"
            ],
            [
             0.5,
             "#f7f7f7"
            ],
            [
             0.6,
             "#e6f5d0"
            ],
            [
             0.7,
             "#b8e186"
            ],
            [
             0.8,
             "#7fbc41"
            ],
            [
             0.9,
             "#4d9221"
            ],
            [
             1,
             "#276419"
            ]
           ],
           "sequential": [
            [
             0,
             "#0d0887"
            ],
            [
             0.1111111111111111,
             "#46039f"
            ],
            [
             0.2222222222222222,
             "#7201a8"
            ],
            [
             0.3333333333333333,
             "#9c179e"
            ],
            [
             0.4444444444444444,
             "#bd3786"
            ],
            [
             0.5555555555555556,
             "#d8576b"
            ],
            [
             0.6666666666666666,
             "#ed7953"
            ],
            [
             0.7777777777777778,
             "#fb9f3a"
            ],
            [
             0.8888888888888888,
             "#fdca26"
            ],
            [
             1,
             "#f0f921"
            ]
           ],
           "sequentialminus": [
            [
             0,
             "#0d0887"
            ],
            [
             0.1111111111111111,
             "#46039f"
            ],
            [
             0.2222222222222222,
             "#7201a8"
            ],
            [
             0.3333333333333333,
             "#9c179e"
            ],
            [
             0.4444444444444444,
             "#bd3786"
            ],
            [
             0.5555555555555556,
             "#d8576b"
            ],
            [
             0.6666666666666666,
             "#ed7953"
            ],
            [
             0.7777777777777778,
             "#fb9f3a"
            ],
            [
             0.8888888888888888,
             "#fdca26"
            ],
            [
             1,
             "#f0f921"
            ]
           ]
          },
          "colorway": [
           "#636efa",
           "#EF553B",
           "#00cc96",
           "#ab63fa",
           "#FFA15A",
           "#19d3f3",
           "#FF6692",
           "#B6E880",
           "#FF97FF",
           "#FECB52"
          ],
          "font": {
           "color": "#2a3f5f"
          },
          "geo": {
           "bgcolor": "white",
           "lakecolor": "white",
           "landcolor": "#E5ECF6",
           "showlakes": true,
           "showland": true,
           "subunitcolor": "white"
          },
          "hoverlabel": {
           "align": "left"
          },
          "hovermode": "closest",
          "mapbox": {
           "style": "light"
          },
          "paper_bgcolor": "white",
          "plot_bgcolor": "#E5ECF6",
          "polar": {
           "angularaxis": {
            "gridcolor": "white",
            "linecolor": "white",
            "ticks": ""
           },
           "bgcolor": "#E5ECF6",
           "radialaxis": {
            "gridcolor": "white",
            "linecolor": "white",
            "ticks": ""
           }
          },
          "scene": {
           "xaxis": {
            "backgroundcolor": "#E5ECF6",
            "gridcolor": "white",
            "gridwidth": 2,
            "linecolor": "white",
            "showbackground": true,
            "ticks": "",
            "zerolinecolor": "white"
           },
           "yaxis": {
            "backgroundcolor": "#E5ECF6",
            "gridcolor": "white",
            "gridwidth": 2,
            "linecolor": "white",
            "showbackground": true,
            "ticks": "",
            "zerolinecolor": "white"
           },
           "zaxis": {
            "backgroundcolor": "#E5ECF6",
            "gridcolor": "white",
            "gridwidth": 2,
            "linecolor": "white",
            "showbackground": true,
            "ticks": "",
            "zerolinecolor": "white"
           }
          },
          "shapedefaults": {
           "line": {
            "color": "#2a3f5f"
           }
          },
          "ternary": {
           "aaxis": {
            "gridcolor": "white",
            "linecolor": "white",
            "ticks": ""
           },
           "baxis": {
            "gridcolor": "white",
            "linecolor": "white",
            "ticks": ""
           },
           "bgcolor": "#E5ECF6",
           "caxis": {
            "gridcolor": "white",
            "linecolor": "white",
            "ticks": ""
           }
          },
          "title": {
           "x": 0.05
          },
          "xaxis": {
           "automargin": true,
           "gridcolor": "white",
           "linecolor": "white",
           "ticks": "",
           "title": {
            "standoff": 15
           },
           "zerolinecolor": "white",
           "zerolinewidth": 2
          },
          "yaxis": {
           "automargin": true,
           "gridcolor": "white",
           "linecolor": "white",
           "ticks": "",
           "title": {
            "standoff": 15
           },
           "zerolinecolor": "white",
           "zerolinewidth": 2
          }
         }
        },
        "xaxis": {
         "anchor": "y",
         "domain": [
          0,
          1
         ],
         "title": {
          "text": "year"
         }
        },
        "yaxis": {
         "anchor": "x",
         "domain": [
          0,
          1
         ],
         "title": {
          "text": "sum of price_euros"
         }
        }
       }
      }
     },
     "metadata": {},
     "output_type": "display_data"
    }
   ],
   "source": [
    "import plotly.express as px\n",
    "\n",
    "fig = px.histogram(wines_df, x = \"year\", y = \"price_euros\")\n",
    "fig.show()"
   ]
  },
  {
   "cell_type": "code",
   "execution_count": 10,
   "metadata": {},
   "outputs": [
    {
     "data": {
      "application/vnd.plotly.v1+json": {
       "config": {
        "plotlyServerURL": "https://plot.ly"
       },
       "data": [
        {
         "alignmentgroup": "True",
         "bingroup": "x",
         "histfunc": "sum",
         "hovertemplate": "ratings_average=%{x}<br>sum of price_euros=%{y}<extra></extra>",
         "legendgroup": "",
         "marker": {
          "color": "#636efa",
          "pattern": {
           "shape": ""
          }
         },
         "name": "",
         "offsetgroup": "",
         "orientation": "v",
         "showlegend": false,
         "type": "histogram",
         "x": [
          4.6,
          4.6,
          4.7,
          4.7,
          4.7,
          4.7,
          4.7,
          4.6,
          4.7,
          4.7,
          4.7,
          4.7,
          4.6,
          4.5,
          4.7,
          4.6,
          4.7,
          4.7,
          4.7,
          4.7,
          4.8,
          4.7,
          4.6,
          4.7,
          4.5,
          4.7,
          4.6,
          4.7,
          4.6,
          4.6,
          4.6,
          4.5,
          4.6,
          4.6,
          4.6,
          4.6,
          4.6,
          4.6,
          4.6,
          4.6,
          4.6,
          4.6,
          4.6,
          4.5,
          4.7,
          4.7,
          4.7,
          4.7,
          4.7,
          4.5,
          4.7,
          4.7,
          4.6,
          4.6,
          4.6,
          4.7,
          4.6,
          4.6,
          4.6,
          4.6,
          4.5,
          4.6,
          4.7,
          4.7,
          4.7,
          4.6,
          4.7,
          4.6,
          4.7,
          4.7,
          4.6,
          4.6,
          4.4,
          4.5,
          4.7,
          4.7,
          4.6,
          4.6,
          4.6,
          4.6,
          4.6,
          4.6,
          4.6,
          4.7,
          4.6,
          4.7,
          4.7,
          4.7,
          4.6,
          4.6,
          4.6,
          4.6,
          4.7,
          4.7,
          4.7,
          4.7,
          4.7,
          4.6,
          4.7,
          4.7,
          4.7,
          4.6,
          4.6,
          4.6,
          4.7,
          4.7,
          4.7,
          4.7,
          4.7,
          4.5,
          4.4,
          4.6,
          4.7,
          4.6,
          4.6,
          4.6,
          4.7,
          4.6,
          4.6,
          4.6,
          4.6,
          4.6,
          4.5,
          4.6,
          4.5,
          4.7,
          4.7,
          4.7,
          4.7,
          4.7,
          4.7,
          4.7,
          4.7,
          4.6,
          4.7,
          4.7,
          4.7,
          4.7,
          4.7,
          4.7,
          4.7,
          4.7,
          4.7,
          4.7,
          4.6,
          4.7,
          4.6,
          4.6,
          4.7,
          4.6,
          4.6,
          4.6,
          4.6,
          4.5,
          4.6,
          4.7,
          4.7,
          4.7,
          4.7,
          4.7,
          4.7,
          4.5,
          4.7,
          4.7,
          4.6,
          4.6,
          4.6,
          4.7,
          4.6,
          4.6,
          4.6,
          4.6,
          4.7,
          4.5,
          4.5,
          4.6,
          4.6,
          4.4,
          4.5,
          4.6,
          4.4,
          4.6,
          4.6,
          4.4,
          4.4,
          4.6,
          4.7,
          4.6,
          4.6,
          4.6,
          4.6,
          4.7,
          4.5,
          4.6,
          4.6,
          4.6,
          4.6,
          4.6,
          4.6,
          4.6,
          4.6,
          4.7,
          4.6,
          4.5,
          4.6,
          4.6,
          4.6,
          4.6,
          4.6,
          4.4,
          4.6,
          4.7,
          4.6,
          4.6,
          4.6,
          4.6,
          4.7,
          4.6,
          4.6,
          4.7,
          4.6,
          4.6,
          4.6,
          4.5,
          4.5,
          4.6,
          4.4,
          4.5,
          4.5,
          4.6,
          4.6,
          4.6,
          4.5,
          4.6,
          4.7,
          4.6,
          4.6,
          4.5,
          4.5,
          4.6,
          4.7,
          4.6,
          4.7,
          4.6,
          4.7,
          4.6,
          4.4,
          4.6,
          4.5,
          4.6,
          4.5,
          4.6,
          4.5,
          4.5,
          4.6,
          4.5,
          4.6,
          4.6,
          4.6,
          4.4,
          4.6,
          4.6,
          4.6,
          4.6,
          4.6,
          4.6,
          4.6,
          4.5,
          4.6,
          4.5,
          4.6,
          4.6,
          4.6,
          4.6,
          4.5,
          4.7,
          4.6,
          4.6,
          4.3,
          4.5,
          4.7,
          4.5,
          4.6,
          4.6,
          4.6,
          4.5,
          4.4,
          4.6,
          4.6,
          4.4,
          4.6,
          4.6,
          4.6,
          4.6,
          4.6,
          4.6,
          4.4,
          4.6,
          4.5,
          4.6,
          4.6,
          4.6,
          4.7,
          4.7,
          4.5,
          4.4,
          4.6,
          4.3,
          4.5,
          4.6,
          4.5,
          4.6,
          4.7,
          4.6,
          4.6,
          4.6,
          4.6,
          4.6,
          4.5,
          4.6,
          4.6,
          4.7,
          4.4,
          4.5,
          4.6,
          4.6,
          4.6,
          4.4,
          4.6,
          4.6,
          4.6,
          4.6,
          4.5,
          4.7,
          4.6,
          4.6,
          4.6,
          4.4,
          4.5,
          4.6,
          4.6,
          4.7,
          4.6,
          4.5,
          4.6,
          4.5,
          4.5,
          4.6,
          4.5,
          4.6,
          4.6,
          4.5,
          4.6,
          4.6,
          4.6,
          4.6,
          4.7,
          4.6,
          4.6,
          4.6,
          4.5,
          4.5,
          4.6,
          4.6,
          4.6,
          4.6,
          4.6,
          4.5,
          4.5,
          4.6,
          4.6,
          4.6,
          4.6,
          4.6,
          4.6,
          4.4,
          4.6,
          4.6,
          4.6,
          4.6,
          4.6,
          4.6,
          4.4,
          4.5,
          4.6,
          4.5,
          4.5,
          4.6,
          4.6,
          4.6,
          4.4,
          4.5,
          4.6,
          4.5,
          4.5,
          4.6,
          4.7,
          4.7,
          4.6,
          4.6,
          4.5,
          4.6,
          4.5,
          4.5,
          4.4,
          4.5,
          4.6,
          4.6,
          4.5,
          4.5,
          4.5,
          4.6,
          4.5,
          4.6,
          4.4,
          4.4,
          4.5,
          4.6,
          4.5,
          4.4,
          4.6,
          4.5,
          4.5,
          4.5,
          4.5,
          4.4,
          4.6,
          4.6,
          4.6,
          4.5,
          4.6,
          4.4,
          4.5,
          4.6,
          4.4,
          4.5,
          4.5,
          4.6,
          4.6,
          4.6,
          4.5,
          4.5,
          4.5,
          4.6,
          4.5,
          4.4,
          4.5,
          4.6,
          4.3,
          4.6,
          4.6,
          4.6,
          4.4,
          4.4,
          4.6,
          4.5,
          4.6,
          4.7,
          4.6,
          4.5,
          4.6,
          4.6,
          4.6,
          4.5,
          4.6,
          4.6,
          4.6,
          4.5,
          4.6,
          4.5,
          4.6,
          4.5,
          4.6,
          4.5,
          4.5,
          4.6,
          4.5,
          4.6,
          4.4,
          4.6,
          4.6,
          4.6,
          4.4,
          4.6,
          4.6,
          4.3,
          4.6,
          4.5,
          4.4,
          4.6,
          4.5,
          4.5,
          4.5,
          4.6,
          4.4,
          4.5,
          4.6,
          4.6,
          4.4,
          4.3,
          4.5,
          4.6,
          4.5,
          4.6,
          4.3,
          4.4,
          4.4,
          4.6,
          4.6,
          4.6,
          4.6,
          4.5,
          4.6,
          4.6,
          4.7,
          4.6,
          4.5,
          4.4,
          4.6,
          4.5,
          4.6,
          4.6,
          4.5,
          4.5,
          4.5,
          4.5,
          4.6,
          4.6,
          4.5,
          4.6,
          4.6,
          4.5,
          4.5,
          4.4,
          4.6,
          4.3,
          4.4,
          4.5,
          4.6,
          4.3,
          4.3,
          4.5,
          4.5,
          4.6,
          4.6,
          4.4,
          4.4,
          4.3,
          4.5,
          4.5,
          4.5,
          4.5,
          4.4,
          4.5,
          4.4,
          4.4,
          4.6,
          4.2,
          4.4,
          4.3,
          4.5,
          4.6,
          4.5,
          4.5,
          4.6,
          4.5,
          4.6,
          4.4,
          4.4,
          4.3,
          4.5,
          4.5,
          4.3,
          4.5,
          4.5,
          4.6,
          4.5,
          4.4,
          4.5,
          4.5,
          4.3,
          4.5,
          4.5,
          4.5,
          4.4,
          4.6,
          4.5,
          4.4,
          4.5,
          4.5,
          4.4,
          4.4,
          4.6,
          4.5,
          4.4,
          4.2,
          4.6,
          4.6,
          4.4,
          4.5,
          4.4,
          4.5,
          4.5,
          4.5,
          4.3,
          4.6,
          4.6,
          4.5,
          4.5,
          4.5,
          4.5,
          4.4,
          4.6,
          4.4,
          4.4,
          4.6,
          4.5,
          4.5,
          4.5,
          4.5,
          4.5,
          4.5,
          4.5,
          4.4,
          4.6,
          4.5,
          4.3,
          4.4,
          4.3,
          4.5,
          4.6,
          4.4,
          4.4,
          4.3,
          4.4,
          4.6,
          4.5,
          4.5,
          4.4,
          4.6,
          4.6,
          4.5,
          4.4,
          4.4,
          4.6,
          4.6,
          4.4,
          4.5,
          4.5,
          4.5,
          4.5,
          4.5,
          4.5,
          4.5,
          4.5,
          4.4,
          4.2,
          4.4,
          4.5,
          4.5,
          4.5,
          4.4,
          4.4,
          4.5,
          4.7,
          4.4,
          4.4,
          4.6,
          4.5,
          4.4,
          4.4,
          4.5,
          4.6,
          4.5,
          4.5,
          4.5,
          4.5,
          4.6,
          4.2,
          4.5,
          4.5,
          4.6,
          4.6,
          4.3,
          4.6,
          4.4,
          4.5,
          4.4,
          4.6,
          4.6,
          4.6,
          4.5,
          4.5,
          4.5,
          4.5,
          4.3,
          4.4,
          4.6,
          4.6,
          4.5,
          4.5,
          4.6,
          4.5,
          4.5,
          4.6,
          4.3,
          4.5,
          4.5,
          4.5,
          4.6,
          4.5,
          4.5,
          4.5,
          4.5,
          4.5,
          4.6,
          4.4,
          4.6,
          4.5,
          4.4,
          4.5,
          4.4,
          4.5,
          4.5,
          4.5,
          4.6,
          4.3,
          4.4,
          4.5,
          4.5,
          4.5,
          4.5,
          4.4,
          4.4,
          4.4,
          4.4,
          4.5,
          4.7,
          4.4,
          4.5,
          4.5,
          4.4,
          4.5,
          4.4,
          4.3,
          4.5,
          4.5,
          4.7,
          4.5,
          4.6,
          4.5,
          4.3,
          4.4,
          4.3,
          4.5,
          4.5,
          4.4,
          4.4,
          4.3,
          4.5,
          4.3,
          4.5,
          4.5,
          4.6,
          4.4,
          4.5,
          4.3,
          4.4,
          4.4,
          4.5,
          4.6,
          4.4,
          4.6,
          4.4,
          4.5,
          4.5,
          4.3,
          4.5,
          4.5,
          4.6,
          4.5,
          4.4,
          4.5,
          4.4,
          4.6,
          4.4,
          4.5,
          4.6,
          4.3,
          4.3,
          4.3,
          4.4,
          4.4,
          4.3,
          4.4,
          4.4,
          4.4,
          4.5,
          4.3,
          4.3,
          4.6,
          4.4,
          4.4,
          4.5,
          4.4,
          4.5,
          4.2,
          4.4,
          4.4,
          4.6,
          4.6,
          4.5,
          4.6,
          4.5,
          4.4,
          4.4,
          4.4,
          4.6,
          4.6,
          4.4,
          4.6,
          4.4,
          4.5,
          4.4,
          4.4,
          4.4,
          4.4,
          4.5,
          4.4,
          4.5,
          4.5,
          4.6,
          4.4,
          4.4,
          4.5,
          4.4,
          4.3,
          4.5,
          4.5,
          4.3,
          4.4,
          4.4,
          4.5,
          4.4,
          4.3,
          4.3,
          4.5,
          4.3,
          4.5,
          4.5,
          4.5,
          4.5,
          4.4,
          4.3,
          4.5,
          4.4,
          4.5,
          4.3,
          4.4,
          4.4,
          4.2,
          4.3,
          4.4,
          4.6,
          4.5,
          4.5,
          4.4,
          4.4,
          4.4,
          4.6,
          4.5,
          4.4,
          4.5,
          4.3,
          4.5,
          4.5,
          4.3,
          4.5,
          4.4,
          4.5,
          4.6,
          4.5,
          4.4,
          4.4,
          4.5,
          4.4,
          4.4,
          4.5,
          4.3,
          4.4,
          4.6,
          4.4,
          4.4,
          4.4,
          4.3,
          4.3,
          4.6,
          4.4,
          4.5,
          4.5,
          4.4,
          4.4,
          4.6,
          4.6,
          4.4,
          4.4,
          4.4,
          4.4,
          4.4,
          4.6,
          4.4,
          4.4,
          4.5,
          4.4,
          4.3,
          4.4,
          4.6,
          4.4,
          4.4,
          4.5,
          4.5,
          4.4,
          4.4,
          4.3,
          4.4,
          4.3,
          4.3,
          4.5,
          4.6,
          4.4,
          4.5,
          4.4,
          4.6,
          4.4,
          4.6,
          4.5,
          4.5,
          4.4,
          4.5,
          4.5,
          4.4,
          4.4,
          4.4,
          4.4,
          4.2,
          4.3,
          4.5,
          4.4,
          4.2,
          4.4,
          4.4,
          4.4,
          4.5,
          4.4,
          4.4,
          4.6,
          4.4,
          4.5,
          4.3,
          4.5,
          4.3,
          4.4,
          4.5,
          4.3,
          4.4,
          4.4,
          4.3,
          4.3,
          4.3,
          4.4,
          4.3,
          4.3,
          4.4,
          4.4,
          4.5,
          4.4,
          4.4,
          4.3,
          4.3,
          4.3,
          4.4,
          4.3,
          4.4,
          4.5,
          4.2,
          4.4,
          4.3,
          4.4,
          4.5,
          4.4,
          4.5,
          4.4,
          4.4,
          4.3,
          4.4,
          4.4,
          4.4,
          4.4,
          4.3,
          4.4,
          4.6,
          4.4,
          4.4,
          4.4,
          4.4,
          4.5,
          4.3,
          4.2,
          4.5,
          4.3,
          4.3,
          4.3,
          4.5,
          4.4,
          4.4,
          4.4,
          4.4,
          4.3,
          4.3,
          4.3,
          4.5,
          4.5,
          4.5,
          4.5,
          4.5,
          4.4,
          4.5,
          4.5,
          4.5,
          4.5,
          4.3,
          4.4,
          4.4,
          4.3,
          4.4,
          4.3,
          4.5,
          4.4,
          4.4,
          4.3,
          4.3,
          4.4,
          4.4,
          4.4,
          4.4,
          4.4,
          4.3,
          4.4,
          4.2,
          4.5,
          4.3,
          4.5,
          4.4,
          4.4,
          4.4,
          4.6,
          4.3,
          4.5,
          4.4,
          4.4,
          4.5,
          4.4,
          4.5,
          4.4,
          4.4,
          4.5,
          4.5,
          4.4,
          4.5,
          4.4,
          4.5,
          4.4,
          4.4,
          4.5,
          4.5,
          4.3,
          4.5,
          4.4,
          4.4,
          4.4,
          4.4,
          4.6,
          4.4,
          4.5,
          4.4,
          4.4,
          4.3,
          4.5,
          4.3,
          4.4,
          4.5,
          4.4,
          4.4,
          4.4,
          4.4,
          4.4,
          4.3,
          4.3,
          4.4,
          4.4,
          4.4,
          4.4,
          4.3,
          4.5,
          4.3,
          4.3,
          4.4,
          4.3,
          4.4,
          4.3,
          4.5,
          4.4,
          4.4,
          4.3,
          4.3,
          4.3,
          4.4,
          4.3,
          4.2,
          4.4,
          4.3,
          4.3,
          4.3,
          4.3,
          4.4,
          4.4,
          4.2,
          4.3,
          4.3,
          4.4,
          4.4,
          4.4,
          4.2,
          4.3,
          4.4,
          4.2,
          4.3,
          4.3,
          4.4,
          4.3,
          4.4,
          4.3,
          4.4,
          4.5,
          4.3,
          4.4,
          4.5,
          4.3,
          4.3,
          4.3,
          4.3,
          4.3,
          4.4,
          4.3,
          4.5,
          4.4,
          4.4,
          4.1,
          4.3,
          4.3,
          4.3,
          4.4,
          4.4,
          4.2,
          4.2,
          4.3,
          4.4,
          4.4,
          4.3,
          4.5,
          4.4,
          4.3,
          4.4,
          4.4,
          4.4,
          4.3,
          4.3,
          4.2,
          4.3,
          4.3,
          4.4,
          4.4,
          4.5,
          4.4,
          4.3,
          4.4,
          4.4,
          4.4,
          4.5,
          4.2,
          4.4,
          4.1,
          4.4,
          4.3,
          4.3,
          4.4,
          4.2,
          4.4,
          4.3,
          4.3,
          4.4,
          4.3,
          4.1,
          4.3,
          4.2,
          4.3,
          4.4,
          4.4,
          4.5,
          4.4,
          4.4,
          4.4,
          4.3,
          4.4,
          4.3,
          4.4,
          4.4,
          4.3,
          4.2,
          4.3,
          4.3,
          4.4,
          4.4,
          4.4,
          4.3,
          4.2,
          4.3,
          4.3,
          4.2,
          4.4,
          4.4,
          4.3,
          4.3,
          4.4,
          4.3,
          4.3,
          4.3,
          4.4,
          4.3,
          4.4,
          4.5,
          4.3,
          4.3,
          4.3,
          4.3,
          4.3,
          4.3,
          4.3,
          4.3,
          4.3,
          4.3,
          4.3,
          4.4,
          4.3,
          4.3,
          4.3,
          4.3,
          4.4,
          4.2,
          4.4,
          4.4,
          4.4,
          4.5,
          4.4,
          4.5,
          4.4,
          4.3,
          4.3,
          4.4,
          4.3,
          4.4,
          4.4,
          4.5,
          4.4,
          4.2,
          4.3,
          4.3,
          4.3,
          4.4,
          4.3,
          4.4,
          4.3,
          4.3,
          4.4,
          4.3,
          4.3,
          4.3,
          4.3,
          4.4,
          4.4,
          4.2,
          4.3,
          4.4,
          4.3,
          4.4,
          4.3,
          4.3,
          4.4,
          4.2,
          4.4,
          4.6,
          4.4,
          4.4,
          4.3,
          4.2,
          4.4,
          4.4,
          4.4,
          4.5,
          4.4,
          4.4,
          4.4,
          4.4,
          4.3,
          4.5,
          4.2,
          4.5,
          4.4,
          4.3,
          4.4,
          4.3,
          4.4,
          4.4,
          4.5,
          4.4,
          4.4,
          4.6,
          4.4,
          4.5,
          4.6,
          4.6,
          4.5,
          4.5,
          4.6,
          4.4,
          4.6,
          4.4,
          4.5,
          4.4,
          4.4,
          4.6,
          4.4,
          4.5,
          4.4,
          4.7,
          4.6,
          4.4,
          4.6,
          4.5,
          4.4,
          4.5,
          4.6,
          4.4,
          4.6,
          4.6,
          4.7,
          4.6,
          4.5,
          4.5,
          4.4,
          4.5,
          4.6,
          4.4,
          4.4,
          4.5,
          4.6,
          4.4,
          4.5,
          4.4,
          4.6,
          4.4,
          4.4,
          4.4,
          4.4,
          4.4,
          4.5,
          4.5,
          4.6,
          4.6,
          4.5,
          4.4,
          4.4,
          4.4,
          4.4,
          4.4,
          4.5,
          4.5,
          4.7,
          4.6,
          4.4,
          4.5,
          4.5,
          4.4,
          4.4,
          4.4,
          4.5,
          4.5,
          4.5,
          4.5,
          4.7,
          4.4,
          4.4,
          4.5,
          4.5,
          4.4,
          4.4,
          4.4,
          4.5,
          4.7,
          4.6,
          4.6,
          4.5,
          4.5,
          4.5,
          4.4,
          4.5,
          4.4,
          4.6,
          4.5,
          4.4,
          4.5,
          4.4,
          4.4,
          4.4,
          4.6,
          4.4,
          4.6,
          4.4,
          4.4,
          4.4,
          4.4,
          4.4,
          4.5,
          4.5,
          4.6,
          4.4,
          4.5,
          4.5,
          4.4,
          4.4,
          4.6,
          4.5,
          4.5,
          4.4,
          4.4,
          4.4,
          4.6,
          4.4,
          4.4,
          4.4,
          4.4,
          4.4,
          4.5,
          4.5,
          4.4,
          4.5,
          4.7,
          4.4,
          4.4,
          4.4,
          4.4,
          4.4,
          4.5,
          4.4,
          4.4,
          4.4,
          4.4,
          4.4,
          4.4,
          4.4,
          4.4,
          4.4,
          4.4,
          4.4,
          4.5,
          4.4,
          4.4,
          4.4,
          4.4,
          4.5,
          4.5,
          4.4,
          4.4,
          4.4,
          4.4
         ],
         "xaxis": "x",
         "y": [
          1970.05,
          1900,
          3522.5,
          2882.5,
          808.75,
          1921.25,
          3096.25,
          1152.5,
          6300,
          2455,
          913.05,
          555,
          1686.25,
          832.5,
          425,
          2028.75,
          4910,
          4697.5,
          5231.25,
          1686.25,
          1558.75,
          811.25,
          1601.25,
          745,
          705,
          379,
          1691.25,
          832.5,
          811.8,
          1625,
          437.5,
          1473.75,
          2753.75,
          896.25,
          3202.5,
          811.25,
          1686.25,
          747.5,
          1537.5,
          1900,
          1238.75,
          5977.5,
          1473.75,
          420,
          5017.5,
          2455,
          2747.5,
          3308.75,
          683.75,
          201.25,
          795,
          786.25,
          1473.75,
          2071.25,
          1067.5,
          697.5,
          668.75,
          1173.75,
          1173.75,
          1451.25,
          597.5,
          921.25,
          2967.5,
          731.25,
          2541.25,
          961.25,
          616.25,
          1046.25,
          728.75,
          9180,
          705,
          1601.25,
          597.5,
          1046.25,
          928.3,
          10960,
          1077.51,
          1800,
          425,
          533.75,
          1110,
          747.5,
          618.75,
          595,
          1164.36,
          811.25,
          747.5,
          410,
          1473.75,
          1173.75,
          597.5,
          1046.25,
          3395,
          10217.5,
          2241.25,
          8743.75,
          3181.25,
          961.25,
          3800,
          445,
          2967.5,
          683.75,
          566.25,
          2562.5,
          1975,
          3181.25,
          2113.75,
          4410,
          3096.25,
          1025,
          843.75,
          2028.75,
          1025,
          2753.75,
          1323.75,
          1200.79,
          3287.5,
          975,
          2327.5,
          3395,
          1433.8,
          1038.63,
          1900,
          1665,
          1046.25,
          683.75,
          487.5,
          2028.75,
          4697.5,
          1985,
          4163.75,
          2092.5,
          1815,
          640,
          4163.75,
          1921.25,
          2028.75,
          1900,
          2348.75,
          1900,
          2028.75,
          1900,
          397.5,
          414.75,
          1665,
          739,
          695,
          1477.42,
          6200,
          995,
          2028.75,
          702.5,
          1680,
          424.46,
          694,
          470,
          893.75,
          458,
          2028.75,
          470.75,
          491.25,
          512.5,
          198.4,
          239.6,
          1601.25,
          836.3,
          955.05,
          811.25,
          1750,
          265,
          645,
          202.2,
          1265,
          390,
          575,
          896.25,
          1042.1,
          597.5,
          811.25,
          961.25,
          189.95,
          940,
          697.5,
          605,
          1025,
          535,
          1095,
          950,
          905.55,
          535,
          592.5,
          443,
          683.75,
          726.25,
          299,
          1537.5,
          2050,
          70.5,
          527.6,
          592.5,
          795,
          1095,
          179.95,
          765.9,
          1570,
          453,
          412.5,
          357,
          453,
          225,
          250,
          490,
          309.48,
          455.2,
          260.19,
          425,
          465,
          1701.25,
          295,
          1061.8,
          661.25,
          1238.75,
          618.75,
          420,
          533.75,
          1408.75,
          208.75,
          353.75,
          491.25,
          1387.5,
          597.5,
          811.25,
          491.25,
          630,
          397.5,
          533.75,
          1387.5,
          491.25,
          618.75,
          795,
          8463.75,
          1387.5,
          533.75,
          1260,
          2028.75,
          618.75,
          423.5,
          1173.75,
          2028.75,
          597.5,
          576.25,
          2455,
          688.75,
          470,
          1025,
          178.75,
          753.4,
          470,
          1046.25,
          618.75,
          961.25,
          961.25,
          299.99,
          961.25,
          1046.25,
          1478.75,
          661.25,
          1110,
          1173.75,
          221.25,
          1046.25,
          425,
          1003.75,
          1046.25,
          376.25,
          7493.75,
          353.75,
          917.5,
          762,
          238.75,
          491.25,
          811.25,
          1025,
          340,
          1707.5,
          470,
          747.5,
          1238.75,
          1046.25,
          790,
          795,
          2668.75,
          832.5,
          695,
          493.8,
          1558.75,
          287.5,
          1339.7,
          411.4,
          895,
          638.83,
          349,
          1761.25,
          2967.5,
          235,
          619.75,
          533.75,
          470,
          1046.25,
          470,
          683.75,
          491.25,
          3266.25,
          491.25,
          360,
          460,
          455.17,
          482.5,
          832.5,
          360,
          825,
          644.95,
          533.75,
          201.25,
          390,
          533.75,
          1173.75,
          790,
          832.5,
          632.5,
          832.5,
          136.25,
          496.25,
          5800,
          842.98,
          597.5,
          295,
          212.5,
          1686.25,
          533.75,
          99.97,
          1040.6,
          249,
          1936.25,
          683.75,
          394,
          353.75,
          533.75,
          89,
          597.5,
          990,
          287,
          425,
          1590,
          768.75,
          448.75,
          752.5,
          683.75,
          715.15,
          353.75,
          1428.75,
          318.25,
          1601.25,
          4163.75,
          427.5,
          440,
          695,
          961.25,
          533.75,
          1110,
          961.25,
          397.5,
          331.25,
          1665,
          491.25,
          178.75,
          1750,
          220,
          533.75,
          462.5,
          1242.5,
          625,
          96.81,
          470,
          2668.75,
          293.7,
          865.65,
          521,
          1046.25,
          287.5,
          420,
          420,
          532.5,
          472.5,
          533.75,
          683.75,
          533.75,
          1815,
          346.75,
          1300,
          199,
          494.9,
          248.75,
          736.25,
          376.25,
          276.25,
          825,
          1237.5,
          353.75,
          533.75,
          485,
          495,
          491.25,
          896.25,
          289.83,
          290.5,
          373.8,
          737.5,
          470,
          349.91,
          462.5,
          99.95,
          494.9,
          99.95,
          448.75,
          289.83,
          2092.5,
          399,
          74.5,
          1387.5,
          149.5,
          349.91,
          420,
          995,
          618.75,
          453.58,
          92.95,
          425,
          409.5,
          212.75,
          480,
          512.5,
          700,
          375,
          225,
          224.53,
          431.25,
          142.95,
          138.67,
          1025,
          104.9,
          1025,
          811.25,
          215,
          448.8,
          310,
          225,
          1200,
          695,
          350,
          249.95,
          765,
          76.5,
          109.3,
          375,
          375,
          450,
          470,
          224.55,
          295,
          375,
          36.55,
          295,
          406.25,
          431.25,
          249,
          575,
          353.45,
          56.25,
          225,
          310,
          1900,
          199,
          832.5,
          227.25,
          1003.75,
          106.96,
          212.5,
          186.09,
          360,
          480,
          389.02,
          75,
          375,
          215,
          199.95,
          595,
          453,
          225.5,
          64.9,
          415,
          269.16,
          280,
          275,
          98.95,
          66.95,
          408.75,
          417.5,
          495,
          177.95,
          370,
          495,
          342,
          1188.05,
          1137.4,
          315,
          135,
          199.95,
          66.08,
          1473.75,
          726.25,
          375,
          597.5,
          91.95,
          109.8,
          735,
          295,
          229.95,
          105.95,
          1150,
          245,
          750,
          420,
          121.25,
          726.25,
          310,
          202.5,
          533.75,
          618.75,
          243.75,
          221.25,
          533.75,
          1025,
          1082.55,
          635.25,
          123.75,
          250,
          243.75,
          840,
          287.5,
          597.5,
          243.75,
          243.75,
          212.5,
          287.5,
          1686.25,
          243.75,
          147.82,
          747.5,
          310,
          470,
          917.5,
          630,
          820,
          260,
          65,
          1625,
          212.5,
          178.75,
          304.5,
          832.5,
          331.25,
          221.25,
          420,
          683.75,
          2676.75,
          1601.25,
          961.25,
          310,
          491.25,
          165,
          101,
          353.75,
          555,
          325,
          961.25,
          276.25,
          533.75,
          201.25,
          618.75,
          256.25,
          533.75,
          896.25,
          470,
          1430,
          150,
          2028.75,
          961.25,
          273.75,
          512.5,
          630,
          74,
          140.2,
          1495,
          62.95,
          310,
          448.75,
          420,
          239,
          212.5,
          183.7,
          397.5,
          470,
          832.5,
          618.75,
          1381.48,
          747.5,
          420,
          450,
          470,
          331.25,
          233.75,
          705,
          232.5,
          1173.75,
          420,
          230,
          297.5,
          397.5,
          122,
          618.75,
          491.6,
          211.25,
          618.75,
          832.5,
          790,
          243.75,
          1823.75,
          448.75,
          1025,
          346.75,
          600,
          221.25,
          545,
          1025,
          523.75,
          397.5,
          190,
          1323.75,
          331.25,
          353.75,
          310,
          331.25,
          353.75,
          597.5,
          397.5,
          121.25,
          1323.75,
          353.75,
          397.5,
          205,
          49.99,
          470,
          241.3,
          1137.5,
          178.75,
          265,
          243.8,
          212.5,
          201.25,
          335,
          470,
          1046.25,
          683.75,
          470,
          178.75,
          199,
          645,
          56,
          222.5,
          811.25,
          785.18,
          692.5,
          301.25,
          700,
          705,
          99.97,
          178.75,
          595,
          250,
          961.25,
          494.9,
          293.75,
          705,
          198.95,
          227.02,
          216.25,
          799,
          576.25,
          241.4,
          151.68,
          720,
          683.75,
          491.25,
          747.5,
          57.9,
          72.48,
          130,
          474,
          470,
          618.75,
          190,
          192.5,
          182.5,
          683.75,
          431.25,
          287.5,
          74.45,
          420,
          81.55,
          462,
          832.5,
          106.3,
          380.69,
          203.8,
          462,
          99.95,
          94.95,
          420,
          618.75,
          353.75,
          470,
          310,
          225,
          155.86,
          175,
          275,
          286,
          397.5,
          182.5,
          104.59,
          331.25,
          182.5,
          470,
          80.5,
          206.25,
          217.5,
          2562.5,
          190,
          585,
          448.75,
          619.75,
          114.5,
          155,
          353.75,
          265,
          310,
          811.25,
          52.95,
          80,
          190,
          57.95,
          249.5,
          270.64,
          2518.75,
          427.5,
          145,
          45.5,
          168.75,
          82.95,
          545,
          79.95,
          365,
          239.4,
          305,
          512.5,
          420,
          130.75,
          545,
          134.95,
          75,
          38.09,
          120,
          114.95,
          219.95,
          182.5,
          61.29,
          555,
          331.25,
          109.95,
          533.75,
          92.5,
          67.95,
          53.44,
          119.95,
          231.95,
          109.95,
          212.5,
          331.25,
          75,
          961.25,
          726.25,
          1260,
          397.5,
          683.75,
          121.9,
          832.5,
          353.75,
          77,
          249,
          195.95,
          63.95,
          875,
          88.75,
          259.88,
          62.9,
          137.5,
          470,
          361.86,
          961.25,
          389,
          199.95,
          325,
          533.75,
          163.8,
          198.8,
          138.28,
          265,
          321.25,
          78.17,
          825.8,
          135.95,
          135,
          249,
          259,
          159.5,
          1173.75,
          149.95,
          321.25,
          180.5,
          120.02,
          100.15,
          304.95,
          130.35,
          555,
          122.5,
          127.8,
          160,
          121,
          576.25,
          144.95,
          243.75,
          48,
          126.5,
          195,
          381.5,
          105,
          107.5,
          78,
          132.98,
          243.75,
          89.95,
          93.7,
          495,
          435.14,
          124.68,
          36.1,
          94.95,
          273.05,
          813.31,
          79.95,
          334.7,
          69.95,
          145.95,
          618.75,
          243.75,
          68.75,
          397.5,
          243.75,
          512.5,
          661,
          90,
          961.25,
          39.95,
          175.95,
          681.5,
          89.19,
          154,
          134.89,
          121.95,
          412.5,
          961.25,
          150.9,
          220.6,
          747.5,
          135.98,
          195,
          229.95,
          125.95,
          81.64,
          95.95,
          254.29,
          1363.05,
          125,
          293.63,
          84,
          226.28,
          182.5,
          84,
          242.25,
          130,
          60.2,
          216,
          58.95,
          23.95,
          78.94,
          134.95,
          64.7,
          97.5,
          250.45,
          195,
          99.95,
          470,
          76.15,
          105,
          94.95,
          1173.75,
          199,
          450.8,
          89.95,
          54.95,
          89.95,
          160,
          42.95,
          212.5,
          69.95,
          198.8,
          176.5,
          180,
          34.2,
          235,
          42.45,
          31.95,
          189.95,
          18.75,
          27.3,
          335,
          168.75,
          248.25,
          262.5,
          367.5,
          731.25,
          130,
          148.75,
          256.25,
          618.75,
          212.5,
          493.75,
          85,
          512.5,
          142.5,
          307.5,
          360,
          148.75,
          150.05,
          1878.75,
          205,
          168.75,
          265,
          208.75,
          271.25,
          291.25,
          310,
          406.25,
          420,
          686.4,
          896.25,
          243.75,
          212.5,
          201.25,
          168.75,
          150,
          232.5,
          555,
          155,
          148.75,
          305.1,
          413.75,
          353.75,
          140,
          211.3,
          216.25,
          168.75,
          201.25,
          420,
          112.5,
          202.5,
          92.95,
          397.5,
          72,
          618.75,
          353.75,
          49.61,
          618.75,
          92.95,
          533.75,
          202.5,
          385.5,
          331.25,
          265,
          246.25,
          206.25,
          483.75,
          729.3,
          298.75,
          121,
          118.5,
          200,
          190,
          201.25,
          310,
          220,
          331.25,
          420,
          247.5,
          156.95,
          136.3,
          181.25,
          170,
          470,
          49.9,
          318.75,
          221.25,
          287.5,
          196.25,
          75.71,
          420,
          221.25,
          221.25,
          135,
          420,
          155,
          82.5,
          123.75,
          243.75,
          205,
          103.75,
          169.75,
          100,
          246.25,
          96.3,
          520,
          69.94,
          94.95,
          119,
          618.75,
          250,
          555,
          123.75,
          149.95,
          141.06,
          353.75,
          265,
          166.11,
          470,
          242.5,
          103.54,
          329,
          97.55,
          111.25,
          474,
          100.15,
          555,
          683.75,
          420,
          118.3,
          113,
          48,
          90,
          58,
          142.5,
          260,
          550,
          238,
          162.5,
          149.95,
          152,
          73.71,
          640,
          470,
          150,
          168.75,
          618.75,
          961.25,
          49.99,
          139.8,
          83.95,
          342.5,
          257.5,
          108.8,
          40.98,
          178.17,
          353.75,
          121.85,
          215,
          57.95,
          244.59,
          148.8,
          470,
          179.95,
          82.5,
          233.75,
          325,
          51.95,
          185,
          114.6,
          265,
          74.95,
          106.25,
          76,
          101.25,
          61.3,
          420,
          43.72,
          55.95,
          87.5,
          115,
          201.25,
          276.25,
          129.5,
          265,
          271.25,
          107.28,
          146.25,
          331.25,
          104.69,
          79.95,
          158.43,
          132.5,
          69.95,
          150,
          69.5,
          92.5,
          99.8,
          201.25,
          120.07,
          90,
          178.75,
          180,
          44.69,
          661.25,
          265,
          142.5,
          65,
          217.5,
          162.15,
          101.2,
          59.75,
          102.12,
          82.5,
          555,
          52.5,
          212.5,
          38.95,
          26.9,
          57.99,
          51.9,
          73.01,
          99.95,
          124.59,
          209.95,
          179.95,
          39.3,
          118.8,
          169.95,
          49.95,
          152.5,
          66.19,
          54.75,
          90,
          166.25,
          98.5,
          84.8,
          56.1,
          168.75,
          106.25,
          59.95,
          78,
          123.95,
          68,
          155,
          64.9,
          212.5,
          139,
          106,
          46.77,
          91.3,
          72.85,
          51.15,
          54.49,
          95,
          39.75,
          168.75,
          135,
          108.75,
          59.95,
          104.95,
          119,
          24.75,
          134.95,
          114.95,
          121.95,
          80.5,
          149,
          39.95,
          67.16,
          46.25,
          29.95,
          55.5,
          124.22,
          49.8,
          68.95,
          93.53,
          68.8,
          49.95,
          201.25,
          39.55,
          99.95,
          68,
          1025,
          85.95,
          55.5,
          182.5,
          222.99,
          69.94,
          95,
          120,
          233.05,
          61.95,
          94.5,
          159,
          104.95,
          55,
          72.5,
          111.25,
          90,
          56,
          74.95,
          146.25,
          64.99,
          125.95,
          55.6,
          102.95,
          77.65,
          178.75,
          96.25,
          81.25,
          46.95,
          25.99,
          119.5,
          206.25,
          97.95,
          124.68,
          27.75,
          138.95,
          243.75,
          78.95,
          190,
          30,
          157.95,
          88.38,
          105.85,
          31.45,
          157.5,
          61.3,
          37.5,
          161.3,
          100.5,
          276.79,
          43.95,
          64.35,
          59.9,
          79.95,
          20.95,
          39.95,
          56.9,
          79.95,
          221.25,
          92.5,
          27.4,
          40.95,
          122.8,
          179.5,
          54.4,
          109.95,
          55.95,
          35.95,
          118.75,
          27.98,
          106.25,
          79.95,
          23.9,
          92.25,
          32.5,
          44.65,
          94,
          32.1,
          99.95,
          117.77,
          172.95,
          81.5,
          25.95,
          89.95,
          32.95,
          34.85,
          49.9,
          68.5,
          88,
          47.85,
          49.75,
          29.95,
          276.25,
          276.25,
          921.25,
          221.25,
          178.75,
          961.25,
          58.75,
          201.25,
          705,
          917.5,
          1110,
          747.5,
          1270,
          58.75,
          4910,
          543.4,
          331.25,
          291.25,
          479.85,
          1281.25,
          265,
          618.75,
          82.5,
          1025,
          1623.75,
          82.5,
          1495,
          597.5,
          178.75,
          2635.55,
          1046.25,
          420,
          353.28,
          705,
          1110,
          2028.75,
          599.2,
          497.15,
          74.98,
          265,
          331.25,
          178.75,
          310,
          747.5,
          310,
          470,
          212.5,
          293.75,
          1046.25,
          420,
          221.25,
          150,
          491.25,
          1056.25,
          713.75,
          117.9,
          1601.25,
          189.9,
          113.98,
          234,
          1601.25,
          224.53,
          92.5,
          259.88,
          2000,
          337.5,
          429.76,
          86.3,
          324.45,
          142.5,
          331.25,
          1387.5,
          683.75,
          409.5,
          112,
          101.25,
          223.1,
          298,
          298.58,
          55,
          452.6,
          1152.5,
          923.99,
          234.25,
          232.5,
          750.8,
          1323.75,
          6300,
          1687.5,
          895,
          295,
          94.95,
          379,
          618.75,
          2113.75,
          2967.5,
          232.82,
          902.42,
          1451.25,
          84.95,
          134.95,
          187.86,
          231.95,
          745,
          440,
          544.78,
          3181.25,
          245.5,
          260.44,
          1046.25,
          215,
          1558.75,
          420,
          2028.75,
          95,
          1387.5,
          1173.75,
          36.3,
          295,
          722.66,
          320,
          425,
          318.73,
          363.11,
          137.95,
          1628.5,
          225,
          435.4,
          295,
          89.3,
          134.62,
          525,
          280.1,
          3416.25,
          445,
          6834.1,
          60,
          186.17,
          220.9,
          107.41,
          221.53,
          1495,
          71.95,
          129.95,
          50.19,
          1387.5,
          84.5,
          397.5,
          533.75,
          104.95,
          29.29,
          184.95,
          618.75,
          159.95,
          39.95,
          265,
          27.95,
          450,
          925.77,
          2943.75,
          76,
          229,
          338,
          74
         ],
         "yaxis": "y"
        }
       ],
       "layout": {
        "barmode": "relative",
        "legend": {
         "tracegroupgap": 0
        },
        "margin": {
         "t": 60
        },
        "template": {
         "data": {
          "bar": [
           {
            "error_x": {
             "color": "#2a3f5f"
            },
            "error_y": {
             "color": "#2a3f5f"
            },
            "marker": {
             "line": {
              "color": "#E5ECF6",
              "width": 0.5
             },
             "pattern": {
              "fillmode": "overlay",
              "size": 10,
              "solidity": 0.2
             }
            },
            "type": "bar"
           }
          ],
          "barpolar": [
           {
            "marker": {
             "line": {
              "color": "#E5ECF6",
              "width": 0.5
             },
             "pattern": {
              "fillmode": "overlay",
              "size": 10,
              "solidity": 0.2
             }
            },
            "type": "barpolar"
           }
          ],
          "carpet": [
           {
            "aaxis": {
             "endlinecolor": "#2a3f5f",
             "gridcolor": "white",
             "linecolor": "white",
             "minorgridcolor": "white",
             "startlinecolor": "#2a3f5f"
            },
            "baxis": {
             "endlinecolor": "#2a3f5f",
             "gridcolor": "white",
             "linecolor": "white",
             "minorgridcolor": "white",
             "startlinecolor": "#2a3f5f"
            },
            "type": "carpet"
           }
          ],
          "choropleth": [
           {
            "colorbar": {
             "outlinewidth": 0,
             "ticks": ""
            },
            "type": "choropleth"
           }
          ],
          "contour": [
           {
            "colorbar": {
             "outlinewidth": 0,
             "ticks": ""
            },
            "colorscale": [
             [
              0,
              "#0d0887"
             ],
             [
              0.1111111111111111,
              "#46039f"
             ],
             [
              0.2222222222222222,
              "#7201a8"
             ],
             [
              0.3333333333333333,
              "#9c179e"
             ],
             [
              0.4444444444444444,
              "#bd3786"
             ],
             [
              0.5555555555555556,
              "#d8576b"
             ],
             [
              0.6666666666666666,
              "#ed7953"
             ],
             [
              0.7777777777777778,
              "#fb9f3a"
             ],
             [
              0.8888888888888888,
              "#fdca26"
             ],
             [
              1,
              "#f0f921"
             ]
            ],
            "type": "contour"
           }
          ],
          "contourcarpet": [
           {
            "colorbar": {
             "outlinewidth": 0,
             "ticks": ""
            },
            "type": "contourcarpet"
           }
          ],
          "heatmap": [
           {
            "colorbar": {
             "outlinewidth": 0,
             "ticks": ""
            },
            "colorscale": [
             [
              0,
              "#0d0887"
             ],
             [
              0.1111111111111111,
              "#46039f"
             ],
             [
              0.2222222222222222,
              "#7201a8"
             ],
             [
              0.3333333333333333,
              "#9c179e"
             ],
             [
              0.4444444444444444,
              "#bd3786"
             ],
             [
              0.5555555555555556,
              "#d8576b"
             ],
             [
              0.6666666666666666,
              "#ed7953"
             ],
             [
              0.7777777777777778,
              "#fb9f3a"
             ],
             [
              0.8888888888888888,
              "#fdca26"
             ],
             [
              1,
              "#f0f921"
             ]
            ],
            "type": "heatmap"
           }
          ],
          "heatmapgl": [
           {
            "colorbar": {
             "outlinewidth": 0,
             "ticks": ""
            },
            "colorscale": [
             [
              0,
              "#0d0887"
             ],
             [
              0.1111111111111111,
              "#46039f"
             ],
             [
              0.2222222222222222,
              "#7201a8"
             ],
             [
              0.3333333333333333,
              "#9c179e"
             ],
             [
              0.4444444444444444,
              "#bd3786"
             ],
             [
              0.5555555555555556,
              "#d8576b"
             ],
             [
              0.6666666666666666,
              "#ed7953"
             ],
             [
              0.7777777777777778,
              "#fb9f3a"
             ],
             [
              0.8888888888888888,
              "#fdca26"
             ],
             [
              1,
              "#f0f921"
             ]
            ],
            "type": "heatmapgl"
           }
          ],
          "histogram": [
           {
            "marker": {
             "pattern": {
              "fillmode": "overlay",
              "size": 10,
              "solidity": 0.2
             }
            },
            "type": "histogram"
           }
          ],
          "histogram2d": [
           {
            "colorbar": {
             "outlinewidth": 0,
             "ticks": ""
            },
            "colorscale": [
             [
              0,
              "#0d0887"
             ],
             [
              0.1111111111111111,
              "#46039f"
             ],
             [
              0.2222222222222222,
              "#7201a8"
             ],
             [
              0.3333333333333333,
              "#9c179e"
             ],
             [
              0.4444444444444444,
              "#bd3786"
             ],
             [
              0.5555555555555556,
              "#d8576b"
             ],
             [
              0.6666666666666666,
              "#ed7953"
             ],
             [
              0.7777777777777778,
              "#fb9f3a"
             ],
             [
              0.8888888888888888,
              "#fdca26"
             ],
             [
              1,
              "#f0f921"
             ]
            ],
            "type": "histogram2d"
           }
          ],
          "histogram2dcontour": [
           {
            "colorbar": {
             "outlinewidth": 0,
             "ticks": ""
            },
            "colorscale": [
             [
              0,
              "#0d0887"
             ],
             [
              0.1111111111111111,
              "#46039f"
             ],
             [
              0.2222222222222222,
              "#7201a8"
             ],
             [
              0.3333333333333333,
              "#9c179e"
             ],
             [
              0.4444444444444444,
              "#bd3786"
             ],
             [
              0.5555555555555556,
              "#d8576b"
             ],
             [
              0.6666666666666666,
              "#ed7953"
             ],
             [
              0.7777777777777778,
              "#fb9f3a"
             ],
             [
              0.8888888888888888,
              "#fdca26"
             ],
             [
              1,
              "#f0f921"
             ]
            ],
            "type": "histogram2dcontour"
           }
          ],
          "mesh3d": [
           {
            "colorbar": {
             "outlinewidth": 0,
             "ticks": ""
            },
            "type": "mesh3d"
           }
          ],
          "parcoords": [
           {
            "line": {
             "colorbar": {
              "outlinewidth": 0,
              "ticks": ""
             }
            },
            "type": "parcoords"
           }
          ],
          "pie": [
           {
            "automargin": true,
            "type": "pie"
           }
          ],
          "scatter": [
           {
            "fillpattern": {
             "fillmode": "overlay",
             "size": 10,
             "solidity": 0.2
            },
            "type": "scatter"
           }
          ],
          "scatter3d": [
           {
            "line": {
             "colorbar": {
              "outlinewidth": 0,
              "ticks": ""
             }
            },
            "marker": {
             "colorbar": {
              "outlinewidth": 0,
              "ticks": ""
             }
            },
            "type": "scatter3d"
           }
          ],
          "scattercarpet": [
           {
            "marker": {
             "colorbar": {
              "outlinewidth": 0,
              "ticks": ""
             }
            },
            "type": "scattercarpet"
           }
          ],
          "scattergeo": [
           {
            "marker": {
             "colorbar": {
              "outlinewidth": 0,
              "ticks": ""
             }
            },
            "type": "scattergeo"
           }
          ],
          "scattergl": [
           {
            "marker": {
             "colorbar": {
              "outlinewidth": 0,
              "ticks": ""
             }
            },
            "type": "scattergl"
           }
          ],
          "scattermapbox": [
           {
            "marker": {
             "colorbar": {
              "outlinewidth": 0,
              "ticks": ""
             }
            },
            "type": "scattermapbox"
           }
          ],
          "scatterpolar": [
           {
            "marker": {
             "colorbar": {
              "outlinewidth": 0,
              "ticks": ""
             }
            },
            "type": "scatterpolar"
           }
          ],
          "scatterpolargl": [
           {
            "marker": {
             "colorbar": {
              "outlinewidth": 0,
              "ticks": ""
             }
            },
            "type": "scatterpolargl"
           }
          ],
          "scatterternary": [
           {
            "marker": {
             "colorbar": {
              "outlinewidth": 0,
              "ticks": ""
             }
            },
            "type": "scatterternary"
           }
          ],
          "surface": [
           {
            "colorbar": {
             "outlinewidth": 0,
             "ticks": ""
            },
            "colorscale": [
             [
              0,
              "#0d0887"
             ],
             [
              0.1111111111111111,
              "#46039f"
             ],
             [
              0.2222222222222222,
              "#7201a8"
             ],
             [
              0.3333333333333333,
              "#9c179e"
             ],
             [
              0.4444444444444444,
              "#bd3786"
             ],
             [
              0.5555555555555556,
              "#d8576b"
             ],
             [
              0.6666666666666666,
              "#ed7953"
             ],
             [
              0.7777777777777778,
              "#fb9f3a"
             ],
             [
              0.8888888888888888,
              "#fdca26"
             ],
             [
              1,
              "#f0f921"
             ]
            ],
            "type": "surface"
           }
          ],
          "table": [
           {
            "cells": {
             "fill": {
              "color": "#EBF0F8"
             },
             "line": {
              "color": "white"
             }
            },
            "header": {
             "fill": {
              "color": "#C8D4E3"
             },
             "line": {
              "color": "white"
             }
            },
            "type": "table"
           }
          ]
         },
         "layout": {
          "annotationdefaults": {
           "arrowcolor": "#2a3f5f",
           "arrowhead": 0,
           "arrowwidth": 1
          },
          "autotypenumbers": "strict",
          "coloraxis": {
           "colorbar": {
            "outlinewidth": 0,
            "ticks": ""
           }
          },
          "colorscale": {
           "diverging": [
            [
             0,
             "#8e0152"
            ],
            [
             0.1,
             "#c51b7d"
            ],
            [
             0.2,
             "#de77ae"
            ],
            [
             0.3,
             "#f1b6da"
            ],
            [
             0.4,
             "#fde0ef"
            ],
            [
             0.5,
             "#f7f7f7"
            ],
            [
             0.6,
             "#e6f5d0"
            ],
            [
             0.7,
             "#b8e186"
            ],
            [
             0.8,
             "#7fbc41"
            ],
            [
             0.9,
             "#4d9221"
            ],
            [
             1,
             "#276419"
            ]
           ],
           "sequential": [
            [
             0,
             "#0d0887"
            ],
            [
             0.1111111111111111,
             "#46039f"
            ],
            [
             0.2222222222222222,
             "#7201a8"
            ],
            [
             0.3333333333333333,
             "#9c179e"
            ],
            [
             0.4444444444444444,
             "#bd3786"
            ],
            [
             0.5555555555555556,
             "#d8576b"
            ],
            [
             0.6666666666666666,
             "#ed7953"
            ],
            [
             0.7777777777777778,
             "#fb9f3a"
            ],
            [
             0.8888888888888888,
             "#fdca26"
            ],
            [
             1,
             "#f0f921"
            ]
           ],
           "sequentialminus": [
            [
             0,
             "#0d0887"
            ],
            [
             0.1111111111111111,
             "#46039f"
            ],
            [
             0.2222222222222222,
             "#7201a8"
            ],
            [
             0.3333333333333333,
             "#9c179e"
            ],
            [
             0.4444444444444444,
             "#bd3786"
            ],
            [
             0.5555555555555556,
             "#d8576b"
            ],
            [
             0.6666666666666666,
             "#ed7953"
            ],
            [
             0.7777777777777778,
             "#fb9f3a"
            ],
            [
             0.8888888888888888,
             "#fdca26"
            ],
            [
             1,
             "#f0f921"
            ]
           ]
          },
          "colorway": [
           "#636efa",
           "#EF553B",
           "#00cc96",
           "#ab63fa",
           "#FFA15A",
           "#19d3f3",
           "#FF6692",
           "#B6E880",
           "#FF97FF",
           "#FECB52"
          ],
          "font": {
           "color": "#2a3f5f"
          },
          "geo": {
           "bgcolor": "white",
           "lakecolor": "white",
           "landcolor": "#E5ECF6",
           "showlakes": true,
           "showland": true,
           "subunitcolor": "white"
          },
          "hoverlabel": {
           "align": "left"
          },
          "hovermode": "closest",
          "mapbox": {
           "style": "light"
          },
          "paper_bgcolor": "white",
          "plot_bgcolor": "#E5ECF6",
          "polar": {
           "angularaxis": {
            "gridcolor": "white",
            "linecolor": "white",
            "ticks": ""
           },
           "bgcolor": "#E5ECF6",
           "radialaxis": {
            "gridcolor": "white",
            "linecolor": "white",
            "ticks": ""
           }
          },
          "scene": {
           "xaxis": {
            "backgroundcolor": "#E5ECF6",
            "gridcolor": "white",
            "gridwidth": 2,
            "linecolor": "white",
            "showbackground": true,
            "ticks": "",
            "zerolinecolor": "white"
           },
           "yaxis": {
            "backgroundcolor": "#E5ECF6",
            "gridcolor": "white",
            "gridwidth": 2,
            "linecolor": "white",
            "showbackground": true,
            "ticks": "",
            "zerolinecolor": "white"
           },
           "zaxis": {
            "backgroundcolor": "#E5ECF6",
            "gridcolor": "white",
            "gridwidth": 2,
            "linecolor": "white",
            "showbackground": true,
            "ticks": "",
            "zerolinecolor": "white"
           }
          },
          "shapedefaults": {
           "line": {
            "color": "#2a3f5f"
           }
          },
          "ternary": {
           "aaxis": {
            "gridcolor": "white",
            "linecolor": "white",
            "ticks": ""
           },
           "baxis": {
            "gridcolor": "white",
            "linecolor": "white",
            "ticks": ""
           },
           "bgcolor": "#E5ECF6",
           "caxis": {
            "gridcolor": "white",
            "linecolor": "white",
            "ticks": ""
           }
          },
          "title": {
           "x": 0.05
          },
          "xaxis": {
           "automargin": true,
           "gridcolor": "white",
           "linecolor": "white",
           "ticks": "",
           "title": {
            "standoff": 15
           },
           "zerolinecolor": "white",
           "zerolinewidth": 2
          },
          "yaxis": {
           "automargin": true,
           "gridcolor": "white",
           "linecolor": "white",
           "ticks": "",
           "title": {
            "standoff": 15
           },
           "zerolinecolor": "white",
           "zerolinewidth": 2
          }
         }
        },
        "xaxis": {
         "anchor": "y",
         "domain": [
          0,
          1
         ],
         "title": {
          "text": "ratings_average"
         }
        },
        "yaxis": {
         "anchor": "x",
         "domain": [
          0,
          1
         ],
         "title": {
          "text": "sum of price_euros"
         }
        }
       }
      }
     },
     "metadata": {},
     "output_type": "display_data"
    }
   ],
   "source": [
    "import plotly.express as px\n",
    "\n",
    "fig = px.histogram(wines_df, x = \"ratings_average\", y = \"price_euros\")\n",
    "fig.show()\n"
   ]
  },
  {
   "cell_type": "code",
   "execution_count": 11,
   "metadata": {},
   "outputs": [
    {
     "data": {
      "text/html": [
       "<div>\n",
       "<style scoped>\n",
       "    .dataframe tbody tr th:only-of-type {\n",
       "        vertical-align: middle;\n",
       "    }\n",
       "\n",
       "    .dataframe tbody tr th {\n",
       "        vertical-align: top;\n",
       "    }\n",
       "\n",
       "    .dataframe thead th {\n",
       "        text-align: right;\n",
       "    }\n",
       "</style>\n",
       "<table border=\"1\" class=\"dataframe\">\n",
       "  <thead>\n",
       "    <tr style=\"text-align: right;\">\n",
       "      <th></th>\n",
       "      <th>group_name</th>\n",
       "      <th>count(*)</th>\n",
       "      <th>wine_name</th>\n",
       "      <th>country_name</th>\n",
       "    </tr>\n",
       "  </thead>\n",
       "  <tbody>\n",
       "    <tr>\n",
       "      <th>0</th>\n",
       "      <td>black_fruit</td>\n",
       "      <td>24</td>\n",
       "      <td>5 Puttonyos Aszú (Blue Label)</td>\n",
       "      <td>Hongrie</td>\n",
       "    </tr>\n",
       "    <tr>\n",
       "      <th>1</th>\n",
       "      <td>citrus_fruit</td>\n",
       "      <td>106</td>\n",
       "      <td>Tokaji Aszú 5 Puttonyos</td>\n",
       "      <td>Hongrie</td>\n",
       "    </tr>\n",
       "    <tr>\n",
       "      <th>2</th>\n",
       "      <td>dried_fruit</td>\n",
       "      <td>62</td>\n",
       "      <td>Tokaji Aszú 3 Puttonyos</td>\n",
       "      <td>Hongrie</td>\n",
       "    </tr>\n",
       "    <tr>\n",
       "      <th>3</th>\n",
       "      <td>earth</td>\n",
       "      <td>156</td>\n",
       "      <td>Tokaji Aszú 6 Puttonyos</td>\n",
       "      <td>Hongrie</td>\n",
       "    </tr>\n",
       "    <tr>\n",
       "      <th>4</th>\n",
       "      <td>floral</td>\n",
       "      <td>61</td>\n",
       "      <td>Tokaji Aszú 6 Puttonyos</td>\n",
       "      <td>Hongrie</td>\n",
       "    </tr>\n",
       "    <tr>\n",
       "      <th>5</th>\n",
       "      <td>microbio</td>\n",
       "      <td>85</td>\n",
       "      <td>Tokaji Aszú 6 Puttonyos</td>\n",
       "      <td>Hongrie</td>\n",
       "    </tr>\n",
       "    <tr>\n",
       "      <th>6</th>\n",
       "      <td>non_oak</td>\n",
       "      <td>162</td>\n",
       "      <td>Tokaji Aszú 6 Puttonyos</td>\n",
       "      <td>Hongrie</td>\n",
       "    </tr>\n",
       "    <tr>\n",
       "      <th>7</th>\n",
       "      <td>oak</td>\n",
       "      <td>164</td>\n",
       "      <td>Tokaji Aszú 6 Puttonyos</td>\n",
       "      <td>Hongrie</td>\n",
       "    </tr>\n",
       "    <tr>\n",
       "      <th>8</th>\n",
       "      <td>red_fruit</td>\n",
       "      <td>33</td>\n",
       "      <td>Tokaji Aszú 3 Puttonyos</td>\n",
       "      <td>Hongrie</td>\n",
       "    </tr>\n",
       "    <tr>\n",
       "      <th>9</th>\n",
       "      <td>spices</td>\n",
       "      <td>91</td>\n",
       "      <td>5 Puttonyos Aszú (Blue Label)</td>\n",
       "      <td>Hongrie</td>\n",
       "    </tr>\n",
       "    <tr>\n",
       "      <th>10</th>\n",
       "      <td>tree_fruit</td>\n",
       "      <td>114</td>\n",
       "      <td>Tokaji Aszú 6 Puttonyos</td>\n",
       "      <td>Hongrie</td>\n",
       "    </tr>\n",
       "    <tr>\n",
       "      <th>11</th>\n",
       "      <td>tropical_fruit</td>\n",
       "      <td>61</td>\n",
       "      <td>Tokaji Aszú 6 Puttonyos</td>\n",
       "      <td>Hongrie</td>\n",
       "    </tr>\n",
       "    <tr>\n",
       "      <th>12</th>\n",
       "      <td>vegetal</td>\n",
       "      <td>47</td>\n",
       "      <td>Tokaji Aszú 6 Puttonyos</td>\n",
       "      <td>Hongrie</td>\n",
       "    </tr>\n",
       "  </tbody>\n",
       "</table>\n",
       "</div>"
      ],
      "text/plain": [
       "        group_name  count(*)                      wine_name country_name\n",
       "0      black_fruit        24  5 Puttonyos Aszú (Blue Label)      Hongrie\n",
       "1     citrus_fruit       106        Tokaji Aszú 5 Puttonyos      Hongrie\n",
       "2      dried_fruit        62        Tokaji Aszú 3 Puttonyos      Hongrie\n",
       "3            earth       156        Tokaji Aszú 6 Puttonyos      Hongrie\n",
       "4           floral        61        Tokaji Aszú 6 Puttonyos      Hongrie\n",
       "5         microbio        85        Tokaji Aszú 6 Puttonyos      Hongrie\n",
       "6          non_oak       162        Tokaji Aszú 6 Puttonyos      Hongrie\n",
       "7              oak       164        Tokaji Aszú 6 Puttonyos      Hongrie\n",
       "8        red_fruit        33        Tokaji Aszú 3 Puttonyos      Hongrie\n",
       "9           spices        91  5 Puttonyos Aszú (Blue Label)      Hongrie\n",
       "10      tree_fruit       114        Tokaji Aszú 6 Puttonyos      Hongrie\n",
       "11  tropical_fruit        61        Tokaji Aszú 6 Puttonyos      Hongrie\n",
       "12         vegetal        47        Tokaji Aszú 6 Puttonyos      Hongrie"
      ]
     },
     "execution_count": 11,
     "metadata": {},
     "output_type": "execute_result"
    }
   ],
   "source": [
    "query_tastes_of_hu = \"\"\"SELECT keywords_wine.group_name, count(*), wines.name AS wine_name, countries.name AS country_name FROM keywords_wine\n",
    "JOIN wines ON keywords_wine.wine_id = wines.id\n",
    "JOIN regions ON wines.region_id = regions.id\n",
    "JOIN countries ON regions.country_code = countries.code\n",
    "WHERE country_name = \"Hongrie\"\n",
    "GROUP BY keywords_wine.group_name\n",
    "\n",
    "\"\"\"\n",
    "\n",
    "hu_df = pd.read_sql_query(query_tastes_of_hu, conn)\n",
    "hu_df"
   ]
  },
  {
   "cell_type": "code",
   "execution_count": 106,
   "metadata": {},
   "outputs": [
    {
     "data": {
      "application/vnd.plotly.v1+json": {
       "config": {
        "plotlyServerURL": "https://plot.ly"
       },
       "data": [
        {
         "domain": {
          "x": [
           0,
           1
          ],
          "y": [
           0,
           1
          ]
         },
         "hovertemplate": "group_name=%{label}<br>count(*)=%{value}<extra></extra>",
         "labels": [
          "black_fruit",
          "citrus_fruit",
          "dried_fruit",
          "earth",
          "floral",
          "microbio",
          "non_oak",
          "oak",
          "red_fruit",
          "spices",
          "tree_fruit",
          "tropical_fruit",
          "vegetal"
         ],
         "legendgroup": "",
         "name": "",
         "showlegend": true,
         "type": "pie",
         "values": [
          24,
          106,
          62,
          156,
          61,
          85,
          162,
          164,
          33,
          91,
          114,
          61,
          47
         ]
        }
       ],
       "layout": {
        "height": 500,
        "legend": {
         "title": {
          "text": "Tastes"
         },
         "tracegroupgap": 0
        },
        "piecolorway": [
         "rgb(102, 197, 204)",
         "rgb(246, 207, 113)",
         "rgb(248, 156, 116)",
         "rgb(220, 176, 242)",
         "rgb(135, 197, 95)",
         "rgb(158, 185, 243)",
         "rgb(254, 136, 177)",
         "rgb(201, 219, 116)",
         "rgb(139, 224, 164)",
         "rgb(180, 151, 231)",
         "rgb(179, 179, 179)"
        ],
        "template": {
         "data": {
          "bar": [
           {
            "error_x": {
             "color": "#2a3f5f"
            },
            "error_y": {
             "color": "#2a3f5f"
            },
            "marker": {
             "line": {
              "color": "#E5ECF6",
              "width": 0.5
             },
             "pattern": {
              "fillmode": "overlay",
              "size": 10,
              "solidity": 0.2
             }
            },
            "type": "bar"
           }
          ],
          "barpolar": [
           {
            "marker": {
             "line": {
              "color": "#E5ECF6",
              "width": 0.5
             },
             "pattern": {
              "fillmode": "overlay",
              "size": 10,
              "solidity": 0.2
             }
            },
            "type": "barpolar"
           }
          ],
          "carpet": [
           {
            "aaxis": {
             "endlinecolor": "#2a3f5f",
             "gridcolor": "white",
             "linecolor": "white",
             "minorgridcolor": "white",
             "startlinecolor": "#2a3f5f"
            },
            "baxis": {
             "endlinecolor": "#2a3f5f",
             "gridcolor": "white",
             "linecolor": "white",
             "minorgridcolor": "white",
             "startlinecolor": "#2a3f5f"
            },
            "type": "carpet"
           }
          ],
          "choropleth": [
           {
            "colorbar": {
             "outlinewidth": 0,
             "ticks": ""
            },
            "type": "choropleth"
           }
          ],
          "contour": [
           {
            "colorbar": {
             "outlinewidth": 0,
             "ticks": ""
            },
            "colorscale": [
             [
              0,
              "#0d0887"
             ],
             [
              0.1111111111111111,
              "#46039f"
             ],
             [
              0.2222222222222222,
              "#7201a8"
             ],
             [
              0.3333333333333333,
              "#9c179e"
             ],
             [
              0.4444444444444444,
              "#bd3786"
             ],
             [
              0.5555555555555556,
              "#d8576b"
             ],
             [
              0.6666666666666666,
              "#ed7953"
             ],
             [
              0.7777777777777778,
              "#fb9f3a"
             ],
             [
              0.8888888888888888,
              "#fdca26"
             ],
             [
              1,
              "#f0f921"
             ]
            ],
            "type": "contour"
           }
          ],
          "contourcarpet": [
           {
            "colorbar": {
             "outlinewidth": 0,
             "ticks": ""
            },
            "type": "contourcarpet"
           }
          ],
          "heatmap": [
           {
            "colorbar": {
             "outlinewidth": 0,
             "ticks": ""
            },
            "colorscale": [
             [
              0,
              "#0d0887"
             ],
             [
              0.1111111111111111,
              "#46039f"
             ],
             [
              0.2222222222222222,
              "#7201a8"
             ],
             [
              0.3333333333333333,
              "#9c179e"
             ],
             [
              0.4444444444444444,
              "#bd3786"
             ],
             [
              0.5555555555555556,
              "#d8576b"
             ],
             [
              0.6666666666666666,
              "#ed7953"
             ],
             [
              0.7777777777777778,
              "#fb9f3a"
             ],
             [
              0.8888888888888888,
              "#fdca26"
             ],
             [
              1,
              "#f0f921"
             ]
            ],
            "type": "heatmap"
           }
          ],
          "heatmapgl": [
           {
            "colorbar": {
             "outlinewidth": 0,
             "ticks": ""
            },
            "colorscale": [
             [
              0,
              "#0d0887"
             ],
             [
              0.1111111111111111,
              "#46039f"
             ],
             [
              0.2222222222222222,
              "#7201a8"
             ],
             [
              0.3333333333333333,
              "#9c179e"
             ],
             [
              0.4444444444444444,
              "#bd3786"
             ],
             [
              0.5555555555555556,
              "#d8576b"
             ],
             [
              0.6666666666666666,
              "#ed7953"
             ],
             [
              0.7777777777777778,
              "#fb9f3a"
             ],
             [
              0.8888888888888888,
              "#fdca26"
             ],
             [
              1,
              "#f0f921"
             ]
            ],
            "type": "heatmapgl"
           }
          ],
          "histogram": [
           {
            "marker": {
             "pattern": {
              "fillmode": "overlay",
              "size": 10,
              "solidity": 0.2
             }
            },
            "type": "histogram"
           }
          ],
          "histogram2d": [
           {
            "colorbar": {
             "outlinewidth": 0,
             "ticks": ""
            },
            "colorscale": [
             [
              0,
              "#0d0887"
             ],
             [
              0.1111111111111111,
              "#46039f"
             ],
             [
              0.2222222222222222,
              "#7201a8"
             ],
             [
              0.3333333333333333,
              "#9c179e"
             ],
             [
              0.4444444444444444,
              "#bd3786"
             ],
             [
              0.5555555555555556,
              "#d8576b"
             ],
             [
              0.6666666666666666,
              "#ed7953"
             ],
             [
              0.7777777777777778,
              "#fb9f3a"
             ],
             [
              0.8888888888888888,
              "#fdca26"
             ],
             [
              1,
              "#f0f921"
             ]
            ],
            "type": "histogram2d"
           }
          ],
          "histogram2dcontour": [
           {
            "colorbar": {
             "outlinewidth": 0,
             "ticks": ""
            },
            "colorscale": [
             [
              0,
              "#0d0887"
             ],
             [
              0.1111111111111111,
              "#46039f"
             ],
             [
              0.2222222222222222,
              "#7201a8"
             ],
             [
              0.3333333333333333,
              "#9c179e"
             ],
             [
              0.4444444444444444,
              "#bd3786"
             ],
             [
              0.5555555555555556,
              "#d8576b"
             ],
             [
              0.6666666666666666,
              "#ed7953"
             ],
             [
              0.7777777777777778,
              "#fb9f3a"
             ],
             [
              0.8888888888888888,
              "#fdca26"
             ],
             [
              1,
              "#f0f921"
             ]
            ],
            "type": "histogram2dcontour"
           }
          ],
          "mesh3d": [
           {
            "colorbar": {
             "outlinewidth": 0,
             "ticks": ""
            },
            "type": "mesh3d"
           }
          ],
          "parcoords": [
           {
            "line": {
             "colorbar": {
              "outlinewidth": 0,
              "ticks": ""
             }
            },
            "type": "parcoords"
           }
          ],
          "pie": [
           {
            "automargin": true,
            "type": "pie"
           }
          ],
          "scatter": [
           {
            "fillpattern": {
             "fillmode": "overlay",
             "size": 10,
             "solidity": 0.2
            },
            "type": "scatter"
           }
          ],
          "scatter3d": [
           {
            "line": {
             "colorbar": {
              "outlinewidth": 0,
              "ticks": ""
             }
            },
            "marker": {
             "colorbar": {
              "outlinewidth": 0,
              "ticks": ""
             }
            },
            "type": "scatter3d"
           }
          ],
          "scattercarpet": [
           {
            "marker": {
             "colorbar": {
              "outlinewidth": 0,
              "ticks": ""
             }
            },
            "type": "scattercarpet"
           }
          ],
          "scattergeo": [
           {
            "marker": {
             "colorbar": {
              "outlinewidth": 0,
              "ticks": ""
             }
            },
            "type": "scattergeo"
           }
          ],
          "scattergl": [
           {
            "marker": {
             "colorbar": {
              "outlinewidth": 0,
              "ticks": ""
             }
            },
            "type": "scattergl"
           }
          ],
          "scattermapbox": [
           {
            "marker": {
             "colorbar": {
              "outlinewidth": 0,
              "ticks": ""
             }
            },
            "type": "scattermapbox"
           }
          ],
          "scatterpolar": [
           {
            "marker": {
             "colorbar": {
              "outlinewidth": 0,
              "ticks": ""
             }
            },
            "type": "scatterpolar"
           }
          ],
          "scatterpolargl": [
           {
            "marker": {
             "colorbar": {
              "outlinewidth": 0,
              "ticks": ""
             }
            },
            "type": "scatterpolargl"
           }
          ],
          "scatterternary": [
           {
            "marker": {
             "colorbar": {
              "outlinewidth": 0,
              "ticks": ""
             }
            },
            "type": "scatterternary"
           }
          ],
          "surface": [
           {
            "colorbar": {
             "outlinewidth": 0,
             "ticks": ""
            },
            "colorscale": [
             [
              0,
              "#0d0887"
             ],
             [
              0.1111111111111111,
              "#46039f"
             ],
             [
              0.2222222222222222,
              "#7201a8"
             ],
             [
              0.3333333333333333,
              "#9c179e"
             ],
             [
              0.4444444444444444,
              "#bd3786"
             ],
             [
              0.5555555555555556,
              "#d8576b"
             ],
             [
              0.6666666666666666,
              "#ed7953"
             ],
             [
              0.7777777777777778,
              "#fb9f3a"
             ],
             [
              0.8888888888888888,
              "#fdca26"
             ],
             [
              1,
              "#f0f921"
             ]
            ],
            "type": "surface"
           }
          ],
          "table": [
           {
            "cells": {
             "fill": {
              "color": "#EBF0F8"
             },
             "line": {
              "color": "white"
             }
            },
            "header": {
             "fill": {
              "color": "#C8D4E3"
             },
             "line": {
              "color": "white"
             }
            },
            "type": "table"
           }
          ]
         },
         "layout": {
          "annotationdefaults": {
           "arrowcolor": "#2a3f5f",
           "arrowhead": 0,
           "arrowwidth": 1
          },
          "autotypenumbers": "strict",
          "coloraxis": {
           "colorbar": {
            "outlinewidth": 0,
            "ticks": ""
           }
          },
          "colorscale": {
           "diverging": [
            [
             0,
             "#8e0152"
            ],
            [
             0.1,
             "#c51b7d"
            ],
            [
             0.2,
             "#de77ae"
            ],
            [
             0.3,
             "#f1b6da"
            ],
            [
             0.4,
             "#fde0ef"
            ],
            [
             0.5,
             "#f7f7f7"
            ],
            [
             0.6,
             "#e6f5d0"
            ],
            [
             0.7,
             "#b8e186"
            ],
            [
             0.8,
             "#7fbc41"
            ],
            [
             0.9,
             "#4d9221"
            ],
            [
             1,
             "#276419"
            ]
           ],
           "sequential": [
            [
             0,
             "#0d0887"
            ],
            [
             0.1111111111111111,
             "#46039f"
            ],
            [
             0.2222222222222222,
             "#7201a8"
            ],
            [
             0.3333333333333333,
             "#9c179e"
            ],
            [
             0.4444444444444444,
             "#bd3786"
            ],
            [
             0.5555555555555556,
             "#d8576b"
            ],
            [
             0.6666666666666666,
             "#ed7953"
            ],
            [
             0.7777777777777778,
             "#fb9f3a"
            ],
            [
             0.8888888888888888,
             "#fdca26"
            ],
            [
             1,
             "#f0f921"
            ]
           ],
           "sequentialminus": [
            [
             0,
             "#0d0887"
            ],
            [
             0.1111111111111111,
             "#46039f"
            ],
            [
             0.2222222222222222,
             "#7201a8"
            ],
            [
             0.3333333333333333,
             "#9c179e"
            ],
            [
             0.4444444444444444,
             "#bd3786"
            ],
            [
             0.5555555555555556,
             "#d8576b"
            ],
            [
             0.6666666666666666,
             "#ed7953"
            ],
            [
             0.7777777777777778,
             "#fb9f3a"
            ],
            [
             0.8888888888888888,
             "#fdca26"
            ],
            [
             1,
             "#f0f921"
            ]
           ]
          },
          "colorway": [
           "#636efa",
           "#EF553B",
           "#00cc96",
           "#ab63fa",
           "#FFA15A",
           "#19d3f3",
           "#FF6692",
           "#B6E880",
           "#FF97FF",
           "#FECB52"
          ],
          "font": {
           "color": "#2a3f5f"
          },
          "geo": {
           "bgcolor": "white",
           "lakecolor": "white",
           "landcolor": "#E5ECF6",
           "showlakes": true,
           "showland": true,
           "subunitcolor": "white"
          },
          "hoverlabel": {
           "align": "left"
          },
          "hovermode": "closest",
          "mapbox": {
           "style": "light"
          },
          "paper_bgcolor": "white",
          "plot_bgcolor": "#E5ECF6",
          "polar": {
           "angularaxis": {
            "gridcolor": "white",
            "linecolor": "white",
            "ticks": ""
           },
           "bgcolor": "#E5ECF6",
           "radialaxis": {
            "gridcolor": "white",
            "linecolor": "white",
            "ticks": ""
           }
          },
          "scene": {
           "xaxis": {
            "backgroundcolor": "#E5ECF6",
            "gridcolor": "white",
            "gridwidth": 2,
            "linecolor": "white",
            "showbackground": true,
            "ticks": "",
            "zerolinecolor": "white"
           },
           "yaxis": {
            "backgroundcolor": "#E5ECF6",
            "gridcolor": "white",
            "gridwidth": 2,
            "linecolor": "white",
            "showbackground": true,
            "ticks": "",
            "zerolinecolor": "white"
           },
           "zaxis": {
            "backgroundcolor": "#E5ECF6",
            "gridcolor": "white",
            "gridwidth": 2,
            "linecolor": "white",
            "showbackground": true,
            "ticks": "",
            "zerolinecolor": "white"
           }
          },
          "shapedefaults": {
           "line": {
            "color": "#2a3f5f"
           }
          },
          "ternary": {
           "aaxis": {
            "gridcolor": "white",
            "linecolor": "white",
            "ticks": ""
           },
           "baxis": {
            "gridcolor": "white",
            "linecolor": "white",
            "ticks": ""
           },
           "bgcolor": "#E5ECF6",
           "caxis": {
            "gridcolor": "white",
            "linecolor": "white",
            "ticks": ""
           }
          },
          "title": {
           "x": 0.05
          },
          "xaxis": {
           "automargin": true,
           "gridcolor": "white",
           "linecolor": "white",
           "ticks": "",
           "title": {
            "standoff": 15
           },
           "zerolinecolor": "white",
           "zerolinewidth": 2
          },
          "yaxis": {
           "automargin": true,
           "gridcolor": "white",
           "linecolor": "white",
           "ticks": "",
           "title": {
            "standoff": 15
           },
           "zerolinecolor": "white",
           "zerolinewidth": 2
          }
         }
        },
        "title": {
         "text": "Tastes of Hungary"
        },
        "width": 500
       }
      }
     },
     "metadata": {},
     "output_type": "display_data"
    }
   ],
   "source": [
    "fig = px.pie(hu_df, values = \"count(*)\", names=\"group_name\", title = \"Tastes of Hungary\",\n",
    "             color_discrete_sequence=px.colors.qualitative.Pastel)\n",
    "\n",
    "fig.update_layout(\n",
    "    legend_title_text=\"Tastes\", width = 500, height = 500)\n",
    "fig.show()"
   ]
  },
  {
   "cell_type": "markdown",
   "metadata": {},
   "source": [
    "Investigating the wine producing countries"
   ]
  },
  {
   "cell_type": "code",
   "execution_count": 13,
   "metadata": {},
   "outputs": [
    {
     "data": {
      "text/html": [
       "<div>\n",
       "<style scoped>\n",
       "    .dataframe tbody tr th:only-of-type {\n",
       "        vertical-align: middle;\n",
       "    }\n",
       "\n",
       "    .dataframe tbody tr th {\n",
       "        vertical-align: top;\n",
       "    }\n",
       "\n",
       "    .dataframe thead th {\n",
       "        text-align: right;\n",
       "    }\n",
       "</style>\n",
       "<table border=\"1\" class=\"dataframe\">\n",
       "  <thead>\n",
       "    <tr style=\"text-align: right;\">\n",
       "      <th></th>\n",
       "      <th>country_name</th>\n",
       "      <th>wine_name</th>\n",
       "      <th>average_ratings</th>\n",
       "    </tr>\n",
       "  </thead>\n",
       "  <tbody>\n",
       "    <tr>\n",
       "      <th>0</th>\n",
       "      <td>États-Unis</td>\n",
       "      <td>Cabernet Sauvignon</td>\n",
       "      <td>4.8</td>\n",
       "    </tr>\n",
       "    <tr>\n",
       "      <th>1</th>\n",
       "      <td>Italie</td>\n",
       "      <td>Amarone della Valpolicella Classico Riserva</td>\n",
       "      <td>4.8</td>\n",
       "    </tr>\n",
       "    <tr>\n",
       "      <th>2</th>\n",
       "      <td>France</td>\n",
       "      <td>Cristal Rosé Vinothèque</td>\n",
       "      <td>4.8</td>\n",
       "    </tr>\n",
       "    <tr>\n",
       "      <th>3</th>\n",
       "      <td>Espagne</td>\n",
       "      <td>Mágico</td>\n",
       "      <td>4.8</td>\n",
       "    </tr>\n",
       "    <tr>\n",
       "      <th>4</th>\n",
       "      <td>Hongrie</td>\n",
       "      <td>Eszencia</td>\n",
       "      <td>4.7</td>\n",
       "    </tr>\n",
       "    <tr>\n",
       "      <th>5</th>\n",
       "      <td>Australie</td>\n",
       "      <td>Grange</td>\n",
       "      <td>4.7</td>\n",
       "    </tr>\n",
       "    <tr>\n",
       "      <th>6</th>\n",
       "      <td>Allemagne</td>\n",
       "      <td>Scharzhofberger Riesling Eiswein</td>\n",
       "      <td>4.7</td>\n",
       "    </tr>\n",
       "    <tr>\n",
       "      <th>7</th>\n",
       "      <td>Afrique du Sud</td>\n",
       "      <td>Book 17 XVII</td>\n",
       "      <td>4.7</td>\n",
       "    </tr>\n",
       "    <tr>\n",
       "      <th>8</th>\n",
       "      <td>Portugal</td>\n",
       "      <td>Tordiz 40 Year Old Tawny Port</td>\n",
       "      <td>4.6</td>\n",
       "    </tr>\n",
       "    <tr>\n",
       "      <th>9</th>\n",
       "      <td>Chili</td>\n",
       "      <td>Almaviva</td>\n",
       "      <td>4.6</td>\n",
       "    </tr>\n",
       "  </tbody>\n",
       "</table>\n",
       "</div>"
      ],
      "text/plain": [
       "     country_name                                    wine_name  \\\n",
       "0      États-Unis                           Cabernet Sauvignon   \n",
       "1          Italie  Amarone della Valpolicella Classico Riserva   \n",
       "2          France                      Cristal Rosé Vinothèque   \n",
       "3         Espagne                                       Mágico   \n",
       "4         Hongrie                                     Eszencia   \n",
       "5       Australie                                       Grange   \n",
       "6       Allemagne             Scharzhofberger Riesling Eiswein   \n",
       "7  Afrique du Sud                                 Book 17 XVII   \n",
       "8        Portugal                Tordiz 40 Year Old Tawny Port   \n",
       "9           Chili                                     Almaviva   \n",
       "\n",
       "   average_ratings  \n",
       "0              4.8  \n",
       "1              4.8  \n",
       "2              4.8  \n",
       "3              4.8  \n",
       "4              4.7  \n",
       "5              4.7  \n",
       "6              4.7  \n",
       "7              4.7  \n",
       "8              4.6  \n",
       "9              4.6  "
      ]
     },
     "execution_count": 13,
     "metadata": {},
     "output_type": "execute_result"
    }
   ],
   "source": [
    "query_countries = \"\"\"SELECT countries.name AS country_name, wines.name AS wine_name, MAX(ratings_average) AS average_ratings\n",
    "                FROM countries\n",
    "JOIN regions ON countries.code == regions.country_code\n",
    "JOIN wines ON wines.region_id == regions.id\n",
    "GROUP BY country_name\n",
    "ORDER BY average_ratings DESC\n",
    "LIMIT 10;\"\"\"\n",
    "\n",
    "countries_df = pd.read_sql_query(query_countries, conn)\n",
    "countries_df"
   ]
  },
  {
   "cell_type": "code",
   "execution_count": 14,
   "metadata": {},
   "outputs": [
    {
     "data": {
      "application/vnd.plotly.v1+json": {
       "config": {
        "plotlyServerURL": "https://plot.ly"
       },
       "data": [
        {
         "alignmentgroup": "True",
         "hovertemplate": "country_name=%{x}<br>average_ratings=%{y}<extra></extra>",
         "legendgroup": "",
         "marker": {
          "color": "#636efa",
          "pattern": {
           "shape": ""
          }
         },
         "name": "",
         "offsetgroup": "",
         "orientation": "v",
         "showlegend": false,
         "textposition": "auto",
         "type": "bar",
         "x": [
          "États-Unis",
          "Italie",
          "France",
          "Espagne",
          "Hongrie",
          "Australie",
          "Allemagne",
          "Afrique du Sud",
          "Portugal",
          "Chili"
         ],
         "xaxis": "x",
         "y": [
          4.8,
          4.8,
          4.8,
          4.8,
          4.7,
          4.7,
          4.7,
          4.7,
          4.6,
          4.6
         ],
         "yaxis": "y"
        }
       ],
       "layout": {
        "barmode": "relative",
        "legend": {
         "tracegroupgap": 0
        },
        "margin": {
         "t": 60
        },
        "template": {
         "data": {
          "bar": [
           {
            "error_x": {
             "color": "#2a3f5f"
            },
            "error_y": {
             "color": "#2a3f5f"
            },
            "marker": {
             "line": {
              "color": "#E5ECF6",
              "width": 0.5
             },
             "pattern": {
              "fillmode": "overlay",
              "size": 10,
              "solidity": 0.2
             }
            },
            "type": "bar"
           }
          ],
          "barpolar": [
           {
            "marker": {
             "line": {
              "color": "#E5ECF6",
              "width": 0.5
             },
             "pattern": {
              "fillmode": "overlay",
              "size": 10,
              "solidity": 0.2
             }
            },
            "type": "barpolar"
           }
          ],
          "carpet": [
           {
            "aaxis": {
             "endlinecolor": "#2a3f5f",
             "gridcolor": "white",
             "linecolor": "white",
             "minorgridcolor": "white",
             "startlinecolor": "#2a3f5f"
            },
            "baxis": {
             "endlinecolor": "#2a3f5f",
             "gridcolor": "white",
             "linecolor": "white",
             "minorgridcolor": "white",
             "startlinecolor": "#2a3f5f"
            },
            "type": "carpet"
           }
          ],
          "choropleth": [
           {
            "colorbar": {
             "outlinewidth": 0,
             "ticks": ""
            },
            "type": "choropleth"
           }
          ],
          "contour": [
           {
            "colorbar": {
             "outlinewidth": 0,
             "ticks": ""
            },
            "colorscale": [
             [
              0,
              "#0d0887"
             ],
             [
              0.1111111111111111,
              "#46039f"
             ],
             [
              0.2222222222222222,
              "#7201a8"
             ],
             [
              0.3333333333333333,
              "#9c179e"
             ],
             [
              0.4444444444444444,
              "#bd3786"
             ],
             [
              0.5555555555555556,
              "#d8576b"
             ],
             [
              0.6666666666666666,
              "#ed7953"
             ],
             [
              0.7777777777777778,
              "#fb9f3a"
             ],
             [
              0.8888888888888888,
              "#fdca26"
             ],
             [
              1,
              "#f0f921"
             ]
            ],
            "type": "contour"
           }
          ],
          "contourcarpet": [
           {
            "colorbar": {
             "outlinewidth": 0,
             "ticks": ""
            },
            "type": "contourcarpet"
           }
          ],
          "heatmap": [
           {
            "colorbar": {
             "outlinewidth": 0,
             "ticks": ""
            },
            "colorscale": [
             [
              0,
              "#0d0887"
             ],
             [
              0.1111111111111111,
              "#46039f"
             ],
             [
              0.2222222222222222,
              "#7201a8"
             ],
             [
              0.3333333333333333,
              "#9c179e"
             ],
             [
              0.4444444444444444,
              "#bd3786"
             ],
             [
              0.5555555555555556,
              "#d8576b"
             ],
             [
              0.6666666666666666,
              "#ed7953"
             ],
             [
              0.7777777777777778,
              "#fb9f3a"
             ],
             [
              0.8888888888888888,
              "#fdca26"
             ],
             [
              1,
              "#f0f921"
             ]
            ],
            "type": "heatmap"
           }
          ],
          "heatmapgl": [
           {
            "colorbar": {
             "outlinewidth": 0,
             "ticks": ""
            },
            "colorscale": [
             [
              0,
              "#0d0887"
             ],
             [
              0.1111111111111111,
              "#46039f"
             ],
             [
              0.2222222222222222,
              "#7201a8"
             ],
             [
              0.3333333333333333,
              "#9c179e"
             ],
             [
              0.4444444444444444,
              "#bd3786"
             ],
             [
              0.5555555555555556,
              "#d8576b"
             ],
             [
              0.6666666666666666,
              "#ed7953"
             ],
             [
              0.7777777777777778,
              "#fb9f3a"
             ],
             [
              0.8888888888888888,
              "#fdca26"
             ],
             [
              1,
              "#f0f921"
             ]
            ],
            "type": "heatmapgl"
           }
          ],
          "histogram": [
           {
            "marker": {
             "pattern": {
              "fillmode": "overlay",
              "size": 10,
              "solidity": 0.2
             }
            },
            "type": "histogram"
           }
          ],
          "histogram2d": [
           {
            "colorbar": {
             "outlinewidth": 0,
             "ticks": ""
            },
            "colorscale": [
             [
              0,
              "#0d0887"
             ],
             [
              0.1111111111111111,
              "#46039f"
             ],
             [
              0.2222222222222222,
              "#7201a8"
             ],
             [
              0.3333333333333333,
              "#9c179e"
             ],
             [
              0.4444444444444444,
              "#bd3786"
             ],
             [
              0.5555555555555556,
              "#d8576b"
             ],
             [
              0.6666666666666666,
              "#ed7953"
             ],
             [
              0.7777777777777778,
              "#fb9f3a"
             ],
             [
              0.8888888888888888,
              "#fdca26"
             ],
             [
              1,
              "#f0f921"
             ]
            ],
            "type": "histogram2d"
           }
          ],
          "histogram2dcontour": [
           {
            "colorbar": {
             "outlinewidth": 0,
             "ticks": ""
            },
            "colorscale": [
             [
              0,
              "#0d0887"
             ],
             [
              0.1111111111111111,
              "#46039f"
             ],
             [
              0.2222222222222222,
              "#7201a8"
             ],
             [
              0.3333333333333333,
              "#9c179e"
             ],
             [
              0.4444444444444444,
              "#bd3786"
             ],
             [
              0.5555555555555556,
              "#d8576b"
             ],
             [
              0.6666666666666666,
              "#ed7953"
             ],
             [
              0.7777777777777778,
              "#fb9f3a"
             ],
             [
              0.8888888888888888,
              "#fdca26"
             ],
             [
              1,
              "#f0f921"
             ]
            ],
            "type": "histogram2dcontour"
           }
          ],
          "mesh3d": [
           {
            "colorbar": {
             "outlinewidth": 0,
             "ticks": ""
            },
            "type": "mesh3d"
           }
          ],
          "parcoords": [
           {
            "line": {
             "colorbar": {
              "outlinewidth": 0,
              "ticks": ""
             }
            },
            "type": "parcoords"
           }
          ],
          "pie": [
           {
            "automargin": true,
            "type": "pie"
           }
          ],
          "scatter": [
           {
            "fillpattern": {
             "fillmode": "overlay",
             "size": 10,
             "solidity": 0.2
            },
            "type": "scatter"
           }
          ],
          "scatter3d": [
           {
            "line": {
             "colorbar": {
              "outlinewidth": 0,
              "ticks": ""
             }
            },
            "marker": {
             "colorbar": {
              "outlinewidth": 0,
              "ticks": ""
             }
            },
            "type": "scatter3d"
           }
          ],
          "scattercarpet": [
           {
            "marker": {
             "colorbar": {
              "outlinewidth": 0,
              "ticks": ""
             }
            },
            "type": "scattercarpet"
           }
          ],
          "scattergeo": [
           {
            "marker": {
             "colorbar": {
              "outlinewidth": 0,
              "ticks": ""
             }
            },
            "type": "scattergeo"
           }
          ],
          "scattergl": [
           {
            "marker": {
             "colorbar": {
              "outlinewidth": 0,
              "ticks": ""
             }
            },
            "type": "scattergl"
           }
          ],
          "scattermapbox": [
           {
            "marker": {
             "colorbar": {
              "outlinewidth": 0,
              "ticks": ""
             }
            },
            "type": "scattermapbox"
           }
          ],
          "scatterpolar": [
           {
            "marker": {
             "colorbar": {
              "outlinewidth": 0,
              "ticks": ""
             }
            },
            "type": "scatterpolar"
           }
          ],
          "scatterpolargl": [
           {
            "marker": {
             "colorbar": {
              "outlinewidth": 0,
              "ticks": ""
             }
            },
            "type": "scatterpolargl"
           }
          ],
          "scatterternary": [
           {
            "marker": {
             "colorbar": {
              "outlinewidth": 0,
              "ticks": ""
             }
            },
            "type": "scatterternary"
           }
          ],
          "surface": [
           {
            "colorbar": {
             "outlinewidth": 0,
             "ticks": ""
            },
            "colorscale": [
             [
              0,
              "#0d0887"
             ],
             [
              0.1111111111111111,
              "#46039f"
             ],
             [
              0.2222222222222222,
              "#7201a8"
             ],
             [
              0.3333333333333333,
              "#9c179e"
             ],
             [
              0.4444444444444444,
              "#bd3786"
             ],
             [
              0.5555555555555556,
              "#d8576b"
             ],
             [
              0.6666666666666666,
              "#ed7953"
             ],
             [
              0.7777777777777778,
              "#fb9f3a"
             ],
             [
              0.8888888888888888,
              "#fdca26"
             ],
             [
              1,
              "#f0f921"
             ]
            ],
            "type": "surface"
           }
          ],
          "table": [
           {
            "cells": {
             "fill": {
              "color": "#EBF0F8"
             },
             "line": {
              "color": "white"
             }
            },
            "header": {
             "fill": {
              "color": "#C8D4E3"
             },
             "line": {
              "color": "white"
             }
            },
            "type": "table"
           }
          ]
         },
         "layout": {
          "annotationdefaults": {
           "arrowcolor": "#2a3f5f",
           "arrowhead": 0,
           "arrowwidth": 1
          },
          "autotypenumbers": "strict",
          "coloraxis": {
           "colorbar": {
            "outlinewidth": 0,
            "ticks": ""
           }
          },
          "colorscale": {
           "diverging": [
            [
             0,
             "#8e0152"
            ],
            [
             0.1,
             "#c51b7d"
            ],
            [
             0.2,
             "#de77ae"
            ],
            [
             0.3,
             "#f1b6da"
            ],
            [
             0.4,
             "#fde0ef"
            ],
            [
             0.5,
             "#f7f7f7"
            ],
            [
             0.6,
             "#e6f5d0"
            ],
            [
             0.7,
             "#b8e186"
            ],
            [
             0.8,
             "#7fbc41"
            ],
            [
             0.9,
             "#4d9221"
            ],
            [
             1,
             "#276419"
            ]
           ],
           "sequential": [
            [
             0,
             "#0d0887"
            ],
            [
             0.1111111111111111,
             "#46039f"
            ],
            [
             0.2222222222222222,
             "#7201a8"
            ],
            [
             0.3333333333333333,
             "#9c179e"
            ],
            [
             0.4444444444444444,
             "#bd3786"
            ],
            [
             0.5555555555555556,
             "#d8576b"
            ],
            [
             0.6666666666666666,
             "#ed7953"
            ],
            [
             0.7777777777777778,
             "#fb9f3a"
            ],
            [
             0.8888888888888888,
             "#fdca26"
            ],
            [
             1,
             "#f0f921"
            ]
           ],
           "sequentialminus": [
            [
             0,
             "#0d0887"
            ],
            [
             0.1111111111111111,
             "#46039f"
            ],
            [
             0.2222222222222222,
             "#7201a8"
            ],
            [
             0.3333333333333333,
             "#9c179e"
            ],
            [
             0.4444444444444444,
             "#bd3786"
            ],
            [
             0.5555555555555556,
             "#d8576b"
            ],
            [
             0.6666666666666666,
             "#ed7953"
            ],
            [
             0.7777777777777778,
             "#fb9f3a"
            ],
            [
             0.8888888888888888,
             "#fdca26"
            ],
            [
             1,
             "#f0f921"
            ]
           ]
          },
          "colorway": [
           "#636efa",
           "#EF553B",
           "#00cc96",
           "#ab63fa",
           "#FFA15A",
           "#19d3f3",
           "#FF6692",
           "#B6E880",
           "#FF97FF",
           "#FECB52"
          ],
          "font": {
           "color": "#2a3f5f"
          },
          "geo": {
           "bgcolor": "white",
           "lakecolor": "white",
           "landcolor": "#E5ECF6",
           "showlakes": true,
           "showland": true,
           "subunitcolor": "white"
          },
          "hoverlabel": {
           "align": "left"
          },
          "hovermode": "closest",
          "mapbox": {
           "style": "light"
          },
          "paper_bgcolor": "white",
          "plot_bgcolor": "#E5ECF6",
          "polar": {
           "angularaxis": {
            "gridcolor": "white",
            "linecolor": "white",
            "ticks": ""
           },
           "bgcolor": "#E5ECF6",
           "radialaxis": {
            "gridcolor": "white",
            "linecolor": "white",
            "ticks": ""
           }
          },
          "scene": {
           "xaxis": {
            "backgroundcolor": "#E5ECF6",
            "gridcolor": "white",
            "gridwidth": 2,
            "linecolor": "white",
            "showbackground": true,
            "ticks": "",
            "zerolinecolor": "white"
           },
           "yaxis": {
            "backgroundcolor": "#E5ECF6",
            "gridcolor": "white",
            "gridwidth": 2,
            "linecolor": "white",
            "showbackground": true,
            "ticks": "",
            "zerolinecolor": "white"
           },
           "zaxis": {
            "backgroundcolor": "#E5ECF6",
            "gridcolor": "white",
            "gridwidth": 2,
            "linecolor": "white",
            "showbackground": true,
            "ticks": "",
            "zerolinecolor": "white"
           }
          },
          "shapedefaults": {
           "line": {
            "color": "#2a3f5f"
           }
          },
          "ternary": {
           "aaxis": {
            "gridcolor": "white",
            "linecolor": "white",
            "ticks": ""
           },
           "baxis": {
            "gridcolor": "white",
            "linecolor": "white",
            "ticks": ""
           },
           "bgcolor": "#E5ECF6",
           "caxis": {
            "gridcolor": "white",
            "linecolor": "white",
            "ticks": ""
           }
          },
          "title": {
           "x": 0.05
          },
          "xaxis": {
           "automargin": true,
           "gridcolor": "white",
           "linecolor": "white",
           "ticks": "",
           "title": {
            "standoff": 15
           },
           "zerolinecolor": "white",
           "zerolinewidth": 2
          },
          "yaxis": {
           "automargin": true,
           "gridcolor": "white",
           "linecolor": "white",
           "ticks": "",
           "title": {
            "standoff": 15
           },
           "zerolinecolor": "white",
           "zerolinewidth": 2
          }
         }
        },
        "xaxis": {
         "anchor": "y",
         "domain": [
          0,
          1
         ],
         "title": {
          "text": "country_name"
         }
        },
        "yaxis": {
         "anchor": "x",
         "domain": [
          0,
          1
         ],
         "title": {
          "text": "average_ratings"
         }
        }
       }
      }
     },
     "metadata": {},
     "output_type": "display_data"
    }
   ],
   "source": [
    "fig = px.bar(countries_df, x = \"country_name\", y=\"average_ratings\")\n",
    "fig.show()"
   ]
  },
  {
   "cell_type": "markdown",
   "metadata": {},
   "source": [
    "FINDING THE 3 BEST WINERIEs"
   ]
  },
  {
   "cell_type": "code",
   "execution_count": 15,
   "metadata": {},
   "outputs": [
    {
     "data": {
      "text/html": [
       "<div>\n",
       "<style scoped>\n",
       "    .dataframe tbody tr th:only-of-type {\n",
       "        vertical-align: middle;\n",
       "    }\n",
       "\n",
       "    .dataframe tbody tr th {\n",
       "        vertical-align: top;\n",
       "    }\n",
       "\n",
       "    .dataframe thead th {\n",
       "        text-align: right;\n",
       "    }\n",
       "</style>\n",
       "<table border=\"1\" class=\"dataframe\">\n",
       "  <thead>\n",
       "    <tr style=\"text-align: right;\">\n",
       "      <th></th>\n",
       "      <th>winery_name</th>\n",
       "      <th>wine_name</th>\n",
       "    </tr>\n",
       "  </thead>\n",
       "  <tbody>\n",
       "    <tr>\n",
       "      <th>0</th>\n",
       "      <td>Tenuta Tignanello 'Solaia'</td>\n",
       "      <td>The Armagh Shiraz</td>\n",
       "    </tr>\n",
       "    <tr>\n",
       "      <th>1</th>\n",
       "      <td>Tignanello</td>\n",
       "      <td>Colheita Porto</td>\n",
       "    </tr>\n",
       "    <tr>\n",
       "      <th>2</th>\n",
       "      <td>Siepi</td>\n",
       "      <td>Lion Tamer Napa Valley Red Blend</td>\n",
       "    </tr>\n",
       "    <tr>\n",
       "      <th>3</th>\n",
       "      <td>Corte di Cama Sforzato di Valtellina</td>\n",
       "      <td>Raut Lagrein</td>\n",
       "    </tr>\n",
       "  </tbody>\n",
       "</table>\n",
       "</div>"
      ],
      "text/plain": [
       "                            winery_name                         wine_name\n",
       "0            Tenuta Tignanello 'Solaia'                 The Armagh Shiraz\n",
       "1                            Tignanello                    Colheita Porto\n",
       "2                                 Siepi  Lion Tamer Napa Valley Red Blend\n",
       "3  Corte di Cama Sforzato di Valtellina                      Raut Lagrein"
      ]
     },
     "execution_count": 15,
     "metadata": {},
     "output_type": "execute_result"
    }
   ],
   "source": [
    "query_all_wineries = \"\"\" SELECT wineries.name AS winery_name, wines.name AS wine_name FROM wineries\n",
    "JOIN wines ON wineries.id == wines.winery_id\"\"\"\n",
    "\n",
    "df_all_wineries = pd.read_sql_query(query_all_wineries, conn)\n",
    "df_all_wineries"
   ]
  },
  {
   "cell_type": "code",
   "execution_count": 16,
   "metadata": {},
   "outputs": [
    {
     "data": {
      "text/html": [
       "<div>\n",
       "<style scoped>\n",
       "    .dataframe tbody tr th:only-of-type {\n",
       "        vertical-align: middle;\n",
       "    }\n",
       "\n",
       "    .dataframe tbody tr th {\n",
       "        vertical-align: top;\n",
       "    }\n",
       "\n",
       "    .dataframe thead th {\n",
       "        text-align: right;\n",
       "    }\n",
       "</style>\n",
       "<table border=\"1\" class=\"dataframe\">\n",
       "  <thead>\n",
       "    <tr style=\"text-align: right;\">\n",
       "      <th></th>\n",
       "      <th>name_winery</th>\n",
       "      <th>average_rating</th>\n",
       "    </tr>\n",
       "  </thead>\n",
       "  <tbody>\n",
       "    <tr>\n",
       "      <th>0</th>\n",
       "      <td>Tenuta Tignanello 'Solaia'</td>\n",
       "      <td>4.425</td>\n",
       "    </tr>\n",
       "  </tbody>\n",
       "</table>\n",
       "</div>"
      ],
      "text/plain": [
       "                  name_winery  average_rating\n",
       "0  Tenuta Tignanello 'Solaia'           4.425"
      ]
     },
     "execution_count": 16,
     "metadata": {},
     "output_type": "execute_result"
    }
   ],
   "source": [
    "query_wineries = \"\"\"SELECT wineries.name AS name_winery, AVG(ratings_average) AS average_rating\n",
    "FROM wineries\n",
    "JOIN wines ON wines.winery_id = wineries.id\n",
    "--GROUP BY name_winery\n",
    "--ORDER BY average_rating DESC\n",
    "\"\"\"\n",
    "\n",
    "wineries_df = pd.read_sql_query(query_wineries,conn)\n",
    "wineries_df"
   ]
  },
  {
   "cell_type": "markdown",
   "metadata": {},
   "source": [
    "INVESTIGATING tastes: coffee, toast, green apple, cream, citrus"
   ]
  },
  {
   "cell_type": "code",
   "execution_count": 17,
   "metadata": {},
   "outputs": [
    {
     "data": {
      "text/html": [
       "<div>\n",
       "<style scoped>\n",
       "    .dataframe tbody tr th:only-of-type {\n",
       "        vertical-align: middle;\n",
       "    }\n",
       "\n",
       "    .dataframe tbody tr th {\n",
       "        vertical-align: top;\n",
       "    }\n",
       "\n",
       "    .dataframe thead th {\n",
       "        text-align: right;\n",
       "    }\n",
       "</style>\n",
       "<table border=\"1\" class=\"dataframe\">\n",
       "  <thead>\n",
       "    <tr style=\"text-align: right;\">\n",
       "      <th></th>\n",
       "      <th>taste_subtype</th>\n",
       "      <th>wine_name</th>\n",
       "      <th>ratings_average</th>\n",
       "      <th>count</th>\n",
       "    </tr>\n",
       "  </thead>\n",
       "  <tbody>\n",
       "    <tr>\n",
       "      <th>0</th>\n",
       "      <td>cream</td>\n",
       "      <td>'Giulio Ferrari' Riserva del Fondatore</td>\n",
       "      <td>4.6</td>\n",
       "      <td>72</td>\n",
       "    </tr>\n",
       "    <tr>\n",
       "      <th>1</th>\n",
       "      <td>coffee</td>\n",
       "      <td>25 anni Montefalco Sagrantino</td>\n",
       "      <td>4.3</td>\n",
       "      <td>23</td>\n",
       "    </tr>\n",
       "    <tr>\n",
       "      <th>2</th>\n",
       "      <td>green apple</td>\n",
       "      <td>5 Puttonyos Aszú (Blue Label)</td>\n",
       "      <td>4.4</td>\n",
       "      <td>12</td>\n",
       "    </tr>\n",
       "    <tr>\n",
       "      <th>3</th>\n",
       "      <td>coffee</td>\n",
       "      <td>5 Stelle Sfursat</td>\n",
       "      <td>4.5</td>\n",
       "      <td>35</td>\n",
       "    </tr>\n",
       "    <tr>\n",
       "      <th>4</th>\n",
       "      <td>coffee</td>\n",
       "      <td>50 &amp; 50</td>\n",
       "      <td>4.4</td>\n",
       "      <td>13</td>\n",
       "    </tr>\n",
       "    <tr>\n",
       "      <th>...</th>\n",
       "      <td>...</td>\n",
       "      <td>...</td>\n",
       "      <td>...</td>\n",
       "      <td>...</td>\n",
       "    </tr>\n",
       "    <tr>\n",
       "      <th>353</th>\n",
       "      <td>citrus</td>\n",
       "      <td>Vénus Blanc de Blancs Brut Nature Champagne Gr...</td>\n",
       "      <td>4.4</td>\n",
       "      <td>21</td>\n",
       "    </tr>\n",
       "    <tr>\n",
       "      <th>354</th>\n",
       "      <td>coffee</td>\n",
       "      <td>Vürsù Barbaresco Starderi</td>\n",
       "      <td>4.4</td>\n",
       "      <td>16</td>\n",
       "    </tr>\n",
       "    <tr>\n",
       "      <th>355</th>\n",
       "      <td>coffee</td>\n",
       "      <td>Vürsù Barolo Campè</td>\n",
       "      <td>4.4</td>\n",
       "      <td>13</td>\n",
       "    </tr>\n",
       "    <tr>\n",
       "      <th>356</th>\n",
       "      <td>coffee</td>\n",
       "      <td>Yarden Katzrin</td>\n",
       "      <td>4.5</td>\n",
       "      <td>17</td>\n",
       "    </tr>\n",
       "    <tr>\n",
       "      <th>357</th>\n",
       "      <td>coffee</td>\n",
       "      <td>d'Alceo</td>\n",
       "      <td>4.4</td>\n",
       "      <td>12</td>\n",
       "    </tr>\n",
       "  </tbody>\n",
       "</table>\n",
       "<p>358 rows × 4 columns</p>\n",
       "</div>"
      ],
      "text/plain": [
       "    taste_subtype                                          wine_name  \\\n",
       "0           cream             'Giulio Ferrari' Riserva del Fondatore   \n",
       "1          coffee                      25 anni Montefalco Sagrantino   \n",
       "2     green apple                      5 Puttonyos Aszú (Blue Label)   \n",
       "3          coffee                                   5 Stelle Sfursat   \n",
       "4          coffee                                            50 & 50   \n",
       "..            ...                                                ...   \n",
       "353        citrus  Vénus Blanc de Blancs Brut Nature Champagne Gr...   \n",
       "354        coffee                          Vürsù Barbaresco Starderi   \n",
       "355        coffee                                 Vürsù Barolo Campè   \n",
       "356        coffee                                     Yarden Katzrin   \n",
       "357        coffee                                            d'Alceo   \n",
       "\n",
       "     ratings_average  count  \n",
       "0                4.6     72  \n",
       "1                4.3     23  \n",
       "2                4.4     12  \n",
       "3                4.5     35  \n",
       "4                4.4     13  \n",
       "..               ...    ...  \n",
       "353              4.4     21  \n",
       "354              4.4     16  \n",
       "355              4.4     13  \n",
       "356              4.5     17  \n",
       "357              4.4     12  \n",
       "\n",
       "[358 rows x 4 columns]"
      ]
     },
     "execution_count": 17,
     "metadata": {},
     "output_type": "execute_result"
    }
   ],
   "source": [
    "query_tastes = \"\"\"SELECT keywords.name AS taste_subtype, wines.name AS wine_name, ratings_average, count FROM keywords_wine\n",
    "JOIN keywords ON keywords_wine.keyword_id = keywords.id\n",
    "JOIN wines ON keywords_wine.wine_id = wines.id\n",
    "WHERE keywords.name IN (\"coffee\", \"toast\", \"green apple\", \"cream\", \"citrus\") AND\n",
    "count > 10\n",
    "GROUP BY wine_name\n",
    "ORDER BY wine_name \n",
    "\"\"\"\n",
    "\n",
    "tastes_df = pd.read_sql_query(query_tastes, conn)\n",
    "\n",
    "tastes_df"
   ]
  },
  {
   "cell_type": "markdown",
   "metadata": {},
   "source": [
    "Looking for the wines that have all the five tastes"
   ]
  },
  {
   "cell_type": "code",
   "execution_count": 89,
   "metadata": {},
   "outputs": [
    {
     "data": {
      "text/html": [
       "<div>\n",
       "<style scoped>\n",
       "    .dataframe tbody tr th:only-of-type {\n",
       "        vertical-align: middle;\n",
       "    }\n",
       "\n",
       "    .dataframe tbody tr th {\n",
       "        vertical-align: top;\n",
       "    }\n",
       "\n",
       "    .dataframe thead th {\n",
       "        text-align: right;\n",
       "    }\n",
       "</style>\n",
       "<table border=\"1\" class=\"dataframe\">\n",
       "  <thead>\n",
       "    <tr style=\"text-align: right;\">\n",
       "      <th></th>\n",
       "      <th>tastes</th>\n",
       "      <th>wine_name</th>\n",
       "      <th>vintage_name</th>\n",
       "      <th>ratings_average</th>\n",
       "      <th>user_count</th>\n",
       "    </tr>\n",
       "  </thead>\n",
       "  <tbody>\n",
       "    <tr>\n",
       "      <th>0</th>\n",
       "      <td>green apple,coffee,toast,citrus,cream</td>\n",
       "      <td>Sauternes</td>\n",
       "      <td>Château d'Yquem Sauternes 1962</td>\n",
       "      <td>4.7</td>\n",
       "      <td>13</td>\n",
       "    </tr>\n",
       "    <tr>\n",
       "      <th>1</th>\n",
       "      <td>toast,coffee,cream,green apple,citrus</td>\n",
       "      <td>P2 Plénitude Brut Champagne</td>\n",
       "      <td>Dom Pérignon P2 Plénitude Brut Champagne 2003</td>\n",
       "      <td>4.7</td>\n",
       "      <td>161</td>\n",
       "    </tr>\n",
       "    <tr>\n",
       "      <th>2</th>\n",
       "      <td>citrus,toast,coffee,cream,green apple</td>\n",
       "      <td>Le Mesnil Blanc de Blancs (Cuvée S) Brut Champ...</td>\n",
       "      <td>Salon Le Mesnil Blanc de Blancs (Cuvée S) Brut...</td>\n",
       "      <td>4.7</td>\n",
       "      <td>240</td>\n",
       "    </tr>\n",
       "    <tr>\n",
       "      <th>3</th>\n",
       "      <td>toast,coffee,cream,green apple,citrus</td>\n",
       "      <td>Vintage</td>\n",
       "      <td>Krug Vintage 1996</td>\n",
       "      <td>4.6</td>\n",
       "      <td>356</td>\n",
       "    </tr>\n",
       "    <tr>\n",
       "      <th>4</th>\n",
       "      <td>toast,coffee,cream,green apple,citrus</td>\n",
       "      <td>Sir Winston Churchill Brut Champagne</td>\n",
       "      <td>Pol Roger Sir Winston Churchill Brut Champagne...</td>\n",
       "      <td>4.6</td>\n",
       "      <td>282</td>\n",
       "    </tr>\n",
       "    <tr>\n",
       "      <th>5</th>\n",
       "      <td>toast,coffee,cream,green apple,citrus</td>\n",
       "      <td>R.D Extra Brut Champagne (Récemment Dégorgé)</td>\n",
       "      <td>Bollinger R.D Extra Brut Champagne (Récemment ...</td>\n",
       "      <td>4.6</td>\n",
       "      <td>163</td>\n",
       "    </tr>\n",
       "    <tr>\n",
       "      <th>6</th>\n",
       "      <td>toast,coffee,cream,citrus,green apple</td>\n",
       "      <td>Grande Cuvée</td>\n",
       "      <td>Krug Grande Cuvée</td>\n",
       "      <td>4.6</td>\n",
       "      <td>713</td>\n",
       "    </tr>\n",
       "    <tr>\n",
       "      <th>7</th>\n",
       "      <td>toast,coffee,green apple,citrus,cream</td>\n",
       "      <td>Cristal Brut Champagne (Millésimé)</td>\n",
       "      <td>Louis Roederer Cristal Brut Champagne (Millési...</td>\n",
       "      <td>4.6</td>\n",
       "      <td>464</td>\n",
       "    </tr>\n",
       "    <tr>\n",
       "      <th>8</th>\n",
       "      <td>toast,coffee,cream,green apple,citrus</td>\n",
       "      <td>Brut Champagne</td>\n",
       "      <td>Dom Pérignon Brut Champagne 2000</td>\n",
       "      <td>4.6</td>\n",
       "      <td>2165</td>\n",
       "    </tr>\n",
       "    <tr>\n",
       "      <th>9</th>\n",
       "      <td>toast,coffee,cream,citrus,green apple</td>\n",
       "      <td>Blanc des Millénaires</td>\n",
       "      <td>Charles Heidsieck Blanc des Millénaires 2007</td>\n",
       "      <td>4.6</td>\n",
       "      <td>160</td>\n",
       "    </tr>\n",
       "    <tr>\n",
       "      <th>10</th>\n",
       "      <td>coffee,toast,green apple,cream,citrus</td>\n",
       "      <td>MV</td>\n",
       "      <td>Henri Giraud MV 2016</td>\n",
       "      <td>4.5</td>\n",
       "      <td>10</td>\n",
       "    </tr>\n",
       "    <tr>\n",
       "      <th>11</th>\n",
       "      <td>toast,coffee,green apple,cream,citrus</td>\n",
       "      <td>La Grande Dame Brut Champagne</td>\n",
       "      <td>Veuve Clicquot La Grande Dame Brut Champagne 2008</td>\n",
       "      <td>4.5</td>\n",
       "      <td>244</td>\n",
       "    </tr>\n",
       "    <tr>\n",
       "      <th>12</th>\n",
       "      <td>toast,coffee,cream,green apple,citrus</td>\n",
       "      <td>La Grande Année Brut Champagne</td>\n",
       "      <td>Bollinger La Grande Année Brut Champagne 2012</td>\n",
       "      <td>4.5</td>\n",
       "      <td>525</td>\n",
       "    </tr>\n",
       "    <tr>\n",
       "      <th>13</th>\n",
       "      <td>toast,coffee,cream,green apple,citrus</td>\n",
       "      <td>Dom Ruinart Blanc de Blancs Brut Champagne</td>\n",
       "      <td>Ruinart Dom Ruinart Blanc de Blancs Brut Champ...</td>\n",
       "      <td>4.5</td>\n",
       "      <td>226</td>\n",
       "    </tr>\n",
       "    <tr>\n",
       "      <th>14</th>\n",
       "      <td>toast,coffee,cream,green apple,citrus</td>\n",
       "      <td>Cuvée des Enchanteleurs Brut Champagne</td>\n",
       "      <td>Henriot Cuvée des Enchanteleurs Brut Champagne...</td>\n",
       "      <td>4.5</td>\n",
       "      <td>31</td>\n",
       "    </tr>\n",
       "    <tr>\n",
       "      <th>15</th>\n",
       "      <td>toast,coffee,cream,citrus,green apple</td>\n",
       "      <td>Comtes de Champagne Blanc de Blancs</td>\n",
       "      <td>Taittinger Comtes de Champagne Blanc de Blancs...</td>\n",
       "      <td>4.5</td>\n",
       "      <td>587</td>\n",
       "    </tr>\n",
       "    <tr>\n",
       "      <th>16</th>\n",
       "      <td>green apple,toast,coffee,citrus,cream</td>\n",
       "      <td>Belle Epoque Brut Champagne</td>\n",
       "      <td>Perrier-Jouët Belle Epoque Brut Champagne 2013</td>\n",
       "      <td>4.5</td>\n",
       "      <td>224</td>\n",
       "    </tr>\n",
       "    <tr>\n",
       "      <th>17</th>\n",
       "      <td>coffee,green apple,citrus,toast,cream</td>\n",
       "      <td>Trebbiano d'Abruzzo</td>\n",
       "      <td>Valentini Trebbiano d'Abruzzo 2009</td>\n",
       "      <td>4.4</td>\n",
       "      <td>21</td>\n",
       "    </tr>\n",
       "    <tr>\n",
       "      <th>18</th>\n",
       "      <td>green apple,coffee,toast,citrus,cream</td>\n",
       "      <td>Sauternes (Premier Grand Cru Classé)</td>\n",
       "      <td>Château Rieussec Sauternes (Premier Grand Cru ...</td>\n",
       "      <td>4.4</td>\n",
       "      <td>10</td>\n",
       "    </tr>\n",
       "  </tbody>\n",
       "</table>\n",
       "</div>"
      ],
      "text/plain": [
       "                                   tastes  \\\n",
       "0   green apple,coffee,toast,citrus,cream   \n",
       "1   toast,coffee,cream,green apple,citrus   \n",
       "2   citrus,toast,coffee,cream,green apple   \n",
       "3   toast,coffee,cream,green apple,citrus   \n",
       "4   toast,coffee,cream,green apple,citrus   \n",
       "5   toast,coffee,cream,green apple,citrus   \n",
       "6   toast,coffee,cream,citrus,green apple   \n",
       "7   toast,coffee,green apple,citrus,cream   \n",
       "8   toast,coffee,cream,green apple,citrus   \n",
       "9   toast,coffee,cream,citrus,green apple   \n",
       "10  coffee,toast,green apple,cream,citrus   \n",
       "11  toast,coffee,green apple,cream,citrus   \n",
       "12  toast,coffee,cream,green apple,citrus   \n",
       "13  toast,coffee,cream,green apple,citrus   \n",
       "14  toast,coffee,cream,green apple,citrus   \n",
       "15  toast,coffee,cream,citrus,green apple   \n",
       "16  green apple,toast,coffee,citrus,cream   \n",
       "17  coffee,green apple,citrus,toast,cream   \n",
       "18  green apple,coffee,toast,citrus,cream   \n",
       "\n",
       "                                            wine_name  \\\n",
       "0                                           Sauternes   \n",
       "1                         P2 Plénitude Brut Champagne   \n",
       "2   Le Mesnil Blanc de Blancs (Cuvée S) Brut Champ...   \n",
       "3                                             Vintage   \n",
       "4                Sir Winston Churchill Brut Champagne   \n",
       "5        R.D Extra Brut Champagne (Récemment Dégorgé)   \n",
       "6                                        Grande Cuvée   \n",
       "7                  Cristal Brut Champagne (Millésimé)   \n",
       "8                                      Brut Champagne   \n",
       "9                               Blanc des Millénaires   \n",
       "10                                                 MV   \n",
       "11                      La Grande Dame Brut Champagne   \n",
       "12                     La Grande Année Brut Champagne   \n",
       "13         Dom Ruinart Blanc de Blancs Brut Champagne   \n",
       "14             Cuvée des Enchanteleurs Brut Champagne   \n",
       "15                Comtes de Champagne Blanc de Blancs   \n",
       "16                        Belle Epoque Brut Champagne   \n",
       "17                                Trebbiano d'Abruzzo   \n",
       "18               Sauternes (Premier Grand Cru Classé)   \n",
       "\n",
       "                                         vintage_name  ratings_average  \\\n",
       "0                      Château d'Yquem Sauternes 1962              4.7   \n",
       "1       Dom Pérignon P2 Plénitude Brut Champagne 2003              4.7   \n",
       "2   Salon Le Mesnil Blanc de Blancs (Cuvée S) Brut...              4.7   \n",
       "3                                   Krug Vintage 1996              4.6   \n",
       "4   Pol Roger Sir Winston Churchill Brut Champagne...              4.6   \n",
       "5   Bollinger R.D Extra Brut Champagne (Récemment ...              4.6   \n",
       "6                                   Krug Grande Cuvée              4.6   \n",
       "7   Louis Roederer Cristal Brut Champagne (Millési...              4.6   \n",
       "8                    Dom Pérignon Brut Champagne 2000              4.6   \n",
       "9        Charles Heidsieck Blanc des Millénaires 2007              4.6   \n",
       "10                               Henri Giraud MV 2016              4.5   \n",
       "11  Veuve Clicquot La Grande Dame Brut Champagne 2008              4.5   \n",
       "12      Bollinger La Grande Année Brut Champagne 2012              4.5   \n",
       "13  Ruinart Dom Ruinart Blanc de Blancs Brut Champ...              4.5   \n",
       "14  Henriot Cuvée des Enchanteleurs Brut Champagne...              4.5   \n",
       "15  Taittinger Comtes de Champagne Blanc de Blancs...              4.5   \n",
       "16     Perrier-Jouët Belle Epoque Brut Champagne 2013              4.5   \n",
       "17                 Valentini Trebbiano d'Abruzzo 2009              4.4   \n",
       "18  Château Rieussec Sauternes (Premier Grand Cru ...              4.4   \n",
       "\n",
       "    user_count  \n",
       "0           13  \n",
       "1          161  \n",
       "2          240  \n",
       "3          356  \n",
       "4          282  \n",
       "5          163  \n",
       "6          713  \n",
       "7          464  \n",
       "8         2165  \n",
       "9          160  \n",
       "10          10  \n",
       "11         244  \n",
       "12         525  \n",
       "13         226  \n",
       "14          31  \n",
       "15         587  \n",
       "16         224  \n",
       "17          21  \n",
       "18          10  "
      ]
     },
     "execution_count": 89,
     "metadata": {},
     "output_type": "execute_result"
    }
   ],
   "source": [
    "query_five_tastes = \"\"\"SELECT GROUP_CONCAT (DISTINCT(keywords.name)) AS tastes, wines.name AS wine_name, vintages.name AS vintage_name, wines.ratings_average, keywords_wine.count AS user_count FROM keywords_wine\n",
    "JOIN vintages ON wines.id = vintages.wine_id\n",
    "JOIN keywords ON keywords_wine.keyword_id = keywords.id\n",
    "JOIN wines ON keywords_wine.wine_id = wines.id\n",
    "WHERE keywords.name IN (\"coffee\", \"toast\", \"green apple\", \"cream\", \"citrus\") AND\n",
    "user_count >= 10\n",
    "GROUP BY wines.name\n",
    "HAVING COUNT(DISTINCT keywords.name) = 5\n",
    "ORDER BY wines.ratings_average DESC ;\n",
    "\"\"\"\n",
    "\n",
    "five_tastes_df = pd.read_sql_query(query_five_tastes, conn)\n",
    "\n",
    "five_tastes_df"
   ]
  },
  {
   "cell_type": "code",
   "execution_count": 19,
   "metadata": {},
   "outputs": [
    {
     "data": {
      "text/html": [
       "<div>\n",
       "<style scoped>\n",
       "    .dataframe tbody tr th:only-of-type {\n",
       "        vertical-align: middle;\n",
       "    }\n",
       "\n",
       "    .dataframe tbody tr th {\n",
       "        vertical-align: top;\n",
       "    }\n",
       "\n",
       "    .dataframe thead th {\n",
       "        text-align: right;\n",
       "    }\n",
       "</style>\n",
       "<table border=\"1\" class=\"dataframe\">\n",
       "  <thead>\n",
       "    <tr style=\"text-align: right;\">\n",
       "      <th></th>\n",
       "      <th>taste_subtype</th>\n",
       "      <th>wine_name</th>\n",
       "      <th>ratings_average</th>\n",
       "      <th>user_structure_count</th>\n",
       "    </tr>\n",
       "  </thead>\n",
       "  <tbody>\n",
       "    <tr>\n",
       "      <th>0</th>\n",
       "      <td>citrus</td>\n",
       "      <td>Vintage</td>\n",
       "      <td>4.6</td>\n",
       "      <td>2167</td>\n",
       "    </tr>\n",
       "    <tr>\n",
       "      <th>1</th>\n",
       "      <td>coffee</td>\n",
       "      <td>Vintage</td>\n",
       "      <td>4.6</td>\n",
       "      <td>2167</td>\n",
       "    </tr>\n",
       "    <tr>\n",
       "      <th>2</th>\n",
       "      <td>coffee</td>\n",
       "      <td>Vintage</td>\n",
       "      <td>4.6</td>\n",
       "      <td>2167</td>\n",
       "    </tr>\n",
       "    <tr>\n",
       "      <th>3</th>\n",
       "      <td>cream</td>\n",
       "      <td>Vintage</td>\n",
       "      <td>4.6</td>\n",
       "      <td>2167</td>\n",
       "    </tr>\n",
       "    <tr>\n",
       "      <th>4</th>\n",
       "      <td>green apple</td>\n",
       "      <td>Vintage</td>\n",
       "      <td>4.6</td>\n",
       "      <td>2167</td>\n",
       "    </tr>\n",
       "    <tr>\n",
       "      <th>5</th>\n",
       "      <td>toast</td>\n",
       "      <td>Vintage</td>\n",
       "      <td>4.6</td>\n",
       "      <td>2167</td>\n",
       "    </tr>\n",
       "    <tr>\n",
       "      <th>6</th>\n",
       "      <td>toast</td>\n",
       "      <td>Vintage</td>\n",
       "      <td>4.6</td>\n",
       "      <td>2167</td>\n",
       "    </tr>\n",
       "  </tbody>\n",
       "</table>\n",
       "</div>"
      ],
      "text/plain": [
       "  taste_subtype wine_name  ratings_average  user_structure_count\n",
       "0        citrus   Vintage              4.6                  2167\n",
       "1        coffee   Vintage              4.6                  2167\n",
       "2        coffee   Vintage              4.6                  2167\n",
       "3         cream   Vintage              4.6                  2167\n",
       "4   green apple   Vintage              4.6                  2167\n",
       "5         toast   Vintage              4.6                  2167\n",
       "6         toast   Vintage              4.6                  2167"
      ]
     },
     "execution_count": 19,
     "metadata": {},
     "output_type": "execute_result"
    }
   ],
   "source": [
    "query_check_tastes = \"\"\"SELECT keywords.name AS taste_subtype, wines.name AS wine_name, ratings_average, user_structure_count FROM keywords_wine\n",
    "JOIN keywords ON keywords_wine.keyword_id = keywords.id\n",
    "JOIN wines ON keywords_wine.wine_id = wines.id\n",
    "WHERE keywords.name IN (\"coffee\", \"toast\", \"green apple\", \"cream\", \"citrus\") \n",
    "AND wine_name = \"Vintage\"\n",
    "ORDER BY wine_name \n",
    "\"\"\"\n",
    "\n",
    "check_df = pd.read_sql_query(query_check_tastes, conn)\n",
    "\n",
    "check_df"
   ]
  },
  {
   "cell_type": "markdown",
   "metadata": {},
   "source": [
    "TOP 3 MOST COMMON GRAPES - top 5 best wines"
   ]
  },
  {
   "cell_type": "code",
   "execution_count": 20,
   "metadata": {},
   "outputs": [
    {
     "data": {
      "text/html": [
       "<div>\n",
       "<style scoped>\n",
       "    .dataframe tbody tr th:only-of-type {\n",
       "        vertical-align: middle;\n",
       "    }\n",
       "\n",
       "    .dataframe tbody tr th {\n",
       "        vertical-align: top;\n",
       "    }\n",
       "\n",
       "    .dataframe thead th {\n",
       "        text-align: right;\n",
       "    }\n",
       "</style>\n",
       "<table border=\"1\" class=\"dataframe\">\n",
       "  <thead>\n",
       "    <tr style=\"text-align: right;\">\n",
       "      <th></th>\n",
       "      <th>name_of_grape</th>\n",
       "      <th>wines_count</th>\n",
       "    </tr>\n",
       "  </thead>\n",
       "  <tbody>\n",
       "    <tr>\n",
       "      <th>0</th>\n",
       "      <td>Cabernet Sauvignon</td>\n",
       "      <td>801751</td>\n",
       "    </tr>\n",
       "    <tr>\n",
       "      <th>1</th>\n",
       "      <td>Chardonnay</td>\n",
       "      <td>604208</td>\n",
       "    </tr>\n",
       "    <tr>\n",
       "      <th>2</th>\n",
       "      <td>Pinot Noir</td>\n",
       "      <td>572334</td>\n",
       "    </tr>\n",
       "  </tbody>\n",
       "</table>\n",
       "</div>"
      ],
      "text/plain": [
       "        name_of_grape  wines_count\n",
       "0  Cabernet Sauvignon       801751\n",
       "1          Chardonnay       604208\n",
       "2          Pinot Noir       572334"
      ]
     },
     "execution_count": 20,
     "metadata": {},
     "output_type": "execute_result"
    }
   ],
   "source": [
    "query_common_grapes = \"\"\"SELECT DISTINCT grapes.name AS name_of_grape, wines_count FROM grapes\n",
    "JOIN most_used_grapes_per_country ON most_used_grapes_per_country.grape_id = grapes.id\n",
    "--JOIN countries ON most_used_grapes_per_country.country_code = countries.code\n",
    "ORDER BY wines_count DESC\n",
    "LIMIT 3\n",
    "--GROUP BY country_code\n",
    "--JOIN most_used_grapes_per_country ON \n",
    "\"\"\"\n",
    "\n",
    "common_grapes_df = pd.read_sql_query(query_common_grapes, conn)\n",
    "common_grapes_df"
   ]
  },
  {
   "cell_type": "code",
   "execution_count": 93,
   "metadata": {},
   "outputs": [
    {
     "data": {
      "text/html": [
       "<div>\n",
       "<style scoped>\n",
       "    .dataframe tbody tr th:only-of-type {\n",
       "        vertical-align: middle;\n",
       "    }\n",
       "\n",
       "    .dataframe tbody tr th {\n",
       "        vertical-align: top;\n",
       "    }\n",
       "\n",
       "    .dataframe thead th {\n",
       "        text-align: right;\n",
       "    }\n",
       "</style>\n",
       "<table border=\"1\" class=\"dataframe\">\n",
       "  <thead>\n",
       "    <tr style=\"text-align: right;\">\n",
       "      <th></th>\n",
       "      <th>wine_name</th>\n",
       "      <th>ratings_average</th>\n",
       "      <th>vintage_name</th>\n",
       "      <th>url</th>\n",
       "    </tr>\n",
       "  </thead>\n",
       "  <tbody>\n",
       "    <tr>\n",
       "      <th>0</th>\n",
       "      <td>Cabernet Sauvignon</td>\n",
       "      <td>4.8</td>\n",
       "      <td>Scarecrow Cabernet Sauvignon 2015</td>\n",
       "      <td>https://www.seulementproduitsitaliens.be/spec_...</td>\n",
       "    </tr>\n",
       "    <tr>\n",
       "      <th>1</th>\n",
       "      <td>Special Selection Cabernet Sauvignon</td>\n",
       "      <td>4.7</td>\n",
       "      <td>Caymus Special Selection Cabernet Sauvignon 1997</td>\n",
       "      <td>https://www.seulementproduitsitaliens.be/spec_...</td>\n",
       "    </tr>\n",
       "    <tr>\n",
       "      <th>2</th>\n",
       "      <td>Special Selection Cabernet Sauvignon</td>\n",
       "      <td>4.7</td>\n",
       "      <td>Caymus Special Selection Cabernet Sauvignon 2017</td>\n",
       "      <td>https://www.seulementproduitsitaliens.be/spec_...</td>\n",
       "    </tr>\n",
       "    <tr>\n",
       "      <th>3</th>\n",
       "      <td>Beckstoffer To Kalon Vineyard Cabernet Sauvignon</td>\n",
       "      <td>4.6</td>\n",
       "      <td>Paul Hobbs Beckstoffer To Kalon Vineyard Caber...</td>\n",
       "      <td>https://joyvino.be/products/paul-hobbs-becksto...</td>\n",
       "    </tr>\n",
       "    <tr>\n",
       "      <th>4</th>\n",
       "      <td>Cabernet Sauvignon (Signature)</td>\n",
       "      <td>4.6</td>\n",
       "      <td>Darioush Cabernet Sauvignon (Signature) 2018</td>\n",
       "      <td>https://artevino.be/product/darioush-signature...</td>\n",
       "    </tr>\n",
       "  </tbody>\n",
       "</table>\n",
       "</div>"
      ],
      "text/plain": [
       "                                          wine_name  ratings_average  \\\n",
       "0                                Cabernet Sauvignon              4.8   \n",
       "1              Special Selection Cabernet Sauvignon              4.7   \n",
       "2              Special Selection Cabernet Sauvignon              4.7   \n",
       "3  Beckstoffer To Kalon Vineyard Cabernet Sauvignon              4.6   \n",
       "4                    Cabernet Sauvignon (Signature)              4.6   \n",
       "\n",
       "                                        vintage_name  \\\n",
       "0                  Scarecrow Cabernet Sauvignon 2015   \n",
       "1   Caymus Special Selection Cabernet Sauvignon 1997   \n",
       "2   Caymus Special Selection Cabernet Sauvignon 2017   \n",
       "3  Paul Hobbs Beckstoffer To Kalon Vineyard Caber...   \n",
       "4       Darioush Cabernet Sauvignon (Signature) 2018   \n",
       "\n",
       "                                                 url  \n",
       "0  https://www.seulementproduitsitaliens.be/spec_...  \n",
       "1  https://www.seulementproduitsitaliens.be/spec_...  \n",
       "2  https://www.seulementproduitsitaliens.be/spec_...  \n",
       "3  https://joyvino.be/products/paul-hobbs-becksto...  \n",
       "4  https://artevino.be/product/darioush-signature...  "
      ]
     },
     "execution_count": 93,
     "metadata": {},
     "output_type": "execute_result"
    }
   ],
   "source": [
    "top_five_cabernet = \"\"\"SELECT wines.name AS wine_name, wines.ratings_average, vintages.name AS vintage_name, url from wines\n",
    "JOIN vintages on wines.id = vintages.wine_id\n",
    "WHERE wines.name LIKE '%Cabernet Sauvignon%'\n",
    "ORDER BY wines.ratings_average DESC\n",
    "LIMIT 5\"\"\"\n",
    "\n",
    "top_five_cab_df = pd.read_sql_query(top_five_cabernet, conn)\n",
    "top_five_cab_df"
   ]
  },
  {
   "cell_type": "code",
   "execution_count": 95,
   "metadata": {},
   "outputs": [
    {
     "data": {
      "text/html": [
       "<div>\n",
       "<style scoped>\n",
       "    .dataframe tbody tr th:only-of-type {\n",
       "        vertical-align: middle;\n",
       "    }\n",
       "\n",
       "    .dataframe tbody tr th {\n",
       "        vertical-align: top;\n",
       "    }\n",
       "\n",
       "    .dataframe thead th {\n",
       "        text-align: right;\n",
       "    }\n",
       "</style>\n",
       "<table border=\"1\" class=\"dataframe\">\n",
       "  <thead>\n",
       "    <tr style=\"text-align: right;\">\n",
       "      <th></th>\n",
       "      <th>wine_name</th>\n",
       "      <th>ratings_average</th>\n",
       "      <th>vintage_name</th>\n",
       "      <th>url</th>\n",
       "    </tr>\n",
       "  </thead>\n",
       "  <tbody>\n",
       "    <tr>\n",
       "      <th>0</th>\n",
       "      <td>Grace Vineyard Pinot Noir</td>\n",
       "      <td>4.5</td>\n",
       "      <td>Domaine Serene Grace Vineyard Pinot Noir 2018</td>\n",
       "      <td>https://www.grandcruwijnen.nl/2018-domaine-ser...</td>\n",
       "    </tr>\n",
       "    <tr>\n",
       "      <th>1</th>\n",
       "      <td>Mark Bradford Vineyard Pinot Noir</td>\n",
       "      <td>4.5</td>\n",
       "      <td>Domaine Serene Mark Bradford Vineyard Pinot No...</td>\n",
       "      <td>https://www.grandcruwijnen.nl/2018-domaine-ser...</td>\n",
       "    </tr>\n",
       "    <tr>\n",
       "      <th>2</th>\n",
       "      <td>Finn Pinot Noir</td>\n",
       "      <td>4.5</td>\n",
       "      <td>DuMOL Finn Pinot Noir 2019</td>\n",
       "      <td>https://www.grandcruwijnen.nl/2019-dumol-pinot...</td>\n",
       "    </tr>\n",
       "    <tr>\n",
       "      <th>3</th>\n",
       "      <td>Alpine Hillside Pinot Noir</td>\n",
       "      <td>4.5</td>\n",
       "      <td>Rhys Vineyards Alpine Hillside Pinot Noir 2019</td>\n",
       "      <td>https://hermanwines.com/products/alpine-vineya...</td>\n",
       "    </tr>\n",
       "    <tr>\n",
       "      <th>4</th>\n",
       "      <td>Finn Pinot Noir</td>\n",
       "      <td>4.5</td>\n",
       "      <td>DuMOL Finn Pinot Noir 2020</td>\n",
       "      <td>https://www.grandcruwijnen.nl/2019-dumol-pinot...</td>\n",
       "    </tr>\n",
       "  </tbody>\n",
       "</table>\n",
       "</div>"
      ],
      "text/plain": [
       "                           wine_name  ratings_average  \\\n",
       "0          Grace Vineyard Pinot Noir              4.5   \n",
       "1  Mark Bradford Vineyard Pinot Noir              4.5   \n",
       "2                    Finn Pinot Noir              4.5   \n",
       "3         Alpine Hillside Pinot Noir              4.5   \n",
       "4                    Finn Pinot Noir              4.5   \n",
       "\n",
       "                                        vintage_name  \\\n",
       "0      Domaine Serene Grace Vineyard Pinot Noir 2018   \n",
       "1  Domaine Serene Mark Bradford Vineyard Pinot No...   \n",
       "2                         DuMOL Finn Pinot Noir 2019   \n",
       "3     Rhys Vineyards Alpine Hillside Pinot Noir 2019   \n",
       "4                         DuMOL Finn Pinot Noir 2020   \n",
       "\n",
       "                                                 url  \n",
       "0  https://www.grandcruwijnen.nl/2018-domaine-ser...  \n",
       "1  https://www.grandcruwijnen.nl/2018-domaine-ser...  \n",
       "2  https://www.grandcruwijnen.nl/2019-dumol-pinot...  \n",
       "3  https://hermanwines.com/products/alpine-vineya...  \n",
       "4  https://www.grandcruwijnen.nl/2019-dumol-pinot...  "
      ]
     },
     "execution_count": 95,
     "metadata": {},
     "output_type": "execute_result"
    }
   ],
   "source": [
    "top_five_pinot = \"\"\"SELECT wines.name AS wine_name, wines.ratings_average, vintages.name AS vintage_name, url from wines\n",
    "JOIN vintages on wines.id = vintages.wine_id\n",
    "WHERE wines.name LIKE '%Pinot Noir%'\n",
    "ORDER BY wines.ratings_average DESC\n",
    "LIMIT 5\"\"\"\n",
    "\n",
    "top_five_pinot_df = pd.read_sql_query(top_five_pinot, conn)\n",
    "top_five_pinot_df"
   ]
  },
  {
   "cell_type": "code",
   "execution_count": 94,
   "metadata": {},
   "outputs": [
    {
     "data": {
      "text/html": [
       "<div>\n",
       "<style scoped>\n",
       "    .dataframe tbody tr th:only-of-type {\n",
       "        vertical-align: middle;\n",
       "    }\n",
       "\n",
       "    .dataframe tbody tr th {\n",
       "        vertical-align: top;\n",
       "    }\n",
       "\n",
       "    .dataframe thead th {\n",
       "        text-align: right;\n",
       "    }\n",
       "</style>\n",
       "<table border=\"1\" class=\"dataframe\">\n",
       "  <thead>\n",
       "    <tr style=\"text-align: right;\">\n",
       "      <th></th>\n",
       "      <th>wine_name</th>\n",
       "      <th>ratings_average</th>\n",
       "      <th>vintage_name</th>\n",
       "      <th>url</th>\n",
       "    </tr>\n",
       "  </thead>\n",
       "  <tbody>\n",
       "    <tr>\n",
       "      <th>0</th>\n",
       "      <td>Bentrock Vineyard Chardonnay</td>\n",
       "      <td>4.5</td>\n",
       "      <td>Racines Bentrock Vineyard Chardonnay 2019</td>\n",
       "      <td>https://hermanwines.com/products/bentrock-char...</td>\n",
       "    </tr>\n",
       "    <tr>\n",
       "      <th>1</th>\n",
       "      <td>Reserve Chardonnay</td>\n",
       "      <td>4.5</td>\n",
       "      <td>Lismore Reserve Chardonnay 2021</td>\n",
       "      <td>https://www.wijnkooperijdelange.nl/Lismore-Est...</td>\n",
       "    </tr>\n",
       "    <tr>\n",
       "      <th>2</th>\n",
       "      <td>Chloe Chardonnay</td>\n",
       "      <td>4.5</td>\n",
       "      <td>DuMOL Chloe Chardonnay 2020</td>\n",
       "      <td>https://www.grandcruwijnen.nl/2020-dumol-chloe...</td>\n",
       "    </tr>\n",
       "    <tr>\n",
       "      <th>3</th>\n",
       "      <td>Chardonnay</td>\n",
       "      <td>4.4</td>\n",
       "      <td>Capensis Chardonnay 2015</td>\n",
       "      <td>https://joyvino.be/products/capensis-chardonna...</td>\n",
       "    </tr>\n",
       "    <tr>\n",
       "      <th>4</th>\n",
       "      <td>Chardonnay</td>\n",
       "      <td>4.4</td>\n",
       "      <td>Capensis Chardonnay 2016</td>\n",
       "      <td>https://joyvino.be/products/capensis-chardonna...</td>\n",
       "    </tr>\n",
       "  </tbody>\n",
       "</table>\n",
       "</div>"
      ],
      "text/plain": [
       "                      wine_name  ratings_average  \\\n",
       "0  Bentrock Vineyard Chardonnay              4.5   \n",
       "1            Reserve Chardonnay              4.5   \n",
       "2              Chloe Chardonnay              4.5   \n",
       "3                    Chardonnay              4.4   \n",
       "4                    Chardonnay              4.4   \n",
       "\n",
       "                                vintage_name  \\\n",
       "0  Racines Bentrock Vineyard Chardonnay 2019   \n",
       "1            Lismore Reserve Chardonnay 2021   \n",
       "2                DuMOL Chloe Chardonnay 2020   \n",
       "3                   Capensis Chardonnay 2015   \n",
       "4                   Capensis Chardonnay 2016   \n",
       "\n",
       "                                                 url  \n",
       "0  https://hermanwines.com/products/bentrock-char...  \n",
       "1  https://www.wijnkooperijdelange.nl/Lismore-Est...  \n",
       "2  https://www.grandcruwijnen.nl/2020-dumol-chloe...  \n",
       "3  https://joyvino.be/products/capensis-chardonna...  \n",
       "4  https://joyvino.be/products/capensis-chardonna...  "
      ]
     },
     "execution_count": 94,
     "metadata": {},
     "output_type": "execute_result"
    }
   ],
   "source": [
    "top_five_chardonnay = \"\"\"SELECT wines.name AS wine_name, wines.ratings_average, vintages.name AS vintage_name, url from wines\n",
    "JOIN vintages on wines.id = vintages.wine_id\n",
    "WHERE wines.name LIKE '%Chardonnay%'\n",
    "ORDER BY wines.ratings_average DESC\n",
    "LIMIT 5\"\"\"\n",
    "\n",
    "top_five_chardonnay_df = pd.read_sql_query(top_five_chardonnay, conn)\n",
    "top_five_chardonnay_df"
   ]
  },
  {
   "cell_type": "markdown",
   "metadata": {},
   "source": [
    "COUNTRY leaderboard"
   ]
  },
  {
   "cell_type": "code",
   "execution_count": 96,
   "metadata": {},
   "outputs": [
    {
     "data": {
      "text/html": [
       "<div>\n",
       "<style scoped>\n",
       "    .dataframe tbody tr th:only-of-type {\n",
       "        vertical-align: middle;\n",
       "    }\n",
       "\n",
       "    .dataframe tbody tr th {\n",
       "        vertical-align: top;\n",
       "    }\n",
       "\n",
       "    .dataframe thead th {\n",
       "        text-align: right;\n",
       "    }\n",
       "</style>\n",
       "<table border=\"1\" class=\"dataframe\">\n",
       "  <thead>\n",
       "    <tr style=\"text-align: right;\">\n",
       "      <th></th>\n",
       "      <th>country_code</th>\n",
       "      <th>country</th>\n",
       "      <th>average_rating</th>\n",
       "      <th>ratings_count</th>\n",
       "    </tr>\n",
       "  </thead>\n",
       "  <tbody>\n",
       "    <tr>\n",
       "      <th>0</th>\n",
       "      <td>us</td>\n",
       "      <td>États-Unis</td>\n",
       "      <td>4.553623</td>\n",
       "      <td>299</td>\n",
       "    </tr>\n",
       "    <tr>\n",
       "      <th>1</th>\n",
       "      <td>fr</td>\n",
       "      <td>France</td>\n",
       "      <td>4.546439</td>\n",
       "      <td>876</td>\n",
       "    </tr>\n",
       "    <tr>\n",
       "      <th>2</th>\n",
       "      <td>au</td>\n",
       "      <td>Australie</td>\n",
       "      <td>4.533333</td>\n",
       "      <td>509</td>\n",
       "    </tr>\n",
       "    <tr>\n",
       "      <th>3</th>\n",
       "      <td>it</td>\n",
       "      <td>Italie</td>\n",
       "      <td>4.508587</td>\n",
       "      <td>580</td>\n",
       "    </tr>\n",
       "    <tr>\n",
       "      <th>4</th>\n",
       "      <td>md</td>\n",
       "      <td>Moldavie</td>\n",
       "      <td>4.500000</td>\n",
       "      <td>2031</td>\n",
       "    </tr>\n",
       "    <tr>\n",
       "      <th>5</th>\n",
       "      <td>pt</td>\n",
       "      <td>Portugal</td>\n",
       "      <td>4.494118</td>\n",
       "      <td>302</td>\n",
       "    </tr>\n",
       "    <tr>\n",
       "      <th>6</th>\n",
       "      <td>es</td>\n",
       "      <td>Espagne</td>\n",
       "      <td>4.489063</td>\n",
       "      <td>212</td>\n",
       "    </tr>\n",
       "    <tr>\n",
       "      <th>7</th>\n",
       "      <td>za</td>\n",
       "      <td>Afrique du Sud</td>\n",
       "      <td>4.478947</td>\n",
       "      <td>246</td>\n",
       "    </tr>\n",
       "    <tr>\n",
       "      <th>8</th>\n",
       "      <td>cl</td>\n",
       "      <td>Chili</td>\n",
       "      <td>4.477273</td>\n",
       "      <td>1037</td>\n",
       "    </tr>\n",
       "    <tr>\n",
       "      <th>9</th>\n",
       "      <td>ar</td>\n",
       "      <td>Argentine</td>\n",
       "      <td>4.476000</td>\n",
       "      <td>872</td>\n",
       "    </tr>\n",
       "    <tr>\n",
       "      <th>10</th>\n",
       "      <td>de</td>\n",
       "      <td>Allemagne</td>\n",
       "      <td>4.450000</td>\n",
       "      <td>164</td>\n",
       "    </tr>\n",
       "    <tr>\n",
       "      <th>11</th>\n",
       "      <td>hu</td>\n",
       "      <td>Hongrie</td>\n",
       "      <td>4.440000</td>\n",
       "      <td>154</td>\n",
       "    </tr>\n",
       "    <tr>\n",
       "      <th>12</th>\n",
       "      <td>ch</td>\n",
       "      <td>Suisse</td>\n",
       "      <td>4.400000</td>\n",
       "      <td>162</td>\n",
       "    </tr>\n",
       "    <tr>\n",
       "      <th>13</th>\n",
       "      <td>hr</td>\n",
       "      <td>Croatie</td>\n",
       "      <td>4.400000</td>\n",
       "      <td>234</td>\n",
       "    </tr>\n",
       "  </tbody>\n",
       "</table>\n",
       "</div>"
      ],
      "text/plain": [
       "   country_code         country  average_rating  ratings_count\n",
       "0            us      États-Unis        4.553623            299\n",
       "1            fr          France        4.546439            876\n",
       "2            au       Australie        4.533333            509\n",
       "3            it          Italie        4.508587            580\n",
       "4            md        Moldavie        4.500000           2031\n",
       "5            pt        Portugal        4.494118            302\n",
       "6            es         Espagne        4.489063            212\n",
       "7            za  Afrique du Sud        4.478947            246\n",
       "8            cl           Chili        4.477273           1037\n",
       "9            ar       Argentine        4.476000            872\n",
       "10           de       Allemagne        4.450000            164\n",
       "11           hu         Hongrie        4.440000            154\n",
       "12           ch          Suisse        4.400000            162\n",
       "13           hr         Croatie        4.400000            234"
      ]
     },
     "execution_count": 96,
     "metadata": {},
     "output_type": "execute_result"
    }
   ],
   "source": [
    "top_vint_countries = \"\"\"SELECT country_code, countries.name AS country, AVG(vintages.ratings_average) as average_rating, vintages.ratings_count FROM vintages\n",
    "JOIN wines on wines.id = vintages.wine_id\n",
    "JOIN regions on regions.id = wines.region_id\n",
    "JOIN countries ON regions.country_code = countries.code\n",
    "WHERE vintages.ratings_count > 100\n",
    "GROUP BY country\n",
    "ORDER BY average_rating DESC\"\"\"\n",
    "\n",
    "top_vint_countries_df = pd.read_sql_query(top_vint_countries,conn)\n",
    "top_vint_countries_df"
   ]
  },
  {
   "cell_type": "markdown",
   "metadata": {},
   "source": [
    "Visualize the countries and their average score"
   ]
  },
  {
   "cell_type": "code",
   "execution_count": 97,
   "metadata": {},
   "outputs": [
    {
     "data": {
      "application/vnd.plotly.v1+json": {
       "config": {
        "plotlyServerURL": "https://plot.ly"
       },
       "data": [
        {
         "alignmentgroup": "True",
         "hovertemplate": "country=%{x}<br>average_rating=%{marker.color}<extra></extra>",
         "legendgroup": "",
         "marker": {
          "color": [
           4.553623188405797,
           4.546438746438747,
           4.533333333333334,
           4.508586762075135,
           4.5,
           4.4941176470588236,
           4.4890625,
           4.478947368421053,
           4.4772727272727275,
           4.476,
           4.45,
           4.44,
           4.4,
           4.4
          ],
          "coloraxis": "coloraxis",
          "pattern": {
           "shape": ""
          }
         },
         "name": "",
         "offsetgroup": "",
         "orientation": "v",
         "showlegend": false,
         "text": [
          4.553623188405797,
          4.546438746438747,
          4.533333333333334,
          4.508586762075135,
          4.5,
          4.4941176470588236,
          4.4890625,
          4.478947368421053,
          4.4772727272727275,
          4.476,
          4.45,
          4.44,
          4.4,
          4.4
         ],
         "textposition": "auto",
         "texttemplate": "%{text:.2f}",
         "type": "bar",
         "x": [
          "États-Unis",
          "France",
          "Australie",
          "Italie",
          "Moldavie",
          "Portugal",
          "Espagne",
          "Afrique du Sud",
          "Chili",
          "Argentine",
          "Allemagne",
          "Hongrie",
          "Suisse",
          "Croatie"
         ],
         "xaxis": "x",
         "y": [
          4.553623188405797,
          4.546438746438747,
          4.533333333333334,
          4.508586762075135,
          4.5,
          4.4941176470588236,
          4.4890625,
          4.478947368421053,
          4.4772727272727275,
          4.476,
          4.45,
          4.44,
          4.4,
          4.4
         ],
         "yaxis": "y"
        }
       ],
       "layout": {
        "barmode": "relative",
        "coloraxis": {
         "colorbar": {
          "title": {
           "text": "average_rating"
          }
         },
         "colorscale": [
          [
           0,
           "#440154"
          ],
          [
           0.1111111111111111,
           "#482878"
          ],
          [
           0.2222222222222222,
           "#3e4989"
          ],
          [
           0.3333333333333333,
           "#31688e"
          ],
          [
           0.4444444444444444,
           "#26828e"
          ],
          [
           0.5555555555555556,
           "#1f9e89"
          ],
          [
           0.6666666666666666,
           "#35b779"
          ],
          [
           0.7777777777777778,
           "#6ece58"
          ],
          [
           0.8888888888888888,
           "#b5de2b"
          ],
          [
           1,
           "#fde725"
          ]
         ]
        },
        "legend": {
         "tracegroupgap": 0
        },
        "template": {
         "data": {
          "bar": [
           {
            "error_x": {
             "color": "#2a3f5f"
            },
            "error_y": {
             "color": "#2a3f5f"
            },
            "marker": {
             "line": {
              "color": "#E5ECF6",
              "width": 0.5
             },
             "pattern": {
              "fillmode": "overlay",
              "size": 10,
              "solidity": 0.2
             }
            },
            "type": "bar"
           }
          ],
          "barpolar": [
           {
            "marker": {
             "line": {
              "color": "#E5ECF6",
              "width": 0.5
             },
             "pattern": {
              "fillmode": "overlay",
              "size": 10,
              "solidity": 0.2
             }
            },
            "type": "barpolar"
           }
          ],
          "carpet": [
           {
            "aaxis": {
             "endlinecolor": "#2a3f5f",
             "gridcolor": "white",
             "linecolor": "white",
             "minorgridcolor": "white",
             "startlinecolor": "#2a3f5f"
            },
            "baxis": {
             "endlinecolor": "#2a3f5f",
             "gridcolor": "white",
             "linecolor": "white",
             "minorgridcolor": "white",
             "startlinecolor": "#2a3f5f"
            },
            "type": "carpet"
           }
          ],
          "choropleth": [
           {
            "colorbar": {
             "outlinewidth": 0,
             "ticks": ""
            },
            "type": "choropleth"
           }
          ],
          "contour": [
           {
            "colorbar": {
             "outlinewidth": 0,
             "ticks": ""
            },
            "colorscale": [
             [
              0,
              "#0d0887"
             ],
             [
              0.1111111111111111,
              "#46039f"
             ],
             [
              0.2222222222222222,
              "#7201a8"
             ],
             [
              0.3333333333333333,
              "#9c179e"
             ],
             [
              0.4444444444444444,
              "#bd3786"
             ],
             [
              0.5555555555555556,
              "#d8576b"
             ],
             [
              0.6666666666666666,
              "#ed7953"
             ],
             [
              0.7777777777777778,
              "#fb9f3a"
             ],
             [
              0.8888888888888888,
              "#fdca26"
             ],
             [
              1,
              "#f0f921"
             ]
            ],
            "type": "contour"
           }
          ],
          "contourcarpet": [
           {
            "colorbar": {
             "outlinewidth": 0,
             "ticks": ""
            },
            "type": "contourcarpet"
           }
          ],
          "heatmap": [
           {
            "colorbar": {
             "outlinewidth": 0,
             "ticks": ""
            },
            "colorscale": [
             [
              0,
              "#0d0887"
             ],
             [
              0.1111111111111111,
              "#46039f"
             ],
             [
              0.2222222222222222,
              "#7201a8"
             ],
             [
              0.3333333333333333,
              "#9c179e"
             ],
             [
              0.4444444444444444,
              "#bd3786"
             ],
             [
              0.5555555555555556,
              "#d8576b"
             ],
             [
              0.6666666666666666,
              "#ed7953"
             ],
             [
              0.7777777777777778,
              "#fb9f3a"
             ],
             [
              0.8888888888888888,
              "#fdca26"
             ],
             [
              1,
              "#f0f921"
             ]
            ],
            "type": "heatmap"
           }
          ],
          "heatmapgl": [
           {
            "colorbar": {
             "outlinewidth": 0,
             "ticks": ""
            },
            "colorscale": [
             [
              0,
              "#0d0887"
             ],
             [
              0.1111111111111111,
              "#46039f"
             ],
             [
              0.2222222222222222,
              "#7201a8"
             ],
             [
              0.3333333333333333,
              "#9c179e"
             ],
             [
              0.4444444444444444,
              "#bd3786"
             ],
             [
              0.5555555555555556,
              "#d8576b"
             ],
             [
              0.6666666666666666,
              "#ed7953"
             ],
             [
              0.7777777777777778,
              "#fb9f3a"
             ],
             [
              0.8888888888888888,
              "#fdca26"
             ],
             [
              1,
              "#f0f921"
             ]
            ],
            "type": "heatmapgl"
           }
          ],
          "histogram": [
           {
            "marker": {
             "pattern": {
              "fillmode": "overlay",
              "size": 10,
              "solidity": 0.2
             }
            },
            "type": "histogram"
           }
          ],
          "histogram2d": [
           {
            "colorbar": {
             "outlinewidth": 0,
             "ticks": ""
            },
            "colorscale": [
             [
              0,
              "#0d0887"
             ],
             [
              0.1111111111111111,
              "#46039f"
             ],
             [
              0.2222222222222222,
              "#7201a8"
             ],
             [
              0.3333333333333333,
              "#9c179e"
             ],
             [
              0.4444444444444444,
              "#bd3786"
             ],
             [
              0.5555555555555556,
              "#d8576b"
             ],
             [
              0.6666666666666666,
              "#ed7953"
             ],
             [
              0.7777777777777778,
              "#fb9f3a"
             ],
             [
              0.8888888888888888,
              "#fdca26"
             ],
             [
              1,
              "#f0f921"
             ]
            ],
            "type": "histogram2d"
           }
          ],
          "histogram2dcontour": [
           {
            "colorbar": {
             "outlinewidth": 0,
             "ticks": ""
            },
            "colorscale": [
             [
              0,
              "#0d0887"
             ],
             [
              0.1111111111111111,
              "#46039f"
             ],
             [
              0.2222222222222222,
              "#7201a8"
             ],
             [
              0.3333333333333333,
              "#9c179e"
             ],
             [
              0.4444444444444444,
              "#bd3786"
             ],
             [
              0.5555555555555556,
              "#d8576b"
             ],
             [
              0.6666666666666666,
              "#ed7953"
             ],
             [
              0.7777777777777778,
              "#fb9f3a"
             ],
             [
              0.8888888888888888,
              "#fdca26"
             ],
             [
              1,
              "#f0f921"
             ]
            ],
            "type": "histogram2dcontour"
           }
          ],
          "mesh3d": [
           {
            "colorbar": {
             "outlinewidth": 0,
             "ticks": ""
            },
            "type": "mesh3d"
           }
          ],
          "parcoords": [
           {
            "line": {
             "colorbar": {
              "outlinewidth": 0,
              "ticks": ""
             }
            },
            "type": "parcoords"
           }
          ],
          "pie": [
           {
            "automargin": true,
            "type": "pie"
           }
          ],
          "scatter": [
           {
            "fillpattern": {
             "fillmode": "overlay",
             "size": 10,
             "solidity": 0.2
            },
            "type": "scatter"
           }
          ],
          "scatter3d": [
           {
            "line": {
             "colorbar": {
              "outlinewidth": 0,
              "ticks": ""
             }
            },
            "marker": {
             "colorbar": {
              "outlinewidth": 0,
              "ticks": ""
             }
            },
            "type": "scatter3d"
           }
          ],
          "scattercarpet": [
           {
            "marker": {
             "colorbar": {
              "outlinewidth": 0,
              "ticks": ""
             }
            },
            "type": "scattercarpet"
           }
          ],
          "scattergeo": [
           {
            "marker": {
             "colorbar": {
              "outlinewidth": 0,
              "ticks": ""
             }
            },
            "type": "scattergeo"
           }
          ],
          "scattergl": [
           {
            "marker": {
             "colorbar": {
              "outlinewidth": 0,
              "ticks": ""
             }
            },
            "type": "scattergl"
           }
          ],
          "scattermapbox": [
           {
            "marker": {
             "colorbar": {
              "outlinewidth": 0,
              "ticks": ""
             }
            },
            "type": "scattermapbox"
           }
          ],
          "scatterpolar": [
           {
            "marker": {
             "colorbar": {
              "outlinewidth": 0,
              "ticks": ""
             }
            },
            "type": "scatterpolar"
           }
          ],
          "scatterpolargl": [
           {
            "marker": {
             "colorbar": {
              "outlinewidth": 0,
              "ticks": ""
             }
            },
            "type": "scatterpolargl"
           }
          ],
          "scatterternary": [
           {
            "marker": {
             "colorbar": {
              "outlinewidth": 0,
              "ticks": ""
             }
            },
            "type": "scatterternary"
           }
          ],
          "surface": [
           {
            "colorbar": {
             "outlinewidth": 0,
             "ticks": ""
            },
            "colorscale": [
             [
              0,
              "#0d0887"
             ],
             [
              0.1111111111111111,
              "#46039f"
             ],
             [
              0.2222222222222222,
              "#7201a8"
             ],
             [
              0.3333333333333333,
              "#9c179e"
             ],
             [
              0.4444444444444444,
              "#bd3786"
             ],
             [
              0.5555555555555556,
              "#d8576b"
             ],
             [
              0.6666666666666666,
              "#ed7953"
             ],
             [
              0.7777777777777778,
              "#fb9f3a"
             ],
             [
              0.8888888888888888,
              "#fdca26"
             ],
             [
              1,
              "#f0f921"
             ]
            ],
            "type": "surface"
           }
          ],
          "table": [
           {
            "cells": {
             "fill": {
              "color": "#EBF0F8"
             },
             "line": {
              "color": "white"
             }
            },
            "header": {
             "fill": {
              "color": "#C8D4E3"
             },
             "line": {
              "color": "white"
             }
            },
            "type": "table"
           }
          ]
         },
         "layout": {
          "annotationdefaults": {
           "arrowcolor": "#2a3f5f",
           "arrowhead": 0,
           "arrowwidth": 1
          },
          "autotypenumbers": "strict",
          "coloraxis": {
           "colorbar": {
            "outlinewidth": 0,
            "ticks": ""
           }
          },
          "colorscale": {
           "diverging": [
            [
             0,
             "#8e0152"
            ],
            [
             0.1,
             "#c51b7d"
            ],
            [
             0.2,
             "#de77ae"
            ],
            [
             0.3,
             "#f1b6da"
            ],
            [
             0.4,
             "#fde0ef"
            ],
            [
             0.5,
             "#f7f7f7"
            ],
            [
             0.6,
             "#e6f5d0"
            ],
            [
             0.7,
             "#b8e186"
            ],
            [
             0.8,
             "#7fbc41"
            ],
            [
             0.9,
             "#4d9221"
            ],
            [
             1,
             "#276419"
            ]
           ],
           "sequential": [
            [
             0,
             "#0d0887"
            ],
            [
             0.1111111111111111,
             "#46039f"
            ],
            [
             0.2222222222222222,
             "#7201a8"
            ],
            [
             0.3333333333333333,
             "#9c179e"
            ],
            [
             0.4444444444444444,
             "#bd3786"
            ],
            [
             0.5555555555555556,
             "#d8576b"
            ],
            [
             0.6666666666666666,
             "#ed7953"
            ],
            [
             0.7777777777777778,
             "#fb9f3a"
            ],
            [
             0.8888888888888888,
             "#fdca26"
            ],
            [
             1,
             "#f0f921"
            ]
           ],
           "sequentialminus": [
            [
             0,
             "#0d0887"
            ],
            [
             0.1111111111111111,
             "#46039f"
            ],
            [
             0.2222222222222222,
             "#7201a8"
            ],
            [
             0.3333333333333333,
             "#9c179e"
            ],
            [
             0.4444444444444444,
             "#bd3786"
            ],
            [
             0.5555555555555556,
             "#d8576b"
            ],
            [
             0.6666666666666666,
             "#ed7953"
            ],
            [
             0.7777777777777778,
             "#fb9f3a"
            ],
            [
             0.8888888888888888,
             "#fdca26"
            ],
            [
             1,
             "#f0f921"
            ]
           ]
          },
          "colorway": [
           "#636efa",
           "#EF553B",
           "#00cc96",
           "#ab63fa",
           "#FFA15A",
           "#19d3f3",
           "#FF6692",
           "#B6E880",
           "#FF97FF",
           "#FECB52"
          ],
          "font": {
           "color": "#2a3f5f"
          },
          "geo": {
           "bgcolor": "white",
           "lakecolor": "white",
           "landcolor": "#E5ECF6",
           "showlakes": true,
           "showland": true,
           "subunitcolor": "white"
          },
          "hoverlabel": {
           "align": "left"
          },
          "hovermode": "closest",
          "mapbox": {
           "style": "light"
          },
          "paper_bgcolor": "white",
          "plot_bgcolor": "#E5ECF6",
          "polar": {
           "angularaxis": {
            "gridcolor": "white",
            "linecolor": "white",
            "ticks": ""
           },
           "bgcolor": "#E5ECF6",
           "radialaxis": {
            "gridcolor": "white",
            "linecolor": "white",
            "ticks": ""
           }
          },
          "scene": {
           "xaxis": {
            "backgroundcolor": "#E5ECF6",
            "gridcolor": "white",
            "gridwidth": 2,
            "linecolor": "white",
            "showbackground": true,
            "ticks": "",
            "zerolinecolor": "white"
           },
           "yaxis": {
            "backgroundcolor": "#E5ECF6",
            "gridcolor": "white",
            "gridwidth": 2,
            "linecolor": "white",
            "showbackground": true,
            "ticks": "",
            "zerolinecolor": "white"
           },
           "zaxis": {
            "backgroundcolor": "#E5ECF6",
            "gridcolor": "white",
            "gridwidth": 2,
            "linecolor": "white",
            "showbackground": true,
            "ticks": "",
            "zerolinecolor": "white"
           }
          },
          "shapedefaults": {
           "line": {
            "color": "#2a3f5f"
           }
          },
          "ternary": {
           "aaxis": {
            "gridcolor": "white",
            "linecolor": "white",
            "ticks": ""
           },
           "baxis": {
            "gridcolor": "white",
            "linecolor": "white",
            "ticks": ""
           },
           "bgcolor": "#E5ECF6",
           "caxis": {
            "gridcolor": "white",
            "linecolor": "white",
            "ticks": ""
           }
          },
          "title": {
           "x": 0.05
          },
          "xaxis": {
           "automargin": true,
           "gridcolor": "white",
           "linecolor": "white",
           "ticks": "",
           "title": {
            "standoff": 15
           },
           "zerolinecolor": "white",
           "zerolinewidth": 2
          },
          "yaxis": {
           "automargin": true,
           "gridcolor": "white",
           "linecolor": "white",
           "ticks": "",
           "title": {
            "standoff": 15
           },
           "zerolinecolor": "white",
           "zerolinewidth": 2
          }
         }
        },
        "title": {
         "text": "Comparison of Average Vintage Ratings Across Countries"
        },
        "xaxis": {
         "anchor": "y",
         "domain": [
          0,
          1
         ],
         "title": {
          "text": "Country"
         }
        },
        "yaxis": {
         "anchor": "x",
         "domain": [
          0,
          1
         ],
         "range": [
          4.3,
          4.6
         ],
         "title": {
          "text": "Average Rating"
         }
        }
       }
      }
     },
     "metadata": {},
     "output_type": "display_data"
    }
   ],
   "source": [
    "import plotly.express as px\n",
    "\n",
    "fig = px.bar(top_vint_countries_df, x = \"country\", y = \"average_rating\", text=\"average_rating\", title= \"Comparison of Average Vintage Ratings Across Countries\",\n",
    "             color = \"average_rating\", color_continuous_scale=px.colors.sequential.Viridis)\n",
    "fig.update_yaxes(range=[4.3, 4.6])\n",
    "fig.update_traces(texttemplate='%{text:.2f}')\n",
    "fig.update_layout(xaxis_title=\"Country\", yaxis_title=\"Average Rating\")\n",
    "fig.show()"
   ]
  },
  {
   "cell_type": "code",
   "execution_count": 26,
   "metadata": {},
   "outputs": [
    {
     "data": {
      "text/html": [
       "<div>\n",
       "<style scoped>\n",
       "    .dataframe tbody tr th:only-of-type {\n",
       "        vertical-align: middle;\n",
       "    }\n",
       "\n",
       "    .dataframe tbody tr th {\n",
       "        vertical-align: top;\n",
       "    }\n",
       "\n",
       "    .dataframe thead th {\n",
       "        text-align: right;\n",
       "    }\n",
       "</style>\n",
       "<table border=\"1\" class=\"dataframe\">\n",
       "  <thead>\n",
       "    <tr style=\"text-align: right;\">\n",
       "      <th></th>\n",
       "      <th>average_rating</th>\n",
       "      <th>country_code</th>\n",
       "      <th>country</th>\n",
       "      <th>ratings_count</th>\n",
       "    </tr>\n",
       "  </thead>\n",
       "  <tbody>\n",
       "    <tr>\n",
       "      <th>0</th>\n",
       "      <td>4.500000</td>\n",
       "      <td>il</td>\n",
       "      <td>Israël</td>\n",
       "      <td>894</td>\n",
       "    </tr>\n",
       "    <tr>\n",
       "      <th>1</th>\n",
       "      <td>4.490278</td>\n",
       "      <td>us</td>\n",
       "      <td>États-Unis</td>\n",
       "      <td>18694</td>\n",
       "    </tr>\n",
       "    <tr>\n",
       "      <th>2</th>\n",
       "      <td>4.475000</td>\n",
       "      <td>md</td>\n",
       "      <td>Moldavie</td>\n",
       "      <td>7604</td>\n",
       "    </tr>\n",
       "    <tr>\n",
       "      <th>3</th>\n",
       "      <td>4.460000</td>\n",
       "      <td>hu</td>\n",
       "      <td>Hongrie</td>\n",
       "      <td>2366</td>\n",
       "    </tr>\n",
       "    <tr>\n",
       "      <th>4</th>\n",
       "      <td>4.460000</td>\n",
       "      <td>de</td>\n",
       "      <td>Allemagne</td>\n",
       "      <td>3047</td>\n",
       "    </tr>\n",
       "    <tr>\n",
       "      <th>5</th>\n",
       "      <td>4.459091</td>\n",
       "      <td>za</td>\n",
       "      <td>Afrique du Sud</td>\n",
       "      <td>1638</td>\n",
       "    </tr>\n",
       "    <tr>\n",
       "      <th>6</th>\n",
       "      <td>4.454545</td>\n",
       "      <td>au</td>\n",
       "      <td>Australie</td>\n",
       "      <td>17326</td>\n",
       "    </tr>\n",
       "    <tr>\n",
       "      <th>7</th>\n",
       "      <td>4.441935</td>\n",
       "      <td>es</td>\n",
       "      <td>Espagne</td>\n",
       "      <td>4642</td>\n",
       "    </tr>\n",
       "    <tr>\n",
       "      <th>8</th>\n",
       "      <td>4.439228</td>\n",
       "      <td>fr</td>\n",
       "      <td>France</td>\n",
       "      <td>442</td>\n",
       "    </tr>\n",
       "    <tr>\n",
       "      <th>9</th>\n",
       "      <td>4.431250</td>\n",
       "      <td>cl</td>\n",
       "      <td>Chili</td>\n",
       "      <td>48075</td>\n",
       "    </tr>\n",
       "    <tr>\n",
       "      <th>10</th>\n",
       "      <td>4.424451</td>\n",
       "      <td>it</td>\n",
       "      <td>Italie</td>\n",
       "      <td>773</td>\n",
       "    </tr>\n",
       "    <tr>\n",
       "      <th>11</th>\n",
       "      <td>4.417391</td>\n",
       "      <td>ar</td>\n",
       "      <td>Argentine</td>\n",
       "      <td>28227</td>\n",
       "    </tr>\n",
       "    <tr>\n",
       "      <th>12</th>\n",
       "      <td>4.409091</td>\n",
       "      <td>pt</td>\n",
       "      <td>Portugal</td>\n",
       "      <td>14197</td>\n",
       "    </tr>\n",
       "    <tr>\n",
       "      <th>13</th>\n",
       "      <td>4.400000</td>\n",
       "      <td>ro</td>\n",
       "      <td>Roumanie</td>\n",
       "      <td>166</td>\n",
       "    </tr>\n",
       "    <tr>\n",
       "      <th>14</th>\n",
       "      <td>4.400000</td>\n",
       "      <td>gr</td>\n",
       "      <td>Grèce</td>\n",
       "      <td>313</td>\n",
       "    </tr>\n",
       "    <tr>\n",
       "      <th>15</th>\n",
       "      <td>4.350000</td>\n",
       "      <td>ch</td>\n",
       "      <td>Suisse</td>\n",
       "      <td>164</td>\n",
       "    </tr>\n",
       "    <tr>\n",
       "      <th>16</th>\n",
       "      <td>4.300000</td>\n",
       "      <td>hr</td>\n",
       "      <td>Croatie</td>\n",
       "      <td>292</td>\n",
       "    </tr>\n",
       "  </tbody>\n",
       "</table>\n",
       "</div>"
      ],
      "text/plain": [
       "    average_rating country_code         country  ratings_count\n",
       "0         4.500000           il          Israël            894\n",
       "1         4.490278           us      États-Unis          18694\n",
       "2         4.475000           md        Moldavie           7604\n",
       "3         4.460000           hu         Hongrie           2366\n",
       "4         4.460000           de       Allemagne           3047\n",
       "5         4.459091           za  Afrique du Sud           1638\n",
       "6         4.454545           au       Australie          17326\n",
       "7         4.441935           es         Espagne           4642\n",
       "8         4.439228           fr          France            442\n",
       "9         4.431250           cl           Chili          48075\n",
       "10        4.424451           it          Italie            773\n",
       "11        4.417391           ar       Argentine          28227\n",
       "12        4.409091           pt        Portugal          14197\n",
       "13        4.400000           ro        Roumanie            166\n",
       "14        4.400000           gr           Grèce            313\n",
       "15        4.350000           ch          Suisse            164\n",
       "16        4.300000           hr         Croatie            292"
      ]
     },
     "execution_count": 26,
     "metadata": {},
     "output_type": "execute_result"
    }
   ],
   "source": [
    "top_win_countries = \"\"\"SELECT AVG(wines.ratings_average) as average_rating, country_code, countries.name AS country, wines.ratings_count FROM wines\n",
    "JOIN regions on regions.id = wines.region_id\n",
    "JOIN countries ON regions.country_code = countries.code\n",
    "WHERE wines.ratings_count > 100\n",
    "GROUP BY country\n",
    "ORDER BY average_rating DESC\"\"\"\n",
    "\n",
    "top_win_countries_df = pd.read_sql_query(top_win_countries,conn)\n",
    "top_win_countries_df"
   ]
  },
  {
   "cell_type": "code",
   "execution_count": 98,
   "metadata": {},
   "outputs": [
    {
     "data": {
      "application/vnd.plotly.v1+json": {
       "config": {
        "plotlyServerURL": "https://plot.ly"
       },
       "data": [
        {
         "alignmentgroup": "True",
         "hovertemplate": "country=%{x}<br>average_rating=%{marker.color}<extra></extra>",
         "legendgroup": "",
         "marker": {
          "color": [
           4.5,
           4.490277777777778,
           4.475,
           4.46,
           4.46,
           4.45909090909091,
           4.454545454545454,
           4.441935483870968,
           4.4392282958199365,
           4.43125,
           4.424450549450549,
           4.417391304347826,
           4.409090909090909,
           4.4,
           4.4,
           4.35,
           4.3
          ],
          "coloraxis": "coloraxis",
          "pattern": {
           "shape": ""
          }
         },
         "name": "",
         "offsetgroup": "",
         "orientation": "v",
         "showlegend": false,
         "text": [
          4.5,
          4.490277777777778,
          4.475,
          4.46,
          4.46,
          4.45909090909091,
          4.454545454545454,
          4.441935483870968,
          4.4392282958199365,
          4.43125,
          4.424450549450549,
          4.417391304347826,
          4.409090909090909,
          4.4,
          4.4,
          4.35,
          4.3
         ],
         "textposition": "auto",
         "texttemplate": "%{text:.2f}",
         "type": "bar",
         "x": [
          "Israël",
          "États-Unis",
          "Moldavie",
          "Hongrie",
          "Allemagne",
          "Afrique du Sud",
          "Australie",
          "Espagne",
          "France",
          "Chili",
          "Italie",
          "Argentine",
          "Portugal",
          "Roumanie",
          "Grèce",
          "Suisse",
          "Croatie"
         ],
         "xaxis": "x",
         "y": [
          4.5,
          4.490277777777778,
          4.475,
          4.46,
          4.46,
          4.45909090909091,
          4.454545454545454,
          4.441935483870968,
          4.4392282958199365,
          4.43125,
          4.424450549450549,
          4.417391304347826,
          4.409090909090909,
          4.4,
          4.4,
          4.35,
          4.3
         ],
         "yaxis": "y"
        }
       ],
       "layout": {
        "barmode": "relative",
        "coloraxis": {
         "colorbar": {
          "title": {
           "text": "average_rating"
          }
         },
         "colorscale": [
          [
           0,
           "#440154"
          ],
          [
           0.1111111111111111,
           "#482878"
          ],
          [
           0.2222222222222222,
           "#3e4989"
          ],
          [
           0.3333333333333333,
           "#31688e"
          ],
          [
           0.4444444444444444,
           "#26828e"
          ],
          [
           0.5555555555555556,
           "#1f9e89"
          ],
          [
           0.6666666666666666,
           "#35b779"
          ],
          [
           0.7777777777777778,
           "#6ece58"
          ],
          [
           0.8888888888888888,
           "#b5de2b"
          ],
          [
           1,
           "#fde725"
          ]
         ]
        },
        "legend": {
         "tracegroupgap": 0
        },
        "template": {
         "data": {
          "bar": [
           {
            "error_x": {
             "color": "#2a3f5f"
            },
            "error_y": {
             "color": "#2a3f5f"
            },
            "marker": {
             "line": {
              "color": "#E5ECF6",
              "width": 0.5
             },
             "pattern": {
              "fillmode": "overlay",
              "size": 10,
              "solidity": 0.2
             }
            },
            "type": "bar"
           }
          ],
          "barpolar": [
           {
            "marker": {
             "line": {
              "color": "#E5ECF6",
              "width": 0.5
             },
             "pattern": {
              "fillmode": "overlay",
              "size": 10,
              "solidity": 0.2
             }
            },
            "type": "barpolar"
           }
          ],
          "carpet": [
           {
            "aaxis": {
             "endlinecolor": "#2a3f5f",
             "gridcolor": "white",
             "linecolor": "white",
             "minorgridcolor": "white",
             "startlinecolor": "#2a3f5f"
            },
            "baxis": {
             "endlinecolor": "#2a3f5f",
             "gridcolor": "white",
             "linecolor": "white",
             "minorgridcolor": "white",
             "startlinecolor": "#2a3f5f"
            },
            "type": "carpet"
           }
          ],
          "choropleth": [
           {
            "colorbar": {
             "outlinewidth": 0,
             "ticks": ""
            },
            "type": "choropleth"
           }
          ],
          "contour": [
           {
            "colorbar": {
             "outlinewidth": 0,
             "ticks": ""
            },
            "colorscale": [
             [
              0,
              "#0d0887"
             ],
             [
              0.1111111111111111,
              "#46039f"
             ],
             [
              0.2222222222222222,
              "#7201a8"
             ],
             [
              0.3333333333333333,
              "#9c179e"
             ],
             [
              0.4444444444444444,
              "#bd3786"
             ],
             [
              0.5555555555555556,
              "#d8576b"
             ],
             [
              0.6666666666666666,
              "#ed7953"
             ],
             [
              0.7777777777777778,
              "#fb9f3a"
             ],
             [
              0.8888888888888888,
              "#fdca26"
             ],
             [
              1,
              "#f0f921"
             ]
            ],
            "type": "contour"
           }
          ],
          "contourcarpet": [
           {
            "colorbar": {
             "outlinewidth": 0,
             "ticks": ""
            },
            "type": "contourcarpet"
           }
          ],
          "heatmap": [
           {
            "colorbar": {
             "outlinewidth": 0,
             "ticks": ""
            },
            "colorscale": [
             [
              0,
              "#0d0887"
             ],
             [
              0.1111111111111111,
              "#46039f"
             ],
             [
              0.2222222222222222,
              "#7201a8"
             ],
             [
              0.3333333333333333,
              "#9c179e"
             ],
             [
              0.4444444444444444,
              "#bd3786"
             ],
             [
              0.5555555555555556,
              "#d8576b"
             ],
             [
              0.6666666666666666,
              "#ed7953"
             ],
             [
              0.7777777777777778,
              "#fb9f3a"
             ],
             [
              0.8888888888888888,
              "#fdca26"
             ],
             [
              1,
              "#f0f921"
             ]
            ],
            "type": "heatmap"
           }
          ],
          "heatmapgl": [
           {
            "colorbar": {
             "outlinewidth": 0,
             "ticks": ""
            },
            "colorscale": [
             [
              0,
              "#0d0887"
             ],
             [
              0.1111111111111111,
              "#46039f"
             ],
             [
              0.2222222222222222,
              "#7201a8"
             ],
             [
              0.3333333333333333,
              "#9c179e"
             ],
             [
              0.4444444444444444,
              "#bd3786"
             ],
             [
              0.5555555555555556,
              "#d8576b"
             ],
             [
              0.6666666666666666,
              "#ed7953"
             ],
             [
              0.7777777777777778,
              "#fb9f3a"
             ],
             [
              0.8888888888888888,
              "#fdca26"
             ],
             [
              1,
              "#f0f921"
             ]
            ],
            "type": "heatmapgl"
           }
          ],
          "histogram": [
           {
            "marker": {
             "pattern": {
              "fillmode": "overlay",
              "size": 10,
              "solidity": 0.2
             }
            },
            "type": "histogram"
           }
          ],
          "histogram2d": [
           {
            "colorbar": {
             "outlinewidth": 0,
             "ticks": ""
            },
            "colorscale": [
             [
              0,
              "#0d0887"
             ],
             [
              0.1111111111111111,
              "#46039f"
             ],
             [
              0.2222222222222222,
              "#7201a8"
             ],
             [
              0.3333333333333333,
              "#9c179e"
             ],
             [
              0.4444444444444444,
              "#bd3786"
             ],
             [
              0.5555555555555556,
              "#d8576b"
             ],
             [
              0.6666666666666666,
              "#ed7953"
             ],
             [
              0.7777777777777778,
              "#fb9f3a"
             ],
             [
              0.8888888888888888,
              "#fdca26"
             ],
             [
              1,
              "#f0f921"
             ]
            ],
            "type": "histogram2d"
           }
          ],
          "histogram2dcontour": [
           {
            "colorbar": {
             "outlinewidth": 0,
             "ticks": ""
            },
            "colorscale": [
             [
              0,
              "#0d0887"
             ],
             [
              0.1111111111111111,
              "#46039f"
             ],
             [
              0.2222222222222222,
              "#7201a8"
             ],
             [
              0.3333333333333333,
              "#9c179e"
             ],
             [
              0.4444444444444444,
              "#bd3786"
             ],
             [
              0.5555555555555556,
              "#d8576b"
             ],
             [
              0.6666666666666666,
              "#ed7953"
             ],
             [
              0.7777777777777778,
              "#fb9f3a"
             ],
             [
              0.8888888888888888,
              "#fdca26"
             ],
             [
              1,
              "#f0f921"
             ]
            ],
            "type": "histogram2dcontour"
           }
          ],
          "mesh3d": [
           {
            "colorbar": {
             "outlinewidth": 0,
             "ticks": ""
            },
            "type": "mesh3d"
           }
          ],
          "parcoords": [
           {
            "line": {
             "colorbar": {
              "outlinewidth": 0,
              "ticks": ""
             }
            },
            "type": "parcoords"
           }
          ],
          "pie": [
           {
            "automargin": true,
            "type": "pie"
           }
          ],
          "scatter": [
           {
            "fillpattern": {
             "fillmode": "overlay",
             "size": 10,
             "solidity": 0.2
            },
            "type": "scatter"
           }
          ],
          "scatter3d": [
           {
            "line": {
             "colorbar": {
              "outlinewidth": 0,
              "ticks": ""
             }
            },
            "marker": {
             "colorbar": {
              "outlinewidth": 0,
              "ticks": ""
             }
            },
            "type": "scatter3d"
           }
          ],
          "scattercarpet": [
           {
            "marker": {
             "colorbar": {
              "outlinewidth": 0,
              "ticks": ""
             }
            },
            "type": "scattercarpet"
           }
          ],
          "scattergeo": [
           {
            "marker": {
             "colorbar": {
              "outlinewidth": 0,
              "ticks": ""
             }
            },
            "type": "scattergeo"
           }
          ],
          "scattergl": [
           {
            "marker": {
             "colorbar": {
              "outlinewidth": 0,
              "ticks": ""
             }
            },
            "type": "scattergl"
           }
          ],
          "scattermapbox": [
           {
            "marker": {
             "colorbar": {
              "outlinewidth": 0,
              "ticks": ""
             }
            },
            "type": "scattermapbox"
           }
          ],
          "scatterpolar": [
           {
            "marker": {
             "colorbar": {
              "outlinewidth": 0,
              "ticks": ""
             }
            },
            "type": "scatterpolar"
           }
          ],
          "scatterpolargl": [
           {
            "marker": {
             "colorbar": {
              "outlinewidth": 0,
              "ticks": ""
             }
            },
            "type": "scatterpolargl"
           }
          ],
          "scatterternary": [
           {
            "marker": {
             "colorbar": {
              "outlinewidth": 0,
              "ticks": ""
             }
            },
            "type": "scatterternary"
           }
          ],
          "surface": [
           {
            "colorbar": {
             "outlinewidth": 0,
             "ticks": ""
            },
            "colorscale": [
             [
              0,
              "#0d0887"
             ],
             [
              0.1111111111111111,
              "#46039f"
             ],
             [
              0.2222222222222222,
              "#7201a8"
             ],
             [
              0.3333333333333333,
              "#9c179e"
             ],
             [
              0.4444444444444444,
              "#bd3786"
             ],
             [
              0.5555555555555556,
              "#d8576b"
             ],
             [
              0.6666666666666666,
              "#ed7953"
             ],
             [
              0.7777777777777778,
              "#fb9f3a"
             ],
             [
              0.8888888888888888,
              "#fdca26"
             ],
             [
              1,
              "#f0f921"
             ]
            ],
            "type": "surface"
           }
          ],
          "table": [
           {
            "cells": {
             "fill": {
              "color": "#EBF0F8"
             },
             "line": {
              "color": "white"
             }
            },
            "header": {
             "fill": {
              "color": "#C8D4E3"
             },
             "line": {
              "color": "white"
             }
            },
            "type": "table"
           }
          ]
         },
         "layout": {
          "annotationdefaults": {
           "arrowcolor": "#2a3f5f",
           "arrowhead": 0,
           "arrowwidth": 1
          },
          "autotypenumbers": "strict",
          "coloraxis": {
           "colorbar": {
            "outlinewidth": 0,
            "ticks": ""
           }
          },
          "colorscale": {
           "diverging": [
            [
             0,
             "#8e0152"
            ],
            [
             0.1,
             "#c51b7d"
            ],
            [
             0.2,
             "#de77ae"
            ],
            [
             0.3,
             "#f1b6da"
            ],
            [
             0.4,
             "#fde0ef"
            ],
            [
             0.5,
             "#f7f7f7"
            ],
            [
             0.6,
             "#e6f5d0"
            ],
            [
             0.7,
             "#b8e186"
            ],
            [
             0.8,
             "#7fbc41"
            ],
            [
             0.9,
             "#4d9221"
            ],
            [
             1,
             "#276419"
            ]
           ],
           "sequential": [
            [
             0,
             "#0d0887"
            ],
            [
             0.1111111111111111,
             "#46039f"
            ],
            [
             0.2222222222222222,
             "#7201a8"
            ],
            [
             0.3333333333333333,
             "#9c179e"
            ],
            [
             0.4444444444444444,
             "#bd3786"
            ],
            [
             0.5555555555555556,
             "#d8576b"
            ],
            [
             0.6666666666666666,
             "#ed7953"
            ],
            [
             0.7777777777777778,
             "#fb9f3a"
            ],
            [
             0.8888888888888888,
             "#fdca26"
            ],
            [
             1,
             "#f0f921"
            ]
           ],
           "sequentialminus": [
            [
             0,
             "#0d0887"
            ],
            [
             0.1111111111111111,
             "#46039f"
            ],
            [
             0.2222222222222222,
             "#7201a8"
            ],
            [
             0.3333333333333333,
             "#9c179e"
            ],
            [
             0.4444444444444444,
             "#bd3786"
            ],
            [
             0.5555555555555556,
             "#d8576b"
            ],
            [
             0.6666666666666666,
             "#ed7953"
            ],
            [
             0.7777777777777778,
             "#fb9f3a"
            ],
            [
             0.8888888888888888,
             "#fdca26"
            ],
            [
             1,
             "#f0f921"
            ]
           ]
          },
          "colorway": [
           "#636efa",
           "#EF553B",
           "#00cc96",
           "#ab63fa",
           "#FFA15A",
           "#19d3f3",
           "#FF6692",
           "#B6E880",
           "#FF97FF",
           "#FECB52"
          ],
          "font": {
           "color": "#2a3f5f"
          },
          "geo": {
           "bgcolor": "white",
           "lakecolor": "white",
           "landcolor": "#E5ECF6",
           "showlakes": true,
           "showland": true,
           "subunitcolor": "white"
          },
          "hoverlabel": {
           "align": "left"
          },
          "hovermode": "closest",
          "mapbox": {
           "style": "light"
          },
          "paper_bgcolor": "white",
          "plot_bgcolor": "#E5ECF6",
          "polar": {
           "angularaxis": {
            "gridcolor": "white",
            "linecolor": "white",
            "ticks": ""
           },
           "bgcolor": "#E5ECF6",
           "radialaxis": {
            "gridcolor": "white",
            "linecolor": "white",
            "ticks": ""
           }
          },
          "scene": {
           "xaxis": {
            "backgroundcolor": "#E5ECF6",
            "gridcolor": "white",
            "gridwidth": 2,
            "linecolor": "white",
            "showbackground": true,
            "ticks": "",
            "zerolinecolor": "white"
           },
           "yaxis": {
            "backgroundcolor": "#E5ECF6",
            "gridcolor": "white",
            "gridwidth": 2,
            "linecolor": "white",
            "showbackground": true,
            "ticks": "",
            "zerolinecolor": "white"
           },
           "zaxis": {
            "backgroundcolor": "#E5ECF6",
            "gridcolor": "white",
            "gridwidth": 2,
            "linecolor": "white",
            "showbackground": true,
            "ticks": "",
            "zerolinecolor": "white"
           }
          },
          "shapedefaults": {
           "line": {
            "color": "#2a3f5f"
           }
          },
          "ternary": {
           "aaxis": {
            "gridcolor": "white",
            "linecolor": "white",
            "ticks": ""
           },
           "baxis": {
            "gridcolor": "white",
            "linecolor": "white",
            "ticks": ""
           },
           "bgcolor": "#E5ECF6",
           "caxis": {
            "gridcolor": "white",
            "linecolor": "white",
            "ticks": ""
           }
          },
          "title": {
           "x": 0.05
          },
          "xaxis": {
           "automargin": true,
           "gridcolor": "white",
           "linecolor": "white",
           "ticks": "",
           "title": {
            "standoff": 15
           },
           "zerolinecolor": "white",
           "zerolinewidth": 2
          },
          "yaxis": {
           "automargin": true,
           "gridcolor": "white",
           "linecolor": "white",
           "ticks": "",
           "title": {
            "standoff": 15
           },
           "zerolinecolor": "white",
           "zerolinewidth": 2
          }
         }
        },
        "title": {
         "text": "Comparison of Average Wine Ratings Across Countries"
        },
        "xaxis": {
         "anchor": "y",
         "domain": [
          0,
          1
         ],
         "title": {
          "text": "Country"
         }
        },
        "yaxis": {
         "anchor": "x",
         "domain": [
          0,
          1
         ],
         "range": [
          4.2,
          4.6
         ],
         "title": {
          "text": "Average Rating"
         }
        }
       }
      }
     },
     "metadata": {},
     "output_type": "display_data"
    }
   ],
   "source": [
    "import plotly.express as px\n",
    "\n",
    "fig = px.bar(top_win_countries_df, x = \"country\", y = \"average_rating\", text=\"average_rating\", title= \"Comparison of Average Wine Ratings Across Countries\",\n",
    "             color = \"average_rating\", color_continuous_scale=px.colors.sequential.Viridis)\n",
    "fig.update_yaxes(range=[4.2, 4.6])\n",
    "fig.update_traces(texttemplate='%{text:.2f}')\n",
    "fig.update_layout(xaxis_title=\"Country\", yaxis_title=\"Average Rating\")\n",
    "fig.show()"
   ]
  },
  {
   "cell_type": "markdown",
   "metadata": {},
   "source": [
    "Country"
   ]
  },
  {
   "cell_type": "code",
   "execution_count": 28,
   "metadata": {},
   "outputs": [
    {
     "data": {
      "text/html": [
       "<div>\n",
       "<style scoped>\n",
       "    .dataframe tbody tr th:only-of-type {\n",
       "        vertical-align: middle;\n",
       "    }\n",
       "\n",
       "    .dataframe tbody tr th {\n",
       "        vertical-align: top;\n",
       "    }\n",
       "\n",
       "    .dataframe thead th {\n",
       "        text-align: right;\n",
       "    }\n",
       "</style>\n",
       "<table border=\"1\" class=\"dataframe\">\n",
       "  <thead>\n",
       "    <tr style=\"text-align: right;\">\n",
       "      <th></th>\n",
       "      <th>country</th>\n",
       "      <th>average_rating</th>\n",
       "      <th>wines_count</th>\n",
       "      <th>users_count</th>\n",
       "    </tr>\n",
       "  </thead>\n",
       "  <tbody>\n",
       "    <tr>\n",
       "      <th>0</th>\n",
       "      <td>France</td>\n",
       "      <td>4.447130</td>\n",
       "      <td>422503</td>\n",
       "      <td>5973301</td>\n",
       "    </tr>\n",
       "    <tr>\n",
       "      <th>1</th>\n",
       "      <td>Italie</td>\n",
       "      <td>4.430026</td>\n",
       "      <td>274658</td>\n",
       "      <td>4270717</td>\n",
       "    </tr>\n",
       "    <tr>\n",
       "      <th>2</th>\n",
       "      <td>États-Unis</td>\n",
       "      <td>4.490541</td>\n",
       "      <td>204060</td>\n",
       "      <td>12273684</td>\n",
       "    </tr>\n",
       "    <tr>\n",
       "      <th>3</th>\n",
       "      <td>Allemagne</td>\n",
       "      <td>4.500000</td>\n",
       "      <td>164533</td>\n",
       "      <td>2549989</td>\n",
       "    </tr>\n",
       "    <tr>\n",
       "      <th>4</th>\n",
       "      <td>Espagne</td>\n",
       "      <td>4.443617</td>\n",
       "      <td>102662</td>\n",
       "      <td>2264396</td>\n",
       "    </tr>\n",
       "    <tr>\n",
       "      <th>5</th>\n",
       "      <td>Australie</td>\n",
       "      <td>4.458333</td>\n",
       "      <td>90954</td>\n",
       "      <td>1022965</td>\n",
       "    </tr>\n",
       "    <tr>\n",
       "      <th>6</th>\n",
       "      <td>Chili</td>\n",
       "      <td>4.431250</td>\n",
       "      <td>41191</td>\n",
       "      <td>326757</td>\n",
       "    </tr>\n",
       "    <tr>\n",
       "      <th>7</th>\n",
       "      <td>Portugal</td>\n",
       "      <td>4.435714</td>\n",
       "      <td>39847</td>\n",
       "      <td>1123535</td>\n",
       "    </tr>\n",
       "    <tr>\n",
       "      <th>8</th>\n",
       "      <td>Argentine</td>\n",
       "      <td>4.417391</td>\n",
       "      <td>36121</td>\n",
       "      <td>629532</td>\n",
       "    </tr>\n",
       "    <tr>\n",
       "      <th>9</th>\n",
       "      <td>Suisse</td>\n",
       "      <td>4.350000</td>\n",
       "      <td>33656</td>\n",
       "      <td>1601799</td>\n",
       "    </tr>\n",
       "    <tr>\n",
       "      <th>10</th>\n",
       "      <td>Afrique du Sud</td>\n",
       "      <td>4.459091</td>\n",
       "      <td>30857</td>\n",
       "      <td>269649</td>\n",
       "    </tr>\n",
       "    <tr>\n",
       "      <th>11</th>\n",
       "      <td>Hongrie</td>\n",
       "      <td>4.472727</td>\n",
       "      <td>16605</td>\n",
       "      <td>102235</td>\n",
       "    </tr>\n",
       "    <tr>\n",
       "      <th>12</th>\n",
       "      <td>Grèce</td>\n",
       "      <td>4.400000</td>\n",
       "      <td>9581</td>\n",
       "      <td>95693</td>\n",
       "    </tr>\n",
       "    <tr>\n",
       "      <th>13</th>\n",
       "      <td>Roumanie</td>\n",
       "      <td>4.400000</td>\n",
       "      <td>6841</td>\n",
       "      <td>228185</td>\n",
       "    </tr>\n",
       "    <tr>\n",
       "      <th>14</th>\n",
       "      <td>Croatie</td>\n",
       "      <td>4.300000</td>\n",
       "      <td>5880</td>\n",
       "      <td>64223</td>\n",
       "    </tr>\n",
       "    <tr>\n",
       "      <th>15</th>\n",
       "      <td>Israël</td>\n",
       "      <td>4.500000</td>\n",
       "      <td>5435</td>\n",
       "      <td>150549</td>\n",
       "    </tr>\n",
       "    <tr>\n",
       "      <th>16</th>\n",
       "      <td>Moldavie</td>\n",
       "      <td>4.480000</td>\n",
       "      <td>5055</td>\n",
       "      <td>13583</td>\n",
       "    </tr>\n",
       "  </tbody>\n",
       "</table>\n",
       "</div>"
      ],
      "text/plain": [
       "           country  average_rating  wines_count  users_count\n",
       "0           France        4.447130       422503      5973301\n",
       "1           Italie        4.430026       274658      4270717\n",
       "2       États-Unis        4.490541       204060     12273684\n",
       "3        Allemagne        4.500000       164533      2549989\n",
       "4          Espagne        4.443617       102662      2264396\n",
       "5        Australie        4.458333        90954      1022965\n",
       "6            Chili        4.431250        41191       326757\n",
       "7         Portugal        4.435714        39847      1123535\n",
       "8        Argentine        4.417391        36121       629532\n",
       "9           Suisse        4.350000        33656      1601799\n",
       "10  Afrique du Sud        4.459091        30857       269649\n",
       "11         Hongrie        4.472727        16605       102235\n",
       "12           Grèce        4.400000         9581        95693\n",
       "13        Roumanie        4.400000         6841       228185\n",
       "14         Croatie        4.300000         5880        64223\n",
       "15          Israël        4.500000         5435       150549\n",
       "16        Moldavie        4.480000         5055        13583"
      ]
     },
     "execution_count": 28,
     "metadata": {},
     "output_type": "execute_result"
    }
   ],
   "source": [
    "country_priority = \"\"\"SELECT countries.name AS country, AVG(wines.ratings_average) AS average_rating, wines_count, users_count from wines\n",
    "JOIN regions ON wines.region_id = regions.id \n",
    "JOIN countries ON regions.country_code = countries.code\n",
    "GROUP BY countries.name\n",
    "ORDER BY wines_count DESC, average_rating DESC;\n",
    "\"\"\"\n",
    "\n",
    "country_priority_df = pd.read_sql_query(country_priority, conn)\n",
    "\n",
    "country_priority_df"
   ]
  },
  {
   "cell_type": "code",
   "execution_count": 29,
   "metadata": {},
   "outputs": [
    {
     "data": {
      "application/vnd.plotly.v1+json": {
       "config": {
        "plotlyServerURL": "https://plot.ly"
       },
       "data": [
        {
         "alignmentgroup": "True",
         "hovertemplate": "country=%{x}<br>wines_count=%{text}<extra></extra>",
         "legendgroup": "",
         "marker": {
          "color": "#636efa",
          "pattern": {
           "shape": ""
          }
         },
         "name": "",
         "offsetgroup": "",
         "orientation": "v",
         "showlegend": false,
         "text": [
          422503,
          274658,
          204060,
          164533,
          102662,
          90954,
          41191,
          39847,
          36121,
          33656,
          30857,
          16605,
          9581,
          6841,
          5880,
          5435,
          5055
         ],
         "textfont": {
          "color": "purple"
         },
         "textposition": "auto",
         "type": "bar",
         "x": [
          "France",
          "Italie",
          "États-Unis",
          "Allemagne",
          "Espagne",
          "Australie",
          "Chili",
          "Portugal",
          "Argentine",
          "Suisse",
          "Afrique du Sud",
          "Hongrie",
          "Grèce",
          "Roumanie",
          "Croatie",
          "Israël",
          "Moldavie"
         ],
         "xaxis": "x",
         "y": [
          422503,
          274658,
          204060,
          164533,
          102662,
          90954,
          41191,
          39847,
          36121,
          33656,
          30857,
          16605,
          9581,
          6841,
          5880,
          5435,
          5055
         ],
         "yaxis": "y"
        }
       ],
       "layout": {
        "barmode": "relative",
        "legend": {
         "tracegroupgap": 0
        },
        "template": {
         "data": {
          "bar": [
           {
            "error_x": {
             "color": "#2a3f5f"
            },
            "error_y": {
             "color": "#2a3f5f"
            },
            "marker": {
             "line": {
              "color": "#E5ECF6",
              "width": 0.5
             },
             "pattern": {
              "fillmode": "overlay",
              "size": 10,
              "solidity": 0.2
             }
            },
            "type": "bar"
           }
          ],
          "barpolar": [
           {
            "marker": {
             "line": {
              "color": "#E5ECF6",
              "width": 0.5
             },
             "pattern": {
              "fillmode": "overlay",
              "size": 10,
              "solidity": 0.2
             }
            },
            "type": "barpolar"
           }
          ],
          "carpet": [
           {
            "aaxis": {
             "endlinecolor": "#2a3f5f",
             "gridcolor": "white",
             "linecolor": "white",
             "minorgridcolor": "white",
             "startlinecolor": "#2a3f5f"
            },
            "baxis": {
             "endlinecolor": "#2a3f5f",
             "gridcolor": "white",
             "linecolor": "white",
             "minorgridcolor": "white",
             "startlinecolor": "#2a3f5f"
            },
            "type": "carpet"
           }
          ],
          "choropleth": [
           {
            "colorbar": {
             "outlinewidth": 0,
             "ticks": ""
            },
            "type": "choropleth"
           }
          ],
          "contour": [
           {
            "colorbar": {
             "outlinewidth": 0,
             "ticks": ""
            },
            "colorscale": [
             [
              0,
              "#0d0887"
             ],
             [
              0.1111111111111111,
              "#46039f"
             ],
             [
              0.2222222222222222,
              "#7201a8"
             ],
             [
              0.3333333333333333,
              "#9c179e"
             ],
             [
              0.4444444444444444,
              "#bd3786"
             ],
             [
              0.5555555555555556,
              "#d8576b"
             ],
             [
              0.6666666666666666,
              "#ed7953"
             ],
             [
              0.7777777777777778,
              "#fb9f3a"
             ],
             [
              0.8888888888888888,
              "#fdca26"
             ],
             [
              1,
              "#f0f921"
             ]
            ],
            "type": "contour"
           }
          ],
          "contourcarpet": [
           {
            "colorbar": {
             "outlinewidth": 0,
             "ticks": ""
            },
            "type": "contourcarpet"
           }
          ],
          "heatmap": [
           {
            "colorbar": {
             "outlinewidth": 0,
             "ticks": ""
            },
            "colorscale": [
             [
              0,
              "#0d0887"
             ],
             [
              0.1111111111111111,
              "#46039f"
             ],
             [
              0.2222222222222222,
              "#7201a8"
             ],
             [
              0.3333333333333333,
              "#9c179e"
             ],
             [
              0.4444444444444444,
              "#bd3786"
             ],
             [
              0.5555555555555556,
              "#d8576b"
             ],
             [
              0.6666666666666666,
              "#ed7953"
             ],
             [
              0.7777777777777778,
              "#fb9f3a"
             ],
             [
              0.8888888888888888,
              "#fdca26"
             ],
             [
              1,
              "#f0f921"
             ]
            ],
            "type": "heatmap"
           }
          ],
          "heatmapgl": [
           {
            "colorbar": {
             "outlinewidth": 0,
             "ticks": ""
            },
            "colorscale": [
             [
              0,
              "#0d0887"
             ],
             [
              0.1111111111111111,
              "#46039f"
             ],
             [
              0.2222222222222222,
              "#7201a8"
             ],
             [
              0.3333333333333333,
              "#9c179e"
             ],
             [
              0.4444444444444444,
              "#bd3786"
             ],
             [
              0.5555555555555556,
              "#d8576b"
             ],
             [
              0.6666666666666666,
              "#ed7953"
             ],
             [
              0.7777777777777778,
              "#fb9f3a"
             ],
             [
              0.8888888888888888,
              "#fdca26"
             ],
             [
              1,
              "#f0f921"
             ]
            ],
            "type": "heatmapgl"
           }
          ],
          "histogram": [
           {
            "marker": {
             "pattern": {
              "fillmode": "overlay",
              "size": 10,
              "solidity": 0.2
             }
            },
            "type": "histogram"
           }
          ],
          "histogram2d": [
           {
            "colorbar": {
             "outlinewidth": 0,
             "ticks": ""
            },
            "colorscale": [
             [
              0,
              "#0d0887"
             ],
             [
              0.1111111111111111,
              "#46039f"
             ],
             [
              0.2222222222222222,
              "#7201a8"
             ],
             [
              0.3333333333333333,
              "#9c179e"
             ],
             [
              0.4444444444444444,
              "#bd3786"
             ],
             [
              0.5555555555555556,
              "#d8576b"
             ],
             [
              0.6666666666666666,
              "#ed7953"
             ],
             [
              0.7777777777777778,
              "#fb9f3a"
             ],
             [
              0.8888888888888888,
              "#fdca26"
             ],
             [
              1,
              "#f0f921"
             ]
            ],
            "type": "histogram2d"
           }
          ],
          "histogram2dcontour": [
           {
            "colorbar": {
             "outlinewidth": 0,
             "ticks": ""
            },
            "colorscale": [
             [
              0,
              "#0d0887"
             ],
             [
              0.1111111111111111,
              "#46039f"
             ],
             [
              0.2222222222222222,
              "#7201a8"
             ],
             [
              0.3333333333333333,
              "#9c179e"
             ],
             [
              0.4444444444444444,
              "#bd3786"
             ],
             [
              0.5555555555555556,
              "#d8576b"
             ],
             [
              0.6666666666666666,
              "#ed7953"
             ],
             [
              0.7777777777777778,
              "#fb9f3a"
             ],
             [
              0.8888888888888888,
              "#fdca26"
             ],
             [
              1,
              "#f0f921"
             ]
            ],
            "type": "histogram2dcontour"
           }
          ],
          "mesh3d": [
           {
            "colorbar": {
             "outlinewidth": 0,
             "ticks": ""
            },
            "type": "mesh3d"
           }
          ],
          "parcoords": [
           {
            "line": {
             "colorbar": {
              "outlinewidth": 0,
              "ticks": ""
             }
            },
            "type": "parcoords"
           }
          ],
          "pie": [
           {
            "automargin": true,
            "type": "pie"
           }
          ],
          "scatter": [
           {
            "fillpattern": {
             "fillmode": "overlay",
             "size": 10,
             "solidity": 0.2
            },
            "type": "scatter"
           }
          ],
          "scatter3d": [
           {
            "line": {
             "colorbar": {
              "outlinewidth": 0,
              "ticks": ""
             }
            },
            "marker": {
             "colorbar": {
              "outlinewidth": 0,
              "ticks": ""
             }
            },
            "type": "scatter3d"
           }
          ],
          "scattercarpet": [
           {
            "marker": {
             "colorbar": {
              "outlinewidth": 0,
              "ticks": ""
             }
            },
            "type": "scattercarpet"
           }
          ],
          "scattergeo": [
           {
            "marker": {
             "colorbar": {
              "outlinewidth": 0,
              "ticks": ""
             }
            },
            "type": "scattergeo"
           }
          ],
          "scattergl": [
           {
            "marker": {
             "colorbar": {
              "outlinewidth": 0,
              "ticks": ""
             }
            },
            "type": "scattergl"
           }
          ],
          "scattermapbox": [
           {
            "marker": {
             "colorbar": {
              "outlinewidth": 0,
              "ticks": ""
             }
            },
            "type": "scattermapbox"
           }
          ],
          "scatterpolar": [
           {
            "marker": {
             "colorbar": {
              "outlinewidth": 0,
              "ticks": ""
             }
            },
            "type": "scatterpolar"
           }
          ],
          "scatterpolargl": [
           {
            "marker": {
             "colorbar": {
              "outlinewidth": 0,
              "ticks": ""
             }
            },
            "type": "scatterpolargl"
           }
          ],
          "scatterternary": [
           {
            "marker": {
             "colorbar": {
              "outlinewidth": 0,
              "ticks": ""
             }
            },
            "type": "scatterternary"
           }
          ],
          "surface": [
           {
            "colorbar": {
             "outlinewidth": 0,
             "ticks": ""
            },
            "colorscale": [
             [
              0,
              "#0d0887"
             ],
             [
              0.1111111111111111,
              "#46039f"
             ],
             [
              0.2222222222222222,
              "#7201a8"
             ],
             [
              0.3333333333333333,
              "#9c179e"
             ],
             [
              0.4444444444444444,
              "#bd3786"
             ],
             [
              0.5555555555555556,
              "#d8576b"
             ],
             [
              0.6666666666666666,
              "#ed7953"
             ],
             [
              0.7777777777777778,
              "#fb9f3a"
             ],
             [
              0.8888888888888888,
              "#fdca26"
             ],
             [
              1,
              "#f0f921"
             ]
            ],
            "type": "surface"
           }
          ],
          "table": [
           {
            "cells": {
             "fill": {
              "color": "#EBF0F8"
             },
             "line": {
              "color": "white"
             }
            },
            "header": {
             "fill": {
              "color": "#C8D4E3"
             },
             "line": {
              "color": "white"
             }
            },
            "type": "table"
           }
          ]
         },
         "layout": {
          "annotationdefaults": {
           "arrowcolor": "#2a3f5f",
           "arrowhead": 0,
           "arrowwidth": 1
          },
          "autotypenumbers": "strict",
          "coloraxis": {
           "colorbar": {
            "outlinewidth": 0,
            "ticks": ""
           }
          },
          "colorscale": {
           "diverging": [
            [
             0,
             "#8e0152"
            ],
            [
             0.1,
             "#c51b7d"
            ],
            [
             0.2,
             "#de77ae"
            ],
            [
             0.3,
             "#f1b6da"
            ],
            [
             0.4,
             "#fde0ef"
            ],
            [
             0.5,
             "#f7f7f7"
            ],
            [
             0.6,
             "#e6f5d0"
            ],
            [
             0.7,
             "#b8e186"
            ],
            [
             0.8,
             "#7fbc41"
            ],
            [
             0.9,
             "#4d9221"
            ],
            [
             1,
             "#276419"
            ]
           ],
           "sequential": [
            [
             0,
             "#0d0887"
            ],
            [
             0.1111111111111111,
             "#46039f"
            ],
            [
             0.2222222222222222,
             "#7201a8"
            ],
            [
             0.3333333333333333,
             "#9c179e"
            ],
            [
             0.4444444444444444,
             "#bd3786"
            ],
            [
             0.5555555555555556,
             "#d8576b"
            ],
            [
             0.6666666666666666,
             "#ed7953"
            ],
            [
             0.7777777777777778,
             "#fb9f3a"
            ],
            [
             0.8888888888888888,
             "#fdca26"
            ],
            [
             1,
             "#f0f921"
            ]
           ],
           "sequentialminus": [
            [
             0,
             "#0d0887"
            ],
            [
             0.1111111111111111,
             "#46039f"
            ],
            [
             0.2222222222222222,
             "#7201a8"
            ],
            [
             0.3333333333333333,
             "#9c179e"
            ],
            [
             0.4444444444444444,
             "#bd3786"
            ],
            [
             0.5555555555555556,
             "#d8576b"
            ],
            [
             0.6666666666666666,
             "#ed7953"
            ],
            [
             0.7777777777777778,
             "#fb9f3a"
            ],
            [
             0.8888888888888888,
             "#fdca26"
            ],
            [
             1,
             "#f0f921"
            ]
           ]
          },
          "colorway": [
           "#636efa",
           "#EF553B",
           "#00cc96",
           "#ab63fa",
           "#FFA15A",
           "#19d3f3",
           "#FF6692",
           "#B6E880",
           "#FF97FF",
           "#FECB52"
          ],
          "font": {
           "color": "#2a3f5f"
          },
          "geo": {
           "bgcolor": "white",
           "lakecolor": "white",
           "landcolor": "#E5ECF6",
           "showlakes": true,
           "showland": true,
           "subunitcolor": "white"
          },
          "hoverlabel": {
           "align": "left"
          },
          "hovermode": "closest",
          "mapbox": {
           "style": "light"
          },
          "paper_bgcolor": "white",
          "plot_bgcolor": "#E5ECF6",
          "polar": {
           "angularaxis": {
            "gridcolor": "white",
            "linecolor": "white",
            "ticks": ""
           },
           "bgcolor": "#E5ECF6",
           "radialaxis": {
            "gridcolor": "white",
            "linecolor": "white",
            "ticks": ""
           }
          },
          "scene": {
           "xaxis": {
            "backgroundcolor": "#E5ECF6",
            "gridcolor": "white",
            "gridwidth": 2,
            "linecolor": "white",
            "showbackground": true,
            "ticks": "",
            "zerolinecolor": "white"
           },
           "yaxis": {
            "backgroundcolor": "#E5ECF6",
            "gridcolor": "white",
            "gridwidth": 2,
            "linecolor": "white",
            "showbackground": true,
            "ticks": "",
            "zerolinecolor": "white"
           },
           "zaxis": {
            "backgroundcolor": "#E5ECF6",
            "gridcolor": "white",
            "gridwidth": 2,
            "linecolor": "white",
            "showbackground": true,
            "ticks": "",
            "zerolinecolor": "white"
           }
          },
          "shapedefaults": {
           "line": {
            "color": "#2a3f5f"
           }
          },
          "ternary": {
           "aaxis": {
            "gridcolor": "white",
            "linecolor": "white",
            "ticks": ""
           },
           "baxis": {
            "gridcolor": "white",
            "linecolor": "white",
            "ticks": ""
           },
           "bgcolor": "#E5ECF6",
           "caxis": {
            "gridcolor": "white",
            "linecolor": "white",
            "ticks": ""
           }
          },
          "title": {
           "x": 0.05
          },
          "xaxis": {
           "automargin": true,
           "gridcolor": "white",
           "linecolor": "white",
           "ticks": "",
           "title": {
            "standoff": 15
           },
           "zerolinecolor": "white",
           "zerolinewidth": 2
          },
          "yaxis": {
           "automargin": true,
           "gridcolor": "white",
           "linecolor": "white",
           "ticks": "",
           "title": {
            "standoff": 15
           },
           "zerolinecolor": "white",
           "zerolinewidth": 2
          }
         }
        },
        "title": {
         "text": "Amount of wines per each country"
        },
        "xaxis": {
         "anchor": "y",
         "domain": [
          0,
          1
         ],
         "title": {
          "text": "Country"
         }
        },
        "yaxis": {
         "anchor": "x",
         "domain": [
          0,
          1
         ],
         "title": {
          "text": "Average Rating"
         }
        }
       }
      }
     },
     "metadata": {},
     "output_type": "display_data"
    }
   ],
   "source": [
    "import plotly.express as px\n",
    "\n",
    "fig = px.bar(country_priority_df, x = \"country\", y = \"wines_count\", text=\"wines_count\", title= \"Amount of wines per each country\")\n",
    "fig.update_layout(xaxis_title=\"Country\", yaxis_title=\"Average Rating\")\n",
    "fig.update_traces(textfont=dict(color='purple'))\n",
    "\n",
    "fig.show()"
   ]
  },
  {
   "cell_type": "markdown",
   "metadata": {},
   "source": [
    "Bubble chart of countries"
   ]
  },
  {
   "cell_type": "code",
   "execution_count": 30,
   "metadata": {},
   "outputs": [
    {
     "data": {
      "application/vnd.plotly.v1+json": {
       "config": {
        "plotlyServerURL": "https://plot.ly"
       },
       "data": [
        {
         "hovertemplate": "country=France<br>users_count=%{x}<br>average_rating=%{y}<br>wines_count=%{marker.size}<extra></extra>",
         "legendgroup": "France",
         "marker": {
          "color": "#636efa",
          "size": [
           422503
          ],
          "sizemode": "area",
          "sizeref": 1056.2575,
          "symbol": "circle"
         },
         "mode": "markers",
         "name": "France",
         "orientation": "v",
         "showlegend": true,
         "type": "scatter",
         "x": [
          5973301
         ],
         "xaxis": "x",
         "y": [
          4.447129909365559
         ],
         "yaxis": "y"
        },
        {
         "hovertemplate": "country=Italie<br>users_count=%{x}<br>average_rating=%{y}<br>wines_count=%{marker.size}<extra></extra>",
         "legendgroup": "Italie",
         "marker": {
          "color": "#EF553B",
          "size": [
           274658
          ],
          "sizemode": "area",
          "sizeref": 1056.2575,
          "symbol": "circle"
         },
         "mode": "markers",
         "name": "Italie",
         "orientation": "v",
         "showlegend": true,
         "type": "scatter",
         "x": [
          4270717
         ],
         "xaxis": "x",
         "y": [
          4.430026109660575
         ],
         "yaxis": "y"
        },
        {
         "hovertemplate": "country=États-Unis<br>users_count=%{x}<br>average_rating=%{y}<br>wines_count=%{marker.size}<extra></extra>",
         "legendgroup": "États-Unis",
         "marker": {
          "color": "#00cc96",
          "size": [
           204060
          ],
          "sizemode": "area",
          "sizeref": 1056.2575,
          "symbol": "circle"
         },
         "mode": "markers",
         "name": "États-Unis",
         "orientation": "v",
         "showlegend": true,
         "type": "scatter",
         "x": [
          12273684
         ],
         "xaxis": "x",
         "y": [
          4.4905405405405405
         ],
         "yaxis": "y"
        },
        {
         "hovertemplate": "country=Allemagne<br>users_count=%{x}<br>average_rating=%{y}<br>wines_count=%{marker.size}<extra></extra>",
         "legendgroup": "Allemagne",
         "marker": {
          "color": "#ab63fa",
          "size": [
           164533
          ],
          "sizemode": "area",
          "sizeref": 1056.2575,
          "symbol": "circle"
         },
         "mode": "markers",
         "name": "Allemagne",
         "orientation": "v",
         "showlegend": true,
         "type": "scatter",
         "x": [
          2549989
         ],
         "xaxis": "x",
         "y": [
          4.5
         ],
         "yaxis": "y"
        },
        {
         "hovertemplate": "country=Espagne<br>users_count=%{x}<br>average_rating=%{y}<br>wines_count=%{marker.size}<extra></extra>",
         "legendgroup": "Espagne",
         "marker": {
          "color": "#FFA15A",
          "size": [
           102662
          ],
          "sizemode": "area",
          "sizeref": 1056.2575,
          "symbol": "circle"
         },
         "mode": "markers",
         "name": "Espagne",
         "orientation": "v",
         "showlegend": true,
         "type": "scatter",
         "x": [
          2264396
         ],
         "xaxis": "x",
         "y": [
          4.443617021276595
         ],
         "yaxis": "y"
        },
        {
         "hovertemplate": "country=Australie<br>users_count=%{x}<br>average_rating=%{y}<br>wines_count=%{marker.size}<extra></extra>",
         "legendgroup": "Australie",
         "marker": {
          "color": "#19d3f3",
          "size": [
           90954
          ],
          "sizemode": "area",
          "sizeref": 1056.2575,
          "symbol": "circle"
         },
         "mode": "markers",
         "name": "Australie",
         "orientation": "v",
         "showlegend": true,
         "type": "scatter",
         "x": [
          1022965
         ],
         "xaxis": "x",
         "y": [
          4.458333333333333
         ],
         "yaxis": "y"
        },
        {
         "hovertemplate": "country=Chili<br>users_count=%{x}<br>average_rating=%{y}<br>wines_count=%{marker.size}<extra></extra>",
         "legendgroup": "Chili",
         "marker": {
          "color": "#FF6692",
          "size": [
           41191
          ],
          "sizemode": "area",
          "sizeref": 1056.2575,
          "symbol": "circle"
         },
         "mode": "markers",
         "name": "Chili",
         "orientation": "v",
         "showlegend": true,
         "type": "scatter",
         "x": [
          326757
         ],
         "xaxis": "x",
         "y": [
          4.43125
         ],
         "yaxis": "y"
        },
        {
         "hovertemplate": "country=Portugal<br>users_count=%{x}<br>average_rating=%{y}<br>wines_count=%{marker.size}<extra></extra>",
         "legendgroup": "Portugal",
         "marker": {
          "color": "#B6E880",
          "size": [
           39847
          ],
          "sizemode": "area",
          "sizeref": 1056.2575,
          "symbol": "circle"
         },
         "mode": "markers",
         "name": "Portugal",
         "orientation": "v",
         "showlegend": true,
         "type": "scatter",
         "x": [
          1123535
         ],
         "xaxis": "x",
         "y": [
          4.435714285714286
         ],
         "yaxis": "y"
        },
        {
         "hovertemplate": "country=Argentine<br>users_count=%{x}<br>average_rating=%{y}<br>wines_count=%{marker.size}<extra></extra>",
         "legendgroup": "Argentine",
         "marker": {
          "color": "#FF97FF",
          "size": [
           36121
          ],
          "sizemode": "area",
          "sizeref": 1056.2575,
          "symbol": "circle"
         },
         "mode": "markers",
         "name": "Argentine",
         "orientation": "v",
         "showlegend": true,
         "type": "scatter",
         "x": [
          629532
         ],
         "xaxis": "x",
         "y": [
          4.417391304347826
         ],
         "yaxis": "y"
        },
        {
         "hovertemplate": "country=Suisse<br>users_count=%{x}<br>average_rating=%{y}<br>wines_count=%{marker.size}<extra></extra>",
         "legendgroup": "Suisse",
         "marker": {
          "color": "#FECB52",
          "size": [
           33656
          ],
          "sizemode": "area",
          "sizeref": 1056.2575,
          "symbol": "circle"
         },
         "mode": "markers",
         "name": "Suisse",
         "orientation": "v",
         "showlegend": true,
         "type": "scatter",
         "x": [
          1601799
         ],
         "xaxis": "x",
         "y": [
          4.35
         ],
         "yaxis": "y"
        },
        {
         "hovertemplate": "country=Afrique du Sud<br>users_count=%{x}<br>average_rating=%{y}<br>wines_count=%{marker.size}<extra></extra>",
         "legendgroup": "Afrique du Sud",
         "marker": {
          "color": "#636efa",
          "size": [
           30857
          ],
          "sizemode": "area",
          "sizeref": 1056.2575,
          "symbol": "circle"
         },
         "mode": "markers",
         "name": "Afrique du Sud",
         "orientation": "v",
         "showlegend": true,
         "type": "scatter",
         "x": [
          269649
         ],
         "xaxis": "x",
         "y": [
          4.45909090909091
         ],
         "yaxis": "y"
        },
        {
         "hovertemplate": "country=Hongrie<br>users_count=%{x}<br>average_rating=%{y}<br>wines_count=%{marker.size}<extra></extra>",
         "legendgroup": "Hongrie",
         "marker": {
          "color": "#EF553B",
          "size": [
           16605
          ],
          "sizemode": "area",
          "sizeref": 1056.2575,
          "symbol": "circle"
         },
         "mode": "markers",
         "name": "Hongrie",
         "orientation": "v",
         "showlegend": true,
         "type": "scatter",
         "x": [
          102235
         ],
         "xaxis": "x",
         "y": [
          4.472727272727273
         ],
         "yaxis": "y"
        },
        {
         "hovertemplate": "country=Grèce<br>users_count=%{x}<br>average_rating=%{y}<br>wines_count=%{marker.size}<extra></extra>",
         "legendgroup": "Grèce",
         "marker": {
          "color": "#00cc96",
          "size": [
           9581
          ],
          "sizemode": "area",
          "sizeref": 1056.2575,
          "symbol": "circle"
         },
         "mode": "markers",
         "name": "Grèce",
         "orientation": "v",
         "showlegend": true,
         "type": "scatter",
         "x": [
          95693
         ],
         "xaxis": "x",
         "y": [
          4.4
         ],
         "yaxis": "y"
        },
        {
         "hovertemplate": "country=Roumanie<br>users_count=%{x}<br>average_rating=%{y}<br>wines_count=%{marker.size}<extra></extra>",
         "legendgroup": "Roumanie",
         "marker": {
          "color": "#ab63fa",
          "size": [
           6841
          ],
          "sizemode": "area",
          "sizeref": 1056.2575,
          "symbol": "circle"
         },
         "mode": "markers",
         "name": "Roumanie",
         "orientation": "v",
         "showlegend": true,
         "type": "scatter",
         "x": [
          228185
         ],
         "xaxis": "x",
         "y": [
          4.4
         ],
         "yaxis": "y"
        },
        {
         "hovertemplate": "country=Croatie<br>users_count=%{x}<br>average_rating=%{y}<br>wines_count=%{marker.size}<extra></extra>",
         "legendgroup": "Croatie",
         "marker": {
          "color": "#FFA15A",
          "size": [
           5880
          ],
          "sizemode": "area",
          "sizeref": 1056.2575,
          "symbol": "circle"
         },
         "mode": "markers",
         "name": "Croatie",
         "orientation": "v",
         "showlegend": true,
         "type": "scatter",
         "x": [
          64223
         ],
         "xaxis": "x",
         "y": [
          4.3
         ],
         "yaxis": "y"
        },
        {
         "hovertemplate": "country=Israël<br>users_count=%{x}<br>average_rating=%{y}<br>wines_count=%{marker.size}<extra></extra>",
         "legendgroup": "Israël",
         "marker": {
          "color": "#19d3f3",
          "size": [
           5435
          ],
          "sizemode": "area",
          "sizeref": 1056.2575,
          "symbol": "circle"
         },
         "mode": "markers",
         "name": "Israël",
         "orientation": "v",
         "showlegend": true,
         "type": "scatter",
         "x": [
          150549
         ],
         "xaxis": "x",
         "y": [
          4.5
         ],
         "yaxis": "y"
        },
        {
         "hovertemplate": "country=Moldavie<br>users_count=%{x}<br>average_rating=%{y}<br>wines_count=%{marker.size}<extra></extra>",
         "legendgroup": "Moldavie",
         "marker": {
          "color": "#FF6692",
          "size": [
           5055
          ],
          "sizemode": "area",
          "sizeref": 1056.2575,
          "symbol": "circle"
         },
         "mode": "markers",
         "name": "Moldavie",
         "orientation": "v",
         "showlegend": true,
         "type": "scatter",
         "x": [
          13583
         ],
         "xaxis": "x",
         "y": [
          4.4799999999999995
         ],
         "yaxis": "y"
        }
       ],
       "layout": {
        "legend": {
         "itemsizing": "constant",
         "title": {
          "text": "Country"
         },
         "tracegroupgap": 0
        },
        "template": {
         "data": {
          "bar": [
           {
            "error_x": {
             "color": "#2a3f5f"
            },
            "error_y": {
             "color": "#2a3f5f"
            },
            "marker": {
             "line": {
              "color": "#E5ECF6",
              "width": 0.5
             },
             "pattern": {
              "fillmode": "overlay",
              "size": 10,
              "solidity": 0.2
             }
            },
            "type": "bar"
           }
          ],
          "barpolar": [
           {
            "marker": {
             "line": {
              "color": "#E5ECF6",
              "width": 0.5
             },
             "pattern": {
              "fillmode": "overlay",
              "size": 10,
              "solidity": 0.2
             }
            },
            "type": "barpolar"
           }
          ],
          "carpet": [
           {
            "aaxis": {
             "endlinecolor": "#2a3f5f",
             "gridcolor": "white",
             "linecolor": "white",
             "minorgridcolor": "white",
             "startlinecolor": "#2a3f5f"
            },
            "baxis": {
             "endlinecolor": "#2a3f5f",
             "gridcolor": "white",
             "linecolor": "white",
             "minorgridcolor": "white",
             "startlinecolor": "#2a3f5f"
            },
            "type": "carpet"
           }
          ],
          "choropleth": [
           {
            "colorbar": {
             "outlinewidth": 0,
             "ticks": ""
            },
            "type": "choropleth"
           }
          ],
          "contour": [
           {
            "colorbar": {
             "outlinewidth": 0,
             "ticks": ""
            },
            "colorscale": [
             [
              0,
              "#0d0887"
             ],
             [
              0.1111111111111111,
              "#46039f"
             ],
             [
              0.2222222222222222,
              "#7201a8"
             ],
             [
              0.3333333333333333,
              "#9c179e"
             ],
             [
              0.4444444444444444,
              "#bd3786"
             ],
             [
              0.5555555555555556,
              "#d8576b"
             ],
             [
              0.6666666666666666,
              "#ed7953"
             ],
             [
              0.7777777777777778,
              "#fb9f3a"
             ],
             [
              0.8888888888888888,
              "#fdca26"
             ],
             [
              1,
              "#f0f921"
             ]
            ],
            "type": "contour"
           }
          ],
          "contourcarpet": [
           {
            "colorbar": {
             "outlinewidth": 0,
             "ticks": ""
            },
            "type": "contourcarpet"
           }
          ],
          "heatmap": [
           {
            "colorbar": {
             "outlinewidth": 0,
             "ticks": ""
            },
            "colorscale": [
             [
              0,
              "#0d0887"
             ],
             [
              0.1111111111111111,
              "#46039f"
             ],
             [
              0.2222222222222222,
              "#7201a8"
             ],
             [
              0.3333333333333333,
              "#9c179e"
             ],
             [
              0.4444444444444444,
              "#bd3786"
             ],
             [
              0.5555555555555556,
              "#d8576b"
             ],
             [
              0.6666666666666666,
              "#ed7953"
             ],
             [
              0.7777777777777778,
              "#fb9f3a"
             ],
             [
              0.8888888888888888,
              "#fdca26"
             ],
             [
              1,
              "#f0f921"
             ]
            ],
            "type": "heatmap"
           }
          ],
          "heatmapgl": [
           {
            "colorbar": {
             "outlinewidth": 0,
             "ticks": ""
            },
            "colorscale": [
             [
              0,
              "#0d0887"
             ],
             [
              0.1111111111111111,
              "#46039f"
             ],
             [
              0.2222222222222222,
              "#7201a8"
             ],
             [
              0.3333333333333333,
              "#9c179e"
             ],
             [
              0.4444444444444444,
              "#bd3786"
             ],
             [
              0.5555555555555556,
              "#d8576b"
             ],
             [
              0.6666666666666666,
              "#ed7953"
             ],
             [
              0.7777777777777778,
              "#fb9f3a"
             ],
             [
              0.8888888888888888,
              "#fdca26"
             ],
             [
              1,
              "#f0f921"
             ]
            ],
            "type": "heatmapgl"
           }
          ],
          "histogram": [
           {
            "marker": {
             "pattern": {
              "fillmode": "overlay",
              "size": 10,
              "solidity": 0.2
             }
            },
            "type": "histogram"
           }
          ],
          "histogram2d": [
           {
            "colorbar": {
             "outlinewidth": 0,
             "ticks": ""
            },
            "colorscale": [
             [
              0,
              "#0d0887"
             ],
             [
              0.1111111111111111,
              "#46039f"
             ],
             [
              0.2222222222222222,
              "#7201a8"
             ],
             [
              0.3333333333333333,
              "#9c179e"
             ],
             [
              0.4444444444444444,
              "#bd3786"
             ],
             [
              0.5555555555555556,
              "#d8576b"
             ],
             [
              0.6666666666666666,
              "#ed7953"
             ],
             [
              0.7777777777777778,
              "#fb9f3a"
             ],
             [
              0.8888888888888888,
              "#fdca26"
             ],
             [
              1,
              "#f0f921"
             ]
            ],
            "type": "histogram2d"
           }
          ],
          "histogram2dcontour": [
           {
            "colorbar": {
             "outlinewidth": 0,
             "ticks": ""
            },
            "colorscale": [
             [
              0,
              "#0d0887"
             ],
             [
              0.1111111111111111,
              "#46039f"
             ],
             [
              0.2222222222222222,
              "#7201a8"
             ],
             [
              0.3333333333333333,
              "#9c179e"
             ],
             [
              0.4444444444444444,
              "#bd3786"
             ],
             [
              0.5555555555555556,
              "#d8576b"
             ],
             [
              0.6666666666666666,
              "#ed7953"
             ],
             [
              0.7777777777777778,
              "#fb9f3a"
             ],
             [
              0.8888888888888888,
              "#fdca26"
             ],
             [
              1,
              "#f0f921"
             ]
            ],
            "type": "histogram2dcontour"
           }
          ],
          "mesh3d": [
           {
            "colorbar": {
             "outlinewidth": 0,
             "ticks": ""
            },
            "type": "mesh3d"
           }
          ],
          "parcoords": [
           {
            "line": {
             "colorbar": {
              "outlinewidth": 0,
              "ticks": ""
             }
            },
            "type": "parcoords"
           }
          ],
          "pie": [
           {
            "automargin": true,
            "type": "pie"
           }
          ],
          "scatter": [
           {
            "fillpattern": {
             "fillmode": "overlay",
             "size": 10,
             "solidity": 0.2
            },
            "type": "scatter"
           }
          ],
          "scatter3d": [
           {
            "line": {
             "colorbar": {
              "outlinewidth": 0,
              "ticks": ""
             }
            },
            "marker": {
             "colorbar": {
              "outlinewidth": 0,
              "ticks": ""
             }
            },
            "type": "scatter3d"
           }
          ],
          "scattercarpet": [
           {
            "marker": {
             "colorbar": {
              "outlinewidth": 0,
              "ticks": ""
             }
            },
            "type": "scattercarpet"
           }
          ],
          "scattergeo": [
           {
            "marker": {
             "colorbar": {
              "outlinewidth": 0,
              "ticks": ""
             }
            },
            "type": "scattergeo"
           }
          ],
          "scattergl": [
           {
            "marker": {
             "colorbar": {
              "outlinewidth": 0,
              "ticks": ""
             }
            },
            "type": "scattergl"
           }
          ],
          "scattermapbox": [
           {
            "marker": {
             "colorbar": {
              "outlinewidth": 0,
              "ticks": ""
             }
            },
            "type": "scattermapbox"
           }
          ],
          "scatterpolar": [
           {
            "marker": {
             "colorbar": {
              "outlinewidth": 0,
              "ticks": ""
             }
            },
            "type": "scatterpolar"
           }
          ],
          "scatterpolargl": [
           {
            "marker": {
             "colorbar": {
              "outlinewidth": 0,
              "ticks": ""
             }
            },
            "type": "scatterpolargl"
           }
          ],
          "scatterternary": [
           {
            "marker": {
             "colorbar": {
              "outlinewidth": 0,
              "ticks": ""
             }
            },
            "type": "scatterternary"
           }
          ],
          "surface": [
           {
            "colorbar": {
             "outlinewidth": 0,
             "ticks": ""
            },
            "colorscale": [
             [
              0,
              "#0d0887"
             ],
             [
              0.1111111111111111,
              "#46039f"
             ],
             [
              0.2222222222222222,
              "#7201a8"
             ],
             [
              0.3333333333333333,
              "#9c179e"
             ],
             [
              0.4444444444444444,
              "#bd3786"
             ],
             [
              0.5555555555555556,
              "#d8576b"
             ],
             [
              0.6666666666666666,
              "#ed7953"
             ],
             [
              0.7777777777777778,
              "#fb9f3a"
             ],
             [
              0.8888888888888888,
              "#fdca26"
             ],
             [
              1,
              "#f0f921"
             ]
            ],
            "type": "surface"
           }
          ],
          "table": [
           {
            "cells": {
             "fill": {
              "color": "#EBF0F8"
             },
             "line": {
              "color": "white"
             }
            },
            "header": {
             "fill": {
              "color": "#C8D4E3"
             },
             "line": {
              "color": "white"
             }
            },
            "type": "table"
           }
          ]
         },
         "layout": {
          "annotationdefaults": {
           "arrowcolor": "#2a3f5f",
           "arrowhead": 0,
           "arrowwidth": 1
          },
          "autotypenumbers": "strict",
          "coloraxis": {
           "colorbar": {
            "outlinewidth": 0,
            "ticks": ""
           }
          },
          "colorscale": {
           "diverging": [
            [
             0,
             "#8e0152"
            ],
            [
             0.1,
             "#c51b7d"
            ],
            [
             0.2,
             "#de77ae"
            ],
            [
             0.3,
             "#f1b6da"
            ],
            [
             0.4,
             "#fde0ef"
            ],
            [
             0.5,
             "#f7f7f7"
            ],
            [
             0.6,
             "#e6f5d0"
            ],
            [
             0.7,
             "#b8e186"
            ],
            [
             0.8,
             "#7fbc41"
            ],
            [
             0.9,
             "#4d9221"
            ],
            [
             1,
             "#276419"
            ]
           ],
           "sequential": [
            [
             0,
             "#0d0887"
            ],
            [
             0.1111111111111111,
             "#46039f"
            ],
            [
             0.2222222222222222,
             "#7201a8"
            ],
            [
             0.3333333333333333,
             "#9c179e"
            ],
            [
             0.4444444444444444,
             "#bd3786"
            ],
            [
             0.5555555555555556,
             "#d8576b"
            ],
            [
             0.6666666666666666,
             "#ed7953"
            ],
            [
             0.7777777777777778,
             "#fb9f3a"
            ],
            [
             0.8888888888888888,
             "#fdca26"
            ],
            [
             1,
             "#f0f921"
            ]
           ],
           "sequentialminus": [
            [
             0,
             "#0d0887"
            ],
            [
             0.1111111111111111,
             "#46039f"
            ],
            [
             0.2222222222222222,
             "#7201a8"
            ],
            [
             0.3333333333333333,
             "#9c179e"
            ],
            [
             0.4444444444444444,
             "#bd3786"
            ],
            [
             0.5555555555555556,
             "#d8576b"
            ],
            [
             0.6666666666666666,
             "#ed7953"
            ],
            [
             0.7777777777777778,
             "#fb9f3a"
            ],
            [
             0.8888888888888888,
             "#fdca26"
            ],
            [
             1,
             "#f0f921"
            ]
           ]
          },
          "colorway": [
           "#636efa",
           "#EF553B",
           "#00cc96",
           "#ab63fa",
           "#FFA15A",
           "#19d3f3",
           "#FF6692",
           "#B6E880",
           "#FF97FF",
           "#FECB52"
          ],
          "font": {
           "color": "#2a3f5f"
          },
          "geo": {
           "bgcolor": "white",
           "lakecolor": "white",
           "landcolor": "#E5ECF6",
           "showlakes": true,
           "showland": true,
           "subunitcolor": "white"
          },
          "hoverlabel": {
           "align": "left"
          },
          "hovermode": "closest",
          "mapbox": {
           "style": "light"
          },
          "paper_bgcolor": "white",
          "plot_bgcolor": "#E5ECF6",
          "polar": {
           "angularaxis": {
            "gridcolor": "white",
            "linecolor": "white",
            "ticks": ""
           },
           "bgcolor": "#E5ECF6",
           "radialaxis": {
            "gridcolor": "white",
            "linecolor": "white",
            "ticks": ""
           }
          },
          "scene": {
           "xaxis": {
            "backgroundcolor": "#E5ECF6",
            "gridcolor": "white",
            "gridwidth": 2,
            "linecolor": "white",
            "showbackground": true,
            "ticks": "",
            "zerolinecolor": "white"
           },
           "yaxis": {
            "backgroundcolor": "#E5ECF6",
            "gridcolor": "white",
            "gridwidth": 2,
            "linecolor": "white",
            "showbackground": true,
            "ticks": "",
            "zerolinecolor": "white"
           },
           "zaxis": {
            "backgroundcolor": "#E5ECF6",
            "gridcolor": "white",
            "gridwidth": 2,
            "linecolor": "white",
            "showbackground": true,
            "ticks": "",
            "zerolinecolor": "white"
           }
          },
          "shapedefaults": {
           "line": {
            "color": "#2a3f5f"
           }
          },
          "ternary": {
           "aaxis": {
            "gridcolor": "white",
            "linecolor": "white",
            "ticks": ""
           },
           "baxis": {
            "gridcolor": "white",
            "linecolor": "white",
            "ticks": ""
           },
           "bgcolor": "#E5ECF6",
           "caxis": {
            "gridcolor": "white",
            "linecolor": "white",
            "ticks": ""
           }
          },
          "title": {
           "x": 0.05
          },
          "xaxis": {
           "automargin": true,
           "gridcolor": "white",
           "linecolor": "white",
           "ticks": "",
           "title": {
            "standoff": 15
           },
           "zerolinecolor": "white",
           "zerolinewidth": 2
          },
          "yaxis": {
           "automargin": true,
           "gridcolor": "white",
           "linecolor": "white",
           "ticks": "",
           "title": {
            "standoff": 15
           },
           "zerolinecolor": "white",
           "zerolinewidth": 2
          }
         }
        },
        "title": {
         "text": "Visualization of Wine Data: Count, Users, and Ratings by Country"
        },
        "xaxis": {
         "anchor": "y",
         "domain": [
          0,
          1
         ],
         "title": {
          "text": "Number of wines"
         }
        },
        "yaxis": {
         "anchor": "x",
         "domain": [
          0,
          1
         ],
         "title": {
          "text": "Average Rating"
         }
        }
       }
      }
     },
     "metadata": {},
     "output_type": "display_data"
    }
   ],
   "source": [
    "import plotly.express as px\n",
    "\n",
    "fig = px.scatter(country_priority_df, x = \"users_count\", y = \"average_rating\", size = \"wines_count\", color=\"country\", title = \"Visualization of Wine Data: Count, Users, and Ratings by Country\")\n",
    "fig.update_layout(xaxis_title=\"Number of wines\", yaxis_title=\"Average Rating\", legend_title_text=\"Country\")\n",
    "\n",
    "fig.show()\n",
    "\n"
   ]
  },
  {
   "cell_type": "code",
   "execution_count": 31,
   "metadata": {},
   "outputs": [
    {
     "data": {
      "text/html": [
       "<div>\n",
       "<style scoped>\n",
       "    .dataframe tbody tr th:only-of-type {\n",
       "        vertical-align: middle;\n",
       "    }\n",
       "\n",
       "    .dataframe tbody tr th {\n",
       "        vertical-align: top;\n",
       "    }\n",
       "\n",
       "    .dataframe thead th {\n",
       "        text-align: right;\n",
       "    }\n",
       "</style>\n",
       "<table border=\"1\" class=\"dataframe\">\n",
       "  <thead>\n",
       "    <tr style=\"text-align: right;\">\n",
       "      <th></th>\n",
       "      <th>country</th>\n",
       "      <th>average_rating</th>\n",
       "      <th>wines_count</th>\n",
       "      <th>users_count</th>\n",
       "      <th>user_wine_ratio</th>\n",
       "    </tr>\n",
       "  </thead>\n",
       "  <tbody>\n",
       "    <tr>\n",
       "      <th>0</th>\n",
       "      <td>États-Unis</td>\n",
       "      <td>4.490541</td>\n",
       "      <td>204060</td>\n",
       "      <td>12273684</td>\n",
       "      <td>60.147427</td>\n",
       "    </tr>\n",
       "    <tr>\n",
       "      <th>1</th>\n",
       "      <td>Suisse</td>\n",
       "      <td>4.350000</td>\n",
       "      <td>33656</td>\n",
       "      <td>1601799</td>\n",
       "      <td>47.593267</td>\n",
       "    </tr>\n",
       "    <tr>\n",
       "      <th>2</th>\n",
       "      <td>Roumanie</td>\n",
       "      <td>4.400000</td>\n",
       "      <td>6841</td>\n",
       "      <td>228185</td>\n",
       "      <td>33.355504</td>\n",
       "    </tr>\n",
       "    <tr>\n",
       "      <th>3</th>\n",
       "      <td>Portugal</td>\n",
       "      <td>4.435714</td>\n",
       "      <td>39847</td>\n",
       "      <td>1123535</td>\n",
       "      <td>28.196226</td>\n",
       "    </tr>\n",
       "    <tr>\n",
       "      <th>4</th>\n",
       "      <td>Israël</td>\n",
       "      <td>4.500000</td>\n",
       "      <td>5435</td>\n",
       "      <td>150549</td>\n",
       "      <td>27.699908</td>\n",
       "    </tr>\n",
       "    <tr>\n",
       "      <th>5</th>\n",
       "      <td>Espagne</td>\n",
       "      <td>4.443617</td>\n",
       "      <td>102662</td>\n",
       "      <td>2264396</td>\n",
       "      <td>22.056808</td>\n",
       "    </tr>\n",
       "    <tr>\n",
       "      <th>6</th>\n",
       "      <td>Argentine</td>\n",
       "      <td>4.417391</td>\n",
       "      <td>36121</td>\n",
       "      <td>629532</td>\n",
       "      <td>17.428421</td>\n",
       "    </tr>\n",
       "    <tr>\n",
       "      <th>7</th>\n",
       "      <td>Italie</td>\n",
       "      <td>4.430026</td>\n",
       "      <td>274658</td>\n",
       "      <td>4270717</td>\n",
       "      <td>15.549218</td>\n",
       "    </tr>\n",
       "    <tr>\n",
       "      <th>8</th>\n",
       "      <td>Allemagne</td>\n",
       "      <td>4.500000</td>\n",
       "      <td>164533</td>\n",
       "      <td>2549989</td>\n",
       "      <td>15.498344</td>\n",
       "    </tr>\n",
       "    <tr>\n",
       "      <th>9</th>\n",
       "      <td>France</td>\n",
       "      <td>4.447130</td>\n",
       "      <td>422503</td>\n",
       "      <td>5973301</td>\n",
       "      <td>14.137890</td>\n",
       "    </tr>\n",
       "    <tr>\n",
       "      <th>10</th>\n",
       "      <td>Australie</td>\n",
       "      <td>4.458333</td>\n",
       "      <td>90954</td>\n",
       "      <td>1022965</td>\n",
       "      <td>11.247059</td>\n",
       "    </tr>\n",
       "    <tr>\n",
       "      <th>11</th>\n",
       "      <td>Croatie</td>\n",
       "      <td>4.300000</td>\n",
       "      <td>5880</td>\n",
       "      <td>64223</td>\n",
       "      <td>10.922279</td>\n",
       "    </tr>\n",
       "    <tr>\n",
       "      <th>12</th>\n",
       "      <td>Grèce</td>\n",
       "      <td>4.400000</td>\n",
       "      <td>9581</td>\n",
       "      <td>95693</td>\n",
       "      <td>9.987788</td>\n",
       "    </tr>\n",
       "    <tr>\n",
       "      <th>13</th>\n",
       "      <td>Afrique du Sud</td>\n",
       "      <td>4.459091</td>\n",
       "      <td>30857</td>\n",
       "      <td>269649</td>\n",
       "      <td>8.738665</td>\n",
       "    </tr>\n",
       "    <tr>\n",
       "      <th>14</th>\n",
       "      <td>Chili</td>\n",
       "      <td>4.431250</td>\n",
       "      <td>41191</td>\n",
       "      <td>326757</td>\n",
       "      <td>7.932728</td>\n",
       "    </tr>\n",
       "    <tr>\n",
       "      <th>15</th>\n",
       "      <td>Hongrie</td>\n",
       "      <td>4.472727</td>\n",
       "      <td>16605</td>\n",
       "      <td>102235</td>\n",
       "      <td>6.156880</td>\n",
       "    </tr>\n",
       "    <tr>\n",
       "      <th>16</th>\n",
       "      <td>Moldavie</td>\n",
       "      <td>4.480000</td>\n",
       "      <td>5055</td>\n",
       "      <td>13583</td>\n",
       "      <td>2.687043</td>\n",
       "    </tr>\n",
       "  </tbody>\n",
       "</table>\n",
       "</div>"
      ],
      "text/plain": [
       "           country  average_rating  wines_count  users_count  user_wine_ratio\n",
       "0       États-Unis        4.490541       204060     12273684        60.147427\n",
       "1           Suisse        4.350000        33656      1601799        47.593267\n",
       "2         Roumanie        4.400000         6841       228185        33.355504\n",
       "3         Portugal        4.435714        39847      1123535        28.196226\n",
       "4           Israël        4.500000         5435       150549        27.699908\n",
       "5          Espagne        4.443617       102662      2264396        22.056808\n",
       "6        Argentine        4.417391        36121       629532        17.428421\n",
       "7           Italie        4.430026       274658      4270717        15.549218\n",
       "8        Allemagne        4.500000       164533      2549989        15.498344\n",
       "9           France        4.447130       422503      5973301        14.137890\n",
       "10       Australie        4.458333        90954      1022965        11.247059\n",
       "11         Croatie        4.300000         5880        64223        10.922279\n",
       "12           Grèce        4.400000         9581        95693         9.987788\n",
       "13  Afrique du Sud        4.459091        30857       269649         8.738665\n",
       "14           Chili        4.431250        41191       326757         7.932728\n",
       "15         Hongrie        4.472727        16605       102235         6.156880\n",
       "16        Moldavie        4.480000         5055        13583         2.687043"
      ]
     },
     "execution_count": 31,
     "metadata": {},
     "output_type": "execute_result"
    }
   ],
   "source": [
    "country_priority_new = \"\"\"\n",
    "SELECT countries.name AS country,\n",
    "       AVG(wines.ratings_average) AS average_rating,\n",
    "       wines_count,\n",
    "       users_count,\n",
    "       CAST(users_count AS REAL) / CAST(wines_count AS REAL) AS user_wine_ratio\n",
    "FROM wines\n",
    "JOIN regions ON wines.region_id = regions.id \n",
    "JOIN countries ON regions.country_code = countries.code\n",
    "GROUP BY countries.name\n",
    "ORDER BY user_wine_ratio DESC;\n",
    "\"\"\"\n",
    "\n",
    "country_priority_new_df = pd.read_sql_query(country_priority_new, conn)\n",
    "\n",
    "country_priority_new_df"
   ]
  },
  {
   "cell_type": "markdown",
   "metadata": {},
   "source": [
    "What about the vintages?"
   ]
  },
  {
   "cell_type": "code",
   "execution_count": 32,
   "metadata": {},
   "outputs": [
    {
     "data": {
      "text/html": [
       "<div>\n",
       "<style scoped>\n",
       "    .dataframe tbody tr th:only-of-type {\n",
       "        vertical-align: middle;\n",
       "    }\n",
       "\n",
       "    .dataframe tbody tr th {\n",
       "        vertical-align: top;\n",
       "    }\n",
       "\n",
       "    .dataframe thead th {\n",
       "        text-align: right;\n",
       "    }\n",
       "</style>\n",
       "<table border=\"1\" class=\"dataframe\">\n",
       "  <thead>\n",
       "    <tr style=\"text-align: right;\">\n",
       "      <th></th>\n",
       "      <th>country</th>\n",
       "      <th>average_rating</th>\n",
       "      <th>wines_count</th>\n",
       "      <th>users_count</th>\n",
       "      <th>user_wine_ratio</th>\n",
       "    </tr>\n",
       "  </thead>\n",
       "  <tbody>\n",
       "    <tr>\n",
       "      <th>0</th>\n",
       "      <td>États-Unis</td>\n",
       "      <td>3.698214</td>\n",
       "      <td>204060</td>\n",
       "      <td>12273684</td>\n",
       "      <td>60.147427</td>\n",
       "    </tr>\n",
       "    <tr>\n",
       "      <th>1</th>\n",
       "      <td>Suisse</td>\n",
       "      <td>2.200000</td>\n",
       "      <td>33656</td>\n",
       "      <td>1601799</td>\n",
       "      <td>47.593267</td>\n",
       "    </tr>\n",
       "    <tr>\n",
       "      <th>2</th>\n",
       "      <td>Roumanie</td>\n",
       "      <td>4.500000</td>\n",
       "      <td>6841</td>\n",
       "      <td>228185</td>\n",
       "      <td>33.355504</td>\n",
       "    </tr>\n",
       "    <tr>\n",
       "      <th>3</th>\n",
       "      <td>Portugal</td>\n",
       "      <td>3.932258</td>\n",
       "      <td>39847</td>\n",
       "      <td>1123535</td>\n",
       "      <td>28.196226</td>\n",
       "    </tr>\n",
       "    <tr>\n",
       "      <th>4</th>\n",
       "      <td>Israël</td>\n",
       "      <td>0.000000</td>\n",
       "      <td>5435</td>\n",
       "      <td>150549</td>\n",
       "      <td>27.699908</td>\n",
       "    </tr>\n",
       "    <tr>\n",
       "      <th>5</th>\n",
       "      <td>Espagne</td>\n",
       "      <td>3.380916</td>\n",
       "      <td>102662</td>\n",
       "      <td>2264396</td>\n",
       "      <td>22.056808</td>\n",
       "    </tr>\n",
       "    <tr>\n",
       "      <th>6</th>\n",
       "      <td>Argentine</td>\n",
       "      <td>4.321429</td>\n",
       "      <td>36121</td>\n",
       "      <td>629532</td>\n",
       "      <td>17.428421</td>\n",
       "    </tr>\n",
       "    <tr>\n",
       "      <th>7</th>\n",
       "      <td>Italie</td>\n",
       "      <td>3.630266</td>\n",
       "      <td>274658</td>\n",
       "      <td>4270717</td>\n",
       "      <td>15.549218</td>\n",
       "    </tr>\n",
       "    <tr>\n",
       "      <th>8</th>\n",
       "      <td>Allemagne</td>\n",
       "      <td>1.695833</td>\n",
       "      <td>164533</td>\n",
       "      <td>2549989</td>\n",
       "      <td>15.498344</td>\n",
       "    </tr>\n",
       "    <tr>\n",
       "      <th>9</th>\n",
       "      <td>France</td>\n",
       "      <td>3.065049</td>\n",
       "      <td>422503</td>\n",
       "      <td>5973301</td>\n",
       "      <td>14.137890</td>\n",
       "    </tr>\n",
       "    <tr>\n",
       "      <th>10</th>\n",
       "      <td>Australie</td>\n",
       "      <td>2.831250</td>\n",
       "      <td>90954</td>\n",
       "      <td>1022965</td>\n",
       "      <td>11.247059</td>\n",
       "    </tr>\n",
       "    <tr>\n",
       "      <th>11</th>\n",
       "      <td>Croatie</td>\n",
       "      <td>4.400000</td>\n",
       "      <td>5880</td>\n",
       "      <td>64223</td>\n",
       "      <td>10.922279</td>\n",
       "    </tr>\n",
       "    <tr>\n",
       "      <th>12</th>\n",
       "      <td>Grèce</td>\n",
       "      <td>2.300000</td>\n",
       "      <td>9581</td>\n",
       "      <td>95693</td>\n",
       "      <td>9.987788</td>\n",
       "    </tr>\n",
       "    <tr>\n",
       "      <th>13</th>\n",
       "      <td>Afrique du Sud</td>\n",
       "      <td>3.656250</td>\n",
       "      <td>30857</td>\n",
       "      <td>269649</td>\n",
       "      <td>8.738665</td>\n",
       "    </tr>\n",
       "    <tr>\n",
       "      <th>14</th>\n",
       "      <td>Chili</td>\n",
       "      <td>4.120000</td>\n",
       "      <td>41191</td>\n",
       "      <td>326757</td>\n",
       "      <td>7.932728</td>\n",
       "    </tr>\n",
       "    <tr>\n",
       "      <th>15</th>\n",
       "      <td>Hongrie</td>\n",
       "      <td>3.171429</td>\n",
       "      <td>16605</td>\n",
       "      <td>102235</td>\n",
       "      <td>6.156880</td>\n",
       "    </tr>\n",
       "    <tr>\n",
       "      <th>16</th>\n",
       "      <td>Moldavie</td>\n",
       "      <td>3.871429</td>\n",
       "      <td>5055</td>\n",
       "      <td>13583</td>\n",
       "      <td>2.687043</td>\n",
       "    </tr>\n",
       "  </tbody>\n",
       "</table>\n",
       "</div>"
      ],
      "text/plain": [
       "           country  average_rating  wines_count  users_count  user_wine_ratio\n",
       "0       États-Unis        3.698214       204060     12273684        60.147427\n",
       "1           Suisse        2.200000        33656      1601799        47.593267\n",
       "2         Roumanie        4.500000         6841       228185        33.355504\n",
       "3         Portugal        3.932258        39847      1123535        28.196226\n",
       "4           Israël        0.000000         5435       150549        27.699908\n",
       "5          Espagne        3.380916       102662      2264396        22.056808\n",
       "6        Argentine        4.321429        36121       629532        17.428421\n",
       "7           Italie        3.630266       274658      4270717        15.549218\n",
       "8        Allemagne        1.695833       164533      2549989        15.498344\n",
       "9           France        3.065049       422503      5973301        14.137890\n",
       "10       Australie        2.831250        90954      1022965        11.247059\n",
       "11         Croatie        4.400000         5880        64223        10.922279\n",
       "12           Grèce        2.300000         9581        95693         9.987788\n",
       "13  Afrique du Sud        3.656250        30857       269649         8.738665\n",
       "14           Chili        4.120000        41191       326757         7.932728\n",
       "15         Hongrie        3.171429        16605       102235         6.156880\n",
       "16        Moldavie        3.871429         5055        13583         2.687043"
      ]
     },
     "execution_count": 32,
     "metadata": {},
     "output_type": "execute_result"
    }
   ],
   "source": [
    "country_priority_vint = \"\"\"SELECT countries.name AS country, AVG(vintages.ratings_average) AS average_rating, wines_count, users_count, CAST(users_count AS REAL) / CAST(wines_count AS REAL) AS user_wine_ratio from vintages\n",
    "JOIN wines ON vintages.wine_id = wines.id\n",
    "JOIN regions ON wines.region_id = regions.id \n",
    "JOIN countries ON regions.country_code = countries.code\n",
    "GROUP BY countries.name\n",
    "ORDER BY user_wine_ratio DESC;\n",
    "\"\"\"\n",
    "\n",
    "country_priority_vint_df = pd.read_sql_query(country_priority_vint, conn)\n",
    "\n",
    "country_priority_vint_df"
   ]
  },
  {
   "cell_type": "code",
   "execution_count": 33,
   "metadata": {},
   "outputs": [
    {
     "data": {
      "application/vnd.plotly.v1+json": {
       "config": {
        "plotlyServerURL": "https://plot.ly"
       },
       "data": [
        {
         "hovertemplate": "country=États-Unis<br>users_count=%{x}<br>average_rating=%{y}<br>wines_count=%{marker.size}<extra></extra>",
         "legendgroup": "États-Unis",
         "marker": {
          "color": "#636efa",
          "size": [
           204060
          ],
          "sizemode": "area",
          "sizeref": 1056.2575,
          "symbol": "circle"
         },
         "mode": "markers",
         "name": "États-Unis",
         "orientation": "v",
         "showlegend": true,
         "type": "scatter",
         "x": [
          12273684
         ],
         "xaxis": "x",
         "y": [
          3.6982142857142857
         ],
         "yaxis": "y"
        },
        {
         "hovertemplate": "country=Suisse<br>users_count=%{x}<br>average_rating=%{y}<br>wines_count=%{marker.size}<extra></extra>",
         "legendgroup": "Suisse",
         "marker": {
          "color": "#EF553B",
          "size": [
           33656
          ],
          "sizemode": "area",
          "sizeref": 1056.2575,
          "symbol": "circle"
         },
         "mode": "markers",
         "name": "Suisse",
         "orientation": "v",
         "showlegend": true,
         "type": "scatter",
         "x": [
          1601799
         ],
         "xaxis": "x",
         "y": [
          2.2
         ],
         "yaxis": "y"
        },
        {
         "hovertemplate": "country=Roumanie<br>users_count=%{x}<br>average_rating=%{y}<br>wines_count=%{marker.size}<extra></extra>",
         "legendgroup": "Roumanie",
         "marker": {
          "color": "#00cc96",
          "size": [
           6841
          ],
          "sizemode": "area",
          "sizeref": 1056.2575,
          "symbol": "circle"
         },
         "mode": "markers",
         "name": "Roumanie",
         "orientation": "v",
         "showlegend": true,
         "type": "scatter",
         "x": [
          228185
         ],
         "xaxis": "x",
         "y": [
          4.5
         ],
         "yaxis": "y"
        },
        {
         "hovertemplate": "country=Portugal<br>users_count=%{x}<br>average_rating=%{y}<br>wines_count=%{marker.size}<extra></extra>",
         "legendgroup": "Portugal",
         "marker": {
          "color": "#ab63fa",
          "size": [
           39847
          ],
          "sizemode": "area",
          "sizeref": 1056.2575,
          "symbol": "circle"
         },
         "mode": "markers",
         "name": "Portugal",
         "orientation": "v",
         "showlegend": true,
         "type": "scatter",
         "x": [
          1123535
         ],
         "xaxis": "x",
         "y": [
          3.9322580645161294
         ],
         "yaxis": "y"
        },
        {
         "hovertemplate": "country=Israël<br>users_count=%{x}<br>average_rating=%{y}<br>wines_count=%{marker.size}<extra></extra>",
         "legendgroup": "Israël",
         "marker": {
          "color": "#FFA15A",
          "size": [
           5435
          ],
          "sizemode": "area",
          "sizeref": 1056.2575,
          "symbol": "circle"
         },
         "mode": "markers",
         "name": "Israël",
         "orientation": "v",
         "showlegend": true,
         "type": "scatter",
         "x": [
          150549
         ],
         "xaxis": "x",
         "y": [
          0
         ],
         "yaxis": "y"
        },
        {
         "hovertemplate": "country=Espagne<br>users_count=%{x}<br>average_rating=%{y}<br>wines_count=%{marker.size}<extra></extra>",
         "legendgroup": "Espagne",
         "marker": {
          "color": "#19d3f3",
          "size": [
           102662
          ],
          "sizemode": "area",
          "sizeref": 1056.2575,
          "symbol": "circle"
         },
         "mode": "markers",
         "name": "Espagne",
         "orientation": "v",
         "showlegend": true,
         "type": "scatter",
         "x": [
          2264396
         ],
         "xaxis": "x",
         "y": [
          3.3809160305343515
         ],
         "yaxis": "y"
        },
        {
         "hovertemplate": "country=Argentine<br>users_count=%{x}<br>average_rating=%{y}<br>wines_count=%{marker.size}<extra></extra>",
         "legendgroup": "Argentine",
         "marker": {
          "color": "#FF6692",
          "size": [
           36121
          ],
          "sizemode": "area",
          "sizeref": 1056.2575,
          "symbol": "circle"
         },
         "mode": "markers",
         "name": "Argentine",
         "orientation": "v",
         "showlegend": true,
         "type": "scatter",
         "x": [
          629532
         ],
         "xaxis": "x",
         "y": [
          4.321428571428571
         ],
         "yaxis": "y"
        },
        {
         "hovertemplate": "country=Italie<br>users_count=%{x}<br>average_rating=%{y}<br>wines_count=%{marker.size}<extra></extra>",
         "legendgroup": "Italie",
         "marker": {
          "color": "#B6E880",
          "size": [
           274658
          ],
          "sizemode": "area",
          "sizeref": 1056.2575,
          "symbol": "circle"
         },
         "mode": "markers",
         "name": "Italie",
         "orientation": "v",
         "showlegend": true,
         "type": "scatter",
         "x": [
          4270717
         ],
         "xaxis": "x",
         "y": [
          3.6302660753880267
         ],
         "yaxis": "y"
        },
        {
         "hovertemplate": "country=Allemagne<br>users_count=%{x}<br>average_rating=%{y}<br>wines_count=%{marker.size}<extra></extra>",
         "legendgroup": "Allemagne",
         "marker": {
          "color": "#FF97FF",
          "size": [
           164533
          ],
          "sizemode": "area",
          "sizeref": 1056.2575,
          "symbol": "circle"
         },
         "mode": "markers",
         "name": "Allemagne",
         "orientation": "v",
         "showlegend": true,
         "type": "scatter",
         "x": [
          2549989
         ],
         "xaxis": "x",
         "y": [
          1.6958333333333335
         ],
         "yaxis": "y"
        },
        {
         "hovertemplate": "country=France<br>users_count=%{x}<br>average_rating=%{y}<br>wines_count=%{marker.size}<extra></extra>",
         "legendgroup": "France",
         "marker": {
          "color": "#FECB52",
          "size": [
           422503
          ],
          "sizemode": "area",
          "sizeref": 1056.2575,
          "symbol": "circle"
         },
         "mode": "markers",
         "name": "France",
         "orientation": "v",
         "showlegend": true,
         "type": "scatter",
         "x": [
          5973301
         ],
         "xaxis": "x",
         "y": [
          3.0650485436893207
         ],
         "yaxis": "y"
        },
        {
         "hovertemplate": "country=Australie<br>users_count=%{x}<br>average_rating=%{y}<br>wines_count=%{marker.size}<extra></extra>",
         "legendgroup": "Australie",
         "marker": {
          "color": "#636efa",
          "size": [
           90954
          ],
          "sizemode": "area",
          "sizeref": 1056.2575,
          "symbol": "circle"
         },
         "mode": "markers",
         "name": "Australie",
         "orientation": "v",
         "showlegend": true,
         "type": "scatter",
         "x": [
          1022965
         ],
         "xaxis": "x",
         "y": [
          2.8312500000000003
         ],
         "yaxis": "y"
        },
        {
         "hovertemplate": "country=Croatie<br>users_count=%{x}<br>average_rating=%{y}<br>wines_count=%{marker.size}<extra></extra>",
         "legendgroup": "Croatie",
         "marker": {
          "color": "#EF553B",
          "size": [
           5880
          ],
          "sizemode": "area",
          "sizeref": 1056.2575,
          "symbol": "circle"
         },
         "mode": "markers",
         "name": "Croatie",
         "orientation": "v",
         "showlegend": true,
         "type": "scatter",
         "x": [
          64223
         ],
         "xaxis": "x",
         "y": [
          4.4
         ],
         "yaxis": "y"
        },
        {
         "hovertemplate": "country=Grèce<br>users_count=%{x}<br>average_rating=%{y}<br>wines_count=%{marker.size}<extra></extra>",
         "legendgroup": "Grèce",
         "marker": {
          "color": "#00cc96",
          "size": [
           9581
          ],
          "sizemode": "area",
          "sizeref": 1056.2575,
          "symbol": "circle"
         },
         "mode": "markers",
         "name": "Grèce",
         "orientation": "v",
         "showlegend": true,
         "type": "scatter",
         "x": [
          95693
         ],
         "xaxis": "x",
         "y": [
          2.3
         ],
         "yaxis": "y"
        },
        {
         "hovertemplate": "country=Afrique du Sud<br>users_count=%{x}<br>average_rating=%{y}<br>wines_count=%{marker.size}<extra></extra>",
         "legendgroup": "Afrique du Sud",
         "marker": {
          "color": "#ab63fa",
          "size": [
           30857
          ],
          "sizemode": "area",
          "sizeref": 1056.2575,
          "symbol": "circle"
         },
         "mode": "markers",
         "name": "Afrique du Sud",
         "orientation": "v",
         "showlegend": true,
         "type": "scatter",
         "x": [
          269649
         ],
         "xaxis": "x",
         "y": [
          3.65625
         ],
         "yaxis": "y"
        },
        {
         "hovertemplate": "country=Chili<br>users_count=%{x}<br>average_rating=%{y}<br>wines_count=%{marker.size}<extra></extra>",
         "legendgroup": "Chili",
         "marker": {
          "color": "#FFA15A",
          "size": [
           41191
          ],
          "sizemode": "area",
          "sizeref": 1056.2575,
          "symbol": "circle"
         },
         "mode": "markers",
         "name": "Chili",
         "orientation": "v",
         "showlegend": true,
         "type": "scatter",
         "x": [
          326757
         ],
         "xaxis": "x",
         "y": [
          4.12
         ],
         "yaxis": "y"
        },
        {
         "hovertemplate": "country=Hongrie<br>users_count=%{x}<br>average_rating=%{y}<br>wines_count=%{marker.size}<extra></extra>",
         "legendgroup": "Hongrie",
         "marker": {
          "color": "#19d3f3",
          "size": [
           16605
          ],
          "sizemode": "area",
          "sizeref": 1056.2575,
          "symbol": "circle"
         },
         "mode": "markers",
         "name": "Hongrie",
         "orientation": "v",
         "showlegend": true,
         "type": "scatter",
         "x": [
          102235
         ],
         "xaxis": "x",
         "y": [
          3.1714285714285717
         ],
         "yaxis": "y"
        },
        {
         "hovertemplate": "country=Moldavie<br>users_count=%{x}<br>average_rating=%{y}<br>wines_count=%{marker.size}<extra></extra>",
         "legendgroup": "Moldavie",
         "marker": {
          "color": "#FF6692",
          "size": [
           5055
          ],
          "sizemode": "area",
          "sizeref": 1056.2575,
          "symbol": "circle"
         },
         "mode": "markers",
         "name": "Moldavie",
         "orientation": "v",
         "showlegend": true,
         "type": "scatter",
         "x": [
          13583
         ],
         "xaxis": "x",
         "y": [
          3.8714285714285714
         ],
         "yaxis": "y"
        }
       ],
       "layout": {
        "legend": {
         "itemsizing": "constant",
         "title": {
          "text": "Country"
         },
         "tracegroupgap": 0
        },
        "template": {
         "data": {
          "bar": [
           {
            "error_x": {
             "color": "#2a3f5f"
            },
            "error_y": {
             "color": "#2a3f5f"
            },
            "marker": {
             "line": {
              "color": "#E5ECF6",
              "width": 0.5
             },
             "pattern": {
              "fillmode": "overlay",
              "size": 10,
              "solidity": 0.2
             }
            },
            "type": "bar"
           }
          ],
          "barpolar": [
           {
            "marker": {
             "line": {
              "color": "#E5ECF6",
              "width": 0.5
             },
             "pattern": {
              "fillmode": "overlay",
              "size": 10,
              "solidity": 0.2
             }
            },
            "type": "barpolar"
           }
          ],
          "carpet": [
           {
            "aaxis": {
             "endlinecolor": "#2a3f5f",
             "gridcolor": "white",
             "linecolor": "white",
             "minorgridcolor": "white",
             "startlinecolor": "#2a3f5f"
            },
            "baxis": {
             "endlinecolor": "#2a3f5f",
             "gridcolor": "white",
             "linecolor": "white",
             "minorgridcolor": "white",
             "startlinecolor": "#2a3f5f"
            },
            "type": "carpet"
           }
          ],
          "choropleth": [
           {
            "colorbar": {
             "outlinewidth": 0,
             "ticks": ""
            },
            "type": "choropleth"
           }
          ],
          "contour": [
           {
            "colorbar": {
             "outlinewidth": 0,
             "ticks": ""
            },
            "colorscale": [
             [
              0,
              "#0d0887"
             ],
             [
              0.1111111111111111,
              "#46039f"
             ],
             [
              0.2222222222222222,
              "#7201a8"
             ],
             [
              0.3333333333333333,
              "#9c179e"
             ],
             [
              0.4444444444444444,
              "#bd3786"
             ],
             [
              0.5555555555555556,
              "#d8576b"
             ],
             [
              0.6666666666666666,
              "#ed7953"
             ],
             [
              0.7777777777777778,
              "#fb9f3a"
             ],
             [
              0.8888888888888888,
              "#fdca26"
             ],
             [
              1,
              "#f0f921"
             ]
            ],
            "type": "contour"
           }
          ],
          "contourcarpet": [
           {
            "colorbar": {
             "outlinewidth": 0,
             "ticks": ""
            },
            "type": "contourcarpet"
           }
          ],
          "heatmap": [
           {
            "colorbar": {
             "outlinewidth": 0,
             "ticks": ""
            },
            "colorscale": [
             [
              0,
              "#0d0887"
             ],
             [
              0.1111111111111111,
              "#46039f"
             ],
             [
              0.2222222222222222,
              "#7201a8"
             ],
             [
              0.3333333333333333,
              "#9c179e"
             ],
             [
              0.4444444444444444,
              "#bd3786"
             ],
             [
              0.5555555555555556,
              "#d8576b"
             ],
             [
              0.6666666666666666,
              "#ed7953"
             ],
             [
              0.7777777777777778,
              "#fb9f3a"
             ],
             [
              0.8888888888888888,
              "#fdca26"
             ],
             [
              1,
              "#f0f921"
             ]
            ],
            "type": "heatmap"
           }
          ],
          "heatmapgl": [
           {
            "colorbar": {
             "outlinewidth": 0,
             "ticks": ""
            },
            "colorscale": [
             [
              0,
              "#0d0887"
             ],
             [
              0.1111111111111111,
              "#46039f"
             ],
             [
              0.2222222222222222,
              "#7201a8"
             ],
             [
              0.3333333333333333,
              "#9c179e"
             ],
             [
              0.4444444444444444,
              "#bd3786"
             ],
             [
              0.5555555555555556,
              "#d8576b"
             ],
             [
              0.6666666666666666,
              "#ed7953"
             ],
             [
              0.7777777777777778,
              "#fb9f3a"
             ],
             [
              0.8888888888888888,
              "#fdca26"
             ],
             [
              1,
              "#f0f921"
             ]
            ],
            "type": "heatmapgl"
           }
          ],
          "histogram": [
           {
            "marker": {
             "pattern": {
              "fillmode": "overlay",
              "size": 10,
              "solidity": 0.2
             }
            },
            "type": "histogram"
           }
          ],
          "histogram2d": [
           {
            "colorbar": {
             "outlinewidth": 0,
             "ticks": ""
            },
            "colorscale": [
             [
              0,
              "#0d0887"
             ],
             [
              0.1111111111111111,
              "#46039f"
             ],
             [
              0.2222222222222222,
              "#7201a8"
             ],
             [
              0.3333333333333333,
              "#9c179e"
             ],
             [
              0.4444444444444444,
              "#bd3786"
             ],
             [
              0.5555555555555556,
              "#d8576b"
             ],
             [
              0.6666666666666666,
              "#ed7953"
             ],
             [
              0.7777777777777778,
              "#fb9f3a"
             ],
             [
              0.8888888888888888,
              "#fdca26"
             ],
             [
              1,
              "#f0f921"
             ]
            ],
            "type": "histogram2d"
           }
          ],
          "histogram2dcontour": [
           {
            "colorbar": {
             "outlinewidth": 0,
             "ticks": ""
            },
            "colorscale": [
             [
              0,
              "#0d0887"
             ],
             [
              0.1111111111111111,
              "#46039f"
             ],
             [
              0.2222222222222222,
              "#7201a8"
             ],
             [
              0.3333333333333333,
              "#9c179e"
             ],
             [
              0.4444444444444444,
              "#bd3786"
             ],
             [
              0.5555555555555556,
              "#d8576b"
             ],
             [
              0.6666666666666666,
              "#ed7953"
             ],
             [
              0.7777777777777778,
              "#fb9f3a"
             ],
             [
              0.8888888888888888,
              "#fdca26"
             ],
             [
              1,
              "#f0f921"
             ]
            ],
            "type": "histogram2dcontour"
           }
          ],
          "mesh3d": [
           {
            "colorbar": {
             "outlinewidth": 0,
             "ticks": ""
            },
            "type": "mesh3d"
           }
          ],
          "parcoords": [
           {
            "line": {
             "colorbar": {
              "outlinewidth": 0,
              "ticks": ""
             }
            },
            "type": "parcoords"
           }
          ],
          "pie": [
           {
            "automargin": true,
            "type": "pie"
           }
          ],
          "scatter": [
           {
            "fillpattern": {
             "fillmode": "overlay",
             "size": 10,
             "solidity": 0.2
            },
            "type": "scatter"
           }
          ],
          "scatter3d": [
           {
            "line": {
             "colorbar": {
              "outlinewidth": 0,
              "ticks": ""
             }
            },
            "marker": {
             "colorbar": {
              "outlinewidth": 0,
              "ticks": ""
             }
            },
            "type": "scatter3d"
           }
          ],
          "scattercarpet": [
           {
            "marker": {
             "colorbar": {
              "outlinewidth": 0,
              "ticks": ""
             }
            },
            "type": "scattercarpet"
           }
          ],
          "scattergeo": [
           {
            "marker": {
             "colorbar": {
              "outlinewidth": 0,
              "ticks": ""
             }
            },
            "type": "scattergeo"
           }
          ],
          "scattergl": [
           {
            "marker": {
             "colorbar": {
              "outlinewidth": 0,
              "ticks": ""
             }
            },
            "type": "scattergl"
           }
          ],
          "scattermapbox": [
           {
            "marker": {
             "colorbar": {
              "outlinewidth": 0,
              "ticks": ""
             }
            },
            "type": "scattermapbox"
           }
          ],
          "scatterpolar": [
           {
            "marker": {
             "colorbar": {
              "outlinewidth": 0,
              "ticks": ""
             }
            },
            "type": "scatterpolar"
           }
          ],
          "scatterpolargl": [
           {
            "marker": {
             "colorbar": {
              "outlinewidth": 0,
              "ticks": ""
             }
            },
            "type": "scatterpolargl"
           }
          ],
          "scatterternary": [
           {
            "marker": {
             "colorbar": {
              "outlinewidth": 0,
              "ticks": ""
             }
            },
            "type": "scatterternary"
           }
          ],
          "surface": [
           {
            "colorbar": {
             "outlinewidth": 0,
             "ticks": ""
            },
            "colorscale": [
             [
              0,
              "#0d0887"
             ],
             [
              0.1111111111111111,
              "#46039f"
             ],
             [
              0.2222222222222222,
              "#7201a8"
             ],
             [
              0.3333333333333333,
              "#9c179e"
             ],
             [
              0.4444444444444444,
              "#bd3786"
             ],
             [
              0.5555555555555556,
              "#d8576b"
             ],
             [
              0.6666666666666666,
              "#ed7953"
             ],
             [
              0.7777777777777778,
              "#fb9f3a"
             ],
             [
              0.8888888888888888,
              "#fdca26"
             ],
             [
              1,
              "#f0f921"
             ]
            ],
            "type": "surface"
           }
          ],
          "table": [
           {
            "cells": {
             "fill": {
              "color": "#EBF0F8"
             },
             "line": {
              "color": "white"
             }
            },
            "header": {
             "fill": {
              "color": "#C8D4E3"
             },
             "line": {
              "color": "white"
             }
            },
            "type": "table"
           }
          ]
         },
         "layout": {
          "annotationdefaults": {
           "arrowcolor": "#2a3f5f",
           "arrowhead": 0,
           "arrowwidth": 1
          },
          "autotypenumbers": "strict",
          "coloraxis": {
           "colorbar": {
            "outlinewidth": 0,
            "ticks": ""
           }
          },
          "colorscale": {
           "diverging": [
            [
             0,
             "#8e0152"
            ],
            [
             0.1,
             "#c51b7d"
            ],
            [
             0.2,
             "#de77ae"
            ],
            [
             0.3,
             "#f1b6da"
            ],
            [
             0.4,
             "#fde0ef"
            ],
            [
             0.5,
             "#f7f7f7"
            ],
            [
             0.6,
             "#e6f5d0"
            ],
            [
             0.7,
             "#b8e186"
            ],
            [
             0.8,
             "#7fbc41"
            ],
            [
             0.9,
             "#4d9221"
            ],
            [
             1,
             "#276419"
            ]
           ],
           "sequential": [
            [
             0,
             "#0d0887"
            ],
            [
             0.1111111111111111,
             "#46039f"
            ],
            [
             0.2222222222222222,
             "#7201a8"
            ],
            [
             0.3333333333333333,
             "#9c179e"
            ],
            [
             0.4444444444444444,
             "#bd3786"
            ],
            [
             0.5555555555555556,
             "#d8576b"
            ],
            [
             0.6666666666666666,
             "#ed7953"
            ],
            [
             0.7777777777777778,
             "#fb9f3a"
            ],
            [
             0.8888888888888888,
             "#fdca26"
            ],
            [
             1,
             "#f0f921"
            ]
           ],
           "sequentialminus": [
            [
             0,
             "#0d0887"
            ],
            [
             0.1111111111111111,
             "#46039f"
            ],
            [
             0.2222222222222222,
             "#7201a8"
            ],
            [
             0.3333333333333333,
             "#9c179e"
            ],
            [
             0.4444444444444444,
             "#bd3786"
            ],
            [
             0.5555555555555556,
             "#d8576b"
            ],
            [
             0.6666666666666666,
             "#ed7953"
            ],
            [
             0.7777777777777778,
             "#fb9f3a"
            ],
            [
             0.8888888888888888,
             "#fdca26"
            ],
            [
             1,
             "#f0f921"
            ]
           ]
          },
          "colorway": [
           "#636efa",
           "#EF553B",
           "#00cc96",
           "#ab63fa",
           "#FFA15A",
           "#19d3f3",
           "#FF6692",
           "#B6E880",
           "#FF97FF",
           "#FECB52"
          ],
          "font": {
           "color": "#2a3f5f"
          },
          "geo": {
           "bgcolor": "white",
           "lakecolor": "white",
           "landcolor": "#E5ECF6",
           "showlakes": true,
           "showland": true,
           "subunitcolor": "white"
          },
          "hoverlabel": {
           "align": "left"
          },
          "hovermode": "closest",
          "mapbox": {
           "style": "light"
          },
          "paper_bgcolor": "white",
          "plot_bgcolor": "#E5ECF6",
          "polar": {
           "angularaxis": {
            "gridcolor": "white",
            "linecolor": "white",
            "ticks": ""
           },
           "bgcolor": "#E5ECF6",
           "radialaxis": {
            "gridcolor": "white",
            "linecolor": "white",
            "ticks": ""
           }
          },
          "scene": {
           "xaxis": {
            "backgroundcolor": "#E5ECF6",
            "gridcolor": "white",
            "gridwidth": 2,
            "linecolor": "white",
            "showbackground": true,
            "ticks": "",
            "zerolinecolor": "white"
           },
           "yaxis": {
            "backgroundcolor": "#E5ECF6",
            "gridcolor": "white",
            "gridwidth": 2,
            "linecolor": "white",
            "showbackground": true,
            "ticks": "",
            "zerolinecolor": "white"
           },
           "zaxis": {
            "backgroundcolor": "#E5ECF6",
            "gridcolor": "white",
            "gridwidth": 2,
            "linecolor": "white",
            "showbackground": true,
            "ticks": "",
            "zerolinecolor": "white"
           }
          },
          "shapedefaults": {
           "line": {
            "color": "#2a3f5f"
           }
          },
          "ternary": {
           "aaxis": {
            "gridcolor": "white",
            "linecolor": "white",
            "ticks": ""
           },
           "baxis": {
            "gridcolor": "white",
            "linecolor": "white",
            "ticks": ""
           },
           "bgcolor": "#E5ECF6",
           "caxis": {
            "gridcolor": "white",
            "linecolor": "white",
            "ticks": ""
           }
          },
          "title": {
           "x": 0.05
          },
          "xaxis": {
           "automargin": true,
           "gridcolor": "white",
           "linecolor": "white",
           "ticks": "",
           "title": {
            "standoff": 15
           },
           "zerolinecolor": "white",
           "zerolinewidth": 2
          },
          "yaxis": {
           "automargin": true,
           "gridcolor": "white",
           "linecolor": "white",
           "ticks": "",
           "title": {
            "standoff": 15
           },
           "zerolinecolor": "white",
           "zerolinewidth": 2
          }
         }
        },
        "title": {
         "text": "Visualization of Wine Data: Count, Users, and Ratings by Country"
        },
        "xaxis": {
         "anchor": "y",
         "domain": [
          0,
          1
         ],
         "title": {
          "text": "Number of wines"
         }
        },
        "yaxis": {
         "anchor": "x",
         "domain": [
          0,
          1
         ],
         "title": {
          "text": "Average Rating"
         }
        }
       }
      }
     },
     "metadata": {},
     "output_type": "display_data"
    }
   ],
   "source": [
    "import plotly.express as px\n",
    "\n",
    "fig = px.scatter(country_priority_vint_df, x = \"users_count\", y = \"average_rating\", size = \"wines_count\", color=\"country\", title = \"Visualization of Wine Data: Count, Users, and Ratings by Country\")\n",
    "fig.update_layout(xaxis_title=\"Number of wines\", yaxis_title=\"Average Rating\", legend_title_text=\"Country\")\n",
    "\n",
    "fig.show()\n",
    "\n"
   ]
  },
  {
   "cell_type": "markdown",
   "metadata": {},
   "source": [
    "Let's check some flavor distributions"
   ]
  },
  {
   "cell_type": "code",
   "execution_count": 34,
   "metadata": {},
   "outputs": [
    {
     "data": {
      "text/html": [
       "<div>\n",
       "<style scoped>\n",
       "    .dataframe tbody tr th:only-of-type {\n",
       "        vertical-align: middle;\n",
       "    }\n",
       "\n",
       "    .dataframe tbody tr th {\n",
       "        vertical-align: top;\n",
       "    }\n",
       "\n",
       "    .dataframe thead th {\n",
       "        text-align: right;\n",
       "    }\n",
       "</style>\n",
       "<table border=\"1\" class=\"dataframe\">\n",
       "  <thead>\n",
       "    <tr style=\"text-align: right;\">\n",
       "      <th></th>\n",
       "      <th>group_name</th>\n",
       "      <th>count(*)</th>\n",
       "      <th>wine_name</th>\n",
       "      <th>country_name</th>\n",
       "    </tr>\n",
       "  </thead>\n",
       "  <tbody>\n",
       "    <tr>\n",
       "      <th>0</th>\n",
       "      <td>black_fruit</td>\n",
       "      <td>1163</td>\n",
       "      <td>Cabernet Sauvignon</td>\n",
       "      <td>États-Unis</td>\n",
       "    </tr>\n",
       "    <tr>\n",
       "      <th>1</th>\n",
       "      <td>citrus_fruit</td>\n",
       "      <td>326</td>\n",
       "      <td>Chardonnay</td>\n",
       "      <td>États-Unis</td>\n",
       "    </tr>\n",
       "    <tr>\n",
       "      <th>2</th>\n",
       "      <td>dried_fruit</td>\n",
       "      <td>383</td>\n",
       "      <td>Monte Bello</td>\n",
       "      <td>États-Unis</td>\n",
       "    </tr>\n",
       "    <tr>\n",
       "      <th>3</th>\n",
       "      <td>earth</td>\n",
       "      <td>2039</td>\n",
       "      <td>Monte Bello</td>\n",
       "      <td>États-Unis</td>\n",
       "    </tr>\n",
       "    <tr>\n",
       "      <th>4</th>\n",
       "      <td>floral</td>\n",
       "      <td>512</td>\n",
       "      <td>Chardonnay</td>\n",
       "      <td>États-Unis</td>\n",
       "    </tr>\n",
       "    <tr>\n",
       "      <th>5</th>\n",
       "      <td>microbio</td>\n",
       "      <td>641</td>\n",
       "      <td>Chardonnay</td>\n",
       "      <td>États-Unis</td>\n",
       "    </tr>\n",
       "    <tr>\n",
       "      <th>6</th>\n",
       "      <td>non_oak</td>\n",
       "      <td>1445</td>\n",
       "      <td>Cabernet Sauvignon</td>\n",
       "      <td>États-Unis</td>\n",
       "    </tr>\n",
       "    <tr>\n",
       "      <th>7</th>\n",
       "      <td>oak</td>\n",
       "      <td>2153</td>\n",
       "      <td>Monte Bello</td>\n",
       "      <td>États-Unis</td>\n",
       "    </tr>\n",
       "    <tr>\n",
       "      <th>8</th>\n",
       "      <td>red_fruit</td>\n",
       "      <td>936</td>\n",
       "      <td>Chardonnay</td>\n",
       "      <td>États-Unis</td>\n",
       "    </tr>\n",
       "    <tr>\n",
       "      <th>9</th>\n",
       "      <td>spices</td>\n",
       "      <td>1437</td>\n",
       "      <td>Cabernet Sauvignon</td>\n",
       "      <td>États-Unis</td>\n",
       "    </tr>\n",
       "    <tr>\n",
       "      <th>10</th>\n",
       "      <td>tree_fruit</td>\n",
       "      <td>298</td>\n",
       "      <td>Chardonnay</td>\n",
       "      <td>États-Unis</td>\n",
       "    </tr>\n",
       "    <tr>\n",
       "      <th>11</th>\n",
       "      <td>tropical_fruit</td>\n",
       "      <td>163</td>\n",
       "      <td>Chardonnay</td>\n",
       "      <td>États-Unis</td>\n",
       "    </tr>\n",
       "    <tr>\n",
       "      <th>12</th>\n",
       "      <td>vegetal</td>\n",
       "      <td>566</td>\n",
       "      <td>Chardonnay</td>\n",
       "      <td>États-Unis</td>\n",
       "    </tr>\n",
       "  </tbody>\n",
       "</table>\n",
       "</div>"
      ],
      "text/plain": [
       "        group_name  count(*)           wine_name country_name\n",
       "0      black_fruit      1163  Cabernet Sauvignon   États-Unis\n",
       "1     citrus_fruit       326          Chardonnay   États-Unis\n",
       "2      dried_fruit       383         Monte Bello   États-Unis\n",
       "3            earth      2039         Monte Bello   États-Unis\n",
       "4           floral       512          Chardonnay   États-Unis\n",
       "5         microbio       641          Chardonnay   États-Unis\n",
       "6          non_oak      1445  Cabernet Sauvignon   États-Unis\n",
       "7              oak      2153         Monte Bello   États-Unis\n",
       "8        red_fruit       936          Chardonnay   États-Unis\n",
       "9           spices      1437  Cabernet Sauvignon   États-Unis\n",
       "10      tree_fruit       298          Chardonnay   États-Unis\n",
       "11  tropical_fruit       163          Chardonnay   États-Unis\n",
       "12         vegetal       566          Chardonnay   États-Unis"
      ]
     },
     "execution_count": 34,
     "metadata": {},
     "output_type": "execute_result"
    }
   ],
   "source": [
    "query_tastes_of_USA = \"\"\"SELECT keywords_wine.group_name, count(*), wines.name AS wine_name, countries.name AS country_name FROM keywords_wine\n",
    "JOIN wines ON keywords_wine.wine_id = wines.id\n",
    "JOIN regions ON wines.region_id = regions.id\n",
    "JOIN countries ON regions.country_code = countries.code\n",
    "WHERE country_name = \"États-Unis\"\n",
    "GROUP BY keywords_wine.group_name\n",
    "\n",
    "\"\"\"\n",
    "\n",
    "us_df = pd.read_sql_query(query_tastes_of_USA, conn)\n",
    "us_df"
   ]
  },
  {
   "cell_type": "code",
   "execution_count": 35,
   "metadata": {},
   "outputs": [
    {
     "data": {
      "text/html": [
       "<div>\n",
       "<style scoped>\n",
       "    .dataframe tbody tr th:only-of-type {\n",
       "        vertical-align: middle;\n",
       "    }\n",
       "\n",
       "    .dataframe tbody tr th {\n",
       "        vertical-align: top;\n",
       "    }\n",
       "\n",
       "    .dataframe thead th {\n",
       "        text-align: right;\n",
       "    }\n",
       "</style>\n",
       "<table border=\"1\" class=\"dataframe\">\n",
       "  <thead>\n",
       "    <tr style=\"text-align: right;\">\n",
       "      <th></th>\n",
       "      <th>group_name</th>\n",
       "      <th>wine_count</th>\n",
       "      <th>country</th>\n",
       "    </tr>\n",
       "  </thead>\n",
       "  <tbody>\n",
       "    <tr>\n",
       "      <th>0</th>\n",
       "      <td>black_fruit</td>\n",
       "      <td>269</td>\n",
       "      <td>Afrique du Sud</td>\n",
       "    </tr>\n",
       "    <tr>\n",
       "      <th>1</th>\n",
       "      <td>citrus_fruit</td>\n",
       "      <td>76</td>\n",
       "      <td>Afrique du Sud</td>\n",
       "    </tr>\n",
       "    <tr>\n",
       "      <th>2</th>\n",
       "      <td>dried_fruit</td>\n",
       "      <td>93</td>\n",
       "      <td>Afrique du Sud</td>\n",
       "    </tr>\n",
       "    <tr>\n",
       "      <th>3</th>\n",
       "      <td>earth</td>\n",
       "      <td>431</td>\n",
       "      <td>Afrique du Sud</td>\n",
       "    </tr>\n",
       "    <tr>\n",
       "      <th>4</th>\n",
       "      <td>floral</td>\n",
       "      <td>101</td>\n",
       "      <td>Afrique du Sud</td>\n",
       "    </tr>\n",
       "    <tr>\n",
       "      <th>...</th>\n",
       "      <td>...</td>\n",
       "      <td>...</td>\n",
       "      <td>...</td>\n",
       "    </tr>\n",
       "    <tr>\n",
       "      <th>206</th>\n",
       "      <td>red_fruit</td>\n",
       "      <td>936</td>\n",
       "      <td>États-Unis</td>\n",
       "    </tr>\n",
       "    <tr>\n",
       "      <th>207</th>\n",
       "      <td>spices</td>\n",
       "      <td>1437</td>\n",
       "      <td>États-Unis</td>\n",
       "    </tr>\n",
       "    <tr>\n",
       "      <th>208</th>\n",
       "      <td>tree_fruit</td>\n",
       "      <td>298</td>\n",
       "      <td>États-Unis</td>\n",
       "    </tr>\n",
       "    <tr>\n",
       "      <th>209</th>\n",
       "      <td>tropical_fruit</td>\n",
       "      <td>163</td>\n",
       "      <td>États-Unis</td>\n",
       "    </tr>\n",
       "    <tr>\n",
       "      <th>210</th>\n",
       "      <td>vegetal</td>\n",
       "      <td>566</td>\n",
       "      <td>États-Unis</td>\n",
       "    </tr>\n",
       "  </tbody>\n",
       "</table>\n",
       "<p>211 rows × 3 columns</p>\n",
       "</div>"
      ],
      "text/plain": [
       "         group_name  wine_count         country\n",
       "0       black_fruit         269  Afrique du Sud\n",
       "1      citrus_fruit          76  Afrique du Sud\n",
       "2       dried_fruit          93  Afrique du Sud\n",
       "3             earth         431  Afrique du Sud\n",
       "4            floral         101  Afrique du Sud\n",
       "..              ...         ...             ...\n",
       "206       red_fruit         936      États-Unis\n",
       "207          spices        1437      États-Unis\n",
       "208      tree_fruit         298      États-Unis\n",
       "209  tropical_fruit         163      États-Unis\n",
       "210         vegetal         566      États-Unis\n",
       "\n",
       "[211 rows x 3 columns]"
      ]
     },
     "execution_count": 35,
     "metadata": {},
     "output_type": "execute_result"
    }
   ],
   "source": [
    "query_tastes_of_countries = \"\"\"\n",
    "SELECT keywords_wine.group_name,\n",
    "       COUNT(*) AS wine_count,\n",
    "       countries.name AS country\n",
    "FROM keywords_wine\n",
    "JOIN wines ON keywords_wine.wine_id = wines.id\n",
    "JOIN regions ON wines.region_id = regions.id\n",
    "JOIN countries ON regions.country_code = countries.code\n",
    "GROUP BY country, keywords_wine.group_name\n",
    "\"\"\"\n",
    "\n",
    "df_country_taste_dist = pd.read_sql_query(query_tastes_of_countries, conn)\n",
    "df_country_taste_dist"
   ]
  },
  {
   "cell_type": "code",
   "execution_count": 36,
   "metadata": {},
   "outputs": [
    {
     "data": {
      "application/vnd.plotly.v1+json": {
       "config": {
        "plotlyServerURL": "https://plot.ly"
       },
       "data": [
        {
         "alignmentgroup": "True",
         "hovertemplate": "Flavor=black_fruit<br>country=%{x}<br>Number of Wines=%{y}<extra></extra>",
         "legendgroup": "black_fruit",
         "marker": {
          "color": "#636efa",
          "pattern": {
           "shape": ""
          }
         },
         "name": "black_fruit",
         "offsetgroup": "black_fruit",
         "orientation": "v",
         "showlegend": true,
         "textposition": "auto",
         "type": "bar",
         "x": [
          "Afrique du Sud",
          "Allemagne",
          "Argentine",
          "Australie",
          "Chili",
          "Croatie",
          "Espagne",
          "France",
          "Grèce",
          "Hongrie",
          "Israël",
          "Italie",
          "Moldavie",
          "Portugal",
          "Roumanie",
          "Suisse",
          "États-Unis"
         ],
         "xaxis": "x",
         "y": [
          269,
          7,
          336,
          183,
          225,
          8,
          1052,
          2767,
          6,
          24,
          10,
          4240,
          48,
          199,
          5,
          9,
          1163
         ],
         "yaxis": "y"
        },
        {
         "alignmentgroup": "True",
         "hovertemplate": "Flavor=citrus_fruit<br>country=%{x}<br>Number of Wines=%{y}<extra></extra>",
         "legendgroup": "citrus_fruit",
         "marker": {
          "color": "#EF553B",
          "pattern": {
           "shape": ""
          }
         },
         "name": "citrus_fruit",
         "offsetgroup": "citrus_fruit",
         "orientation": "v",
         "showlegend": true,
         "textposition": "auto",
         "type": "bar",
         "x": [
          "Afrique du Sud",
          "Allemagne",
          "Argentine",
          "Australie",
          "Chili",
          "Croatie",
          "Espagne",
          "France",
          "Grèce",
          "Hongrie",
          "Israël",
          "Italie",
          "Moldavie",
          "Portugal",
          "États-Unis"
         ],
         "xaxis": "x",
         "y": [
          76,
          79,
          69,
          32,
          31,
          1,
          339,
          2062,
          6,
          106,
          5,
          1287,
          11,
          68,
          326
         ],
         "yaxis": "y"
        },
        {
         "alignmentgroup": "True",
         "hovertemplate": "Flavor=dried_fruit<br>country=%{x}<br>Number of Wines=%{y}<extra></extra>",
         "legendgroup": "dried_fruit",
         "marker": {
          "color": "#00cc96",
          "pattern": {
           "shape": ""
          }
         },
         "name": "dried_fruit",
         "offsetgroup": "dried_fruit",
         "orientation": "v",
         "showlegend": true,
         "textposition": "auto",
         "type": "bar",
         "x": [
          "Afrique du Sud",
          "Allemagne",
          "Argentine",
          "Australie",
          "Chili",
          "Croatie",
          "Espagne",
          "France",
          "Grèce",
          "Hongrie",
          "Israël",
          "Italie",
          "Moldavie",
          "Portugal",
          "Roumanie",
          "Suisse",
          "États-Unis"
         ],
         "xaxis": "x",
         "y": [
          93,
          21,
          107,
          56,
          64,
          3,
          413,
          1250,
          1,
          62,
          1,
          1889,
          17,
          111,
          1,
          3,
          383
         ],
         "yaxis": "y"
        },
        {
         "alignmentgroup": "True",
         "hovertemplate": "Flavor=earth<br>country=%{x}<br>Number of Wines=%{y}<extra></extra>",
         "legendgroup": "earth",
         "marker": {
          "color": "#ab63fa",
          "pattern": {
           "shape": ""
          }
         },
         "name": "earth",
         "offsetgroup": "earth",
         "orientation": "v",
         "showlegend": true,
         "textposition": "auto",
         "type": "bar",
         "x": [
          "Afrique du Sud",
          "Allemagne",
          "Argentine",
          "Australie",
          "Chili",
          "Croatie",
          "Espagne",
          "France",
          "Grèce",
          "Hongrie",
          "Israël",
          "Italie",
          "Moldavie",
          "Portugal",
          "Roumanie",
          "Suisse",
          "États-Unis"
         ],
         "xaxis": "x",
         "y": [
          431,
          140,
          512,
          263,
          336,
          8,
          1878,
          6972,
          15,
          156,
          13,
          7861,
          59,
          323,
          4,
          8,
          2039
         ],
         "yaxis": "y"
        },
        {
         "alignmentgroup": "True",
         "hovertemplate": "Flavor=floral<br>country=%{x}<br>Number of Wines=%{y}<extra></extra>",
         "legendgroup": "floral",
         "marker": {
          "color": "#FFA15A",
          "pattern": {
           "shape": ""
          }
         },
         "name": "floral",
         "offsetgroup": "floral",
         "orientation": "v",
         "showlegend": true,
         "textposition": "auto",
         "type": "bar",
         "x": [
          "Afrique du Sud",
          "Allemagne",
          "Argentine",
          "Australie",
          "Chili",
          "Croatie",
          "Espagne",
          "France",
          "Grèce",
          "Hongrie",
          "Israël",
          "Italie",
          "Moldavie",
          "Portugal",
          "Suisse",
          "États-Unis"
         ],
         "xaxis": "x",
         "y": [
          101,
          49,
          112,
          60,
          85,
          1,
          412,
          2092,
          6,
          61,
          1,
          2185,
          18,
          51,
          1,
          512
         ],
         "yaxis": "y"
        },
        {
         "alignmentgroup": "True",
         "hovertemplate": "Flavor=microbio<br>country=%{x}<br>Number of Wines=%{y}<extra></extra>",
         "legendgroup": "microbio",
         "marker": {
          "color": "#19d3f3",
          "pattern": {
           "shape": ""
          }
         },
         "name": "microbio",
         "offsetgroup": "microbio",
         "orientation": "v",
         "showlegend": true,
         "textposition": "auto",
         "type": "bar",
         "x": [
          "Afrique du Sud",
          "Allemagne",
          "Argentine",
          "Australie",
          "Chili",
          "Croatie",
          "Espagne",
          "France",
          "Grèce",
          "Hongrie",
          "Israël",
          "Italie",
          "Moldavie",
          "Portugal",
          "Suisse",
          "États-Unis"
         ],
         "xaxis": "x",
         "y": [
          147,
          60,
          158,
          87,
          107,
          1,
          669,
          2777,
          11,
          85,
          6,
          2375,
          25,
          122,
          3,
          641
         ],
         "yaxis": "y"
        },
        {
         "alignmentgroup": "True",
         "hovertemplate": "Flavor=non_oak<br>country=%{x}<br>Number of Wines=%{y}<extra></extra>",
         "legendgroup": "non_oak",
         "marker": {
          "color": "#FF6692",
          "pattern": {
           "shape": ""
          }
         },
         "name": "non_oak",
         "offsetgroup": "non_oak",
         "orientation": "v",
         "showlegend": true,
         "textposition": "auto",
         "type": "bar",
         "x": [
          "Afrique du Sud",
          "Allemagne",
          "Argentine",
          "Australie",
          "Chili",
          "Croatie",
          "Espagne",
          "France",
          "Grèce",
          "Hongrie",
          "Israël",
          "Italie",
          "Moldavie",
          "Portugal",
          "Roumanie",
          "Suisse",
          "États-Unis"
         ],
         "xaxis": "x",
         "y": [
          326,
          56,
          362,
          219,
          265,
          10,
          1488,
          5021,
          14,
          162,
          12,
          5873,
          54,
          349,
          3,
          12,
          1445
         ],
         "yaxis": "y"
        },
        {
         "alignmentgroup": "True",
         "hovertemplate": "Flavor=oak<br>country=%{x}<br>Number of Wines=%{y}<extra></extra>",
         "legendgroup": "oak",
         "marker": {
          "color": "#B6E880",
          "pattern": {
           "shape": ""
          }
         },
         "name": "oak",
         "offsetgroup": "oak",
         "orientation": "v",
         "showlegend": true,
         "textposition": "auto",
         "type": "bar",
         "x": [
          "Afrique du Sud",
          "Allemagne",
          "Argentine",
          "Australie",
          "Chili",
          "Croatie",
          "Espagne",
          "France",
          "Grèce",
          "Hongrie",
          "Israël",
          "Italie",
          "Moldavie",
          "Portugal",
          "Roumanie",
          "Suisse",
          "États-Unis"
         ],
         "xaxis": "x",
         "y": [
          504,
          71,
          560,
          299,
          375,
          16,
          2086,
          6442,
          22,
          164,
          19,
          8010,
          76,
          431,
          8,
          16,
          2153
         ],
         "yaxis": "y"
        },
        {
         "alignmentgroup": "True",
         "hovertemplate": "Flavor=red_fruit<br>country=%{x}<br>Number of Wines=%{y}<extra></extra>",
         "legendgroup": "red_fruit",
         "marker": {
          "color": "#FF97FF",
          "pattern": {
           "shape": ""
          }
         },
         "name": "red_fruit",
         "offsetgroup": "red_fruit",
         "orientation": "v",
         "showlegend": true,
         "textposition": "auto",
         "type": "bar",
         "x": [
          "Afrique du Sud",
          "Allemagne",
          "Argentine",
          "Australie",
          "Chili",
          "Croatie",
          "Espagne",
          "France",
          "Grèce",
          "Hongrie",
          "Israël",
          "Italie",
          "Moldavie",
          "Portugal",
          "Roumanie",
          "Suisse",
          "États-Unis"
         ],
         "xaxis": "x",
         "y": [
          197,
          17,
          232,
          117,
          161,
          5,
          830,
          2815,
          6,
          33,
          7,
          3961,
          39,
          158,
          4,
          4,
          936
         ],
         "yaxis": "y"
        },
        {
         "alignmentgroup": "True",
         "hovertemplate": "Flavor=spices<br>country=%{x}<br>Number of Wines=%{y}<extra></extra>",
         "legendgroup": "spices",
         "marker": {
          "color": "#FECB52",
          "pattern": {
           "shape": ""
          }
         },
         "name": "spices",
         "offsetgroup": "spices",
         "orientation": "v",
         "showlegend": true,
         "textposition": "auto",
         "type": "bar",
         "x": [
          "Afrique du Sud",
          "Allemagne",
          "Argentine",
          "Australie",
          "Chili",
          "Croatie",
          "Espagne",
          "France",
          "Grèce",
          "Hongrie",
          "Israël",
          "Italie",
          "Moldavie",
          "Portugal",
          "Roumanie",
          "Suisse",
          "États-Unis"
         ],
         "xaxis": "x",
         "y": [
          294,
          50,
          350,
          193,
          245,
          5,
          1237,
          4074,
          12,
          91,
          11,
          5288,
          46,
          216,
          2,
          9,
          1437
         ],
         "yaxis": "y"
        },
        {
         "alignmentgroup": "True",
         "hovertemplate": "Flavor=tree_fruit<br>country=%{x}<br>Number of Wines=%{y}<extra></extra>",
         "legendgroup": "tree_fruit",
         "marker": {
          "color": "#636efa",
          "pattern": {
           "shape": ""
          }
         },
         "name": "tree_fruit",
         "offsetgroup": "tree_fruit",
         "orientation": "v",
         "showlegend": true,
         "textposition": "auto",
         "type": "bar",
         "x": [
          "Afrique du Sud",
          "Allemagne",
          "Argentine",
          "Australie",
          "Chili",
          "Espagne",
          "France",
          "Grèce",
          "Hongrie",
          "Israël",
          "Italie",
          "Moldavie",
          "Portugal",
          "Suisse",
          "États-Unis"
         ],
         "xaxis": "x",
         "y": [
          83,
          114,
          44,
          31,
          25,
          254,
          2069,
          10,
          114,
          1,
          921,
          16,
          49,
          2,
          298
         ],
         "yaxis": "y"
        },
        {
         "alignmentgroup": "True",
         "hovertemplate": "Flavor=tropical_fruit<br>country=%{x}<br>Number of Wines=%{y}<extra></extra>",
         "legendgroup": "tropical_fruit",
         "marker": {
          "color": "#EF553B",
          "pattern": {
           "shape": ""
          }
         },
         "name": "tropical_fruit",
         "offsetgroup": "tropical_fruit",
         "orientation": "v",
         "showlegend": true,
         "textposition": "auto",
         "type": "bar",
         "x": [
          "Afrique du Sud",
          "Allemagne",
          "Argentine",
          "Australie",
          "Chili",
          "Espagne",
          "France",
          "Grèce",
          "Hongrie",
          "Israël",
          "Italie",
          "Moldavie",
          "Portugal",
          "Suisse",
          "États-Unis"
         ],
         "xaxis": "x",
         "y": [
          42,
          61,
          24,
          11,
          20,
          121,
          959,
          6,
          61,
          1,
          468,
          7,
          16,
          1,
          163
         ],
         "yaxis": "y"
        },
        {
         "alignmentgroup": "True",
         "hovertemplate": "Flavor=vegetal<br>country=%{x}<br>Number of Wines=%{y}<extra></extra>",
         "legendgroup": "vegetal",
         "marker": {
          "color": "#00cc96",
          "pattern": {
           "shape": ""
          }
         },
         "name": "vegetal",
         "offsetgroup": "vegetal",
         "orientation": "v",
         "showlegend": true,
         "textposition": "auto",
         "type": "bar",
         "x": [
          "Afrique du Sud",
          "Allemagne",
          "Argentine",
          "Australie",
          "Chili",
          "Croatie",
          "Espagne",
          "France",
          "Grèce",
          "Hongrie",
          "Italie",
          "Moldavie",
          "Portugal",
          "Suisse",
          "États-Unis"
         ],
         "xaxis": "x",
         "y": [
          90,
          25,
          110,
          50,
          101,
          1,
          401,
          1882,
          3,
          47,
          1939,
          14,
          55,
          3,
          566
         ],
         "yaxis": "y"
        }
       ],
       "layout": {
        "barmode": "stack",
        "height": 600,
        "legend": {
         "title": {
          "text": "Flavor"
         },
         "tracegroupgap": 0
        },
        "template": {
         "data": {
          "bar": [
           {
            "error_x": {
             "color": "#2a3f5f"
            },
            "error_y": {
             "color": "#2a3f5f"
            },
            "marker": {
             "line": {
              "color": "#E5ECF6",
              "width": 0.5
             },
             "pattern": {
              "fillmode": "overlay",
              "size": 10,
              "solidity": 0.2
             }
            },
            "type": "bar"
           }
          ],
          "barpolar": [
           {
            "marker": {
             "line": {
              "color": "#E5ECF6",
              "width": 0.5
             },
             "pattern": {
              "fillmode": "overlay",
              "size": 10,
              "solidity": 0.2
             }
            },
            "type": "barpolar"
           }
          ],
          "carpet": [
           {
            "aaxis": {
             "endlinecolor": "#2a3f5f",
             "gridcolor": "white",
             "linecolor": "white",
             "minorgridcolor": "white",
             "startlinecolor": "#2a3f5f"
            },
            "baxis": {
             "endlinecolor": "#2a3f5f",
             "gridcolor": "white",
             "linecolor": "white",
             "minorgridcolor": "white",
             "startlinecolor": "#2a3f5f"
            },
            "type": "carpet"
           }
          ],
          "choropleth": [
           {
            "colorbar": {
             "outlinewidth": 0,
             "ticks": ""
            },
            "type": "choropleth"
           }
          ],
          "contour": [
           {
            "colorbar": {
             "outlinewidth": 0,
             "ticks": ""
            },
            "colorscale": [
             [
              0,
              "#0d0887"
             ],
             [
              0.1111111111111111,
              "#46039f"
             ],
             [
              0.2222222222222222,
              "#7201a8"
             ],
             [
              0.3333333333333333,
              "#9c179e"
             ],
             [
              0.4444444444444444,
              "#bd3786"
             ],
             [
              0.5555555555555556,
              "#d8576b"
             ],
             [
              0.6666666666666666,
              "#ed7953"
             ],
             [
              0.7777777777777778,
              "#fb9f3a"
             ],
             [
              0.8888888888888888,
              "#fdca26"
             ],
             [
              1,
              "#f0f921"
             ]
            ],
            "type": "contour"
           }
          ],
          "contourcarpet": [
           {
            "colorbar": {
             "outlinewidth": 0,
             "ticks": ""
            },
            "type": "contourcarpet"
           }
          ],
          "heatmap": [
           {
            "colorbar": {
             "outlinewidth": 0,
             "ticks": ""
            },
            "colorscale": [
             [
              0,
              "#0d0887"
             ],
             [
              0.1111111111111111,
              "#46039f"
             ],
             [
              0.2222222222222222,
              "#7201a8"
             ],
             [
              0.3333333333333333,
              "#9c179e"
             ],
             [
              0.4444444444444444,
              "#bd3786"
             ],
             [
              0.5555555555555556,
              "#d8576b"
             ],
             [
              0.6666666666666666,
              "#ed7953"
             ],
             [
              0.7777777777777778,
              "#fb9f3a"
             ],
             [
              0.8888888888888888,
              "#fdca26"
             ],
             [
              1,
              "#f0f921"
             ]
            ],
            "type": "heatmap"
           }
          ],
          "heatmapgl": [
           {
            "colorbar": {
             "outlinewidth": 0,
             "ticks": ""
            },
            "colorscale": [
             [
              0,
              "#0d0887"
             ],
             [
              0.1111111111111111,
              "#46039f"
             ],
             [
              0.2222222222222222,
              "#7201a8"
             ],
             [
              0.3333333333333333,
              "#9c179e"
             ],
             [
              0.4444444444444444,
              "#bd3786"
             ],
             [
              0.5555555555555556,
              "#d8576b"
             ],
             [
              0.6666666666666666,
              "#ed7953"
             ],
             [
              0.7777777777777778,
              "#fb9f3a"
             ],
             [
              0.8888888888888888,
              "#fdca26"
             ],
             [
              1,
              "#f0f921"
             ]
            ],
            "type": "heatmapgl"
           }
          ],
          "histogram": [
           {
            "marker": {
             "pattern": {
              "fillmode": "overlay",
              "size": 10,
              "solidity": 0.2
             }
            },
            "type": "histogram"
           }
          ],
          "histogram2d": [
           {
            "colorbar": {
             "outlinewidth": 0,
             "ticks": ""
            },
            "colorscale": [
             [
              0,
              "#0d0887"
             ],
             [
              0.1111111111111111,
              "#46039f"
             ],
             [
              0.2222222222222222,
              "#7201a8"
             ],
             [
              0.3333333333333333,
              "#9c179e"
             ],
             [
              0.4444444444444444,
              "#bd3786"
             ],
             [
              0.5555555555555556,
              "#d8576b"
             ],
             [
              0.6666666666666666,
              "#ed7953"
             ],
             [
              0.7777777777777778,
              "#fb9f3a"
             ],
             [
              0.8888888888888888,
              "#fdca26"
             ],
             [
              1,
              "#f0f921"
             ]
            ],
            "type": "histogram2d"
           }
          ],
          "histogram2dcontour": [
           {
            "colorbar": {
             "outlinewidth": 0,
             "ticks": ""
            },
            "colorscale": [
             [
              0,
              "#0d0887"
             ],
             [
              0.1111111111111111,
              "#46039f"
             ],
             [
              0.2222222222222222,
              "#7201a8"
             ],
             [
              0.3333333333333333,
              "#9c179e"
             ],
             [
              0.4444444444444444,
              "#bd3786"
             ],
             [
              0.5555555555555556,
              "#d8576b"
             ],
             [
              0.6666666666666666,
              "#ed7953"
             ],
             [
              0.7777777777777778,
              "#fb9f3a"
             ],
             [
              0.8888888888888888,
              "#fdca26"
             ],
             [
              1,
              "#f0f921"
             ]
            ],
            "type": "histogram2dcontour"
           }
          ],
          "mesh3d": [
           {
            "colorbar": {
             "outlinewidth": 0,
             "ticks": ""
            },
            "type": "mesh3d"
           }
          ],
          "parcoords": [
           {
            "line": {
             "colorbar": {
              "outlinewidth": 0,
              "ticks": ""
             }
            },
            "type": "parcoords"
           }
          ],
          "pie": [
           {
            "automargin": true,
            "type": "pie"
           }
          ],
          "scatter": [
           {
            "fillpattern": {
             "fillmode": "overlay",
             "size": 10,
             "solidity": 0.2
            },
            "type": "scatter"
           }
          ],
          "scatter3d": [
           {
            "line": {
             "colorbar": {
              "outlinewidth": 0,
              "ticks": ""
             }
            },
            "marker": {
             "colorbar": {
              "outlinewidth": 0,
              "ticks": ""
             }
            },
            "type": "scatter3d"
           }
          ],
          "scattercarpet": [
           {
            "marker": {
             "colorbar": {
              "outlinewidth": 0,
              "ticks": ""
             }
            },
            "type": "scattercarpet"
           }
          ],
          "scattergeo": [
           {
            "marker": {
             "colorbar": {
              "outlinewidth": 0,
              "ticks": ""
             }
            },
            "type": "scattergeo"
           }
          ],
          "scattergl": [
           {
            "marker": {
             "colorbar": {
              "outlinewidth": 0,
              "ticks": ""
             }
            },
            "type": "scattergl"
           }
          ],
          "scattermapbox": [
           {
            "marker": {
             "colorbar": {
              "outlinewidth": 0,
              "ticks": ""
             }
            },
            "type": "scattermapbox"
           }
          ],
          "scatterpolar": [
           {
            "marker": {
             "colorbar": {
              "outlinewidth": 0,
              "ticks": ""
             }
            },
            "type": "scatterpolar"
           }
          ],
          "scatterpolargl": [
           {
            "marker": {
             "colorbar": {
              "outlinewidth": 0,
              "ticks": ""
             }
            },
            "type": "scatterpolargl"
           }
          ],
          "scatterternary": [
           {
            "marker": {
             "colorbar": {
              "outlinewidth": 0,
              "ticks": ""
             }
            },
            "type": "scatterternary"
           }
          ],
          "surface": [
           {
            "colorbar": {
             "outlinewidth": 0,
             "ticks": ""
            },
            "colorscale": [
             [
              0,
              "#0d0887"
             ],
             [
              0.1111111111111111,
              "#46039f"
             ],
             [
              0.2222222222222222,
              "#7201a8"
             ],
             [
              0.3333333333333333,
              "#9c179e"
             ],
             [
              0.4444444444444444,
              "#bd3786"
             ],
             [
              0.5555555555555556,
              "#d8576b"
             ],
             [
              0.6666666666666666,
              "#ed7953"
             ],
             [
              0.7777777777777778,
              "#fb9f3a"
             ],
             [
              0.8888888888888888,
              "#fdca26"
             ],
             [
              1,
              "#f0f921"
             ]
            ],
            "type": "surface"
           }
          ],
          "table": [
           {
            "cells": {
             "fill": {
              "color": "#EBF0F8"
             },
             "line": {
              "color": "white"
             }
            },
            "header": {
             "fill": {
              "color": "#C8D4E3"
             },
             "line": {
              "color": "white"
             }
            },
            "type": "table"
           }
          ]
         },
         "layout": {
          "annotationdefaults": {
           "arrowcolor": "#2a3f5f",
           "arrowhead": 0,
           "arrowwidth": 1
          },
          "autotypenumbers": "strict",
          "coloraxis": {
           "colorbar": {
            "outlinewidth": 0,
            "ticks": ""
           }
          },
          "colorscale": {
           "diverging": [
            [
             0,
             "#8e0152"
            ],
            [
             0.1,
             "#c51b7d"
            ],
            [
             0.2,
             "#de77ae"
            ],
            [
             0.3,
             "#f1b6da"
            ],
            [
             0.4,
             "#fde0ef"
            ],
            [
             0.5,
             "#f7f7f7"
            ],
            [
             0.6,
             "#e6f5d0"
            ],
            [
             0.7,
             "#b8e186"
            ],
            [
             0.8,
             "#7fbc41"
            ],
            [
             0.9,
             "#4d9221"
            ],
            [
             1,
             "#276419"
            ]
           ],
           "sequential": [
            [
             0,
             "#0d0887"
            ],
            [
             0.1111111111111111,
             "#46039f"
            ],
            [
             0.2222222222222222,
             "#7201a8"
            ],
            [
             0.3333333333333333,
             "#9c179e"
            ],
            [
             0.4444444444444444,
             "#bd3786"
            ],
            [
             0.5555555555555556,
             "#d8576b"
            ],
            [
             0.6666666666666666,
             "#ed7953"
            ],
            [
             0.7777777777777778,
             "#fb9f3a"
            ],
            [
             0.8888888888888888,
             "#fdca26"
            ],
            [
             1,
             "#f0f921"
            ]
           ],
           "sequentialminus": [
            [
             0,
             "#0d0887"
            ],
            [
             0.1111111111111111,
             "#46039f"
            ],
            [
             0.2222222222222222,
             "#7201a8"
            ],
            [
             0.3333333333333333,
             "#9c179e"
            ],
            [
             0.4444444444444444,
             "#bd3786"
            ],
            [
             0.5555555555555556,
             "#d8576b"
            ],
            [
             0.6666666666666666,
             "#ed7953"
            ],
            [
             0.7777777777777778,
             "#fb9f3a"
            ],
            [
             0.8888888888888888,
             "#fdca26"
            ],
            [
             1,
             "#f0f921"
            ]
           ]
          },
          "colorway": [
           "#636efa",
           "#EF553B",
           "#00cc96",
           "#ab63fa",
           "#FFA15A",
           "#19d3f3",
           "#FF6692",
           "#B6E880",
           "#FF97FF",
           "#FECB52"
          ],
          "font": {
           "color": "#2a3f5f"
          },
          "geo": {
           "bgcolor": "white",
           "lakecolor": "white",
           "landcolor": "#E5ECF6",
           "showlakes": true,
           "showland": true,
           "subunitcolor": "white"
          },
          "hoverlabel": {
           "align": "left"
          },
          "hovermode": "closest",
          "mapbox": {
           "style": "light"
          },
          "paper_bgcolor": "white",
          "plot_bgcolor": "#E5ECF6",
          "polar": {
           "angularaxis": {
            "gridcolor": "white",
            "linecolor": "white",
            "ticks": ""
           },
           "bgcolor": "#E5ECF6",
           "radialaxis": {
            "gridcolor": "white",
            "linecolor": "white",
            "ticks": ""
           }
          },
          "scene": {
           "xaxis": {
            "backgroundcolor": "#E5ECF6",
            "gridcolor": "white",
            "gridwidth": 2,
            "linecolor": "white",
            "showbackground": true,
            "ticks": "",
            "zerolinecolor": "white"
           },
           "yaxis": {
            "backgroundcolor": "#E5ECF6",
            "gridcolor": "white",
            "gridwidth": 2,
            "linecolor": "white",
            "showbackground": true,
            "ticks": "",
            "zerolinecolor": "white"
           },
           "zaxis": {
            "backgroundcolor": "#E5ECF6",
            "gridcolor": "white",
            "gridwidth": 2,
            "linecolor": "white",
            "showbackground": true,
            "ticks": "",
            "zerolinecolor": "white"
           }
          },
          "shapedefaults": {
           "line": {
            "color": "#2a3f5f"
           }
          },
          "ternary": {
           "aaxis": {
            "gridcolor": "white",
            "linecolor": "white",
            "ticks": ""
           },
           "baxis": {
            "gridcolor": "white",
            "linecolor": "white",
            "ticks": ""
           },
           "bgcolor": "#E5ECF6",
           "caxis": {
            "gridcolor": "white",
            "linecolor": "white",
            "ticks": ""
           }
          },
          "title": {
           "x": 0.05
          },
          "xaxis": {
           "automargin": true,
           "gridcolor": "white",
           "linecolor": "white",
           "ticks": "",
           "title": {
            "standoff": 15
           },
           "zerolinecolor": "white",
           "zerolinewidth": 2
          },
          "yaxis": {
           "automargin": true,
           "gridcolor": "white",
           "linecolor": "white",
           "ticks": "",
           "title": {
            "standoff": 15
           },
           "zerolinecolor": "white",
           "zerolinewidth": 2
          }
         }
        },
        "title": {
         "text": "Distribution of Wine Flavors Across Countries"
        },
        "xaxis": {
         "anchor": "y",
         "domain": [
          0,
          1
         ],
         "title": {
          "text": "country"
         }
        },
        "yaxis": {
         "anchor": "x",
         "domain": [
          0,
          1
         ],
         "title": {
          "text": "Number of Wines"
         }
        }
       }
      }
     },
     "metadata": {},
     "output_type": "display_data"
    }
   ],
   "source": [
    "fig = px.bar(df_country_taste_dist, x='country', y='wine_count', color='group_name',\n",
    "             title='Distribution of Wine Flavors Across Countries',\n",
    "             labels={'wine_count': 'Number of Wines', 'group_name': 'Flavor'},\n",
    "             barmode='stack')\n",
    "\n",
    "fig.update_layout(height=600)\n",
    "\n",
    "fig.show()"
   ]
  },
  {
   "cell_type": "code",
   "execution_count": 37,
   "metadata": {},
   "outputs": [
    {
     "data": {
      "application/vnd.plotly.v1+json": {
       "config": {
        "plotlyServerURL": "https://plot.ly"
       },
       "data": [
        {
         "domain": {
          "x": [
           0,
           1
          ],
          "y": [
           0,
           1
          ]
         },
         "hovertemplate": "group_name=%{label}<br>count(*)=%{value}<extra></extra>",
         "labels": [
          "black_fruit",
          "citrus_fruit",
          "dried_fruit",
          "earth",
          "floral",
          "microbio",
          "non_oak",
          "oak",
          "red_fruit",
          "spices",
          "tree_fruit",
          "tropical_fruit",
          "vegetal"
         ],
         "legendgroup": "",
         "name": "",
         "showlegend": true,
         "type": "pie",
         "values": [
          1163,
          326,
          383,
          2039,
          512,
          641,
          1445,
          2153,
          936,
          1437,
          298,
          163,
          566
         ]
        }
       ],
       "layout": {
        "legend": {
         "tracegroupgap": 0
        },
        "template": {
         "data": {
          "bar": [
           {
            "error_x": {
             "color": "#2a3f5f"
            },
            "error_y": {
             "color": "#2a3f5f"
            },
            "marker": {
             "line": {
              "color": "#E5ECF6",
              "width": 0.5
             },
             "pattern": {
              "fillmode": "overlay",
              "size": 10,
              "solidity": 0.2
             }
            },
            "type": "bar"
           }
          ],
          "barpolar": [
           {
            "marker": {
             "line": {
              "color": "#E5ECF6",
              "width": 0.5
             },
             "pattern": {
              "fillmode": "overlay",
              "size": 10,
              "solidity": 0.2
             }
            },
            "type": "barpolar"
           }
          ],
          "carpet": [
           {
            "aaxis": {
             "endlinecolor": "#2a3f5f",
             "gridcolor": "white",
             "linecolor": "white",
             "minorgridcolor": "white",
             "startlinecolor": "#2a3f5f"
            },
            "baxis": {
             "endlinecolor": "#2a3f5f",
             "gridcolor": "white",
             "linecolor": "white",
             "minorgridcolor": "white",
             "startlinecolor": "#2a3f5f"
            },
            "type": "carpet"
           }
          ],
          "choropleth": [
           {
            "colorbar": {
             "outlinewidth": 0,
             "ticks": ""
            },
            "type": "choropleth"
           }
          ],
          "contour": [
           {
            "colorbar": {
             "outlinewidth": 0,
             "ticks": ""
            },
            "colorscale": [
             [
              0,
              "#0d0887"
             ],
             [
              0.1111111111111111,
              "#46039f"
             ],
             [
              0.2222222222222222,
              "#7201a8"
             ],
             [
              0.3333333333333333,
              "#9c179e"
             ],
             [
              0.4444444444444444,
              "#bd3786"
             ],
             [
              0.5555555555555556,
              "#d8576b"
             ],
             [
              0.6666666666666666,
              "#ed7953"
             ],
             [
              0.7777777777777778,
              "#fb9f3a"
             ],
             [
              0.8888888888888888,
              "#fdca26"
             ],
             [
              1,
              "#f0f921"
             ]
            ],
            "type": "contour"
           }
          ],
          "contourcarpet": [
           {
            "colorbar": {
             "outlinewidth": 0,
             "ticks": ""
            },
            "type": "contourcarpet"
           }
          ],
          "heatmap": [
           {
            "colorbar": {
             "outlinewidth": 0,
             "ticks": ""
            },
            "colorscale": [
             [
              0,
              "#0d0887"
             ],
             [
              0.1111111111111111,
              "#46039f"
             ],
             [
              0.2222222222222222,
              "#7201a8"
             ],
             [
              0.3333333333333333,
              "#9c179e"
             ],
             [
              0.4444444444444444,
              "#bd3786"
             ],
             [
              0.5555555555555556,
              "#d8576b"
             ],
             [
              0.6666666666666666,
              "#ed7953"
             ],
             [
              0.7777777777777778,
              "#fb9f3a"
             ],
             [
              0.8888888888888888,
              "#fdca26"
             ],
             [
              1,
              "#f0f921"
             ]
            ],
            "type": "heatmap"
           }
          ],
          "heatmapgl": [
           {
            "colorbar": {
             "outlinewidth": 0,
             "ticks": ""
            },
            "colorscale": [
             [
              0,
              "#0d0887"
             ],
             [
              0.1111111111111111,
              "#46039f"
             ],
             [
              0.2222222222222222,
              "#7201a8"
             ],
             [
              0.3333333333333333,
              "#9c179e"
             ],
             [
              0.4444444444444444,
              "#bd3786"
             ],
             [
              0.5555555555555556,
              "#d8576b"
             ],
             [
              0.6666666666666666,
              "#ed7953"
             ],
             [
              0.7777777777777778,
              "#fb9f3a"
             ],
             [
              0.8888888888888888,
              "#fdca26"
             ],
             [
              1,
              "#f0f921"
             ]
            ],
            "type": "heatmapgl"
           }
          ],
          "histogram": [
           {
            "marker": {
             "pattern": {
              "fillmode": "overlay",
              "size": 10,
              "solidity": 0.2
             }
            },
            "type": "histogram"
           }
          ],
          "histogram2d": [
           {
            "colorbar": {
             "outlinewidth": 0,
             "ticks": ""
            },
            "colorscale": [
             [
              0,
              "#0d0887"
             ],
             [
              0.1111111111111111,
              "#46039f"
             ],
             [
              0.2222222222222222,
              "#7201a8"
             ],
             [
              0.3333333333333333,
              "#9c179e"
             ],
             [
              0.4444444444444444,
              "#bd3786"
             ],
             [
              0.5555555555555556,
              "#d8576b"
             ],
             [
              0.6666666666666666,
              "#ed7953"
             ],
             [
              0.7777777777777778,
              "#fb9f3a"
             ],
             [
              0.8888888888888888,
              "#fdca26"
             ],
             [
              1,
              "#f0f921"
             ]
            ],
            "type": "histogram2d"
           }
          ],
          "histogram2dcontour": [
           {
            "colorbar": {
             "outlinewidth": 0,
             "ticks": ""
            },
            "colorscale": [
             [
              0,
              "#0d0887"
             ],
             [
              0.1111111111111111,
              "#46039f"
             ],
             [
              0.2222222222222222,
              "#7201a8"
             ],
             [
              0.3333333333333333,
              "#9c179e"
             ],
             [
              0.4444444444444444,
              "#bd3786"
             ],
             [
              0.5555555555555556,
              "#d8576b"
             ],
             [
              0.6666666666666666,
              "#ed7953"
             ],
             [
              0.7777777777777778,
              "#fb9f3a"
             ],
             [
              0.8888888888888888,
              "#fdca26"
             ],
             [
              1,
              "#f0f921"
             ]
            ],
            "type": "histogram2dcontour"
           }
          ],
          "mesh3d": [
           {
            "colorbar": {
             "outlinewidth": 0,
             "ticks": ""
            },
            "type": "mesh3d"
           }
          ],
          "parcoords": [
           {
            "line": {
             "colorbar": {
              "outlinewidth": 0,
              "ticks": ""
             }
            },
            "type": "parcoords"
           }
          ],
          "pie": [
           {
            "automargin": true,
            "type": "pie"
           }
          ],
          "scatter": [
           {
            "fillpattern": {
             "fillmode": "overlay",
             "size": 10,
             "solidity": 0.2
            },
            "type": "scatter"
           }
          ],
          "scatter3d": [
           {
            "line": {
             "colorbar": {
              "outlinewidth": 0,
              "ticks": ""
             }
            },
            "marker": {
             "colorbar": {
              "outlinewidth": 0,
              "ticks": ""
             }
            },
            "type": "scatter3d"
           }
          ],
          "scattercarpet": [
           {
            "marker": {
             "colorbar": {
              "outlinewidth": 0,
              "ticks": ""
             }
            },
            "type": "scattercarpet"
           }
          ],
          "scattergeo": [
           {
            "marker": {
             "colorbar": {
              "outlinewidth": 0,
              "ticks": ""
             }
            },
            "type": "scattergeo"
           }
          ],
          "scattergl": [
           {
            "marker": {
             "colorbar": {
              "outlinewidth": 0,
              "ticks": ""
             }
            },
            "type": "scattergl"
           }
          ],
          "scattermapbox": [
           {
            "marker": {
             "colorbar": {
              "outlinewidth": 0,
              "ticks": ""
             }
            },
            "type": "scattermapbox"
           }
          ],
          "scatterpolar": [
           {
            "marker": {
             "colorbar": {
              "outlinewidth": 0,
              "ticks": ""
             }
            },
            "type": "scatterpolar"
           }
          ],
          "scatterpolargl": [
           {
            "marker": {
             "colorbar": {
              "outlinewidth": 0,
              "ticks": ""
             }
            },
            "type": "scatterpolargl"
           }
          ],
          "scatterternary": [
           {
            "marker": {
             "colorbar": {
              "outlinewidth": 0,
              "ticks": ""
             }
            },
            "type": "scatterternary"
           }
          ],
          "surface": [
           {
            "colorbar": {
             "outlinewidth": 0,
             "ticks": ""
            },
            "colorscale": [
             [
              0,
              "#0d0887"
             ],
             [
              0.1111111111111111,
              "#46039f"
             ],
             [
              0.2222222222222222,
              "#7201a8"
             ],
             [
              0.3333333333333333,
              "#9c179e"
             ],
             [
              0.4444444444444444,
              "#bd3786"
             ],
             [
              0.5555555555555556,
              "#d8576b"
             ],
             [
              0.6666666666666666,
              "#ed7953"
             ],
             [
              0.7777777777777778,
              "#fb9f3a"
             ],
             [
              0.8888888888888888,
              "#fdca26"
             ],
             [
              1,
              "#f0f921"
             ]
            ],
            "type": "surface"
           }
          ],
          "table": [
           {
            "cells": {
             "fill": {
              "color": "#EBF0F8"
             },
             "line": {
              "color": "white"
             }
            },
            "header": {
             "fill": {
              "color": "#C8D4E3"
             },
             "line": {
              "color": "white"
             }
            },
            "type": "table"
           }
          ]
         },
         "layout": {
          "annotationdefaults": {
           "arrowcolor": "#2a3f5f",
           "arrowhead": 0,
           "arrowwidth": 1
          },
          "autotypenumbers": "strict",
          "coloraxis": {
           "colorbar": {
            "outlinewidth": 0,
            "ticks": ""
           }
          },
          "colorscale": {
           "diverging": [
            [
             0,
             "#8e0152"
            ],
            [
             0.1,
             "#c51b7d"
            ],
            [
             0.2,
             "#de77ae"
            ],
            [
             0.3,
             "#f1b6da"
            ],
            [
             0.4,
             "#fde0ef"
            ],
            [
             0.5,
             "#f7f7f7"
            ],
            [
             0.6,
             "#e6f5d0"
            ],
            [
             0.7,
             "#b8e186"
            ],
            [
             0.8,
             "#7fbc41"
            ],
            [
             0.9,
             "#4d9221"
            ],
            [
             1,
             "#276419"
            ]
           ],
           "sequential": [
            [
             0,
             "#0d0887"
            ],
            [
             0.1111111111111111,
             "#46039f"
            ],
            [
             0.2222222222222222,
             "#7201a8"
            ],
            [
             0.3333333333333333,
             "#9c179e"
            ],
            [
             0.4444444444444444,
             "#bd3786"
            ],
            [
             0.5555555555555556,
             "#d8576b"
            ],
            [
             0.6666666666666666,
             "#ed7953"
            ],
            [
             0.7777777777777778,
             "#fb9f3a"
            ],
            [
             0.8888888888888888,
             "#fdca26"
            ],
            [
             1,
             "#f0f921"
            ]
           ],
           "sequentialminus": [
            [
             0,
             "#0d0887"
            ],
            [
             0.1111111111111111,
             "#46039f"
            ],
            [
             0.2222222222222222,
             "#7201a8"
            ],
            [
             0.3333333333333333,
             "#9c179e"
            ],
            [
             0.4444444444444444,
             "#bd3786"
            ],
            [
             0.5555555555555556,
             "#d8576b"
            ],
            [
             0.6666666666666666,
             "#ed7953"
            ],
            [
             0.7777777777777778,
             "#fb9f3a"
            ],
            [
             0.8888888888888888,
             "#fdca26"
            ],
            [
             1,
             "#f0f921"
            ]
           ]
          },
          "colorway": [
           "#636efa",
           "#EF553B",
           "#00cc96",
           "#ab63fa",
           "#FFA15A",
           "#19d3f3",
           "#FF6692",
           "#B6E880",
           "#FF97FF",
           "#FECB52"
          ],
          "font": {
           "color": "#2a3f5f"
          },
          "geo": {
           "bgcolor": "white",
           "lakecolor": "white",
           "landcolor": "#E5ECF6",
           "showlakes": true,
           "showland": true,
           "subunitcolor": "white"
          },
          "hoverlabel": {
           "align": "left"
          },
          "hovermode": "closest",
          "mapbox": {
           "style": "light"
          },
          "paper_bgcolor": "white",
          "plot_bgcolor": "#E5ECF6",
          "polar": {
           "angularaxis": {
            "gridcolor": "white",
            "linecolor": "white",
            "ticks": ""
           },
           "bgcolor": "#E5ECF6",
           "radialaxis": {
            "gridcolor": "white",
            "linecolor": "white",
            "ticks": ""
           }
          },
          "scene": {
           "xaxis": {
            "backgroundcolor": "#E5ECF6",
            "gridcolor": "white",
            "gridwidth": 2,
            "linecolor": "white",
            "showbackground": true,
            "ticks": "",
            "zerolinecolor": "white"
           },
           "yaxis": {
            "backgroundcolor": "#E5ECF6",
            "gridcolor": "white",
            "gridwidth": 2,
            "linecolor": "white",
            "showbackground": true,
            "ticks": "",
            "zerolinecolor": "white"
           },
           "zaxis": {
            "backgroundcolor": "#E5ECF6",
            "gridcolor": "white",
            "gridwidth": 2,
            "linecolor": "white",
            "showbackground": true,
            "ticks": "",
            "zerolinecolor": "white"
           }
          },
          "shapedefaults": {
           "line": {
            "color": "#2a3f5f"
           }
          },
          "ternary": {
           "aaxis": {
            "gridcolor": "white",
            "linecolor": "white",
            "ticks": ""
           },
           "baxis": {
            "gridcolor": "white",
            "linecolor": "white",
            "ticks": ""
           },
           "bgcolor": "#E5ECF6",
           "caxis": {
            "gridcolor": "white",
            "linecolor": "white",
            "ticks": ""
           }
          },
          "title": {
           "x": 0.05
          },
          "xaxis": {
           "automargin": true,
           "gridcolor": "white",
           "linecolor": "white",
           "ticks": "",
           "title": {
            "standoff": 15
           },
           "zerolinecolor": "white",
           "zerolinewidth": 2
          },
          "yaxis": {
           "automargin": true,
           "gridcolor": "white",
           "linecolor": "white",
           "ticks": "",
           "title": {
            "standoff": 15
           },
           "zerolinecolor": "white",
           "zerolinewidth": 2
          }
         }
        },
        "title": {
         "text": "Distribution of tastes in the USA"
        }
       }
      }
     },
     "metadata": {},
     "output_type": "display_data"
    }
   ],
   "source": [
    "fig = px.pie(us_df, values = \"count(*)\", names=\"group_name\", title = \"Distribution of tastes in the USA\")\n",
    "fig.show()"
   ]
  },
  {
   "cell_type": "code",
   "execution_count": 109,
   "metadata": {},
   "outputs": [
    {
     "data": {
      "application/vnd.plotly.v1+json": {
       "config": {
        "plotlyServerURL": "https://plot.ly"
       },
       "data": [
        {
         "domain": {
          "x": [
           0,
           0.2888888888888889
          ],
          "y": [
           0,
           1
          ]
         },
         "labels": [
          "black_fruit",
          "citrus_fruit",
          "dried_fruit",
          "earth",
          "floral",
          "microbio",
          "non_oak",
          "oak",
          "red_fruit",
          "spices",
          "tree_fruit",
          "tropical_fruit",
          "vegetal"
         ],
         "marker": {
          "colors": [
           "rgb(102, 197, 204)",
           "rgb(246, 207, 113)",
           "rgb(248, 156, 116)",
           "rgb(220, 176, 242)",
           "rgb(135, 197, 95)",
           "rgb(158, 185, 243)",
           "rgb(254, 136, 177)",
           "rgb(201, 219, 116)",
           "rgb(139, 224, 164)",
           "rgb(180, 151, 231)",
           "rgb(179, 179, 179)"
          ]
         },
         "type": "pie",
         "values": [
          2767,
          2062,
          1250,
          6972,
          2092,
          2777,
          5021,
          6442,
          2815,
          4074,
          2069,
          959,
          1882
         ]
        },
        {
         "domain": {
          "x": [
           0.35555555555555557,
           0.6444444444444445
          ],
          "y": [
           0,
           1
          ]
         },
         "labels": [
          "black_fruit",
          "citrus_fruit",
          "dried_fruit",
          "earth",
          "floral",
          "microbio",
          "non_oak",
          "oak",
          "red_fruit",
          "spices",
          "tree_fruit",
          "tropical_fruit",
          "vegetal"
         ],
         "marker": {
          "colors": [
           "rgb(102, 197, 204)",
           "rgb(246, 207, 113)",
           "rgb(248, 156, 116)",
           "rgb(220, 176, 242)",
           "rgb(135, 197, 95)",
           "rgb(158, 185, 243)",
           "rgb(254, 136, 177)",
           "rgb(201, 219, 116)",
           "rgb(139, 224, 164)",
           "rgb(180, 151, 231)",
           "rgb(179, 179, 179)"
          ]
         },
         "type": "pie",
         "values": [
          4240,
          1287,
          1889,
          7861,
          2185,
          2375,
          5873,
          8010,
          3961,
          5288,
          921,
          468,
          1939
         ]
        },
        {
         "domain": {
          "x": [
           0.7111111111111111,
           1
          ],
          "y": [
           0,
           1
          ]
         },
         "labels": [
          "black_fruit",
          "citrus_fruit",
          "dried_fruit",
          "earth",
          "floral",
          "microbio",
          "non_oak",
          "oak",
          "red_fruit",
          "spices",
          "tree_fruit",
          "tropical_fruit",
          "vegetal"
         ],
         "marker": {
          "colors": [
           "rgb(102, 197, 204)",
           "rgb(246, 207, 113)",
           "rgb(248, 156, 116)",
           "rgb(220, 176, 242)",
           "rgb(135, 197, 95)",
           "rgb(158, 185, 243)",
           "rgb(254, 136, 177)",
           "rgb(201, 219, 116)",
           "rgb(139, 224, 164)",
           "rgb(180, 151, 231)",
           "rgb(179, 179, 179)"
          ]
         },
         "type": "pie",
         "values": [
          1163,
          326,
          383,
          2039,
          512,
          641,
          1445,
          2153,
          936,
          1437,
          298,
          163,
          566
         ]
        }
       ],
       "layout": {
        "annotations": [
         {
          "font": {
           "size": 16
          },
          "showarrow": false,
          "text": "France",
          "x": 0.14444444444444446,
          "xanchor": "center",
          "xref": "paper",
          "y": 1,
          "yanchor": "bottom",
          "yref": "paper"
         },
         {
          "font": {
           "size": 16
          },
          "showarrow": false,
          "text": "Italy",
          "x": 0.5,
          "xanchor": "center",
          "xref": "paper",
          "y": 1,
          "yanchor": "bottom",
          "yref": "paper"
         },
         {
          "font": {
           "size": 16
          },
          "showarrow": false,
          "text": "USA",
          "x": 0.8555555555555556,
          "xanchor": "center",
          "xref": "paper",
          "y": 1,
          "yanchor": "bottom",
          "yref": "paper"
         }
        ],
        "template": {
         "data": {
          "bar": [
           {
            "error_x": {
             "color": "#2a3f5f"
            },
            "error_y": {
             "color": "#2a3f5f"
            },
            "marker": {
             "line": {
              "color": "#E5ECF6",
              "width": 0.5
             },
             "pattern": {
              "fillmode": "overlay",
              "size": 10,
              "solidity": 0.2
             }
            },
            "type": "bar"
           }
          ],
          "barpolar": [
           {
            "marker": {
             "line": {
              "color": "#E5ECF6",
              "width": 0.5
             },
             "pattern": {
              "fillmode": "overlay",
              "size": 10,
              "solidity": 0.2
             }
            },
            "type": "barpolar"
           }
          ],
          "carpet": [
           {
            "aaxis": {
             "endlinecolor": "#2a3f5f",
             "gridcolor": "white",
             "linecolor": "white",
             "minorgridcolor": "white",
             "startlinecolor": "#2a3f5f"
            },
            "baxis": {
             "endlinecolor": "#2a3f5f",
             "gridcolor": "white",
             "linecolor": "white",
             "minorgridcolor": "white",
             "startlinecolor": "#2a3f5f"
            },
            "type": "carpet"
           }
          ],
          "choropleth": [
           {
            "colorbar": {
             "outlinewidth": 0,
             "ticks": ""
            },
            "type": "choropleth"
           }
          ],
          "contour": [
           {
            "colorbar": {
             "outlinewidth": 0,
             "ticks": ""
            },
            "colorscale": [
             [
              0,
              "#0d0887"
             ],
             [
              0.1111111111111111,
              "#46039f"
             ],
             [
              0.2222222222222222,
              "#7201a8"
             ],
             [
              0.3333333333333333,
              "#9c179e"
             ],
             [
              0.4444444444444444,
              "#bd3786"
             ],
             [
              0.5555555555555556,
              "#d8576b"
             ],
             [
              0.6666666666666666,
              "#ed7953"
             ],
             [
              0.7777777777777778,
              "#fb9f3a"
             ],
             [
              0.8888888888888888,
              "#fdca26"
             ],
             [
              1,
              "#f0f921"
             ]
            ],
            "type": "contour"
           }
          ],
          "contourcarpet": [
           {
            "colorbar": {
             "outlinewidth": 0,
             "ticks": ""
            },
            "type": "contourcarpet"
           }
          ],
          "heatmap": [
           {
            "colorbar": {
             "outlinewidth": 0,
             "ticks": ""
            },
            "colorscale": [
             [
              0,
              "#0d0887"
             ],
             [
              0.1111111111111111,
              "#46039f"
             ],
             [
              0.2222222222222222,
              "#7201a8"
             ],
             [
              0.3333333333333333,
              "#9c179e"
             ],
             [
              0.4444444444444444,
              "#bd3786"
             ],
             [
              0.5555555555555556,
              "#d8576b"
             ],
             [
              0.6666666666666666,
              "#ed7953"
             ],
             [
              0.7777777777777778,
              "#fb9f3a"
             ],
             [
              0.8888888888888888,
              "#fdca26"
             ],
             [
              1,
              "#f0f921"
             ]
            ],
            "type": "heatmap"
           }
          ],
          "heatmapgl": [
           {
            "colorbar": {
             "outlinewidth": 0,
             "ticks": ""
            },
            "colorscale": [
             [
              0,
              "#0d0887"
             ],
             [
              0.1111111111111111,
              "#46039f"
             ],
             [
              0.2222222222222222,
              "#7201a8"
             ],
             [
              0.3333333333333333,
              "#9c179e"
             ],
             [
              0.4444444444444444,
              "#bd3786"
             ],
             [
              0.5555555555555556,
              "#d8576b"
             ],
             [
              0.6666666666666666,
              "#ed7953"
             ],
             [
              0.7777777777777778,
              "#fb9f3a"
             ],
             [
              0.8888888888888888,
              "#fdca26"
             ],
             [
              1,
              "#f0f921"
             ]
            ],
            "type": "heatmapgl"
           }
          ],
          "histogram": [
           {
            "marker": {
             "pattern": {
              "fillmode": "overlay",
              "size": 10,
              "solidity": 0.2
             }
            },
            "type": "histogram"
           }
          ],
          "histogram2d": [
           {
            "colorbar": {
             "outlinewidth": 0,
             "ticks": ""
            },
            "colorscale": [
             [
              0,
              "#0d0887"
             ],
             [
              0.1111111111111111,
              "#46039f"
             ],
             [
              0.2222222222222222,
              "#7201a8"
             ],
             [
              0.3333333333333333,
              "#9c179e"
             ],
             [
              0.4444444444444444,
              "#bd3786"
             ],
             [
              0.5555555555555556,
              "#d8576b"
             ],
             [
              0.6666666666666666,
              "#ed7953"
             ],
             [
              0.7777777777777778,
              "#fb9f3a"
             ],
             [
              0.8888888888888888,
              "#fdca26"
             ],
             [
              1,
              "#f0f921"
             ]
            ],
            "type": "histogram2d"
           }
          ],
          "histogram2dcontour": [
           {
            "colorbar": {
             "outlinewidth": 0,
             "ticks": ""
            },
            "colorscale": [
             [
              0,
              "#0d0887"
             ],
             [
              0.1111111111111111,
              "#46039f"
             ],
             [
              0.2222222222222222,
              "#7201a8"
             ],
             [
              0.3333333333333333,
              "#9c179e"
             ],
             [
              0.4444444444444444,
              "#bd3786"
             ],
             [
              0.5555555555555556,
              "#d8576b"
             ],
             [
              0.6666666666666666,
              "#ed7953"
             ],
             [
              0.7777777777777778,
              "#fb9f3a"
             ],
             [
              0.8888888888888888,
              "#fdca26"
             ],
             [
              1,
              "#f0f921"
             ]
            ],
            "type": "histogram2dcontour"
           }
          ],
          "mesh3d": [
           {
            "colorbar": {
             "outlinewidth": 0,
             "ticks": ""
            },
            "type": "mesh3d"
           }
          ],
          "parcoords": [
           {
            "line": {
             "colorbar": {
              "outlinewidth": 0,
              "ticks": ""
             }
            },
            "type": "parcoords"
           }
          ],
          "pie": [
           {
            "automargin": true,
            "type": "pie"
           }
          ],
          "scatter": [
           {
            "fillpattern": {
             "fillmode": "overlay",
             "size": 10,
             "solidity": 0.2
            },
            "type": "scatter"
           }
          ],
          "scatter3d": [
           {
            "line": {
             "colorbar": {
              "outlinewidth": 0,
              "ticks": ""
             }
            },
            "marker": {
             "colorbar": {
              "outlinewidth": 0,
              "ticks": ""
             }
            },
            "type": "scatter3d"
           }
          ],
          "scattercarpet": [
           {
            "marker": {
             "colorbar": {
              "outlinewidth": 0,
              "ticks": ""
             }
            },
            "type": "scattercarpet"
           }
          ],
          "scattergeo": [
           {
            "marker": {
             "colorbar": {
              "outlinewidth": 0,
              "ticks": ""
             }
            },
            "type": "scattergeo"
           }
          ],
          "scattergl": [
           {
            "marker": {
             "colorbar": {
              "outlinewidth": 0,
              "ticks": ""
             }
            },
            "type": "scattergl"
           }
          ],
          "scattermapbox": [
           {
            "marker": {
             "colorbar": {
              "outlinewidth": 0,
              "ticks": ""
             }
            },
            "type": "scattermapbox"
           }
          ],
          "scatterpolar": [
           {
            "marker": {
             "colorbar": {
              "outlinewidth": 0,
              "ticks": ""
             }
            },
            "type": "scatterpolar"
           }
          ],
          "scatterpolargl": [
           {
            "marker": {
             "colorbar": {
              "outlinewidth": 0,
              "ticks": ""
             }
            },
            "type": "scatterpolargl"
           }
          ],
          "scatterternary": [
           {
            "marker": {
             "colorbar": {
              "outlinewidth": 0,
              "ticks": ""
             }
            },
            "type": "scatterternary"
           }
          ],
          "surface": [
           {
            "colorbar": {
             "outlinewidth": 0,
             "ticks": ""
            },
            "colorscale": [
             [
              0,
              "#0d0887"
             ],
             [
              0.1111111111111111,
              "#46039f"
             ],
             [
              0.2222222222222222,
              "#7201a8"
             ],
             [
              0.3333333333333333,
              "#9c179e"
             ],
             [
              0.4444444444444444,
              "#bd3786"
             ],
             [
              0.5555555555555556,
              "#d8576b"
             ],
             [
              0.6666666666666666,
              "#ed7953"
             ],
             [
              0.7777777777777778,
              "#fb9f3a"
             ],
             [
              0.8888888888888888,
              "#fdca26"
             ],
             [
              1,
              "#f0f921"
             ]
            ],
            "type": "surface"
           }
          ],
          "table": [
           {
            "cells": {
             "fill": {
              "color": "#EBF0F8"
             },
             "line": {
              "color": "white"
             }
            },
            "header": {
             "fill": {
              "color": "#C8D4E3"
             },
             "line": {
              "color": "white"
             }
            },
            "type": "table"
           }
          ]
         },
         "layout": {
          "annotationdefaults": {
           "arrowcolor": "#2a3f5f",
           "arrowhead": 0,
           "arrowwidth": 1
          },
          "autotypenumbers": "strict",
          "coloraxis": {
           "colorbar": {
            "outlinewidth": 0,
            "ticks": ""
           }
          },
          "colorscale": {
           "diverging": [
            [
             0,
             "#8e0152"
            ],
            [
             0.1,
             "#c51b7d"
            ],
            [
             0.2,
             "#de77ae"
            ],
            [
             0.3,
             "#f1b6da"
            ],
            [
             0.4,
             "#fde0ef"
            ],
            [
             0.5,
             "#f7f7f7"
            ],
            [
             0.6,
             "#e6f5d0"
            ],
            [
             0.7,
             "#b8e186"
            ],
            [
             0.8,
             "#7fbc41"
            ],
            [
             0.9,
             "#4d9221"
            ],
            [
             1,
             "#276419"
            ]
           ],
           "sequential": [
            [
             0,
             "#0d0887"
            ],
            [
             0.1111111111111111,
             "#46039f"
            ],
            [
             0.2222222222222222,
             "#7201a8"
            ],
            [
             0.3333333333333333,
             "#9c179e"
            ],
            [
             0.4444444444444444,
             "#bd3786"
            ],
            [
             0.5555555555555556,
             "#d8576b"
            ],
            [
             0.6666666666666666,
             "#ed7953"
            ],
            [
             0.7777777777777778,
             "#fb9f3a"
            ],
            [
             0.8888888888888888,
             "#fdca26"
            ],
            [
             1,
             "#f0f921"
            ]
           ],
           "sequentialminus": [
            [
             0,
             "#0d0887"
            ],
            [
             0.1111111111111111,
             "#46039f"
            ],
            [
             0.2222222222222222,
             "#7201a8"
            ],
            [
             0.3333333333333333,
             "#9c179e"
            ],
            [
             0.4444444444444444,
             "#bd3786"
            ],
            [
             0.5555555555555556,
             "#d8576b"
            ],
            [
             0.6666666666666666,
             "#ed7953"
            ],
            [
             0.7777777777777778,
             "#fb9f3a"
            ],
            [
             0.8888888888888888,
             "#fdca26"
            ],
            [
             1,
             "#f0f921"
            ]
           ]
          },
          "colorway": [
           "#636efa",
           "#EF553B",
           "#00cc96",
           "#ab63fa",
           "#FFA15A",
           "#19d3f3",
           "#FF6692",
           "#B6E880",
           "#FF97FF",
           "#FECB52"
          ],
          "font": {
           "color": "#2a3f5f"
          },
          "geo": {
           "bgcolor": "white",
           "lakecolor": "white",
           "landcolor": "#E5ECF6",
           "showlakes": true,
           "showland": true,
           "subunitcolor": "white"
          },
          "hoverlabel": {
           "align": "left"
          },
          "hovermode": "closest",
          "mapbox": {
           "style": "light"
          },
          "paper_bgcolor": "white",
          "plot_bgcolor": "#E5ECF6",
          "polar": {
           "angularaxis": {
            "gridcolor": "white",
            "linecolor": "white",
            "ticks": ""
           },
           "bgcolor": "#E5ECF6",
           "radialaxis": {
            "gridcolor": "white",
            "linecolor": "white",
            "ticks": ""
           }
          },
          "scene": {
           "xaxis": {
            "backgroundcolor": "#E5ECF6",
            "gridcolor": "white",
            "gridwidth": 2,
            "linecolor": "white",
            "showbackground": true,
            "ticks": "",
            "zerolinecolor": "white"
           },
           "yaxis": {
            "backgroundcolor": "#E5ECF6",
            "gridcolor": "white",
            "gridwidth": 2,
            "linecolor": "white",
            "showbackground": true,
            "ticks": "",
            "zerolinecolor": "white"
           },
           "zaxis": {
            "backgroundcolor": "#E5ECF6",
            "gridcolor": "white",
            "gridwidth": 2,
            "linecolor": "white",
            "showbackground": true,
            "ticks": "",
            "zerolinecolor": "white"
           }
          },
          "shapedefaults": {
           "line": {
            "color": "#2a3f5f"
           }
          },
          "ternary": {
           "aaxis": {
            "gridcolor": "white",
            "linecolor": "white",
            "ticks": ""
           },
           "baxis": {
            "gridcolor": "white",
            "linecolor": "white",
            "ticks": ""
           },
           "bgcolor": "#E5ECF6",
           "caxis": {
            "gridcolor": "white",
            "linecolor": "white",
            "ticks": ""
           }
          },
          "title": {
           "x": 0.05
          },
          "xaxis": {
           "automargin": true,
           "gridcolor": "white",
           "linecolor": "white",
           "ticks": "",
           "title": {
            "standoff": 15
           },
           "zerolinecolor": "white",
           "zerolinewidth": 2
          },
          "yaxis": {
           "automargin": true,
           "gridcolor": "white",
           "linecolor": "white",
           "ticks": "",
           "title": {
            "standoff": 15
           },
           "zerolinecolor": "white",
           "zerolinewidth": 2
          }
         }
        },
        "title": {
         "text": "Distribution of tastes in France, Italy, and the USA"
        }
       }
      }
     },
     "metadata": {},
     "output_type": "display_data"
    }
   ],
   "source": [
    "import plotly.graph_objects as go\n",
    "from plotly.subplots import make_subplots\n",
    "\n",
    "query_tastes_of_France = \"\"\"SELECT keywords_wine.group_name, count(*), wines.name AS wine_name, countries.name AS country_name FROM keywords_wine\n",
    "JOIN wines ON keywords_wine.wine_id = wines.id\n",
    "JOIN regions ON wines.region_id = regions.id\n",
    "JOIN countries ON regions.country_code = countries.code\n",
    "WHERE country_name = \"France\"\n",
    "GROUP BY keywords_wine.group_name\n",
    "\"\"\"\n",
    "\n",
    "fr_df = pd.read_sql_query(query_tastes_of_France, conn)\n",
    "fr_df\n",
    "\n",
    "query_tastes_of_Italy = \"\"\"SELECT keywords_wine.group_name, count(*), wines.name AS wine_name, countries.name AS country_name FROM keywords_wine\n",
    "JOIN wines ON keywords_wine.wine_id = wines.id\n",
    "JOIN regions ON wines.region_id = regions.id\n",
    "JOIN countries ON regions.country_code = countries.code\n",
    "WHERE country_name = \"Italie\"\n",
    "GROUP BY keywords_wine.group_name\n",
    "\"\"\"\n",
    "\n",
    "it_df = pd.read_sql_query(query_tastes_of_Italy, conn)\n",
    "it_df\n",
    "\n",
    "fig = make_subplots(rows=1, cols=3, subplot_titles=(\"France\", \"Italy\", \"USA\"), specs=[[{'type':'domain'}, {'type':'domain'}, {'type':'domain'}]])\n",
    "\n",
    "# Add pie charts to subplots\n",
    "fig.add_trace(go.Pie(labels=fr_df[\"group_name\"], values=fr_df[\"count(*)\"], marker=dict(colors=px.colors.qualitative.Pastel)),\n",
    "              row=1, col=1)\n",
    "fig.add_trace(go.Pie(labels=it_df[\"group_name\"], values=it_df[\"count(*)\"], marker=dict(colors=px.colors.qualitative.Pastel)),\n",
    "              row=1, col=2)\n",
    "fig.add_trace(go.Pie(labels=us_df[\"group_name\"], values=us_df[\"count(*)\"], marker=dict(colors=px.colors.qualitative.Pastel)),\n",
    "              row=1, col=3)\n",
    "\n",
    "# Update layout\n",
    "fig.update_layout(title=\"Distribution of tastes in France, Italy, and the USA\")\n",
    "\n",
    "# Show the plot\n",
    "fig.show()"
   ]
  },
  {
   "cell_type": "markdown",
   "metadata": {},
   "source": [
    "Wine properties and countries"
   ]
  },
  {
   "cell_type": "code",
   "execution_count": 71,
   "metadata": {},
   "outputs": [
    {
     "data": {
      "text/html": [
       "<div>\n",
       "<style scoped>\n",
       "    .dataframe tbody tr th:only-of-type {\n",
       "        vertical-align: middle;\n",
       "    }\n",
       "\n",
       "    .dataframe tbody tr th {\n",
       "        vertical-align: top;\n",
       "    }\n",
       "\n",
       "    .dataframe thead th {\n",
       "        text-align: right;\n",
       "    }\n",
       "</style>\n",
       "<table border=\"1\" class=\"dataframe\">\n",
       "  <thead>\n",
       "    <tr style=\"text-align: right;\">\n",
       "      <th></th>\n",
       "      <th>0</th>\n",
       "      <th>1</th>\n",
       "      <th>2</th>\n",
       "      <th>3</th>\n",
       "      <th>4</th>\n",
       "      <th>5</th>\n",
       "      <th>6</th>\n",
       "      <th>7</th>\n",
       "      <th>8</th>\n",
       "      <th>9</th>\n",
       "      <th>10</th>\n",
       "      <th>11</th>\n",
       "      <th>12</th>\n",
       "      <th>13</th>\n",
       "      <th>14</th>\n",
       "      <th>15</th>\n",
       "      <th>16</th>\n",
       "    </tr>\n",
       "  </thead>\n",
       "  <tbody>\n",
       "    <tr>\n",
       "      <th>country</th>\n",
       "      <td>Afrique du Sud</td>\n",
       "      <td>Allemagne</td>\n",
       "      <td>Argentine</td>\n",
       "      <td>Australie</td>\n",
       "      <td>Chili</td>\n",
       "      <td>Croatie</td>\n",
       "      <td>Espagne</td>\n",
       "      <td>France</td>\n",
       "      <td>Grèce</td>\n",
       "      <td>Hongrie</td>\n",
       "      <td>Israël</td>\n",
       "      <td>Italie</td>\n",
       "      <td>Moldavie</td>\n",
       "      <td>Portugal</td>\n",
       "      <td>Roumanie</td>\n",
       "      <td>Suisse</td>\n",
       "      <td>États-Unis</td>\n",
       "    </tr>\n",
       "    <tr>\n",
       "      <th>AVG(acidity)</th>\n",
       "      <td>3.442303</td>\n",
       "      <td>4.435819</td>\n",
       "      <td>2.965674</td>\n",
       "      <td>3.065209</td>\n",
       "      <td>3.024669</td>\n",
       "      <td>4.436117</td>\n",
       "      <td>3.477691</td>\n",
       "      <td>3.852087</td>\n",
       "      <td>4.299877</td>\n",
       "      <td>4.807573</td>\n",
       "      <td>2.938603</td>\n",
       "      <td>3.474897</td>\n",
       "      <td>NaN</td>\n",
       "      <td>3.123038</td>\n",
       "      <td>3.172636</td>\n",
       "      <td>3.862937</td>\n",
       "      <td>3.478865</td>\n",
       "    </tr>\n",
       "    <tr>\n",
       "      <th>AVG(fizziness)</th>\n",
       "      <td>NaN</td>\n",
       "      <td>NaN</td>\n",
       "      <td>NaN</td>\n",
       "      <td>NaN</td>\n",
       "      <td>NaN</td>\n",
       "      <td>NaN</td>\n",
       "      <td>3.402513</td>\n",
       "      <td>4.28603</td>\n",
       "      <td>NaN</td>\n",
       "      <td>NaN</td>\n",
       "      <td>NaN</td>\n",
       "      <td>3.30998</td>\n",
       "      <td>NaN</td>\n",
       "      <td>NaN</td>\n",
       "      <td>NaN</td>\n",
       "      <td>NaN</td>\n",
       "      <td>NaN</td>\n",
       "    </tr>\n",
       "    <tr>\n",
       "      <th>AVG(intensity)</th>\n",
       "      <td>4.046132</td>\n",
       "      <td>3.254909</td>\n",
       "      <td>4.02871</td>\n",
       "      <td>4.537767</td>\n",
       "      <td>4.552571</td>\n",
       "      <td>4.087005</td>\n",
       "      <td>3.959763</td>\n",
       "      <td>3.70732</td>\n",
       "      <td>3.449386</td>\n",
       "      <td>3.148826</td>\n",
       "      <td>3.439461</td>\n",
       "      <td>3.795893</td>\n",
       "      <td>NaN</td>\n",
       "      <td>4.259337</td>\n",
       "      <td>3.31093</td>\n",
       "      <td>3.855662</td>\n",
       "      <td>4.4244</td>\n",
       "    </tr>\n",
       "    <tr>\n",
       "      <th>AVG(sweetness)</th>\n",
       "      <td>1.917665</td>\n",
       "      <td>2.358388</td>\n",
       "      <td>2.072441</td>\n",
       "      <td>2.059063</td>\n",
       "      <td>1.726738</td>\n",
       "      <td>2.287386</td>\n",
       "      <td>2.002307</td>\n",
       "      <td>1.875598</td>\n",
       "      <td>1.510909</td>\n",
       "      <td>4.621564</td>\n",
       "      <td>1.738824</td>\n",
       "      <td>2.063218</td>\n",
       "      <td>NaN</td>\n",
       "      <td>3.196732</td>\n",
       "      <td>2.322248</td>\n",
       "      <td>2.469603</td>\n",
       "      <td>1.742801</td>\n",
       "    </tr>\n",
       "    <tr>\n",
       "      <th>AVG(tannin)</th>\n",
       "      <td>3.295999</td>\n",
       "      <td>2.311893</td>\n",
       "      <td>2.919937</td>\n",
       "      <td>3.216684</td>\n",
       "      <td>3.44654</td>\n",
       "      <td>3.842538</td>\n",
       "      <td>3.548258</td>\n",
       "      <td>3.147939</td>\n",
       "      <td>2.86172</td>\n",
       "      <td>NaN</td>\n",
       "      <td>2.993057</td>\n",
       "      <td>3.364957</td>\n",
       "      <td>NaN</td>\n",
       "      <td>3.304343</td>\n",
       "      <td>3.268372</td>\n",
       "      <td>3.168959</td>\n",
       "      <td>3.290927</td>\n",
       "    </tr>\n",
       "  </tbody>\n",
       "</table>\n",
       "</div>"
      ],
      "text/plain": [
       "                            0          1          2          3         4   \\\n",
       "country         Afrique du Sud  Allemagne  Argentine  Australie     Chili   \n",
       "AVG(acidity)          3.442303   4.435819   2.965674   3.065209  3.024669   \n",
       "AVG(fizziness)             NaN        NaN        NaN        NaN       NaN   \n",
       "AVG(intensity)        4.046132   3.254909    4.02871   4.537767  4.552571   \n",
       "AVG(sweetness)        1.917665   2.358388   2.072441   2.059063  1.726738   \n",
       "AVG(tannin)           3.295999   2.311893   2.919937   3.216684   3.44654   \n",
       "\n",
       "                      5         6         7         8         9         10  \\\n",
       "country          Croatie   Espagne    France     Grèce   Hongrie    Israël   \n",
       "AVG(acidity)    4.436117  3.477691  3.852087  4.299877  4.807573  2.938603   \n",
       "AVG(fizziness)       NaN  3.402513   4.28603       NaN       NaN       NaN   \n",
       "AVG(intensity)  4.087005  3.959763   3.70732  3.449386  3.148826  3.439461   \n",
       "AVG(sweetness)  2.287386  2.002307  1.875598  1.510909  4.621564  1.738824   \n",
       "AVG(tannin)     3.842538  3.548258  3.147939   2.86172       NaN  2.993057   \n",
       "\n",
       "                      11        12        13        14        15          16  \n",
       "country           Italie  Moldavie  Portugal  Roumanie    Suisse  États-Unis  \n",
       "AVG(acidity)    3.474897       NaN  3.123038  3.172636  3.862937    3.478865  \n",
       "AVG(fizziness)   3.30998       NaN       NaN       NaN       NaN         NaN  \n",
       "AVG(intensity)  3.795893       NaN  4.259337   3.31093  3.855662      4.4244  \n",
       "AVG(sweetness)  2.063218       NaN  3.196732  2.322248  2.469603    1.742801  \n",
       "AVG(tannin)     3.364957       NaN  3.304343  3.268372  3.168959    3.290927  "
      ]
     },
     "execution_count": 71,
     "metadata": {},
     "output_type": "execute_result"
    }
   ],
   "source": [
    "query_prop = \"\"\"SELECT countries.name AS country, AVG(acidity), AVG(fizziness), AVG(intensity), AVG(sweetness), AVG(tannin) from wines\n",
    "JOIN regions ON regions.id = wines.region_id\n",
    "JOIN countries ON regions.country_code = countries.code\n",
    "GROUP BY country\n",
    "\n",
    "\"\"\"\n",
    "\n",
    "df_prop = pd.read_sql_query(query_prop, conn)\n",
    "\n",
    "df_prop.transpose()"
   ]
  },
  {
   "cell_type": "code",
   "execution_count": 111,
   "metadata": {},
   "outputs": [
    {
     "data": {
      "application/vnd.plotly.v1+json": {
       "config": {
        "plotlyServerURL": "https://plot.ly"
       },
       "data": [
        {
         "alignmentgroup": "True",
         "hovertemplate": "Wine Property=AVG(acidity)<br>country=%{x}<br>Average Value=%{y}<extra></extra>",
         "legendgroup": "AVG(acidity)",
         "marker": {
          "color": "#636efa",
          "pattern": {
           "shape": ""
          }
         },
         "name": "AVG(acidity)",
         "offsetgroup": "AVG(acidity)",
         "orientation": "v",
         "showlegend": true,
         "textposition": "auto",
         "type": "bar",
         "x": [
          "Afrique du Sud",
          "Allemagne",
          "Argentine",
          "Australie",
          "Chili",
          "Croatie",
          "Espagne",
          "France",
          "Grèce",
          "Hongrie",
          "Israël",
          "Italie",
          "Moldavie",
          "Portugal",
          "Roumanie",
          "Suisse",
          "États-Unis"
         ],
         "xaxis": "x",
         "y": [
          3.442303327272727,
          4.435818607692307,
          2.965674321739131,
          3.065208516666667,
          3.0246686272727272,
          4.436117,
          3.477690975555556,
          3.8520870091463415,
          4.299877,
          4.80757308,
          2.9386032,
          3.4748966312,
          null,
          3.123038392857143,
          3.1726356,
          3.86293665,
          3.478865335616438
         ],
         "yaxis": "y"
        },
        {
         "alignmentgroup": "True",
         "hovertemplate": "Wine Property=AVG(fizziness)<br>country=%{x}<br>Average Value=%{y}<extra></extra>",
         "legendgroup": "AVG(fizziness)",
         "marker": {
          "color": "#EF553B",
          "pattern": {
           "shape": ""
          }
         },
         "name": "AVG(fizziness)",
         "offsetgroup": "AVG(fizziness)",
         "orientation": "v",
         "showlegend": true,
         "textposition": "auto",
         "type": "bar",
         "x": [
          "Afrique du Sud",
          "Allemagne",
          "Argentine",
          "Australie",
          "Chili",
          "Croatie",
          "Espagne",
          "France",
          "Grèce",
          "Hongrie",
          "Israël",
          "Italie",
          "Moldavie",
          "Portugal",
          "Roumanie",
          "Suisse",
          "États-Unis"
         ],
         "xaxis": "x",
         "y": [
          null,
          null,
          null,
          null,
          null,
          null,
          3.4025131,
          4.286029740677966,
          null,
          null,
          null,
          3.30997992,
          null,
          null,
          null,
          null,
          null
         ],
         "yaxis": "y"
        },
        {
         "alignmentgroup": "True",
         "hovertemplate": "Wine Property=AVG(intensity)<br>country=%{x}<br>Average Value=%{y}<extra></extra>",
         "legendgroup": "AVG(intensity)",
         "marker": {
          "color": "#00cc96",
          "pattern": {
           "shape": ""
          }
         },
         "name": "AVG(intensity)",
         "offsetgroup": "AVG(intensity)",
         "orientation": "v",
         "showlegend": true,
         "textposition": "auto",
         "type": "bar",
         "x": [
          "Afrique du Sud",
          "Allemagne",
          "Argentine",
          "Australie",
          "Chili",
          "Croatie",
          "Espagne",
          "France",
          "Grèce",
          "Hongrie",
          "Israël",
          "Italie",
          "Moldavie",
          "Portugal",
          "Roumanie",
          "Suisse",
          "États-Unis"
         ],
         "xaxis": "x",
         "y": [
          4.046132154545455,
          3.2549092461538462,
          4.028709939130435,
          4.537766766666667,
          4.552571445454546,
          4.0870047,
          3.9597628122222224,
          3.7073202231707314,
          3.449386,
          3.14882581,
          3.439461,
          3.7958933856,
          null,
          4.259337189285715,
          3.31093,
          3.85566225,
          4.424399680821917
         ],
         "yaxis": "y"
        },
        {
         "alignmentgroup": "True",
         "hovertemplate": "Wine Property=AVG(sweetness)<br>country=%{x}<br>Average Value=%{y}<extra></extra>",
         "legendgroup": "AVG(sweetness)",
         "marker": {
          "color": "#ab63fa",
          "pattern": {
           "shape": ""
          }
         },
         "name": "AVG(sweetness)",
         "offsetgroup": "AVG(sweetness)",
         "orientation": "v",
         "showlegend": true,
         "textposition": "auto",
         "type": "bar",
         "x": [
          "Afrique du Sud",
          "Allemagne",
          "Argentine",
          "Australie",
          "Chili",
          "Croatie",
          "Espagne",
          "France",
          "Grèce",
          "Hongrie",
          "Israël",
          "Italie",
          "Moldavie",
          "Portugal",
          "Roumanie",
          "Suisse",
          "États-Unis"
         ],
         "xaxis": "x",
         "y": [
          1.9176650181818182,
          2.3583876384615383,
          2.0724412391304345,
          2.0590630500000002,
          1.7267378545454546,
          2.2873857,
          2.002307395348837,
          1.8755980360594795,
          1.5109091,
          4.6215639,
          1.7388242,
          2.0632182635135132,
          null,
          3.196732335714286,
          2.3222482,
          2.4696027000000003,
          1.7428012136986302
         ],
         "yaxis": "y"
        },
        {
         "alignmentgroup": "True",
         "hovertemplate": "Wine Property=AVG(tannin)<br>country=%{x}<br>Average Value=%{y}<extra></extra>",
         "legendgroup": "AVG(tannin)",
         "marker": {
          "color": "#FFA15A",
          "pattern": {
           "shape": ""
          }
         },
         "name": "AVG(tannin)",
         "offsetgroup": "AVG(tannin)",
         "orientation": "v",
         "showlegend": true,
         "textposition": "auto",
         "type": "bar",
         "x": [
          "Afrique du Sud",
          "Allemagne",
          "Argentine",
          "Australie",
          "Chili",
          "Croatie",
          "Espagne",
          "France",
          "Grèce",
          "Hongrie",
          "Israël",
          "Italie",
          "Moldavie",
          "Portugal",
          "Roumanie",
          "Suisse",
          "États-Unis"
         ],
         "xaxis": "x",
         "y": [
          3.2959988888888887,
          2.311893,
          2.9199374739130435,
          3.2166844272727273,
          3.4465403545454545,
          3.8425384,
          3.548257897333333,
          3.1479388239130435,
          2.8617198,
          null,
          2.9930568,
          3.3649568904347826,
          null,
          3.304343290909091,
          3.268372,
          3.1689587,
          3.290927485074627
         ],
         "yaxis": "y"
        }
       ],
       "layout": {
        "barmode": "group",
        "legend": {
         "title": {
          "text": "Wine Property"
         },
         "tracegroupgap": 0
        },
        "template": {
         "data": {
          "bar": [
           {
            "error_x": {
             "color": "#2a3f5f"
            },
            "error_y": {
             "color": "#2a3f5f"
            },
            "marker": {
             "line": {
              "color": "#E5ECF6",
              "width": 0.5
             },
             "pattern": {
              "fillmode": "overlay",
              "size": 10,
              "solidity": 0.2
             }
            },
            "type": "bar"
           }
          ],
          "barpolar": [
           {
            "marker": {
             "line": {
              "color": "#E5ECF6",
              "width": 0.5
             },
             "pattern": {
              "fillmode": "overlay",
              "size": 10,
              "solidity": 0.2
             }
            },
            "type": "barpolar"
           }
          ],
          "carpet": [
           {
            "aaxis": {
             "endlinecolor": "#2a3f5f",
             "gridcolor": "white",
             "linecolor": "white",
             "minorgridcolor": "white",
             "startlinecolor": "#2a3f5f"
            },
            "baxis": {
             "endlinecolor": "#2a3f5f",
             "gridcolor": "white",
             "linecolor": "white",
             "minorgridcolor": "white",
             "startlinecolor": "#2a3f5f"
            },
            "type": "carpet"
           }
          ],
          "choropleth": [
           {
            "colorbar": {
             "outlinewidth": 0,
             "ticks": ""
            },
            "type": "choropleth"
           }
          ],
          "contour": [
           {
            "colorbar": {
             "outlinewidth": 0,
             "ticks": ""
            },
            "colorscale": [
             [
              0,
              "#0d0887"
             ],
             [
              0.1111111111111111,
              "#46039f"
             ],
             [
              0.2222222222222222,
              "#7201a8"
             ],
             [
              0.3333333333333333,
              "#9c179e"
             ],
             [
              0.4444444444444444,
              "#bd3786"
             ],
             [
              0.5555555555555556,
              "#d8576b"
             ],
             [
              0.6666666666666666,
              "#ed7953"
             ],
             [
              0.7777777777777778,
              "#fb9f3a"
             ],
             [
              0.8888888888888888,
              "#fdca26"
             ],
             [
              1,
              "#f0f921"
             ]
            ],
            "type": "contour"
           }
          ],
          "contourcarpet": [
           {
            "colorbar": {
             "outlinewidth": 0,
             "ticks": ""
            },
            "type": "contourcarpet"
           }
          ],
          "heatmap": [
           {
            "colorbar": {
             "outlinewidth": 0,
             "ticks": ""
            },
            "colorscale": [
             [
              0,
              "#0d0887"
             ],
             [
              0.1111111111111111,
              "#46039f"
             ],
             [
              0.2222222222222222,
              "#7201a8"
             ],
             [
              0.3333333333333333,
              "#9c179e"
             ],
             [
              0.4444444444444444,
              "#bd3786"
             ],
             [
              0.5555555555555556,
              "#d8576b"
             ],
             [
              0.6666666666666666,
              "#ed7953"
             ],
             [
              0.7777777777777778,
              "#fb9f3a"
             ],
             [
              0.8888888888888888,
              "#fdca26"
             ],
             [
              1,
              "#f0f921"
             ]
            ],
            "type": "heatmap"
           }
          ],
          "heatmapgl": [
           {
            "colorbar": {
             "outlinewidth": 0,
             "ticks": ""
            },
            "colorscale": [
             [
              0,
              "#0d0887"
             ],
             [
              0.1111111111111111,
              "#46039f"
             ],
             [
              0.2222222222222222,
              "#7201a8"
             ],
             [
              0.3333333333333333,
              "#9c179e"
             ],
             [
              0.4444444444444444,
              "#bd3786"
             ],
             [
              0.5555555555555556,
              "#d8576b"
             ],
             [
              0.6666666666666666,
              "#ed7953"
             ],
             [
              0.7777777777777778,
              "#fb9f3a"
             ],
             [
              0.8888888888888888,
              "#fdca26"
             ],
             [
              1,
              "#f0f921"
             ]
            ],
            "type": "heatmapgl"
           }
          ],
          "histogram": [
           {
            "marker": {
             "pattern": {
              "fillmode": "overlay",
              "size": 10,
              "solidity": 0.2
             }
            },
            "type": "histogram"
           }
          ],
          "histogram2d": [
           {
            "colorbar": {
             "outlinewidth": 0,
             "ticks": ""
            },
            "colorscale": [
             [
              0,
              "#0d0887"
             ],
             [
              0.1111111111111111,
              "#46039f"
             ],
             [
              0.2222222222222222,
              "#7201a8"
             ],
             [
              0.3333333333333333,
              "#9c179e"
             ],
             [
              0.4444444444444444,
              "#bd3786"
             ],
             [
              0.5555555555555556,
              "#d8576b"
             ],
             [
              0.6666666666666666,
              "#ed7953"
             ],
             [
              0.7777777777777778,
              "#fb9f3a"
             ],
             [
              0.8888888888888888,
              "#fdca26"
             ],
             [
              1,
              "#f0f921"
             ]
            ],
            "type": "histogram2d"
           }
          ],
          "histogram2dcontour": [
           {
            "colorbar": {
             "outlinewidth": 0,
             "ticks": ""
            },
            "colorscale": [
             [
              0,
              "#0d0887"
             ],
             [
              0.1111111111111111,
              "#46039f"
             ],
             [
              0.2222222222222222,
              "#7201a8"
             ],
             [
              0.3333333333333333,
              "#9c179e"
             ],
             [
              0.4444444444444444,
              "#bd3786"
             ],
             [
              0.5555555555555556,
              "#d8576b"
             ],
             [
              0.6666666666666666,
              "#ed7953"
             ],
             [
              0.7777777777777778,
              "#fb9f3a"
             ],
             [
              0.8888888888888888,
              "#fdca26"
             ],
             [
              1,
              "#f0f921"
             ]
            ],
            "type": "histogram2dcontour"
           }
          ],
          "mesh3d": [
           {
            "colorbar": {
             "outlinewidth": 0,
             "ticks": ""
            },
            "type": "mesh3d"
           }
          ],
          "parcoords": [
           {
            "line": {
             "colorbar": {
              "outlinewidth": 0,
              "ticks": ""
             }
            },
            "type": "parcoords"
           }
          ],
          "pie": [
           {
            "automargin": true,
            "type": "pie"
           }
          ],
          "scatter": [
           {
            "fillpattern": {
             "fillmode": "overlay",
             "size": 10,
             "solidity": 0.2
            },
            "type": "scatter"
           }
          ],
          "scatter3d": [
           {
            "line": {
             "colorbar": {
              "outlinewidth": 0,
              "ticks": ""
             }
            },
            "marker": {
             "colorbar": {
              "outlinewidth": 0,
              "ticks": ""
             }
            },
            "type": "scatter3d"
           }
          ],
          "scattercarpet": [
           {
            "marker": {
             "colorbar": {
              "outlinewidth": 0,
              "ticks": ""
             }
            },
            "type": "scattercarpet"
           }
          ],
          "scattergeo": [
           {
            "marker": {
             "colorbar": {
              "outlinewidth": 0,
              "ticks": ""
             }
            },
            "type": "scattergeo"
           }
          ],
          "scattergl": [
           {
            "marker": {
             "colorbar": {
              "outlinewidth": 0,
              "ticks": ""
             }
            },
            "type": "scattergl"
           }
          ],
          "scattermapbox": [
           {
            "marker": {
             "colorbar": {
              "outlinewidth": 0,
              "ticks": ""
             }
            },
            "type": "scattermapbox"
           }
          ],
          "scatterpolar": [
           {
            "marker": {
             "colorbar": {
              "outlinewidth": 0,
              "ticks": ""
             }
            },
            "type": "scatterpolar"
           }
          ],
          "scatterpolargl": [
           {
            "marker": {
             "colorbar": {
              "outlinewidth": 0,
              "ticks": ""
             }
            },
            "type": "scatterpolargl"
           }
          ],
          "scatterternary": [
           {
            "marker": {
             "colorbar": {
              "outlinewidth": 0,
              "ticks": ""
             }
            },
            "type": "scatterternary"
           }
          ],
          "surface": [
           {
            "colorbar": {
             "outlinewidth": 0,
             "ticks": ""
            },
            "colorscale": [
             [
              0,
              "#0d0887"
             ],
             [
              0.1111111111111111,
              "#46039f"
             ],
             [
              0.2222222222222222,
              "#7201a8"
             ],
             [
              0.3333333333333333,
              "#9c179e"
             ],
             [
              0.4444444444444444,
              "#bd3786"
             ],
             [
              0.5555555555555556,
              "#d8576b"
             ],
             [
              0.6666666666666666,
              "#ed7953"
             ],
             [
              0.7777777777777778,
              "#fb9f3a"
             ],
             [
              0.8888888888888888,
              "#fdca26"
             ],
             [
              1,
              "#f0f921"
             ]
            ],
            "type": "surface"
           }
          ],
          "table": [
           {
            "cells": {
             "fill": {
              "color": "#EBF0F8"
             },
             "line": {
              "color": "white"
             }
            },
            "header": {
             "fill": {
              "color": "#C8D4E3"
             },
             "line": {
              "color": "white"
             }
            },
            "type": "table"
           }
          ]
         },
         "layout": {
          "annotationdefaults": {
           "arrowcolor": "#2a3f5f",
           "arrowhead": 0,
           "arrowwidth": 1
          },
          "autotypenumbers": "strict",
          "coloraxis": {
           "colorbar": {
            "outlinewidth": 0,
            "ticks": ""
           }
          },
          "colorscale": {
           "diverging": [
            [
             0,
             "#8e0152"
            ],
            [
             0.1,
             "#c51b7d"
            ],
            [
             0.2,
             "#de77ae"
            ],
            [
             0.3,
             "#f1b6da"
            ],
            [
             0.4,
             "#fde0ef"
            ],
            [
             0.5,
             "#f7f7f7"
            ],
            [
             0.6,
             "#e6f5d0"
            ],
            [
             0.7,
             "#b8e186"
            ],
            [
             0.8,
             "#7fbc41"
            ],
            [
             0.9,
             "#4d9221"
            ],
            [
             1,
             "#276419"
            ]
           ],
           "sequential": [
            [
             0,
             "#0d0887"
            ],
            [
             0.1111111111111111,
             "#46039f"
            ],
            [
             0.2222222222222222,
             "#7201a8"
            ],
            [
             0.3333333333333333,
             "#9c179e"
            ],
            [
             0.4444444444444444,
             "#bd3786"
            ],
            [
             0.5555555555555556,
             "#d8576b"
            ],
            [
             0.6666666666666666,
             "#ed7953"
            ],
            [
             0.7777777777777778,
             "#fb9f3a"
            ],
            [
             0.8888888888888888,
             "#fdca26"
            ],
            [
             1,
             "#f0f921"
            ]
           ],
           "sequentialminus": [
            [
             0,
             "#0d0887"
            ],
            [
             0.1111111111111111,
             "#46039f"
            ],
            [
             0.2222222222222222,
             "#7201a8"
            ],
            [
             0.3333333333333333,
             "#9c179e"
            ],
            [
             0.4444444444444444,
             "#bd3786"
            ],
            [
             0.5555555555555556,
             "#d8576b"
            ],
            [
             0.6666666666666666,
             "#ed7953"
            ],
            [
             0.7777777777777778,
             "#fb9f3a"
            ],
            [
             0.8888888888888888,
             "#fdca26"
            ],
            [
             1,
             "#f0f921"
            ]
           ]
          },
          "colorway": [
           "#636efa",
           "#EF553B",
           "#00cc96",
           "#ab63fa",
           "#FFA15A",
           "#19d3f3",
           "#FF6692",
           "#B6E880",
           "#FF97FF",
           "#FECB52"
          ],
          "font": {
           "color": "#2a3f5f"
          },
          "geo": {
           "bgcolor": "white",
           "lakecolor": "white",
           "landcolor": "#E5ECF6",
           "showlakes": true,
           "showland": true,
           "subunitcolor": "white"
          },
          "hoverlabel": {
           "align": "left"
          },
          "hovermode": "closest",
          "mapbox": {
           "style": "light"
          },
          "paper_bgcolor": "white",
          "plot_bgcolor": "#E5ECF6",
          "polar": {
           "angularaxis": {
            "gridcolor": "white",
            "linecolor": "white",
            "ticks": ""
           },
           "bgcolor": "#E5ECF6",
           "radialaxis": {
            "gridcolor": "white",
            "linecolor": "white",
            "ticks": ""
           }
          },
          "scene": {
           "xaxis": {
            "backgroundcolor": "#E5ECF6",
            "gridcolor": "white",
            "gridwidth": 2,
            "linecolor": "white",
            "showbackground": true,
            "ticks": "",
            "zerolinecolor": "white"
           },
           "yaxis": {
            "backgroundcolor": "#E5ECF6",
            "gridcolor": "white",
            "gridwidth": 2,
            "linecolor": "white",
            "showbackground": true,
            "ticks": "",
            "zerolinecolor": "white"
           },
           "zaxis": {
            "backgroundcolor": "#E5ECF6",
            "gridcolor": "white",
            "gridwidth": 2,
            "linecolor": "white",
            "showbackground": true,
            "ticks": "",
            "zerolinecolor": "white"
           }
          },
          "shapedefaults": {
           "line": {
            "color": "#2a3f5f"
           }
          },
          "ternary": {
           "aaxis": {
            "gridcolor": "white",
            "linecolor": "white",
            "ticks": ""
           },
           "baxis": {
            "gridcolor": "white",
            "linecolor": "white",
            "ticks": ""
           },
           "bgcolor": "#E5ECF6",
           "caxis": {
            "gridcolor": "white",
            "linecolor": "white",
            "ticks": ""
           }
          },
          "title": {
           "x": 0.05
          },
          "xaxis": {
           "automargin": true,
           "gridcolor": "white",
           "linecolor": "white",
           "ticks": "",
           "title": {
            "standoff": 15
           },
           "zerolinecolor": "white",
           "zerolinewidth": 2
          },
          "yaxis": {
           "automargin": true,
           "gridcolor": "white",
           "linecolor": "white",
           "ticks": "",
           "title": {
            "standoff": 15
           },
           "zerolinecolor": "white",
           "zerolinewidth": 2
          }
         }
        },
        "title": {
         "text": "Average Wine Properties Across Countries"
        },
        "xaxis": {
         "anchor": "y",
         "domain": [
          0,
          1
         ],
         "title": {
          "text": "country"
         }
        },
        "yaxis": {
         "anchor": "x",
         "domain": [
          0,
          1
         ],
         "title": {
          "text": "Average Value"
         }
        }
       }
      }
     },
     "metadata": {},
     "output_type": "display_data"
    }
   ],
   "source": [
    "import plotly.express as px\n",
    "\n",
    "# Assuming df_prop is your DataFrame containing the data\n",
    "fig = px.bar(df_prop, x='country', y=['AVG(acidity)', 'AVG(fizziness)', 'AVG(intensity)', 'AVG(sweetness)', 'AVG(tannin)'],\n",
    "             title='Average Wine Properties Across Countries',\n",
    "             labels={'variable': 'Wine Property', 'value': 'Average Value'},\n",
    "             barmode='group')\n",
    "fig.show()"
   ]
  },
  {
   "cell_type": "code",
   "execution_count": 85,
   "metadata": {},
   "outputs": [
    {
     "name": "stderr",
     "output_type": "stream",
     "text": [
      "C:\\Users\\lucav\\AppData\\Local\\Temp\\ipykernel_20468\\2877379232.py:9: FutureWarning:\n",
      "\n",
      "Downcasting object dtype arrays on .fillna, .ffill, .bfill is deprecated and will change in a future version. Call result.infer_objects(copy=False) instead. To opt-in to the future behavior, set `pd.set_option('future.no_silent_downcasting', True)`\n",
      "\n"
     ]
    }
   ],
   "source": [
    "query_hu_prop = \"\"\"SELECT AVG(acidity), AVG(fizziness), AVG(intensity), AVG(sweetness), AVG(tannin) from wines\n",
    "JOIN regions ON regions.id = wines.region_id\n",
    "JOIN countries ON regions.country_code = countries.code\n",
    "WHERE countries.name = \"Hongrie\"\n",
    "\"\"\"\n",
    "\n",
    "df_hu_prop = pd.read_sql_query(query_hu_prop, conn)\n",
    "\n",
    "df_hu_prop = df_hu_prop.transpose().fillna(0)"
   ]
  },
  {
   "cell_type": "code",
   "execution_count": 86,
   "metadata": {},
   "outputs": [
    {
     "data": {
      "image/png": "[encoded data removed]",
      "text/plain": [
       "<Figure size 800x800 with 1 Axes>"
      ]
     },
     "metadata": {},
     "output_type": "display_data"
    }
   ],
   "source": [
    "import matplotlib.pyplot as plt\n",
    "import numpy as np\n",
    "\n",
    "# Assuming df_prop is your DataFrame containing the data for one country (e.g., Hungary)\n",
    "\n",
    "fig = plt.figure(figsize=(8, 8))\n",
    "ax = fig.add_subplot(111, polar=True)\n",
    "\n",
    "# Number of variables (properties)\n",
    "num_vars = len(df_hu_prop.columns)\n",
    "\n",
    "# Compute angle for each axis\n",
    "angles = np.linspace(0, 2 * np.pi, num_vars, endpoint=False).tolist()\n",
    "\n",
    "# The plot is circular, so we need to \"complete the loop\" and append the start point at the end.\n",
    "values = df_hu_prop.iloc[0].values.flatten().tolist()\n",
    "\n",
    "# Plot data (only use the first num_vars values)\n",
    "ax.fill(angles, values, color='red', alpha=0.25)\n",
    "ax.plot(angles, values, color='red', linewidth=2, linestyle='solid')\n",
    "\n",
    "# Set labels for each axis\n",
    "ax.set_yticklabels([])\n",
    "ax.set_xticks(angles[:-1])  # Use angles without the last element\n",
    "ax.set_xticklabels(df_hu_prop.columns[:-1], fontsize=12)  # Use columns without the last one\n",
    "\n",
    "# Add a title\n",
    "ax.set_title('Wine Properties for Hungary', size=20, color='black', y=1.1)\n",
    "\n",
    "\n",
    "plt.show()\n"
   ]
  },
  {
   "cell_type": "code",
   "execution_count": 116,
   "metadata": {},
   "outputs": [
    {
     "data": {
      "application/vnd.plotly.v1+json": {
       "config": {
        "plotlyServerURL": "https://plot.ly"
       },
       "data": [
        {
         "hovertemplate": "country=Afrique du Sud<br>Acidity=%{x}<br>Fizziness=%{y}<br>Sweetness=%{marker.size}<extra></extra>",
         "legendgroup": "Afrique du Sud",
         "marker": {
          "color": "#636efa",
          "size": [
           1.9176650181818182
          ],
          "sizemode": "area",
          "sizeref": 0.005135071,
          "symbol": "circle"
         },
         "mode": "markers",
         "name": "Afrique du Sud",
         "orientation": "v",
         "showlegend": true,
         "type": "scatter",
         "x": [
          3.442303327272727
         ],
         "xaxis": "x",
         "y": [
          0
         ],
         "yaxis": "y"
        },
        {
         "hovertemplate": "country=Allemagne<br>Acidity=%{x}<br>Fizziness=%{y}<br>Sweetness=%{marker.size}<extra></extra>",
         "legendgroup": "Allemagne",
         "marker": {
          "color": "#EF553B",
          "size": [
           2.3583876384615383
          ],
          "sizemode": "area",
          "sizeref": 0.005135071,
          "symbol": "circle"
         },
         "mode": "markers",
         "name": "Allemagne",
         "orientation": "v",
         "showlegend": true,
         "type": "scatter",
         "x": [
          4.435818607692307
         ],
         "xaxis": "x",
         "y": [
          0
         ],
         "yaxis": "y"
        },
        {
         "hovertemplate": "country=Argentine<br>Acidity=%{x}<br>Fizziness=%{y}<br>Sweetness=%{marker.size}<extra></extra>",
         "legendgroup": "Argentine",
         "marker": {
          "color": "#00cc96",
          "size": [
           2.0724412391304345
          ],
          "sizemode": "area",
          "sizeref": 0.005135071,
          "symbol": "circle"
         },
         "mode": "markers",
         "name": "Argentine",
         "orientation": "v",
         "showlegend": true,
         "type": "scatter",
         "x": [
          2.965674321739131
         ],
         "xaxis": "x",
         "y": [
          0
         ],
         "yaxis": "y"
        },
        {
         "hovertemplate": "country=Australie<br>Acidity=%{x}<br>Fizziness=%{y}<br>Sweetness=%{marker.size}<extra></extra>",
         "legendgroup": "Australie",
         "marker": {
          "color": "#ab63fa",
          "size": [
           2.0590630500000002
          ],
          "sizemode": "area",
          "sizeref": 0.005135071,
          "symbol": "circle"
         },
         "mode": "markers",
         "name": "Australie",
         "orientation": "v",
         "showlegend": true,
         "type": "scatter",
         "x": [
          3.065208516666667
         ],
         "xaxis": "x",
         "y": [
          0
         ],
         "yaxis": "y"
        },
        {
         "hovertemplate": "country=Chili<br>Acidity=%{x}<br>Fizziness=%{y}<br>Sweetness=%{marker.size}<extra></extra>",
         "legendgroup": "Chili",
         "marker": {
          "color": "#FFA15A",
          "size": [
           1.7267378545454546
          ],
          "sizemode": "area",
          "sizeref": 0.005135071,
          "symbol": "circle"
         },
         "mode": "markers",
         "name": "Chili",
         "orientation": "v",
         "showlegend": true,
         "type": "scatter",
         "x": [
          3.0246686272727272
         ],
         "xaxis": "x",
         "y": [
          0
         ],
         "yaxis": "y"
        },
        {
         "hovertemplate": "country=Croatie<br>Acidity=%{x}<br>Fizziness=%{y}<br>Sweetness=%{marker.size}<extra></extra>",
         "legendgroup": "Croatie",
         "marker": {
          "color": "#19d3f3",
          "size": [
           2.2873857
          ],
          "sizemode": "area",
          "sizeref": 0.005135071,
          "symbol": "circle"
         },
         "mode": "markers",
         "name": "Croatie",
         "orientation": "v",
         "showlegend": true,
         "type": "scatter",
         "x": [
          4.436117
         ],
         "xaxis": "x",
         "y": [
          0
         ],
         "yaxis": "y"
        },
        {
         "hovertemplate": "country=Espagne<br>Acidity=%{x}<br>Fizziness=%{y}<br>Sweetness=%{marker.size}<extra></extra>",
         "legendgroup": "Espagne",
         "marker": {
          "color": "#FF6692",
          "size": [
           2.002307395348837
          ],
          "sizemode": "area",
          "sizeref": 0.005135071,
          "symbol": "circle"
         },
         "mode": "markers",
         "name": "Espagne",
         "orientation": "v",
         "showlegend": true,
         "type": "scatter",
         "x": [
          3.477690975555556
         ],
         "xaxis": "x",
         "y": [
          3.4025131
         ],
         "yaxis": "y"
        },
        {
         "hovertemplate": "country=France<br>Acidity=%{x}<br>Fizziness=%{y}<br>Sweetness=%{marker.size}<extra></extra>",
         "legendgroup": "France",
         "marker": {
          "color": "#B6E880",
          "size": [
           1.8755980360594795
          ],
          "sizemode": "area",
          "sizeref": 0.005135071,
          "symbol": "circle"
         },
         "mode": "markers",
         "name": "France",
         "orientation": "v",
         "showlegend": true,
         "type": "scatter",
         "x": [
          3.8520870091463415
         ],
         "xaxis": "x",
         "y": [
          4.286029740677966
         ],
         "yaxis": "y"
        },
        {
         "hovertemplate": "country=Grèce<br>Acidity=%{x}<br>Fizziness=%{y}<br>Sweetness=%{marker.size}<extra></extra>",
         "legendgroup": "Grèce",
         "marker": {
          "color": "#FF97FF",
          "size": [
           1.5109091
          ],
          "sizemode": "area",
          "sizeref": 0.005135071,
          "symbol": "circle"
         },
         "mode": "markers",
         "name": "Grèce",
         "orientation": "v",
         "showlegend": true,
         "type": "scatter",
         "x": [
          4.299877
         ],
         "xaxis": "x",
         "y": [
          0
         ],
         "yaxis": "y"
        },
        {
         "hovertemplate": "country=Hongrie<br>Acidity=%{x}<br>Fizziness=%{y}<br>Sweetness=%{marker.size}<extra></extra>",
         "legendgroup": "Hongrie",
         "marker": {
          "color": "#FECB52",
          "size": [
           4.6215639
          ],
          "sizemode": "area",
          "sizeref": 0.005135071,
          "symbol": "circle"
         },
         "mode": "markers",
         "name": "Hongrie",
         "orientation": "v",
         "showlegend": true,
         "type": "scatter",
         "x": [
          4.80757308
         ],
         "xaxis": "x",
         "y": [
          0
         ],
         "yaxis": "y"
        },
        {
         "hovertemplate": "country=Israël<br>Acidity=%{x}<br>Fizziness=%{y}<br>Sweetness=%{marker.size}<extra></extra>",
         "legendgroup": "Israël",
         "marker": {
          "color": "#636efa",
          "size": [
           1.7388242
          ],
          "sizemode": "area",
          "sizeref": 0.005135071,
          "symbol": "circle"
         },
         "mode": "markers",
         "name": "Israël",
         "orientation": "v",
         "showlegend": true,
         "type": "scatter",
         "x": [
          2.9386032
         ],
         "xaxis": "x",
         "y": [
          0
         ],
         "yaxis": "y"
        },
        {
         "hovertemplate": "country=Italie<br>Acidity=%{x}<br>Fizziness=%{y}<br>Sweetness=%{marker.size}<extra></extra>",
         "legendgroup": "Italie",
         "marker": {
          "color": "#EF553B",
          "size": [
           2.0632182635135132
          ],
          "sizemode": "area",
          "sizeref": 0.005135071,
          "symbol": "circle"
         },
         "mode": "markers",
         "name": "Italie",
         "orientation": "v",
         "showlegend": true,
         "type": "scatter",
         "x": [
          3.4748966312
         ],
         "xaxis": "x",
         "y": [
          3.30997992
         ],
         "yaxis": "y"
        },
        {
         "hovertemplate": "country=Moldavie<br>Acidity=%{x}<br>Fizziness=%{y}<br>Sweetness=%{marker.size}<extra></extra>",
         "legendgroup": "Moldavie",
         "marker": {
          "color": "#00cc96",
          "size": [
           0
          ],
          "sizemode": "area",
          "sizeref": 0.005135071,
          "symbol": "circle"
         },
         "mode": "markers",
         "name": "Moldavie",
         "orientation": "v",
         "showlegend": true,
         "type": "scatter",
         "x": [
          0
         ],
         "xaxis": "x",
         "y": [
          0
         ],
         "yaxis": "y"
        },
        {
         "hovertemplate": "country=Portugal<br>Acidity=%{x}<br>Fizziness=%{y}<br>Sweetness=%{marker.size}<extra></extra>",
         "legendgroup": "Portugal",
         "marker": {
          "color": "#ab63fa",
          "size": [
           3.196732335714286
          ],
          "sizemode": "area",
          "sizeref": 0.005135071,
          "symbol": "circle"
         },
         "mode": "markers",
         "name": "Portugal",
         "orientation": "v",
         "showlegend": true,
         "type": "scatter",
         "x": [
          3.123038392857143
         ],
         "xaxis": "x",
         "y": [
          0
         ],
         "yaxis": "y"
        },
        {
         "hovertemplate": "country=Roumanie<br>Acidity=%{x}<br>Fizziness=%{y}<br>Sweetness=%{marker.size}<extra></extra>",
         "legendgroup": "Roumanie",
         "marker": {
          "color": "#FFA15A",
          "size": [
           2.3222482
          ],
          "sizemode": "area",
          "sizeref": 0.005135071,
          "symbol": "circle"
         },
         "mode": "markers",
         "name": "Roumanie",
         "orientation": "v",
         "showlegend": true,
         "type": "scatter",
         "x": [
          3.1726356
         ],
         "xaxis": "x",
         "y": [
          0
         ],
         "yaxis": "y"
        },
        {
         "hovertemplate": "country=Suisse<br>Acidity=%{x}<br>Fizziness=%{y}<br>Sweetness=%{marker.size}<extra></extra>",
         "legendgroup": "Suisse",
         "marker": {
          "color": "#19d3f3",
          "size": [
           2.4696027000000003
          ],
          "sizemode": "area",
          "sizeref": 0.005135071,
          "symbol": "circle"
         },
         "mode": "markers",
         "name": "Suisse",
         "orientation": "v",
         "showlegend": true,
         "type": "scatter",
         "x": [
          3.86293665
         ],
         "xaxis": "x",
         "y": [
          0
         ],
         "yaxis": "y"
        },
        {
         "hovertemplate": "country=États-Unis<br>Acidity=%{x}<br>Fizziness=%{y}<br>Sweetness=%{marker.size}<extra></extra>",
         "legendgroup": "États-Unis",
         "marker": {
          "color": "#FF6692",
          "size": [
           1.7428012136986302
          ],
          "sizemode": "area",
          "sizeref": 0.005135071,
          "symbol": "circle"
         },
         "mode": "markers",
         "name": "États-Unis",
         "orientation": "v",
         "showlegend": true,
         "type": "scatter",
         "x": [
          3.478865335616438
         ],
         "xaxis": "x",
         "y": [
          0
         ],
         "yaxis": "y"
        }
       ],
       "layout": {
        "coloraxis": {
         "colorbar": {
          "title": {
           "text": "Sweetness"
          }
         }
        },
        "legend": {
         "itemsizing": "constant",
         "title": {
          "text": "country"
         },
         "tracegroupgap": 0
        },
        "template": {
         "data": {
          "bar": [
           {
            "error_x": {
             "color": "#2a3f5f"
            },
            "error_y": {
             "color": "#2a3f5f"
            },
            "marker": {
             "line": {
              "color": "#E5ECF6",
              "width": 0.5
             },
             "pattern": {
              "fillmode": "overlay",
              "size": 10,
              "solidity": 0.2
             }
            },
            "type": "bar"
           }
          ],
          "barpolar": [
           {
            "marker": {
             "line": {
              "color": "#E5ECF6",
              "width": 0.5
             },
             "pattern": {
              "fillmode": "overlay",
              "size": 10,
              "solidity": 0.2
             }
            },
            "type": "barpolar"
           }
          ],
          "carpet": [
           {
            "aaxis": {
             "endlinecolor": "#2a3f5f",
             "gridcolor": "white",
             "linecolor": "white",
             "minorgridcolor": "white",
             "startlinecolor": "#2a3f5f"
            },
            "baxis": {
             "endlinecolor": "#2a3f5f",
             "gridcolor": "white",
             "linecolor": "white",
             "minorgridcolor": "white",
             "startlinecolor": "#2a3f5f"
            },
            "type": "carpet"
           }
          ],
          "choropleth": [
           {
            "colorbar": {
             "outlinewidth": 0,
             "ticks": ""
            },
            "type": "choropleth"
           }
          ],
          "contour": [
           {
            "colorbar": {
             "outlinewidth": 0,
             "ticks": ""
            },
            "colorscale": [
             [
              0,
              "#0d0887"
             ],
             [
              0.1111111111111111,
              "#46039f"
             ],
             [
              0.2222222222222222,
              "#7201a8"
             ],
             [
              0.3333333333333333,
              "#9c179e"
             ],
             [
              0.4444444444444444,
              "#bd3786"
             ],
             [
              0.5555555555555556,
              "#d8576b"
             ],
             [
              0.6666666666666666,
              "#ed7953"
             ],
             [
              0.7777777777777778,
              "#fb9f3a"
             ],
             [
              0.8888888888888888,
              "#fdca26"
             ],
             [
              1,
              "#f0f921"
             ]
            ],
            "type": "contour"
           }
          ],
          "contourcarpet": [
           {
            "colorbar": {
             "outlinewidth": 0,
             "ticks": ""
            },
            "type": "contourcarpet"
           }
          ],
          "heatmap": [
           {
            "colorbar": {
             "outlinewidth": 0,
             "ticks": ""
            },
            "colorscale": [
             [
              0,
              "#0d0887"
             ],
             [
              0.1111111111111111,
              "#46039f"
             ],
             [
              0.2222222222222222,
              "#7201a8"
             ],
             [
              0.3333333333333333,
              "#9c179e"
             ],
             [
              0.4444444444444444,
              "#bd3786"
             ],
             [
              0.5555555555555556,
              "#d8576b"
             ],
             [
              0.6666666666666666,
              "#ed7953"
             ],
             [
              0.7777777777777778,
              "#fb9f3a"
             ],
             [
              0.8888888888888888,
              "#fdca26"
             ],
             [
              1,
              "#f0f921"
             ]
            ],
            "type": "heatmap"
           }
          ],
          "heatmapgl": [
           {
            "colorbar": {
             "outlinewidth": 0,
             "ticks": ""
            },
            "colorscale": [
             [
              0,
              "#0d0887"
             ],
             [
              0.1111111111111111,
              "#46039f"
             ],
             [
              0.2222222222222222,
              "#7201a8"
             ],
             [
              0.3333333333333333,
              "#9c179e"
             ],
             [
              0.4444444444444444,
              "#bd3786"
             ],
             [
              0.5555555555555556,
              "#d8576b"
             ],
             [
              0.6666666666666666,
              "#ed7953"
             ],
             [
              0.7777777777777778,
              "#fb9f3a"
             ],
             [
              0.8888888888888888,
              "#fdca26"
             ],
             [
              1,
              "#f0f921"
             ]
            ],
            "type": "heatmapgl"
           }
          ],
          "histogram": [
           {
            "marker": {
             "pattern": {
              "fillmode": "overlay",
              "size": 10,
              "solidity": 0.2
             }
            },
            "type": "histogram"
           }
          ],
          "histogram2d": [
           {
            "colorbar": {
             "outlinewidth": 0,
             "ticks": ""
            },
            "colorscale": [
             [
              0,
              "#0d0887"
             ],
             [
              0.1111111111111111,
              "#46039f"
             ],
             [
              0.2222222222222222,
              "#7201a8"
             ],
             [
              0.3333333333333333,
              "#9c179e"
             ],
             [
              0.4444444444444444,
              "#bd3786"
             ],
             [
              0.5555555555555556,
              "#d8576b"
             ],
             [
              0.6666666666666666,
              "#ed7953"
             ],
             [
              0.7777777777777778,
              "#fb9f3a"
             ],
             [
              0.8888888888888888,
              "#fdca26"
             ],
             [
              1,
              "#f0f921"
             ]
            ],
            "type": "histogram2d"
           }
          ],
          "histogram2dcontour": [
           {
            "colorbar": {
             "outlinewidth": 0,
             "ticks": ""
            },
            "colorscale": [
             [
              0,
              "#0d0887"
             ],
             [
              0.1111111111111111,
              "#46039f"
             ],
             [
              0.2222222222222222,
              "#7201a8"
             ],
             [
              0.3333333333333333,
              "#9c179e"
             ],
             [
              0.4444444444444444,
              "#bd3786"
             ],
             [
              0.5555555555555556,
              "#d8576b"
             ],
             [
              0.6666666666666666,
              "#ed7953"
             ],
             [
              0.7777777777777778,
              "#fb9f3a"
             ],
             [
              0.8888888888888888,
              "#fdca26"
             ],
             [
              1,
              "#f0f921"
             ]
            ],
            "type": "histogram2dcontour"
           }
          ],
          "mesh3d": [
           {
            "colorbar": {
             "outlinewidth": 0,
             "ticks": ""
            },
            "type": "mesh3d"
           }
          ],
          "parcoords": [
           {
            "line": {
             "colorbar": {
              "outlinewidth": 0,
              "ticks": ""
             }
            },
            "type": "parcoords"
           }
          ],
          "pie": [
           {
            "automargin": true,
            "type": "pie"
           }
          ],
          "scatter": [
           {
            "fillpattern": {
             "fillmode": "overlay",
             "size": 10,
             "solidity": 0.2
            },
            "type": "scatter"
           }
          ],
          "scatter3d": [
           {
            "line": {
             "colorbar": {
              "outlinewidth": 0,
              "ticks": ""
             }
            },
            "marker": {
             "colorbar": {
              "outlinewidth": 0,
              "ticks": ""
             }
            },
            "type": "scatter3d"
           }
          ],
          "scattercarpet": [
           {
            "marker": {
             "colorbar": {
              "outlinewidth": 0,
              "ticks": ""
             }
            },
            "type": "scattercarpet"
           }
          ],
          "scattergeo": [
           {
            "marker": {
             "colorbar": {
              "outlinewidth": 0,
              "ticks": ""
             }
            },
            "type": "scattergeo"
           }
          ],
          "scattergl": [
           {
            "marker": {
             "colorbar": {
              "outlinewidth": 0,
              "ticks": ""
             }
            },
            "type": "scattergl"
           }
          ],
          "scattermapbox": [
           {
            "marker": {
             "colorbar": {
              "outlinewidth": 0,
              "ticks": ""
             }
            },
            "type": "scattermapbox"
           }
          ],
          "scatterpolar": [
           {
            "marker": {
             "colorbar": {
              "outlinewidth": 0,
              "ticks": ""
             }
            },
            "type": "scatterpolar"
           }
          ],
          "scatterpolargl": [
           {
            "marker": {
             "colorbar": {
              "outlinewidth": 0,
              "ticks": ""
             }
            },
            "type": "scatterpolargl"
           }
          ],
          "scatterternary": [
           {
            "marker": {
             "colorbar": {
              "outlinewidth": 0,
              "ticks": ""
             }
            },
            "type": "scatterternary"
           }
          ],
          "surface": [
           {
            "colorbar": {
             "outlinewidth": 0,
             "ticks": ""
            },
            "colorscale": [
             [
              0,
              "#0d0887"
             ],
             [
              0.1111111111111111,
              "#46039f"
             ],
             [
              0.2222222222222222,
              "#7201a8"
             ],
             [
              0.3333333333333333,
              "#9c179e"
             ],
             [
              0.4444444444444444,
              "#bd3786"
             ],
             [
              0.5555555555555556,
              "#d8576b"
             ],
             [
              0.6666666666666666,
              "#ed7953"
             ],
             [
              0.7777777777777778,
              "#fb9f3a"
             ],
             [
              0.8888888888888888,
              "#fdca26"
             ],
             [
              1,
              "#f0f921"
             ]
            ],
            "type": "surface"
           }
          ],
          "table": [
           {
            "cells": {
             "fill": {
              "color": "#EBF0F8"
             },
             "line": {
              "color": "white"
             }
            },
            "header": {
             "fill": {
              "color": "#C8D4E3"
             },
             "line": {
              "color": "white"
             }
            },
            "type": "table"
           }
          ]
         },
         "layout": {
          "annotationdefaults": {
           "arrowcolor": "#2a3f5f",
           "arrowhead": 0,
           "arrowwidth": 1
          },
          "autotypenumbers": "strict",
          "coloraxis": {
           "colorbar": {
            "outlinewidth": 0,
            "ticks": ""
           }
          },
          "colorscale": {
           "diverging": [
            [
             0,
             "#8e0152"
            ],
            [
             0.1,
             "#c51b7d"
            ],
            [
             0.2,
             "#de77ae"
            ],
            [
             0.3,
             "#f1b6da"
            ],
            [
             0.4,
             "#fde0ef"
            ],
            [
             0.5,
             "#f7f7f7"
            ],
            [
             0.6,
             "#e6f5d0"
            ],
            [
             0.7,
             "#b8e186"
            ],
            [
             0.8,
             "#7fbc41"
            ],
            [
             0.9,
             "#4d9221"
            ],
            [
             1,
             "#276419"
            ]
           ],
           "sequential": [
            [
             0,
             "#0d0887"
            ],
            [
             0.1111111111111111,
             "#46039f"
            ],
            [
             0.2222222222222222,
             "#7201a8"
            ],
            [
             0.3333333333333333,
             "#9c179e"
            ],
            [
             0.4444444444444444,
             "#bd3786"
            ],
            [
             0.5555555555555556,
             "#d8576b"
            ],
            [
             0.6666666666666666,
             "#ed7953"
            ],
            [
             0.7777777777777778,
             "#fb9f3a"
            ],
            [
             0.8888888888888888,
             "#fdca26"
            ],
            [
             1,
             "#f0f921"
            ]
           ],
           "sequentialminus": [
            [
             0,
             "#0d0887"
            ],
            [
             0.1111111111111111,
             "#46039f"
            ],
            [
             0.2222222222222222,
             "#7201a8"
            ],
            [
             0.3333333333333333,
             "#9c179e"
            ],
            [
             0.4444444444444444,
             "#bd3786"
            ],
            [
             0.5555555555555556,
             "#d8576b"
            ],
            [
             0.6666666666666666,
             "#ed7953"
            ],
            [
             0.7777777777777778,
             "#fb9f3a"
            ],
            [
             0.8888888888888888,
             "#fdca26"
            ],
            [
             1,
             "#f0f921"
            ]
           ]
          },
          "colorway": [
           "#636efa",
           "#EF553B",
           "#00cc96",
           "#ab63fa",
           "#FFA15A",
           "#19d3f3",
           "#FF6692",
           "#B6E880",
           "#FF97FF",
           "#FECB52"
          ],
          "font": {
           "color": "#2a3f5f"
          },
          "geo": {
           "bgcolor": "white",
           "lakecolor": "white",
           "landcolor": "#E5ECF6",
           "showlakes": true,
           "showland": true,
           "subunitcolor": "white"
          },
          "hoverlabel": {
           "align": "left"
          },
          "hovermode": "closest",
          "mapbox": {
           "style": "light"
          },
          "paper_bgcolor": "white",
          "plot_bgcolor": "#E5ECF6",
          "polar": {
           "angularaxis": {
            "gridcolor": "white",
            "linecolor": "white",
            "ticks": ""
           },
           "bgcolor": "#E5ECF6",
           "radialaxis": {
            "gridcolor": "white",
            "linecolor": "white",
            "ticks": ""
           }
          },
          "scene": {
           "xaxis": {
            "backgroundcolor": "#E5ECF6",
            "gridcolor": "white",
            "gridwidth": 2,
            "linecolor": "white",
            "showbackground": true,
            "ticks": "",
            "zerolinecolor": "white"
           },
           "yaxis": {
            "backgroundcolor": "#E5ECF6",
            "gridcolor": "white",
            "gridwidth": 2,
            "linecolor": "white",
            "showbackground": true,
            "ticks": "",
            "zerolinecolor": "white"
           },
           "zaxis": {
            "backgroundcolor": "#E5ECF6",
            "gridcolor": "white",
            "gridwidth": 2,
            "linecolor": "white",
            "showbackground": true,
            "ticks": "",
            "zerolinecolor": "white"
           }
          },
          "shapedefaults": {
           "line": {
            "color": "#2a3f5f"
           }
          },
          "ternary": {
           "aaxis": {
            "gridcolor": "white",
            "linecolor": "white",
            "ticks": ""
           },
           "baxis": {
            "gridcolor": "white",
            "linecolor": "white",
            "ticks": ""
           },
           "bgcolor": "#E5ECF6",
           "caxis": {
            "gridcolor": "white",
            "linecolor": "white",
            "ticks": ""
           }
          },
          "title": {
           "x": 0.05
          },
          "xaxis": {
           "automargin": true,
           "gridcolor": "white",
           "linecolor": "white",
           "ticks": "",
           "title": {
            "standoff": 15
           },
           "zerolinecolor": "white",
           "zerolinewidth": 2
          },
          "yaxis": {
           "automargin": true,
           "gridcolor": "white",
           "linecolor": "white",
           "ticks": "",
           "title": {
            "standoff": 15
           },
           "zerolinecolor": "white",
           "zerolinewidth": 2
          }
         }
        },
        "title": {
         "text": "Bubble Graph of Wine Properties by Country"
        },
        "xaxis": {
         "anchor": "y",
         "domain": [
          0,
          1
         ],
         "range": [
          2,
          5
         ],
         "title": {
          "text": "Acidity"
         }
        },
        "yaxis": {
         "anchor": "x",
         "domain": [
          0,
          1
         ],
         "title": {
          "text": "Fizziness"
         }
        }
       }
      }
     },
     "metadata": {},
     "output_type": "display_data"
    }
   ],
   "source": [
    "import plotly.express as px\n",
    "\n",
    "# Normalize property values (optional)\n",
    "#df_prop_normalized = (df_prop - df_prop.min()) / (df_prop.max() - df_prop.min())\n",
    "df_prop_cleaned = df_prop.fillna(0)\n",
    "# Create a bubble graph\n",
    "fig = px.scatter(df_prop_cleaned, x='AVG(acidity)', y='AVG(fizziness)', size='AVG(sweetness)', color='country',\n",
    "                 size_max=30, title='Bubble Graph of Wine Properties by Country',\n",
    "                 labels={'AVG(acidity)': 'Acidity', 'AVG(fizziness)': 'Fizziness', 'AVG(sweetness)': 'Sweetness'})\n",
    "fig.update_xaxes(range=[2, 5])\n",
    "fig.update_layout(coloraxis_colorbar=dict(title='Sweetness'))\n",
    "# Show plot\n",
    "fig.show()\n"
   ]
  },
  {
   "cell_type": "markdown",
   "metadata": {},
   "source": [
    "Vintage toplists"
   ]
  },
  {
   "cell_type": "code",
   "execution_count": 124,
   "metadata": {},
   "outputs": [
    {
     "data": {
      "text/html": [
       "<div>\n",
       "<style scoped>\n",
       "    .dataframe tbody tr th:only-of-type {\n",
       "        vertical-align: middle;\n",
       "    }\n",
       "\n",
       "    .dataframe tbody tr th {\n",
       "        vertical-align: top;\n",
       "    }\n",
       "\n",
       "    .dataframe thead th {\n",
       "        text-align: right;\n",
       "    }\n",
       "</style>\n",
       "<table border=\"1\" class=\"dataframe\">\n",
       "  <thead>\n",
       "    <tr style=\"text-align: right;\">\n",
       "      <th></th>\n",
       "      <th>rank</th>\n",
       "      <th>vintage_name</th>\n",
       "      <th>toplist_name</th>\n",
       "    </tr>\n",
       "  </thead>\n",
       "  <tbody>\n",
       "    <tr>\n",
       "      <th>0</th>\n",
       "      <td>1</td>\n",
       "      <td>Salon Le Mesnil Blanc de Blancs (Cuvée S) Brut...</td>\n",
       "      <td>Vivino's 2020 Wine Style Awards: French Champa...</td>\n",
       "    </tr>\n",
       "    <tr>\n",
       "      <th>1</th>\n",
       "      <td>1</td>\n",
       "      <td>Masseto Toscana 2006</td>\n",
       "      <td>Vivino's 2020 Wine Style Awards: Tuscan Red</td>\n",
       "    </tr>\n",
       "    <tr>\n",
       "      <th>2</th>\n",
       "      <td>1</td>\n",
       "      <td>Masseto Toscana 2005</td>\n",
       "      <td>Vivino's 2016 Wine Style Awards: Central Italy...</td>\n",
       "    </tr>\n",
       "    <tr>\n",
       "      <th>3</th>\n",
       "      <td>1</td>\n",
       "      <td>Scarecrow Cabernet Sauvignon 2015</td>\n",
       "      <td>Vivino's 2019 Wine Style Awards: Napa Valley C...</td>\n",
       "    </tr>\n",
       "    <tr>\n",
       "      <th>4</th>\n",
       "      <td>1</td>\n",
       "      <td>Ornellaia Bolgheri Superiore 2005</td>\n",
       "      <td>Vivino's 2019 Wine Style Awards: Italian Bolgheri</td>\n",
       "    </tr>\n",
       "    <tr>\n",
       "      <th>5</th>\n",
       "      <td>1</td>\n",
       "      <td>Masseto Toscana 2010</td>\n",
       "      <td>Vivino's 2017 Wine Style Awards: Central Italy...</td>\n",
       "    </tr>\n",
       "    <tr>\n",
       "      <th>6</th>\n",
       "      <td>1</td>\n",
       "      <td>Château Rayas Châteauneuf-du-Pape 2006</td>\n",
       "      <td>Vivino's 2020 Wine Style Awards: Southern Rhôn...</td>\n",
       "    </tr>\n",
       "    <tr>\n",
       "      <th>7</th>\n",
       "      <td>1</td>\n",
       "      <td>Masseto Toscana 2004</td>\n",
       "      <td>Vivino's 2018 Wine Style Awards: Tuscan Red</td>\n",
       "    </tr>\n",
       "    <tr>\n",
       "      <th>8</th>\n",
       "      <td>1</td>\n",
       "      <td>Château Rayas Châteauneuf-du-Pape 2001</td>\n",
       "      <td>Vivino's 2016 Wine Style Awards: Southern Rhôn...</td>\n",
       "    </tr>\n",
       "    <tr>\n",
       "      <th>9</th>\n",
       "      <td>1</td>\n",
       "      <td>Château Rayas Châteauneuf-du-Pape 2001</td>\n",
       "      <td>Vivino's 2017 Wine Style Awards: Southern Rhôn...</td>\n",
       "    </tr>\n",
       "    <tr>\n",
       "      <th>10</th>\n",
       "      <td>1</td>\n",
       "      <td>Château Margaux Château Margaux (Premier Grand...</td>\n",
       "      <td>Vivino's 2019 Wine Style Awards: Bordeaux Margaux</td>\n",
       "    </tr>\n",
       "    <tr>\n",
       "      <th>11</th>\n",
       "      <td>1</td>\n",
       "      <td>Gaja Barbaresco 1997</td>\n",
       "      <td>Vivino's 2016 Wine Style Awards: Italian Barba...</td>\n",
       "    </tr>\n",
       "    <tr>\n",
       "      <th>12</th>\n",
       "      <td>1</td>\n",
       "      <td>Château Rayas Châteauneuf-du-Pape 2005</td>\n",
       "      <td>Vivino's 2018 Wine Style Awards: Southern Rhôn...</td>\n",
       "    </tr>\n",
       "    <tr>\n",
       "      <th>13</th>\n",
       "      <td>1</td>\n",
       "      <td>La Grange des Pères Vin de Pays de l'Hérault 2011</td>\n",
       "      <td>Vivino's 2016 Wine Style Awards: Languedoc-Rou...</td>\n",
       "    </tr>\n",
       "    <tr>\n",
       "      <th>14</th>\n",
       "      <td>1</td>\n",
       "      <td>Gaja Barbaresco 1998</td>\n",
       "      <td>Vivino's 2018 Wine Style Awards: Italian Barba...</td>\n",
       "    </tr>\n",
       "    <tr>\n",
       "      <th>15</th>\n",
       "      <td>1</td>\n",
       "      <td>Château Ducru-Beaucaillou Saint-Julien (Grand ...</td>\n",
       "      <td>Vivino's 2020 Wine Style Awards: Bordeaux Sain...</td>\n",
       "    </tr>\n",
       "    <tr>\n",
       "      <th>16</th>\n",
       "      <td>1</td>\n",
       "      <td>Gaja Sperss Barolo 2004</td>\n",
       "      <td>Vivino's 2018 Wine Style Awards: Italian Nebbiolo</td>\n",
       "    </tr>\n",
       "    <tr>\n",
       "      <th>17</th>\n",
       "      <td>1</td>\n",
       "      <td>Burmester Tordiz 40 Year Old Tawny Port</td>\n",
       "      <td>Vivino's 2020 Wine Style Awards: Portuguese Ta...</td>\n",
       "    </tr>\n",
       "    <tr>\n",
       "      <th>18</th>\n",
       "      <td>1</td>\n",
       "      <td>Gaja Gaia &amp; Rey Langhe 2006</td>\n",
       "      <td>Vivino's 2016 Wine Style Awards: Northern Ital...</td>\n",
       "    </tr>\n",
       "    <tr>\n",
       "      <th>19</th>\n",
       "      <td>1</td>\n",
       "      <td>Pago de Carraovejas Tinto 2020</td>\n",
       "      <td>Bestsellers in Málaga</td>\n",
       "    </tr>\n",
       "    <tr>\n",
       "      <th>20</th>\n",
       "      <td>1</td>\n",
       "      <td>La Grange des Pères Vin de Pays de l'Hérault 2012</td>\n",
       "      <td>Vivino's 2020 Wine Style Awards: Languedoc-Rou...</td>\n",
       "    </tr>\n",
       "    <tr>\n",
       "      <th>21</th>\n",
       "      <td>1</td>\n",
       "      <td>Dal Forno Romano Valpolicella Superiore Monte ...</td>\n",
       "      <td>Vivino's 2016 Wine Style Awards: Italian Valpo...</td>\n",
       "    </tr>\n",
       "    <tr>\n",
       "      <th>22</th>\n",
       "      <td>1</td>\n",
       "      <td>Bonneau du Martray Corton-Charlemagne Grand Cr...</td>\n",
       "      <td>Vivino's 2019 Wine Style Awards: Burgundy Côte...</td>\n",
       "    </tr>\n",
       "    <tr>\n",
       "      <th>23</th>\n",
       "      <td>1</td>\n",
       "      <td>Trimbach Clos Sainte Hune Riesling Alsace 2012</td>\n",
       "      <td>Vivino's 2019 Wine Style Awards: Alsace Riesling</td>\n",
       "    </tr>\n",
       "    <tr>\n",
       "      <th>24</th>\n",
       "      <td>1</td>\n",
       "      <td>La Grange des Pères Vin de Pays de l'Hérault B...</td>\n",
       "      <td>Vivino's 2020 Wine Style Awards: Languedoc-Rou...</td>\n",
       "    </tr>\n",
       "    <tr>\n",
       "      <th>25</th>\n",
       "      <td>1</td>\n",
       "      <td>Buena Vista Chateau Buena Vista Cabernet Sauvi...</td>\n",
       "      <td>Bestsellers in Utah</td>\n",
       "    </tr>\n",
       "    <tr>\n",
       "      <th>26</th>\n",
       "      <td>1</td>\n",
       "      <td>Guerrieri Guerriero della Terra 2019</td>\n",
       "      <td>Bestsellers in Singapore</td>\n",
       "    </tr>\n",
       "    <tr>\n",
       "      <th>27</th>\n",
       "      <td>1</td>\n",
       "      <td>San Marzano 60 Sessantanni Old Vines Primitivo...</td>\n",
       "      <td>Bestsellers in Italy</td>\n",
       "    </tr>\n",
       "    <tr>\n",
       "      <th>28</th>\n",
       "      <td>1</td>\n",
       "      <td>Tommasi Amarone della Valpolicella Classico 2018</td>\n",
       "      <td>Bestsellers in Salamanca</td>\n",
       "    </tr>\n",
       "    <tr>\n",
       "      <th>29</th>\n",
       "      <td>1</td>\n",
       "      <td>Bodegas Tradición Palo Cortado Tradición Vors ...</td>\n",
       "      <td>Vivino's 2018 Wine Style Awards: Spanish Sherry</td>\n",
       "    </tr>\n",
       "    <tr>\n",
       "      <th>30</th>\n",
       "      <td>1</td>\n",
       "      <td>Arzuaga Reserva Ribera del Duero 2018</td>\n",
       "      <td>Bestsellers in Córdoba</td>\n",
       "    </tr>\n",
       "    <tr>\n",
       "      <th>31</th>\n",
       "      <td>1</td>\n",
       "      <td>Château des Tours Vacqueyras 2011</td>\n",
       "      <td>Vivino's 2020 Wine Style Awards: Southern Rhôn...</td>\n",
       "    </tr>\n",
       "    <tr>\n",
       "      <th>32</th>\n",
       "      <td>1</td>\n",
       "      <td>Charles Melton Nine Popes 2015</td>\n",
       "      <td>Vivino's 2019 Wine Style Awards: Australian Rh...</td>\n",
       "    </tr>\n",
       "    <tr>\n",
       "      <th>33</th>\n",
       "      <td>1</td>\n",
       "      <td>Charles Melton Nine Popes 2015</td>\n",
       "      <td>Vivino's 2020 Wine Style Awards: Australian Rh...</td>\n",
       "    </tr>\n",
       "  </tbody>\n",
       "</table>\n",
       "</div>"
      ],
      "text/plain": [
       "    rank                                       vintage_name  \\\n",
       "0      1  Salon Le Mesnil Blanc de Blancs (Cuvée S) Brut...   \n",
       "1      1                               Masseto Toscana 2006   \n",
       "2      1                               Masseto Toscana 2005   \n",
       "3      1                  Scarecrow Cabernet Sauvignon 2015   \n",
       "4      1                  Ornellaia Bolgheri Superiore 2005   \n",
       "5      1                               Masseto Toscana 2010   \n",
       "6      1             Château Rayas Châteauneuf-du-Pape 2006   \n",
       "7      1                               Masseto Toscana 2004   \n",
       "8      1             Château Rayas Châteauneuf-du-Pape 2001   \n",
       "9      1             Château Rayas Châteauneuf-du-Pape 2001   \n",
       "10     1  Château Margaux Château Margaux (Premier Grand...   \n",
       "11     1                               Gaja Barbaresco 1997   \n",
       "12     1             Château Rayas Châteauneuf-du-Pape 2005   \n",
       "13     1  La Grange des Pères Vin de Pays de l'Hérault 2011   \n",
       "14     1                               Gaja Barbaresco 1998   \n",
       "15     1  Château Ducru-Beaucaillou Saint-Julien (Grand ...   \n",
       "16     1                            Gaja Sperss Barolo 2004   \n",
       "17     1            Burmester Tordiz 40 Year Old Tawny Port   \n",
       "18     1                        Gaja Gaia & Rey Langhe 2006   \n",
       "19     1                     Pago de Carraovejas Tinto 2020   \n",
       "20     1  La Grange des Pères Vin de Pays de l'Hérault 2012   \n",
       "21     1  Dal Forno Romano Valpolicella Superiore Monte ...   \n",
       "22     1  Bonneau du Martray Corton-Charlemagne Grand Cr...   \n",
       "23     1     Trimbach Clos Sainte Hune Riesling Alsace 2012   \n",
       "24     1  La Grange des Pères Vin de Pays de l'Hérault B...   \n",
       "25     1  Buena Vista Chateau Buena Vista Cabernet Sauvi...   \n",
       "26     1               Guerrieri Guerriero della Terra 2019   \n",
       "27     1  San Marzano 60 Sessantanni Old Vines Primitivo...   \n",
       "28     1   Tommasi Amarone della Valpolicella Classico 2018   \n",
       "29     1  Bodegas Tradición Palo Cortado Tradición Vors ...   \n",
       "30     1              Arzuaga Reserva Ribera del Duero 2018   \n",
       "31     1                  Château des Tours Vacqueyras 2011   \n",
       "32     1                     Charles Melton Nine Popes 2015   \n",
       "33     1                     Charles Melton Nine Popes 2015   \n",
       "\n",
       "                                         toplist_name  \n",
       "0   Vivino's 2020 Wine Style Awards: French Champa...  \n",
       "1         Vivino's 2020 Wine Style Awards: Tuscan Red  \n",
       "2   Vivino's 2016 Wine Style Awards: Central Italy...  \n",
       "3   Vivino's 2019 Wine Style Awards: Napa Valley C...  \n",
       "4   Vivino's 2019 Wine Style Awards: Italian Bolgheri  \n",
       "5   Vivino's 2017 Wine Style Awards: Central Italy...  \n",
       "6   Vivino's 2020 Wine Style Awards: Southern Rhôn...  \n",
       "7         Vivino's 2018 Wine Style Awards: Tuscan Red  \n",
       "8   Vivino's 2016 Wine Style Awards: Southern Rhôn...  \n",
       "9   Vivino's 2017 Wine Style Awards: Southern Rhôn...  \n",
       "10  Vivino's 2019 Wine Style Awards: Bordeaux Margaux  \n",
       "11  Vivino's 2016 Wine Style Awards: Italian Barba...  \n",
       "12  Vivino's 2018 Wine Style Awards: Southern Rhôn...  \n",
       "13  Vivino's 2016 Wine Style Awards: Languedoc-Rou...  \n",
       "14  Vivino's 2018 Wine Style Awards: Italian Barba...  \n",
       "15  Vivino's 2020 Wine Style Awards: Bordeaux Sain...  \n",
       "16  Vivino's 2018 Wine Style Awards: Italian Nebbiolo  \n",
       "17  Vivino's 2020 Wine Style Awards: Portuguese Ta...  \n",
       "18  Vivino's 2016 Wine Style Awards: Northern Ital...  \n",
       "19                              Bestsellers in Málaga  \n",
       "20  Vivino's 2020 Wine Style Awards: Languedoc-Rou...  \n",
       "21  Vivino's 2016 Wine Style Awards: Italian Valpo...  \n",
       "22  Vivino's 2019 Wine Style Awards: Burgundy Côte...  \n",
       "23   Vivino's 2019 Wine Style Awards: Alsace Riesling  \n",
       "24  Vivino's 2020 Wine Style Awards: Languedoc-Rou...  \n",
       "25                                Bestsellers in Utah  \n",
       "26                           Bestsellers in Singapore  \n",
       "27                               Bestsellers in Italy  \n",
       "28                           Bestsellers in Salamanca  \n",
       "29    Vivino's 2018 Wine Style Awards: Spanish Sherry  \n",
       "30                             Bestsellers in Córdoba  \n",
       "31  Vivino's 2020 Wine Style Awards: Southern Rhôn...  \n",
       "32  Vivino's 2019 Wine Style Awards: Australian Rh...  \n",
       "33  Vivino's 2020 Wine Style Awards: Australian Rh...  "
      ]
     },
     "execution_count": 124,
     "metadata": {},
     "output_type": "execute_result"
    }
   ],
   "source": [
    "query_vint_top = \"\"\"SELECT rank, vintages.name AS vintage_name, toplists.name AS toplist_name FROM vintage_toplists_rankings\n",
    "JOIN vintages ON vintages.id = vintage_toplists_rankings.vintage_id\n",
    "JOIN toplists ON toplists.id = vintage_toplists_rankings.top_list_id\n",
    "WHERE rank = 1\n",
    "\"\"\"\n",
    "\n",
    "df_vint_top = pd.read_sql_query(query_vint_top, conn)\n",
    "\n",
    "df_vint_top"
   ]
  }
 ],
 "metadata": {
  "kernelspec": {
   "display_name": "venv",
   "language": "python",
   "name": "python3"
  },
  "language_info": {
   "codemirror_mode": {
    "name": "ipython",
    "version": 3
   },
   "file_extension": ".py",
   "mimetype": "text/x-python",
   "name": "python",
   "nbconvert_exporter": "python",
   "pygments_lexer": "ipython3",
   "version": "3.12.2"
  }
 },
 "nbformat": 4,
 "nbformat_minor": 2
}
