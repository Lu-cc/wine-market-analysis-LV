{
 "cells": [
  {
   "cell_type": "code",
   "execution_count": 2,
   "metadata": {},
   "outputs": [],
   "source": [
    "import sqlite3\n",
    "import pandas as pd\n",
    "\n",
    "conn = sqlite3.connect(r'./db/vivino.db')\n",
    "\n",
    "cur = conn.cursor()"
   ]
  },
  {
   "cell_type": "markdown",
   "metadata": {},
   "source": [
    "Exploration"
   ]
  },
  {
   "cell_type": "code",
   "execution_count": 3,
   "metadata": {},
   "outputs": [
    {
     "data": {
      "text/plain": [
       "[('table',\n",
       "  'countries',\n",
       "  'countries',\n",
       "  2,\n",
       "  'CREATE TABLE countries (\\n\\tcode VARCHAR NOT NULL, \\n\\tname VARCHAR, \\n\\tregions_count INTEGER, \\n\\tusers_count INTEGER, \\n\\twines_count INTEGER, \\n\\twineries_count INTEGER, \\n\\tPRIMARY KEY (code)\\n)'),\n",
       " ('table',\n",
       "  'grapes',\n",
       "  'grapes',\n",
       "  4,\n",
       "  'CREATE TABLE grapes (\\n\\tid INTEGER NOT NULL, \\n\\tname VARCHAR, \\n\\tPRIMARY KEY (id)\\n)'),\n",
       " ('table',\n",
       "  'wineries',\n",
       "  'wineries',\n",
       "  5,\n",
       "  'CREATE TABLE wineries (\\n\\tid INTEGER NOT NULL, \\n\\tname VARCHAR, \\n\\tPRIMARY KEY (id)\\n)'),\n",
       " ('table',\n",
       "  'flavor_groups',\n",
       "  'flavor_groups',\n",
       "  6,\n",
       "  'CREATE TABLE flavor_groups (\\n\\tname VARCHAR NOT NULL, \\n\\tPRIMARY KEY (name)\\n)'),\n",
       " ('table',\n",
       "  'keywords',\n",
       "  'keywords',\n",
       "  8,\n",
       "  'CREATE TABLE keywords (\\n\\tid INTEGER NOT NULL, \\n\\tname VARCHAR, \\n\\tPRIMARY KEY (id)\\n)'),\n",
       " ('table',\n",
       "  'regions',\n",
       "  'regions',\n",
       "  9,\n",
       "  'CREATE TABLE regions (\\n\\tid INTEGER NOT NULL, \\n\\tname VARCHAR, \\n\\tcountry_code VARCHAR, \\n\\tPRIMARY KEY (id), \\n\\tFOREIGN KEY(country_code) REFERENCES countries (code)\\n)'),\n",
       " ('table',\n",
       "  'most_used_grapes_per_country',\n",
       "  'most_used_grapes_per_country',\n",
       "  10,\n",
       "  'CREATE TABLE most_used_grapes_per_country (\\n\\tid INTEGER NOT NULL, \\n\\tcountry_code VARCHAR, \\n\\tgrape_id INTEGER, \\n\\twines_count INTEGER, \\n\\tPRIMARY KEY (id), \\n\\tFOREIGN KEY(country_code) REFERENCES countries (code), \\n\\tFOREIGN KEY(grape_id) REFERENCES grapes (id)\\n)'),\n",
       " ('table',\n",
       "  'toplists',\n",
       "  'toplists',\n",
       "  11,\n",
       "  'CREATE TABLE toplists (\\n\\tid INTEGER NOT NULL, \\n\\tname VARCHAR(255) NOT NULL, \\n\\tcountry_code VARCHAR, \\n\\tPRIMARY KEY (id), \\n\\tFOREIGN KEY(country_code) REFERENCES countries (code)\\n)'),\n",
       " ('table',\n",
       "  'wines',\n",
       "  'wines',\n",
       "  12,\n",
       "  'CREATE TABLE wines (\\n\\tid INTEGER NOT NULL, \\n\\tname VARCHAR, \\n\\tis_natural BOOLEAN, \\n\\tregion_id INTEGER, \\n\\twinery_id INTEGER, \\n\\tratings_average FLOAT, \\n\\tratings_count INTEGER, \\n\\turl VARCHAR, \\n\\tacidity FLOAT, \\n\\tfizziness FLOAT, \\n\\tintensity FLOAT, \\n\\tsweetness FLOAT, \\n\\ttannin FLOAT, \\n\\tuser_structure_count INTEGER, \\n\\tPRIMARY KEY (id), \\n\\tFOREIGN KEY(region_id) REFERENCES regions (id), \\n\\tFOREIGN KEY(winery_id) REFERENCES wineries (id)\\n)'),\n",
       " ('table',\n",
       "  'vintages',\n",
       "  'vintages',\n",
       "  13,\n",
       "  'CREATE TABLE vintages (\\n\\tid INTEGER NOT NULL, \\n\\tname VARCHAR, \\n\\twine_id INTEGER, \\n\\tratings_average FLOAT, \\n\\tratings_count INTEGER, \\n\\tyear INTEGER, \\n\\tprice_euros FLOAT, \\n\\tprice_discounted_from FLOAT, \\n\\tprice_discount_percentage FLOAT, \\n\\tbottle_volume_ml INTEGER, \\n\\tPRIMARY KEY (id), \\n\\tFOREIGN KEY(wine_id) REFERENCES wines (id)\\n)'),\n",
       " ('table',\n",
       "  'keywords_wine',\n",
       "  'keywords_wine',\n",
       "  14,\n",
       "  'CREATE TABLE keywords_wine (\\n\\tkeyword_id INTEGER NOT NULL, \\n\\twine_id INTEGER NOT NULL, \\n\\tgroup_name VARCHAR NOT NULL, \\n\\tkeyword_type VARCHAR, \\n\\tcount INTEGER, \\n\\tPRIMARY KEY (keyword_id, wine_id, group_name), \\n\\tFOREIGN KEY(keyword_id) REFERENCES keywords (id), \\n\\tFOREIGN KEY(wine_id) REFERENCES wines (id)\\n)'),\n",
       " ('table',\n",
       "  'vintage_toplists_rankings',\n",
       "  'vintage_toplists_rankings',\n",
       "  16,\n",
       "  'CREATE TABLE vintage_toplists_rankings (\\n\\tid INTEGER NOT NULL, \\n\\ttop_list_id INTEGER, \\n\\tvintage_id INTEGER, \\n\\trank INTEGER, \\n\\tprevious_rank INTEGER, \\n\\tPRIMARY KEY (id), \\n\\tFOREIGN KEY(top_list_id) REFERENCES toplists (id), \\n\\tFOREIGN KEY(vintage_id) REFERENCES vintages (id)\\n)')]"
      ]
     },
     "execution_count": 3,
     "metadata": {},
     "output_type": "execute_result"
    }
   ],
   "source": [
    "cur.execute(\"\"\"\n",
    "            SELECT * FROM sqlite_master WHERE type='table';\n",
    "            \"\"\" )\n",
    "\n",
    "cur.fetchall()"
   ]
  },
  {
   "cell_type": "code",
   "execution_count": 4,
   "metadata": {},
   "outputs": [
    {
     "data": {
      "text/plain": [
       "[('Italie',),\n",
       " ('France',),\n",
       " ('États-Unis',),\n",
       " ('Espagne',),\n",
       " ('Portugal',),\n",
       " ('Australie',),\n",
       " ('Hongrie',),\n",
       " ('Afrique du Sud',),\n",
       " ('Allemagne',),\n",
       " ('Chili',),\n",
       " ('Moldavie',),\n",
       " ('Argentine',),\n",
       " ('Grèce',),\n",
       " ('Israël',),\n",
       " ('Roumanie',),\n",
       " ('Croatie',),\n",
       " ('Suisse',)]"
      ]
     },
     "execution_count": 4,
     "metadata": {},
     "output_type": "execute_result"
    }
   ],
   "source": [
    "cur.execute(\n",
    "    \"\"\"SELECT DISTINCT name \n",
    "    FROM countries\"\"\"\n",
    ")\n",
    "\n",
    "cur.fetchall()"
   ]
  },
  {
   "cell_type": "markdown",
   "metadata": {},
   "source": [
    "WINES WITH THE HIGHEST RANKING"
   ]
  },
  {
   "cell_type": "code",
   "execution_count": 5,
   "metadata": {},
   "outputs": [
    {
     "data": {
      "text/html": [
       "<div>\n",
       "<style scoped>\n",
       "    .dataframe tbody tr th:only-of-type {\n",
       "        vertical-align: middle;\n",
       "    }\n",
       "\n",
       "    .dataframe tbody tr th {\n",
       "        vertical-align: top;\n",
       "    }\n",
       "\n",
       "    .dataframe thead th {\n",
       "        text-align: right;\n",
       "    }\n",
       "</style>\n",
       "<table border=\"1\" class=\"dataframe\">\n",
       "  <thead>\n",
       "    <tr style=\"text-align: right;\">\n",
       "      <th></th>\n",
       "      <th>id</th>\n",
       "      <th>name</th>\n",
       "      <th>is_natural</th>\n",
       "      <th>region_id</th>\n",
       "      <th>winery_id</th>\n",
       "      <th>ratings_average</th>\n",
       "      <th>ratings_count</th>\n",
       "      <th>url</th>\n",
       "      <th>acidity</th>\n",
       "      <th>fizziness</th>\n",
       "      <th>intensity</th>\n",
       "      <th>sweetness</th>\n",
       "      <th>tannin</th>\n",
       "      <th>user_structure_count</th>\n",
       "    </tr>\n",
       "  </thead>\n",
       "  <tbody>\n",
       "    <tr>\n",
       "      <th>0</th>\n",
       "      <td>1213</td>\n",
       "      <td>Vin Santo di Montepulciano</td>\n",
       "      <td>0</td>\n",
       "      <td>2693</td>\n",
       "      <td>1574</td>\n",
       "      <td>4.6</td>\n",
       "      <td>773</td>\n",
       "      <td>https://www.seulementproduitsitaliens.be/spec_...</td>\n",
       "      <td>4.492628</td>\n",
       "      <td>NaN</td>\n",
       "      <td>3.992133</td>\n",
       "      <td>4.952543</td>\n",
       "      <td>NaN</td>\n",
       "      <td>0.0</td>\n",
       "    </tr>\n",
       "    <tr>\n",
       "      <th>1</th>\n",
       "      <td>1268</td>\n",
       "      <td>St. Henri Shiraz</td>\n",
       "      <td>0</td>\n",
       "      <td>7</td>\n",
       "      <td>1305</td>\n",
       "      <td>4.4</td>\n",
       "      <td>17326</td>\n",
       "      <td>https://www.wijnig.nl/penfolds-st-henri-shiraz...</td>\n",
       "      <td>3.015245</td>\n",
       "      <td>NaN</td>\n",
       "      <td>4.612774</td>\n",
       "      <td>2.092192</td>\n",
       "      <td>3.103089</td>\n",
       "      <td>1309.0</td>\n",
       "    </tr>\n",
       "    <tr>\n",
       "      <th>2</th>\n",
       "      <td>1471</td>\n",
       "      <td>Siepi</td>\n",
       "      <td>0</td>\n",
       "      <td>394</td>\n",
       "      <td>1620</td>\n",
       "      <td>4.4</td>\n",
       "      <td>8129</td>\n",
       "      <td>https://www.topwijnen.be/nl/product/wijnen/ita...</td>\n",
       "      <td>3.156144</td>\n",
       "      <td>NaN</td>\n",
       "      <td>3.491866</td>\n",
       "      <td>1.807986</td>\n",
       "      <td>2.985634</td>\n",
       "      <td>755.0</td>\n",
       "    </tr>\n",
       "    <tr>\n",
       "      <th>3</th>\n",
       "      <td>1647</td>\n",
       "      <td>Solare Toscana</td>\n",
       "      <td>0</td>\n",
       "      <td>394</td>\n",
       "      <td>4772</td>\n",
       "      <td>4.2</td>\n",
       "      <td>4961</td>\n",
       "      <td>https://www.seulementproduitsitaliens.be/spec_...</td>\n",
       "      <td>3.158376</td>\n",
       "      <td>NaN</td>\n",
       "      <td>3.321616</td>\n",
       "      <td>1.701897</td>\n",
       "      <td>3.038064</td>\n",
       "      <td>485.0</td>\n",
       "    </tr>\n",
       "    <tr>\n",
       "      <th>4</th>\n",
       "      <td>1651</td>\n",
       "      <td>Tenuta Tignanello 'Solaia'</td>\n",
       "      <td>0</td>\n",
       "      <td>394</td>\n",
       "      <td>1252</td>\n",
       "      <td>4.6</td>\n",
       "      <td>33143</td>\n",
       "      <td>http://www.vivino.com/wines/159347388</td>\n",
       "      <td>3.064164</td>\n",
       "      <td>NaN</td>\n",
       "      <td>3.450713</td>\n",
       "      <td>1.888549</td>\n",
       "      <td>2.970583</td>\n",
       "      <td>2131.0</td>\n",
       "    </tr>\n",
       "    <tr>\n",
       "      <th>...</th>\n",
       "      <td>...</td>\n",
       "      <td>...</td>\n",
       "      <td>...</td>\n",
       "      <td>...</td>\n",
       "      <td>...</td>\n",
       "      <td>...</td>\n",
       "      <td>...</td>\n",
       "      <td>...</td>\n",
       "      <td>...</td>\n",
       "      <td>...</td>\n",
       "      <td>...</td>\n",
       "      <td>...</td>\n",
       "      <td>...</td>\n",
       "      <td>...</td>\n",
       "    </tr>\n",
       "    <tr>\n",
       "      <th>1015</th>\n",
       "      <td>10203724</td>\n",
       "      <td>Elevage Branco</td>\n",
       "      <td>0</td>\n",
       "      <td>1395</td>\n",
       "      <td>32935</td>\n",
       "      <td>4.5</td>\n",
       "      <td>53</td>\n",
       "      <td>https://www.grandcruwijnen.nl/2021-herdade-do-...</td>\n",
       "      <td>2.396842</td>\n",
       "      <td>NaN</td>\n",
       "      <td>2.889368</td>\n",
       "      <td>1.307053</td>\n",
       "      <td>NaN</td>\n",
       "      <td>10.0</td>\n",
       "    </tr>\n",
       "    <tr>\n",
       "      <th>1016</th>\n",
       "      <td>10266383</td>\n",
       "      <td>Moss Blanc Verdicchio dei Castelli di Jesi Cla...</td>\n",
       "      <td>0</td>\n",
       "      <td>2660</td>\n",
       "      <td>8194</td>\n",
       "      <td>4.6</td>\n",
       "      <td>94</td>\n",
       "      <td>https://www.vinio.nl/products/azienda-santa-ba...</td>\n",
       "      <td>3.785753</td>\n",
       "      <td>NaN</td>\n",
       "      <td>3.740137</td>\n",
       "      <td>2.024110</td>\n",
       "      <td>NaN</td>\n",
       "      <td>5.0</td>\n",
       "    </tr>\n",
       "    <tr>\n",
       "      <th>1017</th>\n",
       "      <td>10746470</td>\n",
       "      <td>Academia Purcari Rară Neagră</td>\n",
       "      <td>0</td>\n",
       "      <td>1124</td>\n",
       "      <td>9534</td>\n",
       "      <td>4.5</td>\n",
       "      <td>73</td>\n",
       "      <td>https://tezauro.myshopify.com/products/academi...</td>\n",
       "      <td>NaN</td>\n",
       "      <td>NaN</td>\n",
       "      <td>NaN</td>\n",
       "      <td>NaN</td>\n",
       "      <td>NaN</td>\n",
       "      <td>NaN</td>\n",
       "    </tr>\n",
       "    <tr>\n",
       "      <th>1018</th>\n",
       "      <td>10773117</td>\n",
       "      <td>Paralupi Appassimento</td>\n",
       "      <td>0</td>\n",
       "      <td>548</td>\n",
       "      <td>12590</td>\n",
       "      <td>4.4</td>\n",
       "      <td>575</td>\n",
       "      <td>https://www.seulementproduitsitaliens.be/vino/...</td>\n",
       "      <td>2.140114</td>\n",
       "      <td>NaN</td>\n",
       "      <td>4.730000</td>\n",
       "      <td>2.884680</td>\n",
       "      <td>2.606918</td>\n",
       "      <td>47.0</td>\n",
       "    </tr>\n",
       "    <tr>\n",
       "      <th>1019</th>\n",
       "      <td>11339017</td>\n",
       "      <td>Collection Fût de Chêne Brut Champagne Grand C...</td>\n",
       "      <td>0</td>\n",
       "      <td>4621</td>\n",
       "      <td>4333</td>\n",
       "      <td>4.5</td>\n",
       "      <td>58</td>\n",
       "      <td>https://hermanwines.com/products/ay-gc-fut-de-...</td>\n",
       "      <td>4.537529</td>\n",
       "      <td>4.382784</td>\n",
       "      <td>4.083764</td>\n",
       "      <td>NaN</td>\n",
       "      <td>NaN</td>\n",
       "      <td>10.0</td>\n",
       "    </tr>\n",
       "  </tbody>\n",
       "</table>\n",
       "<p>1020 rows × 14 columns</p>\n",
       "</div>"
      ],
      "text/plain": [
       "            id                                               name  is_natural  \\\n",
       "0         1213                         Vin Santo di Montepulciano           0   \n",
       "1         1268                                   St. Henri Shiraz           0   \n",
       "2         1471                                              Siepi           0   \n",
       "3         1647                                     Solare Toscana           0   \n",
       "4         1651                         Tenuta Tignanello 'Solaia'           0   \n",
       "...        ...                                                ...         ...   \n",
       "1015  10203724                                     Elevage Branco           0   \n",
       "1016  10266383  Moss Blanc Verdicchio dei Castelli di Jesi Cla...           0   \n",
       "1017  10746470                       Academia Purcari Rară Neagră           0   \n",
       "1018  10773117                              Paralupi Appassimento           0   \n",
       "1019  11339017  Collection Fût de Chêne Brut Champagne Grand C...           0   \n",
       "\n",
       "      region_id  winery_id  ratings_average  ratings_count  \\\n",
       "0          2693       1574              4.6            773   \n",
       "1             7       1305              4.4          17326   \n",
       "2           394       1620              4.4           8129   \n",
       "3           394       4772              4.2           4961   \n",
       "4           394       1252              4.6          33143   \n",
       "...         ...        ...              ...            ...   \n",
       "1015       1395      32935              4.5             53   \n",
       "1016       2660       8194              4.6             94   \n",
       "1017       1124       9534              4.5             73   \n",
       "1018        548      12590              4.4            575   \n",
       "1019       4621       4333              4.5             58   \n",
       "\n",
       "                                                    url   acidity  fizziness  \\\n",
       "0     https://www.seulementproduitsitaliens.be/spec_...  4.492628        NaN   \n",
       "1     https://www.wijnig.nl/penfolds-st-henri-shiraz...  3.015245        NaN   \n",
       "2     https://www.topwijnen.be/nl/product/wijnen/ita...  3.156144        NaN   \n",
       "3     https://www.seulementproduitsitaliens.be/spec_...  3.158376        NaN   \n",
       "4                 http://www.vivino.com/wines/159347388  3.064164        NaN   \n",
       "...                                                 ...       ...        ...   \n",
       "1015  https://www.grandcruwijnen.nl/2021-herdade-do-...  2.396842        NaN   \n",
       "1016  https://www.vinio.nl/products/azienda-santa-ba...  3.785753        NaN   \n",
       "1017  https://tezauro.myshopify.com/products/academi...       NaN        NaN   \n",
       "1018  https://www.seulementproduitsitaliens.be/vino/...  2.140114        NaN   \n",
       "1019  https://hermanwines.com/products/ay-gc-fut-de-...  4.537529   4.382784   \n",
       "\n",
       "      intensity  sweetness    tannin  user_structure_count  \n",
       "0      3.992133   4.952543       NaN                   0.0  \n",
       "1      4.612774   2.092192  3.103089                1309.0  \n",
       "2      3.491866   1.807986  2.985634                 755.0  \n",
       "3      3.321616   1.701897  3.038064                 485.0  \n",
       "4      3.450713   1.888549  2.970583                2131.0  \n",
       "...         ...        ...       ...                   ...  \n",
       "1015   2.889368   1.307053       NaN                  10.0  \n",
       "1016   3.740137   2.024110       NaN                   5.0  \n",
       "1017        NaN        NaN       NaN                   NaN  \n",
       "1018   4.730000   2.884680  2.606918                  47.0  \n",
       "1019   4.083764        NaN       NaN                  10.0  \n",
       "\n",
       "[1020 rows x 14 columns]"
      ]
     },
     "execution_count": 5,
     "metadata": {},
     "output_type": "execute_result"
    }
   ],
   "source": [
    "\n",
    "query_wines = \"\"\"\n",
    "    SELECT * FROM wines\n",
    "    \"\"\"\n",
    "\n",
    "wines_df = pd.read_sql_query(query_wines, conn)\n",
    "\n",
    "wines_df \n"
   ]
  },
  {
   "cell_type": "code",
   "execution_count": 6,
   "metadata": {},
   "outputs": [
    {
     "data": {
      "text/html": [
       "<div>\n",
       "<style scoped>\n",
       "    .dataframe tbody tr th:only-of-type {\n",
       "        vertical-align: middle;\n",
       "    }\n",
       "\n",
       "    .dataframe tbody tr th {\n",
       "        vertical-align: top;\n",
       "    }\n",
       "\n",
       "    .dataframe thead th {\n",
       "        text-align: right;\n",
       "    }\n",
       "</style>\n",
       "<table border=\"1\" class=\"dataframe\">\n",
       "  <thead>\n",
       "    <tr style=\"text-align: right;\">\n",
       "      <th></th>\n",
       "      <th>id</th>\n",
       "      <th>name</th>\n",
       "      <th>wine_id</th>\n",
       "      <th>ratings_average</th>\n",
       "      <th>ratings_count</th>\n",
       "      <th>year</th>\n",
       "      <th>price_euros</th>\n",
       "      <th>price_discounted_from</th>\n",
       "      <th>price_discount_percentage</th>\n",
       "      <th>bottle_volume_ml</th>\n",
       "    </tr>\n",
       "  </thead>\n",
       "  <tbody>\n",
       "    <tr>\n",
       "      <th>0</th>\n",
       "      <td>2036</td>\n",
       "      <td>Mazzei Siepi 2005</td>\n",
       "      <td>1471</td>\n",
       "      <td>4.4</td>\n",
       "      <td>580</td>\n",
       "      <td>2005</td>\n",
       "      <td>168.750000</td>\n",
       "      <td>NaN</td>\n",
       "      <td>NaN</td>\n",
       "      <td>750</td>\n",
       "    </tr>\n",
       "    <tr>\n",
       "      <th>1</th>\n",
       "      <td>2202</td>\n",
       "      <td>Antinori Tignanello 2005</td>\n",
       "      <td>1652</td>\n",
       "      <td>4.5</td>\n",
       "      <td>1933</td>\n",
       "      <td>2005</td>\n",
       "      <td>750.000000</td>\n",
       "      <td>NaN</td>\n",
       "      <td>NaN</td>\n",
       "      <td>1500</td>\n",
       "    </tr>\n",
       "    <tr>\n",
       "      <th>2</th>\n",
       "      <td>10343</td>\n",
       "      <td>Casanova di Neri Tenuta Nuova Brunello di Mont...</td>\n",
       "      <td>9712</td>\n",
       "      <td>4.5</td>\n",
       "      <td>611</td>\n",
       "      <td>2001</td>\n",
       "      <td>420.000000</td>\n",
       "      <td>NaN</td>\n",
       "      <td>NaN</td>\n",
       "      <td>750</td>\n",
       "    </tr>\n",
       "    <tr>\n",
       "      <th>3</th>\n",
       "      <td>10786</td>\n",
       "      <td>Poggio Antico Altero Brunello di Montalcino 2006</td>\n",
       "      <td>10152</td>\n",
       "      <td>4.5</td>\n",
       "      <td>236</td>\n",
       "      <td>2006</td>\n",
       "      <td>121.250000</td>\n",
       "      <td>NaN</td>\n",
       "      <td>NaN</td>\n",
       "      <td>750</td>\n",
       "    </tr>\n",
       "    <tr>\n",
       "      <th>4</th>\n",
       "      <td>10809</td>\n",
       "      <td>Château Angelus Saint-Émilion Grand Cru (Premi...</td>\n",
       "      <td>10175</td>\n",
       "      <td>4.5</td>\n",
       "      <td>876</td>\n",
       "      <td>2007</td>\n",
       "      <td>726.250000</td>\n",
       "      <td>NaN</td>\n",
       "      <td>NaN</td>\n",
       "      <td>750</td>\n",
       "    </tr>\n",
       "    <tr>\n",
       "      <th>...</th>\n",
       "      <td>...</td>\n",
       "      <td>...</td>\n",
       "      <td>...</td>\n",
       "      <td>...</td>\n",
       "      <td>...</td>\n",
       "      <td>...</td>\n",
       "      <td>...</td>\n",
       "      <td>...</td>\n",
       "      <td>...</td>\n",
       "      <td>...</td>\n",
       "    </tr>\n",
       "    <tr>\n",
       "      <th>2045</th>\n",
       "      <td>173167924</td>\n",
       "      <td>Capichera VT Vendemmia Tardiva 2021</td>\n",
       "      <td>2486585</td>\n",
       "      <td>0.0</td>\n",
       "      <td>1</td>\n",
       "      <td>2021</td>\n",
       "      <td>74.000000</td>\n",
       "      <td>NaN</td>\n",
       "      <td>NaN</td>\n",
       "      <td>750</td>\n",
       "    </tr>\n",
       "    <tr>\n",
       "      <th>2046</th>\n",
       "      <td>173338092</td>\n",
       "      <td>Martin Waßmer Castellberg Pinot Noir 2020</td>\n",
       "      <td>3094569</td>\n",
       "      <td>0.0</td>\n",
       "      <td>6</td>\n",
       "      <td>2020</td>\n",
       "      <td>73.000000</td>\n",
       "      <td>NaN</td>\n",
       "      <td>NaN</td>\n",
       "      <td>750</td>\n",
       "    </tr>\n",
       "    <tr>\n",
       "      <th>2047</th>\n",
       "      <td>173555750</td>\n",
       "      <td>Anselmet Semel Pater 2021</td>\n",
       "      <td>3596240</td>\n",
       "      <td>0.0</td>\n",
       "      <td>10</td>\n",
       "      <td>2021</td>\n",
       "      <td>68.000000</td>\n",
       "      <td>NaN</td>\n",
       "      <td>NaN</td>\n",
       "      <td>750</td>\n",
       "    </tr>\n",
       "    <tr>\n",
       "      <th>2048</th>\n",
       "      <td>173849199</td>\n",
       "      <td>Henri Giraud Collection Fût de Chêne Brut Cham...</td>\n",
       "      <td>11339017</td>\n",
       "      <td>0.0</td>\n",
       "      <td>4</td>\n",
       "      <td>1998</td>\n",
       "      <td>895.400000</td>\n",
       "      <td>NaN</td>\n",
       "      <td>NaN</td>\n",
       "      <td>750</td>\n",
       "    </tr>\n",
       "    <tr>\n",
       "      <th>2049</th>\n",
       "      <td>174831153</td>\n",
       "      <td>Nic Tartaglia Trebbiano d'Abruzzo 2022</td>\n",
       "      <td>5294192</td>\n",
       "      <td>0.0</td>\n",
       "      <td>6</td>\n",
       "      <td>2022</td>\n",
       "      <td>13.333333</td>\n",
       "      <td>NaN</td>\n",
       "      <td>NaN</td>\n",
       "      <td>750</td>\n",
       "    </tr>\n",
       "  </tbody>\n",
       "</table>\n",
       "<p>2050 rows × 10 columns</p>\n",
       "</div>"
      ],
      "text/plain": [
       "             id                                               name   wine_id  \\\n",
       "0          2036                                  Mazzei Siepi 2005      1471   \n",
       "1          2202                           Antinori Tignanello 2005      1652   \n",
       "2         10343  Casanova di Neri Tenuta Nuova Brunello di Mont...      9712   \n",
       "3         10786   Poggio Antico Altero Brunello di Montalcino 2006     10152   \n",
       "4         10809  Château Angelus Saint-Émilion Grand Cru (Premi...     10175   \n",
       "...         ...                                                ...       ...   \n",
       "2045  173167924                Capichera VT Vendemmia Tardiva 2021   2486585   \n",
       "2046  173338092          Martin Waßmer Castellberg Pinot Noir 2020   3094569   \n",
       "2047  173555750                          Anselmet Semel Pater 2021   3596240   \n",
       "2048  173849199  Henri Giraud Collection Fût de Chêne Brut Cham...  11339017   \n",
       "2049  174831153             Nic Tartaglia Trebbiano d'Abruzzo 2022   5294192   \n",
       "\n",
       "      ratings_average  ratings_count  year  price_euros  \\\n",
       "0                 4.4            580  2005   168.750000   \n",
       "1                 4.5           1933  2005   750.000000   \n",
       "2                 4.5            611  2001   420.000000   \n",
       "3                 4.5            236  2006   121.250000   \n",
       "4                 4.5            876  2007   726.250000   \n",
       "...               ...            ...   ...          ...   \n",
       "2045              0.0              1  2021    74.000000   \n",
       "2046              0.0              6  2020    73.000000   \n",
       "2047              0.0             10  2021    68.000000   \n",
       "2048              0.0              4  1998   895.400000   \n",
       "2049              0.0              6  2022    13.333333   \n",
       "\n",
       "      price_discounted_from  price_discount_percentage  bottle_volume_ml  \n",
       "0                       NaN                        NaN               750  \n",
       "1                       NaN                        NaN              1500  \n",
       "2                       NaN                        NaN               750  \n",
       "3                       NaN                        NaN               750  \n",
       "4                       NaN                        NaN               750  \n",
       "...                     ...                        ...               ...  \n",
       "2045                    NaN                        NaN               750  \n",
       "2046                    NaN                        NaN               750  \n",
       "2047                    NaN                        NaN               750  \n",
       "2048                    NaN                        NaN               750  \n",
       "2049                    NaN                        NaN               750  \n",
       "\n",
       "[2050 rows x 10 columns]"
      ]
     },
     "execution_count": 6,
     "metadata": {},
     "output_type": "execute_result"
    }
   ],
   "source": [
    "query_vintages = \"SELECT * FROM vintages\"\n",
    "\n",
    "vintages_df = pd.read_sql_query(query_vintages, conn)\n",
    "vintages_df"
   ]
  },
  {
   "cell_type": "code",
   "execution_count": 7,
   "metadata": {},
   "outputs": [
    {
     "data": {
      "text/html": [
       "<div>\n",
       "<style scoped>\n",
       "    .dataframe tbody tr th:only-of-type {\n",
       "        vertical-align: middle;\n",
       "    }\n",
       "\n",
       "    .dataframe tbody tr th {\n",
       "        vertical-align: top;\n",
       "    }\n",
       "\n",
       "    .dataframe thead th {\n",
       "        text-align: right;\n",
       "    }\n",
       "</style>\n",
       "<table border=\"1\" class=\"dataframe\">\n",
       "  <thead>\n",
       "    <tr style=\"text-align: right;\">\n",
       "      <th></th>\n",
       "      <th>name</th>\n",
       "      <th>ratings_average</th>\n",
       "      <th>ratings_count</th>\n",
       "      <th>year</th>\n",
       "      <th>price_euros</th>\n",
       "      <th>bottle_volume_ml</th>\n",
       "    </tr>\n",
       "  </thead>\n",
       "  <tbody>\n",
       "    <tr>\n",
       "      <th>0</th>\n",
       "      <td>Louis Roederer Cristal Brut Champagne (Millési...</td>\n",
       "      <td>4.7</td>\n",
       "      <td>3475</td>\n",
       "      <td>2002</td>\n",
       "      <td>896.25</td>\n",
       "      <td>750</td>\n",
       "    </tr>\n",
       "    <tr>\n",
       "      <th>1</th>\n",
       "      <td>Tenuta San Guido Sassicaia 1997</td>\n",
       "      <td>4.7</td>\n",
       "      <td>1533</td>\n",
       "      <td>1997</td>\n",
       "      <td>747.50</td>\n",
       "      <td>750</td>\n",
       "    </tr>\n",
       "    <tr>\n",
       "      <th>2</th>\n",
       "      <td>Antinori Tenuta Tignanello 'Solaia' 2007</td>\n",
       "      <td>4.7</td>\n",
       "      <td>1564</td>\n",
       "      <td>2007</td>\n",
       "      <td>668.75</td>\n",
       "      <td>750</td>\n",
       "    </tr>\n",
       "    <tr>\n",
       "      <th>3</th>\n",
       "      <td>Dal Forno Romano Amarone della Valpolicella Mo...</td>\n",
       "      <td>4.7</td>\n",
       "      <td>1269</td>\n",
       "      <td>2006</td>\n",
       "      <td>616.25</td>\n",
       "      <td>750</td>\n",
       "    </tr>\n",
       "    <tr>\n",
       "      <th>4</th>\n",
       "      <td>Antinori Tenuta Tignanello 'Solaia' 2009</td>\n",
       "      <td>4.7</td>\n",
       "      <td>2186</td>\n",
       "      <td>2009</td>\n",
       "      <td>705.00</td>\n",
       "      <td>750</td>\n",
       "    </tr>\n",
       "    <tr>\n",
       "      <th>5</th>\n",
       "      <td>Château Pontet-Canet Pauillac (Grand Cru Class...</td>\n",
       "      <td>4.7</td>\n",
       "      <td>3275</td>\n",
       "      <td>2009</td>\n",
       "      <td>597.50</td>\n",
       "      <td>750</td>\n",
       "    </tr>\n",
       "    <tr>\n",
       "      <th>6</th>\n",
       "      <td>Château d'Yquem Sauternes 2005</td>\n",
       "      <td>4.7</td>\n",
       "      <td>1858</td>\n",
       "      <td>2005</td>\n",
       "      <td>928.30</td>\n",
       "      <td>750</td>\n",
       "    </tr>\n",
       "    <tr>\n",
       "      <th>7</th>\n",
       "      <td>Ornellaia Bolgheri Superiore 2005</td>\n",
       "      <td>4.7</td>\n",
       "      <td>1326</td>\n",
       "      <td>2005</td>\n",
       "      <td>425.00</td>\n",
       "      <td>750</td>\n",
       "    </tr>\n",
       "    <tr>\n",
       "      <th>8</th>\n",
       "      <td>Ornellaia Bolgheri Superiore 2007</td>\n",
       "      <td>4.7</td>\n",
       "      <td>2181</td>\n",
       "      <td>2007</td>\n",
       "      <td>533.75</td>\n",
       "      <td>750</td>\n",
       "    </tr>\n",
       "    <tr>\n",
       "      <th>9</th>\n",
       "      <td>Château d'Yquem Sauternes 2006</td>\n",
       "      <td>4.7</td>\n",
       "      <td>1002</td>\n",
       "      <td>2006</td>\n",
       "      <td>595.00</td>\n",
       "      <td>750</td>\n",
       "    </tr>\n",
       "  </tbody>\n",
       "</table>\n",
       "</div>"
      ],
      "text/plain": [
       "                                                name  ratings_average  \\\n",
       "0  Louis Roederer Cristal Brut Champagne (Millési...              4.7   \n",
       "1                    Tenuta San Guido Sassicaia 1997              4.7   \n",
       "2           Antinori Tenuta Tignanello 'Solaia' 2007              4.7   \n",
       "3  Dal Forno Romano Amarone della Valpolicella Mo...              4.7   \n",
       "4           Antinori Tenuta Tignanello 'Solaia' 2009              4.7   \n",
       "5  Château Pontet-Canet Pauillac (Grand Cru Class...              4.7   \n",
       "6                     Château d'Yquem Sauternes 2005              4.7   \n",
       "7                  Ornellaia Bolgheri Superiore 2005              4.7   \n",
       "8                  Ornellaia Bolgheri Superiore 2007              4.7   \n",
       "9                     Château d'Yquem Sauternes 2006              4.7   \n",
       "\n",
       "   ratings_count  year  price_euros  bottle_volume_ml  \n",
       "0           3475  2002       896.25               750  \n",
       "1           1533  1997       747.50               750  \n",
       "2           1564  2007       668.75               750  \n",
       "3           1269  2006       616.25               750  \n",
       "4           2186  2009       705.00               750  \n",
       "5           3275  2009       597.50               750  \n",
       "6           1858  2005       928.30               750  \n",
       "7           1326  2005       425.00               750  \n",
       "8           2181  2007       533.75               750  \n",
       "9           1002  2006       595.00               750  "
      ]
     },
     "execution_count": 7,
     "metadata": {},
     "output_type": "execute_result"
    }
   ],
   "source": [
    "query_top_vintages = \"\"\"SELECT name, ratings_average, ratings_count, year, price_euros, bottle_volume_ml FROM vintages\n",
    "WHERE ratings_count > 1000\n",
    "AND price_euros BETWEEN 0 AND 1000\n",
    "ORDER BY ratings_average DESC\n",
    "LIMIT 10\"\"\"\n",
    "\n",
    "top_vintages_df = pd.read_sql_query(query_top_vintages, conn)\n",
    "top_vintages_df"
   ]
  },
  {
   "cell_type": "code",
   "execution_count": 8,
   "metadata": {},
   "outputs": [
    {
     "data": {
      "text/html": [
       "<div>\n",
       "<style scoped>\n",
       "    .dataframe tbody tr th:only-of-type {\n",
       "        vertical-align: middle;\n",
       "    }\n",
       "\n",
       "    .dataframe tbody tr th {\n",
       "        vertical-align: top;\n",
       "    }\n",
       "\n",
       "    .dataframe thead th {\n",
       "        text-align: right;\n",
       "    }\n",
       "</style>\n",
       "<table border=\"1\" class=\"dataframe\">\n",
       "  <thead>\n",
       "    <tr style=\"text-align: right;\">\n",
       "      <th></th>\n",
       "      <th>name_of_wine</th>\n",
       "      <th>name</th>\n",
       "      <th>ratings_average</th>\n",
       "      <th>price_euros</th>\n",
       "      <th>year</th>\n",
       "    </tr>\n",
       "  </thead>\n",
       "  <tbody>\n",
       "    <tr>\n",
       "      <th>0</th>\n",
       "      <td>Brunello di Montalcino Riserva</td>\n",
       "      <td>Biondi-Santi Brunello di Montalcino Riserva 1955</td>\n",
       "      <td>4.6</td>\n",
       "      <td>1970.05</td>\n",
       "      <td>1955</td>\n",
       "    </tr>\n",
       "    <tr>\n",
       "      <th>1</th>\n",
       "      <td>Pauillac (Premier Grand Cru Classé)</td>\n",
       "      <td>Château Lafite Rothschild Pauillac (Premier Gr...</td>\n",
       "      <td>4.6</td>\n",
       "      <td>1900.00</td>\n",
       "      <td>2003</td>\n",
       "    </tr>\n",
       "    <tr>\n",
       "      <th>2</th>\n",
       "      <td>Clos du Mesnil</td>\n",
       "      <td>Krug Clos du Mesnil 1998</td>\n",
       "      <td>4.7</td>\n",
       "      <td>3522.50</td>\n",
       "      <td>1998</td>\n",
       "    </tr>\n",
       "    <tr>\n",
       "      <th>3</th>\n",
       "      <td>Le Mesnil Blanc de Blancs (Cuvée S) Brut Champ...</td>\n",
       "      <td>Salon Le Mesnil Blanc de Blancs (Cuvée S) Brut...</td>\n",
       "      <td>4.7</td>\n",
       "      <td>2882.50</td>\n",
       "      <td>1996</td>\n",
       "    </tr>\n",
       "    <tr>\n",
       "      <th>4</th>\n",
       "      <td>Amarone della Valpolicella Monte Lodoletta</td>\n",
       "      <td>Dal Forno Romano Amarone della Valpolicella Mo...</td>\n",
       "      <td>4.7</td>\n",
       "      <td>808.75</td>\n",
       "      <td>1995</td>\n",
       "    </tr>\n",
       "    <tr>\n",
       "      <th>...</th>\n",
       "      <td>...</td>\n",
       "      <td>...</td>\n",
       "      <td>...</td>\n",
       "      <td>...</td>\n",
       "      <td>...</td>\n",
       "    </tr>\n",
       "    <tr>\n",
       "      <th>1480</th>\n",
       "      <td>Chablis Grand Cru 'Valmur'</td>\n",
       "      <td>Raveneau Chablis Grand Cru 'Valmur' 2019</td>\n",
       "      <td>4.5</td>\n",
       "      <td>2943.75</td>\n",
       "      <td>2019</td>\n",
       "    </tr>\n",
       "    <tr>\n",
       "      <th>1481</th>\n",
       "      <td>Beyond the Clouds</td>\n",
       "      <td>Elena Walch Beyond the Clouds 2021</td>\n",
       "      <td>4.4</td>\n",
       "      <td>76.00</td>\n",
       "      <td>2021</td>\n",
       "    </tr>\n",
       "    <tr>\n",
       "      <th>1482</th>\n",
       "      <td>Vieilles Vignes Châteauneuf-du-Pape Blanc</td>\n",
       "      <td>Château de Beaucastel Vieilles Vignes Châteaun...</td>\n",
       "      <td>4.4</td>\n",
       "      <td>229.00</td>\n",
       "      <td>2021</td>\n",
       "    </tr>\n",
       "    <tr>\n",
       "      <th>1483</th>\n",
       "      <td>La Serra Barolo</td>\n",
       "      <td>Roberto Voerzio La Serra Barolo 2019</td>\n",
       "      <td>4.4</td>\n",
       "      <td>338.00</td>\n",
       "      <td>2019</td>\n",
       "    </tr>\n",
       "    <tr>\n",
       "      <th>1484</th>\n",
       "      <td>VT Vendemmia Tardiva</td>\n",
       "      <td>Capichera VT Vendemmia Tardiva 2021</td>\n",
       "      <td>4.4</td>\n",
       "      <td>74.00</td>\n",
       "      <td>2021</td>\n",
       "    </tr>\n",
       "  </tbody>\n",
       "</table>\n",
       "<p>1485 rows × 5 columns</p>\n",
       "</div>"
      ],
      "text/plain": [
       "                                           name_of_wine  \\\n",
       "0                        Brunello di Montalcino Riserva   \n",
       "1                   Pauillac (Premier Grand Cru Classé)   \n",
       "2                                        Clos du Mesnil   \n",
       "3     Le Mesnil Blanc de Blancs (Cuvée S) Brut Champ...   \n",
       "4            Amarone della Valpolicella Monte Lodoletta   \n",
       "...                                                 ...   \n",
       "1480                         Chablis Grand Cru 'Valmur'   \n",
       "1481                                  Beyond the Clouds   \n",
       "1482          Vieilles Vignes Châteauneuf-du-Pape Blanc   \n",
       "1483                                    La Serra Barolo   \n",
       "1484                               VT Vendemmia Tardiva   \n",
       "\n",
       "                                                   name  ratings_average  \\\n",
       "0      Biondi-Santi Brunello di Montalcino Riserva 1955              4.6   \n",
       "1     Château Lafite Rothschild Pauillac (Premier Gr...              4.6   \n",
       "2                              Krug Clos du Mesnil 1998              4.7   \n",
       "3     Salon Le Mesnil Blanc de Blancs (Cuvée S) Brut...              4.7   \n",
       "4     Dal Forno Romano Amarone della Valpolicella Mo...              4.7   \n",
       "...                                                 ...              ...   \n",
       "1480           Raveneau Chablis Grand Cru 'Valmur' 2019              4.5   \n",
       "1481                 Elena Walch Beyond the Clouds 2021              4.4   \n",
       "1482  Château de Beaucastel Vieilles Vignes Châteaun...              4.4   \n",
       "1483               Roberto Voerzio La Serra Barolo 2019              4.4   \n",
       "1484                Capichera VT Vendemmia Tardiva 2021              4.4   \n",
       "\n",
       "      price_euros  year  \n",
       "0         1970.05  1955  \n",
       "1         1900.00  2003  \n",
       "2         3522.50  1998  \n",
       "3         2882.50  1996  \n",
       "4          808.75  1995  \n",
       "...           ...   ...  \n",
       "1480      2943.75  2019  \n",
       "1481        76.00  2021  \n",
       "1482       229.00  2021  \n",
       "1483       338.00  2019  \n",
       "1484        74.00  2021  \n",
       "\n",
       "[1485 rows x 5 columns]"
      ]
     },
     "execution_count": 8,
     "metadata": {},
     "output_type": "execute_result"
    }
   ],
   "source": [
    "query_wines =\"\"\"SELECT wines.name AS name_of_wine, vintages.name, wines.ratings_average, vintages.price_euros, vintages.year FROM wines\n",
    "JOIN vintages ON vintages.wine_id = wines.id\n",
    "WHERE wines.ratings_count > 1000\n",
    "--WHERE wines.name = 'Cabernet Sauvignon'\n",
    "ORDER BY vintages.ratings_average DESC\n",
    ";\n",
    "\"\"\"\n",
    "\n",
    "wines_df = pd.read_sql_query(query_wines, conn)\n",
    "wines_df"
   ]
  },
  {
   "cell_type": "markdown",
   "metadata": {},
   "source": [
    "Let's plot the price distribution of Cabernet Sauvignon"
   ]
  },
  {
   "cell_type": "code",
   "execution_count": 9,
   "metadata": {},
   "outputs": [
    {
     "data": {
      "application/vnd.plotly.v1+json": {
       "config": {
        "plotlyServerURL": "https://plot.ly"
       },
       "data": [
        {
         "alignmentgroup": "True",
         "bingroup": "x",
         "histfunc": "sum",
         "hovertemplate": "year=%{x}<br>sum of price_euros=%{y}<extra></extra>",
         "legendgroup": "",
         "marker": {
          "color": "#636efa",
          "pattern": {
           "shape": ""
          }
         },
         "name": "",
         "offsetgroup": "",
         "orientation": "v",
         "showlegend": false,
         "type": "histogram",
         "x": [
          1955,
          2003,
          1998,
          1996,
          1995,
          1998,
          2000,
          2001,
          1990,
          1967,
          2011,
          2009,
          2003,
          2013,
          2013,
          2014,
          2006,
          2005,
          2001,
          2002,
          2015,
          2015,
          2015,
          2016,
          2016,
          2016,
          2016,
          2017,
          2017,
          2018,
          2018,
          2018,
          2000,
          2002,
          2002,
          2004,
          1998,
          1997,
          1999,
          1999,
          1997,
          1986,
          2004,
          2005,
          1990,
          1990,
          1998,
          2006,
          2003,
          2006,
          2001,
          2002,
          1997,
          2008,
          2009,
          2008,
          2007,
          2001,
          1998,
          1999,
          1997,
          2004,
          2008,
          2000,
          1997,
          1985,
          2006,
          2002,
          1999,
          1982,
          2009,
          2009,
          2009,
          2001,
          2005,
          2002,
          2010,
          2002,
          2005,
          2007,
          2012,
          1995,
          1987,
          2006,
          2009,
          1983,
          2010,
          2012,
          1996,
          1979,
          2003,
          1988,
          2001,
          1999,
          1989,
          2006,
          2005,
          2012,
          2007,
          2013,
          2007,
          2008,
          1998,
          2000,
          2000,
          2002,
          2006,
          1979,
          2009,
          2010,
          1959,
          2000,
          1962,
          2009,
          1999,
          2005,
          2010,
          2009,
          2005,
          2004,
          2012,
          2010,
          2013,
          2005,
          2010,
          2007,
          2013,
          2007,
          2010,
          1999,
          2008,
          1998,
          2003,
          1994,
          2004,
          1996,
          1997,
          2000,
          1989,
          1995,
          1992,
          1994,
          2007,
          2013,
          2015,
          2015,
          2015,
          2015,
          2015,
          2015,
          2015,
          2015,
          2015,
          2015,
          2015,
          2015,
          2003,
          2014,
          2015,
          2015,
          2012,
          1989,
          1955,
          1929,
          2016,
          2016,
          2016,
          2016,
          2016,
          2016,
          2016,
          2016,
          2016,
          2016,
          2016,
          2016,
          2016,
          2016,
          2016,
          2016,
          2016,
          2016,
          2016,
          2016,
          2016,
          2017,
          2017,
          2017,
          2017,
          2017,
          2017,
          2017,
          2017,
          2017,
          2017,
          2017,
          2016,
          2017,
          2018,
          2018,
          2018,
          2018,
          2018,
          2018,
          2018,
          2018,
          2018,
          2018,
          2018,
          2018,
          2018,
          2019,
          2019,
          2019,
          2019,
          2019,
          2004,
          2018,
          2020,
          2018,
          2005,
          2006,
          2004,
          2004,
          2004,
          2000,
          2003,
          2000,
          2005,
          1999,
          2003,
          1999,
          1997,
          2000,
          1997,
          2005,
          2002,
          2000,
          2004,
          2001,
          1993,
          1999,
          2004,
          2008,
          1995,
          2008,
          2009,
          2004,
          2009,
          2007,
          2010,
          2006,
          2007,
          1998,
          2001,
          2008,
          2011,
          2008,
          2008,
          1990,
          1998,
          1993,
          2008,
          2004,
          2002,
          2008,
          2011,
          2007,
          2007,
          2004,
          1998,
          1998,
          2004,
          1998,
          1978,
          2001,
          1999,
          2006,
          2009,
          2003,
          1997,
          2004,
          2011,
          1999,
          1976,
          2008,
          2000,
          2001,
          1999,
          2000,
          2006,
          1988,
          1989,
          1998,
          2012,
          2000,
          1996,
          1991,
          1990,
          1997,
          2000,
          "N.V.",
          1990,
          2004,
          2011,
          1990,
          2001,
          1982,
          2009,
          2009,
          2011,
          1995,
          2000,
          2011,
          2002,
          2004,
          2012,
          2009,
          2010,
          1996,
          1999,
          2009,
          2010,
          2003,
          1997,
          2012,
          1986,
          1995,
          2001,
          2013,
          1988,
          2007,
          2012,
          2010,
          2012,
          2000,
          2006,
          2005,
          1999,
          1995,
          2013,
          1965,
          2011,
          1985,
          1988,
          1997,
          1995,
          1989,
          2012,
          2010,
          2008,
          2010,
          2013,
          2010,
          2013,
          1992,
          1994,
          2008,
          2008,
          2007,
          1982,
          1968,
          2011,
          2008,
          2012,
          2006,
          2010,
          2009,
          2010,
          1985,
          1982,
          2012,
          2007,
          2013,
          2002,
          2005,
          2014,
          2014,
          2004,
          2014,
          2014,
          2008,
          2013,
          2014,
          2014,
          2014,
          2009,
          2013,
          2014,
          2009,
          1994,
          2012,
          2012,
          2006,
          2013,
          2011,
          2004,
          2014,
          2013,
          2014,
          2011,
          2013,
          2014,
          2010,
          2014,
          2012,
          2015,
          2015,
          2015,
          2015,
          2015,
          2015,
          2015,
          2015,
          2015,
          2015,
          2012,
          2015,
          2015,
          2015,
          2015,
          2015,
          2013,
          2015,
          2015,
          2015,
          2015,
          2014,
          2015,
          1988,
          2015,
          2016,
          2016,
          2016,
          2016,
          2016,
          2016,
          2016,
          2016,
          2016,
          2016,
          2016,
          2016,
          2016,
          2016,
          2016,
          2016,
          2016,
          2016,
          2016,
          2016,
          2016,
          2016,
          2016,
          2017,
          2017,
          2017,
          2017,
          2017,
          2017,
          2017,
          2017,
          2017,
          2017,
          2017,
          2017,
          2017,
          2017,
          2017,
          2017,
          2017,
          2017,
          2014,
          2017,
          2017,
          2015,
          2017,
          2017,
          2017,
          2018,
          2018,
          2018,
          2018,
          2018,
          2018,
          2018,
          2018,
          2018,
          2018,
          2018,
          2018,
          2018,
          2018,
          2018,
          2018,
          2018,
          2018,
          2018,
          2018,
          2018,
          2018,
          2018,
          2018,
          2018,
          2018,
          2018,
          2017,
          2019,
          2019,
          2019,
          2019,
          2019,
          2019,
          2019,
          2019,
          2019,
          2019,
          2019,
          2019,
          2019,
          2019,
          2019,
          2019,
          2019,
          2018,
          2018,
          2020,
          2020,
          2019,
          2019,
          "N.V.",
          2005,
          2001,
          2006,
          2007,
          2006,
          2004,
          2006,
          1992,
          2001,
          2005,
          1982,
          1988,
          1992,
          1977,
          2004,
          2004,
          2004,
          2003,
          1989,
          2006,
          2004,
          2006,
          2003,
          1995,
          2002,
          1999,
          1975,
          2005,
          2007,
          2008,
          2006,
          1999,
          1998,
          2005,
          2007,
          2011,
          2006,
          2008,
          2005,
          2008,
          2009,
          2007,
          2008,
          1998,
          2008,
          1989,
          2011,
          1997,
          2009,
          2004,
          2000,
          2011,
          2011,
          2006,
          1994,
          1995,
          1995,
          2009,
          2005,
          2004,
          2001,
          2002,
          1988,
          2009,
          1997,
          1997,
          1980,
          2005,
          2003,
          1998,
          2010,
          2009,
          2007,
          2007,
          2010,
          1993,
          2010,
          2009,
          2004,
          "N.V.",
          2010,
          1998,
          2010,
          2009,
          2010,
          2010,
          2009,
          2012,
          2011,
          2012,
          2011,
          2010,
          2004,
          1960,
          1999,
          2010,
          2009,
          2006,
          2013,
          1990,
          2001,
          2003,
          2010,
          1997,
          1988,
          2007,
          1999,
          2007,
          2013,
          2013,
          2012,
          2007,
          2009,
          2013,
          2013,
          2009,
          2012,
          1996,
          2005,
          2004,
          2011,
          2000,
          1998,
          2009,
          2010,
          2004,
          2010,
          2007,
          1988,
          2006,
          2013,
          2013,
          2013,
          1961,
          2010,
          2011,
          2010,
          2012,
          2007,
          2001,
          2008,
          1990,
          2004,
          2012,
          2011,
          2010,
          2013,
          2013,
          2013,
          2011,
          2011,
          2013,
          2000,
          2011,
          2010,
          2000,
          2006,
          2011,
          2013,
          2004,
          2013,
          2012,
          2009,
          2010,
          2011,
          2011,
          2013,
          2014,
          2014,
          2014,
          2011,
          2012,
          2013,
          2014,
          2013,
          2013,
          2014,
          2014,
          2004,
          2011,
          2012,
          2013,
          2012,
          2007,
          2014,
          1982,
          2013,
          2012,
          2014,
          2014,
          1990,
          2010,
          2012,
          2013,
          2014,
          2013,
          2014,
          2013,
          2014,
          2014,
          2015,
          2015,
          2015,
          2015,
          2015,
          2015,
          2015,
          2015,
          2015,
          2015,
          2015,
          2012,
          2015,
          2015,
          2015,
          2015,
          1987,
          2011,
          2015,
          2014,
          1982,
          2015,
          2015,
          2015,
          2015,
          2015,
          2015,
          2015,
          2015,
          2015,
          2015,
          2015,
          2013,
          2015,
          2015,
          2015,
          2015,
          2016,
          2016,
          2016,
          2016,
          2016,
          2016,
          2016,
          2016,
          2016,
          2016,
          2016,
          2016,
          2016,
          2016,
          2016,
          2016,
          2016,
          2015,
          2016,
          2016,
          2016,
          2016,
          2001,
          2016,
          2016,
          2016,
          2016,
          2016,
          2016,
          2016,
          2013,
          2016,
          2015,
          2016,
          2016,
          2016,
          2016,
          2016,
          2016,
          2016,
          2016,
          2016,
          2016,
          2017,
          2017,
          2017,
          2017,
          2017,
          2017,
          2017,
          2017,
          2017,
          2017,
          2017,
          2017,
          2017,
          2017,
          2017,
          2017,
          2017,
          2017,
          2017,
          2017,
          2017,
          2017,
          2017,
          2017,
          2017,
          2016,
          2017,
          2015,
          2016,
          2017,
          2017,
          2015,
          2017,
          2017,
          2017,
          2017,
          2017,
          2017,
          2017,
          2015,
          2016,
          2017,
          2017,
          2017,
          2017,
          2017,
          2017,
          2017,
          2017,
          2016,
          2017,
          2018,
          2018,
          2018,
          2018,
          2018,
          2018,
          2018,
          2018,
          2018,
          2018,
          2018,
          2018,
          2018,
          2018,
          2018,
          2018,
          2018,
          2018,
          2018,
          2018,
          2018,
          2018,
          2018,
          2018,
          2018,
          2018,
          2018,
          2018,
          2018,
          2018,
          2018,
          2017,
          2018,
          2018,
          2019,
          2019,
          2019,
          2019,
          2019,
          2019,
          2019,
          2019,
          2019,
          2019,
          2019,
          2019,
          2019,
          2019,
          2019,
          2019,
          2019,
          2019,
          2019,
          2019,
          2019,
          2019,
          2019,
          2019,
          2019,
          2019,
          2019,
          2019,
          2019,
          2019,
          2019,
          2020,
          2020,
          2020,
          2020,
          2020,
          2020,
          2020,
          2020,
          2020,
          2020,
          2020,
          "N.V.",
          "N.V.",
          2020,
          2019,
          2020,
          2021,
          2021,
          2021,
          2019,
          2005,
          2001,
          2005,
          2004,
          2006,
          2006,
          2001,
          2006,
          1994,
          2000,
          2005,
          2001,
          1995,
          2004,
          2004,
          1998,
          2003,
          2006,
          2005,
          2005,
          2006,
          2008,
          2006,
          2008,
          2005,
          2009,
          2007,
          2007,
          2009,
          2009,
          2000,
          2008,
          2008,
          2007,
          2006,
          2005,
          1999,
          2009,
          2007,
          2007,
          2007,
          2008,
          2009,
          2005,
          2005,
          2006,
          2004,
          2009,
          2007,
          2007,
          2009,
          2001,
          "N.V.",
          1991,
          2007,
          "N.V.",
          2006,
          "N.V.",
          1998,
          2010,
          1983,
          2010,
          2007,
          2005,
          2007,
          2009,
          2010,
          2007,
          "N.V.",
          2011,
          2009,
          2013,
          2011,
          2009,
          2010,
          2008,
          2001,
          2013,
          2012,
          2013,
          2011,
          2011,
          1988,
          2007,
          2011,
          2007,
          2000,
          2008,
          2010,
          1985,
          2009,
          2012,
          2013,
          2010,
          2011,
          2013,
          2013,
          2006,
          2003,
          2012,
          2013,
          2008,
          2009,
          2013,
          2011,
          2014,
          2013,
          2014,
          1974,
          2011,
          2012,
          2012,
          "N.V.",
          2013,
          2010,
          2014,
          2014,
          2014,
          2012,
          2014,
          "N.V.",
          2013,
          2012,
          2013,
          2011,
          2012,
          2013,
          1983,
          2012,
          2014,
          2014,
          2012,
          2012,
          2013,
          2007,
          2009,
          2014,
          2012,
          2014,
          2014,
          2014,
          2011,
          2012,
          2013,
          2012,
          2013,
          2014,
          2014,
          2014,
          2010,
          2013,
          2013,
          2015,
          2015,
          2015,
          2010,
          2015,
          2015,
          2015,
          2015,
          2015,
          2015,
          2015,
          2015,
          2014,
          2012,
          2015,
          2015,
          2015,
          2015,
          2015,
          2015,
          2015,
          2015,
          2015,
          2015,
          2015,
          2015,
          2015,
          2013,
          2016,
          2016,
          2016,
          2016,
          2016,
          2016,
          2016,
          2016,
          2016,
          2016,
          2016,
          2016,
          2016,
          2016,
          2016,
          2016,
          2015,
          2016,
          2016,
          2016,
          2016,
          2016,
          2016,
          2016,
          2016,
          2016,
          2016,
          2016,
          2012,
          2016,
          2016,
          2016,
          2009,
          2012,
          2016,
          2014,
          2016,
          2016,
          2017,
          2017,
          2017,
          2017,
          2017,
          2017,
          2017,
          2017,
          2017,
          2017,
          2017,
          2017,
          2017,
          2017,
          2017,
          2017,
          2017,
          2017,
          2017,
          2017,
          2017,
          2017,
          2017,
          2017,
          2017,
          2017,
          2017,
          2017,
          2017,
          2017,
          2017,
          2017,
          2017,
          2017,
          2017,
          2017,
          2017,
          2017,
          2017,
          2017,
          2018,
          2018,
          2018,
          2018,
          2018,
          2018,
          2018,
          2018,
          2018,
          2018,
          2018,
          2018,
          2018,
          2018,
          2018,
          2018,
          2018,
          2018,
          2018,
          2018,
          2018,
          2018,
          2018,
          2018,
          2018,
          2018,
          2018,
          2018,
          2018,
          2018,
          2018,
          2018,
          2018,
          2018,
          2018,
          2018,
          2018,
          2018,
          2018,
          2018,
          2018,
          2018,
          2016,
          2018,
          2018,
          2018,
          2018,
          2018,
          2018,
          2018,
          2018,
          2018,
          2012,
          2019,
          2019,
          2019,
          2019,
          2019,
          2019,
          2019,
          2019,
          2019,
          2019,
          2019,
          2019,
          2019,
          2019,
          2019,
          2019,
          2018,
          2019,
          2019,
          2019,
          2019,
          2019,
          2019,
          2019,
          2019,
          2019,
          2019,
          2019,
          2019,
          2019,
          2019,
          2019,
          2018,
          2018,
          2018,
          2019,
          2020,
          2020,
          2020,
          2020,
          2020,
          2020,
          2020,
          2020,
          2020,
          2019,
          2020,
          2020,
          2020,
          "N.V.",
          2020,
          2020,
          "N.V.",
          2020,
          2019,
          2020,
          2018,
          2019,
          2021,
          2021,
          2021,
          2021,
          2019,
          2001,
          2000,
          1995,
          2006,
          1993,
          1967,
          2001,
          2001,
          1981,
          1983,
          1988,
          1958,
          1970,
          2000,
          1976,
          1992,
          1984,
          2001,
          1934,
          1979,
          1960,
          1985,
          1986,
          1985,
          1974,
          1987,
          1976,
          1990,
          2002,
          1949,
          1961,
          1990,
          2005,
          1981,
          1989,
          1974,
          1960,
          2010,
          2014,
          1980,
          2001,
          1996,
          1985,
          1986,
          2000,
          1991,
          1992,
          1994,
          1958,
          1992,
          2002,
          2014,
          1989,
          1948,
          1997,
          2016,
          2014,
          2016,
          2016,
          2016,
          2016,
          2017,
          2017,
          2017,
          2017,
          2013,
          1964,
          2017,
          2018,
          2018,
          2018,
          2018,
          2018,
          2018,
          2018,
          2018,
          2018,
          2018,
          1970,
          2018,
          2018,
          2018,
          2018,
          2018,
          2018,
          2019,
          2019,
          2019,
          2019,
          2019,
          2019,
          2019,
          2019,
          2019,
          2019,
          2019,
          2019,
          2019,
          2018,
          2019,
          2019,
          2019,
          2019,
          2019,
          2019,
          2019,
          2019,
          2019,
          2019,
          2019,
          2019,
          2019,
          2019,
          2019,
          2019,
          2019,
          2019,
          2019,
          2020,
          2020,
          2020,
          2020,
          2020,
          2020,
          2020,
          2020,
          2020,
          2020,
          2020,
          2020,
          2020,
          2020,
          2020,
          2020,
          2020,
          2020,
          2020,
          2020,
          2020,
          2020,
          2020,
          2020,
          2020,
          2020,
          2020,
          2020,
          2019,
          2019,
          2020,
          2020,
          2020,
          2019,
          2019,
          2020,
          2021,
          2021,
          2021,
          2020,
          2020,
          2019,
          2021,
          2021,
          2019,
          2021
         ],
         "xaxis": "x",
         "y": [
          1970.05,
          1900,
          3522.5,
          2882.5,
          808.75,
          1921.25,
          3096.25,
          1152.5,
          6300,
          2455,
          913.05,
          555,
          1686.25,
          832.5,
          425,
          2028.75,
          4910,
          4697.5,
          5231.25,
          1686.25,
          1558.75,
          811.25,
          1601.25,
          745,
          705,
          379,
          1691.25,
          832.5,
          811.8,
          1625,
          437.5,
          1473.75,
          2753.75,
          896.25,
          3202.5,
          811.25,
          1686.25,
          747.5,
          1537.5,
          1900,
          1238.75,
          5977.5,
          1473.75,
          420,
          5017.5,
          2455,
          2747.5,
          3308.75,
          683.75,
          201.25,
          795,
          786.25,
          1473.75,
          2071.25,
          1067.5,
          697.5,
          668.75,
          1173.75,
          1173.75,
          1451.25,
          597.5,
          921.25,
          2967.5,
          731.25,
          2541.25,
          961.25,
          616.25,
          1046.25,
          728.75,
          9180,
          705,
          1601.25,
          597.5,
          1046.25,
          928.3,
          10960,
          1077.51,
          1800,
          425,
          533.75,
          1110,
          747.5,
          618.75,
          595,
          1164.36,
          811.25,
          747.5,
          410,
          1473.75,
          1173.75,
          597.5,
          1046.25,
          3395,
          10217.5,
          2241.25,
          8743.75,
          3181.25,
          961.25,
          3800,
          445,
          2967.5,
          683.75,
          566.25,
          2562.5,
          1975,
          3181.25,
          2113.75,
          4410,
          3096.25,
          1025,
          843.75,
          2028.75,
          1025,
          2753.75,
          1323.75,
          1200.79,
          3287.5,
          975,
          2327.5,
          3395,
          1433.8,
          1038.63,
          1900,
          1665,
          1046.25,
          683.75,
          487.5,
          2028.75,
          4697.5,
          1985,
          4163.75,
          2092.5,
          1815,
          640,
          4163.75,
          1921.25,
          2028.75,
          1900,
          2348.75,
          1900,
          2028.75,
          1900,
          397.5,
          414.75,
          1665,
          739,
          695,
          1477.42,
          6200,
          995,
          2028.75,
          702.5,
          1680,
          424.46,
          694,
          470,
          893.75,
          458,
          2028.75,
          470.75,
          491.25,
          512.5,
          198.4,
          239.6,
          1601.25,
          836.3,
          955.05,
          811.25,
          1750,
          265,
          645,
          202.2,
          1265,
          390,
          575,
          896.25,
          1042.1,
          597.5,
          811.25,
          961.25,
          189.95,
          940,
          697.5,
          605,
          1025,
          535,
          1095,
          950,
          905.55,
          535,
          592.5,
          443,
          683.75,
          726.25,
          299,
          1537.5,
          2050,
          70.5,
          527.6,
          592.5,
          795,
          1095,
          179.95,
          765.9,
          1570,
          453,
          412.5,
          357,
          453,
          225,
          250,
          490,
          309.48,
          455.2,
          260.19,
          425,
          465,
          1701.25,
          295,
          1061.8,
          661.25,
          1238.75,
          618.75,
          420,
          533.75,
          1408.75,
          208.75,
          353.75,
          491.25,
          1387.5,
          597.5,
          811.25,
          491.25,
          630,
          397.5,
          533.75,
          1387.5,
          491.25,
          618.75,
          795,
          8463.75,
          1387.5,
          533.75,
          1260,
          2028.75,
          618.75,
          423.5,
          1173.75,
          2028.75,
          597.5,
          576.25,
          2455,
          688.75,
          470,
          1025,
          178.75,
          753.4,
          470,
          1046.25,
          618.75,
          961.25,
          961.25,
          299.99,
          961.25,
          1046.25,
          1478.75,
          661.25,
          1110,
          1173.75,
          221.25,
          1046.25,
          425,
          1003.75,
          1046.25,
          376.25,
          7493.75,
          353.75,
          917.5,
          762,
          238.75,
          491.25,
          811.25,
          1025,
          340,
          1707.5,
          470,
          747.5,
          1238.75,
          1046.25,
          790,
          795,
          2668.75,
          832.5,
          695,
          493.8,
          1558.75,
          287.5,
          1339.7,
          411.4,
          895,
          638.83,
          349,
          1761.25,
          2967.5,
          235,
          619.75,
          533.75,
          470,
          1046.25,
          470,
          683.75,
          491.25,
          3266.25,
          491.25,
          360,
          460,
          455.17,
          482.5,
          832.5,
          360,
          825,
          644.95,
          533.75,
          201.25,
          390,
          533.75,
          1173.75,
          790,
          832.5,
          632.5,
          832.5,
          136.25,
          496.25,
          5800,
          842.98,
          597.5,
          295,
          212.5,
          1686.25,
          533.75,
          99.97,
          1040.6,
          249,
          1936.25,
          683.75,
          394,
          353.75,
          533.75,
          89,
          597.5,
          990,
          287,
          425,
          1590,
          768.75,
          448.75,
          752.5,
          683.75,
          715.15,
          353.75,
          1428.75,
          318.25,
          1601.25,
          4163.75,
          427.5,
          440,
          695,
          961.25,
          533.75,
          1110,
          961.25,
          397.5,
          331.25,
          1665,
          491.25,
          178.75,
          1750,
          220,
          533.75,
          462.5,
          1242.5,
          625,
          96.81,
          470,
          2668.75,
          293.7,
          865.65,
          521,
          1046.25,
          287.5,
          420,
          420,
          532.5,
          472.5,
          533.75,
          683.75,
          533.75,
          1815,
          346.75,
          1300,
          199,
          494.9,
          248.75,
          736.25,
          376.25,
          276.25,
          825,
          1237.5,
          353.75,
          533.75,
          485,
          495,
          491.25,
          896.25,
          289.83,
          290.5,
          373.8,
          737.5,
          470,
          349.91,
          462.5,
          99.95,
          494.9,
          99.95,
          448.75,
          289.83,
          2092.5,
          399,
          74.5,
          1387.5,
          149.5,
          349.91,
          420,
          995,
          618.75,
          453.58,
          92.95,
          425,
          409.5,
          212.75,
          480,
          512.5,
          700,
          375,
          225,
          224.53,
          431.25,
          142.95,
          138.67,
          1025,
          104.9,
          1025,
          811.25,
          215,
          448.8,
          310,
          225,
          1200,
          695,
          350,
          249.95,
          765,
          76.5,
          109.3,
          375,
          375,
          450,
          470,
          224.55,
          295,
          375,
          36.55,
          295,
          406.25,
          431.25,
          249,
          575,
          353.45,
          56.25,
          225,
          310,
          1900,
          199,
          832.5,
          227.25,
          1003.75,
          106.96,
          212.5,
          186.09,
          360,
          480,
          389.02,
          75,
          375,
          215,
          199.95,
          595,
          453,
          225.5,
          64.9,
          415,
          269.16,
          280,
          275,
          98.95,
          66.95,
          408.75,
          417.5,
          495,
          177.95,
          370,
          495,
          342,
          1188.05,
          1137.4,
          315,
          135,
          199.95,
          66.08,
          1473.75,
          726.25,
          375,
          597.5,
          91.95,
          109.8,
          735,
          295,
          229.95,
          105.95,
          1150,
          245,
          750,
          420,
          121.25,
          726.25,
          310,
          202.5,
          533.75,
          618.75,
          243.75,
          221.25,
          533.75,
          1025,
          1082.55,
          635.25,
          123.75,
          250,
          243.75,
          840,
          287.5,
          597.5,
          243.75,
          243.75,
          212.5,
          287.5,
          1686.25,
          243.75,
          147.82,
          747.5,
          310,
          470,
          917.5,
          630,
          820,
          260,
          65,
          1625,
          212.5,
          178.75,
          304.5,
          832.5,
          331.25,
          221.25,
          420,
          683.75,
          2676.75,
          1601.25,
          961.25,
          310,
          491.25,
          165,
          101,
          353.75,
          555,
          325,
          961.25,
          276.25,
          533.75,
          201.25,
          618.75,
          256.25,
          533.75,
          896.25,
          470,
          1430,
          150,
          2028.75,
          961.25,
          273.75,
          512.5,
          630,
          74,
          140.2,
          1495,
          62.95,
          310,
          448.75,
          420,
          239,
          212.5,
          183.7,
          397.5,
          470,
          832.5,
          618.75,
          1381.48,
          747.5,
          420,
          450,
          470,
          331.25,
          233.75,
          705,
          232.5,
          1173.75,
          420,
          230,
          297.5,
          397.5,
          122,
          618.75,
          491.6,
          211.25,
          618.75,
          832.5,
          790,
          243.75,
          1823.75,
          448.75,
          1025,
          346.75,
          600,
          221.25,
          545,
          1025,
          523.75,
          397.5,
          190,
          1323.75,
          331.25,
          353.75,
          310,
          331.25,
          353.75,
          597.5,
          397.5,
          121.25,
          1323.75,
          353.75,
          397.5,
          205,
          49.99,
          470,
          241.3,
          1137.5,
          178.75,
          265,
          243.8,
          212.5,
          201.25,
          335,
          470,
          1046.25,
          683.75,
          470,
          178.75,
          199,
          645,
          56,
          222.5,
          811.25,
          785.18,
          692.5,
          301.25,
          700,
          705,
          99.97,
          178.75,
          595,
          250,
          961.25,
          494.9,
          293.75,
          705,
          198.95,
          227.02,
          216.25,
          799,
          576.25,
          241.4,
          151.68,
          720,
          683.75,
          491.25,
          747.5,
          57.9,
          72.48,
          130,
          474,
          470,
          618.75,
          190,
          192.5,
          182.5,
          683.75,
          431.25,
          287.5,
          74.45,
          420,
          81.55,
          462,
          832.5,
          106.3,
          380.69,
          203.8,
          462,
          99.95,
          94.95,
          420,
          618.75,
          353.75,
          470,
          310,
          225,
          155.86,
          175,
          275,
          286,
          397.5,
          182.5,
          104.59,
          331.25,
          182.5,
          470,
          80.5,
          206.25,
          217.5,
          2562.5,
          190,
          585,
          448.75,
          619.75,
          114.5,
          155,
          353.75,
          265,
          310,
          811.25,
          52.95,
          80,
          190,
          57.95,
          249.5,
          270.64,
          2518.75,
          427.5,
          145,
          45.5,
          168.75,
          82.95,
          545,
          79.95,
          365,
          239.4,
          305,
          512.5,
          420,
          130.75,
          545,
          134.95,
          75,
          38.09,
          120,
          114.95,
          219.95,
          182.5,
          61.29,
          555,
          331.25,
          109.95,
          533.75,
          92.5,
          67.95,
          53.44,
          119.95,
          231.95,
          109.95,
          212.5,
          331.25,
          75,
          961.25,
          726.25,
          1260,
          397.5,
          683.75,
          121.9,
          832.5,
          353.75,
          77,
          249,
          195.95,
          63.95,
          875,
          88.75,
          259.88,
          62.9,
          137.5,
          470,
          361.86,
          961.25,
          389,
          199.95,
          325,
          533.75,
          163.8,
          198.8,
          138.28,
          265,
          321.25,
          78.17,
          825.8,
          135.95,
          135,
          249,
          259,
          159.5,
          1173.75,
          149.95,
          321.25,
          180.5,
          120.02,
          100.15,
          304.95,
          130.35,
          555,
          122.5,
          127.8,
          160,
          121,
          576.25,
          144.95,
          243.75,
          48,
          126.5,
          195,
          381.5,
          105,
          107.5,
          78,
          132.98,
          243.75,
          89.95,
          93.7,
          495,
          435.14,
          124.68,
          36.1,
          94.95,
          273.05,
          813.31,
          79.95,
          334.7,
          69.95,
          145.95,
          618.75,
          243.75,
          68.75,
          397.5,
          243.75,
          512.5,
          661,
          90,
          961.25,
          39.95,
          175.95,
          681.5,
          89.19,
          154,
          134.89,
          121.95,
          412.5,
          961.25,
          150.9,
          220.6,
          747.5,
          135.98,
          195,
          229.95,
          125.95,
          81.64,
          95.95,
          254.29,
          1363.05,
          125,
          293.63,
          84,
          226.28,
          182.5,
          84,
          242.25,
          130,
          60.2,
          216,
          58.95,
          23.95,
          78.94,
          134.95,
          64.7,
          97.5,
          250.45,
          195,
          99.95,
          470,
          76.15,
          105,
          94.95,
          1173.75,
          199,
          450.8,
          89.95,
          54.95,
          89.95,
          160,
          42.95,
          212.5,
          69.95,
          198.8,
          176.5,
          180,
          34.2,
          235,
          42.45,
          31.95,
          189.95,
          18.75,
          27.3,
          335,
          168.75,
          248.25,
          262.5,
          367.5,
          731.25,
          130,
          148.75,
          256.25,
          618.75,
          212.5,
          493.75,
          85,
          512.5,
          142.5,
          307.5,
          360,
          148.75,
          150.05,
          1878.75,
          205,
          168.75,
          265,
          208.75,
          271.25,
          291.25,
          310,
          406.25,
          420,
          686.4,
          896.25,
          243.75,
          212.5,
          201.25,
          168.75,
          150,
          232.5,
          555,
          155,
          148.75,
          305.1,
          413.75,
          353.75,
          140,
          211.3,
          216.25,
          168.75,
          201.25,
          420,
          112.5,
          202.5,
          92.95,
          397.5,
          72,
          618.75,
          353.75,
          49.61,
          618.75,
          92.95,
          533.75,
          202.5,
          385.5,
          331.25,
          265,
          246.25,
          206.25,
          483.75,
          729.3,
          298.75,
          121,
          118.5,
          200,
          190,
          201.25,
          310,
          220,
          331.25,
          420,
          247.5,
          156.95,
          136.3,
          181.25,
          170,
          470,
          49.9,
          318.75,
          221.25,
          287.5,
          196.25,
          75.71,
          420,
          221.25,
          221.25,
          135,
          420,
          155,
          82.5,
          123.75,
          243.75,
          205,
          103.75,
          169.75,
          100,
          246.25,
          96.3,
          520,
          69.94,
          94.95,
          119,
          618.75,
          250,
          555,
          123.75,
          149.95,
          141.06,
          353.75,
          265,
          166.11,
          470,
          242.5,
          103.54,
          329,
          97.55,
          111.25,
          474,
          100.15,
          555,
          683.75,
          420,
          118.3,
          113,
          48,
          90,
          58,
          142.5,
          260,
          550,
          238,
          162.5,
          149.95,
          152,
          73.71,
          640,
          470,
          150,
          168.75,
          618.75,
          961.25,
          49.99,
          139.8,
          83.95,
          342.5,
          257.5,
          108.8,
          40.98,
          178.17,
          353.75,
          121.85,
          215,
          57.95,
          244.59,
          148.8,
          470,
          179.95,
          82.5,
          233.75,
          325,
          51.95,
          185,
          114.6,
          265,
          74.95,
          106.25,
          76,
          101.25,
          61.3,
          420,
          43.72,
          55.95,
          87.5,
          115,
          201.25,
          276.25,
          129.5,
          265,
          271.25,
          107.28,
          146.25,
          331.25,
          104.69,
          79.95,
          158.43,
          132.5,
          69.95,
          150,
          69.5,
          92.5,
          99.8,
          201.25,
          120.07,
          90,
          178.75,
          180,
          44.69,
          661.25,
          265,
          142.5,
          65,
          217.5,
          162.15,
          101.2,
          59.75,
          102.12,
          82.5,
          555,
          52.5,
          212.5,
          38.95,
          26.9,
          57.99,
          51.9,
          73.01,
          99.95,
          124.59,
          209.95,
          179.95,
          39.3,
          118.8,
          169.95,
          49.95,
          152.5,
          66.19,
          54.75,
          90,
          166.25,
          98.5,
          84.8,
          56.1,
          168.75,
          106.25,
          59.95,
          78,
          123.95,
          68,
          155,
          64.9,
          212.5,
          139,
          106,
          46.77,
          91.3,
          72.85,
          51.15,
          54.49,
          95,
          39.75,
          168.75,
          135,
          108.75,
          59.95,
          104.95,
          119,
          24.75,
          134.95,
          114.95,
          121.95,
          80.5,
          149,
          39.95,
          67.16,
          46.25,
          29.95,
          55.5,
          124.22,
          49.8,
          68.95,
          93.53,
          68.8,
          49.95,
          201.25,
          39.55,
          99.95,
          68,
          1025,
          85.95,
          55.5,
          182.5,
          222.99,
          69.94,
          95,
          120,
          233.05,
          61.95,
          94.5,
          159,
          104.95,
          55,
          72.5,
          111.25,
          90,
          56,
          74.95,
          146.25,
          64.99,
          125.95,
          55.6,
          102.95,
          77.65,
          178.75,
          96.25,
          81.25,
          46.95,
          25.99,
          119.5,
          206.25,
          97.95,
          124.68,
          27.75,
          138.95,
          243.75,
          78.95,
          190,
          30,
          157.95,
          88.38,
          105.85,
          31.45,
          157.5,
          61.3,
          37.5,
          161.3,
          100.5,
          276.79,
          43.95,
          64.35,
          59.9,
          79.95,
          20.95,
          39.95,
          56.9,
          79.95,
          221.25,
          92.5,
          27.4,
          40.95,
          122.8,
          179.5,
          54.4,
          109.95,
          55.95,
          35.95,
          118.75,
          27.98,
          106.25,
          79.95,
          23.9,
          92.25,
          32.5,
          44.65,
          94,
          32.1,
          99.95,
          117.77,
          172.95,
          81.5,
          25.95,
          89.95,
          32.95,
          34.85,
          49.9,
          68.5,
          88,
          47.85,
          49.75,
          29.95,
          276.25,
          276.25,
          921.25,
          221.25,
          178.75,
          961.25,
          58.75,
          201.25,
          705,
          917.5,
          1110,
          747.5,
          1270,
          58.75,
          4910,
          543.4,
          331.25,
          291.25,
          479.85,
          1281.25,
          265,
          618.75,
          82.5,
          1025,
          1623.75,
          82.5,
          1495,
          597.5,
          178.75,
          2635.55,
          1046.25,
          420,
          353.28,
          705,
          1110,
          2028.75,
          599.2,
          497.15,
          74.98,
          265,
          331.25,
          178.75,
          310,
          747.5,
          310,
          470,
          212.5,
          293.75,
          1046.25,
          420,
          221.25,
          150,
          491.25,
          1056.25,
          713.75,
          117.9,
          1601.25,
          189.9,
          113.98,
          234,
          1601.25,
          224.53,
          92.5,
          259.88,
          2000,
          337.5,
          429.76,
          86.3,
          324.45,
          142.5,
          331.25,
          1387.5,
          683.75,
          409.5,
          112,
          101.25,
          223.1,
          298,
          298.58,
          55,
          452.6,
          1152.5,
          923.99,
          234.25,
          232.5,
          750.8,
          1323.75,
          6300,
          1687.5,
          895,
          295,
          94.95,
          379,
          618.75,
          2113.75,
          2967.5,
          232.82,
          902.42,
          1451.25,
          84.95,
          134.95,
          187.86,
          231.95,
          745,
          440,
          544.78,
          3181.25,
          245.5,
          260.44,
          1046.25,
          215,
          1558.75,
          420,
          2028.75,
          95,
          1387.5,
          1173.75,
          36.3,
          295,
          722.66,
          320,
          425,
          318.73,
          363.11,
          137.95,
          1628.5,
          225,
          435.4,
          295,
          89.3,
          134.62,
          525,
          280.1,
          3416.25,
          445,
          6834.1,
          60,
          186.17,
          220.9,
          107.41,
          221.53,
          1495,
          71.95,
          129.95,
          50.19,
          1387.5,
          84.5,
          397.5,
          533.75,
          104.95,
          29.29,
          184.95,
          618.75,
          159.95,
          39.95,
          265,
          27.95,
          450,
          925.77,
          2943.75,
          76,
          229,
          338,
          74
         ],
         "yaxis": "y"
        }
       ],
       "layout": {
        "barmode": "relative",
        "legend": {
         "tracegroupgap": 0
        },
        "margin": {
         "t": 60
        },
        "template": {
         "data": {
          "bar": [
           {
            "error_x": {
             "color": "#2a3f5f"
            },
            "error_y": {
             "color": "#2a3f5f"
            },
            "marker": {
             "line": {
              "color": "#E5ECF6",
              "width": 0.5
             },
             "pattern": {
              "fillmode": "overlay",
              "size": 10,
              "solidity": 0.2
             }
            },
            "type": "bar"
           }
          ],
          "barpolar": [
           {
            "marker": {
             "line": {
              "color": "#E5ECF6",
              "width": 0.5
             },
             "pattern": {
              "fillmode": "overlay",
              "size": 10,
              "solidity": 0.2
             }
            },
            "type": "barpolar"
           }
          ],
          "carpet": [
           {
            "aaxis": {
             "endlinecolor": "#2a3f5f",
             "gridcolor": "white",
             "linecolor": "white",
             "minorgridcolor": "white",
             "startlinecolor": "#2a3f5f"
            },
            "baxis": {
             "endlinecolor": "#2a3f5f",
             "gridcolor": "white",
             "linecolor": "white",
             "minorgridcolor": "white",
             "startlinecolor": "#2a3f5f"
            },
            "type": "carpet"
           }
          ],
          "choropleth": [
           {
            "colorbar": {
             "outlinewidth": 0,
             "ticks": ""
            },
            "type": "choropleth"
           }
          ],
          "contour": [
           {
            "colorbar": {
             "outlinewidth": 0,
             "ticks": ""
            },
            "colorscale": [
             [
              0,
              "#0d0887"
             ],
             [
              0.1111111111111111,
              "#46039f"
             ],
             [
              0.2222222222222222,
              "#7201a8"
             ],
             [
              0.3333333333333333,
              "#9c179e"
             ],
             [
              0.4444444444444444,
              "#bd3786"
             ],
             [
              0.5555555555555556,
              "#d8576b"
             ],
             [
              0.6666666666666666,
              "#ed7953"
             ],
             [
              0.7777777777777778,
              "#fb9f3a"
             ],
             [
              0.8888888888888888,
              "#fdca26"
             ],
             [
              1,
              "#f0f921"
             ]
            ],
            "type": "contour"
           }
          ],
          "contourcarpet": [
           {
            "colorbar": {
             "outlinewidth": 0,
             "ticks": ""
            },
            "type": "contourcarpet"
           }
          ],
          "heatmap": [
           {
            "colorbar": {
             "outlinewidth": 0,
             "ticks": ""
            },
            "colorscale": [
             [
              0,
              "#0d0887"
             ],
             [
              0.1111111111111111,
              "#46039f"
             ],
             [
              0.2222222222222222,
              "#7201a8"
             ],
             [
              0.3333333333333333,
              "#9c179e"
             ],
             [
              0.4444444444444444,
              "#bd3786"
             ],
             [
              0.5555555555555556,
              "#d8576b"
             ],
             [
              0.6666666666666666,
              "#ed7953"
             ],
             [
              0.7777777777777778,
              "#fb9f3a"
             ],
             [
              0.8888888888888888,
              "#fdca26"
             ],
             [
              1,
              "#f0f921"
             ]
            ],
            "type": "heatmap"
           }
          ],
          "heatmapgl": [
           {
            "colorbar": {
             "outlinewidth": 0,
             "ticks": ""
            },
            "colorscale": [
             [
              0,
              "#0d0887"
             ],
             [
              0.1111111111111111,
              "#46039f"
             ],
             [
              0.2222222222222222,
              "#7201a8"
             ],
             [
              0.3333333333333333,
              "#9c179e"
             ],
             [
              0.4444444444444444,
              "#bd3786"
             ],
             [
              0.5555555555555556,
              "#d8576b"
             ],
             [
              0.6666666666666666,
              "#ed7953"
             ],
             [
              0.7777777777777778,
              "#fb9f3a"
             ],
             [
              0.8888888888888888,
              "#fdca26"
             ],
             [
              1,
              "#f0f921"
             ]
            ],
            "type": "heatmapgl"
           }
          ],
          "histogram": [
           {
            "marker": {
             "pattern": {
              "fillmode": "overlay",
              "size": 10,
              "solidity": 0.2
             }
            },
            "type": "histogram"
           }
          ],
          "histogram2d": [
           {
            "colorbar": {
             "outlinewidth": 0,
             "ticks": ""
            },
            "colorscale": [
             [
              0,
              "#0d0887"
             ],
             [
              0.1111111111111111,
              "#46039f"
             ],
             [
              0.2222222222222222,
              "#7201a8"
             ],
             [
              0.3333333333333333,
              "#9c179e"
             ],
             [
              0.4444444444444444,
              "#bd3786"
             ],
             [
              0.5555555555555556,
              "#d8576b"
             ],
             [
              0.6666666666666666,
              "#ed7953"
             ],
             [
              0.7777777777777778,
              "#fb9f3a"
             ],
             [
              0.8888888888888888,
              "#fdca26"
             ],
             [
              1,
              "#f0f921"
             ]
            ],
            "type": "histogram2d"
           }
          ],
          "histogram2dcontour": [
           {
            "colorbar": {
             "outlinewidth": 0,
             "ticks": ""
            },
            "colorscale": [
             [
              0,
              "#0d0887"
             ],
             [
              0.1111111111111111,
              "#46039f"
             ],
             [
              0.2222222222222222,
              "#7201a8"
             ],
             [
              0.3333333333333333,
              "#9c179e"
             ],
             [
              0.4444444444444444,
              "#bd3786"
             ],
             [
              0.5555555555555556,
              "#d8576b"
             ],
             [
              0.6666666666666666,
              "#ed7953"
             ],
             [
              0.7777777777777778,
              "#fb9f3a"
             ],
             [
              0.8888888888888888,
              "#fdca26"
             ],
             [
              1,
              "#f0f921"
             ]
            ],
            "type": "histogram2dcontour"
           }
          ],
          "mesh3d": [
           {
            "colorbar": {
             "outlinewidth": 0,
             "ticks": ""
            },
            "type": "mesh3d"
           }
          ],
          "parcoords": [
           {
            "line": {
             "colorbar": {
              "outlinewidth": 0,
              "ticks": ""
             }
            },
            "type": "parcoords"
           }
          ],
          "pie": [
           {
            "automargin": true,
            "type": "pie"
           }
          ],
          "scatter": [
           {
            "fillpattern": {
             "fillmode": "overlay",
             "size": 10,
             "solidity": 0.2
            },
            "type": "scatter"
           }
          ],
          "scatter3d": [
           {
            "line": {
             "colorbar": {
              "outlinewidth": 0,
              "ticks": ""
             }
            },
            "marker": {
             "colorbar": {
              "outlinewidth": 0,
              "ticks": ""
             }
            },
            "type": "scatter3d"
           }
          ],
          "scattercarpet": [
           {
            "marker": {
             "colorbar": {
              "outlinewidth": 0,
              "ticks": ""
             }
            },
            "type": "scattercarpet"
           }
          ],
          "scattergeo": [
           {
            "marker": {
             "colorbar": {
              "outlinewidth": 0,
              "ticks": ""
             }
            },
            "type": "scattergeo"
           }
          ],
          "scattergl": [
           {
            "marker": {
             "colorbar": {
              "outlinewidth": 0,
              "ticks": ""
             }
            },
            "type": "scattergl"
           }
          ],
          "scattermapbox": [
           {
            "marker": {
             "colorbar": {
              "outlinewidth": 0,
              "ticks": ""
             }
            },
            "type": "scattermapbox"
           }
          ],
          "scatterpolar": [
           {
            "marker": {
             "colorbar": {
              "outlinewidth": 0,
              "ticks": ""
             }
            },
            "type": "scatterpolar"
           }
          ],
          "scatterpolargl": [
           {
            "marker": {
             "colorbar": {
              "outlinewidth": 0,
              "ticks": ""
             }
            },
            "type": "scatterpolargl"
           }
          ],
          "scatterternary": [
           {
            "marker": {
             "colorbar": {
              "outlinewidth": 0,
              "ticks": ""
             }
            },
            "type": "scatterternary"
           }
          ],
          "surface": [
           {
            "colorbar": {
             "outlinewidth": 0,
             "ticks": ""
            },
            "colorscale": [
             [
              0,
              "#0d0887"
             ],
             [
              0.1111111111111111,
              "#46039f"
             ],
             [
              0.2222222222222222,
              "#7201a8"
             ],
             [
              0.3333333333333333,
              "#9c179e"
             ],
             [
              0.4444444444444444,
              "#bd3786"
             ],
             [
              0.5555555555555556,
              "#d8576b"
             ],
             [
              0.6666666666666666,
              "#ed7953"
             ],
             [
              0.7777777777777778,
              "#fb9f3a"
             ],
             [
              0.8888888888888888,
              "#fdca26"
             ],
             [
              1,
              "#f0f921"
             ]
            ],
            "type": "surface"
           }
          ],
          "table": [
           {
            "cells": {
             "fill": {
              "color": "#EBF0F8"
             },
             "line": {
              "color": "white"
             }
            },
            "header": {
             "fill": {
              "color": "#C8D4E3"
             },
             "line": {
              "color": "white"
             }
            },
            "type": "table"
           }
          ]
         },
         "layout": {
          "annotationdefaults": {
           "arrowcolor": "#2a3f5f",
           "arrowhead": 0,
           "arrowwidth": 1
          },
          "autotypenumbers": "strict",
          "coloraxis": {
           "colorbar": {
            "outlinewidth": 0,
            "ticks": ""
           }
          },
          "colorscale": {
           "diverging": [
            [
             0,
             "#8e0152"
            ],
            [
             0.1,
             "#c51b7d"
            ],
            [
             0.2,
             "#de77ae"
            ],
            [
             0.3,
             "#f1b6da"
            ],
            [
             0.4,
             "#fde0ef"
            ],
            [
             0.5,
             "#f7f7f7"
            ],
            [
             0.6,
             "#e6f5d0"
            ],
            [
             0.7,
             "#b8e186"
            ],
            [
             0.8,
             "#7fbc41"
            ],
            [
             0.9,
             "#4d9221"
            ],
            [
             1,
             "#276419"
            ]
           ],
           "sequential": [
            [
             0,
             "#0d0887"
            ],
            [
             0.1111111111111111,
             "#46039f"
            ],
            [
             0.2222222222222222,
             "#7201a8"
            ],
            [
             0.3333333333333333,
             "#9c179e"
            ],
            [
             0.4444444444444444,
             "#bd3786"
            ],
            [
             0.5555555555555556,
             "#d8576b"
            ],
            [
             0.6666666666666666,
             "#ed7953"
            ],
            [
             0.7777777777777778,
             "#fb9f3a"
            ],
            [
             0.8888888888888888,
             "#fdca26"
            ],
            [
             1,
             "#f0f921"
            ]
           ],
           "sequentialminus": [
            [
             0,
             "#0d0887"
            ],
            [
             0.1111111111111111,
             "#46039f"
            ],
            [
             0.2222222222222222,
             "#7201a8"
            ],
            [
             0.3333333333333333,
             "#9c179e"
            ],
            [
             0.4444444444444444,
             "#bd3786"
            ],
            [
             0.5555555555555556,
             "#d8576b"
            ],
            [
             0.6666666666666666,
             "#ed7953"
            ],
            [
             0.7777777777777778,
             "#fb9f3a"
            ],
            [
             0.8888888888888888,
             "#fdca26"
            ],
            [
             1,
             "#f0f921"
            ]
           ]
          },
          "colorway": [
           "#636efa",
           "#EF553B",
           "#00cc96",
           "#ab63fa",
           "#FFA15A",
           "#19d3f3",
           "#FF6692",
           "#B6E880",
           "#FF97FF",
           "#FECB52"
          ],
          "font": {
           "color": "#2a3f5f"
          },
          "geo": {
           "bgcolor": "white",
           "lakecolor": "white",
           "landcolor": "#E5ECF6",
           "showlakes": true,
           "showland": true,
           "subunitcolor": "white"
          },
          "hoverlabel": {
           "align": "left"
          },
          "hovermode": "closest",
          "mapbox": {
           "style": "light"
          },
          "paper_bgcolor": "white",
          "plot_bgcolor": "#E5ECF6",
          "polar": {
           "angularaxis": {
            "gridcolor": "white",
            "linecolor": "white",
            "ticks": ""
           },
           "bgcolor": "#E5ECF6",
           "radialaxis": {
            "gridcolor": "white",
            "linecolor": "white",
            "ticks": ""
           }
          },
          "scene": {
           "xaxis": {
            "backgroundcolor": "#E5ECF6",
            "gridcolor": "white",
            "gridwidth": 2,
            "linecolor": "white",
            "showbackground": true,
            "ticks": "",
            "zerolinecolor": "white"
           },
           "yaxis": {
            "backgroundcolor": "#E5ECF6",
            "gridcolor": "white",
            "gridwidth": 2,
            "linecolor": "white",
            "showbackground": true,
            "ticks": "",
            "zerolinecolor": "white"
           },
           "zaxis": {
            "backgroundcolor": "#E5ECF6",
            "gridcolor": "white",
            "gridwidth": 2,
            "linecolor": "white",
            "showbackground": true,
            "ticks": "",
            "zerolinecolor": "white"
           }
          },
          "shapedefaults": {
           "line": {
            "color": "#2a3f5f"
           }
          },
          "ternary": {
           "aaxis": {
            "gridcolor": "white",
            "linecolor": "white",
            "ticks": ""
           },
           "baxis": {
            "gridcolor": "white",
            "linecolor": "white",
            "ticks": ""
           },
           "bgcolor": "#E5ECF6",
           "caxis": {
            "gridcolor": "white",
            "linecolor": "white",
            "ticks": ""
           }
          },
          "title": {
           "x": 0.05
          },
          "xaxis": {
           "automargin": true,
           "gridcolor": "white",
           "linecolor": "white",
           "ticks": "",
           "title": {
            "standoff": 15
           },
           "zerolinecolor": "white",
           "zerolinewidth": 2
          },
          "yaxis": {
           "automargin": true,
           "gridcolor": "white",
           "linecolor": "white",
           "ticks": "",
           "title": {
            "standoff": 15
           },
           "zerolinecolor": "white",
           "zerolinewidth": 2
          }
         }
        },
        "xaxis": {
         "anchor": "y",
         "domain": [
          0,
          1
         ],
         "title": {
          "text": "year"
         }
        },
        "yaxis": {
         "anchor": "x",
         "domain": [
          0,
          1
         ],
         "title": {
          "text": "sum of price_euros"
         }
        }
       }
      }
     },
     "metadata": {},
     "output_type": "display_data"
    }
   ],
   "source": [
    "import plotly.express as px\n",
    "\n",
    "fig = px.histogram(wines_df, x = \"year\", y = \"price_euros\")\n",
    "fig.show()"
   ]
  },
  {
   "cell_type": "code",
   "execution_count": 10,
   "metadata": {},
   "outputs": [
    {
     "data": {
      "application/vnd.plotly.v1+json": {
       "config": {
        "plotlyServerURL": "https://plot.ly"
       },
       "data": [
        {
         "alignmentgroup": "True",
         "bingroup": "x",
         "histfunc": "sum",
         "hovertemplate": "ratings_average=%{x}<br>sum of price_euros=%{y}<extra></extra>",
         "legendgroup": "",
         "marker": {
          "color": "#636efa",
          "pattern": {
           "shape": ""
          }
         },
         "name": "",
         "offsetgroup": "",
         "orientation": "v",
         "showlegend": false,
         "type": "histogram",
         "x": [
          4.6,
          4.6,
          4.7,
          4.7,
          4.7,
          4.7,
          4.7,
          4.6,
          4.7,
          4.7,
          4.7,
          4.7,
          4.6,
          4.5,
          4.7,
          4.6,
          4.7,
          4.7,
          4.7,
          4.7,
          4.8,
          4.7,
          4.6,
          4.7,
          4.5,
          4.7,
          4.6,
          4.7,
          4.6,
          4.6,
          4.6,
          4.5,
          4.6,
          4.6,
          4.6,
          4.6,
          4.6,
          4.6,
          4.6,
          4.6,
          4.6,
          4.6,
          4.6,
          4.5,
          4.7,
          4.7,
          4.7,
          4.7,
          4.7,
          4.5,
          4.7,
          4.7,
          4.6,
          4.6,
          4.6,
          4.7,
          4.6,
          4.6,
          4.6,
          4.6,
          4.5,
          4.6,
          4.7,
          4.7,
          4.7,
          4.6,
          4.7,
          4.6,
          4.7,
          4.7,
          4.6,
          4.6,
          4.4,
          4.5,
          4.7,
          4.7,
          4.6,
          4.6,
          4.6,
          4.6,
          4.6,
          4.6,
          4.6,
          4.7,
          4.6,
          4.7,
          4.7,
          4.7,
          4.6,
          4.6,
          4.6,
          4.6,
          4.7,
          4.7,
          4.7,
          4.7,
          4.7,
          4.6,
          4.7,
          4.7,
          4.7,
          4.6,
          4.6,
          4.6,
          4.7,
          4.7,
          4.7,
          4.7,
          4.7,
          4.5,
          4.4,
          4.6,
          4.7,
          4.6,
          4.6,
          4.6,
          4.7,
          4.6,
          4.6,
          4.6,
          4.6,
          4.6,
          4.5,
          4.6,
          4.5,
          4.7,
          4.7,
          4.7,
          4.7,
          4.7,
          4.7,
          4.7,
          4.7,
          4.6,
          4.7,
          4.7,
          4.7,
          4.7,
          4.7,
          4.7,
          4.7,
          4.7,
          4.7,
          4.7,
          4.6,
          4.7,
          4.6,
          4.6,
          4.7,
          4.6,
          4.6,
          4.6,
          4.6,
          4.5,
          4.6,
          4.7,
          4.7,
          4.7,
          4.7,
          4.7,
          4.7,
          4.5,
          4.7,
          4.7,
          4.6,
          4.6,
          4.6,
          4.7,
          4.6,
          4.6,
          4.6,
          4.6,
          4.7,
          4.5,
          4.5,
          4.6,
          4.6,
          4.4,
          4.5,
          4.6,
          4.4,
          4.6,
          4.6,
          4.4,
          4.4,
          4.6,
          4.7,
          4.6,
          4.6,
          4.6,
          4.6,
          4.7,
          4.5,
          4.6,
          4.6,
          4.6,
          4.6,
          4.6,
          4.6,
          4.6,
          4.6,
          4.7,
          4.6,
          4.5,
          4.6,
          4.6,
          4.6,
          4.6,
          4.6,
          4.4,
          4.6,
          4.7,
          4.6,
          4.6,
          4.6,
          4.6,
          4.7,
          4.6,
          4.6,
          4.7,
          4.6,
          4.6,
          4.6,
          4.5,
          4.5,
          4.6,
          4.4,
          4.5,
          4.5,
          4.6,
          4.6,
          4.6,
          4.5,
          4.6,
          4.7,
          4.6,
          4.6,
          4.5,
          4.5,
          4.6,
          4.7,
          4.6,
          4.7,
          4.6,
          4.7,
          4.6,
          4.4,
          4.6,
          4.5,
          4.6,
          4.5,
          4.6,
          4.5,
          4.5,
          4.6,
          4.5,
          4.6,
          4.6,
          4.6,
          4.4,
          4.6,
          4.6,
          4.6,
          4.6,
          4.6,
          4.6,
          4.6,
          4.5,
          4.6,
          4.5,
          4.6,
          4.6,
          4.6,
          4.6,
          4.5,
          4.7,
          4.6,
          4.6,
          4.3,
          4.5,
          4.7,
          4.5,
          4.6,
          4.6,
          4.6,
          4.5,
          4.4,
          4.6,
          4.6,
          4.4,
          4.6,
          4.6,
          4.6,
          4.6,
          4.6,
          4.6,
          4.4,
          4.6,
          4.5,
          4.6,
          4.6,
          4.6,
          4.7,
          4.7,
          4.5,
          4.4,
          4.6,
          4.3,
          4.5,
          4.6,
          4.5,
          4.6,
          4.7,
          4.6,
          4.6,
          4.6,
          4.6,
          4.6,
          4.5,
          4.6,
          4.6,
          4.7,
          4.4,
          4.5,
          4.6,
          4.6,
          4.6,
          4.4,
          4.6,
          4.6,
          4.6,
          4.6,
          4.5,
          4.7,
          4.6,
          4.6,
          4.6,
          4.4,
          4.5,
          4.6,
          4.6,
          4.7,
          4.6,
          4.5,
          4.6,
          4.5,
          4.5,
          4.6,
          4.5,
          4.6,
          4.6,
          4.5,
          4.6,
          4.6,
          4.6,
          4.6,
          4.7,
          4.6,
          4.6,
          4.6,
          4.5,
          4.5,
          4.6,
          4.6,
          4.6,
          4.6,
          4.6,
          4.5,
          4.5,
          4.6,
          4.6,
          4.6,
          4.6,
          4.6,
          4.6,
          4.4,
          4.6,
          4.6,
          4.6,
          4.6,
          4.6,
          4.6,
          4.4,
          4.5,
          4.6,
          4.5,
          4.5,
          4.6,
          4.6,
          4.6,
          4.4,
          4.5,
          4.6,
          4.5,
          4.5,
          4.6,
          4.7,
          4.7,
          4.6,
          4.6,
          4.5,
          4.6,
          4.5,
          4.5,
          4.4,
          4.5,
          4.6,
          4.6,
          4.5,
          4.5,
          4.5,
          4.6,
          4.5,
          4.6,
          4.4,
          4.4,
          4.5,
          4.6,
          4.5,
          4.4,
          4.6,
          4.5,
          4.5,
          4.5,
          4.5,
          4.4,
          4.6,
          4.6,
          4.6,
          4.5,
          4.6,
          4.4,
          4.5,
          4.6,
          4.4,
          4.5,
          4.5,
          4.6,
          4.6,
          4.6,
          4.5,
          4.5,
          4.5,
          4.6,
          4.5,
          4.4,
          4.5,
          4.6,
          4.3,
          4.6,
          4.6,
          4.6,
          4.4,
          4.4,
          4.6,
          4.5,
          4.6,
          4.7,
          4.6,
          4.5,
          4.6,
          4.6,
          4.6,
          4.5,
          4.6,
          4.6,
          4.6,
          4.5,
          4.6,
          4.5,
          4.6,
          4.5,
          4.6,
          4.5,
          4.5,
          4.6,
          4.5,
          4.6,
          4.4,
          4.6,
          4.6,
          4.6,
          4.4,
          4.6,
          4.6,
          4.3,
          4.6,
          4.5,
          4.4,
          4.6,
          4.5,
          4.5,
          4.5,
          4.6,
          4.4,
          4.5,
          4.6,
          4.6,
          4.4,
          4.3,
          4.5,
          4.6,
          4.5,
          4.6,
          4.3,
          4.4,
          4.4,
          4.6,
          4.6,
          4.6,
          4.6,
          4.5,
          4.6,
          4.6,
          4.7,
          4.6,
          4.5,
          4.4,
          4.6,
          4.5,
          4.6,
          4.6,
          4.5,
          4.5,
          4.5,
          4.5,
          4.6,
          4.6,
          4.5,
          4.6,
          4.6,
          4.5,
          4.5,
          4.4,
          4.6,
          4.3,
          4.4,
          4.5,
          4.6,
          4.3,
          4.3,
          4.5,
          4.5,
          4.6,
          4.6,
          4.4,
          4.4,
          4.3,
          4.5,
          4.5,
          4.5,
          4.5,
          4.4,
          4.5,
          4.4,
          4.4,
          4.6,
          4.2,
          4.4,
          4.3,
          4.5,
          4.6,
          4.5,
          4.5,
          4.6,
          4.5,
          4.6,
          4.4,
          4.4,
          4.3,
          4.5,
          4.5,
          4.3,
          4.5,
          4.5,
          4.6,
          4.5,
          4.4,
          4.5,
          4.5,
          4.3,
          4.5,
          4.5,
          4.5,
          4.4,
          4.6,
          4.5,
          4.4,
          4.5,
          4.5,
          4.4,
          4.4,
          4.6,
          4.5,
          4.4,
          4.2,
          4.6,
          4.6,
          4.4,
          4.5,
          4.4,
          4.5,
          4.5,
          4.5,
          4.3,
          4.6,
          4.6,
          4.5,
          4.5,
          4.5,
          4.5,
          4.4,
          4.6,
          4.4,
          4.4,
          4.6,
          4.5,
          4.5,
          4.5,
          4.5,
          4.5,
          4.5,
          4.5,
          4.4,
          4.6,
          4.5,
          4.3,
          4.4,
          4.3,
          4.5,
          4.6,
          4.4,
          4.4,
          4.3,
          4.4,
          4.6,
          4.5,
          4.5,
          4.4,
          4.6,
          4.6,
          4.5,
          4.4,
          4.4,
          4.6,
          4.6,
          4.4,
          4.5,
          4.5,
          4.5,
          4.5,
          4.5,
          4.5,
          4.5,
          4.5,
          4.4,
          4.2,
          4.4,
          4.5,
          4.5,
          4.5,
          4.4,
          4.4,
          4.5,
          4.7,
          4.4,
          4.4,
          4.6,
          4.5,
          4.4,
          4.4,
          4.5,
          4.6,
          4.5,
          4.5,
          4.5,
          4.5,
          4.6,
          4.2,
          4.5,
          4.5,
          4.6,
          4.6,
          4.3,
          4.6,
          4.4,
          4.5,
          4.4,
          4.6,
          4.6,
          4.6,
          4.5,
          4.5,
          4.5,
          4.5,
          4.3,
          4.4,
          4.6,
          4.6,
          4.5,
          4.5,
          4.6,
          4.5,
          4.5,
          4.6,
          4.3,
          4.5,
          4.5,
          4.5,
          4.6,
          4.5,
          4.5,
          4.5,
          4.5,
          4.5,
          4.6,
          4.4,
          4.6,
          4.5,
          4.4,
          4.5,
          4.4,
          4.5,
          4.5,
          4.5,
          4.6,
          4.3,
          4.4,
          4.5,
          4.5,
          4.5,
          4.5,
          4.4,
          4.4,
          4.4,
          4.4,
          4.5,
          4.7,
          4.4,
          4.5,
          4.5,
          4.4,
          4.5,
          4.4,
          4.3,
          4.5,
          4.5,
          4.7,
          4.5,
          4.6,
          4.5,
          4.3,
          4.4,
          4.3,
          4.5,
          4.5,
          4.4,
          4.4,
          4.3,
          4.5,
          4.3,
          4.5,
          4.5,
          4.6,
          4.4,
          4.5,
          4.3,
          4.4,
          4.4,
          4.5,
          4.6,
          4.4,
          4.6,
          4.4,
          4.5,
          4.5,
          4.3,
          4.5,
          4.5,
          4.6,
          4.5,
          4.4,
          4.5,
          4.4,
          4.6,
          4.4,
          4.5,
          4.6,
          4.3,
          4.3,
          4.3,
          4.4,
          4.4,
          4.3,
          4.4,
          4.4,
          4.4,
          4.5,
          4.3,
          4.3,
          4.6,
          4.4,
          4.4,
          4.5,
          4.4,
          4.5,
          4.2,
          4.4,
          4.4,
          4.6,
          4.6,
          4.5,
          4.6,
          4.5,
          4.4,
          4.4,
          4.4,
          4.6,
          4.6,
          4.4,
          4.6,
          4.4,
          4.5,
          4.4,
          4.4,
          4.4,
          4.4,
          4.5,
          4.4,
          4.5,
          4.5,
          4.6,
          4.4,
          4.4,
          4.5,
          4.4,
          4.3,
          4.5,
          4.5,
          4.3,
          4.4,
          4.4,
          4.5,
          4.4,
          4.3,
          4.3,
          4.5,
          4.3,
          4.5,
          4.5,
          4.5,
          4.5,
          4.4,
          4.3,
          4.5,
          4.4,
          4.5,
          4.3,
          4.4,
          4.4,
          4.2,
          4.3,
          4.4,
          4.6,
          4.5,
          4.5,
          4.4,
          4.4,
          4.4,
          4.6,
          4.5,
          4.4,
          4.5,
          4.3,
          4.5,
          4.5,
          4.3,
          4.5,
          4.4,
          4.5,
          4.6,
          4.5,
          4.4,
          4.4,
          4.5,
          4.4,
          4.4,
          4.5,
          4.3,
          4.4,
          4.6,
          4.4,
          4.4,
          4.4,
          4.3,
          4.3,
          4.6,
          4.4,
          4.5,
          4.5,
          4.4,
          4.4,
          4.6,
          4.6,
          4.4,
          4.4,
          4.4,
          4.4,
          4.4,
          4.6,
          4.4,
          4.4,
          4.5,
          4.4,
          4.3,
          4.4,
          4.6,
          4.4,
          4.4,
          4.5,
          4.5,
          4.4,
          4.4,
          4.3,
          4.4,
          4.3,
          4.3,
          4.5,
          4.6,
          4.4,
          4.5,
          4.4,
          4.6,
          4.4,
          4.6,
          4.5,
          4.5,
          4.4,
          4.5,
          4.5,
          4.4,
          4.4,
          4.4,
          4.4,
          4.2,
          4.3,
          4.5,
          4.4,
          4.2,
          4.4,
          4.4,
          4.4,
          4.5,
          4.4,
          4.4,
          4.6,
          4.4,
          4.5,
          4.3,
          4.5,
          4.3,
          4.4,
          4.5,
          4.3,
          4.4,
          4.4,
          4.3,
          4.3,
          4.3,
          4.4,
          4.3,
          4.3,
          4.4,
          4.4,
          4.5,
          4.4,
          4.4,
          4.3,
          4.3,
          4.3,
          4.4,
          4.3,
          4.4,
          4.5,
          4.2,
          4.4,
          4.3,
          4.4,
          4.5,
          4.4,
          4.5,
          4.4,
          4.4,
          4.3,
          4.4,
          4.4,
          4.4,
          4.4,
          4.3,
          4.4,
          4.6,
          4.4,
          4.4,
          4.4,
          4.4,
          4.5,
          4.3,
          4.2,
          4.5,
          4.3,
          4.3,
          4.3,
          4.5,
          4.4,
          4.4,
          4.4,
          4.4,
          4.3,
          4.3,
          4.3,
          4.5,
          4.5,
          4.5,
          4.5,
          4.5,
          4.4,
          4.5,
          4.5,
          4.5,
          4.5,
          4.3,
          4.4,
          4.4,
          4.3,
          4.4,
          4.3,
          4.5,
          4.4,
          4.4,
          4.3,
          4.3,
          4.4,
          4.4,
          4.4,
          4.4,
          4.4,
          4.3,
          4.4,
          4.2,
          4.5,
          4.3,
          4.5,
          4.4,
          4.4,
          4.4,
          4.6,
          4.3,
          4.5,
          4.4,
          4.4,
          4.5,
          4.4,
          4.5,
          4.4,
          4.4,
          4.5,
          4.5,
          4.4,
          4.5,
          4.4,
          4.5,
          4.4,
          4.4,
          4.5,
          4.5,
          4.3,
          4.5,
          4.4,
          4.4,
          4.4,
          4.4,
          4.6,
          4.4,
          4.5,
          4.4,
          4.4,
          4.3,
          4.5,
          4.3,
          4.4,
          4.5,
          4.4,
          4.4,
          4.4,
          4.4,
          4.4,
          4.3,
          4.3,
          4.4,
          4.4,
          4.4,
          4.4,
          4.3,
          4.5,
          4.3,
          4.3,
          4.4,
          4.3,
          4.4,
          4.3,
          4.5,
          4.4,
          4.4,
          4.3,
          4.3,
          4.3,
          4.4,
          4.3,
          4.2,
          4.4,
          4.3,
          4.3,
          4.3,
          4.3,
          4.4,
          4.4,
          4.2,
          4.3,
          4.3,
          4.4,
          4.4,
          4.4,
          4.2,
          4.3,
          4.4,
          4.2,
          4.3,
          4.3,
          4.4,
          4.3,
          4.4,
          4.3,
          4.4,
          4.5,
          4.3,
          4.4,
          4.5,
          4.3,
          4.3,
          4.3,
          4.3,
          4.3,
          4.4,
          4.3,
          4.5,
          4.4,
          4.4,
          4.1,
          4.3,
          4.3,
          4.3,
          4.4,
          4.4,
          4.2,
          4.2,
          4.3,
          4.4,
          4.4,
          4.3,
          4.5,
          4.4,
          4.3,
          4.4,
          4.4,
          4.4,
          4.3,
          4.3,
          4.2,
          4.3,
          4.3,
          4.4,
          4.4,
          4.5,
          4.4,
          4.3,
          4.4,
          4.4,
          4.4,
          4.5,
          4.2,
          4.4,
          4.1,
          4.4,
          4.3,
          4.3,
          4.4,
          4.2,
          4.4,
          4.3,
          4.3,
          4.4,
          4.3,
          4.1,
          4.3,
          4.2,
          4.3,
          4.4,
          4.4,
          4.5,
          4.4,
          4.4,
          4.4,
          4.3,
          4.4,
          4.3,
          4.4,
          4.4,
          4.3,
          4.2,
          4.3,
          4.3,
          4.4,
          4.4,
          4.4,
          4.3,
          4.2,
          4.3,
          4.3,
          4.2,
          4.4,
          4.4,
          4.3,
          4.3,
          4.4,
          4.3,
          4.3,
          4.3,
          4.4,
          4.3,
          4.4,
          4.5,
          4.3,
          4.3,
          4.3,
          4.3,
          4.3,
          4.3,
          4.3,
          4.3,
          4.3,
          4.3,
          4.3,
          4.4,
          4.3,
          4.3,
          4.3,
          4.3,
          4.4,
          4.2,
          4.4,
          4.4,
          4.4,
          4.5,
          4.4,
          4.5,
          4.4,
          4.3,
          4.3,
          4.4,
          4.3,
          4.4,
          4.4,
          4.5,
          4.4,
          4.2,
          4.3,
          4.3,
          4.3,
          4.4,
          4.3,
          4.4,
          4.3,
          4.3,
          4.4,
          4.3,
          4.3,
          4.3,
          4.3,
          4.4,
          4.4,
          4.2,
          4.3,
          4.4,
          4.3,
          4.4,
          4.3,
          4.3,
          4.4,
          4.2,
          4.4,
          4.6,
          4.4,
          4.4,
          4.3,
          4.2,
          4.4,
          4.4,
          4.4,
          4.5,
          4.4,
          4.4,
          4.4,
          4.4,
          4.3,
          4.5,
          4.2,
          4.5,
          4.4,
          4.3,
          4.4,
          4.3,
          4.4,
          4.4,
          4.5,
          4.4,
          4.4,
          4.6,
          4.4,
          4.5,
          4.6,
          4.6,
          4.5,
          4.5,
          4.6,
          4.4,
          4.6,
          4.4,
          4.5,
          4.4,
          4.4,
          4.6,
          4.4,
          4.5,
          4.4,
          4.7,
          4.6,
          4.4,
          4.6,
          4.5,
          4.4,
          4.5,
          4.6,
          4.4,
          4.6,
          4.6,
          4.7,
          4.6,
          4.5,
          4.5,
          4.4,
          4.5,
          4.6,
          4.4,
          4.4,
          4.5,
          4.6,
          4.4,
          4.5,
          4.4,
          4.6,
          4.4,
          4.4,
          4.4,
          4.4,
          4.4,
          4.5,
          4.5,
          4.6,
          4.6,
          4.5,
          4.4,
          4.4,
          4.4,
          4.4,
          4.4,
          4.5,
          4.5,
          4.7,
          4.6,
          4.4,
          4.5,
          4.5,
          4.4,
          4.4,
          4.4,
          4.5,
          4.5,
          4.5,
          4.5,
          4.7,
          4.4,
          4.4,
          4.5,
          4.5,
          4.4,
          4.4,
          4.4,
          4.5,
          4.7,
          4.6,
          4.6,
          4.5,
          4.5,
          4.5,
          4.4,
          4.5,
          4.4,
          4.6,
          4.5,
          4.4,
          4.5,
          4.4,
          4.4,
          4.4,
          4.6,
          4.4,
          4.6,
          4.4,
          4.4,
          4.4,
          4.4,
          4.4,
          4.5,
          4.5,
          4.6,
          4.4,
          4.5,
          4.5,
          4.4,
          4.4,
          4.6,
          4.5,
          4.5,
          4.4,
          4.4,
          4.4,
          4.6,
          4.4,
          4.4,
          4.4,
          4.4,
          4.4,
          4.5,
          4.5,
          4.4,
          4.5,
          4.7,
          4.4,
          4.4,
          4.4,
          4.4,
          4.4,
          4.5,
          4.4,
          4.4,
          4.4,
          4.4,
          4.4,
          4.4,
          4.4,
          4.4,
          4.4,
          4.4,
          4.4,
          4.5,
          4.4,
          4.4,
          4.4,
          4.4,
          4.5,
          4.5,
          4.4,
          4.4,
          4.4,
          4.4
         ],
         "xaxis": "x",
         "y": [
          1970.05,
          1900,
          3522.5,
          2882.5,
          808.75,
          1921.25,
          3096.25,
          1152.5,
          6300,
          2455,
          913.05,
          555,
          1686.25,
          832.5,
          425,
          2028.75,
          4910,
          4697.5,
          5231.25,
          1686.25,
          1558.75,
          811.25,
          1601.25,
          745,
          705,
          379,
          1691.25,
          832.5,
          811.8,
          1625,
          437.5,
          1473.75,
          2753.75,
          896.25,
          3202.5,
          811.25,
          1686.25,
          747.5,
          1537.5,
          1900,
          1238.75,
          5977.5,
          1473.75,
          420,
          5017.5,
          2455,
          2747.5,
          3308.75,
          683.75,
          201.25,
          795,
          786.25,
          1473.75,
          2071.25,
          1067.5,
          697.5,
          668.75,
          1173.75,
          1173.75,
          1451.25,
          597.5,
          921.25,
          2967.5,
          731.25,
          2541.25,
          961.25,
          616.25,
          1046.25,
          728.75,
          9180,
          705,
          1601.25,
          597.5,
          1046.25,
          928.3,
          10960,
          1077.51,
          1800,
          425,
          533.75,
          1110,
          747.5,
          618.75,
          595,
          1164.36,
          811.25,
          747.5,
          410,
          1473.75,
          1173.75,
          597.5,
          1046.25,
          3395,
          10217.5,
          2241.25,
          8743.75,
          3181.25,
          961.25,
          3800,
          445,
          2967.5,
          683.75,
          566.25,
          2562.5,
          1975,
          3181.25,
          2113.75,
          4410,
          3096.25,
          1025,
          843.75,
          2028.75,
          1025,
          2753.75,
          1323.75,
          1200.79,
          3287.5,
          975,
          2327.5,
          3395,
          1433.8,
          1038.63,
          1900,
          1665,
          1046.25,
          683.75,
          487.5,
          2028.75,
          4697.5,
          1985,
          4163.75,
          2092.5,
          1815,
          640,
          4163.75,
          1921.25,
          2028.75,
          1900,
          2348.75,
          1900,
          2028.75,
          1900,
          397.5,
          414.75,
          1665,
          739,
          695,
          1477.42,
          6200,
          995,
          2028.75,
          702.5,
          1680,
          424.46,
          694,
          470,
          893.75,
          458,
          2028.75,
          470.75,
          491.25,
          512.5,
          198.4,
          239.6,
          1601.25,
          836.3,
          955.05,
          811.25,
          1750,
          265,
          645,
          202.2,
          1265,
          390,
          575,
          896.25,
          1042.1,
          597.5,
          811.25,
          961.25,
          189.95,
          940,
          697.5,
          605,
          1025,
          535,
          1095,
          950,
          905.55,
          535,
          592.5,
          443,
          683.75,
          726.25,
          299,
          1537.5,
          2050,
          70.5,
          527.6,
          592.5,
          795,
          1095,
          179.95,
          765.9,
          1570,
          453,
          412.5,
          357,
          453,
          225,
          250,
          490,
          309.48,
          455.2,
          260.19,
          425,
          465,
          1701.25,
          295,
          1061.8,
          661.25,
          1238.75,
          618.75,
          420,
          533.75,
          1408.75,
          208.75,
          353.75,
          491.25,
          1387.5,
          597.5,
          811.25,
          491.25,
          630,
          397.5,
          533.75,
          1387.5,
          491.25,
          618.75,
          795,
          8463.75,
          1387.5,
          533.75,
          1260,
          2028.75,
          618.75,
          423.5,
          1173.75,
          2028.75,
          597.5,
          576.25,
          2455,
          688.75,
          470,
          1025,
          178.75,
          753.4,
          470,
          1046.25,
          618.75,
          961.25,
          961.25,
          299.99,
          961.25,
          1046.25,
          1478.75,
          661.25,
          1110,
          1173.75,
          221.25,
          1046.25,
          425,
          1003.75,
          1046.25,
          376.25,
          7493.75,
          353.75,
          917.5,
          762,
          238.75,
          491.25,
          811.25,
          1025,
          340,
          1707.5,
          470,
          747.5,
          1238.75,
          1046.25,
          790,
          795,
          2668.75,
          832.5,
          695,
          493.8,
          1558.75,
          287.5,
          1339.7,
          411.4,
          895,
          638.83,
          349,
          1761.25,
          2967.5,
          235,
          619.75,
          533.75,
          470,
          1046.25,
          470,
          683.75,
          491.25,
          3266.25,
          491.25,
          360,
          460,
          455.17,
          482.5,
          832.5,
          360,
          825,
          644.95,
          533.75,
          201.25,
          390,
          533.75,
          1173.75,
          790,
          832.5,
          632.5,
          832.5,
          136.25,
          496.25,
          5800,
          842.98,
          597.5,
          295,
          212.5,
          1686.25,
          533.75,
          99.97,
          1040.6,
          249,
          1936.25,
          683.75,
          394,
          353.75,
          533.75,
          89,
          597.5,
          990,
          287,
          425,
          1590,
          768.75,
          448.75,
          752.5,
          683.75,
          715.15,
          353.75,
          1428.75,
          318.25,
          1601.25,
          4163.75,
          427.5,
          440,
          695,
          961.25,
          533.75,
          1110,
          961.25,
          397.5,
          331.25,
          1665,
          491.25,
          178.75,
          1750,
          220,
          533.75,
          462.5,
          1242.5,
          625,
          96.81,
          470,
          2668.75,
          293.7,
          865.65,
          521,
          1046.25,
          287.5,
          420,
          420,
          532.5,
          472.5,
          533.75,
          683.75,
          533.75,
          1815,
          346.75,
          1300,
          199,
          494.9,
          248.75,
          736.25,
          376.25,
          276.25,
          825,
          1237.5,
          353.75,
          533.75,
          485,
          495,
          491.25,
          896.25,
          289.83,
          290.5,
          373.8,
          737.5,
          470,
          349.91,
          462.5,
          99.95,
          494.9,
          99.95,
          448.75,
          289.83,
          2092.5,
          399,
          74.5,
          1387.5,
          149.5,
          349.91,
          420,
          995,
          618.75,
          453.58,
          92.95,
          425,
          409.5,
          212.75,
          480,
          512.5,
          700,
          375,
          225,
          224.53,
          431.25,
          142.95,
          138.67,
          1025,
          104.9,
          1025,
          811.25,
          215,
          448.8,
          310,
          225,
          1200,
          695,
          350,
          249.95,
          765,
          76.5,
          109.3,
          375,
          375,
          450,
          470,
          224.55,
          295,
          375,
          36.55,
          295,
          406.25,
          431.25,
          249,
          575,
          353.45,
          56.25,
          225,
          310,
          1900,
          199,
          832.5,
          227.25,
          1003.75,
          106.96,
          212.5,
          186.09,
          360,
          480,
          389.02,
          75,
          375,
          215,
          199.95,
          595,
          453,
          225.5,
          64.9,
          415,
          269.16,
          280,
          275,
          98.95,
          66.95,
          408.75,
          417.5,
          495,
          177.95,
          370,
          495,
          342,
          1188.05,
          1137.4,
          315,
          135,
          199.95,
          66.08,
          1473.75,
          726.25,
          375,
          597.5,
          91.95,
          109.8,
          735,
          295,
          229.95,
          105.95,
          1150,
          245,
          750,
          420,
          121.25,
          726.25,
          310,
          202.5,
          533.75,
          618.75,
          243.75,
          221.25,
          533.75,
          1025,
          1082.55,
          635.25,
          123.75,
          250,
          243.75,
          840,
          287.5,
          597.5,
          243.75,
          243.75,
          212.5,
          287.5,
          1686.25,
          243.75,
          147.82,
          747.5,
          310,
          470,
          917.5,
          630,
          820,
          260,
          65,
          1625,
          212.5,
          178.75,
          304.5,
          832.5,
          331.25,
          221.25,
          420,
          683.75,
          2676.75,
          1601.25,
          961.25,
          310,
          491.25,
          165,
          101,
          353.75,
          555,
          325,
          961.25,
          276.25,
          533.75,
          201.25,
          618.75,
          256.25,
          533.75,
          896.25,
          470,
          1430,
          150,
          2028.75,
          961.25,
          273.75,
          512.5,
          630,
          74,
          140.2,
          1495,
          62.95,
          310,
          448.75,
          420,
          239,
          212.5,
          183.7,
          397.5,
          470,
          832.5,
          618.75,
          1381.48,
          747.5,
          420,
          450,
          470,
          331.25,
          233.75,
          705,
          232.5,
          1173.75,
          420,
          230,
          297.5,
          397.5,
          122,
          618.75,
          491.6,
          211.25,
          618.75,
          832.5,
          790,
          243.75,
          1823.75,
          448.75,
          1025,
          346.75,
          600,
          221.25,
          545,
          1025,
          523.75,
          397.5,
          190,
          1323.75,
          331.25,
          353.75,
          310,
          331.25,
          353.75,
          597.5,
          397.5,
          121.25,
          1323.75,
          353.75,
          397.5,
          205,
          49.99,
          470,
          241.3,
          1137.5,
          178.75,
          265,
          243.8,
          212.5,
          201.25,
          335,
          470,
          1046.25,
          683.75,
          470,
          178.75,
          199,
          645,
          56,
          222.5,
          811.25,
          785.18,
          692.5,
          301.25,
          700,
          705,
          99.97,
          178.75,
          595,
          250,
          961.25,
          494.9,
          293.75,
          705,
          198.95,
          227.02,
          216.25,
          799,
          576.25,
          241.4,
          151.68,
          720,
          683.75,
          491.25,
          747.5,
          57.9,
          72.48,
          130,
          474,
          470,
          618.75,
          190,
          192.5,
          182.5,
          683.75,
          431.25,
          287.5,
          74.45,
          420,
          81.55,
          462,
          832.5,
          106.3,
          380.69,
          203.8,
          462,
          99.95,
          94.95,
          420,
          618.75,
          353.75,
          470,
          310,
          225,
          155.86,
          175,
          275,
          286,
          397.5,
          182.5,
          104.59,
          331.25,
          182.5,
          470,
          80.5,
          206.25,
          217.5,
          2562.5,
          190,
          585,
          448.75,
          619.75,
          114.5,
          155,
          353.75,
          265,
          310,
          811.25,
          52.95,
          80,
          190,
          57.95,
          249.5,
          270.64,
          2518.75,
          427.5,
          145,
          45.5,
          168.75,
          82.95,
          545,
          79.95,
          365,
          239.4,
          305,
          512.5,
          420,
          130.75,
          545,
          134.95,
          75,
          38.09,
          120,
          114.95,
          219.95,
          182.5,
          61.29,
          555,
          331.25,
          109.95,
          533.75,
          92.5,
          67.95,
          53.44,
          119.95,
          231.95,
          109.95,
          212.5,
          331.25,
          75,
          961.25,
          726.25,
          1260,
          397.5,
          683.75,
          121.9,
          832.5,
          353.75,
          77,
          249,
          195.95,
          63.95,
          875,
          88.75,
          259.88,
          62.9,
          137.5,
          470,
          361.86,
          961.25,
          389,
          199.95,
          325,
          533.75,
          163.8,
          198.8,
          138.28,
          265,
          321.25,
          78.17,
          825.8,
          135.95,
          135,
          249,
          259,
          159.5,
          1173.75,
          149.95,
          321.25,
          180.5,
          120.02,
          100.15,
          304.95,
          130.35,
          555,
          122.5,
          127.8,
          160,
          121,
          576.25,
          144.95,
          243.75,
          48,
          126.5,
          195,
          381.5,
          105,
          107.5,
          78,
          132.98,
          243.75,
          89.95,
          93.7,
          495,
          435.14,
          124.68,
          36.1,
          94.95,
          273.05,
          813.31,
          79.95,
          334.7,
          69.95,
          145.95,
          618.75,
          243.75,
          68.75,
          397.5,
          243.75,
          512.5,
          661,
          90,
          961.25,
          39.95,
          175.95,
          681.5,
          89.19,
          154,
          134.89,
          121.95,
          412.5,
          961.25,
          150.9,
          220.6,
          747.5,
          135.98,
          195,
          229.95,
          125.95,
          81.64,
          95.95,
          254.29,
          1363.05,
          125,
          293.63,
          84,
          226.28,
          182.5,
          84,
          242.25,
          130,
          60.2,
          216,
          58.95,
          23.95,
          78.94,
          134.95,
          64.7,
          97.5,
          250.45,
          195,
          99.95,
          470,
          76.15,
          105,
          94.95,
          1173.75,
          199,
          450.8,
          89.95,
          54.95,
          89.95,
          160,
          42.95,
          212.5,
          69.95,
          198.8,
          176.5,
          180,
          34.2,
          235,
          42.45,
          31.95,
          189.95,
          18.75,
          27.3,
          335,
          168.75,
          248.25,
          262.5,
          367.5,
          731.25,
          130,
          148.75,
          256.25,
          618.75,
          212.5,
          493.75,
          85,
          512.5,
          142.5,
          307.5,
          360,
          148.75,
          150.05,
          1878.75,
          205,
          168.75,
          265,
          208.75,
          271.25,
          291.25,
          310,
          406.25,
          420,
          686.4,
          896.25,
          243.75,
          212.5,
          201.25,
          168.75,
          150,
          232.5,
          555,
          155,
          148.75,
          305.1,
          413.75,
          353.75,
          140,
          211.3,
          216.25,
          168.75,
          201.25,
          420,
          112.5,
          202.5,
          92.95,
          397.5,
          72,
          618.75,
          353.75,
          49.61,
          618.75,
          92.95,
          533.75,
          202.5,
          385.5,
          331.25,
          265,
          246.25,
          206.25,
          483.75,
          729.3,
          298.75,
          121,
          118.5,
          200,
          190,
          201.25,
          310,
          220,
          331.25,
          420,
          247.5,
          156.95,
          136.3,
          181.25,
          170,
          470,
          49.9,
          318.75,
          221.25,
          287.5,
          196.25,
          75.71,
          420,
          221.25,
          221.25,
          135,
          420,
          155,
          82.5,
          123.75,
          243.75,
          205,
          103.75,
          169.75,
          100,
          246.25,
          96.3,
          520,
          69.94,
          94.95,
          119,
          618.75,
          250,
          555,
          123.75,
          149.95,
          141.06,
          353.75,
          265,
          166.11,
          470,
          242.5,
          103.54,
          329,
          97.55,
          111.25,
          474,
          100.15,
          555,
          683.75,
          420,
          118.3,
          113,
          48,
          90,
          58,
          142.5,
          260,
          550,
          238,
          162.5,
          149.95,
          152,
          73.71,
          640,
          470,
          150,
          168.75,
          618.75,
          961.25,
          49.99,
          139.8,
          83.95,
          342.5,
          257.5,
          108.8,
          40.98,
          178.17,
          353.75,
          121.85,
          215,
          57.95,
          244.59,
          148.8,
          470,
          179.95,
          82.5,
          233.75,
          325,
          51.95,
          185,
          114.6,
          265,
          74.95,
          106.25,
          76,
          101.25,
          61.3,
          420,
          43.72,
          55.95,
          87.5,
          115,
          201.25,
          276.25,
          129.5,
          265,
          271.25,
          107.28,
          146.25,
          331.25,
          104.69,
          79.95,
          158.43,
          132.5,
          69.95,
          150,
          69.5,
          92.5,
          99.8,
          201.25,
          120.07,
          90,
          178.75,
          180,
          44.69,
          661.25,
          265,
          142.5,
          65,
          217.5,
          162.15,
          101.2,
          59.75,
          102.12,
          82.5,
          555,
          52.5,
          212.5,
          38.95,
          26.9,
          57.99,
          51.9,
          73.01,
          99.95,
          124.59,
          209.95,
          179.95,
          39.3,
          118.8,
          169.95,
          49.95,
          152.5,
          66.19,
          54.75,
          90,
          166.25,
          98.5,
          84.8,
          56.1,
          168.75,
          106.25,
          59.95,
          78,
          123.95,
          68,
          155,
          64.9,
          212.5,
          139,
          106,
          46.77,
          91.3,
          72.85,
          51.15,
          54.49,
          95,
          39.75,
          168.75,
          135,
          108.75,
          59.95,
          104.95,
          119,
          24.75,
          134.95,
          114.95,
          121.95,
          80.5,
          149,
          39.95,
          67.16,
          46.25,
          29.95,
          55.5,
          124.22,
          49.8,
          68.95,
          93.53,
          68.8,
          49.95,
          201.25,
          39.55,
          99.95,
          68,
          1025,
          85.95,
          55.5,
          182.5,
          222.99,
          69.94,
          95,
          120,
          233.05,
          61.95,
          94.5,
          159,
          104.95,
          55,
          72.5,
          111.25,
          90,
          56,
          74.95,
          146.25,
          64.99,
          125.95,
          55.6,
          102.95,
          77.65,
          178.75,
          96.25,
          81.25,
          46.95,
          25.99,
          119.5,
          206.25,
          97.95,
          124.68,
          27.75,
          138.95,
          243.75,
          78.95,
          190,
          30,
          157.95,
          88.38,
          105.85,
          31.45,
          157.5,
          61.3,
          37.5,
          161.3,
          100.5,
          276.79,
          43.95,
          64.35,
          59.9,
          79.95,
          20.95,
          39.95,
          56.9,
          79.95,
          221.25,
          92.5,
          27.4,
          40.95,
          122.8,
          179.5,
          54.4,
          109.95,
          55.95,
          35.95,
          118.75,
          27.98,
          106.25,
          79.95,
          23.9,
          92.25,
          32.5,
          44.65,
          94,
          32.1,
          99.95,
          117.77,
          172.95,
          81.5,
          25.95,
          89.95,
          32.95,
          34.85,
          49.9,
          68.5,
          88,
          47.85,
          49.75,
          29.95,
          276.25,
          276.25,
          921.25,
          221.25,
          178.75,
          961.25,
          58.75,
          201.25,
          705,
          917.5,
          1110,
          747.5,
          1270,
          58.75,
          4910,
          543.4,
          331.25,
          291.25,
          479.85,
          1281.25,
          265,
          618.75,
          82.5,
          1025,
          1623.75,
          82.5,
          1495,
          597.5,
          178.75,
          2635.55,
          1046.25,
          420,
          353.28,
          705,
          1110,
          2028.75,
          599.2,
          497.15,
          74.98,
          265,
          331.25,
          178.75,
          310,
          747.5,
          310,
          470,
          212.5,
          293.75,
          1046.25,
          420,
          221.25,
          150,
          491.25,
          1056.25,
          713.75,
          117.9,
          1601.25,
          189.9,
          113.98,
          234,
          1601.25,
          224.53,
          92.5,
          259.88,
          2000,
          337.5,
          429.76,
          86.3,
          324.45,
          142.5,
          331.25,
          1387.5,
          683.75,
          409.5,
          112,
          101.25,
          223.1,
          298,
          298.58,
          55,
          452.6,
          1152.5,
          923.99,
          234.25,
          232.5,
          750.8,
          1323.75,
          6300,
          1687.5,
          895,
          295,
          94.95,
          379,
          618.75,
          2113.75,
          2967.5,
          232.82,
          902.42,
          1451.25,
          84.95,
          134.95,
          187.86,
          231.95,
          745,
          440,
          544.78,
          3181.25,
          245.5,
          260.44,
          1046.25,
          215,
          1558.75,
          420,
          2028.75,
          95,
          1387.5,
          1173.75,
          36.3,
          295,
          722.66,
          320,
          425,
          318.73,
          363.11,
          137.95,
          1628.5,
          225,
          435.4,
          295,
          89.3,
          134.62,
          525,
          280.1,
          3416.25,
          445,
          6834.1,
          60,
          186.17,
          220.9,
          107.41,
          221.53,
          1495,
          71.95,
          129.95,
          50.19,
          1387.5,
          84.5,
          397.5,
          533.75,
          104.95,
          29.29,
          184.95,
          618.75,
          159.95,
          39.95,
          265,
          27.95,
          450,
          925.77,
          2943.75,
          76,
          229,
          338,
          74
         ],
         "yaxis": "y"
        }
       ],
       "layout": {
        "barmode": "relative",
        "legend": {
         "tracegroupgap": 0
        },
        "margin": {
         "t": 60
        },
        "template": {
         "data": {
          "bar": [
           {
            "error_x": {
             "color": "#2a3f5f"
            },
            "error_y": {
             "color": "#2a3f5f"
            },
            "marker": {
             "line": {
              "color": "#E5ECF6",
              "width": 0.5
             },
             "pattern": {
              "fillmode": "overlay",
              "size": 10,
              "solidity": 0.2
             }
            },
            "type": "bar"
           }
          ],
          "barpolar": [
           {
            "marker": {
             "line": {
              "color": "#E5ECF6",
              "width": 0.5
             },
             "pattern": {
              "fillmode": "overlay",
              "size": 10,
              "solidity": 0.2
             }
            },
            "type": "barpolar"
           }
          ],
          "carpet": [
           {
            "aaxis": {
             "endlinecolor": "#2a3f5f",
             "gridcolor": "white",
             "linecolor": "white",
             "minorgridcolor": "white",
             "startlinecolor": "#2a3f5f"
            },
            "baxis": {
             "endlinecolor": "#2a3f5f",
             "gridcolor": "white",
             "linecolor": "white",
             "minorgridcolor": "white",
             "startlinecolor": "#2a3f5f"
            },
            "type": "carpet"
           }
          ],
          "choropleth": [
           {
            "colorbar": {
             "outlinewidth": 0,
             "ticks": ""
            },
            "type": "choropleth"
           }
          ],
          "contour": [
           {
            "colorbar": {
             "outlinewidth": 0,
             "ticks": ""
            },
            "colorscale": [
             [
              0,
              "#0d0887"
             ],
             [
              0.1111111111111111,
              "#46039f"
             ],
             [
              0.2222222222222222,
              "#7201a8"
             ],
             [
              0.3333333333333333,
              "#9c179e"
             ],
             [
              0.4444444444444444,
              "#bd3786"
             ],
             [
              0.5555555555555556,
              "#d8576b"
             ],
             [
              0.6666666666666666,
              "#ed7953"
             ],
             [
              0.7777777777777778,
              "#fb9f3a"
             ],
             [
              0.8888888888888888,
              "#fdca26"
             ],
             [
              1,
              "#f0f921"
             ]
            ],
            "type": "contour"
           }
          ],
          "contourcarpet": [
           {
            "colorbar": {
             "outlinewidth": 0,
             "ticks": ""
            },
            "type": "contourcarpet"
           }
          ],
          "heatmap": [
           {
            "colorbar": {
             "outlinewidth": 0,
             "ticks": ""
            },
            "colorscale": [
             [
              0,
              "#0d0887"
             ],
             [
              0.1111111111111111,
              "#46039f"
             ],
             [
              0.2222222222222222,
              "#7201a8"
             ],
             [
              0.3333333333333333,
              "#9c179e"
             ],
             [
              0.4444444444444444,
              "#bd3786"
             ],
             [
              0.5555555555555556,
              "#d8576b"
             ],
             [
              0.6666666666666666,
              "#ed7953"
             ],
             [
              0.7777777777777778,
              "#fb9f3a"
             ],
             [
              0.8888888888888888,
              "#fdca26"
             ],
             [
              1,
              "#f0f921"
             ]
            ],
            "type": "heatmap"
           }
          ],
          "heatmapgl": [
           {
            "colorbar": {
             "outlinewidth": 0,
             "ticks": ""
            },
            "colorscale": [
             [
              0,
              "#0d0887"
             ],
             [
              0.1111111111111111,
              "#46039f"
             ],
             [
              0.2222222222222222,
              "#7201a8"
             ],
             [
              0.3333333333333333,
              "#9c179e"
             ],
             [
              0.4444444444444444,
              "#bd3786"
             ],
             [
              0.5555555555555556,
              "#d8576b"
             ],
             [
              0.6666666666666666,
              "#ed7953"
             ],
             [
              0.7777777777777778,
              "#fb9f3a"
             ],
             [
              0.8888888888888888,
              "#fdca26"
             ],
             [
              1,
              "#f0f921"
             ]
            ],
            "type": "heatmapgl"
           }
          ],
          "histogram": [
           {
            "marker": {
             "pattern": {
              "fillmode": "overlay",
              "size": 10,
              "solidity": 0.2
             }
            },
            "type": "histogram"
           }
          ],
          "histogram2d": [
           {
            "colorbar": {
             "outlinewidth": 0,
             "ticks": ""
            },
            "colorscale": [
             [
              0,
              "#0d0887"
             ],
             [
              0.1111111111111111,
              "#46039f"
             ],
             [
              0.2222222222222222,
              "#7201a8"
             ],
             [
              0.3333333333333333,
              "#9c179e"
             ],
             [
              0.4444444444444444,
              "#bd3786"
             ],
             [
              0.5555555555555556,
              "#d8576b"
             ],
             [
              0.6666666666666666,
              "#ed7953"
             ],
             [
              0.7777777777777778,
              "#fb9f3a"
             ],
             [
              0.8888888888888888,
              "#fdca26"
             ],
             [
              1,
              "#f0f921"
             ]
            ],
            "type": "histogram2d"
           }
          ],
          "histogram2dcontour": [
           {
            "colorbar": {
             "outlinewidth": 0,
             "ticks": ""
            },
            "colorscale": [
             [
              0,
              "#0d0887"
             ],
             [
              0.1111111111111111,
              "#46039f"
             ],
             [
              0.2222222222222222,
              "#7201a8"
             ],
             [
              0.3333333333333333,
              "#9c179e"
             ],
             [
              0.4444444444444444,
              "#bd3786"
             ],
             [
              0.5555555555555556,
              "#d8576b"
             ],
             [
              0.6666666666666666,
              "#ed7953"
             ],
             [
              0.7777777777777778,
              "#fb9f3a"
             ],
             [
              0.8888888888888888,
              "#fdca26"
             ],
             [
              1,
              "#f0f921"
             ]
            ],
            "type": "histogram2dcontour"
           }
          ],
          "mesh3d": [
           {
            "colorbar": {
             "outlinewidth": 0,
             "ticks": ""
            },
            "type": "mesh3d"
           }
          ],
          "parcoords": [
           {
            "line": {
             "colorbar": {
              "outlinewidth": 0,
              "ticks": ""
             }
            },
            "type": "parcoords"
           }
          ],
          "pie": [
           {
            "automargin": true,
            "type": "pie"
           }
          ],
          "scatter": [
           {
            "fillpattern": {
             "fillmode": "overlay",
             "size": 10,
             "solidity": 0.2
            },
            "type": "scatter"
           }
          ],
          "scatter3d": [
           {
            "line": {
             "colorbar": {
              "outlinewidth": 0,
              "ticks": ""
             }
            },
            "marker": {
             "colorbar": {
              "outlinewidth": 0,
              "ticks": ""
             }
            },
            "type": "scatter3d"
           }
          ],
          "scattercarpet": [
           {
            "marker": {
             "colorbar": {
              "outlinewidth": 0,
              "ticks": ""
             }
            },
            "type": "scattercarpet"
           }
          ],
          "scattergeo": [
           {
            "marker": {
             "colorbar": {
              "outlinewidth": 0,
              "ticks": ""
             }
            },
            "type": "scattergeo"
           }
          ],
          "scattergl": [
           {
            "marker": {
             "colorbar": {
              "outlinewidth": 0,
              "ticks": ""
             }
            },
            "type": "scattergl"
           }
          ],
          "scattermapbox": [
           {
            "marker": {
             "colorbar": {
              "outlinewidth": 0,
              "ticks": ""
             }
            },
            "type": "scattermapbox"
           }
          ],
          "scatterpolar": [
           {
            "marker": {
             "colorbar": {
              "outlinewidth": 0,
              "ticks": ""
             }
            },
            "type": "scatterpolar"
           }
          ],
          "scatterpolargl": [
           {
            "marker": {
             "colorbar": {
              "outlinewidth": 0,
              "ticks": ""
             }
            },
            "type": "scatterpolargl"
           }
          ],
          "scatterternary": [
           {
            "marker": {
             "colorbar": {
              "outlinewidth": 0,
              "ticks": ""
             }
            },
            "type": "scatterternary"
           }
          ],
          "surface": [
           {
            "colorbar": {
             "outlinewidth": 0,
             "ticks": ""
            },
            "colorscale": [
             [
              0,
              "#0d0887"
             ],
             [
              0.1111111111111111,
              "#46039f"
             ],
             [
              0.2222222222222222,
              "#7201a8"
             ],
             [
              0.3333333333333333,
              "#9c179e"
             ],
             [
              0.4444444444444444,
              "#bd3786"
             ],
             [
              0.5555555555555556,
              "#d8576b"
             ],
             [
              0.6666666666666666,
              "#ed7953"
             ],
             [
              0.7777777777777778,
              "#fb9f3a"
             ],
             [
              0.8888888888888888,
              "#fdca26"
             ],
             [
              1,
              "#f0f921"
             ]
            ],
            "type": "surface"
           }
          ],
          "table": [
           {
            "cells": {
             "fill": {
              "color": "#EBF0F8"
             },
             "line": {
              "color": "white"
             }
            },
            "header": {
             "fill": {
              "color": "#C8D4E3"
             },
             "line": {
              "color": "white"
             }
            },
            "type": "table"
           }
          ]
         },
         "layout": {
          "annotationdefaults": {
           "arrowcolor": "#2a3f5f",
           "arrowhead": 0,
           "arrowwidth": 1
          },
          "autotypenumbers": "strict",
          "coloraxis": {
           "colorbar": {
            "outlinewidth": 0,
            "ticks": ""
           }
          },
          "colorscale": {
           "diverging": [
            [
             0,
             "#8e0152"
            ],
            [
             0.1,
             "#c51b7d"
            ],
            [
             0.2,
             "#de77ae"
            ],
            [
             0.3,
             "#f1b6da"
            ],
            [
             0.4,
             "#fde0ef"
            ],
            [
             0.5,
             "#f7f7f7"
            ],
            [
             0.6,
             "#e6f5d0"
            ],
            [
             0.7,
             "#b8e186"
            ],
            [
             0.8,
             "#7fbc41"
            ],
            [
             0.9,
             "#4d9221"
            ],
            [
             1,
             "#276419"
            ]
           ],
           "sequential": [
            [
             0,
             "#0d0887"
            ],
            [
             0.1111111111111111,
             "#46039f"
            ],
            [
             0.2222222222222222,
             "#7201a8"
            ],
            [
             0.3333333333333333,
             "#9c179e"
            ],
            [
             0.4444444444444444,
             "#bd3786"
            ],
            [
             0.5555555555555556,
             "#d8576b"
            ],
            [
             0.6666666666666666,
             "#ed7953"
            ],
            [
             0.7777777777777778,
             "#fb9f3a"
            ],
            [
             0.8888888888888888,
             "#fdca26"
            ],
            [
             1,
             "#f0f921"
            ]
           ],
           "sequentialminus": [
            [
             0,
             "#0d0887"
            ],
            [
             0.1111111111111111,
             "#46039f"
            ],
            [
             0.2222222222222222,
             "#7201a8"
            ],
            [
             0.3333333333333333,
             "#9c179e"
            ],
            [
             0.4444444444444444,
             "#bd3786"
            ],
            [
             0.5555555555555556,
             "#d8576b"
            ],
            [
             0.6666666666666666,
             "#ed7953"
            ],
            [
             0.7777777777777778,
             "#fb9f3a"
            ],
            [
             0.8888888888888888,
             "#fdca26"
            ],
            [
             1,
             "#f0f921"
            ]
           ]
          },
          "colorway": [
           "#636efa",
           "#EF553B",
           "#00cc96",
           "#ab63fa",
           "#FFA15A",
           "#19d3f3",
           "#FF6692",
           "#B6E880",
           "#FF97FF",
           "#FECB52"
          ],
          "font": {
           "color": "#2a3f5f"
          },
          "geo": {
           "bgcolor": "white",
           "lakecolor": "white",
           "landcolor": "#E5ECF6",
           "showlakes": true,
           "showland": true,
           "subunitcolor": "white"
          },
          "hoverlabel": {
           "align": "left"
          },
          "hovermode": "closest",
          "mapbox": {
           "style": "light"
          },
          "paper_bgcolor": "white",
          "plot_bgcolor": "#E5ECF6",
          "polar": {
           "angularaxis": {
            "gridcolor": "white",
            "linecolor": "white",
            "ticks": ""
           },
           "bgcolor": "#E5ECF6",
           "radialaxis": {
            "gridcolor": "white",
            "linecolor": "white",
            "ticks": ""
           }
          },
          "scene": {
           "xaxis": {
            "backgroundcolor": "#E5ECF6",
            "gridcolor": "white",
            "gridwidth": 2,
            "linecolor": "white",
            "showbackground": true,
            "ticks": "",
            "zerolinecolor": "white"
           },
           "yaxis": {
            "backgroundcolor": "#E5ECF6",
            "gridcolor": "white",
            "gridwidth": 2,
            "linecolor": "white",
            "showbackground": true,
            "ticks": "",
            "zerolinecolor": "white"
           },
           "zaxis": {
            "backgroundcolor": "#E5ECF6",
            "gridcolor": "white",
            "gridwidth": 2,
            "linecolor": "white",
            "showbackground": true,
            "ticks": "",
            "zerolinecolor": "white"
           }
          },
          "shapedefaults": {
           "line": {
            "color": "#2a3f5f"
           }
          },
          "ternary": {
           "aaxis": {
            "gridcolor": "white",
            "linecolor": "white",
            "ticks": ""
           },
           "baxis": {
            "gridcolor": "white",
            "linecolor": "white",
            "ticks": ""
           },
           "bgcolor": "#E5ECF6",
           "caxis": {
            "gridcolor": "white",
            "linecolor": "white",
            "ticks": ""
           }
          },
          "title": {
           "x": 0.05
          },
          "xaxis": {
           "automargin": true,
           "gridcolor": "white",
           "linecolor": "white",
           "ticks": "",
           "title": {
            "standoff": 15
           },
           "zerolinecolor": "white",
           "zerolinewidth": 2
          },
          "yaxis": {
           "automargin": true,
           "gridcolor": "white",
           "linecolor": "white",
           "ticks": "",
           "title": {
            "standoff": 15
           },
           "zerolinecolor": "white",
           "zerolinewidth": 2
          }
         }
        },
        "xaxis": {
         "anchor": "y",
         "domain": [
          0,
          1
         ],
         "title": {
          "text": "ratings_average"
         }
        },
        "yaxis": {
         "anchor": "x",
         "domain": [
          0,
          1
         ],
         "title": {
          "text": "sum of price_euros"
         }
        }
       }
      }
     },
     "metadata": {},
     "output_type": "display_data"
    }
   ],
   "source": [
    "import plotly.express as px\n",
    "\n",
    "fig = px.histogram(wines_df, x = \"ratings_average\", y = \"price_euros\")\n",
    "fig.show()\n"
   ]
  },
  {
   "cell_type": "code",
   "execution_count": 11,
   "metadata": {},
   "outputs": [
    {
     "data": {
      "text/html": [
       "<div>\n",
       "<style scoped>\n",
       "    .dataframe tbody tr th:only-of-type {\n",
       "        vertical-align: middle;\n",
       "    }\n",
       "\n",
       "    .dataframe tbody tr th {\n",
       "        vertical-align: top;\n",
       "    }\n",
       "\n",
       "    .dataframe thead th {\n",
       "        text-align: right;\n",
       "    }\n",
       "</style>\n",
       "<table border=\"1\" class=\"dataframe\">\n",
       "  <thead>\n",
       "    <tr style=\"text-align: right;\">\n",
       "      <th></th>\n",
       "      <th>group_name</th>\n",
       "      <th>count(*)</th>\n",
       "      <th>wine_name</th>\n",
       "      <th>country_name</th>\n",
       "    </tr>\n",
       "  </thead>\n",
       "  <tbody>\n",
       "    <tr>\n",
       "      <th>0</th>\n",
       "      <td>black_fruit</td>\n",
       "      <td>24</td>\n",
       "      <td>5 Puttonyos Aszú (Blue Label)</td>\n",
       "      <td>Hongrie</td>\n",
       "    </tr>\n",
       "    <tr>\n",
       "      <th>1</th>\n",
       "      <td>citrus_fruit</td>\n",
       "      <td>106</td>\n",
       "      <td>Tokaji Aszú 5 Puttonyos</td>\n",
       "      <td>Hongrie</td>\n",
       "    </tr>\n",
       "    <tr>\n",
       "      <th>2</th>\n",
       "      <td>dried_fruit</td>\n",
       "      <td>62</td>\n",
       "      <td>Tokaji Aszú 3 Puttonyos</td>\n",
       "      <td>Hongrie</td>\n",
       "    </tr>\n",
       "    <tr>\n",
       "      <th>3</th>\n",
       "      <td>earth</td>\n",
       "      <td>156</td>\n",
       "      <td>Tokaji Aszú 6 Puttonyos</td>\n",
       "      <td>Hongrie</td>\n",
       "    </tr>\n",
       "    <tr>\n",
       "      <th>4</th>\n",
       "      <td>floral</td>\n",
       "      <td>61</td>\n",
       "      <td>Tokaji Aszú 6 Puttonyos</td>\n",
       "      <td>Hongrie</td>\n",
       "    </tr>\n",
       "    <tr>\n",
       "      <th>5</th>\n",
       "      <td>microbio</td>\n",
       "      <td>85</td>\n",
       "      <td>Tokaji Aszú 6 Puttonyos</td>\n",
       "      <td>Hongrie</td>\n",
       "    </tr>\n",
       "    <tr>\n",
       "      <th>6</th>\n",
       "      <td>non_oak</td>\n",
       "      <td>162</td>\n",
       "      <td>Tokaji Aszú 6 Puttonyos</td>\n",
       "      <td>Hongrie</td>\n",
       "    </tr>\n",
       "    <tr>\n",
       "      <th>7</th>\n",
       "      <td>oak</td>\n",
       "      <td>164</td>\n",
       "      <td>Tokaji Aszú 6 Puttonyos</td>\n",
       "      <td>Hongrie</td>\n",
       "    </tr>\n",
       "    <tr>\n",
       "      <th>8</th>\n",
       "      <td>red_fruit</td>\n",
       "      <td>33</td>\n",
       "      <td>Tokaji Aszú 3 Puttonyos</td>\n",
       "      <td>Hongrie</td>\n",
       "    </tr>\n",
       "    <tr>\n",
       "      <th>9</th>\n",
       "      <td>spices</td>\n",
       "      <td>91</td>\n",
       "      <td>5 Puttonyos Aszú (Blue Label)</td>\n",
       "      <td>Hongrie</td>\n",
       "    </tr>\n",
       "    <tr>\n",
       "      <th>10</th>\n",
       "      <td>tree_fruit</td>\n",
       "      <td>114</td>\n",
       "      <td>Tokaji Aszú 6 Puttonyos</td>\n",
       "      <td>Hongrie</td>\n",
       "    </tr>\n",
       "    <tr>\n",
       "      <th>11</th>\n",
       "      <td>tropical_fruit</td>\n",
       "      <td>61</td>\n",
       "      <td>Tokaji Aszú 6 Puttonyos</td>\n",
       "      <td>Hongrie</td>\n",
       "    </tr>\n",
       "    <tr>\n",
       "      <th>12</th>\n",
       "      <td>vegetal</td>\n",
       "      <td>47</td>\n",
       "      <td>Tokaji Aszú 6 Puttonyos</td>\n",
       "      <td>Hongrie</td>\n",
       "    </tr>\n",
       "  </tbody>\n",
       "</table>\n",
       "</div>"
      ],
      "text/plain": [
       "        group_name  count(*)                      wine_name country_name\n",
       "0      black_fruit        24  5 Puttonyos Aszú (Blue Label)      Hongrie\n",
       "1     citrus_fruit       106        Tokaji Aszú 5 Puttonyos      Hongrie\n",
       "2      dried_fruit        62        Tokaji Aszú 3 Puttonyos      Hongrie\n",
       "3            earth       156        Tokaji Aszú 6 Puttonyos      Hongrie\n",
       "4           floral        61        Tokaji Aszú 6 Puttonyos      Hongrie\n",
       "5         microbio        85        Tokaji Aszú 6 Puttonyos      Hongrie\n",
       "6          non_oak       162        Tokaji Aszú 6 Puttonyos      Hongrie\n",
       "7              oak       164        Tokaji Aszú 6 Puttonyos      Hongrie\n",
       "8        red_fruit        33        Tokaji Aszú 3 Puttonyos      Hongrie\n",
       "9           spices        91  5 Puttonyos Aszú (Blue Label)      Hongrie\n",
       "10      tree_fruit       114        Tokaji Aszú 6 Puttonyos      Hongrie\n",
       "11  tropical_fruit        61        Tokaji Aszú 6 Puttonyos      Hongrie\n",
       "12         vegetal        47        Tokaji Aszú 6 Puttonyos      Hongrie"
      ]
     },
     "execution_count": 11,
     "metadata": {},
     "output_type": "execute_result"
    }
   ],
   "source": [
    "query_tastes_of_hu = \"\"\"SELECT keywords_wine.group_name, count(*), wines.name AS wine_name, countries.name AS country_name FROM keywords_wine\n",
    "JOIN wines ON keywords_wine.wine_id = wines.id\n",
    "JOIN regions ON wines.region_id = regions.id\n",
    "JOIN countries ON regions.country_code = countries.code\n",
    "WHERE country_name = \"Hongrie\"\n",
    "GROUP BY keywords_wine.group_name\n",
    "\n",
    "\"\"\"\n",
    "\n",
    "hu_df = pd.read_sql_query(query_tastes_of_hu, conn)\n",
    "hu_df"
   ]
  },
  {
   "cell_type": "code",
   "execution_count": 12,
   "metadata": {},
   "outputs": [
    {
     "data": {
      "application/vnd.plotly.v1+json": {
       "config": {
        "plotlyServerURL": "https://plot.ly"
       },
       "data": [
        {
         "domain": {
          "x": [
           0,
           1
          ],
          "y": [
           0,
           1
          ]
         },
         "hovertemplate": "group_name=%{label}<br>count(*)=%{value}<extra></extra>",
         "labels": [
          "black_fruit",
          "citrus_fruit",
          "dried_fruit",
          "earth",
          "floral",
          "microbio",
          "non_oak",
          "oak",
          "red_fruit",
          "spices",
          "tree_fruit",
          "tropical_fruit",
          "vegetal"
         ],
         "legendgroup": "",
         "name": "",
         "showlegend": true,
         "type": "pie",
         "values": [
          24,
          106,
          62,
          156,
          61,
          85,
          162,
          164,
          33,
          91,
          114,
          61,
          47
         ]
        }
       ],
       "layout": {
        "legend": {
         "tracegroupgap": 0
        },
        "template": {
         "data": {
          "bar": [
           {
            "error_x": {
             "color": "#2a3f5f"
            },
            "error_y": {
             "color": "#2a3f5f"
            },
            "marker": {
             "line": {
              "color": "#E5ECF6",
              "width": 0.5
             },
             "pattern": {
              "fillmode": "overlay",
              "size": 10,
              "solidity": 0.2
             }
            },
            "type": "bar"
           }
          ],
          "barpolar": [
           {
            "marker": {
             "line": {
              "color": "#E5ECF6",
              "width": 0.5
             },
             "pattern": {
              "fillmode": "overlay",
              "size": 10,
              "solidity": 0.2
             }
            },
            "type": "barpolar"
           }
          ],
          "carpet": [
           {
            "aaxis": {
             "endlinecolor": "#2a3f5f",
             "gridcolor": "white",
             "linecolor": "white",
             "minorgridcolor": "white",
             "startlinecolor": "#2a3f5f"
            },
            "baxis": {
             "endlinecolor": "#2a3f5f",
             "gridcolor": "white",
             "linecolor": "white",
             "minorgridcolor": "white",
             "startlinecolor": "#2a3f5f"
            },
            "type": "carpet"
           }
          ],
          "choropleth": [
           {
            "colorbar": {
             "outlinewidth": 0,
             "ticks": ""
            },
            "type": "choropleth"
           }
          ],
          "contour": [
           {
            "colorbar": {
             "outlinewidth": 0,
             "ticks": ""
            },
            "colorscale": [
             [
              0,
              "#0d0887"
             ],
             [
              0.1111111111111111,
              "#46039f"
             ],
             [
              0.2222222222222222,
              "#7201a8"
             ],
             [
              0.3333333333333333,
              "#9c179e"
             ],
             [
              0.4444444444444444,
              "#bd3786"
             ],
             [
              0.5555555555555556,
              "#d8576b"
             ],
             [
              0.6666666666666666,
              "#ed7953"
             ],
             [
              0.7777777777777778,
              "#fb9f3a"
             ],
             [
              0.8888888888888888,
              "#fdca26"
             ],
             [
              1,
              "#f0f921"
             ]
            ],
            "type": "contour"
           }
          ],
          "contourcarpet": [
           {
            "colorbar": {
             "outlinewidth": 0,
             "ticks": ""
            },
            "type": "contourcarpet"
           }
          ],
          "heatmap": [
           {
            "colorbar": {
             "outlinewidth": 0,
             "ticks": ""
            },
            "colorscale": [
             [
              0,
              "#0d0887"
             ],
             [
              0.1111111111111111,
              "#46039f"
             ],
             [
              0.2222222222222222,
              "#7201a8"
             ],
             [
              0.3333333333333333,
              "#9c179e"
             ],
             [
              0.4444444444444444,
              "#bd3786"
             ],
             [
              0.5555555555555556,
              "#d8576b"
             ],
             [
              0.6666666666666666,
              "#ed7953"
             ],
             [
              0.7777777777777778,
              "#fb9f3a"
             ],
             [
              0.8888888888888888,
              "#fdca26"
             ],
             [
              1,
              "#f0f921"
             ]
            ],
            "type": "heatmap"
           }
          ],
          "heatmapgl": [
           {
            "colorbar": {
             "outlinewidth": 0,
             "ticks": ""
            },
            "colorscale": [
             [
              0,
              "#0d0887"
             ],
             [
              0.1111111111111111,
              "#46039f"
             ],
             [
              0.2222222222222222,
              "#7201a8"
             ],
             [
              0.3333333333333333,
              "#9c179e"
             ],
             [
              0.4444444444444444,
              "#bd3786"
             ],
             [
              0.5555555555555556,
              "#d8576b"
             ],
             [
              0.6666666666666666,
              "#ed7953"
             ],
             [
              0.7777777777777778,
              "#fb9f3a"
             ],
             [
              0.8888888888888888,
              "#fdca26"
             ],
             [
              1,
              "#f0f921"
             ]
            ],
            "type": "heatmapgl"
           }
          ],
          "histogram": [
           {
            "marker": {
             "pattern": {
              "fillmode": "overlay",
              "size": 10,
              "solidity": 0.2
             }
            },
            "type": "histogram"
           }
          ],
          "histogram2d": [
           {
            "colorbar": {
             "outlinewidth": 0,
             "ticks": ""
            },
            "colorscale": [
             [
              0,
              "#0d0887"
             ],
             [
              0.1111111111111111,
              "#46039f"
             ],
             [
              0.2222222222222222,
              "#7201a8"
             ],
             [
              0.3333333333333333,
              "#9c179e"
             ],
             [
              0.4444444444444444,
              "#bd3786"
             ],
             [
              0.5555555555555556,
              "#d8576b"
             ],
             [
              0.6666666666666666,
              "#ed7953"
             ],
             [
              0.7777777777777778,
              "#fb9f3a"
             ],
             [
              0.8888888888888888,
              "#fdca26"
             ],
             [
              1,
              "#f0f921"
             ]
            ],
            "type": "histogram2d"
           }
          ],
          "histogram2dcontour": [
           {
            "colorbar": {
             "outlinewidth": 0,
             "ticks": ""
            },
            "colorscale": [
             [
              0,
              "#0d0887"
             ],
             [
              0.1111111111111111,
              "#46039f"
             ],
             [
              0.2222222222222222,
              "#7201a8"
             ],
             [
              0.3333333333333333,
              "#9c179e"
             ],
             [
              0.4444444444444444,
              "#bd3786"
             ],
             [
              0.5555555555555556,
              "#d8576b"
             ],
             [
              0.6666666666666666,
              "#ed7953"
             ],
             [
              0.7777777777777778,
              "#fb9f3a"
             ],
             [
              0.8888888888888888,
              "#fdca26"
             ],
             [
              1,
              "#f0f921"
             ]
            ],
            "type": "histogram2dcontour"
           }
          ],
          "mesh3d": [
           {
            "colorbar": {
             "outlinewidth": 0,
             "ticks": ""
            },
            "type": "mesh3d"
           }
          ],
          "parcoords": [
           {
            "line": {
             "colorbar": {
              "outlinewidth": 0,
              "ticks": ""
             }
            },
            "type": "parcoords"
           }
          ],
          "pie": [
           {
            "automargin": true,
            "type": "pie"
           }
          ],
          "scatter": [
           {
            "fillpattern": {
             "fillmode": "overlay",
             "size": 10,
             "solidity": 0.2
            },
            "type": "scatter"
           }
          ],
          "scatter3d": [
           {
            "line": {
             "colorbar": {
              "outlinewidth": 0,
              "ticks": ""
             }
            },
            "marker": {
             "colorbar": {
              "outlinewidth": 0,
              "ticks": ""
             }
            },
            "type": "scatter3d"
           }
          ],
          "scattercarpet": [
           {
            "marker": {
             "colorbar": {
              "outlinewidth": 0,
              "ticks": ""
             }
            },
            "type": "scattercarpet"
           }
          ],
          "scattergeo": [
           {
            "marker": {
             "colorbar": {
              "outlinewidth": 0,
              "ticks": ""
             }
            },
            "type": "scattergeo"
           }
          ],
          "scattergl": [
           {
            "marker": {
             "colorbar": {
              "outlinewidth": 0,
              "ticks": ""
             }
            },
            "type": "scattergl"
           }
          ],
          "scattermapbox": [
           {
            "marker": {
             "colorbar": {
              "outlinewidth": 0,
              "ticks": ""
             }
            },
            "type": "scattermapbox"
           }
          ],
          "scatterpolar": [
           {
            "marker": {
             "colorbar": {
              "outlinewidth": 0,
              "ticks": ""
             }
            },
            "type": "scatterpolar"
           }
          ],
          "scatterpolargl": [
           {
            "marker": {
             "colorbar": {
              "outlinewidth": 0,
              "ticks": ""
             }
            },
            "type": "scatterpolargl"
           }
          ],
          "scatterternary": [
           {
            "marker": {
             "colorbar": {
              "outlinewidth": 0,
              "ticks": ""
             }
            },
            "type": "scatterternary"
           }
          ],
          "surface": [
           {
            "colorbar": {
             "outlinewidth": 0,
             "ticks": ""
            },
            "colorscale": [
             [
              0,
              "#0d0887"
             ],
             [
              0.1111111111111111,
              "#46039f"
             ],
             [
              0.2222222222222222,
              "#7201a8"
             ],
             [
              0.3333333333333333,
              "#9c179e"
             ],
             [
              0.4444444444444444,
              "#bd3786"
             ],
             [
              0.5555555555555556,
              "#d8576b"
             ],
             [
              0.6666666666666666,
              "#ed7953"
             ],
             [
              0.7777777777777778,
              "#fb9f3a"
             ],
             [
              0.8888888888888888,
              "#fdca26"
             ],
             [
              1,
              "#f0f921"
             ]
            ],
            "type": "surface"
           }
          ],
          "table": [
           {
            "cells": {
             "fill": {
              "color": "#EBF0F8"
             },
             "line": {
              "color": "white"
             }
            },
            "header": {
             "fill": {
              "color": "#C8D4E3"
             },
             "line": {
              "color": "white"
             }
            },
            "type": "table"
           }
          ]
         },
         "layout": {
          "annotationdefaults": {
           "arrowcolor": "#2a3f5f",
           "arrowhead": 0,
           "arrowwidth": 1
          },
          "autotypenumbers": "strict",
          "coloraxis": {
           "colorbar": {
            "outlinewidth": 0,
            "ticks": ""
           }
          },
          "colorscale": {
           "diverging": [
            [
             0,
             "#8e0152"
            ],
            [
             0.1,
             "#c51b7d"
            ],
            [
             0.2,
             "#de77ae"
            ],
            [
             0.3,
             "#f1b6da"
            ],
            [
             0.4,
             "#fde0ef"
            ],
            [
             0.5,
             "#f7f7f7"
            ],
            [
             0.6,
             "#e6f5d0"
            ],
            [
             0.7,
             "#b8e186"
            ],
            [
             0.8,
             "#7fbc41"
            ],
            [
             0.9,
             "#4d9221"
            ],
            [
             1,
             "#276419"
            ]
           ],
           "sequential": [
            [
             0,
             "#0d0887"
            ],
            [
             0.1111111111111111,
             "#46039f"
            ],
            [
             0.2222222222222222,
             "#7201a8"
            ],
            [
             0.3333333333333333,
             "#9c179e"
            ],
            [
             0.4444444444444444,
             "#bd3786"
            ],
            [
             0.5555555555555556,
             "#d8576b"
            ],
            [
             0.6666666666666666,
             "#ed7953"
            ],
            [
             0.7777777777777778,
             "#fb9f3a"
            ],
            [
             0.8888888888888888,
             "#fdca26"
            ],
            [
             1,
             "#f0f921"
            ]
           ],
           "sequentialminus": [
            [
             0,
             "#0d0887"
            ],
            [
             0.1111111111111111,
             "#46039f"
            ],
            [
             0.2222222222222222,
             "#7201a8"
            ],
            [
             0.3333333333333333,
             "#9c179e"
            ],
            [
             0.4444444444444444,
             "#bd3786"
            ],
            [
             0.5555555555555556,
             "#d8576b"
            ],
            [
             0.6666666666666666,
             "#ed7953"
            ],
            [
             0.7777777777777778,
             "#fb9f3a"
            ],
            [
             0.8888888888888888,
             "#fdca26"
            ],
            [
             1,
             "#f0f921"
            ]
           ]
          },
          "colorway": [
           "#636efa",
           "#EF553B",
           "#00cc96",
           "#ab63fa",
           "#FFA15A",
           "#19d3f3",
           "#FF6692",
           "#B6E880",
           "#FF97FF",
           "#FECB52"
          ],
          "font": {
           "color": "#2a3f5f"
          },
          "geo": {
           "bgcolor": "white",
           "lakecolor": "white",
           "landcolor": "#E5ECF6",
           "showlakes": true,
           "showland": true,
           "subunitcolor": "white"
          },
          "hoverlabel": {
           "align": "left"
          },
          "hovermode": "closest",
          "mapbox": {
           "style": "light"
          },
          "paper_bgcolor": "white",
          "plot_bgcolor": "#E5ECF6",
          "polar": {
           "angularaxis": {
            "gridcolor": "white",
            "linecolor": "white",
            "ticks": ""
           },
           "bgcolor": "#E5ECF6",
           "radialaxis": {
            "gridcolor": "white",
            "linecolor": "white",
            "ticks": ""
           }
          },
          "scene": {
           "xaxis": {
            "backgroundcolor": "#E5ECF6",
            "gridcolor": "white",
            "gridwidth": 2,
            "linecolor": "white",
            "showbackground": true,
            "ticks": "",
            "zerolinecolor": "white"
           },
           "yaxis": {
            "backgroundcolor": "#E5ECF6",
            "gridcolor": "white",
            "gridwidth": 2,
            "linecolor": "white",
            "showbackground": true,
            "ticks": "",
            "zerolinecolor": "white"
           },
           "zaxis": {
            "backgroundcolor": "#E5ECF6",
            "gridcolor": "white",
            "gridwidth": 2,
            "linecolor": "white",
            "showbackground": true,
            "ticks": "",
            "zerolinecolor": "white"
           }
          },
          "shapedefaults": {
           "line": {
            "color": "#2a3f5f"
           }
          },
          "ternary": {
           "aaxis": {
            "gridcolor": "white",
            "linecolor": "white",
            "ticks": ""
           },
           "baxis": {
            "gridcolor": "white",
            "linecolor": "white",
            "ticks": ""
           },
           "bgcolor": "#E5ECF6",
           "caxis": {
            "gridcolor": "white",
            "linecolor": "white",
            "ticks": ""
           }
          },
          "title": {
           "x": 0.05
          },
          "xaxis": {
           "automargin": true,
           "gridcolor": "white",
           "linecolor": "white",
           "ticks": "",
           "title": {
            "standoff": 15
           },
           "zerolinecolor": "white",
           "zerolinewidth": 2
          },
          "yaxis": {
           "automargin": true,
           "gridcolor": "white",
           "linecolor": "white",
           "ticks": "",
           "title": {
            "standoff": 15
           },
           "zerolinecolor": "white",
           "zerolinewidth": 2
          }
         }
        },
        "title": {
         "text": "Distribution of tastes of Hungary"
        }
       }
      }
     },
     "metadata": {},
     "output_type": "display_data"
    }
   ],
   "source": [
    "fig = px.pie(hu_df, values = \"count(*)\", names=\"group_name\", title = \"Distribution of tastes of Hungary\")\n",
    "fig.show()"
   ]
  },
  {
   "cell_type": "markdown",
   "metadata": {},
   "source": [
    "Investigating the wine producing countries"
   ]
  },
  {
   "cell_type": "code",
   "execution_count": 13,
   "metadata": {},
   "outputs": [
    {
     "data": {
      "text/html": [
       "<div>\n",
       "<style scoped>\n",
       "    .dataframe tbody tr th:only-of-type {\n",
       "        vertical-align: middle;\n",
       "    }\n",
       "\n",
       "    .dataframe tbody tr th {\n",
       "        vertical-align: top;\n",
       "    }\n",
       "\n",
       "    .dataframe thead th {\n",
       "        text-align: right;\n",
       "    }\n",
       "</style>\n",
       "<table border=\"1\" class=\"dataframe\">\n",
       "  <thead>\n",
       "    <tr style=\"text-align: right;\">\n",
       "      <th></th>\n",
       "      <th>country_name</th>\n",
       "      <th>wine_name</th>\n",
       "      <th>average_ratings</th>\n",
       "    </tr>\n",
       "  </thead>\n",
       "  <tbody>\n",
       "    <tr>\n",
       "      <th>0</th>\n",
       "      <td>États-Unis</td>\n",
       "      <td>Cabernet Sauvignon</td>\n",
       "      <td>4.8</td>\n",
       "    </tr>\n",
       "    <tr>\n",
       "      <th>1</th>\n",
       "      <td>Italie</td>\n",
       "      <td>Amarone della Valpolicella Classico Riserva</td>\n",
       "      <td>4.8</td>\n",
       "    </tr>\n",
       "    <tr>\n",
       "      <th>2</th>\n",
       "      <td>France</td>\n",
       "      <td>Cristal Rosé Vinothèque</td>\n",
       "      <td>4.8</td>\n",
       "    </tr>\n",
       "    <tr>\n",
       "      <th>3</th>\n",
       "      <td>Espagne</td>\n",
       "      <td>Mágico</td>\n",
       "      <td>4.8</td>\n",
       "    </tr>\n",
       "    <tr>\n",
       "      <th>4</th>\n",
       "      <td>Hongrie</td>\n",
       "      <td>Eszencia</td>\n",
       "      <td>4.7</td>\n",
       "    </tr>\n",
       "    <tr>\n",
       "      <th>5</th>\n",
       "      <td>Australie</td>\n",
       "      <td>Grange</td>\n",
       "      <td>4.7</td>\n",
       "    </tr>\n",
       "    <tr>\n",
       "      <th>6</th>\n",
       "      <td>Allemagne</td>\n",
       "      <td>Scharzhofberger Riesling Eiswein</td>\n",
       "      <td>4.7</td>\n",
       "    </tr>\n",
       "    <tr>\n",
       "      <th>7</th>\n",
       "      <td>Afrique du Sud</td>\n",
       "      <td>Book 17 XVII</td>\n",
       "      <td>4.7</td>\n",
       "    </tr>\n",
       "    <tr>\n",
       "      <th>8</th>\n",
       "      <td>Portugal</td>\n",
       "      <td>Tordiz 40 Year Old Tawny Port</td>\n",
       "      <td>4.6</td>\n",
       "    </tr>\n",
       "    <tr>\n",
       "      <th>9</th>\n",
       "      <td>Chili</td>\n",
       "      <td>Almaviva</td>\n",
       "      <td>4.6</td>\n",
       "    </tr>\n",
       "  </tbody>\n",
       "</table>\n",
       "</div>"
      ],
      "text/plain": [
       "     country_name                                    wine_name  \\\n",
       "0      États-Unis                           Cabernet Sauvignon   \n",
       "1          Italie  Amarone della Valpolicella Classico Riserva   \n",
       "2          France                      Cristal Rosé Vinothèque   \n",
       "3         Espagne                                       Mágico   \n",
       "4         Hongrie                                     Eszencia   \n",
       "5       Australie                                       Grange   \n",
       "6       Allemagne             Scharzhofberger Riesling Eiswein   \n",
       "7  Afrique du Sud                                 Book 17 XVII   \n",
       "8        Portugal                Tordiz 40 Year Old Tawny Port   \n",
       "9           Chili                                     Almaviva   \n",
       "\n",
       "   average_ratings  \n",
       "0              4.8  \n",
       "1              4.8  \n",
       "2              4.8  \n",
       "3              4.8  \n",
       "4              4.7  \n",
       "5              4.7  \n",
       "6              4.7  \n",
       "7              4.7  \n",
       "8              4.6  \n",
       "9              4.6  "
      ]
     },
     "execution_count": 13,
     "metadata": {},
     "output_type": "execute_result"
    }
   ],
   "source": [
    "query_countries = \"\"\"SELECT countries.name AS country_name, wines.name AS wine_name, MAX(ratings_average) AS average_ratings\n",
    "                FROM countries\n",
    "JOIN regions ON countries.code == regions.country_code\n",
    "JOIN wines ON wines.region_id == regions.id\n",
    "GROUP BY country_name\n",
    "ORDER BY average_ratings DESC\n",
    "LIMIT 10;\"\"\"\n",
    "\n",
    "countries_df = pd.read_sql_query(query_countries, conn)\n",
    "countries_df"
   ]
  },
  {
   "cell_type": "code",
   "execution_count": 14,
   "metadata": {},
   "outputs": [
    {
     "data": {
      "application/vnd.plotly.v1+json": {
       "config": {
        "plotlyServerURL": "https://plot.ly"
       },
       "data": [
        {
         "alignmentgroup": "True",
         "hovertemplate": "country_name=%{x}<br>average_ratings=%{y}<extra></extra>",
         "legendgroup": "",
         "marker": {
          "color": "#636efa",
          "pattern": {
           "shape": ""
          }
         },
         "name": "",
         "offsetgroup": "",
         "orientation": "v",
         "showlegend": false,
         "textposition": "auto",
         "type": "bar",
         "x": [
          "États-Unis",
          "Italie",
          "France",
          "Espagne",
          "Hongrie",
          "Australie",
          "Allemagne",
          "Afrique du Sud",
          "Portugal",
          "Chili"
         ],
         "xaxis": "x",
         "y": [
          4.8,
          4.8,
          4.8,
          4.8,
          4.7,
          4.7,
          4.7,
          4.7,
          4.6,
          4.6
         ],
         "yaxis": "y"
        }
       ],
       "layout": {
        "barmode": "relative",
        "legend": {
         "tracegroupgap": 0
        },
        "margin": {
         "t": 60
        },
        "template": {
         "data": {
          "bar": [
           {
            "error_x": {
             "color": "#2a3f5f"
            },
            "error_y": {
             "color": "#2a3f5f"
            },
            "marker": {
             "line": {
              "color": "#E5ECF6",
              "width": 0.5
             },
             "pattern": {
              "fillmode": "overlay",
              "size": 10,
              "solidity": 0.2
             }
            },
            "type": "bar"
           }
          ],
          "barpolar": [
           {
            "marker": {
             "line": {
              "color": "#E5ECF6",
              "width": 0.5
             },
             "pattern": {
              "fillmode": "overlay",
              "size": 10,
              "solidity": 0.2
             }
            },
            "type": "barpolar"
           }
          ],
          "carpet": [
           {
            "aaxis": {
             "endlinecolor": "#2a3f5f",
             "gridcolor": "white",
             "linecolor": "white",
             "minorgridcolor": "white",
             "startlinecolor": "#2a3f5f"
            },
            "baxis": {
             "endlinecolor": "#2a3f5f",
             "gridcolor": "white",
             "linecolor": "white",
             "minorgridcolor": "white",
             "startlinecolor": "#2a3f5f"
            },
            "type": "carpet"
           }
          ],
          "choropleth": [
           {
            "colorbar": {
             "outlinewidth": 0,
             "ticks": ""
            },
            "type": "choropleth"
           }
          ],
          "contour": [
           {
            "colorbar": {
             "outlinewidth": 0,
             "ticks": ""
            },
            "colorscale": [
             [
              0,
              "#0d0887"
             ],
             [
              0.1111111111111111,
              "#46039f"
             ],
             [
              0.2222222222222222,
              "#7201a8"
             ],
             [
              0.3333333333333333,
              "#9c179e"
             ],
             [
              0.4444444444444444,
              "#bd3786"
             ],
             [
              0.5555555555555556,
              "#d8576b"
             ],
             [
              0.6666666666666666,
              "#ed7953"
             ],
             [
              0.7777777777777778,
              "#fb9f3a"
             ],
             [
              0.8888888888888888,
              "#fdca26"
             ],
             [
              1,
              "#f0f921"
             ]
            ],
            "type": "contour"
           }
          ],
          "contourcarpet": [
           {
            "colorbar": {
             "outlinewidth": 0,
             "ticks": ""
            },
            "type": "contourcarpet"
           }
          ],
          "heatmap": [
           {
            "colorbar": {
             "outlinewidth": 0,
             "ticks": ""
            },
            "colorscale": [
             [
              0,
              "#0d0887"
             ],
             [
              0.1111111111111111,
              "#46039f"
             ],
             [
              0.2222222222222222,
              "#7201a8"
             ],
             [
              0.3333333333333333,
              "#9c179e"
             ],
             [
              0.4444444444444444,
              "#bd3786"
             ],
             [
              0.5555555555555556,
              "#d8576b"
             ],
             [
              0.6666666666666666,
              "#ed7953"
             ],
             [
              0.7777777777777778,
              "#fb9f3a"
             ],
             [
              0.8888888888888888,
              "#fdca26"
             ],
             [
              1,
              "#f0f921"
             ]
            ],
            "type": "heatmap"
           }
          ],
          "heatmapgl": [
           {
            "colorbar": {
             "outlinewidth": 0,
             "ticks": ""
            },
            "colorscale": [
             [
              0,
              "#0d0887"
             ],
             [
              0.1111111111111111,
              "#46039f"
             ],
             [
              0.2222222222222222,
              "#7201a8"
             ],
             [
              0.3333333333333333,
              "#9c179e"
             ],
             [
              0.4444444444444444,
              "#bd3786"
             ],
             [
              0.5555555555555556,
              "#d8576b"
             ],
             [
              0.6666666666666666,
              "#ed7953"
             ],
             [
              0.7777777777777778,
              "#fb9f3a"
             ],
             [
              0.8888888888888888,
              "#fdca26"
             ],
             [
              1,
              "#f0f921"
             ]
            ],
            "type": "heatmapgl"
           }
          ],
          "histogram": [
           {
            "marker": {
             "pattern": {
              "fillmode": "overlay",
              "size": 10,
              "solidity": 0.2
             }
            },
            "type": "histogram"
           }
          ],
          "histogram2d": [
           {
            "colorbar": {
             "outlinewidth": 0,
             "ticks": ""
            },
            "colorscale": [
             [
              0,
              "#0d0887"
             ],
             [
              0.1111111111111111,
              "#46039f"
             ],
             [
              0.2222222222222222,
              "#7201a8"
             ],
             [
              0.3333333333333333,
              "#9c179e"
             ],
             [
              0.4444444444444444,
              "#bd3786"
             ],
             [
              0.5555555555555556,
              "#d8576b"
             ],
             [
              0.6666666666666666,
              "#ed7953"
             ],
             [
              0.7777777777777778,
              "#fb9f3a"
             ],
             [
              0.8888888888888888,
              "#fdca26"
             ],
             [
              1,
              "#f0f921"
             ]
            ],
            "type": "histogram2d"
           }
          ],
          "histogram2dcontour": [
           {
            "colorbar": {
             "outlinewidth": 0,
             "ticks": ""
            },
            "colorscale": [
             [
              0,
              "#0d0887"
             ],
             [
              0.1111111111111111,
              "#46039f"
             ],
             [
              0.2222222222222222,
              "#7201a8"
             ],
             [
              0.3333333333333333,
              "#9c179e"
             ],
             [
              0.4444444444444444,
              "#bd3786"
             ],
             [
              0.5555555555555556,
              "#d8576b"
             ],
             [
              0.6666666666666666,
              "#ed7953"
             ],
             [
              0.7777777777777778,
              "#fb9f3a"
             ],
             [
              0.8888888888888888,
              "#fdca26"
             ],
             [
              1,
              "#f0f921"
             ]
            ],
            "type": "histogram2dcontour"
           }
          ],
          "mesh3d": [
           {
            "colorbar": {
             "outlinewidth": 0,
             "ticks": ""
            },
            "type": "mesh3d"
           }
          ],
          "parcoords": [
           {
            "line": {
             "colorbar": {
              "outlinewidth": 0,
              "ticks": ""
             }
            },
            "type": "parcoords"
           }
          ],
          "pie": [
           {
            "automargin": true,
            "type": "pie"
           }
          ],
          "scatter": [
           {
            "fillpattern": {
             "fillmode": "overlay",
             "size": 10,
             "solidity": 0.2
            },
            "type": "scatter"
           }
          ],
          "scatter3d": [
           {
            "line": {
             "colorbar": {
              "outlinewidth": 0,
              "ticks": ""
             }
            },
            "marker": {
             "colorbar": {
              "outlinewidth": 0,
              "ticks": ""
             }
            },
            "type": "scatter3d"
           }
          ],
          "scattercarpet": [
           {
            "marker": {
             "colorbar": {
              "outlinewidth": 0,
              "ticks": ""
             }
            },
            "type": "scattercarpet"
           }
          ],
          "scattergeo": [
           {
            "marker": {
             "colorbar": {
              "outlinewidth": 0,
              "ticks": ""
             }
            },
            "type": "scattergeo"
           }
          ],
          "scattergl": [
           {
            "marker": {
             "colorbar": {
              "outlinewidth": 0,
              "ticks": ""
             }
            },
            "type": "scattergl"
           }
          ],
          "scattermapbox": [
           {
            "marker": {
             "colorbar": {
              "outlinewidth": 0,
              "ticks": ""
             }
            },
            "type": "scattermapbox"
           }
          ],
          "scatterpolar": [
           {
            "marker": {
             "colorbar": {
              "outlinewidth": 0,
              "ticks": ""
             }
            },
            "type": "scatterpolar"
           }
          ],
          "scatterpolargl": [
           {
            "marker": {
             "colorbar": {
              "outlinewidth": 0,
              "ticks": ""
             }
            },
            "type": "scatterpolargl"
           }
          ],
          "scatterternary": [
           {
            "marker": {
             "colorbar": {
              "outlinewidth": 0,
              "ticks": ""
             }
            },
            "type": "scatterternary"
           }
          ],
          "surface": [
           {
            "colorbar": {
             "outlinewidth": 0,
             "ticks": ""
            },
            "colorscale": [
             [
              0,
              "#0d0887"
             ],
             [
              0.1111111111111111,
              "#46039f"
             ],
             [
              0.2222222222222222,
              "#7201a8"
             ],
             [
              0.3333333333333333,
              "#9c179e"
             ],
             [
              0.4444444444444444,
              "#bd3786"
             ],
             [
              0.5555555555555556,
              "#d8576b"
             ],
             [
              0.6666666666666666,
              "#ed7953"
             ],
             [
              0.7777777777777778,
              "#fb9f3a"
             ],
             [
              0.8888888888888888,
              "#fdca26"
             ],
             [
              1,
              "#f0f921"
             ]
            ],
            "type": "surface"
           }
          ],
          "table": [
           {
            "cells": {
             "fill": {
              "color": "#EBF0F8"
             },
             "line": {
              "color": "white"
             }
            },
            "header": {
             "fill": {
              "color": "#C8D4E3"
             },
             "line": {
              "color": "white"
             }
            },
            "type": "table"
           }
          ]
         },
         "layout": {
          "annotationdefaults": {
           "arrowcolor": "#2a3f5f",
           "arrowhead": 0,
           "arrowwidth": 1
          },
          "autotypenumbers": "strict",
          "coloraxis": {
           "colorbar": {
            "outlinewidth": 0,
            "ticks": ""
           }
          },
          "colorscale": {
           "diverging": [
            [
             0,
             "#8e0152"
            ],
            [
             0.1,
             "#c51b7d"
            ],
            [
             0.2,
             "#de77ae"
            ],
            [
             0.3,
             "#f1b6da"
            ],
            [
             0.4,
             "#fde0ef"
            ],
            [
             0.5,
             "#f7f7f7"
            ],
            [
             0.6,
             "#e6f5d0"
            ],
            [
             0.7,
             "#b8e186"
            ],
            [
             0.8,
             "#7fbc41"
            ],
            [
             0.9,
             "#4d9221"
            ],
            [
             1,
             "#276419"
            ]
           ],
           "sequential": [
            [
             0,
             "#0d0887"
            ],
            [
             0.1111111111111111,
             "#46039f"
            ],
            [
             0.2222222222222222,
             "#7201a8"
            ],
            [
             0.3333333333333333,
             "#9c179e"
            ],
            [
             0.4444444444444444,
             "#bd3786"
            ],
            [
             0.5555555555555556,
             "#d8576b"
            ],
            [
             0.6666666666666666,
             "#ed7953"
            ],
            [
             0.7777777777777778,
             "#fb9f3a"
            ],
            [
             0.8888888888888888,
             "#fdca26"
            ],
            [
             1,
             "#f0f921"
            ]
           ],
           "sequentialminus": [
            [
             0,
             "#0d0887"
            ],
            [
             0.1111111111111111,
             "#46039f"
            ],
            [
             0.2222222222222222,
             "#7201a8"
            ],
            [
             0.3333333333333333,
             "#9c179e"
            ],
            [
             0.4444444444444444,
             "#bd3786"
            ],
            [
             0.5555555555555556,
             "#d8576b"
            ],
            [
             0.6666666666666666,
             "#ed7953"
            ],
            [
             0.7777777777777778,
             "#fb9f3a"
            ],
            [
             0.8888888888888888,
             "#fdca26"
            ],
            [
             1,
             "#f0f921"
            ]
           ]
          },
          "colorway": [
           "#636efa",
           "#EF553B",
           "#00cc96",
           "#ab63fa",
           "#FFA15A",
           "#19d3f3",
           "#FF6692",
           "#B6E880",
           "#FF97FF",
           "#FECB52"
          ],
          "font": {
           "color": "#2a3f5f"
          },
          "geo": {
           "bgcolor": "white",
           "lakecolor": "white",
           "landcolor": "#E5ECF6",
           "showlakes": true,
           "showland": true,
           "subunitcolor": "white"
          },
          "hoverlabel": {
           "align": "left"
          },
          "hovermode": "closest",
          "mapbox": {
           "style": "light"
          },
          "paper_bgcolor": "white",
          "plot_bgcolor": "#E5ECF6",
          "polar": {
           "angularaxis": {
            "gridcolor": "white",
            "linecolor": "white",
            "ticks": ""
           },
           "bgcolor": "#E5ECF6",
           "radialaxis": {
            "gridcolor": "white",
            "linecolor": "white",
            "ticks": ""
           }
          },
          "scene": {
           "xaxis": {
            "backgroundcolor": "#E5ECF6",
            "gridcolor": "white",
            "gridwidth": 2,
            "linecolor": "white",
            "showbackground": true,
            "ticks": "",
            "zerolinecolor": "white"
           },
           "yaxis": {
            "backgroundcolor": "#E5ECF6",
            "gridcolor": "white",
            "gridwidth": 2,
            "linecolor": "white",
            "showbackground": true,
            "ticks": "",
            "zerolinecolor": "white"
           },
           "zaxis": {
            "backgroundcolor": "#E5ECF6",
            "gridcolor": "white",
            "gridwidth": 2,
            "linecolor": "white",
            "showbackground": true,
            "ticks": "",
            "zerolinecolor": "white"
           }
          },
          "shapedefaults": {
           "line": {
            "color": "#2a3f5f"
           }
          },
          "ternary": {
           "aaxis": {
            "gridcolor": "white",
            "linecolor": "white",
            "ticks": ""
           },
           "baxis": {
            "gridcolor": "white",
            "linecolor": "white",
            "ticks": ""
           },
           "bgcolor": "#E5ECF6",
           "caxis": {
            "gridcolor": "white",
            "linecolor": "white",
            "ticks": ""
           }
          },
          "title": {
           "x": 0.05
          },
          "xaxis": {
           "automargin": true,
           "gridcolor": "white",
           "linecolor": "white",
           "ticks": "",
           "title": {
            "standoff": 15
           },
           "zerolinecolor": "white",
           "zerolinewidth": 2
          },
          "yaxis": {
           "automargin": true,
           "gridcolor": "white",
           "linecolor": "white",
           "ticks": "",
           "title": {
            "standoff": 15
           },
           "zerolinecolor": "white",
           "zerolinewidth": 2
          }
         }
        },
        "xaxis": {
         "anchor": "y",
         "domain": [
          0,
          1
         ],
         "title": {
          "text": "country_name"
         }
        },
        "yaxis": {
         "anchor": "x",
         "domain": [
          0,
          1
         ],
         "title": {
          "text": "average_ratings"
         }
        }
       }
      }
     },
     "metadata": {},
     "output_type": "display_data"
    }
   ],
   "source": [
    "fig = px.bar(countries_df, x = \"country_name\", y=\"average_ratings\")\n",
    "fig.show()"
   ]
  },
  {
   "cell_type": "markdown",
   "metadata": {},
   "source": [
    "FINDING THE 3 BEST WINERIEs"
   ]
  },
  {
   "cell_type": "code",
   "execution_count": 15,
   "metadata": {},
   "outputs": [
    {
     "data": {
      "text/html": [
       "<div>\n",
       "<style scoped>\n",
       "    .dataframe tbody tr th:only-of-type {\n",
       "        vertical-align: middle;\n",
       "    }\n",
       "\n",
       "    .dataframe tbody tr th {\n",
       "        vertical-align: top;\n",
       "    }\n",
       "\n",
       "    .dataframe thead th {\n",
       "        text-align: right;\n",
       "    }\n",
       "</style>\n",
       "<table border=\"1\" class=\"dataframe\">\n",
       "  <thead>\n",
       "    <tr style=\"text-align: right;\">\n",
       "      <th></th>\n",
       "      <th>winery_name</th>\n",
       "      <th>wine_name</th>\n",
       "    </tr>\n",
       "  </thead>\n",
       "  <tbody>\n",
       "    <tr>\n",
       "      <th>0</th>\n",
       "      <td>Tenuta Tignanello 'Solaia'</td>\n",
       "      <td>The Armagh Shiraz</td>\n",
       "    </tr>\n",
       "    <tr>\n",
       "      <th>1</th>\n",
       "      <td>Tignanello</td>\n",
       "      <td>Colheita Porto</td>\n",
       "    </tr>\n",
       "    <tr>\n",
       "      <th>2</th>\n",
       "      <td>Siepi</td>\n",
       "      <td>Lion Tamer Napa Valley Red Blend</td>\n",
       "    </tr>\n",
       "    <tr>\n",
       "      <th>3</th>\n",
       "      <td>Corte di Cama Sforzato di Valtellina</td>\n",
       "      <td>Raut Lagrein</td>\n",
       "    </tr>\n",
       "  </tbody>\n",
       "</table>\n",
       "</div>"
      ],
      "text/plain": [
       "                            winery_name                         wine_name\n",
       "0            Tenuta Tignanello 'Solaia'                 The Armagh Shiraz\n",
       "1                            Tignanello                    Colheita Porto\n",
       "2                                 Siepi  Lion Tamer Napa Valley Red Blend\n",
       "3  Corte di Cama Sforzato di Valtellina                      Raut Lagrein"
      ]
     },
     "execution_count": 15,
     "metadata": {},
     "output_type": "execute_result"
    }
   ],
   "source": [
    "query_all_wineries = \"\"\" SELECT wineries.name AS winery_name, wines.name AS wine_name FROM wineries\n",
    "JOIN wines ON wineries.id == wines.winery_id\"\"\"\n",
    "\n",
    "df_all_wineries = pd.read_sql_query(query_all_wineries, conn)\n",
    "df_all_wineries"
   ]
  },
  {
   "cell_type": "code",
   "execution_count": 16,
   "metadata": {},
   "outputs": [
    {
     "data": {
      "text/html": [
       "<div>\n",
       "<style scoped>\n",
       "    .dataframe tbody tr th:only-of-type {\n",
       "        vertical-align: middle;\n",
       "    }\n",
       "\n",
       "    .dataframe tbody tr th {\n",
       "        vertical-align: top;\n",
       "    }\n",
       "\n",
       "    .dataframe thead th {\n",
       "        text-align: right;\n",
       "    }\n",
       "</style>\n",
       "<table border=\"1\" class=\"dataframe\">\n",
       "  <thead>\n",
       "    <tr style=\"text-align: right;\">\n",
       "      <th></th>\n",
       "      <th>name_winery</th>\n",
       "      <th>average_rating</th>\n",
       "    </tr>\n",
       "  </thead>\n",
       "  <tbody>\n",
       "    <tr>\n",
       "      <th>0</th>\n",
       "      <td>Tenuta Tignanello 'Solaia'</td>\n",
       "      <td>4.425</td>\n",
       "    </tr>\n",
       "  </tbody>\n",
       "</table>\n",
       "</div>"
      ],
      "text/plain": [
       "                  name_winery  average_rating\n",
       "0  Tenuta Tignanello 'Solaia'           4.425"
      ]
     },
     "execution_count": 16,
     "metadata": {},
     "output_type": "execute_result"
    }
   ],
   "source": [
    "query_wineries = \"\"\"SELECT wineries.name AS name_winery, AVG(ratings_average) AS average_rating\n",
    "FROM wineries\n",
    "JOIN wines ON wines.winery_id = wineries.id\n",
    "--GROUP BY name_winery\n",
    "--ORDER BY average_rating DESC\n",
    "\"\"\"\n",
    "\n",
    "wineries_df = pd.read_sql_query(query_wineries,conn)\n",
    "wineries_df"
   ]
  },
  {
   "cell_type": "markdown",
   "metadata": {},
   "source": [
    "INVESTIGATING tastes: coffee, toast, green apple, cream, citrus"
   ]
  },
  {
   "cell_type": "code",
   "execution_count": 78,
   "metadata": {},
   "outputs": [
    {
     "data": {
      "text/html": [
       "<div>\n",
       "<style scoped>\n",
       "    .dataframe tbody tr th:only-of-type {\n",
       "        vertical-align: middle;\n",
       "    }\n",
       "\n",
       "    .dataframe tbody tr th {\n",
       "        vertical-align: top;\n",
       "    }\n",
       "\n",
       "    .dataframe thead th {\n",
       "        text-align: right;\n",
       "    }\n",
       "</style>\n",
       "<table border=\"1\" class=\"dataframe\">\n",
       "  <thead>\n",
       "    <tr style=\"text-align: right;\">\n",
       "      <th></th>\n",
       "      <th>taste_subtype</th>\n",
       "      <th>wine_name</th>\n",
       "      <th>ratings_average</th>\n",
       "      <th>count</th>\n",
       "    </tr>\n",
       "  </thead>\n",
       "  <tbody>\n",
       "    <tr>\n",
       "      <th>0</th>\n",
       "      <td>cream</td>\n",
       "      <td>'Giulio Ferrari' Riserva del Fondatore</td>\n",
       "      <td>4.6</td>\n",
       "      <td>72</td>\n",
       "    </tr>\n",
       "    <tr>\n",
       "      <th>1</th>\n",
       "      <td>coffee</td>\n",
       "      <td>25 anni Montefalco Sagrantino</td>\n",
       "      <td>4.3</td>\n",
       "      <td>23</td>\n",
       "    </tr>\n",
       "    <tr>\n",
       "      <th>2</th>\n",
       "      <td>green apple</td>\n",
       "      <td>5 Puttonyos Aszú (Blue Label)</td>\n",
       "      <td>4.4</td>\n",
       "      <td>12</td>\n",
       "    </tr>\n",
       "    <tr>\n",
       "      <th>3</th>\n",
       "      <td>coffee</td>\n",
       "      <td>5 Stelle Sfursat</td>\n",
       "      <td>4.5</td>\n",
       "      <td>35</td>\n",
       "    </tr>\n",
       "    <tr>\n",
       "      <th>4</th>\n",
       "      <td>coffee</td>\n",
       "      <td>50 &amp; 50</td>\n",
       "      <td>4.4</td>\n",
       "      <td>13</td>\n",
       "    </tr>\n",
       "    <tr>\n",
       "      <th>...</th>\n",
       "      <td>...</td>\n",
       "      <td>...</td>\n",
       "      <td>...</td>\n",
       "      <td>...</td>\n",
       "    </tr>\n",
       "    <tr>\n",
       "      <th>353</th>\n",
       "      <td>citrus</td>\n",
       "      <td>Vénus Blanc de Blancs Brut Nature Champagne Gr...</td>\n",
       "      <td>4.4</td>\n",
       "      <td>21</td>\n",
       "    </tr>\n",
       "    <tr>\n",
       "      <th>354</th>\n",
       "      <td>coffee</td>\n",
       "      <td>Vürsù Barbaresco Starderi</td>\n",
       "      <td>4.4</td>\n",
       "      <td>16</td>\n",
       "    </tr>\n",
       "    <tr>\n",
       "      <th>355</th>\n",
       "      <td>coffee</td>\n",
       "      <td>Vürsù Barolo Campè</td>\n",
       "      <td>4.4</td>\n",
       "      <td>13</td>\n",
       "    </tr>\n",
       "    <tr>\n",
       "      <th>356</th>\n",
       "      <td>coffee</td>\n",
       "      <td>Yarden Katzrin</td>\n",
       "      <td>4.5</td>\n",
       "      <td>17</td>\n",
       "    </tr>\n",
       "    <tr>\n",
       "      <th>357</th>\n",
       "      <td>coffee</td>\n",
       "      <td>d'Alceo</td>\n",
       "      <td>4.4</td>\n",
       "      <td>12</td>\n",
       "    </tr>\n",
       "  </tbody>\n",
       "</table>\n",
       "<p>358 rows × 4 columns</p>\n",
       "</div>"
      ],
      "text/plain": [
       "    taste_subtype                                          wine_name  \\\n",
       "0           cream             'Giulio Ferrari' Riserva del Fondatore   \n",
       "1          coffee                      25 anni Montefalco Sagrantino   \n",
       "2     green apple                      5 Puttonyos Aszú (Blue Label)   \n",
       "3          coffee                                   5 Stelle Sfursat   \n",
       "4          coffee                                            50 & 50   \n",
       "..            ...                                                ...   \n",
       "353        citrus  Vénus Blanc de Blancs Brut Nature Champagne Gr...   \n",
       "354        coffee                          Vürsù Barbaresco Starderi   \n",
       "355        coffee                                 Vürsù Barolo Campè   \n",
       "356        coffee                                     Yarden Katzrin   \n",
       "357        coffee                                            d'Alceo   \n",
       "\n",
       "     ratings_average  count  \n",
       "0                4.6     72  \n",
       "1                4.3     23  \n",
       "2                4.4     12  \n",
       "3                4.5     35  \n",
       "4                4.4     13  \n",
       "..               ...    ...  \n",
       "353              4.4     21  \n",
       "354              4.4     16  \n",
       "355              4.4     13  \n",
       "356              4.5     17  \n",
       "357              4.4     12  \n",
       "\n",
       "[358 rows x 4 columns]"
      ]
     },
     "execution_count": 78,
     "metadata": {},
     "output_type": "execute_result"
    }
   ],
   "source": [
    "query_tastes = \"\"\"SELECT keywords.name AS taste_subtype, wines.name AS wine_name, ratings_average, count FROM keywords_wine\n",
    "JOIN keywords ON keywords_wine.keyword_id = keywords.id\n",
    "JOIN wines ON keywords_wine.wine_id = wines.id\n",
    "WHERE keywords.name IN (\"coffee\", \"toast\", \"green apple\", \"cream\", \"citrus\") AND\n",
    "count > 10\n",
    "GROUP BY wine_name\n",
    "ORDER BY wine_name \n",
    "\"\"\"\n",
    "\n",
    "tastes_df = pd.read_sql_query(query_tastes, conn)\n",
    "\n",
    "tastes_df"
   ]
  },
  {
   "cell_type": "markdown",
   "metadata": {},
   "source": [
    "Looking for the wines that have all the five tastes"
   ]
  },
  {
   "cell_type": "code",
   "execution_count": 75,
   "metadata": {},
   "outputs": [
    {
     "data": {
      "text/html": [
       "<div>\n",
       "<style scoped>\n",
       "    .dataframe tbody tr th:only-of-type {\n",
       "        vertical-align: middle;\n",
       "    }\n",
       "\n",
       "    .dataframe tbody tr th {\n",
       "        vertical-align: top;\n",
       "    }\n",
       "\n",
       "    .dataframe thead th {\n",
       "        text-align: right;\n",
       "    }\n",
       "</style>\n",
       "<table border=\"1\" class=\"dataframe\">\n",
       "  <thead>\n",
       "    <tr style=\"text-align: right;\">\n",
       "      <th></th>\n",
       "      <th>tastes</th>\n",
       "      <th>wine_name</th>\n",
       "      <th>vintage_name</th>\n",
       "      <th>ratings_average</th>\n",
       "      <th>user_count</th>\n",
       "    </tr>\n",
       "  </thead>\n",
       "  <tbody>\n",
       "    <tr>\n",
       "      <th>0</th>\n",
       "      <td>green apple,toast,coffee,citrus,cream</td>\n",
       "      <td>Belle Epoque Brut Champagne</td>\n",
       "      <td>Perrier-Jouët Belle Epoque Brut Champagne 2013</td>\n",
       "      <td>4.5</td>\n",
       "      <td>224</td>\n",
       "    </tr>\n",
       "    <tr>\n",
       "      <th>1</th>\n",
       "      <td>toast,coffee,cream,citrus,green apple</td>\n",
       "      <td>Blanc des Millénaires</td>\n",
       "      <td>Charles Heidsieck Blanc des Millénaires 2007</td>\n",
       "      <td>4.6</td>\n",
       "      <td>160</td>\n",
       "    </tr>\n",
       "    <tr>\n",
       "      <th>2</th>\n",
       "      <td>toast,coffee,cream,green apple,citrus</td>\n",
       "      <td>Brut Champagne</td>\n",
       "      <td>Dom Pérignon Brut Champagne 2000</td>\n",
       "      <td>4.6</td>\n",
       "      <td>2165</td>\n",
       "    </tr>\n",
       "    <tr>\n",
       "      <th>3</th>\n",
       "      <td>toast,coffee,cream,citrus,green apple</td>\n",
       "      <td>Comtes de Champagne Blanc de Blancs</td>\n",
       "      <td>Taittinger Comtes de Champagne Blanc de Blancs...</td>\n",
       "      <td>4.5</td>\n",
       "      <td>587</td>\n",
       "    </tr>\n",
       "    <tr>\n",
       "      <th>4</th>\n",
       "      <td>toast,coffee,green apple,citrus,cream</td>\n",
       "      <td>Cristal Brut Champagne (Millésimé)</td>\n",
       "      <td>Louis Roederer Cristal Brut Champagne (Millési...</td>\n",
       "      <td>4.6</td>\n",
       "      <td>464</td>\n",
       "    </tr>\n",
       "    <tr>\n",
       "      <th>5</th>\n",
       "      <td>toast,coffee,cream,green apple,citrus</td>\n",
       "      <td>Cuvée des Enchanteleurs Brut Champagne</td>\n",
       "      <td>Henriot Cuvée des Enchanteleurs Brut Champagne...</td>\n",
       "      <td>4.5</td>\n",
       "      <td>31</td>\n",
       "    </tr>\n",
       "    <tr>\n",
       "      <th>6</th>\n",
       "      <td>toast,coffee,cream,green apple,citrus</td>\n",
       "      <td>Dom Ruinart Blanc de Blancs Brut Champagne</td>\n",
       "      <td>Ruinart Dom Ruinart Blanc de Blancs Brut Champ...</td>\n",
       "      <td>4.5</td>\n",
       "      <td>226</td>\n",
       "    </tr>\n",
       "    <tr>\n",
       "      <th>7</th>\n",
       "      <td>toast,coffee,cream,citrus,green apple</td>\n",
       "      <td>Grande Cuvée</td>\n",
       "      <td>Krug Grande Cuvée</td>\n",
       "      <td>4.6</td>\n",
       "      <td>713</td>\n",
       "    </tr>\n",
       "    <tr>\n",
       "      <th>8</th>\n",
       "      <td>toast,coffee,cream,green apple,citrus</td>\n",
       "      <td>La Grande Année Brut Champagne</td>\n",
       "      <td>Bollinger La Grande Année Brut Champagne 2012</td>\n",
       "      <td>4.5</td>\n",
       "      <td>525</td>\n",
       "    </tr>\n",
       "    <tr>\n",
       "      <th>9</th>\n",
       "      <td>toast,coffee,green apple,cream,citrus</td>\n",
       "      <td>La Grande Dame Brut Champagne</td>\n",
       "      <td>Veuve Clicquot La Grande Dame Brut Champagne 2008</td>\n",
       "      <td>4.5</td>\n",
       "      <td>244</td>\n",
       "    </tr>\n",
       "    <tr>\n",
       "      <th>10</th>\n",
       "      <td>citrus,toast,coffee,cream,green apple</td>\n",
       "      <td>Le Mesnil Blanc de Blancs (Cuvée S) Brut Champ...</td>\n",
       "      <td>Salon Le Mesnil Blanc de Blancs (Cuvée S) Brut...</td>\n",
       "      <td>4.7</td>\n",
       "      <td>240</td>\n",
       "    </tr>\n",
       "    <tr>\n",
       "      <th>11</th>\n",
       "      <td>coffee,toast,green apple,cream,citrus</td>\n",
       "      <td>MV</td>\n",
       "      <td>Henri Giraud MV 2016</td>\n",
       "      <td>4.5</td>\n",
       "      <td>10</td>\n",
       "    </tr>\n",
       "    <tr>\n",
       "      <th>12</th>\n",
       "      <td>toast,coffee,cream,green apple,citrus</td>\n",
       "      <td>P2 Plénitude Brut Champagne</td>\n",
       "      <td>Dom Pérignon P2 Plénitude Brut Champagne 2003</td>\n",
       "      <td>4.7</td>\n",
       "      <td>161</td>\n",
       "    </tr>\n",
       "    <tr>\n",
       "      <th>13</th>\n",
       "      <td>toast,coffee,cream,green apple,citrus</td>\n",
       "      <td>R.D Extra Brut Champagne (Récemment Dégorgé)</td>\n",
       "      <td>Bollinger R.D Extra Brut Champagne (Récemment ...</td>\n",
       "      <td>4.6</td>\n",
       "      <td>163</td>\n",
       "    </tr>\n",
       "    <tr>\n",
       "      <th>14</th>\n",
       "      <td>green apple,coffee,toast,citrus,cream</td>\n",
       "      <td>Sauternes</td>\n",
       "      <td>Château d'Yquem Sauternes 1962</td>\n",
       "      <td>4.7</td>\n",
       "      <td>13</td>\n",
       "    </tr>\n",
       "    <tr>\n",
       "      <th>15</th>\n",
       "      <td>green apple,coffee,toast,citrus,cream</td>\n",
       "      <td>Sauternes (Premier Grand Cru Classé)</td>\n",
       "      <td>Château Rieussec Sauternes (Premier Grand Cru ...</td>\n",
       "      <td>4.4</td>\n",
       "      <td>10</td>\n",
       "    </tr>\n",
       "    <tr>\n",
       "      <th>16</th>\n",
       "      <td>toast,coffee,cream,green apple,citrus</td>\n",
       "      <td>Sir Winston Churchill Brut Champagne</td>\n",
       "      <td>Pol Roger Sir Winston Churchill Brut Champagne...</td>\n",
       "      <td>4.6</td>\n",
       "      <td>282</td>\n",
       "    </tr>\n",
       "    <tr>\n",
       "      <th>17</th>\n",
       "      <td>coffee,green apple,citrus,toast,cream</td>\n",
       "      <td>Trebbiano d'Abruzzo</td>\n",
       "      <td>Valentini Trebbiano d'Abruzzo 2009</td>\n",
       "      <td>4.4</td>\n",
       "      <td>21</td>\n",
       "    </tr>\n",
       "    <tr>\n",
       "      <th>18</th>\n",
       "      <td>toast,coffee,cream,green apple,citrus</td>\n",
       "      <td>Vintage</td>\n",
       "      <td>Krug Vintage 1996</td>\n",
       "      <td>4.6</td>\n",
       "      <td>356</td>\n",
       "    </tr>\n",
       "  </tbody>\n",
       "</table>\n",
       "</div>"
      ],
      "text/plain": [
       "                                   tastes  \\\n",
       "0   green apple,toast,coffee,citrus,cream   \n",
       "1   toast,coffee,cream,citrus,green apple   \n",
       "2   toast,coffee,cream,green apple,citrus   \n",
       "3   toast,coffee,cream,citrus,green apple   \n",
       "4   toast,coffee,green apple,citrus,cream   \n",
       "5   toast,coffee,cream,green apple,citrus   \n",
       "6   toast,coffee,cream,green apple,citrus   \n",
       "7   toast,coffee,cream,citrus,green apple   \n",
       "8   toast,coffee,cream,green apple,citrus   \n",
       "9   toast,coffee,green apple,cream,citrus   \n",
       "10  citrus,toast,coffee,cream,green apple   \n",
       "11  coffee,toast,green apple,cream,citrus   \n",
       "12  toast,coffee,cream,green apple,citrus   \n",
       "13  toast,coffee,cream,green apple,citrus   \n",
       "14  green apple,coffee,toast,citrus,cream   \n",
       "15  green apple,coffee,toast,citrus,cream   \n",
       "16  toast,coffee,cream,green apple,citrus   \n",
       "17  coffee,green apple,citrus,toast,cream   \n",
       "18  toast,coffee,cream,green apple,citrus   \n",
       "\n",
       "                                            wine_name  \\\n",
       "0                         Belle Epoque Brut Champagne   \n",
       "1                               Blanc des Millénaires   \n",
       "2                                      Brut Champagne   \n",
       "3                 Comtes de Champagne Blanc de Blancs   \n",
       "4                  Cristal Brut Champagne (Millésimé)   \n",
       "5              Cuvée des Enchanteleurs Brut Champagne   \n",
       "6          Dom Ruinart Blanc de Blancs Brut Champagne   \n",
       "7                                        Grande Cuvée   \n",
       "8                      La Grande Année Brut Champagne   \n",
       "9                       La Grande Dame Brut Champagne   \n",
       "10  Le Mesnil Blanc de Blancs (Cuvée S) Brut Champ...   \n",
       "11                                                 MV   \n",
       "12                        P2 Plénitude Brut Champagne   \n",
       "13       R.D Extra Brut Champagne (Récemment Dégorgé)   \n",
       "14                                          Sauternes   \n",
       "15               Sauternes (Premier Grand Cru Classé)   \n",
       "16               Sir Winston Churchill Brut Champagne   \n",
       "17                                Trebbiano d'Abruzzo   \n",
       "18                                            Vintage   \n",
       "\n",
       "                                         vintage_name  ratings_average  \\\n",
       "0      Perrier-Jouët Belle Epoque Brut Champagne 2013              4.5   \n",
       "1        Charles Heidsieck Blanc des Millénaires 2007              4.6   \n",
       "2                    Dom Pérignon Brut Champagne 2000              4.6   \n",
       "3   Taittinger Comtes de Champagne Blanc de Blancs...              4.5   \n",
       "4   Louis Roederer Cristal Brut Champagne (Millési...              4.6   \n",
       "5   Henriot Cuvée des Enchanteleurs Brut Champagne...              4.5   \n",
       "6   Ruinart Dom Ruinart Blanc de Blancs Brut Champ...              4.5   \n",
       "7                                   Krug Grande Cuvée              4.6   \n",
       "8       Bollinger La Grande Année Brut Champagne 2012              4.5   \n",
       "9   Veuve Clicquot La Grande Dame Brut Champagne 2008              4.5   \n",
       "10  Salon Le Mesnil Blanc de Blancs (Cuvée S) Brut...              4.7   \n",
       "11                               Henri Giraud MV 2016              4.5   \n",
       "12      Dom Pérignon P2 Plénitude Brut Champagne 2003              4.7   \n",
       "13  Bollinger R.D Extra Brut Champagne (Récemment ...              4.6   \n",
       "14                     Château d'Yquem Sauternes 1962              4.7   \n",
       "15  Château Rieussec Sauternes (Premier Grand Cru ...              4.4   \n",
       "16  Pol Roger Sir Winston Churchill Brut Champagne...              4.6   \n",
       "17                 Valentini Trebbiano d'Abruzzo 2009              4.4   \n",
       "18                                  Krug Vintage 1996              4.6   \n",
       "\n",
       "    user_count  \n",
       "0          224  \n",
       "1          160  \n",
       "2         2165  \n",
       "3          587  \n",
       "4          464  \n",
       "5           31  \n",
       "6          226  \n",
       "7          713  \n",
       "8          525  \n",
       "9          244  \n",
       "10         240  \n",
       "11          10  \n",
       "12         161  \n",
       "13         163  \n",
       "14          13  \n",
       "15          10  \n",
       "16         282  \n",
       "17          21  \n",
       "18         356  "
      ]
     },
     "execution_count": 75,
     "metadata": {},
     "output_type": "execute_result"
    }
   ],
   "source": [
    "query_five_tastes = \"\"\"SELECT GROUP_CONCAT (DISTINCT(keywords.name)) AS tastes, wines.name AS wine_name, vintages.name AS vintage_name, wines.ratings_average, keywords_wine.count AS user_count FROM keywords_wine\n",
    "JOIN vintages ON wines.id = vintages.wine_id\n",
    "JOIN keywords ON keywords_wine.keyword_id = keywords.id\n",
    "JOIN wines ON keywords_wine.wine_id = wines.id\n",
    "WHERE keywords.name IN (\"coffee\", \"toast\", \"green apple\", \"cream\", \"citrus\") AND\n",
    "user_count >= 10\n",
    "GROUP BY wines.name\n",
    "HAVING COUNT(DISTINCT keywords.name) = 5\n",
    "ORDER BY wine_name\n",
    "\"\"\"\n",
    "\n",
    "five_tastes_df = pd.read_sql_query(query_five_tastes, conn)\n",
    "\n",
    "five_tastes_df"
   ]
  },
  {
   "cell_type": "code",
   "execution_count": 29,
   "metadata": {},
   "outputs": [
    {
     "data": {
      "text/html": [
       "<div>\n",
       "<style scoped>\n",
       "    .dataframe tbody tr th:only-of-type {\n",
       "        vertical-align: middle;\n",
       "    }\n",
       "\n",
       "    .dataframe tbody tr th {\n",
       "        vertical-align: top;\n",
       "    }\n",
       "\n",
       "    .dataframe thead th {\n",
       "        text-align: right;\n",
       "    }\n",
       "</style>\n",
       "<table border=\"1\" class=\"dataframe\">\n",
       "  <thead>\n",
       "    <tr style=\"text-align: right;\">\n",
       "      <th></th>\n",
       "      <th>taste_subtype</th>\n",
       "      <th>wine_name</th>\n",
       "      <th>ratings_average</th>\n",
       "      <th>user_structure_count</th>\n",
       "    </tr>\n",
       "  </thead>\n",
       "  <tbody>\n",
       "    <tr>\n",
       "      <th>0</th>\n",
       "      <td>citrus</td>\n",
       "      <td>Vintage</td>\n",
       "      <td>4.6</td>\n",
       "      <td>2167</td>\n",
       "    </tr>\n",
       "    <tr>\n",
       "      <th>1</th>\n",
       "      <td>coffee</td>\n",
       "      <td>Vintage</td>\n",
       "      <td>4.6</td>\n",
       "      <td>2167</td>\n",
       "    </tr>\n",
       "    <tr>\n",
       "      <th>2</th>\n",
       "      <td>coffee</td>\n",
       "      <td>Vintage</td>\n",
       "      <td>4.6</td>\n",
       "      <td>2167</td>\n",
       "    </tr>\n",
       "    <tr>\n",
       "      <th>3</th>\n",
       "      <td>cream</td>\n",
       "      <td>Vintage</td>\n",
       "      <td>4.6</td>\n",
       "      <td>2167</td>\n",
       "    </tr>\n",
       "    <tr>\n",
       "      <th>4</th>\n",
       "      <td>green apple</td>\n",
       "      <td>Vintage</td>\n",
       "      <td>4.6</td>\n",
       "      <td>2167</td>\n",
       "    </tr>\n",
       "    <tr>\n",
       "      <th>5</th>\n",
       "      <td>toast</td>\n",
       "      <td>Vintage</td>\n",
       "      <td>4.6</td>\n",
       "      <td>2167</td>\n",
       "    </tr>\n",
       "    <tr>\n",
       "      <th>6</th>\n",
       "      <td>toast</td>\n",
       "      <td>Vintage</td>\n",
       "      <td>4.6</td>\n",
       "      <td>2167</td>\n",
       "    </tr>\n",
       "  </tbody>\n",
       "</table>\n",
       "</div>"
      ],
      "text/plain": [
       "  taste_subtype wine_name  ratings_average  user_structure_count\n",
       "0        citrus   Vintage              4.6                  2167\n",
       "1        coffee   Vintage              4.6                  2167\n",
       "2        coffee   Vintage              4.6                  2167\n",
       "3         cream   Vintage              4.6                  2167\n",
       "4   green apple   Vintage              4.6                  2167\n",
       "5         toast   Vintage              4.6                  2167\n",
       "6         toast   Vintage              4.6                  2167"
      ]
     },
     "execution_count": 29,
     "metadata": {},
     "output_type": "execute_result"
    }
   ],
   "source": [
    "query_check_tastes = \"\"\"SELECT keywords.name AS taste_subtype, wines.name AS wine_name, ratings_average, user_structure_count FROM keywords_wine\n",
    "JOIN keywords ON keywords_wine.keyword_id = keywords.id\n",
    "JOIN wines ON keywords_wine.wine_id = wines.id\n",
    "WHERE keywords.name IN (\"coffee\", \"toast\", \"green apple\", \"cream\", \"citrus\") \n",
    "AND wine_name = \"Vintage\"\n",
    "ORDER BY wine_name \n",
    "\"\"\"\n",
    "\n",
    "check_df = pd.read_sql_query(query_check_tastes, conn)\n",
    "\n",
    "check_df"
   ]
  },
  {
   "cell_type": "markdown",
   "metadata": {},
   "source": [
    "TOP 3 MOST COMMON GRAPES - top 5 best wines"
   ]
  },
  {
   "cell_type": "code",
   "execution_count": 46,
   "metadata": {},
   "outputs": [
    {
     "data": {
      "text/html": [
       "<div>\n",
       "<style scoped>\n",
       "    .dataframe tbody tr th:only-of-type {\n",
       "        vertical-align: middle;\n",
       "    }\n",
       "\n",
       "    .dataframe tbody tr th {\n",
       "        vertical-align: top;\n",
       "    }\n",
       "\n",
       "    .dataframe thead th {\n",
       "        text-align: right;\n",
       "    }\n",
       "</style>\n",
       "<table border=\"1\" class=\"dataframe\">\n",
       "  <thead>\n",
       "    <tr style=\"text-align: right;\">\n",
       "      <th></th>\n",
       "      <th>name_of_grape</th>\n",
       "      <th>wines_count</th>\n",
       "    </tr>\n",
       "  </thead>\n",
       "  <tbody>\n",
       "    <tr>\n",
       "      <th>0</th>\n",
       "      <td>Cabernet Sauvignon</td>\n",
       "      <td>801751</td>\n",
       "    </tr>\n",
       "    <tr>\n",
       "      <th>1</th>\n",
       "      <td>Chardonnay</td>\n",
       "      <td>604208</td>\n",
       "    </tr>\n",
       "    <tr>\n",
       "      <th>2</th>\n",
       "      <td>Pinot Noir</td>\n",
       "      <td>572334</td>\n",
       "    </tr>\n",
       "  </tbody>\n",
       "</table>\n",
       "</div>"
      ],
      "text/plain": [
       "        name_of_grape  wines_count\n",
       "0  Cabernet Sauvignon       801751\n",
       "1          Chardonnay       604208\n",
       "2          Pinot Noir       572334"
      ]
     },
     "execution_count": 46,
     "metadata": {},
     "output_type": "execute_result"
    }
   ],
   "source": [
    "query_common_grapes = \"\"\"SELECT DISTINCT grapes.name AS name_of_grape, wines_count FROM grapes\n",
    "JOIN most_used_grapes_per_country ON most_used_grapes_per_country.grape_id = grapes.id\n",
    "--JOIN countries ON most_used_grapes_per_country.country_code = countries.code\n",
    "ORDER BY wines_count DESC\n",
    "LIMIT 3\n",
    "--GROUP BY country_code\n",
    "--JOIN most_used_grapes_per_country ON \n",
    "\"\"\"\n",
    "\n",
    "common_grapes_df = pd.read_sql_query(query_common_grapes, conn)\n",
    "common_grapes_df"
   ]
  },
  {
   "cell_type": "code",
   "execution_count": 57,
   "metadata": {},
   "outputs": [
    {
     "data": {
      "text/html": [
       "<div>\n",
       "<style scoped>\n",
       "    .dataframe tbody tr th:only-of-type {\n",
       "        vertical-align: middle;\n",
       "    }\n",
       "\n",
       "    .dataframe tbody tr th {\n",
       "        vertical-align: top;\n",
       "    }\n",
       "\n",
       "    .dataframe thead th {\n",
       "        text-align: right;\n",
       "    }\n",
       "</style>\n",
       "<table border=\"1\" class=\"dataframe\">\n",
       "  <thead>\n",
       "    <tr style=\"text-align: right;\">\n",
       "      <th></th>\n",
       "      <th>id</th>\n",
       "      <th>name</th>\n",
       "      <th>is_natural</th>\n",
       "      <th>region_id</th>\n",
       "      <th>winery_id</th>\n",
       "      <th>ratings_average</th>\n",
       "      <th>ratings_count</th>\n",
       "      <th>url</th>\n",
       "      <th>acidity</th>\n",
       "      <th>fizziness</th>\n",
       "      <th>intensity</th>\n",
       "      <th>sweetness</th>\n",
       "      <th>tannin</th>\n",
       "      <th>user_structure_count</th>\n",
       "    </tr>\n",
       "  </thead>\n",
       "  <tbody>\n",
       "    <tr>\n",
       "      <th>0</th>\n",
       "      <td>1611255</td>\n",
       "      <td>Cabernet Sauvignon</td>\n",
       "      <td>0</td>\n",
       "      <td>105</td>\n",
       "      <td>14919</td>\n",
       "      <td>4.8</td>\n",
       "      <td>2941</td>\n",
       "      <td>https://www.seulementproduitsitaliens.be/spec_...</td>\n",
       "      <td>3.304091</td>\n",
       "      <td>None</td>\n",
       "      <td>4.700800</td>\n",
       "      <td>1.758352</td>\n",
       "      <td>3.393993</td>\n",
       "      <td>295</td>\n",
       "    </tr>\n",
       "    <tr>\n",
       "      <th>1</th>\n",
       "      <td>66294</td>\n",
       "      <td>Special Selection Cabernet Sauvignon</td>\n",
       "      <td>0</td>\n",
       "      <td>25</td>\n",
       "      <td>1301</td>\n",
       "      <td>4.7</td>\n",
       "      <td>41236</td>\n",
       "      <td>https://www.seulementproduitsitaliens.be/spec_...</td>\n",
       "      <td>3.309514</td>\n",
       "      <td>None</td>\n",
       "      <td>4.761678</td>\n",
       "      <td>1.916873</td>\n",
       "      <td>3.202532</td>\n",
       "      <td>1866</td>\n",
       "    </tr>\n",
       "    <tr>\n",
       "      <th>2</th>\n",
       "      <td>3879</td>\n",
       "      <td>Cabernet Sauvignon (Signature)</td>\n",
       "      <td>0</td>\n",
       "      <td>25</td>\n",
       "      <td>1418</td>\n",
       "      <td>4.6</td>\n",
       "      <td>13730</td>\n",
       "      <td>https://artevino.be/product/darioush-signature...</td>\n",
       "      <td>3.405246</td>\n",
       "      <td>None</td>\n",
       "      <td>4.736395</td>\n",
       "      <td>1.590194</td>\n",
       "      <td>3.422338</td>\n",
       "      <td>811</td>\n",
       "    </tr>\n",
       "    <tr>\n",
       "      <th>3</th>\n",
       "      <td>66284</td>\n",
       "      <td>Cabernet Sauvignon</td>\n",
       "      <td>0</td>\n",
       "      <td>25</td>\n",
       "      <td>1301</td>\n",
       "      <td>4.6</td>\n",
       "      <td>157944</td>\n",
       "      <td>https://www.wereldwijnonline.be/caymus-caberne...</td>\n",
       "      <td>3.284369</td>\n",
       "      <td>None</td>\n",
       "      <td>4.748084</td>\n",
       "      <td>1.936713</td>\n",
       "      <td>3.146816</td>\n",
       "      <td>6325</td>\n",
       "    </tr>\n",
       "    <tr>\n",
       "      <th>4</th>\n",
       "      <td>87360</td>\n",
       "      <td>Beckstoffer To Kalon Vineyard Cabernet Sauvignon</td>\n",
       "      <td>0</td>\n",
       "      <td>42</td>\n",
       "      <td>11693</td>\n",
       "      <td>4.6</td>\n",
       "      <td>1557</td>\n",
       "      <td>https://joyvino.be/products/paul-hobbs-becksto...</td>\n",
       "      <td>3.356546</td>\n",
       "      <td>None</td>\n",
       "      <td>4.781501</td>\n",
       "      <td>1.604793</td>\n",
       "      <td>3.312944</td>\n",
       "      <td>86</td>\n",
       "    </tr>\n",
       "  </tbody>\n",
       "</table>\n",
       "</div>"
      ],
      "text/plain": [
       "        id                                              name  is_natural  \\\n",
       "0  1611255                                Cabernet Sauvignon           0   \n",
       "1    66294              Special Selection Cabernet Sauvignon           0   \n",
       "2     3879                    Cabernet Sauvignon (Signature)           0   \n",
       "3    66284                                Cabernet Sauvignon           0   \n",
       "4    87360  Beckstoffer To Kalon Vineyard Cabernet Sauvignon           0   \n",
       "\n",
       "   region_id  winery_id  ratings_average  ratings_count  \\\n",
       "0        105      14919              4.8           2941   \n",
       "1         25       1301              4.7          41236   \n",
       "2         25       1418              4.6          13730   \n",
       "3         25       1301              4.6         157944   \n",
       "4         42      11693              4.6           1557   \n",
       "\n",
       "                                                 url   acidity fizziness  \\\n",
       "0  https://www.seulementproduitsitaliens.be/spec_...  3.304091      None   \n",
       "1  https://www.seulementproduitsitaliens.be/spec_...  3.309514      None   \n",
       "2  https://artevino.be/product/darioush-signature...  3.405246      None   \n",
       "3  https://www.wereldwijnonline.be/caymus-caberne...  3.284369      None   \n",
       "4  https://joyvino.be/products/paul-hobbs-becksto...  3.356546      None   \n",
       "\n",
       "   intensity  sweetness    tannin  user_structure_count  \n",
       "0   4.700800   1.758352  3.393993                   295  \n",
       "1   4.761678   1.916873  3.202532                  1866  \n",
       "2   4.736395   1.590194  3.422338                   811  \n",
       "3   4.748084   1.936713  3.146816                  6325  \n",
       "4   4.781501   1.604793  3.312944                    86  "
      ]
     },
     "execution_count": 57,
     "metadata": {},
     "output_type": "execute_result"
    }
   ],
   "source": [
    "top_five_cabernet = \"\"\"SELECT * from wines\n",
    "WHERE name LIKE '%Cabernet Sauvignon%'\n",
    "ORDER BY ratings_average DESC\n",
    "LIMIT 5\"\"\"\n",
    "\n",
    "top_five_cab_df = pd.read_sql_query(top_five_cabernet, conn)\n",
    "top_five_cab_df"
   ]
  },
  {
   "cell_type": "code",
   "execution_count": 80,
   "metadata": {},
   "outputs": [
    {
     "data": {
      "text/html": [
       "<div>\n",
       "<style scoped>\n",
       "    .dataframe tbody tr th:only-of-type {\n",
       "        vertical-align: middle;\n",
       "    }\n",
       "\n",
       "    .dataframe tbody tr th {\n",
       "        vertical-align: top;\n",
       "    }\n",
       "\n",
       "    .dataframe thead th {\n",
       "        text-align: right;\n",
       "    }\n",
       "</style>\n",
       "<table border=\"1\" class=\"dataframe\">\n",
       "  <thead>\n",
       "    <tr style=\"text-align: right;\">\n",
       "      <th></th>\n",
       "      <th>id</th>\n",
       "      <th>name</th>\n",
       "      <th>is_natural</th>\n",
       "      <th>region_id</th>\n",
       "      <th>winery_id</th>\n",
       "      <th>ratings_average</th>\n",
       "      <th>ratings_count</th>\n",
       "      <th>url</th>\n",
       "      <th>acidity</th>\n",
       "      <th>fizziness</th>\n",
       "      <th>intensity</th>\n",
       "      <th>sweetness</th>\n",
       "      <th>tannin</th>\n",
       "      <th>user_structure_count</th>\n",
       "    </tr>\n",
       "  </thead>\n",
       "  <tbody>\n",
       "    <tr>\n",
       "      <th>0</th>\n",
       "      <td>17948</td>\n",
       "      <td>Finn Pinot Noir</td>\n",
       "      <td>0</td>\n",
       "      <td>94</td>\n",
       "      <td>1370</td>\n",
       "      <td>4.5</td>\n",
       "      <td>331</td>\n",
       "      <td>https://www.grandcruwijnen.nl/2019-dumol-pinot...</td>\n",
       "      <td>3.361409</td>\n",
       "      <td>None</td>\n",
       "      <td>2.975599</td>\n",
       "      <td>1.630659</td>\n",
       "      <td>2.048573</td>\n",
       "      <td>30</td>\n",
       "    </tr>\n",
       "    <tr>\n",
       "      <th>1</th>\n",
       "      <td>1502070</td>\n",
       "      <td>Grace Vineyard Pinot Noir</td>\n",
       "      <td>0</td>\n",
       "      <td>726</td>\n",
       "      <td>52</td>\n",
       "      <td>4.5</td>\n",
       "      <td>385</td>\n",
       "      <td>https://www.grandcruwijnen.nl/2018-domaine-ser...</td>\n",
       "      <td>3.637408</td>\n",
       "      <td>None</td>\n",
       "      <td>2.298293</td>\n",
       "      <td>1.592397</td>\n",
       "      <td>2.180648</td>\n",
       "      <td>17</td>\n",
       "    </tr>\n",
       "    <tr>\n",
       "      <th>2</th>\n",
       "      <td>2130345</td>\n",
       "      <td>Mark Bradford Vineyard Pinot Noir</td>\n",
       "      <td>0</td>\n",
       "      <td>726</td>\n",
       "      <td>52</td>\n",
       "      <td>4.5</td>\n",
       "      <td>254</td>\n",
       "      <td>https://www.grandcruwijnen.nl/2018-domaine-ser...</td>\n",
       "      <td>3.901470</td>\n",
       "      <td>None</td>\n",
       "      <td>2.590662</td>\n",
       "      <td>1.404513</td>\n",
       "      <td>2.177391</td>\n",
       "      <td>12</td>\n",
       "    </tr>\n",
       "    <tr>\n",
       "      <th>3</th>\n",
       "      <td>4444422</td>\n",
       "      <td>Alpine Hillside Pinot Noir</td>\n",
       "      <td>0</td>\n",
       "      <td>86</td>\n",
       "      <td>2400</td>\n",
       "      <td>4.5</td>\n",
       "      <td>46</td>\n",
       "      <td>https://hermanwines.com/products/alpine-vineya...</td>\n",
       "      <td>3.600373</td>\n",
       "      <td>None</td>\n",
       "      <td>3.000000</td>\n",
       "      <td>1.181567</td>\n",
       "      <td>2.081119</td>\n",
       "      <td>5</td>\n",
       "    </tr>\n",
       "    <tr>\n",
       "      <th>4</th>\n",
       "      <td>1157825</td>\n",
       "      <td>Treinta y Dos Pinot Noir</td>\n",
       "      <td>0</td>\n",
       "      <td>755</td>\n",
       "      <td>16624</td>\n",
       "      <td>4.4</td>\n",
       "      <td>3417</td>\n",
       "      <td>https://www.seulementproduitsitaliens.be/eccel...</td>\n",
       "      <td>3.233530</td>\n",
       "      <td>None</td>\n",
       "      <td>3.036751</td>\n",
       "      <td>1.631544</td>\n",
       "      <td>1.927980</td>\n",
       "      <td>82</td>\n",
       "    </tr>\n",
       "  </tbody>\n",
       "</table>\n",
       "</div>"
      ],
      "text/plain": [
       "        id                               name  is_natural  region_id  \\\n",
       "0    17948                    Finn Pinot Noir           0         94   \n",
       "1  1502070          Grace Vineyard Pinot Noir           0        726   \n",
       "2  2130345  Mark Bradford Vineyard Pinot Noir           0        726   \n",
       "3  4444422         Alpine Hillside Pinot Noir           0         86   \n",
       "4  1157825           Treinta y Dos Pinot Noir           0        755   \n",
       "\n",
       "   winery_id  ratings_average  ratings_count  \\\n",
       "0       1370              4.5            331   \n",
       "1         52              4.5            385   \n",
       "2         52              4.5            254   \n",
       "3       2400              4.5             46   \n",
       "4      16624              4.4           3417   \n",
       "\n",
       "                                                 url   acidity fizziness  \\\n",
       "0  https://www.grandcruwijnen.nl/2019-dumol-pinot...  3.361409      None   \n",
       "1  https://www.grandcruwijnen.nl/2018-domaine-ser...  3.637408      None   \n",
       "2  https://www.grandcruwijnen.nl/2018-domaine-ser...  3.901470      None   \n",
       "3  https://hermanwines.com/products/alpine-vineya...  3.600373      None   \n",
       "4  https://www.seulementproduitsitaliens.be/eccel...  3.233530      None   \n",
       "\n",
       "   intensity  sweetness    tannin  user_structure_count  \n",
       "0   2.975599   1.630659  2.048573                    30  \n",
       "1   2.298293   1.592397  2.180648                    17  \n",
       "2   2.590662   1.404513  2.177391                    12  \n",
       "3   3.000000   1.181567  2.081119                     5  \n",
       "4   3.036751   1.631544  1.927980                    82  "
      ]
     },
     "execution_count": 80,
     "metadata": {},
     "output_type": "execute_result"
    }
   ],
   "source": [
    "top_five_pinot = \"\"\"SELECT * from wines\n",
    "WHERE name LIKE '%Pinot Noir%'\n",
    "ORDER BY ratings_average DESC\n",
    "LIMIT 5\"\"\"\n",
    "\n",
    "top_five_pinot_df = pd.read_sql_query(top_five_pinot, conn)\n",
    "top_five_pinot_df"
   ]
  },
  {
   "cell_type": "code",
   "execution_count": 81,
   "metadata": {},
   "outputs": [
    {
     "data": {
      "text/html": [
       "<div>\n",
       "<style scoped>\n",
       "    .dataframe tbody tr th:only-of-type {\n",
       "        vertical-align: middle;\n",
       "    }\n",
       "\n",
       "    .dataframe tbody tr th {\n",
       "        vertical-align: top;\n",
       "    }\n",
       "\n",
       "    .dataframe thead th {\n",
       "        text-align: right;\n",
       "    }\n",
       "</style>\n",
       "<table border=\"1\" class=\"dataframe\">\n",
       "  <thead>\n",
       "    <tr style=\"text-align: right;\">\n",
       "      <th></th>\n",
       "      <th>id</th>\n",
       "      <th>name</th>\n",
       "      <th>is_natural</th>\n",
       "      <th>region_id</th>\n",
       "      <th>winery_id</th>\n",
       "      <th>ratings_average</th>\n",
       "      <th>ratings_count</th>\n",
       "      <th>url</th>\n",
       "      <th>acidity</th>\n",
       "      <th>fizziness</th>\n",
       "      <th>intensity</th>\n",
       "      <th>sweetness</th>\n",
       "      <th>tannin</th>\n",
       "      <th>user_structure_count</th>\n",
       "    </tr>\n",
       "  </thead>\n",
       "  <tbody>\n",
       "    <tr>\n",
       "      <th>0</th>\n",
       "      <td>17943</td>\n",
       "      <td>Chloe Chardonnay</td>\n",
       "      <td>0</td>\n",
       "      <td>94</td>\n",
       "      <td>1370</td>\n",
       "      <td>4.5</td>\n",
       "      <td>458</td>\n",
       "      <td>https://www.grandcruwijnen.nl/2020-dumol-chloe...</td>\n",
       "      <td>3.182983</td>\n",
       "      <td>None</td>\n",
       "      <td>4.639765</td>\n",
       "      <td>2.883243</td>\n",
       "      <td>None</td>\n",
       "      <td>17</td>\n",
       "    </tr>\n",
       "    <tr>\n",
       "      <th>1</th>\n",
       "      <td>5859611</td>\n",
       "      <td>Reserve Chardonnay</td>\n",
       "      <td>0</td>\n",
       "      <td>4363</td>\n",
       "      <td>64829</td>\n",
       "      <td>4.5</td>\n",
       "      <td>396</td>\n",
       "      <td>https://www.wijnkooperijdelange.nl/Lismore-Est...</td>\n",
       "      <td>3.554454</td>\n",
       "      <td>None</td>\n",
       "      <td>4.055442</td>\n",
       "      <td>2.287124</td>\n",
       "      <td>None</td>\n",
       "      <td>29</td>\n",
       "    </tr>\n",
       "    <tr>\n",
       "      <th>2</th>\n",
       "      <td>8164925</td>\n",
       "      <td>Bentrock Vineyard Chardonnay</td>\n",
       "      <td>0</td>\n",
       "      <td>99</td>\n",
       "      <td>276827</td>\n",
       "      <td>4.5</td>\n",
       "      <td>118</td>\n",
       "      <td>https://hermanwines.com/products/bentrock-char...</td>\n",
       "      <td>3.264231</td>\n",
       "      <td>None</td>\n",
       "      <td>4.566538</td>\n",
       "      <td>2.505769</td>\n",
       "      <td>None</td>\n",
       "      <td>5</td>\n",
       "    </tr>\n",
       "    <tr>\n",
       "      <th>3</th>\n",
       "      <td>18903</td>\n",
       "      <td>Chardonnay</td>\n",
       "      <td>0</td>\n",
       "      <td>853</td>\n",
       "      <td>215683</td>\n",
       "      <td>4.4</td>\n",
       "      <td>1031</td>\n",
       "      <td>https://joyvino.be/products/capensis-chardonna...</td>\n",
       "      <td>3.561473</td>\n",
       "      <td>None</td>\n",
       "      <td>3.984476</td>\n",
       "      <td>2.054213</td>\n",
       "      <td>None</td>\n",
       "      <td>58</td>\n",
       "    </tr>\n",
       "    <tr>\n",
       "      <th>4</th>\n",
       "      <td>1721196</td>\n",
       "      <td>Chardonnay</td>\n",
       "      <td>0</td>\n",
       "      <td>425</td>\n",
       "      <td>72892</td>\n",
       "      <td>4.4</td>\n",
       "      <td>201</td>\n",
       "      <td>https://www.grandcruwijnen.nl/2020-cloudburst-...</td>\n",
       "      <td>3.037445</td>\n",
       "      <td>None</td>\n",
       "      <td>3.404864</td>\n",
       "      <td>2.063084</td>\n",
       "      <td>None</td>\n",
       "      <td>25</td>\n",
       "    </tr>\n",
       "  </tbody>\n",
       "</table>\n",
       "</div>"
      ],
      "text/plain": [
       "        id                          name  is_natural  region_id  winery_id  \\\n",
       "0    17943              Chloe Chardonnay           0         94       1370   \n",
       "1  5859611            Reserve Chardonnay           0       4363      64829   \n",
       "2  8164925  Bentrock Vineyard Chardonnay           0         99     276827   \n",
       "3    18903                    Chardonnay           0        853     215683   \n",
       "4  1721196                    Chardonnay           0        425      72892   \n",
       "\n",
       "   ratings_average  ratings_count  \\\n",
       "0              4.5            458   \n",
       "1              4.5            396   \n",
       "2              4.5            118   \n",
       "3              4.4           1031   \n",
       "4              4.4            201   \n",
       "\n",
       "                                                 url   acidity fizziness  \\\n",
       "0  https://www.grandcruwijnen.nl/2020-dumol-chloe...  3.182983      None   \n",
       "1  https://www.wijnkooperijdelange.nl/Lismore-Est...  3.554454      None   \n",
       "2  https://hermanwines.com/products/bentrock-char...  3.264231      None   \n",
       "3  https://joyvino.be/products/capensis-chardonna...  3.561473      None   \n",
       "4  https://www.grandcruwijnen.nl/2020-cloudburst-...  3.037445      None   \n",
       "\n",
       "   intensity  sweetness tannin  user_structure_count  \n",
       "0   4.639765   2.883243   None                    17  \n",
       "1   4.055442   2.287124   None                    29  \n",
       "2   4.566538   2.505769   None                     5  \n",
       "3   3.984476   2.054213   None                    58  \n",
       "4   3.404864   2.063084   None                    25  "
      ]
     },
     "execution_count": 81,
     "metadata": {},
     "output_type": "execute_result"
    }
   ],
   "source": [
    "top_five_chardonnay = \"\"\"SELECT * from wines\n",
    "WHERE name LIKE '%Chardonnay%'\n",
    "ORDER BY ratings_average DESC\n",
    "LIMIT 5\"\"\"\n",
    "\n",
    "top_five_chardonnay_df = pd.read_sql_query(top_five_chardonnay, conn)\n",
    "top_five_chardonnay_df"
   ]
  },
  {
   "cell_type": "markdown",
   "metadata": {},
   "source": [
    "COUNTRY leaderboard"
   ]
  },
  {
   "cell_type": "code",
   "execution_count": 96,
   "metadata": {},
   "outputs": [
    {
     "data": {
      "text/html": [
       "<div>\n",
       "<style scoped>\n",
       "    .dataframe tbody tr th:only-of-type {\n",
       "        vertical-align: middle;\n",
       "    }\n",
       "\n",
       "    .dataframe tbody tr th {\n",
       "        vertical-align: top;\n",
       "    }\n",
       "\n",
       "    .dataframe thead th {\n",
       "        text-align: right;\n",
       "    }\n",
       "</style>\n",
       "<table border=\"1\" class=\"dataframe\">\n",
       "  <thead>\n",
       "    <tr style=\"text-align: right;\">\n",
       "      <th></th>\n",
       "      <th>name</th>\n",
       "      <th>year</th>\n",
       "      <th>average_rating</th>\n",
       "      <th>country_code</th>\n",
       "      <th>country</th>\n",
       "      <th>ratings_count</th>\n",
       "    </tr>\n",
       "  </thead>\n",
       "  <tbody>\n",
       "    <tr>\n",
       "      <th>0</th>\n",
       "      <td>Caymus Special Selection Cabernet Sauvignon 1997</td>\n",
       "      <td>1997</td>\n",
       "      <td>4.553623</td>\n",
       "      <td>us</td>\n",
       "      <td>États-Unis</td>\n",
       "      <td>299</td>\n",
       "    </tr>\n",
       "    <tr>\n",
       "      <th>1</th>\n",
       "      <td>Château Angelus Saint-Émilion Grand Cru (Premi...</td>\n",
       "      <td>2007</td>\n",
       "      <td>4.546439</td>\n",
       "      <td>fr</td>\n",
       "      <td>France</td>\n",
       "      <td>876</td>\n",
       "    </tr>\n",
       "    <tr>\n",
       "      <th>2</th>\n",
       "      <td>Penfolds Grange 2015</td>\n",
       "      <td>2015</td>\n",
       "      <td>4.533333</td>\n",
       "      <td>au</td>\n",
       "      <td>Australie</td>\n",
       "      <td>509</td>\n",
       "    </tr>\n",
       "    <tr>\n",
       "      <th>3</th>\n",
       "      <td>Mazzei Siepi 2005</td>\n",
       "      <td>2005</td>\n",
       "      <td>4.508587</td>\n",
       "      <td>it</td>\n",
       "      <td>Italie</td>\n",
       "      <td>580</td>\n",
       "    </tr>\n",
       "    <tr>\n",
       "      <th>4</th>\n",
       "      <td>Gitana Lupi Rezerva 2016</td>\n",
       "      <td>2016</td>\n",
       "      <td>4.500000</td>\n",
       "      <td>md</td>\n",
       "      <td>Moldavie</td>\n",
       "      <td>2031</td>\n",
       "    </tr>\n",
       "    <tr>\n",
       "      <th>5</th>\n",
       "      <td>Burmester Colheita Port 1975</td>\n",
       "      <td>1975</td>\n",
       "      <td>4.494118</td>\n",
       "      <td>pt</td>\n",
       "      <td>Portugal</td>\n",
       "      <td>302</td>\n",
       "    </tr>\n",
       "    <tr>\n",
       "      <th>6</th>\n",
       "      <td>Callejo Félix Callejo (Viñedos de la Familia) ...</td>\n",
       "      <td>2005</td>\n",
       "      <td>4.489063</td>\n",
       "      <td>es</td>\n",
       "      <td>Espagne</td>\n",
       "      <td>212</td>\n",
       "    </tr>\n",
       "    <tr>\n",
       "      <th>7</th>\n",
       "      <td>Vilafonté Series C 2010</td>\n",
       "      <td>2010</td>\n",
       "      <td>4.478947</td>\n",
       "      <td>za</td>\n",
       "      <td>Afrique du Sud</td>\n",
       "      <td>246</td>\n",
       "    </tr>\n",
       "    <tr>\n",
       "      <th>8</th>\n",
       "      <td>Sena Aconcagua Valley 2009</td>\n",
       "      <td>2009</td>\n",
       "      <td>4.477273</td>\n",
       "      <td>cl</td>\n",
       "      <td>Chili</td>\n",
       "      <td>1037</td>\n",
       "    </tr>\n",
       "    <tr>\n",
       "      <th>9</th>\n",
       "      <td>Achaval-Ferrer Finca Bella Vista Malbec 2014</td>\n",
       "      <td>2014</td>\n",
       "      <td>4.476000</td>\n",
       "      <td>ar</td>\n",
       "      <td>Argentine</td>\n",
       "      <td>872</td>\n",
       "    </tr>\n",
       "    <tr>\n",
       "      <th>10</th>\n",
       "      <td>Egon Müller - Scharzhof Scharzhofberger Riesli...</td>\n",
       "      <td>2018</td>\n",
       "      <td>4.450000</td>\n",
       "      <td>de</td>\n",
       "      <td>Allemagne</td>\n",
       "      <td>164</td>\n",
       "    </tr>\n",
       "    <tr>\n",
       "      <th>11</th>\n",
       "      <td>Oremus Tokaji Aszú 6 Puttonyos 2013</td>\n",
       "      <td>2013</td>\n",
       "      <td>4.440000</td>\n",
       "      <td>hu</td>\n",
       "      <td>Hongrie</td>\n",
       "      <td>154</td>\n",
       "    </tr>\n",
       "    <tr>\n",
       "      <th>12</th>\n",
       "      <td>Guido Brivio Platinum 2011</td>\n",
       "      <td>2011</td>\n",
       "      <td>4.400000</td>\n",
       "      <td>ch</td>\n",
       "      <td>Suisse</td>\n",
       "      <td>162</td>\n",
       "    </tr>\n",
       "    <tr>\n",
       "      <th>13</th>\n",
       "      <td>Korta Katarina Winemaker's Selection 2011</td>\n",
       "      <td>2011</td>\n",
       "      <td>4.400000</td>\n",
       "      <td>hr</td>\n",
       "      <td>Croatie</td>\n",
       "      <td>234</td>\n",
       "    </tr>\n",
       "  </tbody>\n",
       "</table>\n",
       "</div>"
      ],
      "text/plain": [
       "                                                 name  year  average_rating  \\\n",
       "0    Caymus Special Selection Cabernet Sauvignon 1997  1997        4.553623   \n",
       "1   Château Angelus Saint-Émilion Grand Cru (Premi...  2007        4.546439   \n",
       "2                                Penfolds Grange 2015  2015        4.533333   \n",
       "3                                   Mazzei Siepi 2005  2005        4.508587   \n",
       "4                            Gitana Lupi Rezerva 2016  2016        4.500000   \n",
       "5                        Burmester Colheita Port 1975  1975        4.494118   \n",
       "6   Callejo Félix Callejo (Viñedos de la Familia) ...  2005        4.489063   \n",
       "7                             Vilafonté Series C 2010  2010        4.478947   \n",
       "8                          Sena Aconcagua Valley 2009  2009        4.477273   \n",
       "9        Achaval-Ferrer Finca Bella Vista Malbec 2014  2014        4.476000   \n",
       "10  Egon Müller - Scharzhof Scharzhofberger Riesli...  2018        4.450000   \n",
       "11                Oremus Tokaji Aszú 6 Puttonyos 2013  2013        4.440000   \n",
       "12                         Guido Brivio Platinum 2011  2011        4.400000   \n",
       "13          Korta Katarina Winemaker's Selection 2011  2011        4.400000   \n",
       "\n",
       "   country_code         country  ratings_count  \n",
       "0            us      États-Unis            299  \n",
       "1            fr          France            876  \n",
       "2            au       Australie            509  \n",
       "3            it          Italie            580  \n",
       "4            md        Moldavie           2031  \n",
       "5            pt        Portugal            302  \n",
       "6            es         Espagne            212  \n",
       "7            za  Afrique du Sud            246  \n",
       "8            cl           Chili           1037  \n",
       "9            ar       Argentine            872  \n",
       "10           de       Allemagne            164  \n",
       "11           hu         Hongrie            154  \n",
       "12           ch          Suisse            162  \n",
       "13           hr         Croatie            234  "
      ]
     },
     "execution_count": 96,
     "metadata": {},
     "output_type": "execute_result"
    }
   ],
   "source": [
    "top_vint_countries = \"\"\"SELECT vintages.name, year, AVG(vintages.ratings_average) as average_rating, country_code, countries.name AS country, vintages.ratings_count FROM vintages\n",
    "JOIN wines on wines.id = vintages.wine_id\n",
    "JOIN regions on regions.id = wines.region_id\n",
    "JOIN countries ON regions.country_code = countries.code\n",
    "WHERE vintages.ratings_count > 100\n",
    "GROUP BY country\n",
    "ORDER BY average_rating DESC\"\"\"\n",
    "\n",
    "top_vint_countries_df = pd.read_sql_query(top_vint_countries,conn)\n",
    "top_vint_countries_df"
   ]
  },
  {
   "cell_type": "markdown",
   "metadata": {},
   "source": [
    "Visualize the countries and their average score"
   ]
  },
  {
   "cell_type": "code",
   "execution_count": 98,
   "metadata": {},
   "outputs": [
    {
     "data": {
      "application/vnd.plotly.v1+json": {
       "config": {
        "plotlyServerURL": "https://plot.ly"
       },
       "data": [
        {
         "alignmentgroup": "True",
         "hovertemplate": "country=%{x}<br>average_rating=%{y}<extra></extra>",
         "legendgroup": "",
         "marker": {
          "color": "#636efa",
          "pattern": {
           "shape": ""
          }
         },
         "name": "",
         "offsetgroup": "",
         "orientation": "v",
         "showlegend": false,
         "textposition": "auto",
         "type": "bar",
         "x": [
          "États-Unis",
          "France",
          "Australie",
          "Italie",
          "Moldavie",
          "Portugal",
          "Espagne",
          "Afrique du Sud",
          "Chili",
          "Argentine",
          "Allemagne",
          "Hongrie",
          "Suisse",
          "Croatie"
         ],
         "xaxis": "x",
         "y": [
          4.553623188405797,
          4.546438746438747,
          4.533333333333334,
          4.508586762075135,
          4.5,
          4.4941176470588236,
          4.4890625,
          4.478947368421053,
          4.4772727272727275,
          4.476,
          4.45,
          4.44,
          4.4,
          4.4
         ],
         "yaxis": "y"
        }
       ],
       "layout": {
        "barmode": "relative",
        "legend": {
         "tracegroupgap": 0
        },
        "template": {
         "data": {
          "bar": [
           {
            "error_x": {
             "color": "#2a3f5f"
            },
            "error_y": {
             "color": "#2a3f5f"
            },
            "marker": {
             "line": {
              "color": "#E5ECF6",
              "width": 0.5
             },
             "pattern": {
              "fillmode": "overlay",
              "size": 10,
              "solidity": 0.2
             }
            },
            "type": "bar"
           }
          ],
          "barpolar": [
           {
            "marker": {
             "line": {
              "color": "#E5ECF6",
              "width": 0.5
             },
             "pattern": {
              "fillmode": "overlay",
              "size": 10,
              "solidity": 0.2
             }
            },
            "type": "barpolar"
           }
          ],
          "carpet": [
           {
            "aaxis": {
             "endlinecolor": "#2a3f5f",
             "gridcolor": "white",
             "linecolor": "white",
             "minorgridcolor": "white",
             "startlinecolor": "#2a3f5f"
            },
            "baxis": {
             "endlinecolor": "#2a3f5f",
             "gridcolor": "white",
             "linecolor": "white",
             "minorgridcolor": "white",
             "startlinecolor": "#2a3f5f"
            },
            "type": "carpet"
           }
          ],
          "choropleth": [
           {
            "colorbar": {
             "outlinewidth": 0,
             "ticks": ""
            },
            "type": "choropleth"
           }
          ],
          "contour": [
           {
            "colorbar": {
             "outlinewidth": 0,
             "ticks": ""
            },
            "colorscale": [
             [
              0,
              "#0d0887"
             ],
             [
              0.1111111111111111,
              "#46039f"
             ],
             [
              0.2222222222222222,
              "#7201a8"
             ],
             [
              0.3333333333333333,
              "#9c179e"
             ],
             [
              0.4444444444444444,
              "#bd3786"
             ],
             [
              0.5555555555555556,
              "#d8576b"
             ],
             [
              0.6666666666666666,
              "#ed7953"
             ],
             [
              0.7777777777777778,
              "#fb9f3a"
             ],
             [
              0.8888888888888888,
              "#fdca26"
             ],
             [
              1,
              "#f0f921"
             ]
            ],
            "type": "contour"
           }
          ],
          "contourcarpet": [
           {
            "colorbar": {
             "outlinewidth": 0,
             "ticks": ""
            },
            "type": "contourcarpet"
           }
          ],
          "heatmap": [
           {
            "colorbar": {
             "outlinewidth": 0,
             "ticks": ""
            },
            "colorscale": [
             [
              0,
              "#0d0887"
             ],
             [
              0.1111111111111111,
              "#46039f"
             ],
             [
              0.2222222222222222,
              "#7201a8"
             ],
             [
              0.3333333333333333,
              "#9c179e"
             ],
             [
              0.4444444444444444,
              "#bd3786"
             ],
             [
              0.5555555555555556,
              "#d8576b"
             ],
             [
              0.6666666666666666,
              "#ed7953"
             ],
             [
              0.7777777777777778,
              "#fb9f3a"
             ],
             [
              0.8888888888888888,
              "#fdca26"
             ],
             [
              1,
              "#f0f921"
             ]
            ],
            "type": "heatmap"
           }
          ],
          "heatmapgl": [
           {
            "colorbar": {
             "outlinewidth": 0,
             "ticks": ""
            },
            "colorscale": [
             [
              0,
              "#0d0887"
             ],
             [
              0.1111111111111111,
              "#46039f"
             ],
             [
              0.2222222222222222,
              "#7201a8"
             ],
             [
              0.3333333333333333,
              "#9c179e"
             ],
             [
              0.4444444444444444,
              "#bd3786"
             ],
             [
              0.5555555555555556,
              "#d8576b"
             ],
             [
              0.6666666666666666,
              "#ed7953"
             ],
             [
              0.7777777777777778,
              "#fb9f3a"
             ],
             [
              0.8888888888888888,
              "#fdca26"
             ],
             [
              1,
              "#f0f921"
             ]
            ],
            "type": "heatmapgl"
           }
          ],
          "histogram": [
           {
            "marker": {
             "pattern": {
              "fillmode": "overlay",
              "size": 10,
              "solidity": 0.2
             }
            },
            "type": "histogram"
           }
          ],
          "histogram2d": [
           {
            "colorbar": {
             "outlinewidth": 0,
             "ticks": ""
            },
            "colorscale": [
             [
              0,
              "#0d0887"
             ],
             [
              0.1111111111111111,
              "#46039f"
             ],
             [
              0.2222222222222222,
              "#7201a8"
             ],
             [
              0.3333333333333333,
              "#9c179e"
             ],
             [
              0.4444444444444444,
              "#bd3786"
             ],
             [
              0.5555555555555556,
              "#d8576b"
             ],
             [
              0.6666666666666666,
              "#ed7953"
             ],
             [
              0.7777777777777778,
              "#fb9f3a"
             ],
             [
              0.8888888888888888,
              "#fdca26"
             ],
             [
              1,
              "#f0f921"
             ]
            ],
            "type": "histogram2d"
           }
          ],
          "histogram2dcontour": [
           {
            "colorbar": {
             "outlinewidth": 0,
             "ticks": ""
            },
            "colorscale": [
             [
              0,
              "#0d0887"
             ],
             [
              0.1111111111111111,
              "#46039f"
             ],
             [
              0.2222222222222222,
              "#7201a8"
             ],
             [
              0.3333333333333333,
              "#9c179e"
             ],
             [
              0.4444444444444444,
              "#bd3786"
             ],
             [
              0.5555555555555556,
              "#d8576b"
             ],
             [
              0.6666666666666666,
              "#ed7953"
             ],
             [
              0.7777777777777778,
              "#fb9f3a"
             ],
             [
              0.8888888888888888,
              "#fdca26"
             ],
             [
              1,
              "#f0f921"
             ]
            ],
            "type": "histogram2dcontour"
           }
          ],
          "mesh3d": [
           {
            "colorbar": {
             "outlinewidth": 0,
             "ticks": ""
            },
            "type": "mesh3d"
           }
          ],
          "parcoords": [
           {
            "line": {
             "colorbar": {
              "outlinewidth": 0,
              "ticks": ""
             }
            },
            "type": "parcoords"
           }
          ],
          "pie": [
           {
            "automargin": true,
            "type": "pie"
           }
          ],
          "scatter": [
           {
            "fillpattern": {
             "fillmode": "overlay",
             "size": 10,
             "solidity": 0.2
            },
            "type": "scatter"
           }
          ],
          "scatter3d": [
           {
            "line": {
             "colorbar": {
              "outlinewidth": 0,
              "ticks": ""
             }
            },
            "marker": {
             "colorbar": {
              "outlinewidth": 0,
              "ticks": ""
             }
            },
            "type": "scatter3d"
           }
          ],
          "scattercarpet": [
           {
            "marker": {
             "colorbar": {
              "outlinewidth": 0,
              "ticks": ""
             }
            },
            "type": "scattercarpet"
           }
          ],
          "scattergeo": [
           {
            "marker": {
             "colorbar": {
              "outlinewidth": 0,
              "ticks": ""
             }
            },
            "type": "scattergeo"
           }
          ],
          "scattergl": [
           {
            "marker": {
             "colorbar": {
              "outlinewidth": 0,
              "ticks": ""
             }
            },
            "type": "scattergl"
           }
          ],
          "scattermapbox": [
           {
            "marker": {
             "colorbar": {
              "outlinewidth": 0,
              "ticks": ""
             }
            },
            "type": "scattermapbox"
           }
          ],
          "scatterpolar": [
           {
            "marker": {
             "colorbar": {
              "outlinewidth": 0,
              "ticks": ""
             }
            },
            "type": "scatterpolar"
           }
          ],
          "scatterpolargl": [
           {
            "marker": {
             "colorbar": {
              "outlinewidth": 0,
              "ticks": ""
             }
            },
            "type": "scatterpolargl"
           }
          ],
          "scatterternary": [
           {
            "marker": {
             "colorbar": {
              "outlinewidth": 0,
              "ticks": ""
             }
            },
            "type": "scatterternary"
           }
          ],
          "surface": [
           {
            "colorbar": {
             "outlinewidth": 0,
             "ticks": ""
            },
            "colorscale": [
             [
              0,
              "#0d0887"
             ],
             [
              0.1111111111111111,
              "#46039f"
             ],
             [
              0.2222222222222222,
              "#7201a8"
             ],
             [
              0.3333333333333333,
              "#9c179e"
             ],
             [
              0.4444444444444444,
              "#bd3786"
             ],
             [
              0.5555555555555556,
              "#d8576b"
             ],
             [
              0.6666666666666666,
              "#ed7953"
             ],
             [
              0.7777777777777778,
              "#fb9f3a"
             ],
             [
              0.8888888888888888,
              "#fdca26"
             ],
             [
              1,
              "#f0f921"
             ]
            ],
            "type": "surface"
           }
          ],
          "table": [
           {
            "cells": {
             "fill": {
              "color": "#EBF0F8"
             },
             "line": {
              "color": "white"
             }
            },
            "header": {
             "fill": {
              "color": "#C8D4E3"
             },
             "line": {
              "color": "white"
             }
            },
            "type": "table"
           }
          ]
         },
         "layout": {
          "annotationdefaults": {
           "arrowcolor": "#2a3f5f",
           "arrowhead": 0,
           "arrowwidth": 1
          },
          "autotypenumbers": "strict",
          "coloraxis": {
           "colorbar": {
            "outlinewidth": 0,
            "ticks": ""
           }
          },
          "colorscale": {
           "diverging": [
            [
             0,
             "#8e0152"
            ],
            [
             0.1,
             "#c51b7d"
            ],
            [
             0.2,
             "#de77ae"
            ],
            [
             0.3,
             "#f1b6da"
            ],
            [
             0.4,
             "#fde0ef"
            ],
            [
             0.5,
             "#f7f7f7"
            ],
            [
             0.6,
             "#e6f5d0"
            ],
            [
             0.7,
             "#b8e186"
            ],
            [
             0.8,
             "#7fbc41"
            ],
            [
             0.9,
             "#4d9221"
            ],
            [
             1,
             "#276419"
            ]
           ],
           "sequential": [
            [
             0,
             "#0d0887"
            ],
            [
             0.1111111111111111,
             "#46039f"
            ],
            [
             0.2222222222222222,
             "#7201a8"
            ],
            [
             0.3333333333333333,
             "#9c179e"
            ],
            [
             0.4444444444444444,
             "#bd3786"
            ],
            [
             0.5555555555555556,
             "#d8576b"
            ],
            [
             0.6666666666666666,
             "#ed7953"
            ],
            [
             0.7777777777777778,
             "#fb9f3a"
            ],
            [
             0.8888888888888888,
             "#fdca26"
            ],
            [
             1,
             "#f0f921"
            ]
           ],
           "sequentialminus": [
            [
             0,
             "#0d0887"
            ],
            [
             0.1111111111111111,
             "#46039f"
            ],
            [
             0.2222222222222222,
             "#7201a8"
            ],
            [
             0.3333333333333333,
             "#9c179e"
            ],
            [
             0.4444444444444444,
             "#bd3786"
            ],
            [
             0.5555555555555556,
             "#d8576b"
            ],
            [
             0.6666666666666666,
             "#ed7953"
            ],
            [
             0.7777777777777778,
             "#fb9f3a"
            ],
            [
             0.8888888888888888,
             "#fdca26"
            ],
            [
             1,
             "#f0f921"
            ]
           ]
          },
          "colorway": [
           "#636efa",
           "#EF553B",
           "#00cc96",
           "#ab63fa",
           "#FFA15A",
           "#19d3f3",
           "#FF6692",
           "#B6E880",
           "#FF97FF",
           "#FECB52"
          ],
          "font": {
           "color": "#2a3f5f"
          },
          "geo": {
           "bgcolor": "white",
           "lakecolor": "white",
           "landcolor": "#E5ECF6",
           "showlakes": true,
           "showland": true,
           "subunitcolor": "white"
          },
          "hoverlabel": {
           "align": "left"
          },
          "hovermode": "closest",
          "mapbox": {
           "style": "light"
          },
          "paper_bgcolor": "white",
          "plot_bgcolor": "#E5ECF6",
          "polar": {
           "angularaxis": {
            "gridcolor": "white",
            "linecolor": "white",
            "ticks": ""
           },
           "bgcolor": "#E5ECF6",
           "radialaxis": {
            "gridcolor": "white",
            "linecolor": "white",
            "ticks": ""
           }
          },
          "scene": {
           "xaxis": {
            "backgroundcolor": "#E5ECF6",
            "gridcolor": "white",
            "gridwidth": 2,
            "linecolor": "white",
            "showbackground": true,
            "ticks": "",
            "zerolinecolor": "white"
           },
           "yaxis": {
            "backgroundcolor": "#E5ECF6",
            "gridcolor": "white",
            "gridwidth": 2,
            "linecolor": "white",
            "showbackground": true,
            "ticks": "",
            "zerolinecolor": "white"
           },
           "zaxis": {
            "backgroundcolor": "#E5ECF6",
            "gridcolor": "white",
            "gridwidth": 2,
            "linecolor": "white",
            "showbackground": true,
            "ticks": "",
            "zerolinecolor": "white"
           }
          },
          "shapedefaults": {
           "line": {
            "color": "#2a3f5f"
           }
          },
          "ternary": {
           "aaxis": {
            "gridcolor": "white",
            "linecolor": "white",
            "ticks": ""
           },
           "baxis": {
            "gridcolor": "white",
            "linecolor": "white",
            "ticks": ""
           },
           "bgcolor": "#E5ECF6",
           "caxis": {
            "gridcolor": "white",
            "linecolor": "white",
            "ticks": ""
           }
          },
          "title": {
           "x": 0.05
          },
          "xaxis": {
           "automargin": true,
           "gridcolor": "white",
           "linecolor": "white",
           "ticks": "",
           "title": {
            "standoff": 15
           },
           "zerolinecolor": "white",
           "zerolinewidth": 2
          },
          "yaxis": {
           "automargin": true,
           "gridcolor": "white",
           "linecolor": "white",
           "ticks": "",
           "title": {
            "standoff": 15
           },
           "zerolinecolor": "white",
           "zerolinewidth": 2
          }
         }
        },
        "title": {
         "text": "Average vitage ratings of the countries"
        },
        "xaxis": {
         "anchor": "y",
         "domain": [
          0,
          1
         ],
         "title": {
          "text": "country"
         }
        },
        "yaxis": {
         "anchor": "x",
         "domain": [
          0,
          1
         ],
         "range": [
          4.3,
          4.6
         ],
         "title": {
          "text": "average_rating"
         }
        }
       }
      }
     },
     "metadata": {},
     "output_type": "display_data"
    }
   ],
   "source": [
    "import plotly.express as px\n",
    "\n",
    "fig = px.bar(top_vint_countries_df, x = \"country\", y = \"average_rating\", title= \"Average vitage ratings of the countries\")\n",
    "fig.update_yaxes(range=[4.3, 4.6])\n",
    "fig.show()"
   ]
  },
  {
   "cell_type": "code",
   "execution_count": 101,
   "metadata": {},
   "outputs": [
    {
     "data": {
      "text/html": [
       "<div>\n",
       "<style scoped>\n",
       "    .dataframe tbody tr th:only-of-type {\n",
       "        vertical-align: middle;\n",
       "    }\n",
       "\n",
       "    .dataframe tbody tr th {\n",
       "        vertical-align: top;\n",
       "    }\n",
       "\n",
       "    .dataframe thead th {\n",
       "        text-align: right;\n",
       "    }\n",
       "</style>\n",
       "<table border=\"1\" class=\"dataframe\">\n",
       "  <thead>\n",
       "    <tr style=\"text-align: right;\">\n",
       "      <th></th>\n",
       "      <th>name</th>\n",
       "      <th>average_rating</th>\n",
       "      <th>country_code</th>\n",
       "      <th>country</th>\n",
       "      <th>ratings_count</th>\n",
       "    </tr>\n",
       "  </thead>\n",
       "  <tbody>\n",
       "    <tr>\n",
       "      <th>0</th>\n",
       "      <td>Yarden Katzrin</td>\n",
       "      <td>4.500000</td>\n",
       "      <td>il</td>\n",
       "      <td>Israël</td>\n",
       "      <td>894</td>\n",
       "    </tr>\n",
       "    <tr>\n",
       "      <th>1</th>\n",
       "      <td>Chardonnay</td>\n",
       "      <td>4.490278</td>\n",
       "      <td>us</td>\n",
       "      <td>États-Unis</td>\n",
       "      <td>18694</td>\n",
       "    </tr>\n",
       "    <tr>\n",
       "      <th>2</th>\n",
       "      <td>Lupi Rezerva</td>\n",
       "      <td>4.475000</td>\n",
       "      <td>md</td>\n",
       "      <td>Moldavie</td>\n",
       "      <td>7604</td>\n",
       "    </tr>\n",
       "    <tr>\n",
       "      <th>3</th>\n",
       "      <td>Tokaji Aszú 6 Puttonyos</td>\n",
       "      <td>4.460000</td>\n",
       "      <td>hu</td>\n",
       "      <td>Hongrie</td>\n",
       "      <td>2366</td>\n",
       "    </tr>\n",
       "    <tr>\n",
       "      <th>4</th>\n",
       "      <td>Scharzhofberger Riesling Kabinett</td>\n",
       "      <td>4.460000</td>\n",
       "      <td>de</td>\n",
       "      <td>Allemagne</td>\n",
       "      <td>3047</td>\n",
       "    </tr>\n",
       "    <tr>\n",
       "      <th>5</th>\n",
       "      <td>The Stork</td>\n",
       "      <td>4.459091</td>\n",
       "      <td>za</td>\n",
       "      <td>Afrique du Sud</td>\n",
       "      <td>1638</td>\n",
       "    </tr>\n",
       "    <tr>\n",
       "      <th>6</th>\n",
       "      <td>St. Henri Shiraz</td>\n",
       "      <td>4.454545</td>\n",
       "      <td>au</td>\n",
       "      <td>Australie</td>\n",
       "      <td>17326</td>\n",
       "    </tr>\n",
       "    <tr>\n",
       "      <th>7</th>\n",
       "      <td>Rioja 150 Aniversario</td>\n",
       "      <td>4.441935</td>\n",
       "      <td>es</td>\n",
       "      <td>Espagne</td>\n",
       "      <td>4642</td>\n",
       "    </tr>\n",
       "    <tr>\n",
       "      <th>8</th>\n",
       "      <td>Puligny-Montrachet 1er Cru 'La Garenne'</td>\n",
       "      <td>4.439228</td>\n",
       "      <td>fr</td>\n",
       "      <td>France</td>\n",
       "      <td>442</td>\n",
       "    </tr>\n",
       "    <tr>\n",
       "      <th>9</th>\n",
       "      <td>Almaviva</td>\n",
       "      <td>4.431250</td>\n",
       "      <td>cl</td>\n",
       "      <td>Chili</td>\n",
       "      <td>48075</td>\n",
       "    </tr>\n",
       "    <tr>\n",
       "      <th>10</th>\n",
       "      <td>Vin Santo di Montepulciano</td>\n",
       "      <td>4.424451</td>\n",
       "      <td>it</td>\n",
       "      <td>Italie</td>\n",
       "      <td>773</td>\n",
       "    </tr>\n",
       "    <tr>\n",
       "      <th>11</th>\n",
       "      <td>Nicolás Catena Zapata</td>\n",
       "      <td>4.417391</td>\n",
       "      <td>ar</td>\n",
       "      <td>Argentine</td>\n",
       "      <td>28227</td>\n",
       "    </tr>\n",
       "    <tr>\n",
       "      <th>12</th>\n",
       "      <td>Quinta da Leda Douro</td>\n",
       "      <td>4.409091</td>\n",
       "      <td>pt</td>\n",
       "      <td>Portugal</td>\n",
       "      <td>14197</td>\n",
       "    </tr>\n",
       "    <tr>\n",
       "      <th>13</th>\n",
       "      <td>Carpathia Heritage</td>\n",
       "      <td>4.400000</td>\n",
       "      <td>ro</td>\n",
       "      <td>Roumanie</td>\n",
       "      <td>166</td>\n",
       "    </tr>\n",
       "    <tr>\n",
       "      <th>14</th>\n",
       "      <td>Παλιές Ρίζες (Palies Rizes)</td>\n",
       "      <td>4.400000</td>\n",
       "      <td>gr</td>\n",
       "      <td>Grèce</td>\n",
       "      <td>313</td>\n",
       "    </tr>\n",
       "    <tr>\n",
       "      <th>15</th>\n",
       "      <td>Sous L'Escalier Petite Arvine du Valais</td>\n",
       "      <td>4.350000</td>\n",
       "      <td>ch</td>\n",
       "      <td>Suisse</td>\n",
       "      <td>164</td>\n",
       "    </tr>\n",
       "    <tr>\n",
       "      <th>16</th>\n",
       "      <td>Winemaker's Selection</td>\n",
       "      <td>4.300000</td>\n",
       "      <td>hr</td>\n",
       "      <td>Croatie</td>\n",
       "      <td>292</td>\n",
       "    </tr>\n",
       "  </tbody>\n",
       "</table>\n",
       "</div>"
      ],
      "text/plain": [
       "                                       name  average_rating country_code  \\\n",
       "0                            Yarden Katzrin        4.500000           il   \n",
       "1                                Chardonnay        4.490278           us   \n",
       "2                              Lupi Rezerva        4.475000           md   \n",
       "3                   Tokaji Aszú 6 Puttonyos        4.460000           hu   \n",
       "4         Scharzhofberger Riesling Kabinett        4.460000           de   \n",
       "5                                 The Stork        4.459091           za   \n",
       "6                          St. Henri Shiraz        4.454545           au   \n",
       "7                     Rioja 150 Aniversario        4.441935           es   \n",
       "8   Puligny-Montrachet 1er Cru 'La Garenne'        4.439228           fr   \n",
       "9                                  Almaviva        4.431250           cl   \n",
       "10               Vin Santo di Montepulciano        4.424451           it   \n",
       "11                    Nicolás Catena Zapata        4.417391           ar   \n",
       "12                     Quinta da Leda Douro        4.409091           pt   \n",
       "13                       Carpathia Heritage        4.400000           ro   \n",
       "14              Παλιές Ρίζες (Palies Rizes)        4.400000           gr   \n",
       "15  Sous L'Escalier Petite Arvine du Valais        4.350000           ch   \n",
       "16                    Winemaker's Selection        4.300000           hr   \n",
       "\n",
       "           country  ratings_count  \n",
       "0           Israël            894  \n",
       "1       États-Unis          18694  \n",
       "2         Moldavie           7604  \n",
       "3          Hongrie           2366  \n",
       "4        Allemagne           3047  \n",
       "5   Afrique du Sud           1638  \n",
       "6        Australie          17326  \n",
       "7          Espagne           4642  \n",
       "8           France            442  \n",
       "9            Chili          48075  \n",
       "10          Italie            773  \n",
       "11       Argentine          28227  \n",
       "12        Portugal          14197  \n",
       "13        Roumanie            166  \n",
       "14           Grèce            313  \n",
       "15          Suisse            164  \n",
       "16         Croatie            292  "
      ]
     },
     "execution_count": 101,
     "metadata": {},
     "output_type": "execute_result"
    }
   ],
   "source": [
    "top_win_countries = \"\"\"SELECT wines.name, AVG(wines.ratings_average) as average_rating, country_code, countries.name AS country, wines.ratings_count FROM wines\n",
    "JOIN regions on regions.id = wines.region_id\n",
    "JOIN countries ON regions.country_code = countries.code\n",
    "WHERE wines.ratings_count > 100\n",
    "GROUP BY country\n",
    "ORDER BY average_rating DESC\"\"\"\n",
    "\n",
    "top_win_countries_df = pd.read_sql_query(top_win_countries,conn)\n",
    "top_win_countries_df"
   ]
  },
  {
   "cell_type": "code",
   "execution_count": 102,
   "metadata": {},
   "outputs": [
    {
     "data": {
      "application/vnd.plotly.v1+json": {
       "config": {
        "plotlyServerURL": "https://plot.ly"
       },
       "data": [
        {
         "alignmentgroup": "True",
         "hovertemplate": "country=%{x}<br>average_rating=%{y}<extra></extra>",
         "legendgroup": "",
         "marker": {
          "color": "#636efa",
          "pattern": {
           "shape": ""
          }
         },
         "name": "",
         "offsetgroup": "",
         "orientation": "v",
         "showlegend": false,
         "textposition": "auto",
         "type": "bar",
         "x": [
          "Israël",
          "États-Unis",
          "Moldavie",
          "Hongrie",
          "Allemagne",
          "Afrique du Sud",
          "Australie",
          "Espagne",
          "France",
          "Chili",
          "Italie",
          "Argentine",
          "Portugal",
          "Roumanie",
          "Grèce",
          "Suisse",
          "Croatie"
         ],
         "xaxis": "x",
         "y": [
          4.5,
          4.490277777777778,
          4.475,
          4.46,
          4.46,
          4.45909090909091,
          4.454545454545454,
          4.441935483870968,
          4.4392282958199365,
          4.43125,
          4.424450549450549,
          4.417391304347826,
          4.409090909090909,
          4.4,
          4.4,
          4.35,
          4.3
         ],
         "yaxis": "y"
        }
       ],
       "layout": {
        "barmode": "relative",
        "legend": {
         "tracegroupgap": 0
        },
        "template": {
         "data": {
          "bar": [
           {
            "error_x": {
             "color": "#2a3f5f"
            },
            "error_y": {
             "color": "#2a3f5f"
            },
            "marker": {
             "line": {
              "color": "#E5ECF6",
              "width": 0.5
             },
             "pattern": {
              "fillmode": "overlay",
              "size": 10,
              "solidity": 0.2
             }
            },
            "type": "bar"
           }
          ],
          "barpolar": [
           {
            "marker": {
             "line": {
              "color": "#E5ECF6",
              "width": 0.5
             },
             "pattern": {
              "fillmode": "overlay",
              "size": 10,
              "solidity": 0.2
             }
            },
            "type": "barpolar"
           }
          ],
          "carpet": [
           {
            "aaxis": {
             "endlinecolor": "#2a3f5f",
             "gridcolor": "white",
             "linecolor": "white",
             "minorgridcolor": "white",
             "startlinecolor": "#2a3f5f"
            },
            "baxis": {
             "endlinecolor": "#2a3f5f",
             "gridcolor": "white",
             "linecolor": "white",
             "minorgridcolor": "white",
             "startlinecolor": "#2a3f5f"
            },
            "type": "carpet"
           }
          ],
          "choropleth": [
           {
            "colorbar": {
             "outlinewidth": 0,
             "ticks": ""
            },
            "type": "choropleth"
           }
          ],
          "contour": [
           {
            "colorbar": {
             "outlinewidth": 0,
             "ticks": ""
            },
            "colorscale": [
             [
              0,
              "#0d0887"
             ],
             [
              0.1111111111111111,
              "#46039f"
             ],
             [
              0.2222222222222222,
              "#7201a8"
             ],
             [
              0.3333333333333333,
              "#9c179e"
             ],
             [
              0.4444444444444444,
              "#bd3786"
             ],
             [
              0.5555555555555556,
              "#d8576b"
             ],
             [
              0.6666666666666666,
              "#ed7953"
             ],
             [
              0.7777777777777778,
              "#fb9f3a"
             ],
             [
              0.8888888888888888,
              "#fdca26"
             ],
             [
              1,
              "#f0f921"
             ]
            ],
            "type": "contour"
           }
          ],
          "contourcarpet": [
           {
            "colorbar": {
             "outlinewidth": 0,
             "ticks": ""
            },
            "type": "contourcarpet"
           }
          ],
          "heatmap": [
           {
            "colorbar": {
             "outlinewidth": 0,
             "ticks": ""
            },
            "colorscale": [
             [
              0,
              "#0d0887"
             ],
             [
              0.1111111111111111,
              "#46039f"
             ],
             [
              0.2222222222222222,
              "#7201a8"
             ],
             [
              0.3333333333333333,
              "#9c179e"
             ],
             [
              0.4444444444444444,
              "#bd3786"
             ],
             [
              0.5555555555555556,
              "#d8576b"
             ],
             [
              0.6666666666666666,
              "#ed7953"
             ],
             [
              0.7777777777777778,
              "#fb9f3a"
             ],
             [
              0.8888888888888888,
              "#fdca26"
             ],
             [
              1,
              "#f0f921"
             ]
            ],
            "type": "heatmap"
           }
          ],
          "heatmapgl": [
           {
            "colorbar": {
             "outlinewidth": 0,
             "ticks": ""
            },
            "colorscale": [
             [
              0,
              "#0d0887"
             ],
             [
              0.1111111111111111,
              "#46039f"
             ],
             [
              0.2222222222222222,
              "#7201a8"
             ],
             [
              0.3333333333333333,
              "#9c179e"
             ],
             [
              0.4444444444444444,
              "#bd3786"
             ],
             [
              0.5555555555555556,
              "#d8576b"
             ],
             [
              0.6666666666666666,
              "#ed7953"
             ],
             [
              0.7777777777777778,
              "#fb9f3a"
             ],
             [
              0.8888888888888888,
              "#fdca26"
             ],
             [
              1,
              "#f0f921"
             ]
            ],
            "type": "heatmapgl"
           }
          ],
          "histogram": [
           {
            "marker": {
             "pattern": {
              "fillmode": "overlay",
              "size": 10,
              "solidity": 0.2
             }
            },
            "type": "histogram"
           }
          ],
          "histogram2d": [
           {
            "colorbar": {
             "outlinewidth": 0,
             "ticks": ""
            },
            "colorscale": [
             [
              0,
              "#0d0887"
             ],
             [
              0.1111111111111111,
              "#46039f"
             ],
             [
              0.2222222222222222,
              "#7201a8"
             ],
             [
              0.3333333333333333,
              "#9c179e"
             ],
             [
              0.4444444444444444,
              "#bd3786"
             ],
             [
              0.5555555555555556,
              "#d8576b"
             ],
             [
              0.6666666666666666,
              "#ed7953"
             ],
             [
              0.7777777777777778,
              "#fb9f3a"
             ],
             [
              0.8888888888888888,
              "#fdca26"
             ],
             [
              1,
              "#f0f921"
             ]
            ],
            "type": "histogram2d"
           }
          ],
          "histogram2dcontour": [
           {
            "colorbar": {
             "outlinewidth": 0,
             "ticks": ""
            },
            "colorscale": [
             [
              0,
              "#0d0887"
             ],
             [
              0.1111111111111111,
              "#46039f"
             ],
             [
              0.2222222222222222,
              "#7201a8"
             ],
             [
              0.3333333333333333,
              "#9c179e"
             ],
             [
              0.4444444444444444,
              "#bd3786"
             ],
             [
              0.5555555555555556,
              "#d8576b"
             ],
             [
              0.6666666666666666,
              "#ed7953"
             ],
             [
              0.7777777777777778,
              "#fb9f3a"
             ],
             [
              0.8888888888888888,
              "#fdca26"
             ],
             [
              1,
              "#f0f921"
             ]
            ],
            "type": "histogram2dcontour"
           }
          ],
          "mesh3d": [
           {
            "colorbar": {
             "outlinewidth": 0,
             "ticks": ""
            },
            "type": "mesh3d"
           }
          ],
          "parcoords": [
           {
            "line": {
             "colorbar": {
              "outlinewidth": 0,
              "ticks": ""
             }
            },
            "type": "parcoords"
           }
          ],
          "pie": [
           {
            "automargin": true,
            "type": "pie"
           }
          ],
          "scatter": [
           {
            "fillpattern": {
             "fillmode": "overlay",
             "size": 10,
             "solidity": 0.2
            },
            "type": "scatter"
           }
          ],
          "scatter3d": [
           {
            "line": {
             "colorbar": {
              "outlinewidth": 0,
              "ticks": ""
             }
            },
            "marker": {
             "colorbar": {
              "outlinewidth": 0,
              "ticks": ""
             }
            },
            "type": "scatter3d"
           }
          ],
          "scattercarpet": [
           {
            "marker": {
             "colorbar": {
              "outlinewidth": 0,
              "ticks": ""
             }
            },
            "type": "scattercarpet"
           }
          ],
          "scattergeo": [
           {
            "marker": {
             "colorbar": {
              "outlinewidth": 0,
              "ticks": ""
             }
            },
            "type": "scattergeo"
           }
          ],
          "scattergl": [
           {
            "marker": {
             "colorbar": {
              "outlinewidth": 0,
              "ticks": ""
             }
            },
            "type": "scattergl"
           }
          ],
          "scattermapbox": [
           {
            "marker": {
             "colorbar": {
              "outlinewidth": 0,
              "ticks": ""
             }
            },
            "type": "scattermapbox"
           }
          ],
          "scatterpolar": [
           {
            "marker": {
             "colorbar": {
              "outlinewidth": 0,
              "ticks": ""
             }
            },
            "type": "scatterpolar"
           }
          ],
          "scatterpolargl": [
           {
            "marker": {
             "colorbar": {
              "outlinewidth": 0,
              "ticks": ""
             }
            },
            "type": "scatterpolargl"
           }
          ],
          "scatterternary": [
           {
            "marker": {
             "colorbar": {
              "outlinewidth": 0,
              "ticks": ""
             }
            },
            "type": "scatterternary"
           }
          ],
          "surface": [
           {
            "colorbar": {
             "outlinewidth": 0,
             "ticks": ""
            },
            "colorscale": [
             [
              0,
              "#0d0887"
             ],
             [
              0.1111111111111111,
              "#46039f"
             ],
             [
              0.2222222222222222,
              "#7201a8"
             ],
             [
              0.3333333333333333,
              "#9c179e"
             ],
             [
              0.4444444444444444,
              "#bd3786"
             ],
             [
              0.5555555555555556,
              "#d8576b"
             ],
             [
              0.6666666666666666,
              "#ed7953"
             ],
             [
              0.7777777777777778,
              "#fb9f3a"
             ],
             [
              0.8888888888888888,
              "#fdca26"
             ],
             [
              1,
              "#f0f921"
             ]
            ],
            "type": "surface"
           }
          ],
          "table": [
           {
            "cells": {
             "fill": {
              "color": "#EBF0F8"
             },
             "line": {
              "color": "white"
             }
            },
            "header": {
             "fill": {
              "color": "#C8D4E3"
             },
             "line": {
              "color": "white"
             }
            },
            "type": "table"
           }
          ]
         },
         "layout": {
          "annotationdefaults": {
           "arrowcolor": "#2a3f5f",
           "arrowhead": 0,
           "arrowwidth": 1
          },
          "autotypenumbers": "strict",
          "coloraxis": {
           "colorbar": {
            "outlinewidth": 0,
            "ticks": ""
           }
          },
          "colorscale": {
           "diverging": [
            [
             0,
             "#8e0152"
            ],
            [
             0.1,
             "#c51b7d"
            ],
            [
             0.2,
             "#de77ae"
            ],
            [
             0.3,
             "#f1b6da"
            ],
            [
             0.4,
             "#fde0ef"
            ],
            [
             0.5,
             "#f7f7f7"
            ],
            [
             0.6,
             "#e6f5d0"
            ],
            [
             0.7,
             "#b8e186"
            ],
            [
             0.8,
             "#7fbc41"
            ],
            [
             0.9,
             "#4d9221"
            ],
            [
             1,
             "#276419"
            ]
           ],
           "sequential": [
            [
             0,
             "#0d0887"
            ],
            [
             0.1111111111111111,
             "#46039f"
            ],
            [
             0.2222222222222222,
             "#7201a8"
            ],
            [
             0.3333333333333333,
             "#9c179e"
            ],
            [
             0.4444444444444444,
             "#bd3786"
            ],
            [
             0.5555555555555556,
             "#d8576b"
            ],
            [
             0.6666666666666666,
             "#ed7953"
            ],
            [
             0.7777777777777778,
             "#fb9f3a"
            ],
            [
             0.8888888888888888,
             "#fdca26"
            ],
            [
             1,
             "#f0f921"
            ]
           ],
           "sequentialminus": [
            [
             0,
             "#0d0887"
            ],
            [
             0.1111111111111111,
             "#46039f"
            ],
            [
             0.2222222222222222,
             "#7201a8"
            ],
            [
             0.3333333333333333,
             "#9c179e"
            ],
            [
             0.4444444444444444,
             "#bd3786"
            ],
            [
             0.5555555555555556,
             "#d8576b"
            ],
            [
             0.6666666666666666,
             "#ed7953"
            ],
            [
             0.7777777777777778,
             "#fb9f3a"
            ],
            [
             0.8888888888888888,
             "#fdca26"
            ],
            [
             1,
             "#f0f921"
            ]
           ]
          },
          "colorway": [
           "#636efa",
           "#EF553B",
           "#00cc96",
           "#ab63fa",
           "#FFA15A",
           "#19d3f3",
           "#FF6692",
           "#B6E880",
           "#FF97FF",
           "#FECB52"
          ],
          "font": {
           "color": "#2a3f5f"
          },
          "geo": {
           "bgcolor": "white",
           "lakecolor": "white",
           "landcolor": "#E5ECF6",
           "showlakes": true,
           "showland": true,
           "subunitcolor": "white"
          },
          "hoverlabel": {
           "align": "left"
          },
          "hovermode": "closest",
          "mapbox": {
           "style": "light"
          },
          "paper_bgcolor": "white",
          "plot_bgcolor": "#E5ECF6",
          "polar": {
           "angularaxis": {
            "gridcolor": "white",
            "linecolor": "white",
            "ticks": ""
           },
           "bgcolor": "#E5ECF6",
           "radialaxis": {
            "gridcolor": "white",
            "linecolor": "white",
            "ticks": ""
           }
          },
          "scene": {
           "xaxis": {
            "backgroundcolor": "#E5ECF6",
            "gridcolor": "white",
            "gridwidth": 2,
            "linecolor": "white",
            "showbackground": true,
            "ticks": "",
            "zerolinecolor": "white"
           },
           "yaxis": {
            "backgroundcolor": "#E5ECF6",
            "gridcolor": "white",
            "gridwidth": 2,
            "linecolor": "white",
            "showbackground": true,
            "ticks": "",
            "zerolinecolor": "white"
           },
           "zaxis": {
            "backgroundcolor": "#E5ECF6",
            "gridcolor": "white",
            "gridwidth": 2,
            "linecolor": "white",
            "showbackground": true,
            "ticks": "",
            "zerolinecolor": "white"
           }
          },
          "shapedefaults": {
           "line": {
            "color": "#2a3f5f"
           }
          },
          "ternary": {
           "aaxis": {
            "gridcolor": "white",
            "linecolor": "white",
            "ticks": ""
           },
           "baxis": {
            "gridcolor": "white",
            "linecolor": "white",
            "ticks": ""
           },
           "bgcolor": "#E5ECF6",
           "caxis": {
            "gridcolor": "white",
            "linecolor": "white",
            "ticks": ""
           }
          },
          "title": {
           "x": 0.05
          },
          "xaxis": {
           "automargin": true,
           "gridcolor": "white",
           "linecolor": "white",
           "ticks": "",
           "title": {
            "standoff": 15
           },
           "zerolinecolor": "white",
           "zerolinewidth": 2
          },
          "yaxis": {
           "automargin": true,
           "gridcolor": "white",
           "linecolor": "white",
           "ticks": "",
           "title": {
            "standoff": 15
           },
           "zerolinecolor": "white",
           "zerolinewidth": 2
          }
         }
        },
        "title": {
         "text": "Average wine ratings of the countries"
        },
        "xaxis": {
         "anchor": "y",
         "domain": [
          0,
          1
         ],
         "title": {
          "text": "country"
         }
        },
        "yaxis": {
         "anchor": "x",
         "domain": [
          0,
          1
         ],
         "range": [
          4.3,
          4.6
         ],
         "title": {
          "text": "average_rating"
         }
        }
       }
      }
     },
     "metadata": {},
     "output_type": "display_data"
    }
   ],
   "source": [
    "import plotly.express as px\n",
    "\n",
    "fig = px.bar(top_win_countries_df, x = \"country\", y = \"average_rating\", title= \"Average wine ratings of the countries\")\n",
    "fig.update_yaxes(range=[4.3, 4.6])\n",
    "fig.show()"
   ]
  }
 ],
 "metadata": {
  "kernelspec": {
   "display_name": "venv",
   "language": "python",
   "name": "python3"
  },
  "language_info": {
   "codemirror_mode": {
    "name": "ipython",
    "version": 3
   },
   "file_extension": ".py",
   "mimetype": "text/x-python",
   "name": "python",
   "nbconvert_exporter": "python",
   "pygments_lexer": "ipython3",
   "version": "3.12.2"
  }
 },
 "nbformat": 4,
 "nbformat_minor": 2
}
